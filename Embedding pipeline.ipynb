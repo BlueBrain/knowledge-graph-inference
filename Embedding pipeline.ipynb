{
 "cells": [
  {
   "cell_type": "markdown",
   "metadata": {},
   "source": [
    "# Embedding pipeline"
   ]
  },
  {
   "cell_type": "markdown",
   "metadata": {},
   "source": [
    "Related JIRA tickets: \n",
    "* https://bbpteam.epfl.ch/project/issues/browse/DKE-718\n",
    "* https://bbpteam.epfl.ch/project/issues/browse/DKE-715"
   ]
  },
  {
   "cell_type": "markdown",
   "metadata": {},
   "source": [
    "Prerequisites:\n",
    "\n",
    "- Models have been built\n",
    "- Embedding service can read models from a dedicated Nexus project where all models are storerd\n",
    "- Model id equals the Nexus resource id of the EmbeddingModel resource"
   ]
  },
  {
   "cell_type": "markdown",
   "metadata": {},
   "source": [
    "Questions:\n",
    "\n",
    "* do we really need to url-encode tags ?\n",
    "* add missing types and properties to the context"
   ]
  },
  {
   "cell_type": "markdown",
   "metadata": {},
   "source": [
    "# Setup"
   ]
  },
  {
   "cell_type": "markdown",
   "metadata": {},
   "source": [
    "## Imports"
   ]
  },
  {
   "cell_type": "code",
   "execution_count": null,
   "metadata": {},
   "outputs": [],
   "source": [
    "import requests\n",
    "import getpass\n",
    "import uuid\n",
    "import os\n",
    "import math\n",
    "\n",
    "import numpy as np\n",
    "import nexussdk as nxs\n",
    "\n",
    "from collections import namedtuple\n",
    "from urllib.parse import quote_plus\n",
    "from kgforge.core import KnowledgeGraphForge\n",
    "from kgforge.specializations.mappings import DictionaryMapping\n",
    "from bluegraph.downstream import EmbeddingPipeline\n",
    "from bluegraph.core import GraphElementEmbedder"
   ]
  },
  {
   "cell_type": "code",
   "execution_count": null,
   "metadata": {},
   "outputs": [],
   "source": [
    "from kgforge.version import __version__\n",
    "print(__version__)"
   ]
  },
  {
   "cell_type": "markdown",
   "metadata": {},
   "source": [
    "## Helpers"
   ]
  },
  {
   "cell_type": "code",
   "execution_count": null,
   "metadata": {
    "tags": []
   },
   "outputs": [],
   "source": [
    "def get_vector_dimensions(embeddings):\n",
    "    dimensions = list()\n",
    "    for embedding in embeddings.values():\n",
    "        dimensions.append(len(embedding))\n",
    "    if len(set(dimensions)) == 1:\n",
    "        dimension = dimensions[0]\n",
    "    else:\n",
    "        print(\"Not all embedding vectors have the same dimension\")\n",
    "    return dimension\n",
    "\n",
    "def get_es_view_mappings(dimension):\n",
    "    mappings = {\n",
    "            \"properties\": {\n",
    "              \"@id\": {\n",
    "                \"type\": \"keyword\"\n",
    "              },\n",
    "              \"@type\": {\n",
    "                \"type\": \"keyword\"\n",
    "              },\n",
    "              \"derivation\": {\n",
    "                \"properties\": {\n",
    "                  \"entity\": {\n",
    "                    \"properties\": {\n",
    "                      \"@id\": {\n",
    "                        \"type\": \"keyword\"\n",
    "                      }\n",
    "                    },\n",
    "                    \"type\": \"nested\"\n",
    "                  }\n",
    "                },\n",
    "                \"type\": \"nested\"\n",
    "              },\n",
    "              \"embedding\": {\n",
    "                \"dims\": dimension,\n",
    "                \"type\": \"dense_vector\"\n",
    "              },\n",
    "              \"generation\": {\n",
    "                \"properties\": {\n",
    "                  \"activity\": {\n",
    "                    \"properties\": {\n",
    "                      \"used\": {\n",
    "                        \"properties\": {\n",
    "                          \"@id\": {\n",
    "                            \"type\": \"keyword\"\n",
    "                          }\n",
    "                        },\n",
    "                        \"type\": \"nested\"\n",
    "                      }\n",
    "                    },\n",
    "                    \"type\": \"nested\"\n",
    "                  }\n",
    "                },\n",
    "                \"type\": \"nested\"\n",
    "              }\n",
    "            }\n",
    "          }\n",
    "    return mappings\n",
    "\n",
    "\n",
    "# TODO move the resource part out to avoid duplication\n",
    "def update_stats(forge, stats_resource, sample_size, stats, formula, param_name, tag):\n",
    "    stats_resource.scriptScore = formula\n",
    "    stats_resource.vectorParameter = param_name\n",
    "    stats_resource.series = forge.from_json([\n",
    "            {\n",
    "              \"statistic\": \"min\",\n",
    "              \"unitCode\": \"dimensionless\",\n",
    "              \"value\": stats.min\n",
    "            },\n",
    "            {\n",
    "              \"statistic\": \"max\",\n",
    "              \"unitCode\": \"dimensionless\",\n",
    "              \"value\": stats.max\n",
    "            },\n",
    "            {\n",
    "              \"statistic\": \"mean\",\n",
    "              \"unitCode\": \"dimensionless\",\n",
    "              \"value\": stats.mean\n",
    "            },\n",
    "            {\n",
    "              \"statistic\": \"standard deviation\",\n",
    "              \"unitCode\": \"dimensionless\",\n",
    "              \"value\": stats.std\n",
    "            },\n",
    "            {\n",
    "              \"statistic\": \"N\",\n",
    "              \"unitCode\": \"dimensionless\",\n",
    "              \"value\": sample_size\n",
    "            }\n",
    "        ])\n",
    "    forge.update(stats_resource)\n",
    "    forge.tag(stats_resource, tag) # TODO : Included tagging the statistics resources with the same tag as the embeddings ?\n",
    "    return stats_resource\n",
    "\n",
    "\n",
    "def update_boosting_data(forge, boosting_resource, view_id, deviation, formula, param_name, tag):\n",
    "    factors = [\n",
    "        {\"entity\": {\"@id\": k}, \"value\": 1 + v, \"unitCode\": \"dimensionless\"}\n",
    "        for k, v in deviation.items()\n",
    "    ]\n",
    "    boosting_resource.scriptScore = formula\n",
    "    boosting_resource.vectorParameter = param_name\n",
    "    boosting_resource.series = factors\n",
    "    forge.update(boosting_resource)\n",
    "    forge.tag(boosting_resource, tag) # TODO : Included tagging the boosting resource with the same tag as the embeddings ?\n",
    "    return boosting_resource"
   ]
  },
  {
   "cell_type": "code",
   "execution_count": null,
   "metadata": {},
   "outputs": [],
   "source": [
    "# This part was taken from Eugenia Oshurko's \"Compute and register view statistics and boosting.ipynb\" notebook"
   ]
  },
  {
   "cell_type": "code",
   "execution_count": null,
   "metadata": {
    "tags": []
   },
   "outputs": [],
   "source": [
    "def set_elastic_view(forge, view):\n",
    "    forge._store.service.elastic_endpoint[\"endpoint\"] = \"/\".join(\n",
    "        (views_endpoint, quote_plus(view), \"_search\"))\n",
    "\n",
    "    \n",
    "def get_all_vectors(forge, resource_limit):\n",
    "    all_embeddings = forge.elastic(f\"\"\"{{\n",
    "        \"from\" : 0,\n",
    "        \"size\" : {resource_limit},\n",
    "        \"query\": {{\n",
    "            \"term\": {{\"_deprecated\": false}}\n",
    "        }}\n",
    "    }}\n",
    "    \"\"\")\n",
    "    vectors = {\n",
    "        result._source[\"@id\"]: result._source[\"embedding\"]\n",
    "        for result in all_embeddings\n",
    "    }\n",
    "    return vectors\n",
    "\n",
    "\n",
    "def get_all_scores(forge, vectors, formula, param_name, resource_limit=200, boosting=None):\n",
    "    score_values = set()\n",
    "    for k, vector in vectors.items():\n",
    "        query = f\"\"\"{{\n",
    "          \"size\": {len(vectors)},\n",
    "          \"query\": {{\n",
    "            \"script_score\": {{\n",
    "                \"query\": {{\n",
    "                    \"bool\" : {{\n",
    "                      \"must_not\" : {{\n",
    "                        \"term\" : {{ \"@id\": \"{k}\" }}\n",
    "                      }},\n",
    "                      \"must\": {{ \"exists\": {{ \"field\": \"embedding\" }} }}\n",
    "                    }}\n",
    "                }},\n",
    "                \"script\": {{\n",
    "                    \"source\": \"{formula}\",\n",
    "                    \"params\": {{\n",
    "                      \"{param_name}\": {vector}\n",
    "                    }}\n",
    "                }}\n",
    "            }}\n",
    "          }}\n",
    "        }}\"\"\"\n",
    "\n",
    "        res = forge.elastic(query)\n",
    "        for el in res:\n",
    "            boost_factor = 1\n",
    "            if boosting:\n",
    "                boost_factor = 1 + boosting[el._source[\"@id\"]]\n",
    "            score_values.add(el._score * boost_factor)\n",
    "    score_values = np.array(list(score_values))\n",
    "    return score_values\n",
    "\n",
    "\n",
    "def get_view_stats(forge, vectors, formula, param_name, resource_limit=200, boosting=None):\n",
    "    Statistics = namedtuple('Statistics', 'min max mean std')\n",
    "    score_values = get_all_scores(\n",
    "        forge, vectors, formula, param_name, resource_limit, boosting)\n",
    "    return score_values, Statistics(\n",
    "        score_values.min(),\n",
    "        score_values.max(),\n",
    "        score_values.mean(),\n",
    "        score_values.std())\n",
    "\n",
    "\n",
    "def register_stats(forge, view_id, sample_size, stats, formula, param_name, tag, boosting_resource=None):\n",
    "    json_data = {\n",
    "        \"type\": \"ElasticSearchViewStatistics\",\n",
    "        \"scriptScore\": formula,\n",
    "        \"vectorParameter\": param_name,\n",
    "        \"series\": [\n",
    "            {\n",
    "              \"statistic\": \"min\",\n",
    "              \"unitCode\": \"dimensionless\",\n",
    "              \"value\": stats.min\n",
    "            },\n",
    "            {\n",
    "              \"statistic\": \"max\",\n",
    "              \"unitCode\": \"dimensionless\",\n",
    "              \"value\": stats.max\n",
    "            },\n",
    "            {\n",
    "              \"statistic\": \"mean\",\n",
    "              \"unitCode\": \"dimensionless\",\n",
    "              \"value\": stats.mean\n",
    "            },\n",
    "            {\n",
    "              \"statistic\": \"standard deviation\",\n",
    "              \"unitCode\": \"dimensionless\",\n",
    "              \"value\": stats.std\n",
    "            },\n",
    "            {\n",
    "              \"statistic\": \"N\",\n",
    "              \"unitCode\": \"dimensionless\",\n",
    "              \"value\": sample_size\n",
    "            }\n",
    "        ],\n",
    "        \"derivation\": {\n",
    "            \"type\": \"Derivation\",\n",
    "            \"entity\": {\n",
    "                \"id\": view_id\n",
    "            }\n",
    "        }\n",
    "    }\n",
    "    if boosting_resource:\n",
    "        json_data[\"boosted\"] = True\n",
    "        json_data[\"generation\"] = {\n",
    "            \"type\": \"Generation\",\n",
    "            \"activity\": {\n",
    "                \"used\": {\n",
    "                    \"id\": boosting_resource.id # TODO : Include the boosting_resource version here?\n",
    "                }\n",
    "            }\n",
    "        }\n",
    "    else:\n",
    "        json_data[\"boosted\"] = False\n",
    "    stats_resource = forge.from_json(json_data)\n",
    "    forge.register(stats_resource)\n",
    "    forge.tag(stats_resource, tag) # TODO : Included tagging the statistics resources with the same tag as the embeddings ?\n",
    "    return stats_resource\n",
    "\n",
    "def get_score_deviation(forge, point_id, vector, k, formula, param_name):\n",
    "    query = f\"\"\"{{\n",
    "      \"size\": {k},\n",
    "      \"query\": {{\n",
    "        \"script_score\": {{\n",
    "          \"query\": {{\n",
    "                \"exists\": {{\n",
    "                    \"field\": \"embedding\"\n",
    "                }}\n",
    "          }},\n",
    "          \"script\": {{\n",
    "            \"source\": \"{formula}\",\n",
    "            \"params\": {{\n",
    "              \"{param_name}\": {vector}\n",
    "            }}\n",
    "          }}\n",
    "        }}\n",
    "      }}\n",
    "    }}\"\"\"\n",
    "\n",
    "    result = forge.elastic(query)\n",
    "    scores = set()\n",
    "    for el in result:\n",
    "        if point_id != el._source[\"@id\"]:\n",
    "            scores.add(el._score)\n",
    "    scores = np.array(list(scores))\n",
    "    return math.sqrt(((1 - scores)**2).mean())\n",
    "\n",
    "\n",
    "def register_boosting_data(forge, view_id, deviation, formula, param_name, tag):\n",
    "    factors = [\n",
    "        {\"entity\": {\"@id\": k}, \"value\": 1 + v, \"unitCode\": \"dimensionless\"}\n",
    "        for k, v in deviation.items()\n",
    "    ]\n",
    "    resource = forge.from_json({\n",
    "        \"type\": \"SimilarityBoostingSeries\",\n",
    "        \"scriptScore\": formula,\n",
    "        \"vectorParameter\": param_name,\n",
    "        \"series\": factors,\n",
    "        \"derivation\": {\n",
    "            \"type\": \"Derivation\",\n",
    "            \"entity\": {\n",
    "                \"id\": view_id\n",
    "            }\n",
    "        }\n",
    "    })\n",
    "    forge.register(resource)\n",
    "    forge.tag(resource, tag) # TODO : Included tagging the boosting resource with the same tag as the embeddings ?\n",
    "    return resource"
   ]
  },
  {
   "cell_type": "markdown",
   "metadata": {},
   "source": [
    "## User input"
   ]
  },
  {
   "cell_type": "code",
   "execution_count": null,
   "metadata": {},
   "outputs": [],
   "source": [
    "TOKEN = getpass.getpass()"
   ]
  },
  {
   "cell_type": "code",
   "execution_count": null,
   "metadata": {},
   "outputs": [],
   "source": [
    "ENDPOINT = \"https://staging.nexus.ocp.bbp.epfl.ch/v1\""
   ]
  },
  {
   "cell_type": "code",
   "execution_count": null,
   "metadata": {},
   "outputs": [],
   "source": [
    "DOWNLOAD_DIR = \"./data\""
   ]
  },
  {
   "cell_type": "code",
   "execution_count": null,
   "metadata": {},
   "outputs": [],
   "source": [
    "MODEL_ID = \"https://staging.nexus.ocp.bbp.epfl.ch/v1/resources/dke/embedder_catalog/_/e2b953b9-6724-4278-a1e5-3472bd63e374\" # TODO adjust"
   ]
  },
  {
   "cell_type": "code",
   "execution_count": null,
   "metadata": {},
   "outputs": [],
   "source": [
    "MODEL_REVISION = 4  # Specify a revision, if necessary"
   ]
  },
  {
   "cell_type": "code",
   "execution_count": null,
   "metadata": {},
   "outputs": [],
   "source": [
    "NEW_MODEL_REVISION = 5  # Specify a new model revision for \"Update Embedding resources\" use case"
   ]
  },
  {
   "cell_type": "code",
   "execution_count": null,
   "metadata": {},
   "outputs": [],
   "source": [
    "VIEW_NAME = \"test1\" # Fragment to be used in the view id for new ElasticSearchView resource"
   ]
  },
  {
   "cell_type": "code",
   "execution_count": null,
   "metadata": {},
   "outputs": [],
   "source": [
    "CONFIG_ID = \"https://bbp.epfl.ch/neurosciencegraph/data/d4c33156-18a6-4660-b35c-9c3a86a550ba\" # Id of the RecommenderConfiguration resource that is used by the UI"
   ]
  },
  {
   "cell_type": "code",
   "execution_count": null,
   "metadata": {},
   "outputs": [],
   "source": [
    "LIMIT = 200 # TODO could be a problem if not all of them taken"
   ]
  },
  {
   "cell_type": "markdown",
   "metadata": {},
   "source": [
    "---"
   ]
  },
  {
   "cell_type": "code",
   "execution_count": null,
   "metadata": {},
   "outputs": [],
   "source": [
    "formula = \"(cosineSimilarity(params.query_vector, doc['embedding']) + 1.0) / 2\""
   ]
  },
  {
   "cell_type": "code",
   "execution_count": null,
   "metadata": {},
   "outputs": [],
   "source": [
    "vector_parameter = \"query_vector\""
   ]
  },
  {
   "cell_type": "code",
   "execution_count": null,
   "metadata": {},
   "outputs": [],
   "source": [
    "tag = f\"{MODEL_ID.split('/')[-1]}?rev={MODEL_REVISION}\""
   ]
  },
  {
   "cell_type": "code",
   "execution_count": null,
   "metadata": {},
   "outputs": [],
   "source": [
    "new_tag = f\"{MODEL_ID.split('/')[-1]}?rev={NEW_MODEL_REVISION}\""
   ]
  },
  {
   "cell_type": "code",
   "execution_count": null,
   "metadata": {},
   "outputs": [],
   "source": [
    "view_id = f\"https://bbp.epfl.ch/neurosciencegraph/data/views/es/{VIEW_NAME}\""
   ]
  },
  {
   "cell_type": "markdown",
   "metadata": {},
   "source": [
    "## Forge sessions"
   ]
  },
  {
   "cell_type": "markdown",
   "metadata": {},
   "source": [
    "### Session for embedding models"
   ]
  },
  {
   "cell_type": "code",
   "execution_count": null,
   "metadata": {},
   "outputs": [],
   "source": [
    "forge_models = KnowledgeGraphForge(\n",
    "    \"https://raw.githubusercontent.com/BlueBrain/nexus-forge/master/examples/notebooks/use-cases/prod-forge-nexus.yml\",\n",
    "    endpoint=ENDPOINT,\n",
    "    token=TOKEN, \n",
    "    bucket=\"dke/embedder_catalog\")"
   ]
  },
  {
   "cell_type": "markdown",
   "metadata": {},
   "source": [
    "### Session for embedding resources"
   ]
  },
  {
   "cell_type": "code",
   "execution_count": null,
   "metadata": {},
   "outputs": [],
   "source": [
    "forge = KnowledgeGraphForge(\n",
    "    \"https://raw.githubusercontent.com/BlueBrain/nexus-forge/master/examples/notebooks/use-cases/prod-forge-nexus.yml\",\n",
    "    token=TOKEN, \n",
    "    endpoint=ENDPOINT,        \n",
    "    bucket=\"bbp_test/akk_snap_test2\")"
   ]
  },
  {
   "cell_type": "markdown",
   "metadata": {},
   "source": [
    "## Nexussdk session"
   ]
  },
  {
   "cell_type": "code",
   "execution_count": null,
   "metadata": {},
   "outputs": [],
   "source": [
    "nxs.config.set_environment(forge._store.endpoint)\n",
    "nxs.config.set_token(TOKEN)\n",
    "ORGANIZATION = forge._store.bucket.split(\"/\")[0]\n",
    "PROJECT = forge._store.bucket.split(\"/\")[-1]"
   ]
  },
  {
   "cell_type": "markdown",
   "metadata": {},
   "source": [
    "## Views endpoint"
   ]
  },
  {
   "cell_type": "code",
   "execution_count": null,
   "metadata": {},
   "outputs": [],
   "source": [
    "views_endpoint = \"/\".join((ENDPOINT, \"views\", quote_plus(ORGANIZATION), quote_plus(PROJECT)))"
   ]
  },
  {
   "cell_type": "markdown",
   "metadata": {},
   "source": [
    "# Create EmbeddingModel\n",
    "\n",
    "1. Create a new embedding model using BlueGraph\n",
    "2. Create EmbeddingModel resource according to DKE-744\n",
    "3. Push it to Nexus (using a dedicated project, where all models live)\n",
    "4. Restart the service"
   ]
  },
  {
   "cell_type": "code",
   "execution_count": null,
   "metadata": {},
   "outputs": [],
   "source": [
    "# TODO Inlude in \"Build Model for SEU Neuron Morphologies.ipynb\""
   ]
  },
  {
   "cell_type": "markdown",
   "metadata": {
    "tags": []
   },
   "source": [
    "# Create Embedding resources\n",
    "\n",
    "1. Given a model id, its revision, and a given a set of resources, ask the service[or some python code] for embedding vectors\n",
    "2. Create embedding resources according to [this mapping](https://bbpgitlab.epfl.ch/dke/users/eugeniashurko/dataset-embeddings/-/blob/master/mappings/seu-embedding.hjson)\n",
    "3. Push them to Nexus\n",
    "4. Tag them with the model `UUID` and its revision (e.g. `e2b953b9-6724-4278-a1e5-3472bd63e374?rev=1`)\n",
    "5. TODO: Check that the resources are indexed properly"
   ]
  },
  {
   "cell_type": "markdown",
   "metadata": {},
   "source": [
    "### Fetch embedding vectors"
   ]
  },
  {
   "cell_type": "code",
   "execution_count": null,
   "metadata": {},
   "outputs": [],
   "source": [
    "# This part was taken from Eugenia Oshurko's \"Fetch embeddings without the service.ipynb\" notebook"
   ]
  },
  {
   "cell_type": "code",
   "execution_count": null,
   "metadata": {},
   "outputs": [],
   "source": [
    "model_resource = forge_models.retrieve(f\"{MODEL_ID}{'?rev=' + str(MODEL_REVISION) if MODEL_REVISION is not None else ''}\")"
   ]
  },
  {
   "cell_type": "code",
   "execution_count": null,
   "metadata": {},
   "outputs": [],
   "source": [
    "forge_models.download(model_resource, \"distribution.contentUrl\", DOWNLOAD_DIR, overwrite=True)\n",
    "pipeline_path = os.path.join(DOWNLOAD_DIR, model_resource.distribution.name)"
   ]
  },
  {
   "cell_type": "code",
   "execution_count": null,
   "metadata": {},
   "outputs": [],
   "source": [
    "pipeline = EmbeddingPipeline.load(\n",
    "    pipeline_path,\n",
    "    embedder_interface=GraphElementEmbedder,\n",
    "    embedder_ext=\"zip\")"
   ]
  },
  {
   "cell_type": "code",
   "execution_count": null,
   "metadata": {},
   "outputs": [],
   "source": [
    "embedding_table = pipeline.generate_embedding_table()"
   ]
  },
  {
   "cell_type": "code",
   "execution_count": null,
   "metadata": {},
   "outputs": [],
   "source": [
    "selected_points = embedding_table.index # selected_points = embedding_table.sample(5).index"
   ]
  },
  {
   "cell_type": "code",
   "execution_count": null,
   "metadata": {},
   "outputs": [],
   "source": [
    "embeddings = dict(zip(selected_points, pipeline.retrieve_embeddings(selected_points)))"
   ]
  },
  {
   "cell_type": "markdown",
   "metadata": {},
   "source": [
    "### Map embedding vectors to resources"
   ]
  },
  {
   "cell_type": "markdown",
   "metadata": {},
   "source": [
    "- TODO: add the NeuronMorphology revision once available"
   ]
  },
  {
   "cell_type": "code",
   "execution_count": null,
   "metadata": {},
   "outputs": [],
   "source": [
    "embeddings_list = list()"
   ]
  },
  {
   "cell_type": "code",
   "execution_count": null,
   "metadata": {},
   "outputs": [],
   "source": [
    "for at_id, embedding in embeddings.items():\n",
    "    embeddings_list.append({\n",
    "        \"morphology_id\": at_id,\n",
    "        \"morphology_rev\": \"TODO\",\n",
    "        \"model_id\": MODEL_ID,\n",
    "        \"model_rev\": MODEL_REVISION,\n",
    "        \"embedding_name\": f\"Embedding of morphology {at_id.split('/')[-1]} at revision TODO\" ,\n",
    "        \"embedding\": embedding,\n",
    "        \"uuid\": at_id.split(\"/\")[-1]\n",
    "        \n",
    "    })"
   ]
  },
  {
   "cell_type": "code",
   "execution_count": null,
   "metadata": {},
   "outputs": [],
   "source": [
    "mapping = DictionaryMapping.load(\"./mappings/seu-embedding.hjson\")"
   ]
  },
  {
   "cell_type": "code",
   "execution_count": null,
   "metadata": {},
   "outputs": [],
   "source": [
    "embedding_resources = forge.map(embeddings_list, mapping)"
   ]
  },
  {
   "cell_type": "code",
   "execution_count": null,
   "metadata": {},
   "outputs": [],
   "source": [
    "for r in embedding_resources:\n",
    "    r.id = forge.format(\"identifier\", \"embeddings\", str(uuid.uuid4()))"
   ]
  },
  {
   "cell_type": "code",
   "execution_count": null,
   "metadata": {},
   "outputs": [],
   "source": [
    "# print(embedding_resources[0])"
   ]
  },
  {
   "cell_type": "code",
   "execution_count": null,
   "metadata": {},
   "outputs": [],
   "source": [
    "forge.register(embedding_resources)\n",
    "forge.tag(embedding_resources, tag)"
   ]
  },
  {
   "cell_type": "markdown",
   "metadata": {},
   "source": [
    "# Create ElasticSearchView\n",
    "\n",
    "1. Get dimensions of the embedding vectors\n",
    "2. Create a Nexus View resource with:\n",
    "- `resourceTypes` being `Embedding`\n",
    "- `dense_vector` with the right dimensions\n",
    "- `resourceTag` field corresponds to the model UUID and its revision (e.g. `e2b953b9-6724-4278-a1e5-3472bd63e374?rev=1`)\n",
    "\n",
    "TODO: Adapt the resource_types property to the proper `Embedding` type once it is added to the context\n"
   ]
  },
  {
   "cell_type": "code",
   "execution_count": null,
   "metadata": {},
   "outputs": [],
   "source": [
    "dimension = get_vector_dimensions(embeddings)"
   ]
  },
  {
   "cell_type": "code",
   "execution_count": null,
   "metadata": {},
   "outputs": [],
   "source": [
    "try:\n",
    "    es_view = nxs.views.create_es(ORGANIZATION, \n",
    "                                  PROJECT, \n",
    "                                  mapping = get_es_view_mappings(dimension),\n",
    "                                  tag = tag,\n",
    "                                  view_id = f\"https://bbp.epfl.ch/neurosciencegraph/data/views/es/{VIEW_NAME}\",\n",
    "                                  resource_types = [f\"https://staging.nexus.ocp.bbp.epfl.ch/v1/resources/{ORGANIZATION}/{PROJECT}/_/Embedding\"],\n",
    "                                  source_as_text = False, \n",
    "                                  include_metadata = True, \n",
    "                                  include_deprecated = False)\n",
    "except nxs.HTTPError as e:\n",
    "    print(e)"
   ]
  },
  {
   "cell_type": "markdown",
   "metadata": {},
   "source": [
    "# Create ElasticSearchViewStatistics resources (non-boosted)"
   ]
  },
  {
   "cell_type": "markdown",
   "metadata": {},
   "source": [
    "TODO: There can be a lag while resources are being indexed"
   ]
  },
  {
   "cell_type": "code",
   "execution_count": null,
   "metadata": {},
   "outputs": [],
   "source": [
    "# This part was taken from Eugenia Oshurko's \"Compute and register view statistics and boosting.ipynb\" notebook"
   ]
  },
  {
   "cell_type": "code",
   "execution_count": null,
   "metadata": {},
   "outputs": [],
   "source": [
    "set_elastic_view(forge, es_view[\"@id\"])\n",
    "vectors = get_all_vectors(forge, LIMIT)\n",
    "values, stats = get_view_stats(forge, vectors, formula, vector_parameter, LIMIT)\n",
    "stats_resource = register_stats(forge, es_view[\"@id\"], values.shape[0], stats, formula, vector_parameter, tag)"
   ]
  },
  {
   "cell_type": "markdown",
   "metadata": {},
   "source": [
    "# Create SimilarityBoostingData and ElasticSearchViewStatistics (boosted)"
   ]
  },
  {
   "cell_type": "code",
   "execution_count": null,
   "metadata": {},
   "outputs": [],
   "source": [
    "# This part was taken from Eugenia Oshurko's \"Compute and register view statistics and boosting.ipynb\" notebook"
   ]
  },
  {
   "cell_type": "code",
   "execution_count": null,
   "metadata": {
    "scrolled": true
   },
   "outputs": [],
   "source": [
    "set_elastic_view(forge, es_view[\"@id\"])\n",
    "deviations = dict()\n",
    "vectors = get_all_vectors(forge, LIMIT)\n",
    "for point_id, vector in vectors.items():\n",
    "    deviations[point_id] = get_score_deviation(\n",
    "        forge, point_id, vector, 10, formula, vector_parameter)"
   ]
  },
  {
   "cell_type": "code",
   "execution_count": null,
   "metadata": {
    "scrolled": true
   },
   "outputs": [],
   "source": [
    "boosting_resource = register_boosting_data(\n",
    "        forge, es_view[\"@id\"], deviations, formula, vector_parameter, tag)"
   ]
  },
  {
   "cell_type": "code",
   "execution_count": null,
   "metadata": {
    "scrolled": true
   },
   "outputs": [],
   "source": [
    "vectors = get_all_vectors(forge, LIMIT)\n",
    "values, stats = get_view_stats(forge, vectors, formula, vector_parameter, LIMIT, deviations)\n",
    "stats_resource = register_stats(forge, es_view[\"@id\"], values.shape[0], stats, formula, vector_parameter, tag, boosting_resource)"
   ]
  },
  {
   "cell_type": "markdown",
   "metadata": {},
   "source": [
    "# Create or update RecommenderConfiguration resource"
   ]
  },
  {
   "cell_type": "markdown",
   "metadata": {},
   "source": [
    "- TODO: Check whether this needs a separate forge session (bbp/atlas)\n",
    "- TODO: Check whether we need versions of e.g. model, statistics resources etc"
   ]
  },
  {
   "cell_type": "markdown",
   "metadata": {},
   "source": [
    "## Create RecommenderConfiguration resource"
   ]
  },
  {
   "cell_type": "code",
   "execution_count": null,
   "metadata": {},
   "outputs": [],
   "source": [
    "config_resource = forge.from_json({\n",
    "    \"type\": \"RecommenderConfiguration\",\n",
    "    \"configuration\": [\n",
    "        {\n",
    "            \"view\": {\"id\": es_view[\"@id\"]},\n",
    "            \"model\": {\"id\": model_resource.id},\n",
    "            \"statistics\": {\"id\": stats_resource.id}\n",
    "        }\n",
    "    ]\n",
    "})"
   ]
  },
  {
   "cell_type": "code",
   "execution_count": null,
   "metadata": {},
   "outputs": [],
   "source": [
    "forge.register(config_resource)"
   ]
  },
  {
   "cell_type": "markdown",
   "metadata": {},
   "source": [
    "## Update RecommenderConfiguration resource"
   ]
  },
  {
   "cell_type": "markdown",
   "metadata": {},
   "source": [
    "TODO: Check that the config is not already in the list"
   ]
  },
  {
   "cell_type": "code",
   "execution_count": null,
   "metadata": {},
   "outputs": [],
   "source": [
    "config_resource = forge.retrieve(CONFIG_ID)"
   ]
  },
  {
   "cell_type": "code",
   "execution_count": null,
   "metadata": {},
   "outputs": [],
   "source": [
    "if isinstance(config_resource.configuration, list):\n",
    "    config_resource.configuration.append(\n",
    "        forge.from_json({\n",
    "                \"view\": {\"id\": es_view[\"@id\"]},\n",
    "                \"model\": {\"id\": model_resource.id},\n",
    "                \"statistics\": {\"id\": stats_resource.id}\n",
    "    }))\n",
    "else:\n",
    "    config_resource.configuration = [\n",
    "        config_resource.configuration,\n",
    "        forge.from_json({\n",
    "                \"view\": {\"id\": es_view[\"@id\"]},\n",
    "                \"model\": {\"id\": model_resource.id},\n",
    "                \"statistics\": {\"id\": stats_resource.id}\n",
    "    })\n",
    "]"
   ]
  },
  {
   "cell_type": "code",
   "execution_count": null,
   "metadata": {},
   "outputs": [],
   "source": [
    "forge.update(config_resource)"
   ]
  },
  {
   "cell_type": "markdown",
   "metadata": {},
   "source": [
    "# Update EmbeddingModel\n",
    "\n",
    "A new revision of the model is created when we want to:\n",
    "\n",
    "change graph representation/hyperparameters/training set/dimesionionality\n",
    "use another algorithm\n",
    "i.e. anything that may change the resulting embedding vectors, but does not change the purpose of the model.\n",
    "\n",
    "1. Fetch the existing model resource\n",
    "2. Update the distribution (or meta-data, if necessary)\n",
    "3. Update in Nexus"
   ]
  },
  {
   "cell_type": "code",
   "execution_count": null,
   "metadata": {},
   "outputs": [],
   "source": [
    "# TODO Inlude in \"Build Model for SEU Neuron Morphologies.ipynb\""
   ]
  },
  {
   "cell_type": "markdown",
   "metadata": {},
   "source": [
    "# Update Embedding resources\n",
    "\n",
    "We want to update Embedding resources when there is a new version of a model\n",
    "\n",
    "1. Fetch embedding resources given the model id and the set of resources\n",
    "2. Ask the service[or some python code] for the new embedding vectors\n",
    "3. Update embedding resources with the new vectors and the new model revision in `generation.activity.used.id`\n",
    "4. Update in Nexus\n",
    "5. Tag them with the model UUID and the its revision (e.g. `e2b953b9-6724-4278-a1e5-3472bd63e374?rev=2`)\n",
    "6. TODO: Check that the resources are indexed properly"
   ]
  },
  {
   "cell_type": "markdown",
   "metadata": {},
   "source": [
    "### Fetch new embedding vectors"
   ]
  },
  {
   "cell_type": "code",
   "execution_count": null,
   "metadata": {},
   "outputs": [],
   "source": [
    "# This part was taken from Eugenia Oshurko's \"Fetch embeddings without the service.ipynb\" notebook"
   ]
  },
  {
   "cell_type": "code",
   "execution_count": null,
   "metadata": {},
   "outputs": [],
   "source": [
    "model_resource = forge_models.retrieve(f\"{MODEL_ID}{'?rev=' + str(NEW_MODEL_REVISION) if NEW_MODEL_REVISION is not None else ''}\")"
   ]
  },
  {
   "cell_type": "code",
   "execution_count": null,
   "metadata": {},
   "outputs": [],
   "source": [
    "forge_models.download(model_resource, \"distribution.contentUrl\", DOWNLOAD_DIR, overwrite=True)\n",
    "pipeline_path = os.path.join(DOWNLOAD_DIR, model_resource.distribution.name)"
   ]
  },
  {
   "cell_type": "code",
   "execution_count": null,
   "metadata": {},
   "outputs": [],
   "source": [
    "pipeline = EmbeddingPipeline.load(\n",
    "    pipeline_path,\n",
    "    embedder_interface=GraphElementEmbedder,\n",
    "    embedder_ext=\"zip\")"
   ]
  },
  {
   "cell_type": "code",
   "execution_count": null,
   "metadata": {},
   "outputs": [],
   "source": [
    "embedding_table = pipeline.generate_embedding_table()"
   ]
  },
  {
   "cell_type": "code",
   "execution_count": null,
   "metadata": {},
   "outputs": [],
   "source": [
    "selected_points = embedding_table.index"
   ]
  },
  {
   "cell_type": "code",
   "execution_count": null,
   "metadata": {},
   "outputs": [],
   "source": [
    "updated_embeddings = dict(zip(selected_points, pipeline.retrieve_embeddings(selected_points)))"
   ]
  },
  {
   "cell_type": "markdown",
   "metadata": {},
   "source": [
    "### Fetch old embedding vectors from Nexus\n",
    "\n",
    "- TODO: include update of the wasAssociatedWith property of the Embedding resources\n",
    "- TODO: add the NeuronMorphology revision once available\n"
   ]
  },
  {
   "cell_type": "code",
   "execution_count": null,
   "metadata": {},
   "outputs": [],
   "source": [
    "# This part was taken from Eugenia Oshurko's \"Fetch embeddings without the service.ipynb\" notebook"
   ]
  },
  {
   "cell_type": "code",
   "execution_count": null,
   "metadata": {},
   "outputs": [],
   "source": [
    "set_elastic_view(forge, view_id)"
   ]
  },
  {
   "cell_type": "code",
   "execution_count": null,
   "metadata": {},
   "outputs": [],
   "source": [
    "embedding_resources = forge.elastic(f\"\"\"{{\n",
    "        \"from\" : 0,\n",
    "        \"size\" : {LIMIT},\n",
    "        \"query\": {{\n",
    "            \"term\": {{\"_deprecated\": false}}\n",
    "        }}\n",
    "    }}\n",
    "    \"\"\")"
   ]
  },
  {
   "cell_type": "code",
   "execution_count": null,
   "metadata": {},
   "outputs": [],
   "source": [
    "embedding_resources = [forge.retrieve(e._id) for e in embedding_resources]"
   ]
  },
  {
   "cell_type": "code",
   "execution_count": null,
   "metadata": {},
   "outputs": [],
   "source": [
    "for e in embedding_resources:\n",
    "    e.embedding = updated_embeddings[e.derivation.entity.id]\n",
    "    e.derivation.entity.hasSelector.value = f\"?rev=TODO\"\n",
    "    e.generation.activity.used.hasSelector.value = f\"?rev={NEW_MODEL_REVISION}\"    "
   ]
  },
  {
   "cell_type": "code",
   "execution_count": null,
   "metadata": {},
   "outputs": [],
   "source": [
    "forge.update(embedding_resources)\n",
    "forge.tag(embedding_resources, new_tag)"
   ]
  },
  {
   "cell_type": "markdown",
   "metadata": {},
   "source": [
    "# Update ElasticSearchView for the updated model\n",
    "\n",
    "1. Fetch the view\n",
    "2. Get dimensions from the updated model\n",
    "3. Update the view resource with\n",
    "\n",
    "in the mapping we specify \n",
    "- `dense_vector` with the right dimensions\n",
    "- `resourceTag` with the model UUID and the new revision (e.g. `e2b953b9-6724-4278-a1e5-3472bd63e374?rev=2`)"
   ]
  },
  {
   "cell_type": "code",
   "execution_count": null,
   "metadata": {},
   "outputs": [],
   "source": [
    "dimension = get_vector_dimensions(updated_embeddings)"
   ]
  },
  {
   "cell_type": "code",
   "execution_count": null,
   "metadata": {},
   "outputs": [],
   "source": [
    "nxs.config.set_environment(forge._store.endpoint)\n",
    "nxs.config.set_token(TOKEN)\n",
    "ORGANIZATION = forge._store.bucket.split(\"/\")[0]\n",
    "PROJECT = forge._store.bucket.split(\"/\")[-1]\n",
    "try:\n",
    "    es_view = nxs.views.fetch(ORGANIZATION, \n",
    "                                  PROJECT, \n",
    "                                  view_id = view_id)\n",
    "    es_view[\"mapping\"] = get_es_view_mappings(dimension)\n",
    "    es_view[\"resourceTag\"] = new_tag\n",
    "    nxs.views.update_es(es_view)\n",
    "except nxs.HTTPError as e:\n",
    "    print(e)"
   ]
  },
  {
   "cell_type": "markdown",
   "metadata": {},
   "source": [
    "# Update ElasticSearchViewStatistics resources (non-boosted)"
   ]
  },
  {
   "cell_type": "markdown",
   "metadata": {},
   "source": [
    "- TODO: check that there is only one resource returned"
   ]
  },
  {
   "cell_type": "code",
   "execution_count": null,
   "metadata": {},
   "outputs": [],
   "source": [
    "stats_resource = forge.search({\n",
    "    \"type\": \"ElasticSearchViewStatistics\",\n",
    "    \"derivation\": {\n",
    "        \"entity\": {\n",
    "            \"id\": es_view[\"@id\"]\n",
    "        }\n",
    "    },\n",
    "    \"boosted\": False\n",
    "})[0]"
   ]
  },
  {
   "cell_type": "code",
   "execution_count": null,
   "metadata": {},
   "outputs": [],
   "source": [
    "set_elastic_view(forge, es_view[\"@id\"])\n",
    "vectors = get_all_vectors(forge, LIMIT)\n",
    "values, stats = get_view_stats(forge, vectors, formula, vector_parameter, LIMIT)\n",
    "updated_stats_resource = update_stats(forge, stats_resource, values.shape[0], stats, formula, vector_parameter, new_tag)"
   ]
  },
  {
   "cell_type": "markdown",
   "metadata": {},
   "source": [
    "# Update SimilarityBoostingData and ElasticSearchViewStatistics (boosted)"
   ]
  },
  {
   "cell_type": "code",
   "execution_count": null,
   "metadata": {},
   "outputs": [],
   "source": [
    "boosted_stats_resource = forge.search({\n",
    "    \"type\": \"ElasticSearchViewStatistics\",\n",
    "    \"derivation\": {\n",
    "        \"entity\": {\n",
    "            \"id\": es_view[\"@id\"]\n",
    "        }\n",
    "    },\n",
    "    \"boosted\": True\n",
    "})[0]"
   ]
  },
  {
   "cell_type": "code",
   "execution_count": null,
   "metadata": {},
   "outputs": [],
   "source": [
    "boosting_resource = forge.search({\n",
    "    \"type\": \"SimilarityBoostingSeries\",\n",
    "    \"derivation\": {\n",
    "        \"entity\": {\n",
    "            \"id\": es_view[\"@id\"]\n",
    "        }\n",
    "    }\n",
    "})[0]"
   ]
  },
  {
   "cell_type": "code",
   "execution_count": null,
   "metadata": {
    "scrolled": true
   },
   "outputs": [],
   "source": [
    "set_elastic_view(forge, es_view[\"@id\"])\n",
    "updated_deviations = dict()\n",
    "vectors = get_all_vectors(forge, LIMIT)\n",
    "for point_id, vector in vectors.items():\n",
    "    updated_deviations[point_id] = get_score_deviation(\n",
    "        forge, point_id, vector, 10, formula, vector_parameter)"
   ]
  },
  {
   "cell_type": "code",
   "execution_count": null,
   "metadata": {
    "scrolled": true
   },
   "outputs": [],
   "source": [
    "updated_boosting_data_resource = update_boosting_data(\n",
    "        forge, boosting_resource, es_view[\"@id\"], updated_deviations, formula, vector_parameter, new_tag)"
   ]
  },
  {
   "cell_type": "code",
   "execution_count": null,
   "metadata": {
    "scrolled": true
   },
   "outputs": [],
   "source": [
    "boosted_global_stats, stats = get_view_stats(\n",
    "        forge, vectors, formula, vector_parameter, LIMIT, updated_deviations)\n",
    "updated_boosted_stats_resource = update_stats(forge, boosted_stats_resource, LIMIT, stats, formula, vector_parameter, new_tag)"
   ]
  },
  {
   "cell_type": "markdown",
   "metadata": {},
   "source": [
    "# TO BE REMOVED"
   ]
  },
  {
   "cell_type": "markdown",
   "metadata": {},
   "source": [
    "url encoding a string"
   ]
  },
  {
   "cell_type": "code",
   "execution_count": null,
   "metadata": {},
   "outputs": [],
   "source": [
    "import urllib.parse"
   ]
  },
  {
   "cell_type": "code",
   "execution_count": null,
   "metadata": {},
   "outputs": [],
   "source": [
    "es_id = \"https://bluebrain.github.io/nexus/vocabulary/defaultElasticSearchIndex\""
   ]
  },
  {
   "cell_type": "code",
   "execution_count": null,
   "metadata": {},
   "outputs": [],
   "source": [
    "es_encoded = urllib.parse.quote(es_id, safe='')"
   ]
  }
 ],
 "metadata": {
  "kernelspec": {
   "display_name": "bg",
   "language": "python",
   "name": "bg"
  },
  "language_info": {
   "codemirror_mode": {
    "name": "ipython",
    "version": 3
   },
   "file_extension": ".py",
   "mimetype": "text/x-python",
   "name": "python",
   "nbconvert_exporter": "python",
   "pygments_lexer": "ipython3",
   "version": "3.7.10"
  },
  "toc-autonumbering": true,
  "toc-showtags": true
 },
 "nbformat": 4,
 "nbformat_minor": 4
}
