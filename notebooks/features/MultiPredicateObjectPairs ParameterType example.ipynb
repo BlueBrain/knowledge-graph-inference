{
 "cells": [
  {
   "cell_type": "code",
   "execution_count": 1,
   "metadata": {},
   "outputs": [],
   "source": [
    "import getpass\n",
    "import json\n",
    "import uuid\n",
    "import os \n",
    "\n",
    "from kgforge.core import KnowledgeGraphForge\n",
    "from inference_tools.utils import execute_query, _allocate_forge_session"
   ]
  },
  {
   "cell_type": "code",
   "execution_count": 3,
   "metadata": {},
   "outputs": [],
   "source": [
    "searchendpoints = {\n",
    "        \"sparql\": {\n",
    "           \"endpoint\": \"https://bbp.epfl.ch/neurosciencegraph/data/views/aggreg-sp/dataset\"\n",
    "       }\n",
    "    }\n",
    "\n",
    "allocate_forge_session = lambda org, project: _allocate_forge_session(org, project, config_file_path=\"../../configs/test-config.yaml\", searchendpoints=searchendpoints, token_file_path=\"token.txt\")"
   ]
  },
  {
   "cell_type": "code",
   "execution_count": 23,
   "metadata": {},
   "outputs": [
    {
     "name": "stdout",
     "output_type": "stream",
     "text": [
      "Submitted query:\n",
      "   PREFIX bmc: <https://bbp.epfl.ch/ontologies/core/bmc/>\n",
      "   PREFIX bmo: <https://bbp.epfl.ch/ontologies/core/bmo/>\n",
      "   PREFIX commonshapes: <https://neuroshapes.org/commons/>\n",
      "   PREFIX datashapes: <https://neuroshapes.org/dash/>\n",
      "   PREFIX dc: <http://purl.org/dc/elements/1.1/>\n",
      "   PREFIX dcat: <http://www.w3.org/ns/dcat#>\n",
      "   PREFIX dcterms: <http://purl.org/dc/terms/>\n",
      "   PREFIX mba: <http://api.brain-map.org/api/v2/data/Structure/>\n",
      "   PREFIX nsg: <https://neuroshapes.org/>\n",
      "   PREFIX nxv: <https://bluebrain.github.io/nexus/vocabulary/>\n",
      "   PREFIX oa: <http://www.w3.org/ns/oa#>\n",
      "   PREFIX obo: <http://purl.obolibrary.org/obo/>\n",
      "   PREFIX owl: <http://www.w3.org/2002/07/owl#>\n",
      "   PREFIX prov: <http://www.w3.org/ns/prov#>\n",
      "   PREFIX rdf: <http://www.w3.org/1999/02/22-rdf-syntax-ns#>\n",
      "   PREFIX rdfs: <http://www.w3.org/2000/01/rdf-schema#>\n",
      "   PREFIX schema: <http://schema.org/>\n",
      "   PREFIX sh: <http://www.w3.org/ns/shacl#>\n",
      "   PREFIX shsh: <http://www.w3.org/ns/shacl-shacl#>\n",
      "   PREFIX skos: <http://www.w3.org/2004/02/skos/core#>\n",
      "   PREFIX vann: <http://purl.org/vocab/vann/>\n",
      "   PREFIX void: <http://rdfs.org/ns/void#>\n",
      "   PREFIX xml: <http://www.w3.org/XML/1998/namespace/>\n",
      "   PREFIX xsd: <http://www.w3.org/2001/XMLSchema#>\n",
      "   PREFIX : <https://bbp.epfl.ch/nexus/v1/resources/bbp/atlas/_/>\n",
      "   \n",
      "           SELECT ?id ?br ?wu\n",
      "           WHERE { \n",
      "               ?id rdf:type <https://neuroshapes.org/NeuronMorphology> .\n",
      "               ?id nsg:contribution/prov:agent <https://bbp.epfl.ch/neurosciencegraph/data/7c47aa15-9fc6-42ec-9871-d233c9c29028> .\n",
      "               ?id nsg:brainLocation/nsg:brainRegion ?br .\n",
      "               ?id nsg:somaNumberOfPoints ?wu\n",
      "               }\n",
      "       \n",
      "\n"
     ]
    },
    {
     "data": {
      "text/plain": [
       "136"
      ]
     },
     "execution_count": 23,
     "metadata": {},
     "output_type": "execute_result"
    }
   ],
   "source": [
    "q = {\n",
    "    \"type\": \"SparqlQuery\",\n",
    "    \"hasBody\": \n",
    "    \"\"\"\n",
    "        SELECT ?id ?br ?wu\n",
    "        WHERE { \n",
    "            ?id $user_context .\n",
    "            ?id nsg:brainLocation/nsg:brainRegion ?br .\n",
    "            ?id nsg:somaNumberOfPoints ?wu\n",
    "            }\n",
    "    \"\"\",\n",
    "    \"hasParameter\": [\n",
    "        {\n",
    "            \"type\": \"MultiPredicateObjectPair\",\n",
    "            \"description\": \"paths to the properties being checked\",\n",
    "            \"name\": \"user_context\"\n",
    "        },\n",
    "        {\n",
    "            \"type\": \"path\",\n",
    "            \"description\": \"some other passed param that should still exist\",\n",
    "            \"name\": \"PathQueryParameter\"\n",
    "        },\n",
    "    ],\n",
    "    \"queryConfiguration\": {\n",
    "        \"sparlqlView\": {\n",
    "            \"id\": \"https://bbp.epfl.ch/neurosciencegraph/data/views/aggreg-sp/dataset\"\n",
    "        },\n",
    "        \"org\": \"bbp\",\n",
    "        \"project\": \"atlas\"\n",
    "    },\n",
    "    \"resultParameterMapping\": [\n",
    "        {\n",
    "            \"parameterName\": \"entityBr\",\n",
    "            \"path\": \"br\"\n",
    "        },\n",
    "        {\n",
    "            \"parameterName\": \"entity\",\n",
    "            \"path\": \"id\"\n",
    "        }\n",
    "    ]\n",
    "}\n",
    "\n",
    "input_filters = {\n",
    "    \"PathQueryParameter\": 1,\n",
    "    \"user_context\": [\n",
    "        ((\"rdf:type\", \"path\"), (\"<https://neuroshapes.org/NeuronMorphology>\", \"uri\")), \n",
    "        ((\"contribution/agent\", \"path\"), (\"<https://bbp.epfl.ch/neurosciencegraph/data/7c47aa15-9fc6-42ec-9871-d233c9c29028>\", \"uri\"))\n",
    "    ]   \n",
    "}\n",
    "\n",
    "res = execute_query(allocate_forge_session, q, input_filters, last_query=True, debug=True)\n",
    "len(res)"
   ]
  }
 ],
 "metadata": {
  "kernelspec": {
   "display_name": "kg_inf_tut_x86",
   "language": "python",
   "name": "kg_inf_tut_x86"
  },
  "language_info": {
   "codemirror_mode": {
    "name": "ipython",
    "version": 3
   },
   "file_extension": ".py",
   "mimetype": "text/x-python",
   "name": "python",
   "nbconvert_exporter": "python",
   "pygments_lexer": "ipython3",
   "version": "3.9.15"
  }
 },
 "nbformat": 4,
 "nbformat_minor": 4
}
