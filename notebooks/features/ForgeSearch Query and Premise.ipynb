{
 "cells": [
  {
   "cell_type": "code",
   "execution_count": 1,
   "id": "a3b94338-db17-4e70-845c-3fe0af24ba92",
   "metadata": {},
   "outputs": [],
   "source": [
    "import getpass\n",
    "import json\n",
    "import uuid\n",
    "\n",
    "from kgforge.core import KnowledgeGraphForge\n",
    "\n",
    "from inference_tools.utils import (check_premises,\n",
    "                                   execute_query,\n",
    "                                   execute_query_pipe,\n",
    "                                   apply_rule,\n",
    "                                   get_rule_parameters)"
   ]
  },
  {
   "cell_type": "code",
   "execution_count": 2,
   "id": "7ace2dbb-ace2-4b0c-91a8-2e8a3fb69e33",
   "metadata": {},
   "outputs": [],
   "source": [
    "LOCAL_TOKEN = True \n",
    "TOKEN_PATH = 'token.txt'\n",
    "CONFIG_PATH = \"config.yaml\"\n",
    "\n",
    "def allocate_forge_session(org, project):\n",
    "    ENDPOINT = \"https://bbp.epfl.ch/nexus/v1\"  \n",
    "\n",
    "    if LOCAL_TOKEN: \n",
    "        with open(TOKEN_PATH) as f:\n",
    "            TOKEN = f.read()\n",
    "    else: \n",
    "        TOKEN = getpass.getpass()\n",
    "        \n",
    "    searchendpoints = {\n",
    "        \"sparql\": {\n",
    "           \"endpoint\": \"https://bbp.epfl.ch/neurosciencegraph/data/views/aggreg-sp/dataset\"\n",
    "       }\n",
    "    }\n",
    "    \n",
    "    return KnowledgeGraphForge(\n",
    "        CONFIG_PATH,\n",
    "        endpoint=ENDPOINT,\n",
    "        token=TOKEN, \n",
    "        bucket=f\"{org}/{project}\", \n",
    "        searchendpoints=searchendpoints,\n",
    "        debug=True\n",
    "    )"
   ]
  },
  {
   "cell_type": "code",
   "execution_count": 3,
   "id": "9ceecdaa-2f49-4760-a41b-a6e3cac5594f",
   "metadata": {},
   "outputs": [
    {
     "data": {
      "text/plain": [
       "158"
      ]
     },
     "execution_count": 3,
     "metadata": {},
     "output_type": "execute_result"
    }
   ],
   "source": [
    "forge = allocate_forge_session(\"bbp\", \"atlas\")\n",
    "res = forge.search({\n",
    "    \"type\": \"<https://neuroshapes.org/NeuronMorphology>\",\n",
    "    \"contribution\": {\n",
    "        \"agent\": {\"id\":\"<https://bbp.epfl.ch/neurosciencegraph/data/7c47aa15-9fc6-42ec-9871-d233c9c29028>\"}\n",
    "    }\n",
    "}, cross_bucket=True)\n",
    "\n",
    "len(res)"
   ]
  },
  {
   "cell_type": "markdown",
   "id": "f634c12f-693f-41b3-b844-ccb0e938bcad",
   "metadata": {},
   "source": [
    "# ForgeSearchQuery"
   ]
  },
  {
   "cell_type": "code",
   "execution_count": 12,
   "id": "107afd87-9548-4438-bc86-9886c08afe21",
   "metadata": {},
   "outputs": [
    {
     "name": "stdout",
     "output_type": "stream",
     "text": [
      "Submitted query:\n",
      "   PREFIX bmc: <https://bbp.epfl.ch/ontologies/core/bmc/>\n",
      "   PREFIX bmo: <https://bbp.epfl.ch/ontologies/core/bmo/>\n",
      "   PREFIX commonshapes: <https://neuroshapes.org/commons/>\n",
      "   PREFIX datashapes: <https://neuroshapes.org/dash/>\n",
      "   PREFIX dc: <http://purl.org/dc/elements/1.1/>\n",
      "   PREFIX dcat: <http://www.w3.org/ns/dcat#>\n",
      "   PREFIX dcterms: <http://purl.org/dc/terms/>\n",
      "   PREFIX mba: <http://api.brain-map.org/api/v2/data/Structure/>\n",
      "   PREFIX nsg: <https://neuroshapes.org/>\n",
      "   PREFIX nxv: <https://bluebrain.github.io/nexus/vocabulary/>\n",
      "   PREFIX oa: <http://www.w3.org/ns/oa#>\n",
      "   PREFIX obo: <http://purl.obolibrary.org/obo/>\n",
      "   PREFIX owl: <http://www.w3.org/2002/07/owl#>\n",
      "   PREFIX prov: <http://www.w3.org/ns/prov#>\n",
      "   PREFIX rdf: <http://www.w3.org/1999/02/22-rdf-syntax-ns#>\n",
      "   PREFIX rdfs: <http://www.w3.org/2000/01/rdf-schema#>\n",
      "   PREFIX schema: <http://schema.org/>\n",
      "   PREFIX sh: <http://www.w3.org/ns/shacl#>\n",
      "   PREFIX shsh: <http://www.w3.org/ns/shacl-shacl#>\n",
      "   PREFIX skos: <http://www.w3.org/2004/02/skos/core#>\n",
      "   PREFIX vann: <http://purl.org/vocab/vann/>\n",
      "   PREFIX void: <http://rdfs.org/ns/void#>\n",
      "   PREFIX xml: <http://www.w3.org/XML/1998/namespace/>\n",
      "   PREFIX xsd: <http://www.w3.org/2001/XMLSchema#>\n",
      "   PREFIX : <https://bbp.epfl.ch/nexus/v1/resources/bbp/atlas/_/>\n",
      "   SELECT ?id ?project WHERE { Graph ?g {?id <https://bluebrain.github.io/nexus/vocabulary/project> ?project;\n",
      "    <https://bluebrain.github.io/nexus/vocabulary/deprecated> false;\n",
      "    rdf:type <https://neuroshapes.org/NeuronMorphology>;\n",
      "    nsg:contribution/prov:agent <https://bbp.epfl.ch/neurosciencegraph/data/7c47aa15-9fc6-42ec-9871-d233c9c29028>\n",
      "    }}\n",
      "\n"
     ]
    },
    {
     "data": {
      "text/plain": [
       "158"
      ]
     },
     "execution_count": 12,
     "metadata": {},
     "output_type": "execute_result"
    }
   ],
   "source": [
    "rule_id = f\"https://bbp.epfl.ch/neurosciencegraph/data/{uuid.uuid4()}\"\n",
    "\n",
    "my_rule = {\n",
    "    \"id\": rule_id,\n",
    "    \"type\": \"DataGeneralizationRule\",\n",
    "    \"_schemaProject\": \"https://bbp.epfl.ch/nexus/v1/projects/bbp/inference-rules\",\n",
    "    \"description\": \"TEST\",\n",
    "    \"name\": \"Test ForgeQuerySearch\",\n",
    "     \"searchQuery\": {\n",
    "        \"type\": \"ForgeSearchQuery\",\n",
    "        \"hasParameter\": [\n",
    "            {\n",
    "                \"type\": \"uri\",\n",
    "                \"description\": \"test filter\",\n",
    "                \"name\": \"TypeQueryParameter\"\n",
    "            },\n",
    "             {\n",
    "                \"type\": \"uri\",\n",
    "                \"description\": \"test filter\",\n",
    "                \"name\": \"ContributionQueryParameter\"\n",
    "            },\n",
    "        ],\n",
    "        \"queryConfiguration\": {\n",
    "            \"sparlqlView\": {\n",
    "                \"id\": \"https://bbp.epfl.ch/neurosciencegraph/data/views/aggreg-sp/dataset\"\n",
    "            },\n",
    "            \"org\": \"bbp\",\n",
    "            \"project\": \"atlas\"\n",
    "        },\n",
    "        \"pattern\": {\n",
    "            \"type\": \"$TypeQueryParameter\",\n",
    "            \"contribution\": {\n",
    "                \"agent\": {\"id\":\"$ContributionQueryParameter\"}\n",
    "            }\n",
    "        },\n",
    "        \"cross_bucket\":True\n",
    "    \n",
    "    }\n",
    "}\n",
    "\n",
    "input_filters = {\n",
    "    \"TypeQueryParameter\": \"<https://neuroshapes.org/NeuronMorphology>\",\n",
    "    \"ContributionQueryParameter\": \"<https://bbp.epfl.ch/neurosciencegraph/data/7c47aa15-9fc6-42ec-9871-d233c9c29028>\"\n",
    "}\n",
    "\n",
    "res = apply_rule(allocate_forge_session, my_rule, input_filters)\n",
    "len(res)"
   ]
  },
  {
   "cell_type": "markdown",
   "id": "812dd279-28c3-4d21-bc48-509e5c2a7c9d",
   "metadata": {},
   "source": [
    "# ForgeSearchPremise"
   ]
  },
  {
   "cell_type": "code",
   "execution_count": 5,
   "id": "b68fe026-f7e0-41ab-b6f5-0218e638b005",
   "metadata": {},
   "outputs": [
    {
     "data": {
      "text/plain": [
       "True"
      ]
     },
     "execution_count": 5,
     "metadata": {},
     "output_type": "execute_result"
    }
   ],
   "source": [
    "rule_id2 = f\"https://bbp.epfl.ch/neurosciencegraph/data/{uuid.uuid4()}\"\n",
    "\n",
    "my_rule2 = {\n",
    "    \"id\": rule_id2,\n",
    "    \"type\": \"DataGeneralizationRule\",\n",
    "    \"_schemaProject\": \"https://bbp.epfl.ch/nexus/v1/projects/bbp/inference-rules\",\n",
    "    \"description\": \"TEST\",\n",
    "    \"name\": \"Test ForgeQuerySearch\",\n",
    "    \"premise\": {\n",
    "        \"type\": \"ForgeSearchPremise\",\n",
    "        \"hasParameter\": [\n",
    "            {\n",
    "                \"type\": \"uri\",\n",
    "                \"description\": \"test filter\",\n",
    "                \"name\": \"TypeQueryParameter\"\n",
    "            },\n",
    "            {\n",
    "                \"type\": \"uri\",\n",
    "                \"description\": \"test filter\",\n",
    "                \"name\": \"ContributionQueryParameter\"\n",
    "            },\n",
    "            {\n",
    "                \"type\": \"path\",\n",
    "                \"description\": \"test\",\n",
    "                \"name\": \"AgeQueryParameter\"\n",
    "            }\n",
    "        ],\n",
    "        \"queryConfiguration\": {\n",
    "            \"sparlqlView\": {\n",
    "                \"id\": \"https://bbp.epfl.ch/neurosciencegraph/data/views/aggreg-sp/dataset\"\n",
    "            },\n",
    "            \"org\": \"bbp\",\n",
    "            \"project\": \"atlas\"\n",
    "        },\n",
    "        \"targetParameter\": \"AgeQueryParameter\",  \n",
    "        \"targetPath\": \"subject.age.value\", \n",
    "        \"pattern\": {\n",
    "            \"type\": \"$TypeQueryParameter\",\n",
    "            \"contribution\": {\n",
    "                \"agent\": {\"id\": \"$ContributionQueryParameter\"}\n",
    "            }\n",
    "        }\n",
    "\n",
    "    }\n",
    "}\n",
    "\n",
    "input_filters2 = {\n",
    "    \"TypeQueryParameter\": \"<https://neuroshapes.org/NeuronMorphology>\",\n",
    "    \"ContributionQueryParameter\": \"<https://bbp.epfl.ch/neurosciencegraph/data/7c47aa15-9fc6-42ec-9871-d233c9c29028>\",\n",
    "    \"AgeQueryParameter\": 60\n",
    "}\n",
    "\n",
    "res2 = check_premises(allocate_forge_session, my_rule2, input_filters2)\n",
    "res2"
   ]
  }
 ],
 "metadata": {
  "kernelspec": {
   "display_name": "kg_inf_tut_x86",
   "language": "python",
   "name": "kg_inf_tut_x86"
  },
  "language_info": {
   "codemirror_mode": {
    "name": "ipython",
    "version": 3
   },
   "file_extension": ".py",
   "mimetype": "text/x-python",
   "name": "python",
   "nbconvert_exporter": "python",
   "pygments_lexer": "ipython3",
   "version": "3.9.15"
  }
 },
 "nbformat": 4,
 "nbformat_minor": 5
}
