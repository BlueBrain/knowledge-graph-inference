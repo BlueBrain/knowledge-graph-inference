{
 "cells": [
  {
   "cell_type": "code",
   "execution_count": null,
   "metadata": {},
   "outputs": [],
   "source": [
    "%load_ext autoreload\n",
    "%autoreload 2"
   ]
  },
  {
   "cell_type": "markdown",
   "metadata": {},
   "source": [
    "## TODO\n",
    "\n",
    "- Make sure boosting factors are computed with __normalized__ scores (so we need to pass the new statistics)\n",
    "\n",
    "\n",
    "## Forge issues to address\n",
    "\n",
    "- `forge.search({\"type\": \"Embedding\"}, limit=200)` throws 'Server disconnected'. Current (very slow!) workaround:\n",
    "\n",
    "```\n",
    "query = f\"\"\"\n",
    "    SELECT ?id\n",
    "    WHERE {{\n",
    "        ?id a {DATA_TYPE_FILTER} ;\n",
    "            <https://bluebrain.github.io/nexus/vocabulary/deprecated> false .\n",
    "    }}\n",
    "\"\"\" \n",
    "resources = forge.sparql(query, limit=HARD_RESOURCE_LIMIT)\n",
    "resources = [forge.retrieve(r.id) for r in resources] \n",
    "\n",
    "```\n",
    "\n",
    "\n",
    "- `forge.elastic` print the query it executes even without debug (with debug, prints twice)\n",
    "- `forge.elastic` expects the `limit` parameter (cannot ask for all the documents), current workaround: set `HARD_RESOURCE_LIMIT=10000`, some large number so that all the resources can be fetched.\n",
    "- `forge.update` after retrieve adds a full context payload\n",
    "\n",
    "## Context issues\n",
    "\n",
    "Add new types:\n",
    "- `EmbeddingModel`\n",
    "- `Embedding`\n",
    "- `SimilarityBoostingFactor`\n",
    "- `ElasticSearchViewStatistics`\n",
    "- `RecommenderConfiguration`\n",
    "- any other properties to add:\n",
    "    - from `EmbeddingModel`: `similarity`, `vectiorDimension`\n",
    "    - from `Embedding`: `embedding`\n",
    "    - from `SimilarityBoostingFactor`: `scriptScore`, `vectorParameter`\n",
    "    - from `ElasticSearchViewStatistics`: `boosted`, `scriptScore`, `vectorParameter` \n",
    "    - from `RecommenderConfiguration`: `embeddingModel`, `boostingViewmodel`, `similarityView`, `statisticsView`\n",
    "    "
   ]
  },
  {
   "cell_type": "markdown",
   "metadata": {},
   "source": [
    "# Add/update a set of embedding vectors\n",
    "\n",
    "\n",
    "When adding/updating a set of embedding vectors, we need to perform the following sequence of steps\n",
    "\n",
    "I. Create a new ES view for the new/updated vectors as follows\n",
    "\n",
    "1. Get dimensions of the embedding vectors\n",
    "2. Create a Nexus ES View resource with:\n",
    "- `resourceTypes` being `Embedding`\n",
    "- mapping that has `\"embedding\": \"dense_vector\"` with the right dimensions\n",
    "- `resourceTag` field corresponds to the model UUID and its revision (e.g. `e2b953b9-6724-4278-a1e5-3472bd63e374?rev=1`)\n",
    "\n",
    " \n",
    "II. Update an existing similarity aspect in the recommender config\n",
    "\n",
    "__Pre-requisites:__ the `RecommenderConfiguration` resource exists and the aspect is added to it added to it (see `Add new similarity aspects.ipynb`)\n",
    "\n",
    "1. Create a new aggregated view including the new similarity view. This view will be the new master view. Make sure all the vectors have been indexed. \n",
    "2. Compute raw statistics (min/max/mean/std) of similarity values from the master view and push them as a `ElasticSearchViewStatistics` resource (created if doesn't exist, updated if exists), taged with the new revision of the master view.\n",
    "3. Compute boosting factors for all the data points (vectors) indexed by the master view and push them as separate resources into respective projects (create if don't exist, update if exist). Tag them by the new revision of the master view.\n",
    "4. In the bucket with embedding data create a new ES view for boosting factors (tagged by the new master view id). Make sure that all the boosting factors have finished indexing.\n",
    "5. Compute statistics (min/max/mean/std) of similarity values from thr master view with boosting, push and tag them with the new revision of the master view.\n",
    "6. Create a new ES view serving statistics (both raw and boosted) tagged with the new revision of the master view. Make sure that all the stats have finished indexing.\n",
    "7. Create a new aggregated view for boosting factors targeting all the new boosting ES views.\n",
    "9. Update the Recommender Configuration to point to the new revision of the master view, the new ES view with the stats and the new aggregated view with the boosting factors.\n",
    "10. In each of the individual projects deprecate the old boosting ES view and the old ES view serving embedding vectors (if such exists).\n",
    "11. If necessary, deprecate old stats view and the old aggregated view for boosting."
   ]
  },
  {
   "cell_type": "markdown",
   "metadata": {},
   "source": [
    "Related JIRA tickets: \n",
    "* https://bbpteam.epfl.ch/project/issues/browse/DKE-718\n",
    "* https://bbpteam.epfl.ch/project/issues/browse/DKE-715"
   ]
  },
  {
   "cell_type": "markdown",
   "metadata": {},
   "source": [
    "# Setup"
   ]
  },
  {
   "cell_type": "markdown",
   "metadata": {},
   "source": [
    "## Imports"
   ]
  },
  {
   "cell_type": "code",
   "execution_count": null,
   "metadata": {},
   "outputs": [],
   "source": [
    "import copy\n",
    "import getpass\n",
    "import math\n",
    "import requests\n",
    "import urllib\n",
    "import time\n",
    "\n",
    "from collections import OrderedDict\n",
    "\n",
    "import numpy as np\n",
    "import nexussdk as nxs\n",
    "\n",
    "from collections import namedtuple\n",
    "from urllib.parse import quote_plus\n",
    "from kgforge.core import KnowledgeGraphForge\n",
    "\n",
    "from inference_tools.query.elastic_search import check_view_readiness, set_elastic_view, get_all_documents\n",
    "from inference_tools.similarity.data_registration import (BucketConfiguration, create_forge_session,\n",
    "                                                          add_views_with_replacement, register_stats,\n",
    "                                                          register_boosting_data)\n",
    "from inference_tools.similarity.utils import compute_statistics, compute_boosting_factors\n",
    "from inference_tools.similarity.es_mappings import get_es_view_mappings, BOOSTING_VIEW_MAPPING, STATS_VIEW_MAPPING"
   ]
  },
  {
   "cell_type": "code",
   "execution_count": null,
   "metadata": {},
   "outputs": [],
   "source": [
    "from kgforge.version import __version__\n",
    "print(__version__)"
   ]
  },
  {
   "cell_type": "code",
   "execution_count": null,
   "metadata": {},
   "outputs": [],
   "source": [
    "def get_current_config(config_resource, model_id):\n",
    "    \"\"\"Get the configuration record corresponding to the input model.\"\"\"\n",
    "    current_config = None\n",
    "    if isinstance(config_resource.configuration, list):\n",
    "        for el in config_resource.configuration:\n",
    "            if el.embeddingModel.id == model_id:\n",
    "                current_config = el\n",
    "    else:\n",
    "        if config_resource.configuration.embeddingModel.id == model_id:\n",
    "            current_config = config_resource.configuration\n",
    "\n",
    "    return current_config\n",
    "\n",
    "\n",
    "def update_current_config(forge, config_resource, current_config):\n",
    "    \"\"\"Update the configuration record.\"\"\"\n",
    "    if isinstance(config_resource.configuration, list):\n",
    "        new_configs = []\n",
    "        for el in config_resource.configuration:\n",
    "            if el is not current_config:\n",
    "                new_configs.append(el)\n",
    "        new_configs.append(current_config)\n",
    "        config_resource.configuration = new_configs\n",
    "    else:\n",
    "        config_resource.configuration = [\n",
    "            current_config\n",
    "        ]\n",
    "    try:\n",
    "        del config_resource.context\n",
    "    except:\n",
    "        pass\n",
    "    forge.update(config_resource)\n",
    "    \n",
    "def deprecate_individual_views(agg_view):\n",
    "    views = agg_view[\"views\"]\n",
    "    if not isinstance(views, list):\n",
    "        views = [agg_view[\"views\"]]\n",
    "    \n",
    "    for el in views:\n",
    "        org = el[\"project\"].split(\"/\")[0]\n",
    "        proj = el[\"project\"].split(\"/\")[1]\n",
    "        view = el[\"viewId\"]\n",
    "        es_view = nxs.views.fetch(org, proj, view)\n",
    "        try:\n",
    "            nxs.views.deprecate_es(es_view)\n",
    "        except Exception as e:\n",
    "            print(f\"Deprecation failed with '{e}'\")"
   ]
  },
  {
   "cell_type": "markdown",
   "metadata": {},
   "source": [
    "## User input"
   ]
  },
  {
   "cell_type": "code",
   "execution_count": null,
   "metadata": {},
   "outputs": [],
   "source": [
    "ENDPOINT = \"https://bbp.epfl.ch/nexus/v1\"\n",
    "DOWNLOAD_DIR = \"../../../data\"\n",
    "TOKEN = getpass.getpass()"
   ]
  },
  {
   "cell_type": "markdown",
   "metadata": {},
   "source": [
    "TODO: Here we need to fix forge and allow to not specify the limit when doing ES queries, for now we put 'very large' number"
   ]
  },
  {
   "cell_type": "code",
   "execution_count": null,
   "metadata": {},
   "outputs": [],
   "source": [
    "HARD_RESOURCE_LIMIT = 10000"
   ]
  },
  {
   "cell_type": "markdown",
   "metadata": {},
   "source": [
    "Bucket where embedding models live"
   ]
  },
  {
   "cell_type": "code",
   "execution_count": null,
   "metadata": {},
   "outputs": [],
   "source": [
    "MODEL_CATALOG_ORG = \"dke\"\n",
    "MODEL_CATALOG_PROJECT = \"embedding-pipelines\""
   ]
  },
  {
   "cell_type": "markdown",
   "metadata": {},
   "source": [
    "ID of the embedding model to use"
   ]
  },
  {
   "cell_type": "markdown",
   "metadata": {},
   "source": [
    "__PROVIDE HERE THE ID OF YOUR MODEL (OPTIONAL, REVISION)__"
   ]
  },
  {
   "cell_type": "code",
   "execution_count": null,
   "metadata": {},
   "outputs": [],
   "source": [
    "MODEL_ID = \"https://bbp.epfl.ch/nexus/v1/resources/dke/embedding-pipelines/_/d79a408f-3356-4e98-8998-df6720cac376\"\n",
    "MODEL_REVISION = None  # Specify a revision, if necessary. If None, the latest revision is used"
   ]
  },
  {
   "cell_type": "markdown",
   "metadata": {},
   "source": [
    "Bucket where embedding vectors live"
   ]
  },
  {
   "cell_type": "code",
   "execution_count": null,
   "metadata": {},
   "outputs": [],
   "source": [
    "EMBEDDING_BUCKETS = [\n",
    "     BucketConfiguration(\n",
    "        \"https://bbp.epfl.ch/nexus/v1\",\n",
    "         \"neurosciencegraph\", \"datamodels\")\n",
    "]"
   ]
  },
  {
   "cell_type": "markdown",
   "metadata": {},
   "source": [
    "Later, we will assume that data and embeddings live in the same bucket"
   ]
  },
  {
   "cell_type": "code",
   "execution_count": null,
   "metadata": {},
   "outputs": [],
   "source": [
    "NEIGHBORHOOD_SIZE = 20  # Number of nearest neighbors to consider for local boosting"
   ]
  },
  {
   "cell_type": "markdown",
   "metadata": {},
   "source": [
    "---"
   ]
  },
  {
   "cell_type": "markdown",
   "metadata": {},
   "source": [
    "## Forge sessions"
   ]
  },
  {
   "cell_type": "code",
   "execution_count": null,
   "metadata": {},
   "outputs": [],
   "source": [
    "CONFIG_PATH = \"../../../configs/new-forge-config.yaml\""
   ]
  },
  {
   "cell_type": "markdown",
   "metadata": {},
   "source": [
    "### Session for embedding models"
   ]
  },
  {
   "cell_type": "code",
   "execution_count": null,
   "metadata": {},
   "outputs": [],
   "source": [
    "forge_models = create_forge_session(\n",
    "    CONFIG_PATH,\n",
    "    BucketConfiguration(ENDPOINT, MODEL_CATALOG_ORG, MODEL_CATALOG_PROJECT),\n",
    "    TOKEN)"
   ]
  },
  {
   "cell_type": "markdown",
   "metadata": {},
   "source": [
    "### Session for embedding resources"
   ]
  },
  {
   "cell_type": "code",
   "execution_count": null,
   "metadata": {},
   "outputs": [],
   "source": [
    "FORGE_SESSIONS = {\n",
    "    el: create_forge_session(CONFIG_PATH, el, TOKEN) for el in EMBEDDING_BUCKETS\n",
    "}"
   ]
  },
  {
   "cell_type": "markdown",
   "metadata": {},
   "source": [
    "### Nexussdk session"
   ]
  },
  {
   "cell_type": "code",
   "execution_count": null,
   "metadata": {},
   "outputs": [],
   "source": [
    "nxs.config.set_environment(ENDPOINT)\n",
    "nxs.config.set_token(TOKEN)"
   ]
  },
  {
   "cell_type": "markdown",
   "metadata": {},
   "source": [
    "---"
   ]
  },
  {
   "cell_type": "markdown",
   "metadata": {},
   "source": [
    "# I. Create ElasticSearchView\n",
    "\n",
    "\n",
    "TODO: Adapt the resource_types property to the proper `Embedding` type once it is added to the context"
   ]
  },
  {
   "cell_type": "code",
   "execution_count": null,
   "metadata": {},
   "outputs": [],
   "source": [
    "model_resource = forge_models.retrieve(\n",
    "    f\"{MODEL_ID}{'?rev=' + str(MODEL_REVISION) if MODEL_REVISION is not None else ''}\")\n",
    "\n",
    "# If revision is not provided by the user, fetch the latest\n",
    "if MODEL_REVISION is None:\n",
    "    MODEL_REVISION = model_resource._store_metadata._rev \n",
    "\n",
    "MODEL_TAG = f\"{MODEL_ID.split('/')[-1]}?rev={MODEL_REVISION}\""
   ]
  },
  {
   "cell_type": "code",
   "execution_count": null,
   "metadata": {},
   "outputs": [],
   "source": [
    "MODEL_TAG"
   ]
  },
  {
   "cell_type": "code",
   "execution_count": null,
   "metadata": {},
   "outputs": [],
   "source": [
    "dimension = model_resource.vectorDimension"
   ]
  },
  {
   "cell_type": "code",
   "execution_count": null,
   "metadata": {},
   "outputs": [],
   "source": [
    "SIMILARITY_VIEWS = {}\n",
    "for bucket_config in EMBEDDING_BUCKETS:\n",
    "    view = nxs.views.create_es(\n",
    "        bucket_config.org, bucket_config.proj,\n",
    "        mapping=get_es_view_mappings(dimension),\n",
    "        tag=MODEL_TAG,\n",
    "        resource_types=[\n",
    "            f\"https://neuroshapes.org/Embedding\"],\n",
    "        source_as_text=False,\n",
    "        include_metadata = True, \n",
    "        include_deprecated = False)\n",
    "    SIMILARITY_VIEWS[bucket_config] = nxs.views.fetch(\n",
    "        bucket_config.org, bucket_config.proj,\n",
    "        view_id=view[\"@id\"])"
   ]
  },
  {
   "cell_type": "code",
   "execution_count": null,
   "metadata": {},
   "outputs": [],
   "source": [
    "SIMILARITY_VIEW_IDS = {\n",
    "    k: v[\"@id\"] for k, v in SIMILARITY_VIEWS.items()\n",
    "}"
   ]
  },
  {
   "cell_type": "markdown",
   "metadata": {},
   "source": [
    "__IMPORTANT__: Here, before we execute the next step, we need to make sure that the indexing is over. Execute the following cell until finishes"
   ]
  },
  {
   "cell_type": "code",
   "execution_count": null,
   "metadata": {},
   "outputs": [],
   "source": [
    "start = time.time()\n",
    "while True:\n",
    "    all_ready = []\n",
    "    for k, v in SIMILARITY_VIEW_IDS.items():\n",
    "        ready = check_view_readiness(k, v, TOKEN) \n",
    "        all_ready.append(ready)\n",
    "    if all(all_ready):\n",
    "        print(f\"Indexing has finished after: {time.time() - start}s\")\n",
    "        break\n",
    "    time.sleep(30) "
   ]
  },
  {
   "cell_type": "code",
   "execution_count": null,
   "metadata": {},
   "outputs": [],
   "source": [
    "SIMILARITY_VIEW_IDS"
   ]
  },
  {
   "cell_type": "markdown",
   "metadata": {},
   "source": [
    "---"
   ]
  },
  {
   "cell_type": "markdown",
   "metadata": {},
   "source": [
    "## Compute raw (non-boosted) statistics\n",
    "\n",
    "Compute raw statistics (min/max/mean/std) of similarity values from the master view and push them as a ElasticSearchViewStatistics resource (created if doesn't exist, updated if exists), taged with the new revision of the master view (in bbp/atlas)."
   ]
  },
  {
   "cell_type": "code",
   "execution_count": null,
   "metadata": {},
   "outputs": [],
   "source": [
    "for bucket, forge in FORGE_SESSIONS.items():\n",
    "    set_elastic_view(forge, SIMILARITY_VIEW_IDS[bucket])\n",
    "\n",
    "    n_values, stats = compute_statistics(\n",
    "        forge, SIMILARITY_VIEW_IDS[bucket], model_resource.similarity, boosting=None)\n",
    "\n",
    "    TAG = SIMILARITY_VIEW_IDS[bucket].split(\"/\")[-1]\n",
    "    stats_resource = register_stats(\n",
    "        forge, SIMILARITY_VIEW_IDS[bucket], n_values, stats, model_resource.similarity,\n",
    "        TAG, boosted=False)"
   ]
  },
  {
   "cell_type": "markdown",
   "metadata": {},
   "source": [
    "## Compute boosting factors and create necessary resources\n",
    "\n",
    "Compute boosting factors for all the data points (vectors) indexed by the new master view and push them as separate resources into respective projects. Tag them by the new UUID of the master view."
   ]
  },
  {
   "cell_type": "code",
   "execution_count": null,
   "metadata": {},
   "outputs": [],
   "source": [
    "stats_json = [forge_atlas.as_json(el) for el in stats_resource.series]\n",
    "stats_json = {el[\"statistic\"]: el[\"value\"] for el in stats_json}"
   ]
  },
  {
   "cell_type": "code",
   "execution_count": null,
   "metadata": {},
   "outputs": [],
   "source": [
    "NEIGHBORHOOD_SIZE"
   ]
  },
  {
   "cell_type": "code",
   "execution_count": null,
   "metadata": {
    "scrolled": true
   },
   "outputs": [],
   "source": [
    "ALL_BOOSTING_FACTORS = {}\n",
    "for bucket, view_id in SIMILARITY_VIEW_IDS.items():\n",
    "    print(f\"(Re-)computing boosting factors in '{bucket}'...\")\n",
    "    deviations = dict()\n",
    "    bucket_forge = FORGE_SESSIONS[bucket]\n",
    "    \n",
    "    boosting_factors = compute_boosting_factors(\n",
    "        bucket_forge, view_id, stats, model_resource.similarity,\n",
    "        neighborhood_size=NEIGHBORHOOD_SIZE)\n",
    "    \n",
    "    ALL_BOOSTING_FACTORS.update(boosting_factors)\n",
    "\n",
    "    TAG = view_id.split(\"/\")[-1]\n",
    "    \n",
    "    print(f\"Registering/updating boosting factors in '{bucket}'...\")\n",
    "    # Register boosting factors into the current buckets\n",
    "    boosting_resources = register_boosting_data(\n",
    "        bucket_forge, view_id, boosting_factors,\n",
    "        model_resource.similarity, TAG)"
   ]
  },
  {
   "cell_type": "markdown",
   "metadata": {},
   "source": [
    "In the individual embedding data buckets create a new ES view for boosting factors (tagged by the new master view)."
   ]
  },
  {
   "cell_type": "code",
   "execution_count": null,
   "metadata": {},
   "outputs": [],
   "source": [
    "new_boosting_views = []\n",
    "for bucket, view_id in SIMILARITY_VIEW_IDS.items():\n",
    "    print(f\"Creating a new ES view on boosting factors in '{bucket}'...\")\n",
    "    \n",
    "    TAG = view_id.split(\"/\")[-1]\n",
    "    \n",
    "    boosting_view = nxs.views.create_es(\n",
    "        bucket.org, bucket.proj,\n",
    "        mapping=BOOSTING_VIEW_MAPPING,\n",
    "        tag=TAG,\n",
    "        resource_types=[\n",
    "            f\"https://neuroshapes.org/SimilarityBoostingFactor\"],\n",
    "        source_as_text=False,\n",
    "        include_metadata=True, \n",
    "        include_deprecated=False)\n",
    "    new_boosting_views.append(boosting_view)"
   ]
  },
  {
   "cell_type": "code",
   "execution_count": null,
   "metadata": {},
   "outputs": [],
   "source": [
    "for el in new_boosting_views:\n",
    "    print(\"Project: \", el[\"_project\"])\n",
    "    print(\"View: \", el[\"@id\"])\n",
    "    print()"
   ]
  },
  {
   "cell_type": "markdown",
   "metadata": {},
   "source": [
    "__IMPORTANT__: Here, before we execute the next step, we need to make sure that the indexing in the aggregated view is over. Execute the following cell until it stops throwing an assertion error. If no error is observed, all the resources have been indexed, and we can proceed with the rest of the notebook."
   ]
  },
  {
   "cell_type": "code",
   "execution_count": null,
   "metadata": {},
   "outputs": [],
   "source": [
    "start = time.time()\n",
    "while True:\n",
    "    all_ready = []\n",
    "    for el in new_boosting_views:\n",
    "        ready = check_view_readiness(\n",
    "            BucketConfiguration(\n",
    "                \"/\".join(el[\"_project\"].split(\"/\")[:-3]),\n",
    "                el[\"_project\"].split(\"/\")[-2],\n",
    "                el[\"_project\"].split(\"/\")[-1]),\n",
    "            el[\"@id\"],\n",
    "            TOKEN)\n",
    "        all_ready.append(ready)\n",
    "    if all(all_ready):\n",
    "        print(f\"Indexing has finished after: {time.time() - start}s\")\n",
    "        break\n",
    "    else:\n",
    "        time.sleep(30)"
   ]
  },
  {
   "cell_type": "markdown",
   "metadata": {},
   "source": [
    "## Compute boosted statistics\n",
    "\n",
    "Compute statistics (min/max/mean/std) of similarity values after boosting and push them as a ElasticSearchViewStatistics resource (created if doesn't exist, updated if exists), taged with the new revision of the master view."
   ]
  },
  {
   "cell_type": "code",
   "execution_count": null,
   "metadata": {},
   "outputs": [],
   "source": [
    "for bucket, forge in FORGE_SESSIONS.items():\n",
    "    set_elastic_view(forge, SIMILARITY_VIEW_IDS[bucket])\n",
    "\n",
    "    n_values, stats = compute_statistics(\n",
    "        forge, SIMILARITY_VIEW_IDS[bucket], model_resource.similarity, boosting=ALL_BOOSTING_FACTORS)\n",
    "\n",
    "    TAG = SIMILARITY_VIEW_IDS[bucket].split(\"/\")[-1]\n",
    "    stats_resource = register_stats(\n",
    "        forge, SIMILARITY_VIEW_IDS[bucket], n_values, stats, model_resource.similarity,\n",
    "        TAG, boosted=True)"
   ]
  }
 ],
 "metadata": {
  "kernelspec": {
   "display_name": "bg",
   "language": "python",
   "name": "bg"
  },
  "language_info": {
   "codemirror_mode": {
    "name": "ipython",
    "version": 3
   },
   "file_extension": ".py",
   "mimetype": "text/x-python",
   "name": "python",
   "nbconvert_exporter": "python",
   "pygments_lexer": "ipython3",
   "version": "3.7.10"
  },
  "toc-autonumbering": true,
  "toc-showtags": true
 },
 "nbformat": 4,
 "nbformat_minor": 4
}
