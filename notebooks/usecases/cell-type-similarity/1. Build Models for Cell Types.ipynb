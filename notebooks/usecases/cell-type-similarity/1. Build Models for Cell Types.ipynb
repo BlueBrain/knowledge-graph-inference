{
 "cells": [
  {
   "cell_type": "code",
   "execution_count": null,
   "id": "9b82e629",
   "metadata": {},
   "outputs": [],
   "source": [
    "%load_ext autoreload\n",
    "%autoreload 2"
   ]
  },
  {
   "cell_type": "markdown",
   "id": "d92603f5",
   "metadata": {},
   "source": [
    "# Embedding of ontology concepts: Cell Type usecase\n",
    "\n",
    "We create the following embeddings:\n",
    "\n",
    "- __TTypes__: TType ontology from Allen dendrogram (see https://portal.brain-map.org/atlases-and-data/rnaseq/mouse-whole-cortex-and-hippocampus-10x) and mean gene expression profiles per type\n",
    "- __MTypes__: Materialized MType ontology (see https://bbp.epfl.ch/nexus/webprotege/#projects/f9354eaa-f69b-4f0d-949a-0c64fdd9d995/edit/Classes) and morpho metrics computed with NeuroM for annotated SSCX morphologies\n",
    "   "
   ]
  },
  {
   "cell_type": "code",
   "execution_count": null,
   "id": "24b68361",
   "metadata": {},
   "outputs": [],
   "source": [
    "import getpass\n",
    "import json\n",
    "from zipfile import ZipFile\n",
    "\n",
    "import pandas as pd\n",
    "import networkx as nx\n",
    "import numpy as np\n",
    "\n",
    "import matplotlib.pyplot as plt\n",
    "\n",
    "import rdflib\n",
    "from rdflib import RDF, RDFS, OWL\n",
    "\n",
    "from kgforge.core import KnowledgeGraphForge\n",
    "\n",
    "from bluegraph import PandasPGFrame\n",
    "from bluegraph.backends.networkx import pgframe_to_networkx\n",
    "from bluegraph.backends.stellargraph import StellarGraphNodeEmbedder\n",
    "from bluegraph.downstream.utils import transform_to_2d, plot_2d\n",
    "from bluegraph.downstream.similarity import FaissSimilarityIndex, SimilarityProcessor\n",
    "from bluegraph.downstream import EmbeddingPipeline\n",
    "from bluegraph import version as bg_version\n",
    "\n",
    "from sklearn.decomposition import PCA\n",
    "from sklearn.preprocessing import StandardScaler\n",
    "from sklearn.impute import SimpleImputer\n",
    "\n",
    "from inference_tools.similarity.data_registration import push_model"
   ]
  },
  {
   "cell_type": "code",
   "execution_count": null,
   "id": "562fa31d",
   "metadata": {},
   "outputs": [],
   "source": [
    "TOKEN = getpass.getpass()"
   ]
  },
  {
   "cell_type": "code",
   "execution_count": null,
   "id": "a4cb0fec",
   "metadata": {},
   "outputs": [],
   "source": [
    "forge = KnowledgeGraphForge(\n",
    "    \"../../../configs/new-forge-config.yaml\",\n",
    "    endpoint=\"https://bbp.epfl.ch/nexus/v1\",\n",
    "    token=TOKEN,\n",
    "    bucket=\"dke/embedding-pipelines\"\n",
    ")"
   ]
  },
  {
   "cell_type": "markdown",
   "id": "dc4aed81",
   "metadata": {},
   "source": [
    "## Helpers"
   ]
  },
  {
   "cell_type": "code",
   "execution_count": null,
   "id": "d0e21333",
   "metadata": {},
   "outputs": [],
   "source": [
    "def is_nan(el):\n",
    "    try:\n",
    "        if np.isnan(el):\n",
    "            return True\n",
    "    except:\n",
    "        pass\n",
    "    return False\n",
    "\n",
    "\n",
    "def autocomplete_types_from_children(frame, feature_column):\n",
    "    graph = pgframe_to_networkx(frame)\n",
    "    prev_nodes_to_process = set()\n",
    "    while True:\n",
    "        nodes_to_process = set()\n",
    "        for n in frame.nodes():\n",
    "            if is_nan(frame._nodes.loc[n, feature_column]):\n",
    "                nodes_to_process.add(n)\n",
    "\n",
    "        if len(nodes_to_process) == 0 or\\\n",
    "           (prev_nodes_to_process == nodes_to_process):\n",
    "            break\n",
    "\n",
    "        for n in nodes_to_process:\n",
    "            all_children = True\n",
    "            children_vectors = []\n",
    "            for child, n in graph.in_edges(n):\n",
    "\n",
    "                if child in frame.nodes():\n",
    "                    if is_nan(frame._nodes.loc[child, feature_column]):\n",
    "                        all_childern = False\n",
    "                        break\n",
    "                    children_vectors.append(frame._nodes.loc[child, feature_column])\n",
    "\n",
    "            if all_children:\n",
    "                frame._nodes.at[n, feature_column] = np.mean(\n",
    "                    children_vectors, axis=0).tolist()\n",
    "                \n",
    "        prev_nodes_to_process = nodes_to_process"
   ]
  },
  {
   "cell_type": "markdown",
   "id": "77e9abf9",
   "metadata": {},
   "source": [
    "## Embedding of TTypes"
   ]
  },
  {
   "cell_type": "markdown",
   "id": "803250db",
   "metadata": {},
   "source": [
    "Read the datasets.\n",
    "\n",
    "__TODO__: now these datasets can be read from Nexus https://bbp.epfl.ch/nexus/web/admin/bbp/aibs"
   ]
  },
  {
   "cell_type": "code",
   "execution_count": null,
   "id": "42c55669",
   "metadata": {},
   "outputs": [],
   "source": [
    "with ZipFile(\"../../../data/trimmed_means.csv.zip\", 'r') as zipObj:\n",
    "   # Extract all the contents of zip file in current directory\n",
    "   zipObj.extractall(\"../../../data/\")"
   ]
  },
  {
   "cell_type": "code",
   "execution_count": null,
   "id": "b79ee9ce",
   "metadata": {},
   "outputs": [],
   "source": [
    "means = pd.read_csv(\"../../../data/trimmed_means.csv\").set_index(\"feature\")"
   ]
  },
  {
   "cell_type": "code",
   "execution_count": null,
   "id": "3b08c806",
   "metadata": {},
   "outputs": [],
   "source": [
    "with ZipFile(\"../../../data/dend.json.zip\", 'r') as zipObj:\n",
    "   # Extract all the contents of zip file in current directory\n",
    "   zipObj.extractall(\"../../../data/\")"
   ]
  },
  {
   "cell_type": "code",
   "execution_count": null,
   "id": "1f61c6a7",
   "metadata": {},
   "outputs": [],
   "source": [
    "with open(\"../../../data/dend.json\", \"r\") as f:\n",
    "    hierarchy = json.load(f)"
   ]
  },
  {
   "cell_type": "markdown",
   "id": "535d83ae",
   "metadata": {},
   "source": [
    "Extract nodes and edges from the dendrogram (hierarchy of TTypes as it is provided by Allen)"
   ]
  },
  {
   "cell_type": "code",
   "execution_count": null,
   "id": "8dd461fb",
   "metadata": {},
   "outputs": [],
   "source": [
    "edges = set()\n",
    "nodes = {}\n",
    "def extract_data(hierarchy, father=None):\n",
    "    if \"children\" in hierarchy:\n",
    "        for child in hierarchy[\"children\"]:\n",
    "            if \"node_attributes\" in child:\n",
    "                attrs = child[\"node_attributes\"][0]\n",
    "            else:\n",
    "                attrs = child[\"leaf_attributes\"][0]\n",
    "            nodes[attrs[\"cell_set_accession\"]] = attrs\n",
    "            extract_data(child, attrs[\"cell_set_accession\"])\n",
    "            if father:\n",
    "                edges.add((attrs[\"cell_set_accession\"], father))\n",
    "extract_data(hierarchy)"
   ]
  },
  {
   "cell_type": "markdown",
   "id": "3755dedb",
   "metadata": {},
   "source": [
    "Create a matrix of gene expressions for each type"
   ]
  },
  {
   "cell_type": "code",
   "execution_count": null,
   "id": "f21e337d",
   "metadata": {},
   "outputs": [],
   "source": [
    "expression_matrix = means.T.values"
   ]
  },
  {
   "cell_type": "markdown",
   "id": "614bf2dd",
   "metadata": {},
   "source": [
    "Apply dimensionality reduction on the matrix (greatly simplifies the similarity search without loosing too much information)."
   ]
  },
  {
   "cell_type": "code",
   "execution_count": null,
   "id": "79f9a2a8",
   "metadata": {},
   "outputs": [],
   "source": [
    "pca = PCA(n_components=256)\n",
    "reduced_expression_matrix = pca.fit_transform(expression_matrix)"
   ]
  },
  {
   "cell_type": "code",
   "execution_count": null,
   "id": "8f61f66c",
   "metadata": {},
   "outputs": [],
   "source": [
    "sum(pca.explained_variance_ratio_)"
   ]
  },
  {
   "cell_type": "markdown",
   "id": "80f6a5ed",
   "metadata": {},
   "source": [
    "Create a PandasPGFrame"
   ]
  },
  {
   "cell_type": "code",
   "execution_count": null,
   "id": "100f3608",
   "metadata": {},
   "outputs": [],
   "source": [
    "node_df = pd.DataFrame(nodes.values()).rename(\n",
    "    columns={\"cell_set_accession\": \"@id\"})"
   ]
  },
  {
   "cell_type": "code",
   "execution_count": null,
   "id": "68b6c771",
   "metadata": {},
   "outputs": [],
   "source": [
    "node_df = pd.DataFrame(nodes.values()).rename(\n",
    "    columns={\"cell_set_accession\": \"@id\"})\n",
    "node_vectors = {}\n",
    "for i, c in enumerate(means.columns):\n",
    "    node_vectors[c] = reduced_expression_matrix[i, :].tolist()\n",
    "node_vectors = pd.DataFrame(\n",
    "    node_vectors.items(), columns=[\"cell_set_alias\", \"features\"])\n",
    "node_df = node_df.merge(node_vectors, on=\"cell_set_alias\", how=\"left\").set_index(\"@id\")"
   ]
  },
  {
   "cell_type": "code",
   "execution_count": null,
   "id": "3b1352d7",
   "metadata": {},
   "outputs": [],
   "source": [
    "edge_df = pd.DataFrame(edges, columns=[\"@source_id\", \"@target_id\"]).set_index([\"@source_id\", \"@target_id\"])\n",
    "edge_df[\"@type\"] = \"IS_SUBCLASS_OF\"\n",
    "frame = PandasPGFrame.from_frames(node_df, edge_df)\n",
    "for c in frame._nodes.columns:\n",
    "    frame.node_prop_as_category(c)"
   ]
  },
  {
   "cell_type": "markdown",
   "id": "53a7d625",
   "metadata": {},
   "source": [
    "Remove intermediate nodes from the created graph that do not represent any 'labeled' cell types, but only unlabeled clusters of cells."
   ]
  },
  {
   "cell_type": "code",
   "execution_count": null,
   "id": "617bb39f",
   "metadata": {},
   "outputs": [],
   "source": [
    "graph = pgframe_to_networkx(frame)"
   ]
  },
  {
   "cell_type": "code",
   "execution_count": null,
   "id": "2e69b333",
   "metadata": {},
   "outputs": [],
   "source": [
    "while True:\n",
    "    edges_to_remove = set()\n",
    "    edges_to_add = set()\n",
    "    for n in graph.nodes():\n",
    "        if frame._nodes.loc[n, \"cell_set_alias\"]:\n",
    "            for _, t in graph.out_edges(n):\n",
    "                father_alias = frame._nodes.loc[t, \"cell_set_alias\"]\n",
    "                if not father_alias:\n",
    "                    edges_to_remove.add((n, t))\n",
    "                    for _, tt in graph.out_edges(t):\n",
    "                        edges_to_add.add((n, tt))\n",
    "\n",
    "    for s, t in edges_to_remove:\n",
    "        graph.remove_edge(s, t)\n",
    "    for s, t in edges_to_add:\n",
    "        graph.add_edge(s, t)\n",
    "\n",
    "    if not edges_to_remove and not edges_to_add:\n",
    "        break"
   ]
  },
  {
   "cell_type": "code",
   "execution_count": null,
   "id": "c587bccb",
   "metadata": {},
   "outputs": [],
   "source": [
    "graph.remove_nodes_from(list(nx.isolates(graph)))\n",
    "graph.remove_nodes_from([\n",
    "    n for n in graph.nodes() if not frame._nodes.loc[n, \"cell_set_alias\"]\n",
    "])\n",
    "frame.remove_nodes([\n",
    "    n for n in frame.nodes() if n not in graph.nodes()\n",
    "])\n",
    "frame.remove_edges([\n",
    "    (s, t) for s, t in frame.edges() if (s, t) not in graph.edges()\n",
    "])\n",
    "new_edges = [\n",
    "    (s, t) for s, t in graph.edges() if (s, t) not in frame.edges()\n",
    "]\n",
    "frame.add_edges(new_edges)\n",
    "\n",
    "for s, t in new_edges:\n",
    "    frame._edges.loc[(s, t), \"@type\"] = \"IS_SUBCLASS_OF\""
   ]
  },
  {
   "cell_type": "markdown",
   "id": "90168b99",
   "metadata": {},
   "source": [
    "The ttype 'CS202106160_381' seem not to have any expression profile data in the current version of the dataset"
   ]
  },
  {
   "cell_type": "code",
   "execution_count": null,
   "id": "6b861bed",
   "metadata": {},
   "outputs": [],
   "source": [
    "frame.remove_nodes([\"CS202106160_381\"])\n",
    "edges_to_remove = set()\n",
    "for s, t in frame._edges.index:\n",
    "    if s == \"CS202106160_381\":\n",
    "        edges_to_remove.add((s, t))\n",
    "    if t == \"CS202106160_381\":\n",
    "        edges_to_remove.add((s, t))\n",
    "frame.remove_edges(edges_to_remove)"
   ]
  },
  {
   "cell_type": "markdown",
   "id": "92588fb6",
   "metadata": {},
   "source": [
    "At the moment only 'leaf' nodes have expression profiles assigned, we compute such profiles for non-leaf nodes by recursively averaging the profiles of thier children."
   ]
  },
  {
   "cell_type": "code",
   "execution_count": null,
   "id": "58743285",
   "metadata": {
    "scrolled": true
   },
   "outputs": [],
   "source": [
    "autocomplete_types_from_children(frame, \"features\")"
   ]
  },
  {
   "cell_type": "markdown",
   "id": "843d3b77",
   "metadata": {},
   "source": [
    "Fit an embedder"
   ]
  },
  {
   "cell_type": "code",
   "execution_count": null,
   "id": "6ba2fd51",
   "metadata": {},
   "outputs": [],
   "source": [
    "embedder = StellarGraphNodeEmbedder(\n",
    "    \"graphsage\", length=5, number_of_walks=15,\n",
    "    epochs=5, embedding_dimension=128,\n",
    "    feature_vector_prop=\"features\",\n",
    "    random_walk_p=2, random_walk_q=0.2, biased=True)"
   ]
  },
  {
   "cell_type": "code",
   "execution_count": null,
   "id": "4c924a91",
   "metadata": {},
   "outputs": [],
   "source": [
    "embeddings = embedder.fit_model(frame)"
   ]
  },
  {
   "cell_type": "markdown",
   "id": "2cc8409f",
   "metadata": {},
   "source": [
    "Save embedding vectors and thier meta-data for visualization with https://projector.tensorflow.org/"
   ]
  },
  {
   "cell_type": "code",
   "execution_count": null,
   "id": "919b4717",
   "metadata": {},
   "outputs": [],
   "source": [
    "a = np.array(embeddings[\"embedding\"].tolist())\n",
    "np.savetxt(\"../../../data/graphsage_ttypes.tsv\", a, delimiter=\"\\t\")\n",
    "frame._nodes[[\"cell_set_alias\"]].reset_index()[\n",
    "    [\"cell_set_alias\", \"@id\"]].to_csv(\"../../../data/ttypes_meta.tsv\", sep=\"\\t\")"
   ]
  },
  {
   "cell_type": "code",
   "execution_count": null,
   "id": "caaa3861",
   "metadata": {},
   "outputs": [],
   "source": [
    "frame.add_node_properties(\n",
    "    embeddings.rename(columns={\"embedding\": \"graphsage\"}))\n",
    "embedding_2d = transform_to_2d(frame._nodes[\"graphsage\"].tolist())\n",
    "plot_2d(frame, vectors=embedding_2d)"
   ]
  },
  {
   "cell_type": "markdown",
   "id": "f54cc93f",
   "metadata": {},
   "source": [
    "### Create EmbeddingPipeline and push to Nexus"
   ]
  },
  {
   "cell_type": "code",
   "execution_count": null,
   "id": "f770eba3",
   "metadata": {},
   "outputs": [],
   "source": [
    "uri_template = \"https://bbp.epfl.ch/ontologies/core/ttypes/{}\"\n",
    "\n",
    "def create_url(label):\n",
    "    safe_label = label.replace(\" \", \"_\").replace(\"/\", \"_\").replace(\",\", \"_\")\n",
    "    uri = uri_template.format(safe_label)\n",
    "    return uri\n",
    "\n",
    "frame._nodes[\"ontology_uri\"] = frame._nodes[\"cell_set_alias\"].apply(\n",
    "    create_url)"
   ]
  },
  {
   "cell_type": "code",
   "execution_count": null,
   "id": "cc35a7b1",
   "metadata": {},
   "outputs": [],
   "source": [
    "similarity_index = FaissSimilarityIndex(\n",
    "    dimension=128, similarity=\"cosine\", n_segments=3)\n",
    "sim_processor = SimilarityProcessor(similarity_index)\n",
    "sim_processor.add(\n",
    "    frame._nodes[\"graphsage\"].tolist(),\n",
    "    frame._nodes[\"ontology_uri\"].tolist())\n",
    "\n",
    "pipeline = EmbeddingPipeline(\n",
    "    embedder=embedder,\n",
    "    similarity_processor=sim_processor)\n",
    "\n",
    "pipeline.save(\"../../../data/TType_embedding_graphsage_cosine\", compress=True)"
   ]
  },
  {
   "cell_type": "code",
   "execution_count": null,
   "id": "4b7cfe3f",
   "metadata": {},
   "outputs": [],
   "source": [
    "ttype_model_resource = push_model(\n",
    "    forge, \"TType Embedding Model\",\n",
    "    \"Embedding of cell transcriptome types based on their taxonomy and expression profiles\",\n",
    "    \"TType\",\n",
    "    \"../../../data/TType_embedding_graphsage_cosine.zip\", \"cosine\", 128, bg_version.__version__)"
   ]
  },
  {
   "cell_type": "markdown",
   "id": "04c6bd29",
   "metadata": {},
   "source": [
    "## Embedding of MTypes"
   ]
  },
  {
   "cell_type": "markdown",
   "id": "aceb9b0a",
   "metadata": {},
   "source": [
    "Load the data"
   ]
  },
  {
   "cell_type": "code",
   "execution_count": null,
   "id": "c6303408",
   "metadata": {},
   "outputs": [],
   "source": [
    "with open(\"../../../data/mtype_data_sscx.json\", \"r\") as f:\n",
    "    mtype_json = json.load(f)"
   ]
  },
  {
   "cell_type": "code",
   "execution_count": null,
   "id": "9701c427",
   "metadata": {},
   "outputs": [],
   "source": [
    "# There is very little morphs with annotated apical dendrites, we skip for the moment\n",
    "EXCLUDE_COMPARTMENTS = [\"ApicalDendrite\"]\n",
    "EXCLUDE_STATISTICS = [\"ApicalDendrite\"]\n",
    "STATISTICS_OF_INTEREST = [\"mean\", \"standard_deviation\"]"
   ]
  },
  {
   "cell_type": "code",
   "execution_count": null,
   "id": "c1d3efa1",
   "metadata": {},
   "outputs": [],
   "source": [
    "feature_records = []\n",
    "for morpho in mtype_json:\n",
    "    record = {}\n",
    "    for ann in morpho[\"annotation\"]:\n",
    "        if \"MType:Annotation\" in ann[\"type\"]:\n",
    "            record[\"MType\"] = ann[\"hasBody\"][\"label\"]\n",
    "            record[\"MType_id\"] = ann[\"hasBody\"][\"id\"]\n",
    "        if \"NeuronMorphologyFeatureAnnotation\" in ann[\"type\"]:\n",
    "            compartment = ann[\"compartment\"]\n",
    "            if compartment not in EXCLUDE_COMPARTMENTS:\n",
    "                for feature_ann in ann[\"hasBody\"]:\n",
    "                    feature_name = feature_ann[\"isMeasurementOf\"][\"label\"].replace(\" \", \"_\")\n",
    "                    for el in feature_ann[\"series\"]:\n",
    "                        stat = el[\"statistics\"].replace(\" \", \"_\")\n",
    "                        if stat in STATISTICS_OF_INTEREST:\n",
    "                            record[f\"{compartment}_{stat}_{feature_name}\"] = el[\"value\"]\n",
    "    feature_records.append(record)"
   ]
  },
  {
   "cell_type": "code",
   "execution_count": null,
   "id": "42708272",
   "metadata": {},
   "outputs": [],
   "source": [
    "feature_df = pd.DataFrame(feature_records)"
   ]
  },
  {
   "cell_type": "code",
   "execution_count": null,
   "id": "98ff2e6e",
   "metadata": {},
   "outputs": [],
   "source": [
    "labels = feature_df[\"MType\"].tolist()\n",
    "ids = feature_df[\"MType_id\"].tolist()"
   ]
  },
  {
   "cell_type": "markdown",
   "id": "f3367e81",
   "metadata": {},
   "source": [
    "Create a matrix of morphological features for each type"
   ]
  },
  {
   "cell_type": "code",
   "execution_count": null,
   "id": "9bbbbb5d",
   "metadata": {},
   "outputs": [],
   "source": [
    "X = feature_df.drop(columns=[\"MType\", \"MType_id\"]).values\n",
    "X.shape"
   ]
  },
  {
   "cell_type": "markdown",
   "id": "d2ead1bb",
   "metadata": {},
   "source": [
    "Impute missing features with avg values"
   ]
  },
  {
   "cell_type": "code",
   "execution_count": null,
   "id": "c181c44b",
   "metadata": {},
   "outputs": [],
   "source": [
    "imputer = SimpleImputer()\n",
    "imputed_X = imputer.fit_transform(X)"
   ]
  },
  {
   "cell_type": "code",
   "execution_count": null,
   "id": "1423f162",
   "metadata": {},
   "outputs": [],
   "source": [
    "df = pd.DataFrame([\n",
    "    {\"label\": l, \"id\": ids[i], \"features\": imputed_X[i, :]}\n",
    "    for i, l in enumerate(labels)\n",
    "])\n",
    "type_features = df.groupby(\"id\").aggregate(lambda x: np.mean(x, axis=0))"
   ]
  },
  {
   "cell_type": "code",
   "execution_count": null,
   "id": "f3c85aeb",
   "metadata": {},
   "outputs": [],
   "source": [
    "type_X = np.asarray(type_features[\"features\"].tolist())"
   ]
  },
  {
   "cell_type": "code",
   "execution_count": null,
   "id": "aec16d8a",
   "metadata": {},
   "outputs": [],
   "source": [
    "pca = PCA(n_components=2)\n",
    "features_2d = pca.fit_transform(type_X)\n",
    "print(\"Explained variance for 2 dims:\", sum(pca.explained_variance_ratio_))\n",
    "frame = PandasPGFrame()\n",
    "frame.add_nodes(list(range(type_X.shape[0])))\n",
    "\n",
    "fig, ax = plt.subplots(figsize=(10, 10))\n",
    "ax.scatter(features_2d[:, 0], features_2d[:, 1])\n",
    "\n",
    "for i, txt in enumerate(type_features.index):\n",
    "    ax.annotate(txt, (features_2d[i, 0], features_2d[i, 1]))\n",
    "\n",
    "plt.show()"
   ]
  },
  {
   "cell_type": "markdown",
   "id": "6ad5e62b",
   "metadata": {},
   "source": [
    "Scale features to look like Standard normal distribution, see https://scikit-learn.org/stable/modules/preprocessing.html#standardization-or-mean-removal-and-variance-scaling"
   ]
  },
  {
   "cell_type": "code",
   "execution_count": null,
   "id": "512cdd14",
   "metadata": {},
   "outputs": [],
   "source": [
    "scaler = StandardScaler()\n",
    "scaled_X = scaler.fit_transform(type_X)"
   ]
  },
  {
   "cell_type": "markdown",
   "id": "fc26ccd3",
   "metadata": {},
   "source": [
    "Load the hierarchy of MTypes"
   ]
  },
  {
   "cell_type": "code",
   "execution_count": null,
   "id": "cd1c0e01",
   "metadata": {},
   "outputs": [],
   "source": [
    "mtypes = rdflib.Graph()\n",
    "mtypes.parse(\"../../../data/mtypes.ttl\", format=\"turtle\")"
   ]
  },
  {
   "cell_type": "code",
   "execution_count": null,
   "id": "ee80c657",
   "metadata": {},
   "outputs": [],
   "source": [
    "mtype_hierarchy_nodes = []\n",
    "mtype_hierarchy_edges = []\n",
    "for s in mtypes.subjects(RDF.type, OWL.Class):\n",
    "    mtype_hierarchy_nodes.append(str(s))\n",
    "    for o in mtypes.objects(s, RDFS.subClassOf):\n",
    "        mtype_hierarchy_edges.append((str(s), str(o)))"
   ]
  },
  {
   "cell_type": "code",
   "execution_count": null,
   "id": "55e6d05f",
   "metadata": {},
   "outputs": [],
   "source": [
    "mtype_frame = PandasPGFrame()\n",
    "mtype_frame.add_nodes(mtype_hierarchy_nodes)\n",
    "mtype_frame.add_edges(mtype_hierarchy_edges)\n",
    "mtype_frame._edges[\"@type\"] = \"IS_SUBCLASS_OF\""
   ]
  },
  {
   "cell_type": "code",
   "execution_count": null,
   "id": "0b54bb7b",
   "metadata": {},
   "outputs": [],
   "source": [
    "mtype_frame._nodes = mtype_frame._nodes.reset_index().merge(\n",
    "    type_features.reset_index().rename(columns={\"id\": \"@id\"}),\n",
    "    on=\"@id\", how=\"left\").set_index(\"@id\")"
   ]
  },
  {
   "cell_type": "markdown",
   "id": "7193c113",
   "metadata": {},
   "source": [
    "At the moment only 'leaf' nodes have morph features assigned, we compute such profiles for non-leaf nodes by recursively averaging the features of thier children."
   ]
  },
  {
   "cell_type": "code",
   "execution_count": null,
   "id": "1d491ff8",
   "metadata": {},
   "outputs": [],
   "source": [
    "autocomplete_types_from_children(mtype_frame, \"features\")"
   ]
  },
  {
   "cell_type": "code",
   "execution_count": null,
   "id": "1780cdd2",
   "metadata": {
    "scrolled": true
   },
   "outputs": [],
   "source": [
    "nodes_to_remove = list(mtype_frame._nodes[\"features\"][mtype_frame._nodes[\"features\"].apply(lambda x: is_nan(x))].index)"
   ]
  },
  {
   "cell_type": "code",
   "execution_count": null,
   "id": "8a572d67",
   "metadata": {},
   "outputs": [],
   "source": [
    "mtype_frame.remove_nodes(nodes_to_remove)"
   ]
  },
  {
   "cell_type": "markdown",
   "id": "cc1e57a7",
   "metadata": {},
   "source": [
    "Fit an embedder"
   ]
  },
  {
   "cell_type": "code",
   "execution_count": null,
   "id": "83c6de84",
   "metadata": {},
   "outputs": [],
   "source": [
    "embedder = StellarGraphNodeEmbedder(\n",
    "    \"graphsage\", length=5, number_of_walks=15,\n",
    "    epochs=5, embedding_dimension=128,\n",
    "    feature_vector_prop=\"features\",\n",
    "    random_walk_p=2, random_walk_q=0.2, biased=True)"
   ]
  },
  {
   "cell_type": "code",
   "execution_count": null,
   "id": "999600de",
   "metadata": {},
   "outputs": [],
   "source": [
    "embedding = embedder.fit_model(mtype_frame)"
   ]
  },
  {
   "cell_type": "code",
   "execution_count": null,
   "id": "112a23e6",
   "metadata": {},
   "outputs": [],
   "source": [
    "mtype_frame.add_node_properties(\n",
    "    embedding.rename(columns={\"embedding\": \"graphsage\"}))\n",
    "embedding_2d = transform_to_2d(mtype_frame._nodes[\"graphsage\"].tolist())\n",
    "plot_2d(mtype_frame, vectors=embedding_2d)"
   ]
  },
  {
   "cell_type": "markdown",
   "id": "ecfed295",
   "metadata": {},
   "source": [
    "Save embedding vectors and thier meta-data for visualization with https://projector.tensorflow.org/"
   ]
  },
  {
   "cell_type": "code",
   "execution_count": null,
   "id": "f7ab38be",
   "metadata": {},
   "outputs": [],
   "source": [
    "a = np.array(embedding[\"embedding\"].tolist())\n",
    "np.savetxt(\"../../../data/graphsage_mtypes.tsv\", a, delimiter=\"\\t\")\n",
    "mtype_frame._nodes.reset_index()[[\"@id\", \"@id\"]].to_csv(\n",
    "    \"../../../data/mtypes_meta.tsv\", sep=\"\\t\")"
   ]
  },
  {
   "cell_type": "markdown",
   "id": "50664916",
   "metadata": {},
   "source": [
    "### Create EmbeddingPipeline and push to Nexus"
   ]
  },
  {
   "cell_type": "code",
   "execution_count": null,
   "id": "e6b2d8f0",
   "metadata": {},
   "outputs": [],
   "source": [
    "similarity_index = FaissSimilarityIndex(\n",
    "    dimension=128, similarity=\"cosine\", n_segments=3)\n",
    "sim_processor = SimilarityProcessor(similarity_index)\n",
    "sim_processor.add(\n",
    "    mtype_frame._nodes[\"graphsage\"].tolist(),\n",
    "    mtype_frame._nodes.index)\n",
    "\n",
    "pipeline = EmbeddingPipeline(\n",
    "    embedder=embedder,\n",
    "    similarity_processor=sim_processor)\n",
    "\n",
    "pipeline.save(\"../../../data/MType_embedding_graphsage_cosine\", compress=True)"
   ]
  },
  {
   "cell_type": "code",
   "execution_count": null,
   "id": "1917f9b8",
   "metadata": {
    "scrolled": true
   },
   "outputs": [],
   "source": [
    "ttype_model_resource = push_model(\n",
    "    forge, \"MType Embedding Model\",\n",
    "    \"Embedding of cell morphological types based on their morphological features (extracted with NeuroM)\",\n",
    "    \"MType\",\n",
    "    \"../../../data/MType_embedding_graphsage_cosine.zip\", \"cosine\", 128, bg_version.__version__)"
   ]
  }
 ],
 "metadata": {
  "kernelspec": {
   "display_name": "bg",
   "language": "python",
   "name": "bg"
  },
  "language_info": {
   "codemirror_mode": {
    "name": "ipython",
    "version": 3
   },
   "file_extension": ".py",
   "mimetype": "text/x-python",
   "name": "python",
   "nbconvert_exporter": "python",
   "pygments_lexer": "ipython3",
   "version": "3.7.10"
  }
 },
 "nbformat": 4,
 "nbformat_minor": 5
}
