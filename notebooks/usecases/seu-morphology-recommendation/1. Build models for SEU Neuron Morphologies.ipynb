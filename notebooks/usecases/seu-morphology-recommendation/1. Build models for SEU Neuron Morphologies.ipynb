{
 "cells": [
  {
   "cell_type": "code",
   "execution_count": 129,
   "id": "a3d7b594",
   "metadata": {},
   "outputs": [
    {
     "name": "stdout",
     "output_type": "stream",
     "text": [
      "The autoreload extension is already loaded. To reload it, use:\n",
      "  %reload_ext autoreload\n"
     ]
    }
   ],
   "source": [
    "%load_ext autoreload\n",
    "%autoreload 2"
   ]
  },
  {
   "cell_type": "markdown",
   "id": "f20a767a",
   "metadata": {},
   "source": [
    "# Creating vector representations of SEU Neuron Morphologies"
   ]
  },
  {
   "cell_type": "code",
   "execution_count": 130,
   "id": "83423614",
   "metadata": {},
   "outputs": [],
   "source": [
    "import getpass\n",
    "import json\n",
    "import jwt\n",
    "import pickle\n",
    "import sys\n",
    "\n",
    "from os import listdir\n",
    "from os.path import isfile, join\n",
    "\n",
    "from collections import Counter\n",
    "\n",
    "import numpy as np\n",
    "import pandas as pd\n",
    "\n",
    "import matplotlib.pyplot as plt\n",
    "\n",
    "from kgforge.core import KnowledgeGraphForge\n",
    "from kgforge.specializations.resources import Dataset\n",
    "\n",
    "from sklearn.feature_selection import VarianceThreshold\n",
    "from sklearn.feature_extraction.text import TfidfVectorizer\n",
    "from sklearn.preprocessing import StandardScaler, MultiLabelBinarizer\n",
    "from sklearn.impute import SimpleImputer\n",
    "from sklearn.manifold import TSNE\n",
    "from sklearn.decomposition import PCA\n",
    "\n",
    "from bluegraph import PandasPGFrame\n",
    "from bluegraph.preprocess import ScikitLearnPGEncoder\n",
    "from bluegraph.downstream.utils import transform_to_2d, plot_2d\n",
    "from bluegraph.preprocess import CooccurrenceGenerator\n",
    "from bluegraph.backends.gensim import GensimNodeEmbedder\n",
    "from bluegraph.backends.stellargraph import StellarGraphNodeEmbedder\n",
    "from bluegraph.backends.networkx import NXCommunityDetector\n",
    "from bluegraph.downstream import EmbeddingPipeline\n",
    "from bluegraph.downstream.similarity import (FaissSimilarityIndex, ScikitLearnSimilarityIndex,\n",
    "                                             SimilarityProcessor)\n",
    "from bluegraph import version as bg_version\n",
    "\n",
    "import morphio\n",
    "import tmd.io\n",
    "import tmd.Neuron\n",
    "import tmd.utils\n",
    "from tmd.Topology.methods import get_ph_neuron\n",
    "\n",
    "from inference_tools.similarity.data_registration import push_model\n",
    "\n",
    "%matplotlib inline"
   ]
  },
  {
   "cell_type": "markdown",
   "id": "93bdbb6f",
   "metadata": {},
   "source": [
    "## Helpers"
   ]
  },
  {
   "cell_type": "code",
   "execution_count": 131,
   "id": "09df973c",
   "metadata": {},
   "outputs": [],
   "source": [
    "def get_encoder_features(prop_name, encoder, last_index):\n",
    "    if encoder is None or isinstance(encoder, StandardScaler):\n",
    "        return {last_index: f\"{prop_name}_IDENTITY\"}, last_index + 1\n",
    "    if isinstance(encoder, TfidfVectorizer):\n",
    "        return (\n",
    "            {\n",
    "                i + last_index: f\"{prop_name}_WORD_{f}\"\n",
    "                for i, f in enumerate(encoder.get_feature_names())\n",
    "            },\n",
    "            last_index + len(encoder.get_feature_names())\n",
    "        )\n",
    "    elif isinstance(encoder, MultiLabelBinarizer):\n",
    "        return (\n",
    "            {\n",
    "                i + last_index: f\"{prop_name}_CLASS_{c}\"\n",
    "                for i, c in enumerate(encoder.classes_)\n",
    "            },\n",
    "            last_index + len(encoder.classes_)\n",
    "        )\n",
    "    \n",
    "    else:\n",
    "        return {}, last_index\n",
    "\n",
    "\n",
    "def explain_property_coordinates(encoder, graph):\n",
    "    last_index = 0\n",
    "    property_coordinates = {}\n",
    "    for p in graph.node_properties():\n",
    "        if p in encoder._node_encoders:\n",
    "            res, new_index = get_encoder_features(\n",
    "                p, encoder._node_encoders[p], last_index)\n",
    "            property_coordinates.update(res)\n",
    "            last_index = new_index\n",
    "    return property_coordinates\n",
    "\n",
    "\n",
    "def get_neurom_feature_annotations(data, compartments_to_exclude, statistics_of_interest):\n",
    "    record = {}\n",
    "    try:\n",
    "        for ann in data.annotation:\n",
    "            if \"MType:Annotation\" in ann[\"type\"]:\n",
    "                record[\"MType\"] = ann[\"hasBody\"][\"label\"]\n",
    "            if \"NeuronMorphologyFeatureAnnotation\" in ann[\"type\"]:\n",
    "                compartment = ann[\"compartment\"]\n",
    "                if compartment not in compartments_to_exclude:\n",
    "                    for feature_ann in ann[\"hasBody\"]:\n",
    "                        if \"NeuriteLocationFeature\" not in feature_ann[\"type\"]:\n",
    "                            feature_name = feature_ann[\"isMeasurementOf\"][\"label\"].replace(\" \", \"_\")\n",
    "                            if isinstance(feature_ann[\"series\"], dict):\n",
    "                                feature_ann[\"series\"] = [feature_ann[\"series\"]]\n",
    "                            for el in feature_ann[\"series\"]:\n",
    "                                if \"statistic\" in el:\n",
    "                                    stat = el[\"statistic\"].replace(\" \", \"_\")\n",
    "                                    if stat in statistics_of_interest and \"value\" in el:\n",
    "                                        record[f\"{compartment}_{stat}_{feature_name}\"] = el[\"value\"]\n",
    "    except TypeError:\n",
    "        pass\n",
    "    return record\n",
    "\n",
    "\n",
    "def get_notation(region_id, brain_region_notation):\n",
    "    if region_id not in brain_region_notation:\n",
    "        r = forge.retrieve(region_id)\n",
    "        brain_region_notation[r.id] = (r.notation, r.prefLabel)\n",
    "    return brain_region_notation[region_id][0]\n",
    "\n",
    "\n",
    "def get_location_feature_annotations(data, compartments_to_exclude, brain_region_notation):\n",
    "    record = {}\n",
    "    try:\n",
    "        for ann in data.annotation:\n",
    "            if \"MType:Annotation\" in ann[\"type\"]:\n",
    "                record[\"MType\"] = ann[\"hasBody\"][\"label\"]\n",
    "            if \"NeuronMorphologyFeatureAnnotation\" in ann[\"type\"]:\n",
    "                compartment = ann[\"compartment\"]\n",
    "                if compartment not in compartments_to_exclude:\n",
    "                    for feature_ann in ann[\"hasBody\"]:\n",
    "                        if \"NeuriteLocationFeature\" in feature_ann[\"type\"]:\n",
    "                            feature_name = feature_ann[\"isMeasurementOf\"][\"label\"].replace(\" \", \"_\")\n",
    "                            if isinstance(feature_ann[\"series\"], dict):\n",
    "                                feature_ann[\"series\"] = [feature_ann[\"series\"]]\n",
    "                            regions = sum([\n",
    "                                [get_notation(\n",
    "                                    r[\"brainRegion\"][\"id\"],\n",
    "                                    brain_region_notation)] * r[\"count\"]\n",
    "                                for r in feature_ann[\"series\"]\n",
    "                            ], [])\n",
    "                            record[f\"{compartment}_{feature_name}\"] = regions\n",
    "                            \n",
    "    except TypeError as e:\n",
    "        pass\n",
    "    return record\n",
    "\n",
    "\n",
    "def plot_diagram(diagram, max_value=None):\n",
    "    positive = np.array([\n",
    "        [s, e]\n",
    "        for s, e in diagram\n",
    "        if s <= e\n",
    "    ])\n",
    "    negative = np.array([\n",
    "        [s, e]\n",
    "        for s, e in diagram\n",
    "        if s >= e\n",
    "    ])\n",
    "    births = [el[0] for el in diagram]\n",
    "    if max_value is not None:\n",
    "        births.append(max_value)\n",
    "    f, ax = plt.subplots(figsize=(5, 5))\n",
    "    if positive.shape[0] != 0:\n",
    "        ax.scatter(np.array(positive)[:,0], np.array(positive)[:,1])\n",
    "    if negative.shape[0] != 0:\n",
    "        ax.scatter(np.array(negative)[:,0], np.array(negative)[:,1])\n",
    "    ax.plot(births, births)\n",
    "    plt.show()\n",
    "\n",
    "\n",
    "def diagram_to_persistance_points(diagram):\n",
    "    lower_points = np.array([\n",
    "        [s, s - t] for s, t in diagram if s >= t\n",
    "    ])\n",
    "    upper_points = np.array([\n",
    "        [s, t - s] for s, t in diagram if s <= t\n",
    "    ])\n",
    "    return lower_points, upper_points\n",
    "\n",
    "\n",
    "def kernel_density(x, centers, masses, kernel_width):\n",
    "    density = np.sum(\n",
    "        masses * np.exp(- (2 * kernel_width) ** -2 * (x - centers) ** 2))\n",
    "    return density\n",
    "\n",
    "\n",
    "def evaluate_composed_density(points, x, width):\n",
    "    centers = points[:, 0]\n",
    "    masses = points[:, 1]\n",
    "    return np.array([kernel_density(el, centers, masses, width) for el in x])\n",
    "\n",
    "\n",
    "def compute_persistance_vector(diagram, dim, max_time, kernel_width):\n",
    "    if not dim % 2:\n",
    "        lower_dim = upper_dim = int(dim / 2)\n",
    "    else:\n",
    "        lower_dim = int(dim / 2) + 1\n",
    "        upper_dim = dim - lower_dim\n",
    "    \n",
    "    lower_points, upper_points = diagram_to_persistance_points(diagram)\n",
    "\n",
    "    if lower_points.shape[0] == 0:\n",
    "        lower_vector = np.zeros(lower_dim)\n",
    "    else:\n",
    "        lower_vector = evaluate_composed_density(\n",
    "            lower_points, np.linspace(0, max_time, num=lower_dim), kernel_width)\n",
    "    if upper_points.shape[0] == 0:\n",
    "        upper_vector = np.zeros(upper_dim)\n",
    "    else:\n",
    "        upper_vector = evaluate_composed_density(\n",
    "            upper_points, np.linspace(0, max_time, num=upper_dim), kernel_width)\n",
    "    return np.concatenate([lower_vector, upper_vector])\n",
    "\n",
    "\n",
    "def plot_diagram_profile(diagram, max_time, width, ylim):\n",
    "    plot_diagram(diagram, max_value=max_time)\n",
    "    plt.show()\n",
    "\n",
    "    lower_points, upper_points = diagram_to_persistance_points(diagram)\n",
    "\n",
    "    fig, (ax1, ax2) = plt.subplots(1, 2, figsize=(12, 4))\n",
    "    if lower_points.shape[0] != 0:\n",
    "        xvals = np.arange(0, max_time, max_time / 200)\n",
    "        lower_density = evaluate_composed_density(\n",
    "            lower_points, xvals, width)\n",
    "        \n",
    "        ax1.plot(xvals, lower_density)\n",
    "        ax1.scatter(lower_points[:, 0], lower_points[:, 1])\n",
    "        ax1.set_ylim((0, ylim))\n",
    "\n",
    "    if upper_points.shape[0] != 0:\n",
    "        xvals = np.arange(0, max_time, max_time / 200)\n",
    "        upper_density = evaluate_composed_density(\n",
    "            upper_points, xvals, width)\n",
    "        ax2.plot(xvals, upper_density)\n",
    "        ax2.scatter(upper_points[:, 0], upper_points[:, 1])\n",
    "        ax2.set_ylim((0, ylim))\n",
    "    plt.show()\n",
    "    \n",
    "    \n",
    "def load_morphologies(paths, progress_bar=iter):\n",
    "    \"\"\"Author: Stanislav Schmidt\"\"\"\n",
    "    morphs = {}\n",
    "    errors = {}\n",
    "    for file in progress_bar(paths):\n",
    "        try:\n",
    "            morphology = morphio.Morphology(\n",
    "                file,\n",
    "                morphio.Option.soma_sphere,\n",
    "            )\n",
    "        except morphio.MorphioError as exc:\n",
    "            errors[file] = str(exc)\n",
    "        else:\n",
    "            morphs[file] = morphology\n",
    "\n",
    "    return morphs, errors\n",
    "\n",
    "\n",
    "def to_tmd_neuron(morphology: morphio.Morphology) -> tmd.Neuron.Neuron:\n",
    "    \"\"\"Convert a MorphIO neuron to a TMD neuron.\n",
    "    \n",
    "    Author: Stanislav Schmidt\n",
    "    \"\"\"\n",
    "    neuron = tmd.Neuron.Neuron()\n",
    "    for tree in tmd.io.convert_morphio_trees(morphology):\n",
    "        neuron.append_tree(tree, tmd.utils.TREE_TYPE_DICT)\n",
    "\n",
    "    return neuron\n",
    "\n",
    "\n",
    "def get_persistence_data(neuron):\n",
    "    \"\"\"Author: Stanislav Schmidt\"\"\"\n",
    "    if neurite_type is None:\n",
    "        kind = \"all\"\n",
    "    else:\n",
    "        kind = neurite_type.name\n",
    "    ph = get_ph_neuron(neuron, neurite_type=kind)\n",
    "    ph_arr = np.array(ph)\n",
    "    return ph_arr"
   ]
  },
  {
   "cell_type": "markdown",
   "id": "a9902203",
   "metadata": {},
   "source": [
    "# I. Prepare morphology data"
   ]
  },
  {
   "cell_type": "code",
   "execution_count": 132,
   "id": "4771742e",
   "metadata": {},
   "outputs": [],
   "source": [
    "DATA_DIR = \"../../../data/\"\n",
    "CONFIG_DIR = \"../../../configs/\""
   ]
  },
  {
   "cell_type": "markdown",
   "id": "1c702c7c",
   "metadata": {},
   "source": [
    "## 1. Load morphologies from Nexus "
   ]
  },
  {
   "cell_type": "code",
   "execution_count": 134,
   "id": "3b1a840e",
   "metadata": {},
   "outputs": [
    {
     "name": "stdout",
     "output_type": "stream",
     "text": [
      "········\n"
     ]
    }
   ],
   "source": [
    "TOKEN = getpass.getpass()"
   ]
  },
  {
   "cell_type": "code",
   "execution_count": 135,
   "id": "e285e186",
   "metadata": {},
   "outputs": [],
   "source": [
    "forge = KnowledgeGraphForge(join(CONFIG_DIR, \"new-forge-config.yaml\"),\n",
    "                            token=TOKEN,\n",
    "                            bucket=\"bbp-external/seu\")"
   ]
  },
  {
   "cell_type": "code",
   "execution_count": 136,
   "id": "3329a273",
   "metadata": {},
   "outputs": [],
   "source": [
    "query = \"\"\"\n",
    "    SELECT ?id\n",
    "    WHERE {\n",
    "        ?id a NeuronMorphology ;\n",
    "            <https://bluebrain.github.io/nexus/vocabulary/deprecated> false .\n",
    "    }\n",
    "\"\"\" \n",
    "\n",
    "resources = forge.sparql(query, limit=1500)\n",
    "morphologies = [forge.retrieve(r.id) for r in resources] "
   ]
  },
  {
   "cell_type": "code",
   "execution_count": 137,
   "id": "d34f25ea",
   "metadata": {},
   "outputs": [],
   "source": [
    "full_df = forge.as_dataframe(morphologies)"
   ]
  },
  {
   "cell_type": "markdown",
   "id": "cf4fc9ba",
   "metadata": {},
   "source": [
    "## 2. Extract neurite features (NeuroM features)"
   ]
  },
  {
   "cell_type": "markdown",
   "id": "68748d7d",
   "metadata": {},
   "source": [
    "Build a data frame with neurite features (per neurite). At the moment we ignore 'ApicalDendrite' and take only mean and std for each feature computed by NeuroM."
   ]
  },
  {
   "cell_type": "code",
   "execution_count": 138,
   "id": "05ec7314",
   "metadata": {},
   "outputs": [],
   "source": [
    "EXCLUDE_COMPARTMENTS = [\"ApicalDendrite\"]\n",
    "STATISTICS_OF_INTEREST = [\"mean\", \"standard_deviation\"]"
   ]
  },
  {
   "cell_type": "code",
   "execution_count": 139,
   "id": "618c9b47",
   "metadata": {},
   "outputs": [],
   "source": [
    "neurite_feature_df = pd.DataFrame(full_df.apply(\n",
    "    lambda x: get_neurom_feature_annotations(\n",
    "        x, EXCLUDE_COMPARTMENTS, STATISTICS_OF_INTEREST), axis=1).tolist())"
   ]
  },
  {
   "cell_type": "code",
   "execution_count": 140,
   "id": "34021c3d",
   "metadata": {},
   "outputs": [
    {
     "name": "stdout",
     "output_type": "stream",
     "text": [
      "Including the following neurite features:\n",
      "\t Axon_mean_Neurite_Max_Radial_Distance\n",
      "\t Axon_standard_deviation_Neurite_Max_Radial_Distance\n",
      "\t Axon_mean_Number_Of_Sections\n",
      "\t Axon_standard_deviation_Number_Of_Sections\n",
      "\t Axon_mean_Number_Of_Bifurcations\n",
      "\t Axon_standard_deviation_Number_Of_Bifurcations\n",
      "\t Axon_mean_Number_Of_Leaves\n",
      "\t Axon_standard_deviation_Number_Of_Leaves\n",
      "\t Axon_mean_Total_Length\n",
      "\t Axon_standard_deviation_Total_Length\n",
      "\t Axon_mean_Total_Area\n",
      "\t Axon_standard_deviation_Total_Area\n",
      "\t Axon_mean_Total_Volume\n",
      "\t Axon_standard_deviation_Total_Volume\n",
      "\t Axon_mean_Section_Lengths\n",
      "\t Axon_standard_deviation_Section_Lengths\n",
      "\t Axon_mean_Section_Term_Lengths\n",
      "\t Axon_standard_deviation_Section_Term_Lengths\n",
      "\t Axon_mean_Section_Bif_Lengths\n",
      "\t Axon_standard_deviation_Section_Bif_Lengths\n",
      "\t Axon_mean_Section_Branch_Orders\n",
      "\t Axon_standard_deviation_Section_Branch_Orders\n",
      "\t Axon_mean_Section_Bif_Branch_Orders\n",
      "\t Axon_standard_deviation_Section_Bif_Branch_Orders\n",
      "\t Axon_mean_Section_Term_Branch_Orders\n",
      "\t Axon_standard_deviation_Section_Term_Branch_Orders\n",
      "\t Axon_mean_Section_Path_Distances\n",
      "\t Axon_standard_deviation_Section_Path_Distances\n",
      "\t Axon_mean_Section_Taper_Rates\n",
      "\t Axon_standard_deviation_Section_Taper_Rates\n",
      "\t Axon_mean_Local_Bifurcation_Angles\n",
      "\t Axon_standard_deviation_Local_Bifurcation_Angles\n",
      "\t Axon_mean_Remote_Bifurcation_Angles\n",
      "\t Axon_standard_deviation_Remote_Bifurcation_Angles\n",
      "\t Axon_mean_Partition_Asymmetry\n",
      "\t Axon_standard_deviation_Partition_Asymmetry\n",
      "\t Axon_mean_Partition_Asymmetry_Length\n",
      "\t Axon_standard_deviation_Partition_Asymmetry_Length\n",
      "\t Axon_mean_Sibling_Ratios\n",
      "\t Axon_standard_deviation_Sibling_Ratios\n",
      "\t Axon_mean_Diameter_Power_Relations\n",
      "\t Axon_standard_deviation_Diameter_Power_Relations\n",
      "\t Axon_mean_Section_Radial_Distances\n",
      "\t Axon_standard_deviation_Section_Radial_Distances\n",
      "\t Axon_mean_Section_Term_Radial_Distances\n",
      "\t Axon_standard_deviation_Section_Term_Radial_Distances\n",
      "\t Axon_mean_Section_Bif_Radial_Distances\n",
      "\t Axon_standard_deviation_Section_Bif_Radial_Distances\n",
      "\t Axon_mean_Terminal_Path_Lengths\n",
      "\t Axon_standard_deviation_Terminal_Path_Lengths\n",
      "\t Axon_mean_Section_Volumes\n",
      "\t Axon_standard_deviation_Section_Volumes\n",
      "\t Axon_mean_Section_Areas\n",
      "\t Axon_standard_deviation_Section_Areas\n",
      "\t Axon_mean_Section_Tortuosity\n",
      "\t Axon_standard_deviation_Section_Tortuosity\n",
      "\t Axon_mean_Section_Strahler_Orders\n",
      "\t Axon_standard_deviation_Section_Strahler_Orders\n",
      "\t BasalDendrite_mean_Neurite_Max_Radial_Distance\n",
      "\t BasalDendrite_standard_deviation_Neurite_Max_Radial_Distance\n",
      "\t BasalDendrite_mean_Number_Of_Sections\n",
      "\t BasalDendrite_standard_deviation_Number_Of_Sections\n",
      "\t BasalDendrite_mean_Number_Of_Bifurcations\n",
      "\t BasalDendrite_standard_deviation_Number_Of_Bifurcations\n",
      "\t BasalDendrite_mean_Number_Of_Leaves\n",
      "\t BasalDendrite_standard_deviation_Number_Of_Leaves\n",
      "\t BasalDendrite_mean_Total_Length\n",
      "\t BasalDendrite_standard_deviation_Total_Length\n",
      "\t BasalDendrite_mean_Total_Area\n",
      "\t BasalDendrite_standard_deviation_Total_Area\n",
      "\t BasalDendrite_mean_Total_Volume\n",
      "\t BasalDendrite_standard_deviation_Total_Volume\n",
      "\t BasalDendrite_mean_Section_Lengths\n",
      "\t BasalDendrite_standard_deviation_Section_Lengths\n",
      "\t BasalDendrite_mean_Section_Term_Lengths\n",
      "\t BasalDendrite_standard_deviation_Section_Term_Lengths\n",
      "\t BasalDendrite_mean_Section_Bif_Lengths\n",
      "\t BasalDendrite_standard_deviation_Section_Bif_Lengths\n",
      "\t BasalDendrite_mean_Section_Branch_Orders\n",
      "\t BasalDendrite_standard_deviation_Section_Branch_Orders\n",
      "\t BasalDendrite_mean_Section_Bif_Branch_Orders\n",
      "\t BasalDendrite_standard_deviation_Section_Bif_Branch_Orders\n",
      "\t BasalDendrite_mean_Section_Term_Branch_Orders\n",
      "\t BasalDendrite_standard_deviation_Section_Term_Branch_Orders\n",
      "\t BasalDendrite_mean_Section_Path_Distances\n",
      "\t BasalDendrite_standard_deviation_Section_Path_Distances\n",
      "\t BasalDendrite_mean_Section_Taper_Rates\n",
      "\t BasalDendrite_standard_deviation_Section_Taper_Rates\n",
      "\t BasalDendrite_mean_Local_Bifurcation_Angles\n",
      "\t BasalDendrite_standard_deviation_Local_Bifurcation_Angles\n",
      "\t BasalDendrite_mean_Remote_Bifurcation_Angles\n",
      "\t BasalDendrite_standard_deviation_Remote_Bifurcation_Angles\n",
      "\t BasalDendrite_mean_Partition_Asymmetry\n",
      "\t BasalDendrite_standard_deviation_Partition_Asymmetry\n",
      "\t BasalDendrite_mean_Partition_Asymmetry_Length\n",
      "\t BasalDendrite_standard_deviation_Partition_Asymmetry_Length\n",
      "\t BasalDendrite_mean_Sibling_Ratios\n",
      "\t BasalDendrite_standard_deviation_Sibling_Ratios\n",
      "\t BasalDendrite_mean_Diameter_Power_Relations\n",
      "\t BasalDendrite_standard_deviation_Diameter_Power_Relations\n",
      "\t BasalDendrite_mean_Section_Radial_Distances\n",
      "\t BasalDendrite_standard_deviation_Section_Radial_Distances\n",
      "\t BasalDendrite_mean_Section_Term_Radial_Distances\n",
      "\t BasalDendrite_standard_deviation_Section_Term_Radial_Distances\n",
      "\t BasalDendrite_mean_Section_Bif_Radial_Distances\n",
      "\t BasalDendrite_standard_deviation_Section_Bif_Radial_Distances\n",
      "\t BasalDendrite_mean_Terminal_Path_Lengths\n",
      "\t BasalDendrite_standard_deviation_Terminal_Path_Lengths\n",
      "\t BasalDendrite_mean_Section_Volumes\n",
      "\t BasalDendrite_standard_deviation_Section_Volumes\n",
      "\t BasalDendrite_mean_Section_Areas\n",
      "\t BasalDendrite_standard_deviation_Section_Areas\n",
      "\t BasalDendrite_mean_Section_Tortuosity\n",
      "\t BasalDendrite_standard_deviation_Section_Tortuosity\n",
      "\t BasalDendrite_mean_Section_Strahler_Orders\n",
      "\t BasalDendrite_standard_deviation_Section_Strahler_Orders\n",
      "\t NeuronMorphology_mean_Morphology_Max_Radial_Distance\n",
      "\t NeuronMorphology_standard_deviation_Morphology_Max_Radial_Distance\n",
      "\t NeuronMorphology_mean_Number_Of_Sections_Per_Neurite\n",
      "\t NeuronMorphology_standard_deviation_Number_Of_Sections_Per_Neurite\n",
      "\t NeuronMorphology_mean_Total_Length_Per_Neurite\n",
      "\t NeuronMorphology_standard_deviation_Total_Length_Per_Neurite\n",
      "\t NeuronMorphology_mean_Total_Area_Per_Neurite\n",
      "\t NeuronMorphology_standard_deviation_Total_Area_Per_Neurite\n",
      "\t NeuronMorphology_mean_Total_Volume_Per_Neurite\n",
      "\t NeuronMorphology_standard_deviation_Total_Volume_Per_Neurite\n",
      "\t NeuronMorphology_mean_Number_Of_Neurites\n",
      "\t NeuronMorphology_standard_deviation_Number_Of_Neurites\n",
      "\t Soma_mean_Soma_Surface_Area\n",
      "\t Soma_standard_deviation_Soma_Surface_Area\n",
      "\t Soma_mean_Soma_Radius\n",
      "\t Soma_standard_deviation_Soma_Radius\n"
     ]
    }
   ],
   "source": [
    "print(\"Including the following neurite features:\")\n",
    "for n in neurite_feature_df.columns:\n",
    "    print(\"\\t\", n)"
   ]
  },
  {
   "cell_type": "markdown",
   "id": "d0322575",
   "metadata": {},
   "source": [
    "## 3. Extract location-based features (section/leaf regions)."
   ]
  },
  {
   "cell_type": "code",
   "execution_count": 146,
   "id": "0053e92d",
   "metadata": {},
   "outputs": [],
   "source": [
    "forge = KnowledgeGraphForge(\n",
    "    join(CONFIG_DIR, \"new-forge-config.yaml\"),\n",
    "    token=TOKEN,\n",
    "    bucket=\"neurosciencegraph/datamodels\")"
   ]
  },
  {
   "cell_type": "code",
   "execution_count": 147,
   "id": "9fb7a70d",
   "metadata": {},
   "outputs": [],
   "source": [
    "brain_region_resources = [\n",
    "    forge.retrieve(el) for el in full_df[\"brainLocation.brainRegion.id\"]\n",
    "]\n",
    "brain_region_notation = {\n",
    "    r.id: (r.notation, r.prefLabel)\n",
    "    for r in brain_region_resources\n",
    "}"
   ]
  },
  {
   "cell_type": "code",
   "execution_count": 148,
   "id": "f3e3496d",
   "metadata": {},
   "outputs": [],
   "source": [
    "localization_features = pd.DataFrame(full_df.apply(\n",
    "    lambda x: get_location_feature_annotations(\n",
    "        x, EXCLUDE_COMPARTMENTS, brain_region_notation), axis=1).tolist())"
   ]
  },
  {
   "cell_type": "code",
   "execution_count": 149,
   "id": "ac971f92",
   "metadata": {},
   "outputs": [
    {
     "data": {
      "text/html": [
       "<div>\n",
       "<style scoped>\n",
       "    .dataframe tbody tr th:only-of-type {\n",
       "        vertical-align: middle;\n",
       "    }\n",
       "\n",
       "    .dataframe tbody tr th {\n",
       "        vertical-align: top;\n",
       "    }\n",
       "\n",
       "    .dataframe thead th {\n",
       "        text-align: right;\n",
       "    }\n",
       "</style>\n",
       "<table border=\"1\" class=\"dataframe\">\n",
       "  <thead>\n",
       "    <tr style=\"text-align: right;\">\n",
       "      <th></th>\n",
       "      <th>Axon_Section_Regions</th>\n",
       "      <th>Axon_Leaf_Regions</th>\n",
       "      <th>BasalDendrite_Section_Regions</th>\n",
       "      <th>BasalDendrite_Leaf_Regions</th>\n",
       "    </tr>\n",
       "  </thead>\n",
       "  <tbody>\n",
       "    <tr>\n",
       "      <th>308</th>\n",
       "      <td>[MOs2/3, MOs2/3, MOs2/3, MOs2/3, MOs2/3, MOs2/...</td>\n",
       "      <td>[MOs2/3, MOs2/3, MOs2/3, MOs2/3, MOs2/3, MOs2/...</td>\n",
       "      <td>[MOs2/3, MOs2/3, MOs2/3, MOs2/3, MOs2/3, MOs2/...</td>\n",
       "      <td>[MOp2/3, MOp2/3, MOp2/3, MOp2/3, MOp2/3, MOp2/...</td>\n",
       "    </tr>\n",
       "    <tr>\n",
       "      <th>238</th>\n",
       "      <td>[SSp-ul2/3, SSp-ul2/3, SSp-ul2/3, SSp-ul2/3, S...</td>\n",
       "      <td>[SSp-tr5, SSp-tr5, SSp-bfd5, SSp-bfd5, SSp-bfd...</td>\n",
       "      <td>[SSp-ul2/3, SSp-ul2/3, SSp-ul2/3, SSp-ul2/3, S...</td>\n",
       "      <td>[SSp-ul2/3, SSp-ul2/3, SSp-ul2/3, SSp-ul2/3, S...</td>\n",
       "    </tr>\n",
       "    <tr>\n",
       "      <th>374</th>\n",
       "      <td>[MOs2/3, MOs2/3, MOs2/3, MOs2/3, MOs2/3, MOs2/...</td>\n",
       "      <td>[MOs2/3, MOs2/3, MOs2/3, MOs2/3, MOs2/3, MOs2/...</td>\n",
       "      <td>[MOs2/3, MOs2/3, MOs2/3, MOs2/3, MOs2/3, MOs2/...</td>\n",
       "      <td>[MOs2/3, MOs2/3, MOs2/3, MOs2/3, MOs2/3, MOs2/...</td>\n",
       "    </tr>\n",
       "    <tr>\n",
       "      <th>20</th>\n",
       "      <td>[LGd-co, LGd-co, LGd-co, LGd-co, LGd-co, LGd-c...</td>\n",
       "      <td>[LGd-co, LGd-co, LGd-co, VISpm2/3, VISpm2/3, V...</td>\n",
       "      <td>[LGd-ip, LGd-ip, LGd-ip, LGd-ip, LGd-ip, LGd-i...</td>\n",
       "      <td>[LGd-ip, LGd-ip, LGd-ip, LGd-ip, LGd-ip, LGd-i...</td>\n",
       "    </tr>\n",
       "    <tr>\n",
       "      <th>6</th>\n",
       "      <td>[LP, LP, LP, LP, LP, LP, LP, LP, LP, LP, LP, L...</td>\n",
       "      <td>[RSPagl5, RSPagl5, RSPagl5, RSPagl5, RSPagl5, ...</td>\n",
       "      <td>[LP, LP, LP, LP, LP, LP, LP, LP, LP, LP, LP, L...</td>\n",
       "      <td>[LP, LP, LP, LP, LP, LP, LP, LP, LP, LP, LP, L...</td>\n",
       "    </tr>\n",
       "  </tbody>\n",
       "</table>\n",
       "</div>"
      ],
      "text/plain": [
       "                                  Axon_Section_Regions  \\\n",
       "308  [MOs2/3, MOs2/3, MOs2/3, MOs2/3, MOs2/3, MOs2/...   \n",
       "238  [SSp-ul2/3, SSp-ul2/3, SSp-ul2/3, SSp-ul2/3, S...   \n",
       "374  [MOs2/3, MOs2/3, MOs2/3, MOs2/3, MOs2/3, MOs2/...   \n",
       "20   [LGd-co, LGd-co, LGd-co, LGd-co, LGd-co, LGd-c...   \n",
       "6    [LP, LP, LP, LP, LP, LP, LP, LP, LP, LP, LP, L...   \n",
       "\n",
       "                                     Axon_Leaf_Regions  \\\n",
       "308  [MOs2/3, MOs2/3, MOs2/3, MOs2/3, MOs2/3, MOs2/...   \n",
       "238  [SSp-tr5, SSp-tr5, SSp-bfd5, SSp-bfd5, SSp-bfd...   \n",
       "374  [MOs2/3, MOs2/3, MOs2/3, MOs2/3, MOs2/3, MOs2/...   \n",
       "20   [LGd-co, LGd-co, LGd-co, VISpm2/3, VISpm2/3, V...   \n",
       "6    [RSPagl5, RSPagl5, RSPagl5, RSPagl5, RSPagl5, ...   \n",
       "\n",
       "                         BasalDendrite_Section_Regions  \\\n",
       "308  [MOs2/3, MOs2/3, MOs2/3, MOs2/3, MOs2/3, MOs2/...   \n",
       "238  [SSp-ul2/3, SSp-ul2/3, SSp-ul2/3, SSp-ul2/3, S...   \n",
       "374  [MOs2/3, MOs2/3, MOs2/3, MOs2/3, MOs2/3, MOs2/...   \n",
       "20   [LGd-ip, LGd-ip, LGd-ip, LGd-ip, LGd-ip, LGd-i...   \n",
       "6    [LP, LP, LP, LP, LP, LP, LP, LP, LP, LP, LP, L...   \n",
       "\n",
       "                            BasalDendrite_Leaf_Regions  \n",
       "308  [MOp2/3, MOp2/3, MOp2/3, MOp2/3, MOp2/3, MOp2/...  \n",
       "238  [SSp-ul2/3, SSp-ul2/3, SSp-ul2/3, SSp-ul2/3, S...  \n",
       "374  [MOs2/3, MOs2/3, MOs2/3, MOs2/3, MOs2/3, MOs2/...  \n",
       "20   [LGd-ip, LGd-ip, LGd-ip, LGd-ip, LGd-ip, LGd-i...  \n",
       "6    [LP, LP, LP, LP, LP, LP, LP, LP, LP, LP, LP, L...  "
      ]
     },
     "execution_count": 149,
     "metadata": {},
     "output_type": "execute_result"
    }
   ],
   "source": [
    "localization_features.sample(5)"
   ]
  },
  {
   "cell_type": "markdown",
   "id": "d73974d1",
   "metadata": {},
   "source": [
    "## 4. Build a data frame with the rest of the meta-data"
   ]
  },
  {
   "cell_type": "code",
   "execution_count": null,
   "id": "ce52571d",
   "metadata": {},
   "outputs": [],
   "source": [
    "morphologies_df = full_df[[\n",
    "    \"id\",\n",
    "    \"brainLocation.brainRegion.id\",\n",
    "    \"somaNumberOfPoints.@value\"\n",
    "]]"
   ]
  },
  {
   "cell_type": "code",
   "execution_count": null,
   "id": "3c160789",
   "metadata": {},
   "outputs": [],
   "source": [
    "morphologies_df[\"brainLocation.brainRegion.id\"] = morphologies_df[\"brainLocation.brainRegion.id\"].apply(\n",
    "    lambda x: brain_region_notation[x][0])"
   ]
  },
  {
   "cell_type": "code",
   "execution_count": null,
   "id": "8ac8b46e",
   "metadata": {},
   "outputs": [],
   "source": [
    "morphologies_df.sample(3)"
   ]
  },
  {
   "cell_type": "markdown",
   "id": "0ae9ee1c",
   "metadata": {},
   "source": [
    "# II. Create different representations of morphologies"
   ]
  },
  {
   "cell_type": "markdown",
   "id": "01fa04e1",
   "metadata": {},
   "source": [
    "## 1. Create axon/dendrite co-projection property graphs\n",
    "\n",
    "We build two property graphs: \n",
    "- axon co-projection graph\n",
    "- dendrite co-occurrence\n",
    "\n",
    "We use meta-data as node properties."
   ]
  },
  {
   "cell_type": "code",
   "execution_count": 153,
   "id": "dcb0951f",
   "metadata": {},
   "outputs": [],
   "source": [
    "nodes = pd.concat(\n",
    "    [morphologies_df, localization_features], axis=1).rename(\n",
    "    columns={\"id\": \"@id\"}).set_index(\"@id\")"
   ]
  },
  {
   "cell_type": "code",
   "execution_count": 154,
   "id": "e48631be",
   "metadata": {},
   "outputs": [
    {
     "data": {
      "text/html": [
       "<div>\n",
       "<style scoped>\n",
       "    .dataframe tbody tr th:only-of-type {\n",
       "        vertical-align: middle;\n",
       "    }\n",
       "\n",
       "    .dataframe tbody tr th {\n",
       "        vertical-align: top;\n",
       "    }\n",
       "\n",
       "    .dataframe thead th {\n",
       "        text-align: right;\n",
       "    }\n",
       "</style>\n",
       "<table border=\"1\" class=\"dataframe\">\n",
       "  <thead>\n",
       "    <tr style=\"text-align: right;\">\n",
       "      <th></th>\n",
       "      <th>brainLocation.brainRegion.id</th>\n",
       "      <th>somaNumberOfPoints.@value</th>\n",
       "      <th>Axon_Section_Regions</th>\n",
       "      <th>Axon_Leaf_Regions</th>\n",
       "      <th>BasalDendrite_Section_Regions</th>\n",
       "      <th>BasalDendrite_Leaf_Regions</th>\n",
       "    </tr>\n",
       "    <tr>\n",
       "      <th>@id</th>\n",
       "      <th></th>\n",
       "      <th></th>\n",
       "      <th></th>\n",
       "      <th></th>\n",
       "      <th></th>\n",
       "      <th></th>\n",
       "    </tr>\n",
       "  </thead>\n",
       "  <tbody>\n",
       "    <tr>\n",
       "      <th>https://bbp.epfl.ch/neurosciencegraph/data/neuronmorphologies/60934582-9dc1-4276-afad-cc0db40a3e03</th>\n",
       "      <td>MOp</td>\n",
       "      <td>3.0</td>\n",
       "      <td>[MOs2/3, MOs2/3, MOs2/3, MOs2/3, MOs2/3, MOs2/...</td>\n",
       "      <td>[MOs2/3, MOs2/3, MOs2/3, MOs2/3, MOs2/3, MOs2/...</td>\n",
       "      <td>[MOs2/3, MOs2/3, MOs2/3, MOs2/3, MOs2/3, MOs2/...</td>\n",
       "      <td>[MOs2/3, MOs2/3, MOs2/3, MOs2/3, MOs2/3, MOs2/...</td>\n",
       "    </tr>\n",
       "    <tr>\n",
       "      <th>https://bbp.epfl.ch/neurosciencegraph/data/neuronmorphologies/5cace321-5bb9-45d2-9e20-f4d14b2e89cf</th>\n",
       "      <td>SSs</td>\n",
       "      <td>3.0</td>\n",
       "      <td>[SSs5, SSs5, SSs5, SSs5, SSs5, SSs5, SSs5, SSs...</td>\n",
       "      <td>[SSs4, SSs4, SSs4, SSs4, SSs4, SSs4, SSs4, SSs...</td>\n",
       "      <td>[SSs5, SSs5, SSs5, SSs5, SSs5, SSs5, SSs5, SSs...</td>\n",
       "      <td>[SSs5, SSs5, SSs5, SSs5, SSs5, SSs5, SSs5, SSs...</td>\n",
       "    </tr>\n",
       "    <tr>\n",
       "      <th>https://bbp.epfl.ch/neurosciencegraph/data/neuronmorphologies/8427d06e-c77a-4ee5-920b-3e37cb3fb885</th>\n",
       "      <td>SSp-ul</td>\n",
       "      <td>3.0</td>\n",
       "      <td>[SSp-ul2/3, SSp-ul2/3, SSp-ul2/3, SSp-ul2/3, S...</td>\n",
       "      <td>[SSp-ul4, SSp-ul4, SSp-ul4, SSp-ul4, SSp-ul4, ...</td>\n",
       "      <td>[SSp-ul2/3, SSp-ul2/3, SSp-ul2/3, SSp-ul2/3, S...</td>\n",
       "      <td>[SSp-un4, SSp-un4, SSp-ul2/3, SSp-ul2/3, SSp-u...</td>\n",
       "    </tr>\n",
       "  </tbody>\n",
       "</table>\n",
       "</div>"
      ],
      "text/plain": [
       "                                                   brainLocation.brainRegion.id  \\\n",
       "@id                                                                               \n",
       "https://bbp.epfl.ch/neurosciencegraph/data/neur...                          MOp   \n",
       "https://bbp.epfl.ch/neurosciencegraph/data/neur...                          SSs   \n",
       "https://bbp.epfl.ch/neurosciencegraph/data/neur...                       SSp-ul   \n",
       "\n",
       "                                                    somaNumberOfPoints.@value  \\\n",
       "@id                                                                             \n",
       "https://bbp.epfl.ch/neurosciencegraph/data/neur...                        3.0   \n",
       "https://bbp.epfl.ch/neurosciencegraph/data/neur...                        3.0   \n",
       "https://bbp.epfl.ch/neurosciencegraph/data/neur...                        3.0   \n",
       "\n",
       "                                                                                 Axon_Section_Regions  \\\n",
       "@id                                                                                                     \n",
       "https://bbp.epfl.ch/neurosciencegraph/data/neur...  [MOs2/3, MOs2/3, MOs2/3, MOs2/3, MOs2/3, MOs2/...   \n",
       "https://bbp.epfl.ch/neurosciencegraph/data/neur...  [SSs5, SSs5, SSs5, SSs5, SSs5, SSs5, SSs5, SSs...   \n",
       "https://bbp.epfl.ch/neurosciencegraph/data/neur...  [SSp-ul2/3, SSp-ul2/3, SSp-ul2/3, SSp-ul2/3, S...   \n",
       "\n",
       "                                                                                    Axon_Leaf_Regions  \\\n",
       "@id                                                                                                     \n",
       "https://bbp.epfl.ch/neurosciencegraph/data/neur...  [MOs2/3, MOs2/3, MOs2/3, MOs2/3, MOs2/3, MOs2/...   \n",
       "https://bbp.epfl.ch/neurosciencegraph/data/neur...  [SSs4, SSs4, SSs4, SSs4, SSs4, SSs4, SSs4, SSs...   \n",
       "https://bbp.epfl.ch/neurosciencegraph/data/neur...  [SSp-ul4, SSp-ul4, SSp-ul4, SSp-ul4, SSp-ul4, ...   \n",
       "\n",
       "                                                                        BasalDendrite_Section_Regions  \\\n",
       "@id                                                                                                     \n",
       "https://bbp.epfl.ch/neurosciencegraph/data/neur...  [MOs2/3, MOs2/3, MOs2/3, MOs2/3, MOs2/3, MOs2/...   \n",
       "https://bbp.epfl.ch/neurosciencegraph/data/neur...  [SSs5, SSs5, SSs5, SSs5, SSs5, SSs5, SSs5, SSs...   \n",
       "https://bbp.epfl.ch/neurosciencegraph/data/neur...  [SSp-ul2/3, SSp-ul2/3, SSp-ul2/3, SSp-ul2/3, S...   \n",
       "\n",
       "                                                                           BasalDendrite_Leaf_Regions  \n",
       "@id                                                                                                    \n",
       "https://bbp.epfl.ch/neurosciencegraph/data/neur...  [MOs2/3, MOs2/3, MOs2/3, MOs2/3, MOs2/3, MOs2/...  \n",
       "https://bbp.epfl.ch/neurosciencegraph/data/neur...  [SSs5, SSs5, SSs5, SSs5, SSs5, SSs5, SSs5, SSs...  \n",
       "https://bbp.epfl.ch/neurosciencegraph/data/neur...  [SSp-un4, SSp-un4, SSp-ul2/3, SSp-ul2/3, SSp-u...  "
      ]
     },
     "execution_count": 154,
     "metadata": {},
     "output_type": "execute_result"
    }
   ],
   "source": [
    "nodes.sample(3)"
   ]
  },
  {
   "cell_type": "code",
   "execution_count": 155,
   "id": "5b56f4e9",
   "metadata": {},
   "outputs": [
    {
     "data": {
      "text/plain": [
       "Index(['brainLocation.brainRegion.id', 'somaNumberOfPoints.@value',\n",
       "       'Axon_Section_Regions', 'Axon_Leaf_Regions',\n",
       "       'BasalDendrite_Section_Regions', 'BasalDendrite_Leaf_Regions'],\n",
       "      dtype='object')"
      ]
     },
     "execution_count": 155,
     "metadata": {},
     "output_type": "execute_result"
    }
   ],
   "source": [
    "nodes.columns"
   ]
  },
  {
   "cell_type": "code",
   "execution_count": 156,
   "id": "b95384be",
   "metadata": {},
   "outputs": [],
   "source": [
    "frame = PandasPGFrame()\n",
    "frame._nodes = nodes\n",
    "numerical_props = ['somaNumberOfPoints.value']\n",
    "\n",
    "for column in nodes.columns:\n",
    "    if column != \"@type\":\n",
    "        if column not in numerical_props:\n",
    "            try:\n",
    "                frame.node_prop_as_category(column)\n",
    "            except ValueError:\n",
    "                pass\n",
    "        else:\n",
    "            frame.node_prop_as_numeric(column)\n",
    "frame.rename_node_properties({\n",
    "    p: p.replace(\".\", \"_\")\n",
    "    for p in frame.node_properties()\n",
    "})"
   ]
  },
  {
   "cell_type": "code",
   "execution_count": 157,
   "id": "6d41a4de",
   "metadata": {},
   "outputs": [],
   "source": [
    "# nodes_to_remove = list(frame._nodes[frame._nodes[\"Axon_Leaf_Regions\"].isna()].index)\n",
    "# frame.remove_nodes(nodes_to_remove)"
   ]
  },
  {
   "cell_type": "markdown",
   "id": "0ca21fa9",
   "metadata": {},
   "source": [
    "Encode properties into vectors"
   ]
  },
  {
   "cell_type": "code",
   "execution_count": 158,
   "id": "7ed6e1a0",
   "metadata": {},
   "outputs": [],
   "source": [
    "props = set(frame.node_properties()).difference({\n",
    "    \"Axon_Section_Regions\",\n",
    "    \"Axon_Leaf_Regions\",\n",
    "    \"BasalDendrite_Section_Regions\",\n",
    "    \"BasalDendrite_Leaf_Regions\"})\n",
    "encoder = ScikitLearnPGEncoder(\n",
    "    node_properties=props,\n",
    "    missing_numeric=\"impute\",\n",
    "    imputation_strategy=\"mean\",\n",
    "    reduce_node_dims=True,\n",
    "    n_node_components=40)"
   ]
  },
  {
   "cell_type": "code",
   "execution_count": 159,
   "id": "addd3827",
   "metadata": {},
   "outputs": [],
   "source": [
    "encoded_frame = encoder.fit_transform(frame)"
   ]
  },
  {
   "cell_type": "markdown",
   "id": "d1cd5994",
   "metadata": {},
   "source": [
    "Explained variance of data"
   ]
  },
  {
   "cell_type": "code",
   "execution_count": 160,
   "id": "7ac2ccea",
   "metadata": {},
   "outputs": [
    {
     "data": {
      "text/plain": [
       "0.9645031454431718"
      ]
     },
     "execution_count": 160,
     "metadata": {},
     "output_type": "execute_result"
    }
   ],
   "source": [
    "sum(encoder.node_reducer.explained_variance_ratio_)"
   ]
  },
  {
   "cell_type": "markdown",
   "id": "643ca2db",
   "metadata": {},
   "source": [
    "### Generate the axon co-projection graph"
   ]
  },
  {
   "cell_type": "code",
   "execution_count": 161,
   "id": "afe1047f",
   "metadata": {},
   "outputs": [],
   "source": [
    "frame._nodes[\"Axon_Leaf_Regions\"] = frame._nodes[\"Axon_Leaf_Regions\"].apply(\n",
    "    lambda x: [] if isinstance(x, float) else x)"
   ]
  },
  {
   "cell_type": "code",
   "execution_count": 162,
   "id": "dd62a72f",
   "metadata": {},
   "outputs": [],
   "source": [
    "gen = CooccurrenceGenerator(frame)\n",
    "axon_edges = gen.generate_from_nodes(\n",
    "    \"Axon_Leaf_Regions\",\n",
    "    compute_statistics=[\"frequency\"])"
   ]
  },
  {
   "cell_type": "code",
   "execution_count": null,
   "id": "0f8a4ff4",
   "metadata": {},
   "outputs": [],
   "source": [
    "axon_edges = axon_edges[axon_edges[\"frequency\"].values > 10]"
   ]
  },
  {
   "cell_type": "code",
   "execution_count": null,
   "id": "1e596896",
   "metadata": {},
   "outputs": [],
   "source": [
    "axon_edges.shape"
   ]
  },
  {
   "cell_type": "code",
   "execution_count": null,
   "id": "19afdb69",
   "metadata": {},
   "outputs": [],
   "source": [
    "axon_coprojection_frame = PandasPGFrame.from_frames(\n",
    "    nodes=encoded_frame._nodes, edges=axon_edges)\n",
    "axon_coprojection_frame.edge_prop_as_numeric(\"frequency\")"
   ]
  },
  {
   "cell_type": "code",
   "execution_count": null,
   "id": "bc948381",
   "metadata": {},
   "outputs": [],
   "source": [
    "len(axon_coprojection_frame.isolated_nodes())"
   ]
  },
  {
   "cell_type": "markdown",
   "id": "84067bdc",
   "metadata": {},
   "source": [
    "### Generate the dendrite co-projection graph"
   ]
  },
  {
   "cell_type": "code",
   "execution_count": null,
   "id": "f70c7658",
   "metadata": {},
   "outputs": [],
   "source": [
    "frame._nodes[\"BasalDendrite_Leaf_Regions\"] = frame._nodes[\"BasalDendrite_Leaf_Regions\"].apply(\n",
    "    lambda x: [] if isinstance(x, float) else x)"
   ]
  },
  {
   "cell_type": "code",
   "execution_count": null,
   "id": "6927a59e",
   "metadata": {},
   "outputs": [],
   "source": [
    "gen = CooccurrenceGenerator(frame)\n",
    "dendrite_edges = gen.generate_from_nodes(\n",
    "    \"BasalDendrite_Leaf_Regions\",\n",
    "    compute_statistics=[\"frequency\"])"
   ]
  },
  {
   "cell_type": "code",
   "execution_count": null,
   "id": "ddea8bc4",
   "metadata": {},
   "outputs": [],
   "source": [
    "dendrite_edges.shape"
   ]
  },
  {
   "cell_type": "code",
   "execution_count": null,
   "id": "dc9033dd",
   "metadata": {},
   "outputs": [],
   "source": [
    "dendrite_coprojection_frame = PandasPGFrame.from_frames(\n",
    "    nodes=encoded_frame._nodes, edges=dendrite_edges)\n",
    "dendrite_coprojection_frame.edge_prop_as_numeric(\"frequency\")"
   ]
  },
  {
   "cell_type": "code",
   "execution_count": null,
   "id": "14cc32c3",
   "metadata": {},
   "outputs": [],
   "source": [
    "len(dendrite_coprojection_frame.isolated_nodes())"
   ]
  },
  {
   "cell_type": "markdown",
   "id": "1ae6599c",
   "metadata": {},
   "source": [
    "### Perform axon co-projection graph embedding"
   ]
  },
  {
   "cell_type": "code",
   "execution_count": null,
   "id": "db353696",
   "metadata": {},
   "outputs": [],
   "source": [
    "axon_D = 128"
   ]
  },
  {
   "cell_type": "code",
   "execution_count": null,
   "id": "ce87ec06",
   "metadata": {},
   "outputs": [],
   "source": [
    "axon_embedder = StellarGraphNodeEmbedder(\n",
    "    \"node2vec\", length=5, number_of_walks=20,\n",
    "    epochs=5, embedding_dimension=axon_D, edge_weight=\"frequency\",\n",
    "    random_walk_p=2, random_walk_q=0.2)\n",
    "axon_embedding = axon_embedder.fit_model(axon_coprojection_frame)"
   ]
  },
  {
   "cell_type": "code",
   "execution_count": null,
   "id": "c66502b6",
   "metadata": {
    "scrolled": false
   },
   "outputs": [],
   "source": [
    "axon_coprojection_frame.add_node_properties(\n",
    "    axon_embedding.rename(columns={\"embedding\": \"node2vec\"}))\n",
    "embedding_2d = transform_to_2d(axon_coprojection_frame._nodes[\"node2vec\"].tolist())\n",
    "plot_2d(frame, vectors=embedding_2d, label_prop=\"brainLocation_brainRegion_id\")"
   ]
  },
  {
   "cell_type": "markdown",
   "id": "a0a76a1e",
   "metadata": {},
   "source": [
    "Create and save the pipeline"
   ]
  },
  {
   "cell_type": "code",
   "execution_count": null,
   "id": "e4260692",
   "metadata": {},
   "outputs": [],
   "source": [
    "similarity_index = FaissSimilarityIndex(\n",
    "    dimension=axon_D, similarity=\"cosine\", n_segments=3)\n",
    "sim_processor = SimilarityProcessor(similarity_index)\n",
    "sim_processor.add(\n",
    "    axon_embedding[\"embedding\"].tolist(),\n",
    "    axon_embedding.index)\n",
    "\n",
    "pipeline = EmbeddingPipeline(\n",
    "    embedder=axon_embedder,\n",
    "    similarity_processor=sim_processor)\n",
    "\n",
    "pipeline.save(join(DATA_DIR, \"SEU_morph_axon_coproj_node2vec_cosine\"), compress=True)"
   ]
  },
  {
   "cell_type": "markdown",
   "id": "90e6ba93",
   "metadata": {},
   "source": [
    "### Perform dendrite co-occurrence graph embedding"
   ]
  },
  {
   "cell_type": "code",
   "execution_count": null,
   "id": "0da70f34",
   "metadata": {},
   "outputs": [],
   "source": [
    "dendrite_D = 100"
   ]
  },
  {
   "cell_type": "code",
   "execution_count": null,
   "id": "b171e089",
   "metadata": {},
   "outputs": [],
   "source": [
    "dendrite_embedder = StellarGraphNodeEmbedder(\n",
    "    \"node2vec\", length=5, number_of_walks=20,\n",
    "    epochs=5, embedding_dimension=dendrite_D, edge_weight=\"frequency\",\n",
    "    random_walk_p=2, random_walk_q=0.2)\n",
    "dendrite_embedding = dendrite_embedder.fit_model(dendrite_coprojection_frame)"
   ]
  },
  {
   "cell_type": "code",
   "execution_count": null,
   "id": "4f39aedb",
   "metadata": {},
   "outputs": [],
   "source": [
    "dendrite_coprojection_frame.add_node_properties(\n",
    "    dendrite_embedding.rename(columns={\"embedding\": \"node2vec\"}))\n",
    "embedding_2d = transform_to_2d(dendrite_coprojection_frame._nodes[\"node2vec\"].tolist())\n",
    "plot_2d(frame, vectors=embedding_2d, label_prop=\"brainLocation_brainRegion_id\")"
   ]
  },
  {
   "cell_type": "markdown",
   "id": "51b4a305",
   "metadata": {},
   "source": [
    "Create and save the pipeline"
   ]
  },
  {
   "cell_type": "code",
   "execution_count": null,
   "id": "8b15ea92",
   "metadata": {},
   "outputs": [],
   "source": [
    "similarity_index = FaissSimilarityIndex(\n",
    "    dimension=dendrite_D, similarity=\"cosine\", n_segments=3)\n",
    "sim_processor = SimilarityProcessor(similarity_index)\n",
    "sim_processor.add(\n",
    "    dendrite_embedding[\"embedding\"].tolist(),\n",
    "    dendrite_embedding.index)\n",
    "\n",
    "pipeline = EmbeddingPipeline(\n",
    "    embedder=dendrite_embedder,\n",
    "    similarity_processor=sim_processor)\n",
    "\n",
    "pipeline.save(join(DATA_DIR, \"SEU_morph_dendrite_coproj_node2vec_cosine\"), compress=True)"
   ]
  },
  {
   "cell_type": "markdown",
   "id": "31f05ca1",
   "metadata": {},
   "source": [
    "## 2. Create coordinate vectors"
   ]
  },
  {
   "cell_type": "code",
   "execution_count": null,
   "id": "c9213aaa",
   "metadata": {},
   "outputs": [],
   "source": [
    "coordinate_df = pd.DataFrame(morphologies_df[\"id\"])"
   ]
  },
  {
   "cell_type": "code",
   "execution_count": null,
   "id": "1fa4e672",
   "metadata": {},
   "outputs": [],
   "source": [
    "coordinate_df[\"coordinates\"] = pd.Series(full_df[[\n",
    "    \"brainLocation.coordinatesInBrainAtlas.valueX.@value\",\n",
    "    \"brainLocation.coordinatesInBrainAtlas.valueY.@value\",\n",
    "    \"brainLocation.coordinatesInBrainAtlas.valueZ.@value\"\n",
    "]].values.tolist()).apply(lambda x: [float(el) for el in x])\n",
    "coordinate_df = coordinate_df.rename(columns={\"id\": \"@id\"})"
   ]
  },
  {
   "cell_type": "markdown",
   "id": "0b2ab724",
   "metadata": {},
   "source": [
    "Scale coordinates by dividing by the maximum value"
   ]
  },
  {
   "cell_type": "code",
   "execution_count": null,
   "id": "f6c42a82",
   "metadata": {},
   "outputs": [],
   "source": [
    "coordinates = np.array(coordinate_df[\"coordinates\"].tolist())\n",
    "coordinate_df[\"coordinates\"] = (coordinates / coordinates.max()).tolist()"
   ]
  },
  {
   "cell_type": "code",
   "execution_count": null,
   "id": "e783cc19",
   "metadata": {},
   "outputs": [],
   "source": [
    "coordinate_df = coordinate_df.set_index(\"@id\")"
   ]
  },
  {
   "cell_type": "code",
   "execution_count": null,
   "id": "edd71b08",
   "metadata": {
    "scrolled": true
   },
   "outputs": [],
   "source": [
    "embedding_2d = transform_to_2d([[float(v) for v in el] for el in coordinate_df[\"coordinates\"].tolist()])\n",
    "plot_2d(frame, vectors=embedding_2d, label_prop=\"brainLocation_brainRegion_id\")"
   ]
  },
  {
   "cell_type": "code",
   "execution_count": null,
   "id": "debd1dd2",
   "metadata": {},
   "outputs": [],
   "source": [
    "coordinates_frame = PandasPGFrame.from_frames(\n",
    "    nodes=coordinate_df, edges=pd.DataFrame())"
   ]
  },
  {
   "cell_type": "code",
   "execution_count": null,
   "id": "c6b11462",
   "metadata": {},
   "outputs": [],
   "source": [
    "similarity_index = FaissSimilarityIndex(\n",
    "    dimension=3, similarity=\"euclidean\", n_segments=3)\n",
    "sim_processor = SimilarityProcessor(similarity_index)\n",
    "sim_processor.add(coordinate_df[\"coordinates\"].tolist(),\n",
    "                  coordinate_df.index)\n",
    "pipeline = EmbeddingPipeline(\n",
    "    preprocessor=None,\n",
    "    embedder=None,\n",
    "    similarity_processor=sim_processor)\n",
    "pipeline.save(join(DATA_DIR, \"SEU_morph_coordinates_euclidean\"), compress=True)"
   ]
  },
  {
   "cell_type": "markdown",
   "id": "e845b61a",
   "metadata": {},
   "source": [
    "## 3. Create neurite feature vectors"
   ]
  },
  {
   "cell_type": "code",
   "execution_count": 163,
   "id": "0b681923",
   "metadata": {},
   "outputs": [],
   "source": [
    "neurite_features = pd.concat([nodes.reset_index()[\"@id\"], neurite_feature_df], axis=1).set_index(\"@id\")"
   ]
  },
  {
   "cell_type": "code",
   "execution_count": null,
   "id": "7ff8ddfa",
   "metadata": {},
   "outputs": [],
   "source": [
    "neurite_frame = PandasPGFrame.from_frames(\n",
    "    nodes=neurite_features, edges=pd.DataFrame())"
   ]
  },
  {
   "cell_type": "code",
   "execution_count": null,
   "id": "1aa17210",
   "metadata": {},
   "outputs": [],
   "source": [
    "for c in neurite_frame._nodes.columns:\n",
    "    try:\n",
    "        neurite_frame.node_prop_as_numeric(c)\n",
    "    except:\n",
    "        neurite_frame.node_prop_as_category(c)"
   ]
  },
  {
   "cell_type": "code",
   "execution_count": null,
   "id": "e2992c2e",
   "metadata": {},
   "outputs": [],
   "source": [
    "encoder = ScikitLearnPGEncoder(\n",
    "    node_properties=neurite_frame.node_properties(),\n",
    "    missing_numeric=\"impute\",\n",
    "    imputation_strategy=\"mean\")\n",
    "encoded_frame = encoder.fit_transform(neurite_frame)"
   ]
  },
  {
   "cell_type": "code",
   "execution_count": null,
   "id": "ede90e96",
   "metadata": {},
   "outputs": [],
   "source": [
    "neurite_features = encoded_frame._nodes.rename(\n",
    "    columns={\"features\": \"neurite_features\"})"
   ]
  },
  {
   "cell_type": "code",
   "execution_count": null,
   "id": "b161b503",
   "metadata": {},
   "outputs": [],
   "source": [
    "data = np.array(neurite_features[\"neurite_features\"].tolist())\n",
    "neurite_features[\"neurite_features\"] = (data / data.max()).tolist()"
   ]
  },
  {
   "cell_type": "code",
   "execution_count": null,
   "id": "6bc3c599",
   "metadata": {},
   "outputs": [],
   "source": [
    "neurite_dim = len(neurite_features[\"neurite_features\"].iloc[0])"
   ]
  },
  {
   "cell_type": "code",
   "execution_count": null,
   "id": "3d8f37e3",
   "metadata": {},
   "outputs": [],
   "source": [
    "embedding_2d = transform_to_2d(encoded_frame._nodes[\"features\"].tolist())\n",
    "plot_2d(frame, vectors=embedding_2d, label_prop=\"brainLocation_brainRegion_id\")"
   ]
  },
  {
   "cell_type": "code",
   "execution_count": null,
   "id": "fb447225",
   "metadata": {},
   "outputs": [],
   "source": [
    "similarity_index = FaissSimilarityIndex(\n",
    "    dimension=neurite_dim, similarity=\"euclidean\", n_segments=3)\n",
    "sim_processor = SimilarityProcessor(similarity_index)\n",
    "sim_processor.add(neurite_features[\"neurite_features\"].tolist(),\n",
    "                  neurite_features.index)\n",
    "pipeline = EmbeddingPipeline(\n",
    "    preprocessor=encoder,\n",
    "    embedder=None,\n",
    "    similarity_processor=sim_processor)\n",
    "pipeline.save(join(DATA_DIR, \"SEU_morph_neurite_features_euclidean\"), compress=True)"
   ]
  },
  {
   "cell_type": "markdown",
   "id": "07bc2341",
   "metadata": {},
   "source": [
    "## 4. Perform ontology-based hierarchical brain region embedding"
   ]
  },
  {
   "cell_type": "markdown",
   "id": "fd5b4755",
   "metadata": {},
   "source": [
    "Load Allen CCF v3 Mouse Brain Atlas"
   ]
  },
  {
   "cell_type": "code",
   "execution_count": null,
   "id": "a25598c0",
   "metadata": {},
   "outputs": [],
   "source": [
    "with open(join(DATA_DIR, \"1.json\"), \"r\") as f:\n",
    "    allen_hierarchy = json.load(f)"
   ]
  },
  {
   "cell_type": "code",
   "execution_count": null,
   "id": "f33fc8cc",
   "metadata": {},
   "outputs": [],
   "source": [
    "allen_hierarchy = allen_hierarchy[\"msg\"]"
   ]
  },
  {
   "cell_type": "markdown",
   "id": "4b17cfc3",
   "metadata": {},
   "source": [
    "Create a property graph from the loaded hierarchy"
   ]
  },
  {
   "cell_type": "code",
   "execution_count": null,
   "id": "2713fe09",
   "metadata": {
    "scrolled": true
   },
   "outputs": [],
   "source": [
    "def _get_children(hierarchy, edges, father=None):\n",
    "    for child in hierarchy['children']:\n",
    "        acronym = child[\"acronym\"]\n",
    "        if father:\n",
    "            edges.append((acronym, father))\n",
    "        _get_children(child, edges, acronym)\n",
    "\n",
    "allen_edges = []\n",
    "_get_children(allen_hierarchy[0], allen_edges)"
   ]
  },
  {
   "cell_type": "code",
   "execution_count": null,
   "id": "0b709b4a",
   "metadata": {},
   "outputs": [],
   "source": [
    "nodes = list(set([\n",
    "    s for el in allen_edges for s in el\n",
    "]))"
   ]
  },
  {
   "cell_type": "code",
   "execution_count": null,
   "id": "2d7b76a2",
   "metadata": {},
   "outputs": [],
   "source": [
    "allen_ccfv3_frame = PandasPGFrame()\n",
    "allen_ccfv3_frame.add_nodes(nodes)\n",
    "allen_ccfv3_frame.add_edges(allen_edges)"
   ]
  },
  {
   "cell_type": "markdown",
   "id": "75aef1b8",
   "metadata": {},
   "source": [
    "Train a Poincare embedding model for the hierarchy"
   ]
  },
  {
   "cell_type": "code",
   "execution_count": null,
   "id": "7690af31",
   "metadata": {},
   "outputs": [],
   "source": [
    "embedder = GensimNodeEmbedder(\"poincare\", size=32, negative=2, epochs=100)\n",
    "embedding = embedder.fit_model(allen_ccfv3_frame)"
   ]
  },
  {
   "cell_type": "code",
   "execution_count": null,
   "id": "17d31a4f",
   "metadata": {},
   "outputs": [],
   "source": [
    "np.savetxt(\"brain_region_embs.tsv\", np.array(embedding[\"embedding\"].tolist()), delimiter=\"\\t\")"
   ]
  },
  {
   "cell_type": "code",
   "execution_count": null,
   "id": "499db84a",
   "metadata": {},
   "outputs": [],
   "source": [
    "brain_region_D = embedding[\"embedding\"].iloc[0].shape[0]"
   ]
  },
  {
   "cell_type": "code",
   "execution_count": null,
   "id": "dfa52c5b",
   "metadata": {},
   "outputs": [],
   "source": [
    "df = embedding.reset_index()[[\"@id\"]]\n",
    "df[\"label\"] = df[\"@id\"]\n",
    "df.to_csv(\"brain_region_meta.tsv\", sep=\"\\t\", index=None)"
   ]
  },
  {
   "cell_type": "code",
   "execution_count": null,
   "id": "9064c0ef",
   "metadata": {},
   "outputs": [],
   "source": [
    "embedding_2d = transform_to_2d(embedding[\"embedding\"].tolist())\n",
    "plot_2d(allen_ccfv3_frame, vectors=embedding_2d)"
   ]
  },
  {
   "cell_type": "code",
   "execution_count": null,
   "id": "d3f47627",
   "metadata": {},
   "outputs": [],
   "source": [
    "brain_region_embedding = frame._nodes[\"brainLocation_brainRegion_id\"].apply(\n",
    "    lambda x: embedding.loc[x])"
   ]
  },
  {
   "cell_type": "code",
   "execution_count": null,
   "id": "14ffda9d",
   "metadata": {},
   "outputs": [],
   "source": [
    "brain_region_embedding_frame = PandasPGFrame.from_frames(\n",
    "    nodes=brain_region_embedding, edges=pd.DataFrame())"
   ]
  },
  {
   "cell_type": "code",
   "execution_count": null,
   "id": "5f2d5256",
   "metadata": {},
   "outputs": [],
   "source": [
    "similarity_index = ScikitLearnSimilarityIndex(\n",
    "    dimension=brain_region_D, similarity=\"euclidean\",\n",
    "    initial_vectors=brain_region_embedding[\"embedding\"].tolist())\n",
    "sim_processor = SimilarityProcessor(\n",
    "    similarity_index, brain_region_embedding.index)\n",
    "pipeline = EmbeddingPipeline(\n",
    "    preprocessor=None,\n",
    "    embedder=None,\n",
    "    similarity_processor=sim_processor)\n",
    "pipeline.save(join(DATA_DIR, \"SEU_morph_brain_region_poincare\"), compress=True)"
   ]
  },
  {
   "cell_type": "markdown",
   "id": "d702702f",
   "metadata": {},
   "source": [
    "## 5. Compute TMD-based embedding (vectorization of persistance diagrams)"
   ]
  },
  {
   "cell_type": "code",
   "execution_count": null,
   "id": "60c4d6f4",
   "metadata": {},
   "outputs": [],
   "source": [
    "DIAGRAMS_DIR = join(DATA_DIR, \"persistence_diagrams\")"
   ]
  },
  {
   "cell_type": "markdown",
   "id": "ac05ffd2",
   "metadata": {},
   "source": [
    "If you need to recompute persistence diagrams (e.g. new morphs where added or morphs where updated), please, uncomment and run the following cell."
   ]
  },
  {
   "cell_type": "code",
   "execution_count": null,
   "id": "5a53e537",
   "metadata": {},
   "outputs": [],
   "source": [
    "# DOWNLOAD_DIR = join(DATA_DIR, \"morphologies\")\n",
    "\n",
    "# FORMAT = \"swc\"\n",
    "\n",
    "# print(f\"Downloading {len(morphologies)} morphologies to '{DOWNLOAD_DIR}'...\")\n",
    "# for m in morphologies:\n",
    "#     for d in m.distribution:\n",
    "#         if d.name.endswith(f\".{FORMAT}\"):\n",
    "#             forge.download(\n",
    "#                 d, \"contentUrl\", path=DOWNLOAD_DIR, overwrite=True)\n",
    "# print(\"Done.\")\n",
    "\n",
    "# morph_files = [join(DOWNLOAD_DIR, f) for f in listdir(DOWNLOAD_DIR) if isfile(join(DOWNLOAD_DIR, f))]\n",
    "# morphs, errors = load_morphologies(morph_files)\n",
    "\n",
    "# neurons = dict()\n",
    "# failed_morphs = set()\n",
    "# for path, morph in morphs.items():\n",
    "#     try:\n",
    "#         neurons[path] = to_tmd_neuron(morph)\n",
    "#     except:\n",
    "#         failed_morphs.add(path)\n",
    "# print(f\"TMD computation failed for {len(failed_morphs)} morphs ({failed_morphs})\")\n",
    "\n",
    "# diagrams = dict()\n",
    "# for k, v in neurons.items():\n",
    "#     diagrams[k.split(\"/\")[-1]] = get_persistence_data(v).tolist()\n",
    "# with open(join(DIAGRAMS_DIR, \"persistence_diagrams_all_neurites.json\"), \"w\") as f:\n",
    "#     json.dump(diagrams, f)"
   ]
  },
  {
   "cell_type": "code",
   "execution_count": null,
   "id": "b4c3bda6",
   "metadata": {},
   "outputs": [],
   "source": [
    "with open(join(DIAGRAMS_DIR, \"persistence_diagrams_all_neurites.json\"), \"r\") as f:\n",
    "    diagram_all_neurites = json.load(f)\n",
    "    \n",
    "morphology_files = list(diagram_all_neurites.keys())"
   ]
  },
  {
   "cell_type": "code",
   "execution_count": null,
   "id": "1630d021",
   "metadata": {},
   "outputs": [],
   "source": [
    "# Define some maps from resource uri's and file names (+ brain regions)\n",
    "names = dict(full_df[[\"id\", \"name\"]].values)\n",
    "regions = dict(morphologies_df[[\"id\", \"brainLocation.brainRegion.id\"]].values)\n",
    "names_to_regions = {v: regions[k] for k, v in names.items()}\n",
    "names_to_ids = {v: k for k, v in names.items()}"
   ]
  },
  {
   "cell_type": "markdown",
   "id": "ae09e0c9",
   "metadata": {},
   "source": [
    "Compute maximum death/birth time of all diagrams to know the global scale."
   ]
  },
  {
   "cell_type": "code",
   "execution_count": null,
   "id": "296d750e",
   "metadata": {},
   "outputs": [],
   "source": [
    "all_maxes = []\n",
    "for d in diagram_all_neurites.values():\n",
    "    d = np.array(d)\n",
    "    all_maxes += [d[:,0].max(), d[:,1].max()]\n",
    "MAX_TIME = max(all_maxes)"
   ]
  },
  {
   "cell_type": "markdown",
   "id": "7cc83a75",
   "metadata": {},
   "source": [
    "### 5.1. Vectorize persisance diagrams as is"
   ]
  },
  {
   "cell_type": "code",
   "execution_count": null,
   "id": "6ef6f6b1",
   "metadata": {
    "scrolled": true
   },
   "outputs": [],
   "source": [
    "dim = 256\n",
    "WIDTH = 120\n",
    "MAX_HEIGHT = 17000\n",
    "vectors = {}\n",
    "for morph_file, diagram in diagram_all_neurites.items():\n",
    "#     # Uncomment the following to visualize the vectorization process\n",
    "#     print(morph_file)\n",
    "#     plot_diagram_profile(diagram, MAX_TIME, WIDTH, MAX_HEIGHT)\n",
    "    vectors[morph_file.split(\".\")[0]] = compute_persistance_vector(diagram, dim, MAX_TIME, WIDTH)\n",
    "    \n",
    "keys = list(vectors.keys())\n",
    "X = np.float32(np.stack([vectors[k] for k in keys]))\n",
    "print(\"Shape: \", X.shape)"
   ]
  },
  {
   "cell_type": "code",
   "execution_count": null,
   "id": "656f10c0",
   "metadata": {},
   "outputs": [],
   "source": [
    "X = (X / X.max()).tolist()"
   ]
  },
  {
   "cell_type": "markdown",
   "id": "c1d281fb",
   "metadata": {},
   "source": [
    "Visualize the points in 2D"
   ]
  },
  {
   "cell_type": "code",
   "execution_count": null,
   "id": "cc532882",
   "metadata": {},
   "outputs": [],
   "source": [
    "pca = PCA(n_components=2)\n",
    "X_2d = pca.fit_transform(X)\n",
    "print(\"Explained variance: \", sum(pca.explained_variance_ratio_))\n",
    "\n",
    "# labels = np.array([names_to_regions[k] for k in keys])\n",
    "labels = np.array([\"Batch A\" for k in keys[:200]] + [\"Batch B\" for k in keys[200:]])\n",
    "unique_labels = sorted(list(set(labels)))\n",
    "cm = plt.get_cmap('gist_rainbow')\n",
    "generated_colors = np.array([\n",
    "    cm(1. * i / len(unique_labels))\n",
    "    for i in range(len(unique_labels))\n",
    "])\n",
    "np.random.shuffle(generated_colors)\n",
    "\n",
    "alpha = 1\n",
    "fig, ax = plt.subplots(figsize=(7, 7))\n",
    "\n",
    "# create a scatter per node label\n",
    "for i, l in enumerate(unique_labels):\n",
    "    indices = np.where(labels == l)\n",
    "    ax.scatter(\n",
    "        X_2d[indices, 0],\n",
    "        X_2d[indices, 1],\n",
    "        c=[generated_colors[i]] * indices[0].shape[0],\n",
    "        s=50,\n",
    "        label=l\n",
    "    )\n",
    "ax.legend()\n",
    "plt.show()"
   ]
  },
  {
   "cell_type": "code",
   "execution_count": null,
   "id": "6cd7becd",
   "metadata": {},
   "outputs": [],
   "source": [
    "similarity_index = ScikitLearnSimilarityIndex(\n",
    "    dimension=dim, similarity=\"euclidean\",\n",
    "    initial_vectors=X)\n",
    "sim_processor = SimilarityProcessor(\n",
    "    similarity_index, [names_to_ids[k] for k in keys])\n",
    "pipeline = EmbeddingPipeline(\n",
    "    preprocessor=None,\n",
    "    embedder=None,\n",
    "    similarity_processor=sim_processor)\n",
    "pipeline.save(join(DATA_DIR, \"SEU_morph_TMD_euclidean\"), compress=True)"
   ]
  },
  {
   "cell_type": "markdown",
   "id": "bcae54dd",
   "metadata": {},
   "source": [
    "Actually, for this kind of embeddings, it makes more sense to use [Wasserstein metric](https://en.wikipedia.org/wiki/Wasserstein_metric). See BlueGraph implementation:"
   ]
  },
  {
   "cell_type": "code",
   "execution_count": null,
   "id": "8b8ebd3b",
   "metadata": {},
   "outputs": [],
   "source": [
    "# similarity_index = ScikitLearnSimilarityIndex(\n",
    "#     dimension=dim, similarity=\"wasserstein\",\n",
    "#     initial_vectors=X)\n",
    "# sim_processor = SimilarityProcessor(\n",
    "#     similarity_index, keys)\n",
    "# pipeline = EmbeddingPipeline(\n",
    "#     preprocessor=None,\n",
    "#     embedder=None,\n",
    "#     similarity_processor=sim_processor)"
   ]
  },
  {
   "cell_type": "markdown",
   "id": "b1d201e4",
   "metadata": {},
   "source": [
    "### 5.2. Scale persisance diagrams before vectorization"
   ]
  },
  {
   "cell_type": "markdown",
   "id": "aa5ca927",
   "metadata": {},
   "source": [
    "Scale each diagram, so that the birth/death time are in the interval [0, 1]."
   ]
  },
  {
   "cell_type": "code",
   "execution_count": null,
   "id": "3dae2f05",
   "metadata": {},
   "outputs": [],
   "source": [
    "scaled_diagram_all_neurites = {}\n",
    "for name, diagram in diagram_all_neurites.items():\n",
    "    diagram = np.array(diagram)\n",
    "    t_min = diagram.min()\n",
    "    t_max = diagram.max()\n",
    "    scaled_diagram_all_neurites[name] = (diagram - t_min) / (t_max - t_min)"
   ]
  },
  {
   "cell_type": "code",
   "execution_count": null,
   "id": "7c92d84c",
   "metadata": {
    "scrolled": true
   },
   "outputs": [],
   "source": [
    "SCALED_WIDTH = 0.02\n",
    "SCALED_MAX_HEIGHT = 7\n",
    "dim = 256\n",
    "scaled_vectors = {}\n",
    "for morph_file, diagram in scaled_diagram_all_neurites.items():\n",
    "#     # Uncomment the following to visualize the vectorization process\n",
    "#     print(morph_file)\n",
    "#     plot_diagram_profile(diagram, 1, SCALED_WIDTH, SCALED_MAX_HEIGHT)\n",
    "    scaled_vectors[morph_file.split(\".\")[0]] = compute_persistance_vector(diagram, dim, 1, SCALED_WIDTH)   "
   ]
  },
  {
   "cell_type": "code",
   "execution_count": null,
   "id": "da2744ce",
   "metadata": {},
   "outputs": [],
   "source": [
    "keys = list(scaled_vectors.keys())\n",
    "scaled_X = np.float32(np.stack([scaled_vectors[k] for k in keys]))\n",
    "print(\"Shape: \", scaled_X.shape)"
   ]
  },
  {
   "cell_type": "code",
   "execution_count": null,
   "id": "01bb79a0",
   "metadata": {},
   "outputs": [],
   "source": [
    "scaled_X = (scaled_X / scaled_X.max()).tolist()"
   ]
  },
  {
   "cell_type": "markdown",
   "id": "56d78742",
   "metadata": {},
   "source": [
    "Visualize the points in 2D"
   ]
  },
  {
   "cell_type": "code",
   "execution_count": null,
   "id": "fa0cdf72",
   "metadata": {
    "scrolled": false
   },
   "outputs": [],
   "source": [
    "pca = PCA(n_components=2)\n",
    "X_2d = pca.fit_transform(scaled_X)\n",
    "print(\"Explained variance: \", sum(pca.explained_variance_ratio_))\n",
    "\n",
    "# labels = np.array([names_to_regions[k] for k in keys])\n",
    "labels = np.array([\"Batch A\" for k in keys[:200]] + [\"Batch B\" for k in keys[200:]])\n",
    "unique_labels = sorted(list(set(labels)))\n",
    "cm = plt.get_cmap('gist_rainbow')\n",
    "generated_colors = np.array([\n",
    "    cm(1. * i / len(unique_labels))\n",
    "    for i in range(len(unique_labels))\n",
    "])\n",
    "np.random.shuffle(generated_colors)\n",
    "\n",
    "alpha = 1\n",
    "fig, ax = plt.subplots(figsize=(7, 7))\n",
    "\n",
    "# create a scatter per node label\n",
    "for i, l in enumerate(unique_labels):\n",
    "    indices = np.where(labels == l)\n",
    "    ax.scatter(\n",
    "        X_2d[indices, 0],\n",
    "        X_2d[indices, 1],\n",
    "        c=[generated_colors[i]] * indices[0].shape[0],\n",
    "        s=50,\n",
    "        label=l\n",
    "    )\n",
    "ax.legend()\n",
    "plt.show()"
   ]
  },
  {
   "cell_type": "code",
   "execution_count": null,
   "id": "77e9cebc",
   "metadata": {},
   "outputs": [],
   "source": [
    "similarity_index = ScikitLearnSimilarityIndex(\n",
    "    dimension=dim, similarity=\"euclidean\",\n",
    "    initial_vectors=scaled_X)\n",
    "sim_processor = SimilarityProcessor(\n",
    "    similarity_index, [names_to_ids[k] for k in keys])\n",
    "pipeline = EmbeddingPipeline(\n",
    "    preprocessor=None,\n",
    "    embedder=None,\n",
    "    similarity_processor=sim_processor)\n",
    "pipeline.save(join(DATA_DIR, \"SEU_morph_scaled_TMD_euclidean\"), compress=True)"
   ]
  },
  {
   "cell_type": "markdown",
   "id": "9d979906",
   "metadata": {},
   "source": [
    "Actually, for this kind of embeddings, it makes more sense to use [Wasserstein metric](https://en.wikipedia.org/wiki/Wasserstein_metric). See BlueGraph implementation:"
   ]
  },
  {
   "cell_type": "code",
   "execution_count": null,
   "id": "17a28b9e",
   "metadata": {},
   "outputs": [],
   "source": [
    "# similarity_index = ScikitLearnSimilarityIndex(\n",
    "#     dimension=dim, similarity=\"wasserstein\",\n",
    "#     initial_vectors=scaled_X)\n",
    "# sim_processor = SimilarityProcessor(\n",
    "#     similarity_index, keys)\n",
    "# pipeline = EmbeddingPipeline(\n",
    "#     preprocessor=None,\n",
    "#     embedder=None,\n",
    "#     similarity_processor=sim_processor)"
   ]
  },
  {
   "cell_type": "markdown",
   "id": "fbf144fd",
   "metadata": {},
   "source": [
    "# III. Register/update the models into the model catalog"
   ]
  },
  {
   "cell_type": "code",
   "execution_count": null,
   "id": "ac66f70a",
   "metadata": {},
   "outputs": [],
   "source": [
    "forge = KnowledgeGraphForge(\n",
    "    join(CONFIG_DIR, \"new-forge-config.yaml\"),\n",
    "    endpoint=\"https://bbp.epfl.ch/nexus/v1\",\n",
    "    token=TOKEN,\n",
    "    bucket=\"dke/embedding-pipelines\")"
   ]
  },
  {
   "cell_type": "code",
   "execution_count": null,
   "id": "8b9b961f",
   "metadata": {},
   "outputs": [],
   "source": [
    "axon_model_resource = push_model(\n",
    "    forge, \"SEU NeuronMorphology Axon Co-Projection Embedding\",\n",
    "    \"Node embedding model (node2vec) built on an axon co-projection graph extracted from the SEU neuron morphology dataset resources\",\n",
    "    \"Axon projection\",\n",
    "    join(DATA_DIR, \"SEU_morph_axon_coproj_node2vec_cosine.zip\"), \"cosine\",\n",
    "    axon_D, bg_version.__version__)"
   ]
  },
  {
   "cell_type": "code",
   "execution_count": null,
   "id": "6f1cd1e3",
   "metadata": {},
   "outputs": [],
   "source": [
    "dendrite_model_resource = push_model(\n",
    "    forge, \"SEU NeuronMorphology Dendrite Co-Projection Embedding\",\n",
    "    \"Node embedding model (node2vec) built on a dendrite co-projection graph extracted from the SEU neuron morphology dataset resources\",\n",
    "    \"Dendrite projection\",\n",
    "    join(DATA_DIR, \"SEU_morph_dendrite_coproj_node2vec_cosine.zip\"), \"cosine\",\n",
    "    dendrite_D, bg_version.__version__)"
   ]
  },
  {
   "cell_type": "code",
   "execution_count": null,
   "id": "feb5b776",
   "metadata": {},
   "outputs": [],
   "source": [
    "coordinates_model_resource = push_model(\n",
    "    forge, \"SEU NeuronMorphology Coordinates\",\n",
    "    \"Coordinate similarity of SEU neuron morphology dataset resources\",\n",
    "    \"Coordinates\",\n",
    "    join(DATA_DIR, \"SEU_morph_coordinates_euclidean.zip\"), \"euclidean\",\n",
    "    3, bg_version.__version__)"
   ]
  },
  {
   "cell_type": "code",
   "execution_count": null,
   "id": "149e3423",
   "metadata": {},
   "outputs": [],
   "source": [
    "neurite_features_model_resource = push_model(\n",
    "    forge, \"SEU NeuronMorphology Neurite Features\",\n",
    "    \"Feature encoding model built for neurite features from the SEU neuron morphology dataset resources\",\n",
    "    \"Neurite features\",\n",
    "    join(DATA_DIR, \"SEU_morph_neurite_features_euclidean.zip\"), \"euclidean\",\n",
    "    neurite_dim, bg_version.__version__)"
   ]
  },
  {
   "cell_type": "code",
   "execution_count": null,
   "id": "02a130e5",
   "metadata": {},
   "outputs": [],
   "source": [
    "brain_region_model_resource = push_model(\n",
    "    forge, \"SEU NeuronMorphology Brain Region Embedding\",\n",
    "    \"Poincare node embedding of brain regions in Allen CCFv3 of the SEU neuron morphology dataset resources\",\n",
    "    \"Brain regions (CCfv3)\",\n",
    "    \"../../../data/SEU_morph_brain_region_poincare.zip\", \"poincare\",\n",
    "    brain_region_D, bg_version.__version__)"
   ]
  },
  {
   "cell_type": "code",
   "execution_count": null,
   "id": "8637682b",
   "metadata": {},
   "outputs": [],
   "source": [
    "TMD_model_resource = push_model(\n",
    "    forge, \"SEU NeuronMorphology TMD-based Embedding\",\n",
    "    \"Vectorization of scaled persistence diagrams of the SEU neuron morphologies\",\n",
    "    \"TMD\",\n",
    "    join(DATA_DIR, \"SEU_morph_TMD_euclidean.zip\"), \"euclidean\",\n",
    "    256, bg_version.__version__)"
   ]
  },
  {
   "cell_type": "code",
   "execution_count": null,
   "id": "ca954a6f",
   "metadata": {
    "scrolled": true
   },
   "outputs": [],
   "source": [
    "scaled_TMD_model_resource = push_model(\n",
    "    forge, \"SEU NeuronMorphology scaled TMD-based Embedding\",\n",
    "    \"Vectorization of scaled persistence diagrams of the SEU neuron morphologies\",\n",
    "    \"TMD (scaled)\",\n",
    "    join(DATA_DIR, \"SEU_morph_scaled_TMD_euclidean.zip\"), \"euclidean\",\n",
    "    256, bg_version.__version__)"
   ]
  }
 ],
 "metadata": {
  "kernelspec": {
   "display_name": "bg",
   "language": "python",
   "name": "bg"
  },
  "language_info": {
   "codemirror_mode": {
    "name": "ipython",
    "version": 3
   },
   "file_extension": ".py",
   "mimetype": "text/x-python",
   "name": "python",
   "nbconvert_exporter": "python",
   "pygments_lexer": "ipython3",
   "version": "3.7.10"
  }
 },
 "nbformat": 4,
 "nbformat_minor": 5
}
