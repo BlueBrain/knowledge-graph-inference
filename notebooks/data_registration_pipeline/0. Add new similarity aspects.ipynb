{
 "cells": [
  {
   "cell_type": "markdown",
   "metadata": {},
   "source": [
    "# Add new similarity aspects\n",
    "\n",
    "This notebook illustates how a set of new similarity aspects can be added to the Atlas recommender configuration. A similarity aspect correponds to an instance of `EmbeddingModel` (stored in the model catalog) that is able to produce vectors describing particular data points (e.g. instances of `NeuronMorphology`) in some vector space, where similarity between two vectors represents similarity of the data points according to the given similarity aspect. For example, neurite features similarity of morphologies corresponds to a model that for each neuron morphology produces neurite feature vectors that can be used to establish a similarity score between two morphologies.\n",
    "\n",
    "Typically, a record of the `RecommenderConfiguration` resources has the following shape\n",
    "\n",
    "```\n",
    "{\n",
    "    \"embeddingModel\": {\n",
    "       \"@id\": <MODEL_ID>,\n",
    "       \"@type\": \"EmbeddingModel\"\n",
    "    },   \n",
    "    \"similarityView\": {\n",
    "       \"@id\": <MASTER_AGG_VIEW>,\n",
    "       \"@type\": \"AggregateElasticSearchView\"\n",
    "    },\n",
    "    \"statisticsView\": {\n",
    "       \"@id\": <STATS_VIEW>,\n",
    "       \"@type\": \"ElasticSearchView\"\n",
    "    },\n",
    "    \"boostingView\": {\n",
    "       \"@id\": <AGG_VIEW_WITH_BOOSTING_FACTORS>,\n",
    "       \"@type\": \"AggregateElasticSearchView\"\n",
    "    }\n",
    "}\n",
    "```\n",
    "\n",
    "where\n",
    "\n",
    "- `MODEL_ID`, ID of the model representing the new similarity aspect;\n",
    "- `MASTER_AGG_VIEW`, ID of the Master view, an aggregated ES view that collects a set of individual ES views from projects where data points reside. These individual views index embedding vectors produced by the above-mentioned model;\n",
    "- `STATS_VIEW`, ID of the ES view with statistics on the Master view;\n",
    "- `AGG_VIEW_WITH_BOOSTING_FACTORS`, ID of the aggregated ES view that collects a set of individual ES views with boosting factors from projects where data points reside.\n",
    "\n",
    "Unfortunately, in Nexus, we cannot create an empty aggregated ES view, so the Master View (as well as Stats View and Agg Boosting View) needs to be created upon creation of the first ES view indexing a batch of embedding vectors. Therefore in this notebook, we create a new record that points only to the embedding model, but not the rest of the components.\n",
    "\n",
    "\n",
    "Related JIRA tickets: \n",
    "* https://bbpteam.epfl.ch/project/issues/browse/DKE-718\n",
    "* https://bbpteam.epfl.ch/project/issues/browse/DKE-715"
   ]
  },
  {
   "cell_type": "markdown",
   "metadata": {},
   "source": [
    "Prerequisites:\n",
    "\n",
    "- Models have been built and pushed to the model catalog\n",
    "- Model meta-data has a `vectorDimension` field specifying the dimension of embedding vectors.\n",
    "- `RecommenderConfiguration` resource exists in the Atlas configuration project\n",
    "- \n",
    "\n",
    "Steps:\n",
    "\n",
    "1. Fetch the Recommender Configuration resource from the Atlas configuration project\n",
    "2. Add new records to the `configuration` field pointing to the specified models."
   ]
  },
  {
   "cell_type": "code",
   "execution_count": 1,
   "metadata": {},
   "outputs": [],
   "source": [
    "import getpass\n",
    "import os\n",
    "import warnings\n",
    "\n",
    "from kgforge.core import KnowledgeGraphForge\n",
    "\n",
    "from bluegraph.downstream import EmbeddingPipeline\n",
    "from bluegraph.core import GraphElementEmbedder"
   ]
  },
  {
   "cell_type": "markdown",
   "metadata": {},
   "source": [
    "## User input"
   ]
  },
  {
   "cell_type": "code",
   "execution_count": 2,
   "metadata": {},
   "outputs": [
    {
     "name": "stdout",
     "output_type": "stream",
     "text": [
      "········\n"
     ]
    }
   ],
   "source": [
    "ENDPOINT = \"https://bbp.epfl.ch/nexus/v1\"\n",
    "DOWNLOAD_DIR = \"../../data\"\n",
    "TOKEN = getpass.getpass()"
   ]
  },
  {
   "cell_type": "markdown",
   "metadata": {},
   "source": [
    "ID of the embedding models from the catalog.\n",
    "__IF YOU ARE ADDING A NEW MODEL, ADD IT TO THE LIST BELOW:__"
   ]
  },
  {
   "cell_type": "code",
   "execution_count": 10,
   "metadata": {},
   "outputs": [],
   "source": [
    "MODEL_IDS = [\n",
    "    \"https://bbp.epfl.ch/nexus/v1/resources/dke/embedding-pipelines/_/84519407-ad30-4d31-877e-1d6560325393\", # Axon projection\n",
    "    \"https://bbp.epfl.ch/nexus/v1/resources/dke/embedding-pipelines/_/9fe6873b-ef6a-41b5-854a-382bc1be9fff\", # Dendrite projection\n",
    "    \"https://bbp.epfl.ch/nexus/v1/resources/dke/embedding-pipelines/_/d0c21fd5-cb9c-445c-b0a4-94847ba61f5a\", # Neurite features\n",
    "    \"https://bbp.epfl.ch/nexus/v1/resources/dke/embedding-pipelines/_/1c4fcd2e-000f-437b-b65b-844ee211105a\", # Brain regions (CCfv3)\n",
    "    \"https://bbp.epfl.ch/nexus/v1/resources/dke/embedding-pipelines/_/608fab85-0cc9-4ff9-a4bd-4249589b5889\", # Coordinates\n",
    "    \"https://bbp.epfl.ch/nexus/v1/resources/dke/embedding-pipelines/_/43965be4-72f9-4901-9a95-d9ca13da8fb4\", # TMD\n",
    "    \"https://bbp.epfl.ch/nexus/v1/resources/dke/embedding-pipelines/_/7a111efa-7467-42d2-9e0c-c1ca7a883216\" # TMD (scaled)\n",
    "]"
   ]
  },
  {
   "cell_type": "markdown",
   "metadata": {},
   "source": [
    "Atlas configuration project"
   ]
  },
  {
   "cell_type": "code",
   "execution_count": 11,
   "metadata": {},
   "outputs": [],
   "source": [
    "ATLAS_CONFIG_ORG = \"bbp\"\n",
    "ATLAS_CONFIG_PROJECT = \"atlas\""
   ]
  },
  {
   "cell_type": "markdown",
   "metadata": {},
   "source": [
    "ID of the recommender configuration in the atlas config project."
   ]
  },
  {
   "cell_type": "code",
   "execution_count": 12,
   "metadata": {},
   "outputs": [],
   "source": [
    "ATLAS_RECOMMENDER_CONFIG = \"https://bbp.epfl.ch/neurosciencegraph/data/d9938314-4e27-4c45-8afe-44484b02636d\""
   ]
  },
  {
   "cell_type": "markdown",
   "metadata": {},
   "source": [
    "## Create sessions"
   ]
  },
  {
   "cell_type": "markdown",
   "metadata": {},
   "source": [
    "Session for updating Atlas configs"
   ]
  },
  {
   "cell_type": "code",
   "execution_count": 13,
   "metadata": {},
   "outputs": [],
   "source": [
    "forge_atlas = KnowledgeGraphForge(\n",
    "    \"../../configs/new-forge-config.yaml\",\n",
    "    endpoint=ENDPOINT,\n",
    "    token=TOKEN, \n",
    "    bucket=f\"{ATLAS_CONFIG_ORG}/{ATLAS_CONFIG_PROJECT}\")"
   ]
  },
  {
   "cell_type": "markdown",
   "metadata": {},
   "source": [
    "## Update Atlas recommender configuration "
   ]
  },
  {
   "cell_type": "code",
   "execution_count": 7,
   "metadata": {},
   "outputs": [],
   "source": [
    "config_resource = forge_atlas.retrieve(ATLAS_RECOMMENDER_CONFIG)"
   ]
  },
  {
   "cell_type": "code",
   "execution_count": 8,
   "metadata": {},
   "outputs": [
    {
     "name": "stderr",
     "output_type": "stream",
     "text": [
      "/Users/oshurko/opt/anaconda3/envs/bg/lib/python3.7/site-packages/ipykernel_launcher.py:13: UserWarning: A configuration record for mode 'https://bbp.epfl.ch/nexus/v1/resources/dke/embedding-pipelines/_/84519407-ad30-4d31-877e-1d6560325393' already exists, skipping\n",
      "  del sys.path[0]\n",
      "/Users/oshurko/opt/anaconda3/envs/bg/lib/python3.7/site-packages/ipykernel_launcher.py:13: UserWarning: A configuration record for mode 'https://bbp.epfl.ch/nexus/v1/resources/dke/embedding-pipelines/_/9fe6873b-ef6a-41b5-854a-382bc1be9fff' already exists, skipping\n",
      "  del sys.path[0]\n",
      "/Users/oshurko/opt/anaconda3/envs/bg/lib/python3.7/site-packages/ipykernel_launcher.py:13: UserWarning: A configuration record for mode 'https://bbp.epfl.ch/nexus/v1/resources/dke/embedding-pipelines/_/d0c21fd5-cb9c-445c-b0a4-94847ba61f5a' already exists, skipping\n",
      "  del sys.path[0]\n",
      "/Users/oshurko/opt/anaconda3/envs/bg/lib/python3.7/site-packages/ipykernel_launcher.py:13: UserWarning: A configuration record for mode 'https://bbp.epfl.ch/nexus/v1/resources/dke/embedding-pipelines/_/1c4fcd2e-000f-437b-b65b-844ee211105a' already exists, skipping\n",
      "  del sys.path[0]\n",
      "/Users/oshurko/opt/anaconda3/envs/bg/lib/python3.7/site-packages/ipykernel_launcher.py:13: UserWarning: A configuration record for mode 'https://bbp.epfl.ch/nexus/v1/resources/dke/embedding-pipelines/_/608fab85-0cc9-4ff9-a4bd-4249589b5889' already exists, skipping\n",
      "  del sys.path[0]\n"
     ]
    }
   ],
   "source": [
    "configuration_records = (\n",
    "    [forge_atlas.as_json(el) for el in config_resource.configuration]\n",
    "    if isinstance(config_resource.configuration, list)\n",
    "    else [forge_atlas.as_json(config_resource.configuration)]\n",
    ")\n",
    "configured_modes = set([\n",
    "    el[\"embeddingModel\"][\"id\"] for el in configuration_records\n",
    "])\n",
    "for model_id in MODEL_IDS:\n",
    "    if model_id in configured_modes:\n",
    "        warnings.warn(\n",
    "            f\"A configuration record for mode '{model_id}' already exists, skipping\",\n",
    "            UserWarning)\n",
    "    else:\n",
    "        configuration_records.append({\n",
    "            \"embeddingModel\": {\n",
    "                \"id\": model_id,\n",
    "                \"type\": \"EmbeddingModel\"\n",
    "            },\n",
    "            \"similarityView\": None,\n",
    "            \"statisticsView\": None,\n",
    "            \"boostingView\": None\n",
    "        })\n",
    "    \n",
    "config_resource.configuration = forge_atlas.from_json(\n",
    "    configuration_records)"
   ]
  },
  {
   "cell_type": "code",
   "execution_count": 9,
   "metadata": {},
   "outputs": [
    {
     "name": "stdout",
     "output_type": "stream",
     "text": [
      "<action> _update_one\n",
      "<succeeded> True\n"
     ]
    }
   ],
   "source": [
    "forge_atlas.update(config_resource)"
   ]
  }
 ],
 "metadata": {
  "kernelspec": {
   "display_name": "bg",
   "language": "python",
   "name": "bg"
  },
  "language_info": {
   "codemirror_mode": {
    "name": "ipython",
    "version": 3
   },
   "file_extension": ".py",
   "mimetype": "text/x-python",
   "name": "python",
   "nbconvert_exporter": "python",
   "pygments_lexer": "ipython3",
   "version": "3.7.10"
  },
  "toc-autonumbering": true,
  "toc-showtags": true
 },
 "nbformat": 4,
 "nbformat_minor": 4
}
