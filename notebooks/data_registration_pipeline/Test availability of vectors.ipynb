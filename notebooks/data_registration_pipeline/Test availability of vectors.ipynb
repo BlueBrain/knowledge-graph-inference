{
 "cells": [
  {
   "cell_type": "code",
   "execution_count": 19,
   "id": "231aa1c5",
   "metadata": {},
   "outputs": [],
   "source": [
    "import getpass\n",
    "import requests\n",
    "from urllib.parse import quote_plus\n",
    "\n",
    "import numpy as np\n",
    "import nexussdk as nxs\n",
    "\n",
    "from kgforge.core import KnowledgeGraphForge"
   ]
  },
  {
   "cell_type": "code",
   "execution_count": 17,
   "id": "77e96b03",
   "metadata": {},
   "outputs": [],
   "source": [
    "def set_elastic_view(forge, view):\n",
    "    views_endpoint = \"/\".join((\n",
    "        ENDPOINT,\n",
    "        \"views\",\n",
    "        quote_plus(forge._store.bucket.split(\"/\")[0]),\n",
    "        quote_plus(forge._store.bucket.split(\"/\")[1])))\n",
    "    forge._store.service.elastic_endpoint[\"endpoint\"] = \"/\".join(\n",
    "        (views_endpoint, quote_plus(view), \"_search\"))\n",
    "    \n",
    "    \n",
    "def get_all_vectors(forge, resource_limit):\n",
    "    all_embeddings = forge.elastic(f\"\"\"{{\n",
    "        \"from\" : 0,\n",
    "        \"size\" : {resource_limit},\n",
    "        \"query\": {{\n",
    "            \"term\": {{\"_deprecated\": false}}\n",
    "        }}\n",
    "    }}\n",
    "    \"\"\")\n",
    "    vectors = {\n",
    "        result._source[\"@id\"]: result._source[\"embedding\"]\n",
    "        for result in all_embeddings\n",
    "    }\n",
    "    return vectors"
   ]
  },
  {
   "cell_type": "code",
   "execution_count": 2,
   "id": "0074e656",
   "metadata": {},
   "outputs": [
    {
     "name": "stdout",
     "output_type": "stream",
     "text": [
      "········\n"
     ]
    }
   ],
   "source": [
    "ENDPOINT = \"https://bbp.epfl.ch/nexus/v1\"\n",
    "DOWNLOAD_DIR = \"./data\"\n",
    "TOKEN = getpass.getpass()"
   ]
  },
  {
   "cell_type": "code",
   "execution_count": 3,
   "id": "0d6d373c",
   "metadata": {},
   "outputs": [],
   "source": [
    "ATLAS_CONFIG_ORG = \"bbp\"\n",
    "ATLAS_CONFIG_PROJECT = \"atlas\""
   ]
  },
  {
   "cell_type": "code",
   "execution_count": 4,
   "id": "4c1e4a7b",
   "metadata": {},
   "outputs": [],
   "source": [
    "ATLAS_RECOMMENDER_CONFIG = \"https://bbp.epfl.ch/neurosciencegraph/data/d9938314-4e27-4c45-8afe-44484b02636d\""
   ]
  },
  {
   "cell_type": "code",
   "execution_count": 6,
   "id": "842d40c0",
   "metadata": {},
   "outputs": [],
   "source": [
    "forge_atlas = KnowledgeGraphForge(\n",
    "    \"../../configs/new-forge-config.yaml\",\n",
    "    endpoint=ENDPOINT,\n",
    "    token=TOKEN, \n",
    "    bucket=f\"{ATLAS_CONFIG_ORG}/{ATLAS_CONFIG_PROJECT}\")"
   ]
  },
  {
   "cell_type": "code",
   "execution_count": 34,
   "id": "cfde6e37",
   "metadata": {},
   "outputs": [],
   "source": [
    "forge_models = KnowledgeGraphForge(\n",
    "    \"../../configs/new-forge-config.yaml\",\n",
    "    endpoint=ENDPOINT,\n",
    "    token=TOKEN, \n",
    "    bucket=\"dke/embedding-pipelines\")"
   ]
  },
  {
   "cell_type": "code",
   "execution_count": 8,
   "id": "f44ad463",
   "metadata": {},
   "outputs": [],
   "source": [
    "nxs.config.set_environment(ENDPOINT)\n",
    "nxs.config.set_token(TOKEN)"
   ]
  },
  {
   "cell_type": "code",
   "execution_count": 9,
   "id": "c0911045",
   "metadata": {},
   "outputs": [],
   "source": [
    "config_resource = forge_atlas.retrieve(ATLAS_RECOMMENDER_CONFIG)"
   ]
  },
  {
   "cell_type": "code",
   "execution_count": 31,
   "id": "1bdcda4b",
   "metadata": {},
   "outputs": [],
   "source": [
    "FORMULAS = {\n",
    "    \"cosine\": \"(cosineSimilarity(params.query_vector, doc['embedding']) + 1.0) / 2\",\n",
    "    \"euclidean\": \"1 / (1 + l2norm(params.query_vector, doc['embedding']))\",\n",
    "    \"poincare\": \"float[] v = doc['embedding'].vectorValue; double am = doc['embedding'].magnitude; double bm = 0; double dist = 0; for (int i = 0; i < v.length; i++) { bm += Math.pow(params.query_vector[i], 2); dist += Math.pow(v[i] - params.query_vector[i], 2); } bm = Math.sqrt(bm); dist = Math.sqrt(dist); double x = 1 + (2 * Math.pow(dist, 2)) / ( (1 - Math.pow(bm, 2)) * (1 - Math.pow(am, 2)) );  double d = Math.log(x + Math.sqrt(Math.pow(x, 2) - 1)); return 1 / (1 + d);\"\n",
    "}"
   ]
  },
  {
   "cell_type": "code",
   "execution_count": 57,
   "id": "7c2f18bc",
   "metadata": {},
   "outputs": [
    {
     "data": {
      "text/plain": [
       "1.0"
      ]
     },
     "execution_count": 57,
     "metadata": {},
     "output_type": "execute_result"
    }
   ],
   "source": [
    "np.linalg.norm([0, 1])"
   ]
  },
  {
   "cell_type": "code",
   "execution_count": 61,
   "id": "74ec6cac",
   "metadata": {
    "scrolled": true
   },
   "outputs": [
    {
     "name": "stdout",
     "output_type": "stream",
     "text": [
      "https://bbp.epfl.ch/nexus/v1/resources/dke/embedding-pipelines/_/d0c21fd5-cb9c-445c-b0a4-94847ba61f5a\n",
      "SEU NeuronMorphology Neurite Features\n",
      "\tAll vectors:  298\n",
      "\t\t (132,)\n",
      "\t\t 0.36763958112832346\n",
      "{\n",
      "          \"size\": 298,\n",
      "          \"query\": {\n",
      "            \"script_score\": {\n",
      "                \"query\": {\n",
      "                    \"bool\" : {\n",
      "                      \"must_not\" : {\n",
      "                        \"term\" : { \"@id\": \"https://bbp.epfl.ch/neurosciencegraph/data/embeddings/578b2f6d-af38-4d09-8aad-5b36fd348c55\" }\n",
      "                      },\n",
      "                      \"must\": { \"exists\": { \"field\": \"embedding\" } }\n",
      "                    }\n",
      "                },\n",
      "                \"script\": {\n",
      "                    \"source\": \"1 / (1 + l2norm(params.query_vector, doc['embedding']))\",\n",
      "                    \"params\": {\n",
      "                      \"query_vector\": [0.02186267450451851, 0.02186267450451851, 0.010412359610199928, 0.010412359610199928, 0.010360310785472393, 0.010360310785472393, 0.010464238002896309, 0.010464238002896309, 0.009471251629292965, 0.009471251629292965, 0.008989476598799229, 0.008989476598799229, 0.00761767104268074, 0.00761767104268074, -0.008325047791004181, 0.002848514122888446, 0.007185145281255245, -0.026264851912856102, -0.009846020489931107, 0.022103890776634216, -0.031169727444648743, -0.03253801912069321, -0.031274184584617615, -0.03231550380587578, -0.030999833717942238, -0.03238530084490776, 0.0739615261554718, -0.004638679791241884, 0.016513999551534653, -0.023805513978004456, 0.00037879025330767035, 0.040587522089481354, -0.0008902863482944667, 0.04012565687298775, 0.039084818214178085, 0.03237805888056755, -0.03378494456410408, -0.0434957817196846, 0.01176185067743063, -0.01711229979991913, -0.00752429012209177, -0.014701800420880318, 0.04659659415483475, -0.029019078239798546, 0.04780150204896927, -0.027629181742668152, 0.04546542465686798, -0.030053427442908287, 0.07417062669992447, -0.003909822087734938, -0.00940690003335476, -0.002247194293886423, -0.00862816721200943, 0.001676739426329732, -0.053357578814029694, -0.013972523622214794, -0.0006579186301678419, -0.02595122717320919, -0.03410527482628822, -0.03410527482628822, -0.0203468669205904, -0.0203468669205904, -0.02040701173245907, -0.02040701173245907, -0.020284568890929222, -0.020284568890929222, -0.03180783614516258, -0.03180783614516258, -0.033952221274375916, -0.033952221274375916, -0.03835420310497284, -0.03835420310497284, -0.059906456619501114, -0.035658448934555054, -0.07711713761091232, -0.02819094993174076, -0.037190791219472885, -0.03245241940021515, -0.021092114970088005, -0.021069997921586037, -0.02123912237584591, -0.020981837064027786, -0.020723536610603333, -0.02043696865439415, -0.0324757881462574, -0.032297343015670776, 0.027676669880747795, -0.0300703477114439, 0.026823747903108597, 0.02405235543847084, 0.05644671246409416, 0.03392566367983818, -0.015247151255607605, 0.026322100311517715, 0.025592202320694923, 0.04103032499551773, -0.0007016999879851937, -0.06848651170730591, -0.02074182592332363, -0.0674126148223877, -0.03427920490503311, -0.03383813798427582, -0.0351642407476902, -0.03277811408042908, -0.033168938010931015, -0.033199865370988846, -0.03300999477505684, -0.03169850632548332, -0.06735167652368546, -0.04700985550880432, -0.0770179033279419, -0.03984292969107628, 0.031865689903497696, 0.005868509877473116, 0.01763675920665264, 0.006451765075325966, -0.011686266399919987, -0.011686266399919987, -0.020321814343333244, -0.026995139196515083, -0.02494959719479084, -0.020503027364611626, -0.02692214772105217, -0.02069486305117607, -0.030333321541547775, -0.021030526608228683, 0.002810219768434763, 0.002810219768434763, -0.050830207765102386, -0.050830207765102386, -0.05224180594086647, -0.05224180594086647]\n",
      "                    }\n",
      "                }\n",
      "            }\n",
      "          }\n",
      "        }\n",
      "\tResults for individual vectors: 297\n",
      "\tBoosting factors:  298\n",
      "\n",
      "https://bbp.epfl.ch/nexus/v1/resources/dke/embedding-pipelines/_/9fe6873b-ef6a-41b5-854a-382bc1be9fff\n",
      "SEU NeuronMorphology Dendrite Co-Projection Embedding\n",
      "\tAll vectors:  298\n",
      "\t\t (100,)\n",
      "\t\t 0.9999999958178052\n",
      "{\n",
      "          \"size\": 298,\n",
      "          \"query\": {\n",
      "            \"script_score\": {\n",
      "                \"query\": {\n",
      "                    \"bool\" : {\n",
      "                      \"must_not\" : {\n",
      "                        \"term\" : { \"@id\": \"https://bbp.epfl.ch/neurosciencegraph/data/embeddings/b18268a7-61be-416a-b303-504f21a9018b\" }\n",
      "                      },\n",
      "                      \"must\": { \"exists\": { \"field\": \"embedding\" } }\n",
      "                    }\n",
      "                },\n",
      "                \"script\": {\n",
      "                    \"source\": \"(cosineSimilarity(params.query_vector, doc['embedding']) + 1.0) / 2\",\n",
      "                    \"params\": {\n",
      "                      \"query_vector\": [-0.06107059493660927, 0.11018496751785278, -0.0190819650888443, -0.06461825966835022, 0.2790716290473938, -0.09587197750806808, 0.02546425722539425, -0.013305479660630226, -0.16805386543273926, 0.015195946209132671, -0.030594423413276672, 0.04291531816124916, 0.14843785762786865, -0.07136315107345581, 0.1793665885925293, -0.015912950038909912, -0.08206278830766678, 0.08197318017482758, 0.0027728744316846132, -0.014359789900481701, -0.10622027516365051, 0.10490290075540543, -0.15239708125591278, 0.015307941474020481, 0.026721788570284843, 0.031317438930273056, 0.019914522767066956, -0.07325273752212524, 0.15405286848545074, -0.004043931607156992, 0.04911579564213753, -0.05021536722779274, -0.00900324247777462, 0.11487334966659546, 0.023560840636491776, -0.11768118292093277, 0.12600713968276978, -0.1353967785835266, -0.07707545161247253, -0.0911085456609726, -0.28105854988098145, 0.05097365379333496, 0.16517215967178345, 0.21309013664722443, -0.06657128781080246, -0.17825882136821747, 0.09185199439525604, 0.06261046230792999, 0.18840982019901276, 0.09474838525056839, -0.016613150015473366, -0.00033637150772847235, -0.04180305078625679, -0.06461067497730255, -0.18738509714603424, -0.015170995146036148, -0.021231634542346, 0.012555813416838646, -0.025309216231107712, 0.044096410274505615, -0.19388867914676666, -0.005236994009464979, 0.017313342541456223, 0.1275748759508133, 0.06108181178569794, -0.028122197836637497, -0.056204669177532196, -0.021738747134804726, 0.10435683280229568, -0.23656654357910156, 0.02649090625345707, -0.11513812839984894, 0.12393894046545029, -0.03600778430700302, -0.13439491391181946, -0.05508885532617569, 0.11990310996770859, -0.02387630194425583, 0.050240181386470795, 0.08836355060338974, -0.07211294025182724, -0.07366709411144257, -0.016680428758263588, -0.04701331630349159, -0.1318841427564621, 0.06983374804258347, 0.035588305443525314, -0.041246313601732254, 0.03137260675430298, 0.11736995726823807, 0.13292397558689117, -0.0696670264005661, 0.00677025830373168, -0.03499920666217804, -0.0977291688323021, -0.11238130927085876, 0.15591062605381012, 0.028486570343375206, -0.04493967443704605, -0.06873789429664612]\n",
      "                    }\n",
      "                }\n",
      "            }\n",
      "          }\n",
      "        }\n",
      "\tResults for individual vectors: 297\n",
      "\tBoosting factors:  298\n",
      "\n",
      "https://bbp.epfl.ch/nexus/v1/resources/dke/embedding-pipelines/_/84519407-ad30-4d31-877e-1d6560325393\n",
      "SEU NeuronMorphology Axon Co-Projection Embedding\n",
      "\tAll vectors:  298\n",
      "\t\t (128,)\n",
      "\t\t 0.9999999814996906\n",
      "{\n",
      "          \"size\": 298,\n",
      "          \"query\": {\n",
      "            \"script_score\": {\n",
      "                \"query\": {\n",
      "                    \"bool\" : {\n",
      "                      \"must_not\" : {\n",
      "                        \"term\" : { \"@id\": \"https://bbp.epfl.ch/neurosciencegraph/data/embeddings/abb9204b-c619-4830-b183-fa319e622062\" }\n",
      "                      },\n",
      "                      \"must\": { \"exists\": { \"field\": \"embedding\" } }\n",
      "                    }\n",
      "                },\n",
      "                \"script\": {\n",
      "                    \"source\": \"(cosineSimilarity(params.query_vector, doc['embedding']) + 1.0) / 2\",\n",
      "                    \"params\": {\n",
      "                      \"query_vector\": [-0.029088176786899567, 0.1301313042640686, -0.03272540494799614, -0.08020062744617462, 0.2002941220998764, -0.03619052469730377, -0.0005101542337797582, 0.048450496047735214, -0.08760765939950943, 0.03379892557859421, 0.04131385684013367, 0.006680326536297798, 0.09645183384418488, -0.01575457490980625, 0.20283710956573486, -0.056234899908304214, -0.04416478052735329, -0.02320428378880024, 0.010949153453111649, 0.009075531736016273, -0.08362853527069092, 0.072720468044281, -0.059563785791397095, -0.07258155196905136, -0.002777563873678446, 0.039418164640665054, 0.011527510359883308, -0.05549636110663414, 0.11688924580812454, 0.04832674562931061, 0.03995977342128754, -0.025225231423974037, 0.019090088084340096, 0.0879245474934578, -0.012823383323848248, -0.12565772235393524, 0.0827745795249939, -0.12906737625598907, -0.034281086176633835, -0.026857024058699608, -0.23108217120170593, 0.024399777874350548, 0.16343915462493896, 0.08648891001939774, -0.014887061901390553, -0.13054943084716797, 0.025931840762495995, 0.0062381913885474205, 0.08637456595897675, 0.08041982352733612, -0.0021597356535494328, 0.064083531498909, 0.0005815502954646945, -0.053953029215335846, -0.18560348451137543, -0.002688886132091284, 0.061438675969839096, 0.036826442927122116, -0.0659317597746849, -0.024485012516379356, -0.11644638329744339, -0.022509489208459854, -0.007736971136182547, 0.13609327375888824, 0.15230418741703033, 0.017045985907316208, -0.09825761616230011, -0.03676636889576912, 0.0827009528875351, -0.1602848619222641, 0.03341059759259224, -0.07724231481552124, 0.12824636697769165, 0.005795683246105909, -0.09613492339849472, -0.04769406095147133, 0.13822105526924133, 0.005165354814380407, 0.07820693403482437, 0.1096222847700119, -0.1175515428185463, -0.08203444629907608, -0.0068236952647566795, -0.08275322616100311, -0.09996619820594788, 0.02937697246670723, 0.027877138927578926, 0.07631999254226685, 0.09714256227016449, 0.10504188388586044, 0.07649669796228409, -0.020289620384573936, -0.02032862976193428, 0.05523597449064255, 0.0167094636708498, -0.07658926397562027, 0.13830798864364624, -0.013731113635003567, -0.07697577029466629, -0.04033306613564491, 0.0011197670828551054, 0.09677238762378693, 0.01739739254117012, -0.022252069786190987, 0.13483896851539612, -0.055946286767721176, 0.03862472623586655, -0.03147093206644058, -0.18837957084178925, -0.04777178168296814, 0.06537624448537827, -0.0690007358789444, 0.1490430384874344, 0.07635990530252457, -0.12440012395381927, 0.18091394007205963, -0.022255804389715195, 0.26318398118019104, -0.1739010214805603, -0.09814110398292542, 0.031733762472867966, 0.08731659501791, 0.14903366565704346, -0.08820716291666031, 0.013317104429006577, -0.07947057485580444, 0.055565252900123596, -0.0603153258562088]\n",
      "                    }\n",
      "                }\n",
      "            }\n",
      "          }\n",
      "        }\n",
      "\tResults for individual vectors: 297\n",
      "\tBoosting factors:  298\n",
      "\n",
      "https://bbp.epfl.ch/nexus/v1/resources/dke/embedding-pipelines/_/1c4fcd2e-000f-437b-b65b-844ee211105a\n"
     ]
    },
    {
     "name": "stdout",
     "output_type": "stream",
     "text": [
      "SEU NeuronMorphology Brain Region Embedding\n",
      "\tAll vectors:  298\n",
      "\t\t (32,)\n",
      "\t\t 0.5417642392704944\n",
      "{\n",
      "          \"size\": 298,\n",
      "          \"query\": {\n",
      "            \"script_score\": {\n",
      "                \"query\": {\n",
      "                    \"bool\" : {\n",
      "                      \"must_not\" : {\n",
      "                        \"term\" : { \"@id\": \"https://bbp.epfl.ch/neurosciencegraph/data/embeddings/8e733790-a69e-424f-97a1-80f58e55975a\" }\n",
      "                      },\n",
      "                      \"must\": { \"exists\": { \"field\": \"embedding\" } }\n",
      "                    }\n",
      "                },\n",
      "                \"script\": {\n",
      "                    \"source\": \"float[] v = doc['embedding'].vectorValue; double am = doc['embedding'].magnitude; double bm = 0; double dist = 0; for (int i = 0; i < v.length; i++) { bm += Math.pow(params.query_vector[i], 2); dist += Math.pow(v[i] - params.query_vector[i], 2); } bm = Math.sqrt(bm); dist = Math.sqrt(dist); double x = 1 + (2 * Math.pow(dist, 2)) / ( (1 - Math.pow(bm, 2)) * (1 - Math.pow(am, 2)) );  double d = Math.log(x + Math.sqrt(Math.pow(x, 2) - 1)); return 1 / (1 + d);\",\n",
      "                    \"params\": {\n",
      "                      \"query_vector\": [-0.008317733541480188, 0.11748584747959767, 0.07563271917656862, 0.026174008886431233, 0.13039303879248215, 0.10908815499535261, 0.2142846807650415, -0.02294319453874471, 0.05897171329668444, -0.16727077681536792, 0.03645015078276016, 0.10411867158894567, 0.0837524773806856, -0.03381676185085959, 0.06147554945668059, -0.11469328928096544, -0.005879858288405958, 0.06573118282787328, 0.17466045030303554, -0.1098418238890842, 0.04914297904451472, -0.02326756429580556, -0.17251307773100646, 0.052776187096312425, 0.012408170962730053, -0.08455406412879428, 0.019243669726913503, 0.1516956488709284, 0.012216505358899522, 0.015961560781772122, -0.08318256413281408, 0.09342389339628553]\n",
      "                    }\n",
      "                }\n",
      "            }\n",
      "          }\n",
      "        }\n",
      "\tResults for individual vectors: 297\n",
      "\tBoosting factors:  298\n",
      "\n",
      "https://bbp.epfl.ch/nexus/v1/resources/dke/embedding-pipelines/_/608fab85-0cc9-4ff9-a4bd-4249589b5889\n",
      "SEU NeuronMorphology Coordinates\n",
      "\tAll vectors:  298\n",
      "\t\t (3,)\n",
      "\t\t 0.962368540851633\n",
      "{\n",
      "          \"size\": 298,\n",
      "          \"query\": {\n",
      "            \"script_score\": {\n",
      "                \"query\": {\n",
      "                    \"bool\" : {\n",
      "                      \"must_not\" : {\n",
      "                        \"term\" : { \"@id\": \"https://bbp.epfl.ch/neurosciencegraph/data/embeddings/98648400-c321-4a37-865a-155d3aa416fe\" }\n",
      "                      },\n",
      "                      \"must\": { \"exists\": { \"field\": \"embedding\" } }\n",
      "                    }\n",
      "                },\n",
      "                \"script\": {\n",
      "                    \"source\": \"1 / (1 + l2norm(params.query_vector, doc['embedding']))\",\n",
      "                    \"params\": {\n",
      "                      \"query_vector\": [0.8227447271347046, 0.31873074173927307, 0.38425907492637634]\n",
      "                    }\n",
      "                }\n",
      "            }\n",
      "          }\n",
      "        }\n",
      "\tResults for individual vectors: 297\n",
      "\tBoosting factors:  298\n",
      "\n"
     ]
    }
   ],
   "source": [
    "for el in config_resource.configuration:\n",
    "    print(el.embeddingModel.id)\n",
    "    model = forge_models.retrieve(el.embeddingModel.id)\n",
    "    print(model.name)\n",
    "    formula = FORMULAS[model.similarity]\n",
    "    similarity_view = el.similarityView.id    \n",
    "    set_elastic_view(forge_atlas, similarity_view)\n",
    "    vectors = get_all_vectors(forge_atlas, 1000)\n",
    "    total_vectors = len(vectors)\n",
    "    print(\"\\tAll vectors: \", total_vectors)\n",
    "    \n",
    "    for k, vector in vectors.items():\n",
    "        print(\"\\t\\t\", np.array(vector).shape)\n",
    "        print(\"\\t\\t\", np.linalg.norm(vector))\n",
    "        query = f\"\"\"{{\n",
    "          \"size\": {len(vectors)},\n",
    "          \"query\": {{\n",
    "            \"script_score\": {{\n",
    "                \"query\": {{\n",
    "                    \"bool\" : {{\n",
    "                      \"must_not\" : {{\n",
    "                        \"term\" : {{ \"@id\": \"{k}\" }}\n",
    "                      }},\n",
    "                      \"must\": {{ \"exists\": {{ \"field\": \"embedding\" }} }}\n",
    "                    }}\n",
    "                }},\n",
    "                \"script\": {{\n",
    "                    \"source\": \"{formula}\",\n",
    "                    \"params\": {{\n",
    "                      \"query_vector\": {vector}\n",
    "                    }}\n",
    "                }}\n",
    "            }}\n",
    "          }}\n",
    "        }}\"\"\"\n",
    "        res = forge_atlas.elastic(query)\n",
    "        print(query)\n",
    "        print(\"\\tResults for individual vectors:\", len(res))\n",
    "        break\n",
    "\n",
    "    set_elastic_view(forge_atlas, el.boostingView.id)\n",
    "    boosting = forge_atlas.elastic(f\"\"\"{{\n",
    "        \"from\" : 0,\n",
    "        \"size\" : 10000,\n",
    "        \"query\": {{\n",
    "            \"term\": {{\"_deprecated\": false}}\n",
    "        }}\n",
    "    }}\n",
    "    \"\"\")\n",
    "    print(\"\\tBoosting factors: \", len(boosting))\n",
    "    print()"
   ]
  },
  {
   "cell_type": "code",
   "execution_count": null,
   "id": "021414b1",
   "metadata": {},
   "outputs": [],
   "source": [
    "\"float[] v = doc['embedding'].vectorValue; double am = doc['embedding'].magnitude; double bm = 0; double dist = 0; for (int i = 0; i < v.length; i++) { bm += Math.pow(params.query_vector[i], 2); dist += Math.pow(v[i] - params.query_vector[i], 2); } bm = Math.sqrt(bm); dist = Math.sqrt(dist); double x = 1 + (2 * Math.pow(dist, 2)) / ( (1 - Math.pow(bm, 2)) * (1 - Math.pow(am, 2)) );  double d = Math.log(x + Math.sqrt(Math.pow(x, 2) - 1)); return 1 / (1 + d);\""
   ]
  },
  {
   "cell_type": "code",
   "execution_count": null,
   "id": "711a90bf",
   "metadata": {},
   "outputs": [],
   "source": [
    "\"float[] v = doc['embedding'].vectorValue; double am = doc['embedding'].magnitude; double bm = 0; double dist = 0; for (int i = 0; i < v.length; i++) { bm += Math.pow(params.query_vector[i], 2); dist += Math.pow(v[i] - params.query_vector[i], 2); } bm = Math.sqrt(bm); dist = Math.sqrt(dist); double x = 1 + (2 * Math.pow(dist, 2)) / ( (1 - Math.pow(bm, 2)) * (1 - Math.pow(am, 2)) );  double d = Math.log(x + Math.sqrt(Math.pow(x, 2) - 1)); return 1 / (1 + d);\""
   ]
  },
  {
   "cell_type": "code",
   "execution_count": null,
   "id": "b3e82936",
   "metadata": {},
   "outputs": [],
   "source": [
    "\"float[] v = doc['embedding'].vectorValue; double am = doc['embedding'].magnitude; double bm = 0; double dist = 0; for (int i = 0; i < v.length; i++) { bm += Math.pow(params.query_vector[i], 2); dist += Math.pow(v[i] - params.query_vector[i], 2); } bm = Math.sqrt(bm); dist = Math.sqrt(dist); double x = 1 + (2 * Math.pow(dist, 2)) / ( (1 - Math.pow(bm, 2)) * (1 - Math.pow(am, 2)) );  double d = Math.log(x + Math.sqrt(Math.pow(x, 2) - 1)); return 1 / (1 + d);"
   ]
  }
 ],
 "metadata": {
  "kernelspec": {
   "display_name": "bg",
   "language": "python",
   "name": "bg"
  },
  "language_info": {
   "codemirror_mode": {
    "name": "ipython",
    "version": 3
   },
   "file_extension": ".py",
   "mimetype": "text/x-python",
   "name": "python",
   "nbconvert_exporter": "python",
   "pygments_lexer": "ipython3",
   "version": "3.7.10"
  }
 },
 "nbformat": 4,
 "nbformat_minor": 5
}
