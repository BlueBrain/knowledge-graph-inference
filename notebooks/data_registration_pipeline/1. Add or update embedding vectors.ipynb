{
 "cells": [
  {
   "cell_type": "markdown",
   "metadata": {},
   "source": [
    "# Add/update embedding vectors\n",
    "\n",
    "\n",
    "When adding a new set of embedding vectors or updating them, we need to perform the following sequence of steps\n",
    "\n",
    "1. Given a model id, its revision, and a given a set of resources, ask the service[or some python code] for embedding vectors\n",
    "2. Create/update embedding resources according to [this mapping](https://bbpgitlab.epfl.ch/dke/users/eugeniashurko/dataset-embeddings/-/blob/master/mappings/seu-embedding.hjson) --> model revision needs to be added to the `generation.activity.used.id`\n",
    "3. Push them to Nexus\n",
    "4. Tag them with the model UUID and the its revision (e.g. `e2b953b9-6724-4278-a1e5-3472bd63e374?rev=1`)"
   ]
  },
  {
   "cell_type": "markdown",
   "metadata": {},
   "source": [
    "Related JIRA tickets: \n",
    "* https://bbpteam.epfl.ch/project/issues/browse/DKE-718\n",
    "* https://bbpteam.epfl.ch/project/issues/browse/DKE-715"
   ]
  },
  {
   "cell_type": "markdown",
   "metadata": {},
   "source": [
    "Prerequisites:\n",
    "\n",
    "- The embedding model has been built\n",
    "- Embedding service can read models from a dedicated Nexus project where all models are stored (here, at the moment, we can download models locally and get vectors directly from the models, without using the service)\n",
    "- Model ID equals the Nexus resource id of the EmbeddingModel resource\n",
    "- __Important__: local contexts in the projects with vectors should contain:\n",
    "\n",
    "```\n",
    "{\n",
    "      \"embedding\": {\n",
    "        \"@id\": \"nsg:embedding\",\n",
    "        \"@container\": \"@list\"\n",
    "      }\n",
    "}\n",
    "```\n",
    "\n",
    "Questions:\n",
    "\n",
    "* do we really need to url-encode tags ?\n",
    "* add missing types and properties to the context"
   ]
  },
  {
   "cell_type": "markdown",
   "metadata": {},
   "source": [
    "---"
   ]
  },
  {
   "cell_type": "markdown",
   "metadata": {},
   "source": [
    "## Setup"
   ]
  },
  {
   "cell_type": "markdown",
   "metadata": {},
   "source": [
    "### Imports"
   ]
  },
  {
   "cell_type": "code",
   "execution_count": 1,
   "metadata": {},
   "outputs": [],
   "source": [
    "import requests\n",
    "import getpass\n",
    "import uuid\n",
    "import os\n",
    "import math\n",
    "import warnings\n",
    "\n",
    "from collections import OrderedDict\n",
    "\n",
    "import numpy as np\n",
    "import nexussdk as nxs\n",
    "\n",
    "from collections import namedtuple\n",
    "from urllib.parse import quote_plus\n",
    "from kgforge.core import KnowledgeGraphForge\n",
    "from kgforge.specializations.mappings import DictionaryMapping\n",
    "from bluegraph.downstream import EmbeddingPipeline\n",
    "from bluegraph.core import GraphElementEmbedder"
   ]
  },
  {
   "cell_type": "code",
   "execution_count": 2,
   "metadata": {},
   "outputs": [
    {
     "name": "stdout",
     "output_type": "stream",
     "text": [
      "0.7.1.dev1+g168ed9c\n"
     ]
    }
   ],
   "source": [
    "from kgforge.version import __version__\n",
    "print(__version__)"
   ]
  },
  {
   "cell_type": "markdown",
   "metadata": {},
   "source": [
    "### Helpers"
   ]
  },
  {
   "cell_type": "code",
   "execution_count": 81,
   "metadata": {},
   "outputs": [],
   "source": [
    "BucketConfiguration = namedtuple(\n",
    "    'BucketConfiguration', 'endpoint org proj')\n",
    "\n",
    "\n",
    "def create_forge_session(bucket_config):\n",
    "    return KnowledgeGraphForge(\n",
    "        \"../../configs/new-forge-config.yaml\",\n",
    "        token=TOKEN, \n",
    "        endpoint=bucket_config.endpoint,        \n",
    "        bucket=f\"{bucket_config.org}/{bucket_config.proj}\")\n",
    "\n",
    "\n",
    "def register_embeddings(forge, vectors, model_id, model_revision, tag):\n",
    "    new_embeddings = []\n",
    "    updated_embeddings = []\n",
    "    for at_id, embedding in vectors.items():\n",
    "        existing_vectors = forge.search({\n",
    "            \"type\": \"Embedding\",\n",
    "            \"derivation\": {\n",
    "                \"entity\": {\n",
    "                    \"id\": at_id\n",
    "                }\n",
    "            },\n",
    "            \"generation\": {\n",
    "                \"activity\": {\n",
    "                    \"used\": {\n",
    "                        \"id\": model_id\n",
    "                    }\n",
    "                }\n",
    "            }\n",
    "        })\n",
    "        if existing_vectors:\n",
    "            vector_resource = existing_vectors[0]\n",
    "            vector_resource.embedding = embedding\n",
    "            vector_resource.generation.activity.used.hasSelector = forge.from_json({\n",
    "                \"type\": \"FragmentSelector\",\n",
    "                \"conformsTo\": \"https://bluebrainnexus.io/docs/delta/api/resources-api.html#fetch\",\n",
    "                \"value\": f\"?rev={model_revision}\"\n",
    "            })\n",
    "            updated_embeddings.append(vector_resource)\n",
    "        else: \n",
    "            new_embeddings.append({\n",
    "                \"morphology_id\": at_id,\n",
    "                \"morphology_rev\": \"TODO\",\n",
    "                \"model_id\": model_id,\n",
    "                \"model_rev\": model_revision,\n",
    "                \"embedding_name\": f\"Embedding of morphology {at_id.split('/')[-1]} at revision TODO\" ,\n",
    "                \"embedding\": embedding,\n",
    "                \"uuid\": at_id.split(\"/\")[-1]\n",
    "\n",
    "            })\n",
    "    mapping = DictionaryMapping.load(\"../../mappings/seu-embedding.hjson\")\n",
    "    new_embedding_resources = forge.map(new_embeddings, mapping)\n",
    "    for r in new_embedding_resources:\n",
    "        r.id = forge.format(\"identifier\", \"embeddings\", str(uuid.uuid4()))\n",
    "#    # There is some error with registering new resources, so instead of\n",
    "#     forge.register(new_embedding_resources)\n",
    "#     print(\"Tagging new resources...\")\n",
    "#     forge.tag(new_embedding_resources, tag)\n",
    "#   # I do the following:\n",
    "    new_embedding_resources = forge.from_json(forge.as_json(new_embedding_resources))\n",
    "    forge.register(new_embedding_resources)\n",
    "    for r in new_embedding_resources:\n",
    "        forge.tag(forge.retrieve(r.id), tag)\n",
    "    \n",
    "    forge.update(updated_embeddings)\n",
    "    print(\"Tagging updated resources...\")\n",
    "    forge.tag(updated_embeddings, tag)"
   ]
  },
  {
   "cell_type": "markdown",
   "metadata": {},
   "source": [
    "---"
   ]
  },
  {
   "cell_type": "markdown",
   "metadata": {},
   "source": [
    "## User input"
   ]
  },
  {
   "cell_type": "code",
   "execution_count": 82,
   "metadata": {},
   "outputs": [
    {
     "name": "stdout",
     "output_type": "stream",
     "text": [
      "········\n"
     ]
    }
   ],
   "source": [
    "ENDPOINT = \"https://bbp.epfl.ch/nexus/v1\"\n",
    "DOWNLOAD_DIR = \"../../data\"\n",
    "TOKEN = getpass.getpass()"
   ]
  },
  {
   "cell_type": "markdown",
   "metadata": {},
   "source": [
    "Bucket where embedding models live"
   ]
  },
  {
   "cell_type": "code",
   "execution_count": 83,
   "metadata": {},
   "outputs": [],
   "source": [
    "MODEL_CATALOG_ORG = \"dke\"\n",
    "MODEL_CATALOG_PROJECT = \"embedding-pipelines\""
   ]
  },
  {
   "cell_type": "markdown",
   "metadata": {},
   "source": [
    "ID of the embedding model to use."
   ]
  },
  {
   "cell_type": "code",
   "execution_count": 84,
   "metadata": {},
   "outputs": [],
   "source": [
    "# https://bbp.epfl.ch/nexus/v1/resources/dke/embedding-pipelines/_/d0c21fd5-cb9c-445c-b0a4-94847ba61f5a  # neurite features\n",
    "# https://bbp.epfl.ch/nexus/v1/resources/dke/embedding-pipelines/_/9fe6873b-ef6a-41b5-854a-382bc1be9fff  # dendrite\n",
    "# https://bbp.epfl.ch/nexus/v1/resources/dke/embedding-pipelines/_/84519407-ad30-4d31-877e-1d6560325393  # axon\n",
    "# https://bbp.epfl.ch/nexus/v1/resources/dke/embedding-pipelines/_/1c4fcd2e-000f-437b-b65b-844ee211105a  # brain regions\n",
    "# https://bbp.epfl.ch/nexus/v1/resources/dke/embedding-pipelines/_/608fab85-0cc9-4ff9-a4bd-4249589b5889  # coordinates\n",
    "# https://bbp.epfl.ch/nexus/v1/resources/dke/embedding-pipelines/_/43965be4-72f9-4901-9a95-d9ca13da8fb4  # TMD\n",
    "# https://bbp.epfl.ch/nexus/v1/resources/dke/embedding-pipelines/_/7a111efa-7467-42d2-9e0c-c1ca7a883216  # TMD (scaled)"
   ]
  },
  {
   "cell_type": "markdown",
   "metadata": {},
   "source": [
    "__PROVIDE HERE THE ID OF YOUR MODEL (OPTIONAL, REVISION)__"
   ]
  },
  {
   "cell_type": "code",
   "execution_count": 86,
   "metadata": {},
   "outputs": [],
   "source": [
    "MODEL_ID = \"https://bbp.epfl.ch/nexus/v1/resources/dke/embedding-pipelines/_/7a111efa-7467-42d2-9e0c-c1ca7a883216\"\n",
    "MODEL_REVISION = None  # Specify a revision, if necessary. If None, the latest revision is used"
   ]
  },
  {
   "cell_type": "markdown",
   "metadata": {},
   "source": [
    "Buckets where the input data lives together with the Bucket where the new embedding vectors should be registered."
   ]
  },
  {
   "cell_type": "code",
   "execution_count": 87,
   "metadata": {},
   "outputs": [],
   "source": [
    "DATA_BUCKETS = {\n",
    "    BucketConfiguration(\"https://bbp.epfl.ch/nexus/v1\", \"bbp-external\", \"seu\"): [\n",
    "             BucketConfiguration(\n",
    "                \"https://bbp.epfl.ch/nexus/v1\",\n",
    "                 \"dke\",\"seu-embeddings\")\n",
    "        ]\n",
    "}"
   ]
  },
  {
   "cell_type": "markdown",
   "metadata": {},
   "source": [
    "If the embedding endpoint/bucket are not specified, we assume that embeddings should live in the same bucket as the input data."
   ]
  },
  {
   "cell_type": "markdown",
   "metadata": {},
   "source": [
    "Data type filter for generating embedding vectors"
   ]
  },
  {
   "cell_type": "code",
   "execution_count": 88,
   "metadata": {},
   "outputs": [],
   "source": [
    "DATA_TYPE_FILTER = \"NeuronMorphology\""
   ]
  },
  {
   "cell_type": "code",
   "execution_count": 89,
   "metadata": {},
   "outputs": [],
   "source": [
    "HARD_RESOURCE_LIMIT = 10000  # Limit on number of resources we can retrieve with SPARQL queries"
   ]
  },
  {
   "cell_type": "markdown",
   "metadata": {},
   "source": [
    "---"
   ]
  },
  {
   "cell_type": "markdown",
   "metadata": {},
   "source": [
    "## Create Forge sessions"
   ]
  },
  {
   "cell_type": "markdown",
   "metadata": {},
   "source": [
    "### Session for embedding models"
   ]
  },
  {
   "cell_type": "code",
   "execution_count": 90,
   "metadata": {},
   "outputs": [],
   "source": [
    "forge_models = KnowledgeGraphForge(\n",
    "    \"../../configs/new-forge-config.yaml\",\n",
    "    endpoint=ENDPOINT,\n",
    "    token=TOKEN, \n",
    "    bucket=f\"{MODEL_CATALOG_ORG}/{MODEL_CATALOG_PROJECT}\")"
   ]
  },
  {
   "cell_type": "markdown",
   "metadata": {},
   "source": [
    "### Sessions for different buckets for data and embedding vectors"
   ]
  },
  {
   "cell_type": "code",
   "execution_count": 91,
   "metadata": {},
   "outputs": [],
   "source": [
    "# TODO: find a way to pass different tokens and different configs\n",
    "FORGE_SESSIONS = {}\n",
    "for data_bucket, emb_buckets in DATA_BUCKETS.items():\n",
    "    if data_bucket not in FORGE_SESSIONS:\n",
    "        FORGE_SESSIONS[data_bucket] = create_forge_session(data_bucket)\n",
    "    for bucket in emb_buckets:\n",
    "        if bucket not in FORGE_SESSIONS:\n",
    "            FORGE_SESSIONS[bucket] = create_forge_session(bucket)"
   ]
  },
  {
   "cell_type": "markdown",
   "metadata": {},
   "source": [
    "---"
   ]
  },
  {
   "cell_type": "markdown",
   "metadata": {},
   "source": [
    "## Fetch resources from data buckets"
   ]
  },
  {
   "cell_type": "code",
   "execution_count": 42,
   "metadata": {},
   "outputs": [],
   "source": [
    "resource_set = {}\n",
    "for bucket_config in DATA_BUCKETS.keys():\n",
    "    if bucket_config not in resource_set:\n",
    "#         !!! CURRENTLY SEARCH DOES NOT WORK, WHEN TOO MANY RESOURCES\n",
    "#\n",
    "#         resources = DATA_SESSIONS[\n",
    "#             (bucket.data_endpoint, bucket.data_org, bucket.data_proj)].search(\n",
    "#                 {\"type\": DATA_TYPE_FILTER}, limit=None)\n",
    "        forge = FORGE_SESSIONS[bucket_config]\n",
    "        query = f\"\"\"\n",
    "            SELECT ?id\n",
    "            WHERE {{\n",
    "                ?id a {DATA_TYPE_FILTER} ;\n",
    "                    <https://bluebrain.github.io/nexus/vocabulary/deprecated> false .\n",
    "            }}\n",
    "        \"\"\" \n",
    "        resources = forge.sparql(query, limit=HARD_RESOURCE_LIMIT)\n",
    "        resources = [forge.retrieve(r.id) for r in resources] \n",
    "\n",
    "        resource_set[bucket_config] = resources"
   ]
  },
  {
   "cell_type": "code",
   "execution_count": 43,
   "metadata": {},
   "outputs": [
    {
     "name": "stdout",
     "output_type": "stream",
     "text": [
      "Bucket:  BucketConfiguration(endpoint='https://bbp.epfl.ch/nexus/v1', org='bbp-external', proj='seu')\n",
      "\t 298 resources\n",
      "\n"
     ]
    }
   ],
   "source": [
    "for k, v in resource_set.items():\n",
    "    print(\"Bucket: \", k)\n",
    "    print(\"\\t\", len(v), \"resources\")\n",
    "    print()"
   ]
  },
  {
   "cell_type": "markdown",
   "metadata": {},
   "source": [
    "## Load the embedding model"
   ]
  },
  {
   "cell_type": "code",
   "execution_count": 92,
   "metadata": {},
   "outputs": [],
   "source": [
    "model_resource = forge_models.retrieve(\n",
    "    f\"{MODEL_ID}{'?rev=' + str(MODEL_REVISION) if MODEL_REVISION is not None else ''}\")\n",
    "\n",
    "# If revision is not provided by the user, fetch the latest\n",
    "if MODEL_REVISION is None:\n",
    "    MODEL_REVISION = model_resource._store_metadata._rev \n",
    "\n",
    "MODEL_TAG = f\"{MODEL_ID.split('/')[-1]}?rev={MODEL_REVISION}\""
   ]
  },
  {
   "cell_type": "code",
   "execution_count": 93,
   "metadata": {},
   "outputs": [
    {
     "data": {
      "text/plain": [
       "'7a111efa-7467-42d2-9e0c-c1ca7a883216?rev=4'"
      ]
     },
     "execution_count": 93,
     "metadata": {},
     "output_type": "execute_result"
    }
   ],
   "source": [
    "MODEL_TAG"
   ]
  },
  {
   "cell_type": "code",
   "execution_count": 94,
   "metadata": {},
   "outputs": [],
   "source": [
    "forge_models.download(model_resource, \"distribution.contentUrl\", DOWNLOAD_DIR, overwrite=True)\n",
    "pipeline_path = os.path.join(DOWNLOAD_DIR, model_resource.distribution.name)"
   ]
  },
  {
   "cell_type": "code",
   "execution_count": 95,
   "metadata": {},
   "outputs": [],
   "source": [
    "pipeline = EmbeddingPipeline.load(\n",
    "    pipeline_path,\n",
    "    embedder_interface=GraphElementEmbedder,\n",
    "    embedder_ext=\"zip\")"
   ]
  },
  {
   "cell_type": "code",
   "execution_count": 96,
   "metadata": {},
   "outputs": [],
   "source": [
    "embedding_table = pipeline.generate_embedding_table()"
   ]
  },
  {
   "cell_type": "markdown",
   "metadata": {},
   "source": [
    "## Compute embedding vectors for all the resources and push to Nexus"
   ]
  },
  {
   "cell_type": "markdown",
   "metadata": {},
   "source": [
    "- TODO: add the NeuronMorphology revision once available\n",
    "- TODO: add prediction of previously unseen points (currently, only the in-sample points are considered)"
   ]
  },
  {
   "cell_type": "code",
   "execution_count": 99,
   "metadata": {
    "scrolled": true
   },
   "outputs": [
    {
     "name": "stderr",
     "output_type": "stream",
     "text": [
      "/Users/oshurko/opt/anaconda3/envs/bg/lib/python3.7/site-packages/ipykernel_launcher.py:10: UserWarning: Embedding vector for 'https://bbp.epfl.ch/neurosciencegraph/data/neuronmorphologies/88deb1fe-8edf-4ffc-8973-8240dea2a3d6' in 'BucketConfiguration(endpoint='https://bbp.epfl.ch/nexus/v1', org='bbp-external', proj='seu')' was not computed\n",
      "  # Remove the CWD from sys.path while we load stuff.\n",
      "/Users/oshurko/opt/anaconda3/envs/bg/lib/python3.7/site-packages/ipykernel_launcher.py:10: UserWarning: Embedding vector for 'https://bbp.epfl.ch/neurosciencegraph/data/neuronmorphologies/d96779ca-fa70-490b-af1a-de1f8cc21d3b' in 'BucketConfiguration(endpoint='https://bbp.epfl.ch/nexus/v1', org='bbp-external', proj='seu')' was not computed\n",
      "  # Remove the CWD from sys.path while we load stuff.\n",
      "/Users/oshurko/opt/anaconda3/envs/bg/lib/python3.7/site-packages/ipykernel_launcher.py:10: UserWarning: Embedding vector for 'https://bbp.epfl.ch/neurosciencegraph/data/neuronmorphologies/52da11e9-6f18-42dd-88f6-f2cdc07056a8' in 'BucketConfiguration(endpoint='https://bbp.epfl.ch/nexus/v1', org='bbp-external', proj='seu')' was not computed\n",
      "  # Remove the CWD from sys.path while we load stuff.\n"
     ]
    },
    {
     "name": "stdout",
     "output_type": "stream",
     "text": [
      "Registering/updating 295 vectors for 'BucketConfiguration(endpoint='https://bbp.epfl.ch/nexus/v1', org='dke', proj='seu-embeddings')...'\n",
      "\n",
      "<count> 295\n",
      "<action> _update_many\n",
      "<succeeded> True\n",
      "Tagging new resources...\n",
      "\n",
      "Tagging updated resources...\n",
      "<count> 295\n",
      "<action> _tag_many\n",
      "<succeeded> True\n"
     ]
    }
   ],
   "source": [
    "for bucket_config, resources in resource_set.items():\n",
    "    vectors = {}\n",
    "    for resource in resources:\n",
    "        if resource.id not in vectors:\n",
    "            if resource.id in embedding_table.index:\n",
    "                vectors[resource.id] = embedding_table.loc[\n",
    "                    resource.id].tolist()[0].tolist()\n",
    "            else:\n",
    "                warnings.warn(\n",
    "                    f\"Embedding vector for '{resource.id}' in '{bucket_config}' was not computed\")\n",
    "    for embedding_bucket in DATA_BUCKETS[bucket_config]:\n",
    "        forge = FORGE_SESSIONS[embedding_bucket]\n",
    "        print(f\"Registering/updating {len(vectors)} vectors for '{embedding_bucket}...'\")\n",
    "        register_embeddings(forge, vectors, MODEL_ID, MODEL_REVISION, MODEL_TAG)"
   ]
  },
  {
   "cell_type": "markdown",
   "metadata": {},
   "source": [
    "The following tag should be used to create new ES views on the vectors."
   ]
  },
  {
   "cell_type": "code",
   "execution_count": 101,
   "metadata": {
    "scrolled": true
   },
   "outputs": [
    {
     "data": {
      "text/plain": [
       "'7a111efa-7467-42d2-9e0c-c1ca7a883216?rev=4'"
      ]
     },
     "execution_count": 101,
     "metadata": {},
     "output_type": "execute_result"
    }
   ],
   "source": [
    "MODEL_TAG"
   ]
  }
 ],
 "metadata": {
  "kernelspec": {
   "display_name": "bg",
   "language": "python",
   "name": "bg"
  },
  "language_info": {
   "codemirror_mode": {
    "name": "ipython",
    "version": 3
   },
   "file_extension": ".py",
   "mimetype": "text/x-python",
   "name": "python",
   "nbconvert_exporter": "python",
   "pygments_lexer": "ipython3",
   "version": "3.7.10"
  },
  "toc-autonumbering": true,
  "toc-showtags": true
 },
 "nbformat": 4,
 "nbformat_minor": 4
}
