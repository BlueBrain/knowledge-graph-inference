{
 "cells": [
  {
   "cell_type": "markdown",
   "id": "f20a767a",
   "metadata": {},
   "source": [
    "# Creating vector representations of SEU Neuron Morphologies"
   ]
  },
  {
   "cell_type": "code",
   "execution_count": 1,
   "id": "83423614",
   "metadata": {},
   "outputs": [],
   "source": [
    "import getpass\n",
    "import json\n",
    "import jwt\n",
    "import pickle\n",
    "import sys\n",
    "\n",
    "from collections import Counter\n",
    "\n",
    "import numpy as np\n",
    "import pandas as pd\n",
    "\n",
    "from kgforge.core import KnowledgeGraphForge\n",
    "from kgforge.specializations.resources import Dataset\n",
    "\n",
    "from sklearn.feature_selection import VarianceThreshold\n",
    "from sklearn.feature_extraction.text import TfidfVectorizer\n",
    "from sklearn.preprocessing import StandardScaler, MultiLabelBinarizer\n",
    "from sklearn.impute import SimpleImputer\n",
    "from sklearn.manifold import TSNE\n",
    "from sklearn.decomposition import PCA\n",
    "\n",
    "from bluegraph import PandasPGFrame\n",
    "from bluegraph.preprocess import ScikitLearnPGEncoder\n",
    "from bluegraph.downstream.utils import transform_to_2d, plot_2d\n",
    "from bluegraph.preprocess import CooccurrenceGenerator\n",
    "from bluegraph.backends.gensim import GensimNodeEmbedder\n",
    "from bluegraph.backends.stellargraph import StellarGraphNodeEmbedder\n",
    "from bluegraph.backends.networkx import NXCommunityDetector\n",
    "from bluegraph.downstream import EmbeddingPipeline\n",
    "from bluegraph.downstream.similarity import (FaissSimilarityIndex, ScikitLearnSimilarityIndex,\n",
    "                                             SimilarityProcessor)\n",
    "from bluegraph import version as bg_version"
   ]
  },
  {
   "cell_type": "markdown",
   "id": "93bdbb6f",
   "metadata": {},
   "source": [
    "## Helpers"
   ]
  },
  {
   "cell_type": "code",
   "execution_count": 25,
   "id": "09df973c",
   "metadata": {},
   "outputs": [],
   "source": [
    "def get_encoder_features(prop_name, encoder, last_index):\n",
    "    if encoder is None or isinstance(encoder, StandardScaler):\n",
    "        return {last_index: f\"{prop_name}_IDENTITY\"}, last_index + 1\n",
    "    if isinstance(encoder, TfidfVectorizer):\n",
    "        return (\n",
    "            {\n",
    "                i + last_index: f\"{prop_name}_WORD_{f}\"\n",
    "                for i, f in enumerate(encoder.get_feature_names())\n",
    "            },\n",
    "            last_index + len(encoder.get_feature_names())\n",
    "        )\n",
    "    elif isinstance(encoder, MultiLabelBinarizer):\n",
    "        return (\n",
    "            {\n",
    "                i + last_index: f\"{prop_name}_CLASS_{c}\"\n",
    "                for i, c in enumerate(encoder.classes_)\n",
    "            },\n",
    "            last_index + len(encoder.classes_)\n",
    "        )\n",
    "    \n",
    "    else:\n",
    "        return {}, last_index\n",
    "\n",
    "\n",
    "def explain_property_coordinates(encoder, graph):\n",
    "    last_index = 0\n",
    "    property_coordinates = {}\n",
    "    for p in graph.node_properties():\n",
    "        if p in encoder._node_encoders:\n",
    "            res, new_index = get_encoder_features(\n",
    "                p, encoder._node_encoders[p], last_index)\n",
    "            property_coordinates.update(res)\n",
    "            last_index = new_index\n",
    "    return property_coordinates\n",
    "\n",
    "\n",
    "def get_neurom_feature_annotations(data, compartments_to_exclude, statistics_of_interest):\n",
    "    record = {}\n",
    "    try:\n",
    "        for ann in data.annotation:\n",
    "            if \"MType:Annotation\" in ann[\"type\"]:\n",
    "                record[\"MType\"] = ann[\"hasBody\"][\"label\"]\n",
    "            if \"NeuronMorphologyFeatureAnnotation\" in ann[\"type\"]:\n",
    "                compartment = ann[\"compartment\"]\n",
    "                if compartment not in compartments_to_exclude:\n",
    "                    for feature_ann in ann[\"hasBody\"]:\n",
    "                        if \"NeuriteLocationFeature\" not in feature_ann[\"type\"]:\n",
    "                            feature_name = feature_ann[\"isMeasurementOf\"][\"label\"].replace(\" \", \"_\")\n",
    "                            if isinstance(feature_ann[\"series\"], dict):\n",
    "                                feature_ann[\"series\"] = [feature_ann[\"series\"]]\n",
    "                            for el in feature_ann[\"series\"]:\n",
    "                                if \"statistic\" in el:\n",
    "                                    stat = el[\"statistic\"].replace(\" \", \"_\")\n",
    "                                    if stat in statistics_of_interest and \"value\" in el:\n",
    "                                        record[f\"{compartment}_{stat}_{feature_name}\"] = el[\"value\"]\n",
    "    except TypeError:\n",
    "        pass\n",
    "    return record\n",
    "\n",
    "\n",
    "def get_notation(region_id, brain_region_notation):\n",
    "    if region_id not in brain_region_notation:\n",
    "        r = forge.retrieve(region_id)\n",
    "        brain_region_notation[r.id] = (r.notation, r.prefLabel)\n",
    "    return brain_region_notation[region_id][0]\n",
    "\n",
    "\n",
    "def get_location_feature_annotations(data, compartments_to_exclude, brain_region_notation):\n",
    "    record = {}\n",
    "    try:\n",
    "        for ann in data.annotation:\n",
    "            if \"MType:Annotation\" in ann[\"type\"]:\n",
    "                record[\"MType\"] = ann[\"hasBody\"][\"label\"]\n",
    "            if \"NeuronMorphologyFeatureAnnotation\" in ann[\"type\"]:\n",
    "                compartment = ann[\"compartment\"]\n",
    "                if compartment not in compartments_to_exclude:\n",
    "                    for feature_ann in ann[\"hasBody\"]:\n",
    "                        if \"NeuriteLocationFeature\" in feature_ann[\"type\"]:\n",
    "                            feature_name = feature_ann[\"isMeasurementOf\"][\"label\"].replace(\" \", \"_\")\n",
    "                            if isinstance(feature_ann[\"series\"], dict):\n",
    "                                feature_ann[\"series\"] = [feature_ann[\"series\"]]\n",
    "                            regions = sum([\n",
    "                                [get_notation(\n",
    "                                    r[\"brainRegion\"][\"id\"],\n",
    "                                    brain_region_notation)] * r[\"count\"]\n",
    "                                for r in feature_ann[\"series\"]\n",
    "                            ], [])\n",
    "                            record[f\"{compartment}_{feature_name}\"] = regions\n",
    "                            \n",
    "    except TypeError as e:\n",
    "        pass\n",
    "    return record\n",
    "\n",
    "\n",
    "def get_agent(token):\n",
    "    agent_data = jwt.decode(token, verify=False)\n",
    "    agent = forge.reshape(\n",
    "        forge.from_json(agent_data), keep=[\n",
    "            \"name\", \"email\", \"sub\", \"preferred_username\"])\n",
    "    agent.id = agent.sub\n",
    "    agent.type = \"Person\"\n",
    "    return agent\n",
    "\n",
    "\n",
    "def register_model(forge, agent, name, description, label, distribution, similarity, dimension):\n",
    "    # Create a new model resource\n",
    "    model_resource = Dataset(\n",
    "        forge,\n",
    "        name=name,\n",
    "        description=description)\n",
    "    model_resource.type = \"EmbeddingModel\"\n",
    "    model_resource.prefLabel = label\n",
    "    model_resource.similarity = similarity\n",
    "    model_resource.vectorDimension = dimension\n",
    "\n",
    "    # Add distrubution\n",
    "    if distribution is not None:\n",
    "        model_resource.add_distribution(\n",
    "            distribution, content_type=\"application/octet-stream\")\n",
    "\n",
    "    # Add contribution\n",
    "    model_resource.add_contribution(agent, versioned=False)\n",
    "    role = forge.from_json({\n",
    "        \"hadRole\": {\n",
    "            \"id\": \"http://purl.obolibrary.org/obo/CRO_0000064\",\n",
    "            \"label\": \"software engineering role\"\n",
    "        }\n",
    "    })\n",
    "    model_resource.contribution.hadRole = role\n",
    "\n",
    "    # Add software agent\n",
    "    software_agent = {\n",
    "        \"type\": \"SoftwareAgent\",\n",
    "        \"description\": \"Unifying Python framework for graph analytics and co-occurrence analysis.\",\n",
    "        \"name\": \"BlueGraph\",\n",
    "        \"softwareSourceCode\": {\n",
    "            \"type\": \"SoftwareSourceCode\",\n",
    "            \"codeRepository\": \"https://github.com/BlueBrain/BlueGraph\",\n",
    "            \"programmingLanguage\": \"Python\",\n",
    "            \"runtimePlatform\": f\"{sys.version_info.major}.{sys.version_info.minor}\",\n",
    "            \"version\": bg_version.__version__\n",
    "        }\n",
    "    }\n",
    "    model_resource.wasAssociatedWith = software_agent\n",
    "    \n",
    "    forge.register(model_resource)\n",
    "    return model_resource.id\n",
    "\n",
    "\n",
    "def update_model_distribution(forge, model_resource, new_distribution, vector_dim=None):\n",
    "    if vector_dim is not None:\n",
    "        model_resource.vectorDimension = vector_dim\n",
    "    model_resource.distribution = forge.attach(new_distribution, content_type=\"application/octet-stream\")\n",
    "    forge.update(model_resource)\n",
    "    \n",
    "\n",
    "def push_model(forge, agent, name, description, label, distribution, similarity, dimension):\n",
    "    result = forge.search({\"name\": name})\n",
    "    if result:\n",
    "        print(\"Model exists, updating...\")\n",
    "        model_resource = result[0]\n",
    "        update_model_distribution(forge, model_resource, distribution, dimension)\n",
    "    else:\n",
    "        print(\"Registering new model...\")\n",
    "        register_model(forge, agent, name, description, label, distribution, similarity, dimension)"
   ]
  },
  {
   "cell_type": "markdown",
   "id": "a9902203",
   "metadata": {},
   "source": [
    "# I. Prepare morphology data"
   ]
  },
  {
   "cell_type": "markdown",
   "id": "1c702c7c",
   "metadata": {},
   "source": [
    "## 1. Load morphologies from Nexus "
   ]
  },
  {
   "cell_type": "code",
   "execution_count": 130,
   "id": "3b1a840e",
   "metadata": {},
   "outputs": [
    {
     "name": "stdout",
     "output_type": "stream",
     "text": [
      "········\n"
     ]
    }
   ],
   "source": [
    "TOKEN = getpass.getpass()"
   ]
  },
  {
   "cell_type": "code",
   "execution_count": 131,
   "id": "e285e186",
   "metadata": {},
   "outputs": [],
   "source": [
    "forge = KnowledgeGraphForge(\"../../configs/new-forge-config.yaml\",\n",
    "                            token=TOKEN,\n",
    "                            bucket=\"bbp-external/seu\")"
   ]
  },
  {
   "cell_type": "code",
   "execution_count": 19,
   "id": "3329a273",
   "metadata": {},
   "outputs": [],
   "source": [
    "query = \"\"\"\n",
    "    SELECT ?id\n",
    "    WHERE {\n",
    "        ?id a NeuronMorphology ;\n",
    "            <https://bluebrain.github.io/nexus/vocabulary/deprecated> false .\n",
    "    }\n",
    "\"\"\" \n",
    "\n",
    "resources = forge.sparql(query, limit=1500)\n",
    "morphologies = [forge.retrieve(r.id) for r in resources] "
   ]
  },
  {
   "cell_type": "code",
   "execution_count": 20,
   "id": "d34f25ea",
   "metadata": {},
   "outputs": [],
   "source": [
    "full_df = forge.as_dataframe(morphologies)"
   ]
  },
  {
   "cell_type": "markdown",
   "id": "cf4fc9ba",
   "metadata": {},
   "source": [
    "## 2. Extract neurite features (NeuroM features)"
   ]
  },
  {
   "cell_type": "markdown",
   "id": "68748d7d",
   "metadata": {},
   "source": [
    "Build a data frame with neurite features (per neurite). At the moment we ignore 'ApicalDendrite' and take only mean and std for each feature computed by NeuroM."
   ]
  },
  {
   "cell_type": "code",
   "execution_count": 21,
   "id": "05ec7314",
   "metadata": {},
   "outputs": [],
   "source": [
    "EXCLUDE_COMPARTMENTS = [\"ApicalDendrite\"]\n",
    "STATISTICS_OF_INTEREST = [\"mean\", \"standard_deviation\"]"
   ]
  },
  {
   "cell_type": "code",
   "execution_count": 26,
   "id": "618c9b47",
   "metadata": {},
   "outputs": [],
   "source": [
    "neurite_feature_df = pd.DataFrame(full_df.apply(\n",
    "    lambda x: get_neurom_feature_annotations(\n",
    "        x, EXCLUDE_COMPARTMENTS, STATISTICS_OF_INTEREST), axis=1).tolist())"
   ]
  },
  {
   "cell_type": "code",
   "execution_count": 27,
   "id": "34021c3d",
   "metadata": {},
   "outputs": [
    {
     "name": "stdout",
     "output_type": "stream",
     "text": [
      "Including the following neurite features:\n",
      "\t Axon_mean_Neurite_Max_Radial_Distance\n",
      "\t Axon_standard_deviation_Neurite_Max_Radial_Distance\n",
      "\t Axon_mean_Number_Of_Sections\n",
      "\t Axon_standard_deviation_Number_Of_Sections\n",
      "\t Axon_mean_Number_Of_Bifurcations\n",
      "\t Axon_standard_deviation_Number_Of_Bifurcations\n",
      "\t Axon_mean_Number_Of_Leaves\n",
      "\t Axon_standard_deviation_Number_Of_Leaves\n",
      "\t Axon_mean_Total_Length\n",
      "\t Axon_standard_deviation_Total_Length\n",
      "\t Axon_mean_Total_Area\n",
      "\t Axon_standard_deviation_Total_Area\n",
      "\t Axon_mean_Total_Volume\n",
      "\t Axon_standard_deviation_Total_Volume\n",
      "\t Axon_mean_Section_Lengths\n",
      "\t Axon_standard_deviation_Section_Lengths\n",
      "\t Axon_mean_Section_Term_Lengths\n",
      "\t Axon_standard_deviation_Section_Term_Lengths\n",
      "\t Axon_mean_Section_Bif_Lengths\n",
      "\t Axon_standard_deviation_Section_Bif_Lengths\n",
      "\t Axon_mean_Section_Branch_Orders\n",
      "\t Axon_standard_deviation_Section_Branch_Orders\n",
      "\t Axon_mean_Section_Bif_Branch_Orders\n",
      "\t Axon_standard_deviation_Section_Bif_Branch_Orders\n",
      "\t Axon_mean_Section_Term_Branch_Orders\n",
      "\t Axon_standard_deviation_Section_Term_Branch_Orders\n",
      "\t Axon_mean_Section_Path_Distances\n",
      "\t Axon_standard_deviation_Section_Path_Distances\n",
      "\t Axon_mean_Section_Taper_Rates\n",
      "\t Axon_standard_deviation_Section_Taper_Rates\n",
      "\t Axon_mean_Local_Bifurcation_Angles\n",
      "\t Axon_standard_deviation_Local_Bifurcation_Angles\n",
      "\t Axon_mean_Remote_Bifurcation_Angles\n",
      "\t Axon_standard_deviation_Remote_Bifurcation_Angles\n",
      "\t Axon_mean_Partition_Asymmetry\n",
      "\t Axon_standard_deviation_Partition_Asymmetry\n",
      "\t Axon_mean_Partition_Asymmetry_Length\n",
      "\t Axon_standard_deviation_Partition_Asymmetry_Length\n",
      "\t Axon_mean_Sibling_Ratios\n",
      "\t Axon_standard_deviation_Sibling_Ratios\n",
      "\t Axon_mean_Diameter_Power_Relations\n",
      "\t Axon_standard_deviation_Diameter_Power_Relations\n",
      "\t Axon_mean_Section_Radial_Distances\n",
      "\t Axon_standard_deviation_Section_Radial_Distances\n",
      "\t Axon_mean_Section_Term_Radial_Distances\n",
      "\t Axon_standard_deviation_Section_Term_Radial_Distances\n",
      "\t Axon_mean_Section_Bif_Radial_Distances\n",
      "\t Axon_standard_deviation_Section_Bif_Radial_Distances\n",
      "\t Axon_mean_Terminal_Path_Lengths\n",
      "\t Axon_standard_deviation_Terminal_Path_Lengths\n",
      "\t Axon_mean_Section_Volumes\n",
      "\t Axon_standard_deviation_Section_Volumes\n",
      "\t Axon_mean_Section_Areas\n",
      "\t Axon_standard_deviation_Section_Areas\n",
      "\t Axon_mean_Section_Tortuosity\n",
      "\t Axon_standard_deviation_Section_Tortuosity\n",
      "\t Axon_mean_Section_Strahler_Orders\n",
      "\t Axon_standard_deviation_Section_Strahler_Orders\n",
      "\t BasalDendrite_mean_Neurite_Max_Radial_Distance\n",
      "\t BasalDendrite_standard_deviation_Neurite_Max_Radial_Distance\n",
      "\t BasalDendrite_mean_Number_Of_Sections\n",
      "\t BasalDendrite_standard_deviation_Number_Of_Sections\n",
      "\t BasalDendrite_mean_Number_Of_Bifurcations\n",
      "\t BasalDendrite_standard_deviation_Number_Of_Bifurcations\n",
      "\t BasalDendrite_mean_Number_Of_Leaves\n",
      "\t BasalDendrite_standard_deviation_Number_Of_Leaves\n",
      "\t BasalDendrite_mean_Total_Length\n",
      "\t BasalDendrite_standard_deviation_Total_Length\n",
      "\t BasalDendrite_mean_Total_Area\n",
      "\t BasalDendrite_standard_deviation_Total_Area\n",
      "\t BasalDendrite_mean_Total_Volume\n",
      "\t BasalDendrite_standard_deviation_Total_Volume\n",
      "\t BasalDendrite_mean_Section_Lengths\n",
      "\t BasalDendrite_standard_deviation_Section_Lengths\n",
      "\t BasalDendrite_mean_Section_Term_Lengths\n",
      "\t BasalDendrite_standard_deviation_Section_Term_Lengths\n",
      "\t BasalDendrite_mean_Section_Bif_Lengths\n",
      "\t BasalDendrite_standard_deviation_Section_Bif_Lengths\n",
      "\t BasalDendrite_mean_Section_Branch_Orders\n",
      "\t BasalDendrite_standard_deviation_Section_Branch_Orders\n",
      "\t BasalDendrite_mean_Section_Bif_Branch_Orders\n",
      "\t BasalDendrite_standard_deviation_Section_Bif_Branch_Orders\n",
      "\t BasalDendrite_mean_Section_Term_Branch_Orders\n",
      "\t BasalDendrite_standard_deviation_Section_Term_Branch_Orders\n",
      "\t BasalDendrite_mean_Section_Path_Distances\n",
      "\t BasalDendrite_standard_deviation_Section_Path_Distances\n",
      "\t BasalDendrite_mean_Section_Taper_Rates\n",
      "\t BasalDendrite_standard_deviation_Section_Taper_Rates\n",
      "\t BasalDendrite_mean_Local_Bifurcation_Angles\n",
      "\t BasalDendrite_standard_deviation_Local_Bifurcation_Angles\n",
      "\t BasalDendrite_mean_Remote_Bifurcation_Angles\n",
      "\t BasalDendrite_standard_deviation_Remote_Bifurcation_Angles\n",
      "\t BasalDendrite_mean_Partition_Asymmetry\n",
      "\t BasalDendrite_standard_deviation_Partition_Asymmetry\n",
      "\t BasalDendrite_mean_Partition_Asymmetry_Length\n",
      "\t BasalDendrite_standard_deviation_Partition_Asymmetry_Length\n",
      "\t BasalDendrite_mean_Sibling_Ratios\n",
      "\t BasalDendrite_standard_deviation_Sibling_Ratios\n",
      "\t BasalDendrite_mean_Diameter_Power_Relations\n",
      "\t BasalDendrite_standard_deviation_Diameter_Power_Relations\n",
      "\t BasalDendrite_mean_Section_Radial_Distances\n",
      "\t BasalDendrite_standard_deviation_Section_Radial_Distances\n",
      "\t BasalDendrite_mean_Section_Term_Radial_Distances\n",
      "\t BasalDendrite_standard_deviation_Section_Term_Radial_Distances\n",
      "\t BasalDendrite_mean_Section_Bif_Radial_Distances\n",
      "\t BasalDendrite_standard_deviation_Section_Bif_Radial_Distances\n",
      "\t BasalDendrite_mean_Terminal_Path_Lengths\n",
      "\t BasalDendrite_standard_deviation_Terminal_Path_Lengths\n",
      "\t BasalDendrite_mean_Section_Volumes\n",
      "\t BasalDendrite_standard_deviation_Section_Volumes\n",
      "\t BasalDendrite_mean_Section_Areas\n",
      "\t BasalDendrite_standard_deviation_Section_Areas\n",
      "\t BasalDendrite_mean_Section_Tortuosity\n",
      "\t BasalDendrite_standard_deviation_Section_Tortuosity\n",
      "\t BasalDendrite_mean_Section_Strahler_Orders\n",
      "\t BasalDendrite_standard_deviation_Section_Strahler_Orders\n",
      "\t NeuronMorphology_mean_Morphology_Max_Radial_Distance\n",
      "\t NeuronMorphology_standard_deviation_Morphology_Max_Radial_Distance\n",
      "\t NeuronMorphology_mean_Number_Of_Sections_Per_Neurite\n",
      "\t NeuronMorphology_standard_deviation_Number_Of_Sections_Per_Neurite\n",
      "\t NeuronMorphology_mean_Total_Length_Per_Neurite\n",
      "\t NeuronMorphology_standard_deviation_Total_Length_Per_Neurite\n",
      "\t NeuronMorphology_mean_Total_Area_Per_Neurite\n",
      "\t NeuronMorphology_standard_deviation_Total_Area_Per_Neurite\n",
      "\t NeuronMorphology_mean_Total_Volume_Per_Neurite\n",
      "\t NeuronMorphology_standard_deviation_Total_Volume_Per_Neurite\n",
      "\t NeuronMorphology_mean_Number_Of_Neurites\n",
      "\t NeuronMorphology_standard_deviation_Number_Of_Neurites\n",
      "\t Soma_mean_Soma_Surface_Area\n",
      "\t Soma_standard_deviation_Soma_Surface_Area\n",
      "\t Soma_mean_Soma_Radius\n",
      "\t Soma_standard_deviation_Soma_Radius\n"
     ]
    }
   ],
   "source": [
    "print(\"Including the following neurite features:\")\n",
    "for n in neurite_feature_df.columns:\n",
    "    print(\"\\t\", n)"
   ]
  },
  {
   "cell_type": "code",
   "execution_count": 31,
   "id": "9e8f6092",
   "metadata": {
    "scrolled": true
   },
   "outputs": [
    {
     "data": {
      "text/html": [
       "<div>\n",
       "<style scoped>\n",
       "    .dataframe tbody tr th:only-of-type {\n",
       "        vertical-align: middle;\n",
       "    }\n",
       "\n",
       "    .dataframe tbody tr th {\n",
       "        vertical-align: top;\n",
       "    }\n",
       "\n",
       "    .dataframe thead th {\n",
       "        text-align: right;\n",
       "    }\n",
       "</style>\n",
       "<table border=\"1\" class=\"dataframe\">\n",
       "  <thead>\n",
       "    <tr style=\"text-align: right;\">\n",
       "      <th></th>\n",
       "      <th>Axon_mean_Neurite_Max_Radial_Distance</th>\n",
       "      <th>Axon_standard_deviation_Neurite_Max_Radial_Distance</th>\n",
       "      <th>Axon_mean_Number_Of_Sections</th>\n",
       "      <th>Axon_standard_deviation_Number_Of_Sections</th>\n",
       "      <th>Axon_mean_Number_Of_Bifurcations</th>\n",
       "      <th>Axon_standard_deviation_Number_Of_Bifurcations</th>\n",
       "      <th>Axon_mean_Number_Of_Leaves</th>\n",
       "      <th>Axon_standard_deviation_Number_Of_Leaves</th>\n",
       "      <th>Axon_mean_Total_Length</th>\n",
       "      <th>Axon_standard_deviation_Total_Length</th>\n",
       "      <th>...</th>\n",
       "      <th>NeuronMorphology_mean_Total_Area_Per_Neurite</th>\n",
       "      <th>NeuronMorphology_standard_deviation_Total_Area_Per_Neurite</th>\n",
       "      <th>NeuronMorphology_mean_Total_Volume_Per_Neurite</th>\n",
       "      <th>NeuronMorphology_standard_deviation_Total_Volume_Per_Neurite</th>\n",
       "      <th>NeuronMorphology_mean_Number_Of_Neurites</th>\n",
       "      <th>NeuronMorphology_standard_deviation_Number_Of_Neurites</th>\n",
       "      <th>Soma_mean_Soma_Surface_Area</th>\n",
       "      <th>Soma_standard_deviation_Soma_Surface_Area</th>\n",
       "      <th>Soma_mean_Soma_Radius</th>\n",
       "      <th>Soma_standard_deviation_Soma_Radius</th>\n",
       "    </tr>\n",
       "  </thead>\n",
       "  <tbody>\n",
       "    <tr>\n",
       "      <th>0</th>\n",
       "      <td>4128.578613</td>\n",
       "      <td>4128.578613</td>\n",
       "      <td>451.0</td>\n",
       "      <td>451.0</td>\n",
       "      <td>225.0</td>\n",
       "      <td>225.0</td>\n",
       "      <td>226.0</td>\n",
       "      <td>226.0</td>\n",
       "      <td>46646.833876</td>\n",
       "      <td>46646.833876</td>\n",
       "      <td>...</td>\n",
       "      <td>45703.575805</td>\n",
       "      <td>93766.319566</td>\n",
       "      <td>24333.741158</td>\n",
       "      <td>46428.788471</td>\n",
       "      <td>8.0</td>\n",
       "      <td>8.0</td>\n",
       "      <td>828.702414</td>\n",
       "      <td>828.702414</td>\n",
       "      <td>8.120717</td>\n",
       "      <td>8.120717</td>\n",
       "    </tr>\n",
       "    <tr>\n",
       "      <th>1</th>\n",
       "      <td>3364.643311</td>\n",
       "      <td>3364.643311</td>\n",
       "      <td>219.0</td>\n",
       "      <td>219.0</td>\n",
       "      <td>109.0</td>\n",
       "      <td>109.0</td>\n",
       "      <td>110.0</td>\n",
       "      <td>110.0</td>\n",
       "      <td>25101.206810</td>\n",
       "      <td>25101.206810</td>\n",
       "      <td>...</td>\n",
       "      <td>32249.298571</td>\n",
       "      <td>56263.961954</td>\n",
       "      <td>16683.966274</td>\n",
       "      <td>27914.475891</td>\n",
       "      <td>6.0</td>\n",
       "      <td>6.0</td>\n",
       "      <td>320.297982</td>\n",
       "      <td>320.297982</td>\n",
       "      <td>5.048614</td>\n",
       "      <td>5.048614</td>\n",
       "    </tr>\n",
       "    <tr>\n",
       "      <th>2</th>\n",
       "      <td>0.000000</td>\n",
       "      <td>0.000000</td>\n",
       "      <td>0.0</td>\n",
       "      <td>0.0</td>\n",
       "      <td>0.0</td>\n",
       "      <td>0.0</td>\n",
       "      <td>0.0</td>\n",
       "      <td>0.0</td>\n",
       "      <td>0.000000</td>\n",
       "      <td>0.000000</td>\n",
       "      <td>...</td>\n",
       "      <td>44966.880444</td>\n",
       "      <td>87078.691819</td>\n",
       "      <td>23020.274457</td>\n",
       "      <td>43461.267018</td>\n",
       "      <td>6.0</td>\n",
       "      <td>6.0</td>\n",
       "      <td>391.450836</td>\n",
       "      <td>391.450836</td>\n",
       "      <td>5.581278</td>\n",
       "      <td>5.581278</td>\n",
       "    </tr>\n",
       "    <tr>\n",
       "      <th>3</th>\n",
       "      <td>2837.244873</td>\n",
       "      <td>2837.244873</td>\n",
       "      <td>331.0</td>\n",
       "      <td>331.0</td>\n",
       "      <td>165.0</td>\n",
       "      <td>165.0</td>\n",
       "      <td>166.0</td>\n",
       "      <td>166.0</td>\n",
       "      <td>30027.558500</td>\n",
       "      <td>30027.558500</td>\n",
       "      <td>...</td>\n",
       "      <td>27680.194047</td>\n",
       "      <td>60906.465352</td>\n",
       "      <td>14232.720855</td>\n",
       "      <td>30317.305664</td>\n",
       "      <td>8.0</td>\n",
       "      <td>8.0</td>\n",
       "      <td>536.995242</td>\n",
       "      <td>536.995242</td>\n",
       "      <td>6.537027</td>\n",
       "      <td>6.537027</td>\n",
       "    </tr>\n",
       "    <tr>\n",
       "      <th>4</th>\n",
       "      <td>3355.316650</td>\n",
       "      <td>3355.316650</td>\n",
       "      <td>235.0</td>\n",
       "      <td>235.0</td>\n",
       "      <td>117.0</td>\n",
       "      <td>117.0</td>\n",
       "      <td>118.0</td>\n",
       "      <td>118.0</td>\n",
       "      <td>35852.890493</td>\n",
       "      <td>35852.890493</td>\n",
       "      <td>...</td>\n",
       "      <td>29045.213814</td>\n",
       "      <td>69431.373375</td>\n",
       "      <td>15076.814074</td>\n",
       "      <td>34536.556828</td>\n",
       "      <td>9.0</td>\n",
       "      <td>9.0</td>\n",
       "      <td>417.342855</td>\n",
       "      <td>417.342855</td>\n",
       "      <td>5.762906</td>\n",
       "      <td>5.762906</td>\n",
       "    </tr>\n",
       "    <tr>\n",
       "      <th>...</th>\n",
       "      <td>...</td>\n",
       "      <td>...</td>\n",
       "      <td>...</td>\n",
       "      <td>...</td>\n",
       "      <td>...</td>\n",
       "      <td>...</td>\n",
       "      <td>...</td>\n",
       "      <td>...</td>\n",
       "      <td>...</td>\n",
       "      <td>...</td>\n",
       "      <td>...</td>\n",
       "      <td>...</td>\n",
       "      <td>...</td>\n",
       "      <td>...</td>\n",
       "      <td>...</td>\n",
       "      <td>...</td>\n",
       "      <td>...</td>\n",
       "      <td>...</td>\n",
       "      <td>...</td>\n",
       "      <td>...</td>\n",
       "      <td>...</td>\n",
       "    </tr>\n",
       "    <tr>\n",
       "      <th>293</th>\n",
       "      <td>4335.582520</td>\n",
       "      <td>4335.582520</td>\n",
       "      <td>243.0</td>\n",
       "      <td>243.0</td>\n",
       "      <td>121.0</td>\n",
       "      <td>121.0</td>\n",
       "      <td>122.0</td>\n",
       "      <td>122.0</td>\n",
       "      <td>43797.056284</td>\n",
       "      <td>43797.056284</td>\n",
       "      <td>...</td>\n",
       "      <td>39682.510306</td>\n",
       "      <td>89718.187849</td>\n",
       "      <td>21130.065147</td>\n",
       "      <td>46034.902391</td>\n",
       "      <td>8.0</td>\n",
       "      <td>8.0</td>\n",
       "      <td>334.492840</td>\n",
       "      <td>334.492840</td>\n",
       "      <td>5.159273</td>\n",
       "      <td>5.159273</td>\n",
       "    </tr>\n",
       "    <tr>\n",
       "      <th>294</th>\n",
       "      <td>5203.401855</td>\n",
       "      <td>5203.401855</td>\n",
       "      <td>299.0</td>\n",
       "      <td>299.0</td>\n",
       "      <td>149.0</td>\n",
       "      <td>149.0</td>\n",
       "      <td>150.0</td>\n",
       "      <td>150.0</td>\n",
       "      <td>57544.579821</td>\n",
       "      <td>57544.579821</td>\n",
       "      <td>...</td>\n",
       "      <td>51431.760294</td>\n",
       "      <td>117892.232480</td>\n",
       "      <td>27203.745676</td>\n",
       "      <td>60344.795913</td>\n",
       "      <td>8.0</td>\n",
       "      <td>8.0</td>\n",
       "      <td>393.026812</td>\n",
       "      <td>393.026812</td>\n",
       "      <td>5.592502</td>\n",
       "      <td>5.592502</td>\n",
       "    </tr>\n",
       "    <tr>\n",
       "      <th>295</th>\n",
       "      <td>2089.018555</td>\n",
       "      <td>2089.018555</td>\n",
       "      <td>411.0</td>\n",
       "      <td>411.0</td>\n",
       "      <td>205.0</td>\n",
       "      <td>205.0</td>\n",
       "      <td>206.0</td>\n",
       "      <td>206.0</td>\n",
       "      <td>38151.983669</td>\n",
       "      <td>38151.983669</td>\n",
       "      <td>...</td>\n",
       "      <td>47677.726652</td>\n",
       "      <td>86674.981706</td>\n",
       "      <td>25329.651797</td>\n",
       "      <td>43701.927497</td>\n",
       "      <td>6.0</td>\n",
       "      <td>6.0</td>\n",
       "      <td>315.964098</td>\n",
       "      <td>315.964098</td>\n",
       "      <td>5.014342</td>\n",
       "      <td>5.014342</td>\n",
       "    </tr>\n",
       "    <tr>\n",
       "      <th>296</th>\n",
       "      <td>5787.469727</td>\n",
       "      <td>5787.469727</td>\n",
       "      <td>573.0</td>\n",
       "      <td>573.0</td>\n",
       "      <td>286.0</td>\n",
       "      <td>286.0</td>\n",
       "      <td>287.0</td>\n",
       "      <td>287.0</td>\n",
       "      <td>102049.516870</td>\n",
       "      <td>102049.516870</td>\n",
       "      <td>...</td>\n",
       "      <td>127393.034546</td>\n",
       "      <td>230152.730687</td>\n",
       "      <td>73639.670729</td>\n",
       "      <td>110890.678409</td>\n",
       "      <td>6.0</td>\n",
       "      <td>6.0</td>\n",
       "      <td>518.195807</td>\n",
       "      <td>518.195807</td>\n",
       "      <td>6.421582</td>\n",
       "      <td>6.421582</td>\n",
       "    </tr>\n",
       "    <tr>\n",
       "      <th>297</th>\n",
       "      <td>4960.332520</td>\n",
       "      <td>4960.332520</td>\n",
       "      <td>385.0</td>\n",
       "      <td>385.0</td>\n",
       "      <td>192.0</td>\n",
       "      <td>192.0</td>\n",
       "      <td>193.0</td>\n",
       "      <td>193.0</td>\n",
       "      <td>60203.425523</td>\n",
       "      <td>60203.425523</td>\n",
       "      <td>...</td>\n",
       "      <td>42832.959689</td>\n",
       "      <td>107083.187232</td>\n",
       "      <td>24599.692862</td>\n",
       "      <td>54535.170080</td>\n",
       "      <td>11.0</td>\n",
       "      <td>11.0</td>\n",
       "      <td>381.047675</td>\n",
       "      <td>381.047675</td>\n",
       "      <td>5.506615</td>\n",
       "      <td>5.506615</td>\n",
       "    </tr>\n",
       "  </tbody>\n",
       "</table>\n",
       "<p>298 rows × 132 columns</p>\n",
       "</div>"
      ],
      "text/plain": [
       "     Axon_mean_Neurite_Max_Radial_Distance  \\\n",
       "0                              4128.578613   \n",
       "1                              3364.643311   \n",
       "2                                 0.000000   \n",
       "3                              2837.244873   \n",
       "4                              3355.316650   \n",
       "..                                     ...   \n",
       "293                            4335.582520   \n",
       "294                            5203.401855   \n",
       "295                            2089.018555   \n",
       "296                            5787.469727   \n",
       "297                            4960.332520   \n",
       "\n",
       "     Axon_standard_deviation_Neurite_Max_Radial_Distance  \\\n",
       "0                                          4128.578613     \n",
       "1                                          3364.643311     \n",
       "2                                             0.000000     \n",
       "3                                          2837.244873     \n",
       "4                                          3355.316650     \n",
       "..                                                 ...     \n",
       "293                                        4335.582520     \n",
       "294                                        5203.401855     \n",
       "295                                        2089.018555     \n",
       "296                                        5787.469727     \n",
       "297                                        4960.332520     \n",
       "\n",
       "     Axon_mean_Number_Of_Sections  Axon_standard_deviation_Number_Of_Sections  \\\n",
       "0                           451.0                                       451.0   \n",
       "1                           219.0                                       219.0   \n",
       "2                             0.0                                         0.0   \n",
       "3                           331.0                                       331.0   \n",
       "4                           235.0                                       235.0   \n",
       "..                            ...                                         ...   \n",
       "293                         243.0                                       243.0   \n",
       "294                         299.0                                       299.0   \n",
       "295                         411.0                                       411.0   \n",
       "296                         573.0                                       573.0   \n",
       "297                         385.0                                       385.0   \n",
       "\n",
       "     Axon_mean_Number_Of_Bifurcations  \\\n",
       "0                               225.0   \n",
       "1                               109.0   \n",
       "2                                 0.0   \n",
       "3                               165.0   \n",
       "4                               117.0   \n",
       "..                                ...   \n",
       "293                             121.0   \n",
       "294                             149.0   \n",
       "295                             205.0   \n",
       "296                             286.0   \n",
       "297                             192.0   \n",
       "\n",
       "     Axon_standard_deviation_Number_Of_Bifurcations  \\\n",
       "0                                             225.0   \n",
       "1                                             109.0   \n",
       "2                                               0.0   \n",
       "3                                             165.0   \n",
       "4                                             117.0   \n",
       "..                                              ...   \n",
       "293                                           121.0   \n",
       "294                                           149.0   \n",
       "295                                           205.0   \n",
       "296                                           286.0   \n",
       "297                                           192.0   \n",
       "\n",
       "     Axon_mean_Number_Of_Leaves  Axon_standard_deviation_Number_Of_Leaves  \\\n",
       "0                         226.0                                     226.0   \n",
       "1                         110.0                                     110.0   \n",
       "2                           0.0                                       0.0   \n",
       "3                         166.0                                     166.0   \n",
       "4                         118.0                                     118.0   \n",
       "..                          ...                                       ...   \n",
       "293                       122.0                                     122.0   \n",
       "294                       150.0                                     150.0   \n",
       "295                       206.0                                     206.0   \n",
       "296                       287.0                                     287.0   \n",
       "297                       193.0                                     193.0   \n",
       "\n",
       "     Axon_mean_Total_Length  Axon_standard_deviation_Total_Length  ...  \\\n",
       "0              46646.833876                          46646.833876  ...   \n",
       "1              25101.206810                          25101.206810  ...   \n",
       "2                  0.000000                              0.000000  ...   \n",
       "3              30027.558500                          30027.558500  ...   \n",
       "4              35852.890493                          35852.890493  ...   \n",
       "..                      ...                                   ...  ...   \n",
       "293            43797.056284                          43797.056284  ...   \n",
       "294            57544.579821                          57544.579821  ...   \n",
       "295            38151.983669                          38151.983669  ...   \n",
       "296           102049.516870                         102049.516870  ...   \n",
       "297            60203.425523                          60203.425523  ...   \n",
       "\n",
       "     NeuronMorphology_mean_Total_Area_Per_Neurite  \\\n",
       "0                                    45703.575805   \n",
       "1                                    32249.298571   \n",
       "2                                    44966.880444   \n",
       "3                                    27680.194047   \n",
       "4                                    29045.213814   \n",
       "..                                            ...   \n",
       "293                                  39682.510306   \n",
       "294                                  51431.760294   \n",
       "295                                  47677.726652   \n",
       "296                                 127393.034546   \n",
       "297                                  42832.959689   \n",
       "\n",
       "     NeuronMorphology_standard_deviation_Total_Area_Per_Neurite  \\\n",
       "0                                         93766.319566            \n",
       "1                                         56263.961954            \n",
       "2                                         87078.691819            \n",
       "3                                         60906.465352            \n",
       "4                                         69431.373375            \n",
       "..                                                 ...            \n",
       "293                                       89718.187849            \n",
       "294                                      117892.232480            \n",
       "295                                       86674.981706            \n",
       "296                                      230152.730687            \n",
       "297                                      107083.187232            \n",
       "\n",
       "     NeuronMorphology_mean_Total_Volume_Per_Neurite  \\\n",
       "0                                      24333.741158   \n",
       "1                                      16683.966274   \n",
       "2                                      23020.274457   \n",
       "3                                      14232.720855   \n",
       "4                                      15076.814074   \n",
       "..                                              ...   \n",
       "293                                    21130.065147   \n",
       "294                                    27203.745676   \n",
       "295                                    25329.651797   \n",
       "296                                    73639.670729   \n",
       "297                                    24599.692862   \n",
       "\n",
       "     NeuronMorphology_standard_deviation_Total_Volume_Per_Neurite  \\\n",
       "0                                         46428.788471              \n",
       "1                                         27914.475891              \n",
       "2                                         43461.267018              \n",
       "3                                         30317.305664              \n",
       "4                                         34536.556828              \n",
       "..                                                 ...              \n",
       "293                                       46034.902391              \n",
       "294                                       60344.795913              \n",
       "295                                       43701.927497              \n",
       "296                                      110890.678409              \n",
       "297                                       54535.170080              \n",
       "\n",
       "     NeuronMorphology_mean_Number_Of_Neurites  \\\n",
       "0                                         8.0   \n",
       "1                                         6.0   \n",
       "2                                         6.0   \n",
       "3                                         8.0   \n",
       "4                                         9.0   \n",
       "..                                        ...   \n",
       "293                                       8.0   \n",
       "294                                       8.0   \n",
       "295                                       6.0   \n",
       "296                                       6.0   \n",
       "297                                      11.0   \n",
       "\n",
       "     NeuronMorphology_standard_deviation_Number_Of_Neurites  \\\n",
       "0                                                  8.0        \n",
       "1                                                  6.0        \n",
       "2                                                  6.0        \n",
       "3                                                  8.0        \n",
       "4                                                  9.0        \n",
       "..                                                 ...        \n",
       "293                                                8.0        \n",
       "294                                                8.0        \n",
       "295                                                6.0        \n",
       "296                                                6.0        \n",
       "297                                               11.0        \n",
       "\n",
       "     Soma_mean_Soma_Surface_Area  Soma_standard_deviation_Soma_Surface_Area  \\\n",
       "0                     828.702414                                 828.702414   \n",
       "1                     320.297982                                 320.297982   \n",
       "2                     391.450836                                 391.450836   \n",
       "3                     536.995242                                 536.995242   \n",
       "4                     417.342855                                 417.342855   \n",
       "..                           ...                                        ...   \n",
       "293                   334.492840                                 334.492840   \n",
       "294                   393.026812                                 393.026812   \n",
       "295                   315.964098                                 315.964098   \n",
       "296                   518.195807                                 518.195807   \n",
       "297                   381.047675                                 381.047675   \n",
       "\n",
       "     Soma_mean_Soma_Radius  Soma_standard_deviation_Soma_Radius  \n",
       "0                 8.120717                             8.120717  \n",
       "1                 5.048614                             5.048614  \n",
       "2                 5.581278                             5.581278  \n",
       "3                 6.537027                             6.537027  \n",
       "4                 5.762906                             5.762906  \n",
       "..                     ...                                  ...  \n",
       "293               5.159273                             5.159273  \n",
       "294               5.592502                             5.592502  \n",
       "295               5.014342                             5.014342  \n",
       "296               6.421582                             6.421582  \n",
       "297               5.506615                             5.506615  \n",
       "\n",
       "[298 rows x 132 columns]"
      ]
     },
     "execution_count": 31,
     "metadata": {},
     "output_type": "execute_result"
    }
   ],
   "source": [
    "neurite_feature_df"
   ]
  },
  {
   "cell_type": "markdown",
   "id": "d0322575",
   "metadata": {},
   "source": [
    "## 3. Extract location-based features (section/leaf regions)."
   ]
  },
  {
   "cell_type": "code",
   "execution_count": 36,
   "id": "0053e92d",
   "metadata": {},
   "outputs": [],
   "source": [
    "forge = KnowledgeGraphForge(\n",
    "    \"../../configs/new-forge-config.yaml\",\n",
    "    token=TOKEN,\n",
    "    bucket=\"neurosciencegraph/datamodels\")"
   ]
  },
  {
   "cell_type": "code",
   "execution_count": 37,
   "id": "9fb7a70d",
   "metadata": {},
   "outputs": [],
   "source": [
    "brain_region_resources = [\n",
    "    forge.retrieve(el) for el in full_df[\"brainLocation.brainRegion.id\"]\n",
    "]\n",
    "brain_region_notation = {\n",
    "    r.id: (r.notation, r.prefLabel)\n",
    "    for r in brain_region_resources\n",
    "}"
   ]
  },
  {
   "cell_type": "code",
   "execution_count": 38,
   "id": "f3e3496d",
   "metadata": {},
   "outputs": [],
   "source": [
    "localization_features = pd.DataFrame(full_df.apply(\n",
    "    lambda x: get_location_feature_annotations(\n",
    "        x, EXCLUDE_COMPARTMENTS, brain_region_notation), axis=1).tolist())"
   ]
  },
  {
   "cell_type": "code",
   "execution_count": 39,
   "id": "ac971f92",
   "metadata": {},
   "outputs": [
    {
     "data": {
      "text/html": [
       "<div>\n",
       "<style scoped>\n",
       "    .dataframe tbody tr th:only-of-type {\n",
       "        vertical-align: middle;\n",
       "    }\n",
       "\n",
       "    .dataframe tbody tr th {\n",
       "        vertical-align: top;\n",
       "    }\n",
       "\n",
       "    .dataframe thead th {\n",
       "        text-align: right;\n",
       "    }\n",
       "</style>\n",
       "<table border=\"1\" class=\"dataframe\">\n",
       "  <thead>\n",
       "    <tr style=\"text-align: right;\">\n",
       "      <th></th>\n",
       "      <th>Axon_Section_Regions</th>\n",
       "      <th>Axon_Leaf_Regions</th>\n",
       "      <th>BasalDendrite_Section_Regions</th>\n",
       "      <th>BasalDendrite_Leaf_Regions</th>\n",
       "    </tr>\n",
       "  </thead>\n",
       "  <tbody>\n",
       "    <tr>\n",
       "      <th>254</th>\n",
       "      <td>[ORBm2/3, ORBm2/3, ORBm2/3, ORBm2/3, ORBm2/3, ...</td>\n",
       "      <td>[ORBm5, ORBm5, ORBm5, ORBm5, ORBm5, ORBm5, ORB...</td>\n",
       "      <td>[ORBm2/3, ORBm2/3, ORBm2/3, ORBm2/3, ORBm2/3, ...</td>\n",
       "      <td>[ORBm1, ORBm1, ORBm1, ORBm1, ORBm1, ORBm2/3, O...</td>\n",
       "    </tr>\n",
       "    <tr>\n",
       "      <th>28</th>\n",
       "      <td>[LGd-co, LGd-co, LGd-co, LGd-co, LGd-co, LGd-c...</td>\n",
       "      <td>[LGd-co, fp, fp, VISp4, VISp4, VISp4, VISp4, V...</td>\n",
       "      <td>[LGd-co, LGd-co, LGd-co, LGd-co, LGd-co, LGd-c...</td>\n",
       "      <td>[LGd-co, LGd-co, LGd-co, LGd-co, LGd-co, LGd-c...</td>\n",
       "    </tr>\n",
       "    <tr>\n",
       "      <th>238</th>\n",
       "      <td>[SSp-bfd2/3, SSp-bfd2/3, SSp-bfd2/3, SSp-bfd2/...</td>\n",
       "      <td>[SSp-bfd1, SSp-bfd1, SSp-bfd1, SSp-bfd1, SSp-b...</td>\n",
       "      <td>[SSp-bfd2/3, SSp-bfd2/3, SSp-bfd2/3, SSp-bfd2/...</td>\n",
       "      <td>[SSp-bfd2/3, SSp-bfd2/3, SSp-bfd2/3, SSp-bfd2/...</td>\n",
       "    </tr>\n",
       "    <tr>\n",
       "      <th>20</th>\n",
       "      <td>[LGd-co, LGd-co, LGd-co, LGd-co, LGd-co, LGd-c...</td>\n",
       "      <td>[LGd-co, LGd-co, LGd-co, VISpm2/3, VISpm2/3, V...</td>\n",
       "      <td>[LGd-ip, LGd-ip, LGd-ip, LGd-ip, LGd-ip, LGd-i...</td>\n",
       "      <td>[LGd-ip, LGd-ip, LGd-ip, LGd-ip, LGd-ip, LGd-i...</td>\n",
       "    </tr>\n",
       "    <tr>\n",
       "      <th>44</th>\n",
       "      <td>[LGd-ip, LGd-ip, LGd-ip, LGd-ip, LGd-ip, LGd-i...</td>\n",
       "      <td>[or, or, or, or, or, VISpm5, VISp4, VISp4, VIS...</td>\n",
       "      <td>[LGd-ip, LGd-ip, LGd-ip, LGd-ip, LGd-ip, LGd-i...</td>\n",
       "      <td>[LGd-ip, LGd-ip, LGd-ip, LGd-ip, LGd-ip, LGd-i...</td>\n",
       "    </tr>\n",
       "  </tbody>\n",
       "</table>\n",
       "</div>"
      ],
      "text/plain": [
       "                                  Axon_Section_Regions  \\\n",
       "254  [ORBm2/3, ORBm2/3, ORBm2/3, ORBm2/3, ORBm2/3, ...   \n",
       "28   [LGd-co, LGd-co, LGd-co, LGd-co, LGd-co, LGd-c...   \n",
       "238  [SSp-bfd2/3, SSp-bfd2/3, SSp-bfd2/3, SSp-bfd2/...   \n",
       "20   [LGd-co, LGd-co, LGd-co, LGd-co, LGd-co, LGd-c...   \n",
       "44   [LGd-ip, LGd-ip, LGd-ip, LGd-ip, LGd-ip, LGd-i...   \n",
       "\n",
       "                                     Axon_Leaf_Regions  \\\n",
       "254  [ORBm5, ORBm5, ORBm5, ORBm5, ORBm5, ORBm5, ORB...   \n",
       "28   [LGd-co, fp, fp, VISp4, VISp4, VISp4, VISp4, V...   \n",
       "238  [SSp-bfd1, SSp-bfd1, SSp-bfd1, SSp-bfd1, SSp-b...   \n",
       "20   [LGd-co, LGd-co, LGd-co, VISpm2/3, VISpm2/3, V...   \n",
       "44   [or, or, or, or, or, VISpm5, VISp4, VISp4, VIS...   \n",
       "\n",
       "                         BasalDendrite_Section_Regions  \\\n",
       "254  [ORBm2/3, ORBm2/3, ORBm2/3, ORBm2/3, ORBm2/3, ...   \n",
       "28   [LGd-co, LGd-co, LGd-co, LGd-co, LGd-co, LGd-c...   \n",
       "238  [SSp-bfd2/3, SSp-bfd2/3, SSp-bfd2/3, SSp-bfd2/...   \n",
       "20   [LGd-ip, LGd-ip, LGd-ip, LGd-ip, LGd-ip, LGd-i...   \n",
       "44   [LGd-ip, LGd-ip, LGd-ip, LGd-ip, LGd-ip, LGd-i...   \n",
       "\n",
       "                            BasalDendrite_Leaf_Regions  \n",
       "254  [ORBm1, ORBm1, ORBm1, ORBm1, ORBm1, ORBm2/3, O...  \n",
       "28   [LGd-co, LGd-co, LGd-co, LGd-co, LGd-co, LGd-c...  \n",
       "238  [SSp-bfd2/3, SSp-bfd2/3, SSp-bfd2/3, SSp-bfd2/...  \n",
       "20   [LGd-ip, LGd-ip, LGd-ip, LGd-ip, LGd-ip, LGd-i...  \n",
       "44   [LGd-ip, LGd-ip, LGd-ip, LGd-ip, LGd-ip, LGd-i...  "
      ]
     },
     "execution_count": 39,
     "metadata": {},
     "output_type": "execute_result"
    }
   ],
   "source": [
    "localization_features.sample(5)"
   ]
  },
  {
   "cell_type": "markdown",
   "id": "d73974d1",
   "metadata": {},
   "source": [
    "## 4. Build a data frame with the rest of the meta-data"
   ]
  },
  {
   "cell_type": "code",
   "execution_count": 40,
   "id": "ce52571d",
   "metadata": {},
   "outputs": [],
   "source": [
    "morphologies_df = full_df[[\n",
    "    \"id\",\n",
    "    \"brainLocation.brainRegion.id\",\n",
    "    \"somaNumberOfPoints.value\"\n",
    "]]"
   ]
  },
  {
   "cell_type": "code",
   "execution_count": 41,
   "id": "3c160789",
   "metadata": {},
   "outputs": [
    {
     "name": "stderr",
     "output_type": "stream",
     "text": [
      "/Users/oshurko/opt/anaconda3/envs/bg/lib/python3.7/site-packages/ipykernel_launcher.py:2: SettingWithCopyWarning: \n",
      "A value is trying to be set on a copy of a slice from a DataFrame.\n",
      "Try using .loc[row_indexer,col_indexer] = value instead\n",
      "\n",
      "See the caveats in the documentation: https://pandas.pydata.org/pandas-docs/stable/user_guide/indexing.html#returning-a-view-versus-a-copy\n",
      "  \n"
     ]
    }
   ],
   "source": [
    "morphologies_df[\"brainLocation.brainRegion.id\"] = morphologies_df[\"brainLocation.brainRegion.id\"].apply(\n",
    "    lambda x: brain_region_notation[x][0])"
   ]
  },
  {
   "cell_type": "code",
   "execution_count": 42,
   "id": "8ac8b46e",
   "metadata": {},
   "outputs": [
    {
     "data": {
      "text/html": [
       "<div>\n",
       "<style scoped>\n",
       "    .dataframe tbody tr th:only-of-type {\n",
       "        vertical-align: middle;\n",
       "    }\n",
       "\n",
       "    .dataframe tbody tr th {\n",
       "        vertical-align: top;\n",
       "    }\n",
       "\n",
       "    .dataframe thead th {\n",
       "        text-align: right;\n",
       "    }\n",
       "</style>\n",
       "<table border=\"1\" class=\"dataframe\">\n",
       "  <thead>\n",
       "    <tr style=\"text-align: right;\">\n",
       "      <th></th>\n",
       "      <th>id</th>\n",
       "      <th>brainLocation.brainRegion.id</th>\n",
       "      <th>somaNumberOfPoints.value</th>\n",
       "    </tr>\n",
       "  </thead>\n",
       "  <tbody>\n",
       "    <tr>\n",
       "      <th>209</th>\n",
       "      <td>https://bbp.epfl.ch/neurosciencegraph/data/neu...</td>\n",
       "      <td>VPM</td>\n",
       "      <td>3</td>\n",
       "    </tr>\n",
       "    <tr>\n",
       "      <th>23</th>\n",
       "      <td>https://bbp.epfl.ch/neurosciencegraph/data/neu...</td>\n",
       "      <td>LGd</td>\n",
       "      <td>3</td>\n",
       "    </tr>\n",
       "    <tr>\n",
       "      <th>55</th>\n",
       "      <td>https://bbp.epfl.ch/neurosciencegraph/data/neu...</td>\n",
       "      <td>MG</td>\n",
       "      <td>3</td>\n",
       "    </tr>\n",
       "  </tbody>\n",
       "</table>\n",
       "</div>"
      ],
      "text/plain": [
       "                                                    id  \\\n",
       "209  https://bbp.epfl.ch/neurosciencegraph/data/neu...   \n",
       "23   https://bbp.epfl.ch/neurosciencegraph/data/neu...   \n",
       "55   https://bbp.epfl.ch/neurosciencegraph/data/neu...   \n",
       "\n",
       "    brainLocation.brainRegion.id  somaNumberOfPoints.value  \n",
       "209                          VPM                         3  \n",
       "23                           LGd                         3  \n",
       "55                            MG                         3  "
      ]
     },
     "execution_count": 42,
     "metadata": {},
     "output_type": "execute_result"
    }
   ],
   "source": [
    "morphologies_df.sample(3)"
   ]
  },
  {
   "cell_type": "markdown",
   "id": "0ae9ee1c",
   "metadata": {},
   "source": [
    "# II. Create different representations of morphologies"
   ]
  },
  {
   "cell_type": "markdown",
   "id": "01fa04e1",
   "metadata": {},
   "source": [
    "## 1. Create axon/dendrite co-projection property graphs\n",
    "\n",
    "We build two property graphs: \n",
    "- axon co-projection graph\n",
    "- dendrite co-occurrence\n",
    "\n",
    "We use meta-data as node properties."
   ]
  },
  {
   "cell_type": "code",
   "execution_count": 43,
   "id": "dcb0951f",
   "metadata": {},
   "outputs": [],
   "source": [
    "nodes = pd.concat(\n",
    "    [morphologies_df, localization_features], axis=1).rename(\n",
    "    columns={\"id\": \"@id\"}).set_index(\"@id\")"
   ]
  },
  {
   "cell_type": "code",
   "execution_count": 44,
   "id": "e48631be",
   "metadata": {},
   "outputs": [
    {
     "data": {
      "text/html": [
       "<div>\n",
       "<style scoped>\n",
       "    .dataframe tbody tr th:only-of-type {\n",
       "        vertical-align: middle;\n",
       "    }\n",
       "\n",
       "    .dataframe tbody tr th {\n",
       "        vertical-align: top;\n",
       "    }\n",
       "\n",
       "    .dataframe thead th {\n",
       "        text-align: right;\n",
       "    }\n",
       "</style>\n",
       "<table border=\"1\" class=\"dataframe\">\n",
       "  <thead>\n",
       "    <tr style=\"text-align: right;\">\n",
       "      <th></th>\n",
       "      <th>brainLocation.brainRegion.id</th>\n",
       "      <th>somaNumberOfPoints.value</th>\n",
       "      <th>Axon_Section_Regions</th>\n",
       "      <th>Axon_Leaf_Regions</th>\n",
       "      <th>BasalDendrite_Section_Regions</th>\n",
       "      <th>BasalDendrite_Leaf_Regions</th>\n",
       "    </tr>\n",
       "    <tr>\n",
       "      <th>@id</th>\n",
       "      <th></th>\n",
       "      <th></th>\n",
       "      <th></th>\n",
       "      <th></th>\n",
       "      <th></th>\n",
       "      <th></th>\n",
       "    </tr>\n",
       "  </thead>\n",
       "  <tbody>\n",
       "    <tr>\n",
       "      <th>https://bbp.epfl.ch/neurosciencegraph/data/neuronmorphologies/fb3614a8-c7da-40c1-92c5-b72d51987ecf</th>\n",
       "      <td>VPM</td>\n",
       "      <td>3</td>\n",
       "      <td>[VPM, VPM, VPM, VPM, VPM, VPM, VPM, VPM, VPM, ...</td>\n",
       "      <td>[em, em, em, RT, RT, RT, RT, RT, RT, RT, RT, R...</td>\n",
       "      <td>[VPM, VPM, VPM, VPM, VPM, VPM, VPM, VPM, VPM, ...</td>\n",
       "      <td>[PO, PO, PO, PO, PO, PO, PO, PO, PO, PO, PO, P...</td>\n",
       "    </tr>\n",
       "    <tr>\n",
       "      <th>https://bbp.epfl.ch/neurosciencegraph/data/neuronmorphologies/49194f8d-f43b-4aba-829c-586a79810206</th>\n",
       "      <td>VPM</td>\n",
       "      <td>3</td>\n",
       "      <td>[VPM, VPM, VPM, VPM, VPM, VPM, VPM, VPM, VPM, ...</td>\n",
       "      <td>[int, int, int, int, int, int, int, int, int, ...</td>\n",
       "      <td>[VPM, VPM, VPM, VPM, VPM, VPM, VPM, VPM, VPM, ...</td>\n",
       "      <td>[VPM, VPM, VPM, VPM, VPM, VPM, VPM, VPM, VPM, ...</td>\n",
       "    </tr>\n",
       "    <tr>\n",
       "      <th>https://bbp.epfl.ch/neurosciencegraph/data/neuronmorphologies/616c236c-c486-48ed-9a6c-79e7727be572</th>\n",
       "      <td>VISp</td>\n",
       "      <td>3</td>\n",
       "      <td>[VISp4, VISp4, VISp4, VISp4, VISp4, VISp4, VIS...</td>\n",
       "      <td>[VISp2/3, VISp2/3, VISp2/3, VISp2/3, VISp2/3, ...</td>\n",
       "      <td>[VISp4, VISp4, VISp4, VISp4, VISp4, VISp4, VIS...</td>\n",
       "      <td>[VISp4, VISp4, VISp4, VISp4, VISp4, VISp4, VIS...</td>\n",
       "    </tr>\n",
       "  </tbody>\n",
       "</table>\n",
       "</div>"
      ],
      "text/plain": [
       "                                                   brainLocation.brainRegion.id  \\\n",
       "@id                                                                               \n",
       "https://bbp.epfl.ch/neurosciencegraph/data/neur...                          VPM   \n",
       "https://bbp.epfl.ch/neurosciencegraph/data/neur...                          VPM   \n",
       "https://bbp.epfl.ch/neurosciencegraph/data/neur...                         VISp   \n",
       "\n",
       "                                                    somaNumberOfPoints.value  \\\n",
       "@id                                                                            \n",
       "https://bbp.epfl.ch/neurosciencegraph/data/neur...                         3   \n",
       "https://bbp.epfl.ch/neurosciencegraph/data/neur...                         3   \n",
       "https://bbp.epfl.ch/neurosciencegraph/data/neur...                         3   \n",
       "\n",
       "                                                                                 Axon_Section_Regions  \\\n",
       "@id                                                                                                     \n",
       "https://bbp.epfl.ch/neurosciencegraph/data/neur...  [VPM, VPM, VPM, VPM, VPM, VPM, VPM, VPM, VPM, ...   \n",
       "https://bbp.epfl.ch/neurosciencegraph/data/neur...  [VPM, VPM, VPM, VPM, VPM, VPM, VPM, VPM, VPM, ...   \n",
       "https://bbp.epfl.ch/neurosciencegraph/data/neur...  [VISp4, VISp4, VISp4, VISp4, VISp4, VISp4, VIS...   \n",
       "\n",
       "                                                                                    Axon_Leaf_Regions  \\\n",
       "@id                                                                                                     \n",
       "https://bbp.epfl.ch/neurosciencegraph/data/neur...  [em, em, em, RT, RT, RT, RT, RT, RT, RT, RT, R...   \n",
       "https://bbp.epfl.ch/neurosciencegraph/data/neur...  [int, int, int, int, int, int, int, int, int, ...   \n",
       "https://bbp.epfl.ch/neurosciencegraph/data/neur...  [VISp2/3, VISp2/3, VISp2/3, VISp2/3, VISp2/3, ...   \n",
       "\n",
       "                                                                        BasalDendrite_Section_Regions  \\\n",
       "@id                                                                                                     \n",
       "https://bbp.epfl.ch/neurosciencegraph/data/neur...  [VPM, VPM, VPM, VPM, VPM, VPM, VPM, VPM, VPM, ...   \n",
       "https://bbp.epfl.ch/neurosciencegraph/data/neur...  [VPM, VPM, VPM, VPM, VPM, VPM, VPM, VPM, VPM, ...   \n",
       "https://bbp.epfl.ch/neurosciencegraph/data/neur...  [VISp4, VISp4, VISp4, VISp4, VISp4, VISp4, VIS...   \n",
       "\n",
       "                                                                           BasalDendrite_Leaf_Regions  \n",
       "@id                                                                                                    \n",
       "https://bbp.epfl.ch/neurosciencegraph/data/neur...  [PO, PO, PO, PO, PO, PO, PO, PO, PO, PO, PO, P...  \n",
       "https://bbp.epfl.ch/neurosciencegraph/data/neur...  [VPM, VPM, VPM, VPM, VPM, VPM, VPM, VPM, VPM, ...  \n",
       "https://bbp.epfl.ch/neurosciencegraph/data/neur...  [VISp4, VISp4, VISp4, VISp4, VISp4, VISp4, VIS...  "
      ]
     },
     "execution_count": 44,
     "metadata": {},
     "output_type": "execute_result"
    }
   ],
   "source": [
    "nodes.sample(3)"
   ]
  },
  {
   "cell_type": "code",
   "execution_count": 45,
   "id": "5b56f4e9",
   "metadata": {},
   "outputs": [
    {
     "data": {
      "text/plain": [
       "Index(['brainLocation.brainRegion.id', 'somaNumberOfPoints.value',\n",
       "       'Axon_Section_Regions', 'Axon_Leaf_Regions',\n",
       "       'BasalDendrite_Section_Regions', 'BasalDendrite_Leaf_Regions'],\n",
       "      dtype='object')"
      ]
     },
     "execution_count": 45,
     "metadata": {},
     "output_type": "execute_result"
    }
   ],
   "source": [
    "nodes.columns"
   ]
  },
  {
   "cell_type": "code",
   "execution_count": 46,
   "id": "b95384be",
   "metadata": {},
   "outputs": [],
   "source": [
    "frame = PandasPGFrame()\n",
    "frame._nodes = nodes\n",
    "numerical_props = ['somaNumberOfPoints.value']\n",
    "\n",
    "for column in nodes.columns:\n",
    "    if column != \"@type\":\n",
    "        if column not in numerical_props:\n",
    "            try:\n",
    "                frame.node_prop_as_category(column)\n",
    "            except ValueError:\n",
    "                pass\n",
    "        else:\n",
    "            frame.node_prop_as_numeric(column)\n",
    "frame.rename_node_properties({\n",
    "    p: p.replace(\".\", \"_\")\n",
    "    for p in frame.node_properties()\n",
    "})"
   ]
  },
  {
   "cell_type": "markdown",
   "id": "0ca21fa9",
   "metadata": {},
   "source": [
    "Encode properties into vectors"
   ]
  },
  {
   "cell_type": "code",
   "execution_count": 47,
   "id": "7ed6e1a0",
   "metadata": {},
   "outputs": [],
   "source": [
    "props = set(frame.node_properties()).difference({\n",
    "    \"Axon_Section_Regions\",\n",
    "    \"Axon_Leaf_Regions\",\n",
    "    \"BasalDendrite_Section_Regions\",\n",
    "    \"BasalDendrite_Leaf_Regions\"})\n",
    "encoder = ScikitLearnPGEncoder(\n",
    "    node_properties=props,\n",
    "    missing_numeric=\"impute\",\n",
    "    imputation_strategy=\"mean\",\n",
    "    reduce_node_dims=True,\n",
    "    n_node_components=40)"
   ]
  },
  {
   "cell_type": "code",
   "execution_count": 48,
   "id": "addd3827",
   "metadata": {},
   "outputs": [],
   "source": [
    "encoded_frame = encoder.fit_transform(frame)"
   ]
  },
  {
   "cell_type": "markdown",
   "id": "d1cd5994",
   "metadata": {},
   "source": [
    "Explained variance of data"
   ]
  },
  {
   "cell_type": "code",
   "execution_count": 49,
   "id": "7ac2ccea",
   "metadata": {},
   "outputs": [
    {
     "data": {
      "text/plain": [
       "0.9875233264749504"
      ]
     },
     "execution_count": 49,
     "metadata": {},
     "output_type": "execute_result"
    }
   ],
   "source": [
    "sum(encoder.node_reducer.explained_variance_ratio_)"
   ]
  },
  {
   "cell_type": "markdown",
   "id": "643ca2db",
   "metadata": {},
   "source": [
    "### Generate the axon co-projection graph"
   ]
  },
  {
   "cell_type": "code",
   "execution_count": 50,
   "id": "dd62a72f",
   "metadata": {},
   "outputs": [],
   "source": [
    "gen = CooccurrenceGenerator(frame)\n",
    "axon_edges = gen.generate_from_nodes(\n",
    "    \"Axon_Leaf_Regions\",\n",
    "    compute_statistics=[\"frequency\"])"
   ]
  },
  {
   "cell_type": "code",
   "execution_count": 51,
   "id": "0f8a4ff4",
   "metadata": {},
   "outputs": [],
   "source": [
    "axon_edges = axon_edges[axon_edges[\"frequency\"].values > 10]"
   ]
  },
  {
   "cell_type": "code",
   "execution_count": 52,
   "id": "1e596896",
   "metadata": {},
   "outputs": [
    {
     "data": {
      "text/plain": [
       "(9902, 2)"
      ]
     },
     "execution_count": 52,
     "metadata": {},
     "output_type": "execute_result"
    }
   ],
   "source": [
    "axon_edges.shape"
   ]
  },
  {
   "cell_type": "code",
   "execution_count": 53,
   "id": "19afdb69",
   "metadata": {},
   "outputs": [],
   "source": [
    "axon_coprojection_frame = PandasPGFrame.from_frames(\n",
    "    nodes=encoded_frame._nodes, edges=axon_edges)\n",
    "axon_coprojection_frame.edge_prop_as_numeric(\"frequency\")"
   ]
  },
  {
   "cell_type": "code",
   "execution_count": 54,
   "id": "bc948381",
   "metadata": {},
   "outputs": [
    {
     "data": {
      "text/plain": [
       "3"
      ]
     },
     "execution_count": 54,
     "metadata": {},
     "output_type": "execute_result"
    }
   ],
   "source": [
    "len(axon_coprojection_frame.isolated_nodes())"
   ]
  },
  {
   "cell_type": "markdown",
   "id": "84067bdc",
   "metadata": {},
   "source": [
    "### Generate the dendrite co-projection graph"
   ]
  },
  {
   "cell_type": "code",
   "execution_count": 55,
   "id": "6927a59e",
   "metadata": {},
   "outputs": [],
   "source": [
    "gen = CooccurrenceGenerator(frame)\n",
    "dendrite_edges = gen.generate_from_nodes(\n",
    "    \"BasalDendrite_Leaf_Regions\",\n",
    "    compute_statistics=[\"frequency\"])"
   ]
  },
  {
   "cell_type": "code",
   "execution_count": 56,
   "id": "ddea8bc4",
   "metadata": {},
   "outputs": [
    {
     "data": {
      "text/plain": [
       "(7801, 2)"
      ]
     },
     "execution_count": 56,
     "metadata": {},
     "output_type": "execute_result"
    }
   ],
   "source": [
    "dendrite_edges.shape"
   ]
  },
  {
   "cell_type": "code",
   "execution_count": 57,
   "id": "dc9033dd",
   "metadata": {},
   "outputs": [],
   "source": [
    "dendrite_coprojection_frame = PandasPGFrame.from_frames(\n",
    "    nodes=encoded_frame._nodes, edges=dendrite_edges)\n",
    "dendrite_coprojection_frame.edge_prop_as_numeric(\"frequency\")"
   ]
  },
  {
   "cell_type": "code",
   "execution_count": 58,
   "id": "14cc32c3",
   "metadata": {},
   "outputs": [
    {
     "data": {
      "text/plain": [
       "6"
      ]
     },
     "execution_count": 58,
     "metadata": {},
     "output_type": "execute_result"
    }
   ],
   "source": [
    "len(dendrite_coprojection_frame.isolated_nodes())"
   ]
  },
  {
   "cell_type": "markdown",
   "id": "1ae6599c",
   "metadata": {},
   "source": [
    "### Perform axon co-projection graph embedding"
   ]
  },
  {
   "cell_type": "code",
   "execution_count": 59,
   "id": "db353696",
   "metadata": {},
   "outputs": [],
   "source": [
    "axon_D = 128"
   ]
  },
  {
   "cell_type": "code",
   "execution_count": 60,
   "id": "ce87ec06",
   "metadata": {},
   "outputs": [],
   "source": [
    "axon_embedder = StellarGraphNodeEmbedder(\n",
    "    \"node2vec\", length=5, number_of_walks=20,\n",
    "    epochs=5, embedding_dimension=axon_D, edge_weight=\"frequency\",\n",
    "    random_walk_p=2, random_walk_q=0.2)\n",
    "axon_embedding = axon_embedder.fit_model(axon_coprojection_frame)"
   ]
  },
  {
   "cell_type": "code",
   "execution_count": 61,
   "id": "c66502b6",
   "metadata": {
    "scrolled": false
   },
   "outputs": [
    {
     "data": {
      "image/png": "[encoded data removed]",
      "text/plain": [
       "<Figure size 504x504 with 1 Axes>"
      ]
     },
     "metadata": {
      "needs_background": "light"
     },
     "output_type": "display_data"
    }
   ],
   "source": [
    "axon_coprojection_frame.add_node_properties(\n",
    "    axon_embedding.rename(columns={\"embedding\": \"node2vec\"}))\n",
    "embedding_2d = transform_to_2d(axon_coprojection_frame._nodes[\"node2vec\"].tolist())\n",
    "plot_2d(frame, vectors=embedding_2d, label_prop=\"brainLocation_brainRegion_id\")"
   ]
  },
  {
   "cell_type": "markdown",
   "id": "a0a76a1e",
   "metadata": {},
   "source": [
    "Create and save the pipeline"
   ]
  },
  {
   "cell_type": "code",
   "execution_count": 62,
   "id": "e4260692",
   "metadata": {},
   "outputs": [
    {
     "name": "stdout",
     "output_type": "stream",
     "text": [
      "<faiss.swigfaiss_avx2.IndexIVFFlat; proxy of <Swig Object of type 'faiss::IndexIVFFlat *' at 0x7fa2822a3c30> >\n"
     ]
    },
    {
     "name": "stderr",
     "output_type": "stream",
     "text": [
      "/Users/oshurko/opt/anaconda3/envs/bg/lib/python3.7/site-packages/bluegraph/downstream/similarity.py:180: SimilarityWarning: Faiss segmented index is not trained, training on the provided vectors\n",
      "  SimilarityIndex.SimilarityWarning)\n"
     ]
    }
   ],
   "source": [
    "similarity_index = FaissSimilarityIndex(\n",
    "    dimension=axon_D, similarity=\"cosine\", n_segments=3)\n",
    "sim_processor = SimilarityProcessor(similarity_index)\n",
    "sim_processor.add(\n",
    "    axon_embedding[\"embedding\"].tolist(),\n",
    "    axon_embedding.index)\n",
    "\n",
    "pipeline = EmbeddingPipeline(\n",
    "    embedder=axon_embedder,\n",
    "    similarity_processor=sim_processor)\n",
    "\n",
    "pipeline.save(\"../../data/SEU_morph_axon_coproj_node2vec_cosine\", compress=True)"
   ]
  },
  {
   "cell_type": "markdown",
   "id": "90e6ba93",
   "metadata": {},
   "source": [
    "### Perform dendrite co-occurrence graph embedding"
   ]
  },
  {
   "cell_type": "code",
   "execution_count": 63,
   "id": "0da70f34",
   "metadata": {},
   "outputs": [],
   "source": [
    "dendrite_D = 100"
   ]
  },
  {
   "cell_type": "code",
   "execution_count": 64,
   "id": "b171e089",
   "metadata": {},
   "outputs": [],
   "source": [
    "dendrite_embedder = StellarGraphNodeEmbedder(\n",
    "    \"node2vec\", length=5, number_of_walks=20,\n",
    "    epochs=5, embedding_dimension=dendrite_D, edge_weight=\"frequency\",\n",
    "    random_walk_p=2, random_walk_q=0.2)\n",
    "dendrite_embedding = dendrite_embedder.fit_model(dendrite_coprojection_frame)"
   ]
  },
  {
   "cell_type": "code",
   "execution_count": 65,
   "id": "4f39aedb",
   "metadata": {},
   "outputs": [
    {
     "data": {
      "image/png": "[encoded data removed]",
      "text/plain": [
       "<Figure size 504x504 with 1 Axes>"
      ]
     },
     "metadata": {
      "needs_background": "light"
     },
     "output_type": "display_data"
    }
   ],
   "source": [
    "dendrite_coprojection_frame.add_node_properties(\n",
    "    dendrite_embedding.rename(columns={\"embedding\": \"node2vec\"}))\n",
    "embedding_2d = transform_to_2d(dendrite_coprojection_frame._nodes[\"node2vec\"].tolist())\n",
    "plot_2d(frame, vectors=embedding_2d, label_prop=\"brainLocation_brainRegion_id\")"
   ]
  },
  {
   "cell_type": "markdown",
   "id": "51b4a305",
   "metadata": {},
   "source": [
    "Create and save the pipeline"
   ]
  },
  {
   "cell_type": "code",
   "execution_count": 66,
   "id": "8b15ea92",
   "metadata": {},
   "outputs": [
    {
     "name": "stdout",
     "output_type": "stream",
     "text": [
      "<faiss.swigfaiss_avx2.IndexIVFFlat; proxy of <Swig Object of type 'faiss::IndexIVFFlat *' at 0x7fa266ee2150> >\n"
     ]
    },
    {
     "name": "stderr",
     "output_type": "stream",
     "text": [
      "/Users/oshurko/opt/anaconda3/envs/bg/lib/python3.7/site-packages/bluegraph/downstream/similarity.py:180: SimilarityWarning: Faiss segmented index is not trained, training on the provided vectors\n",
      "  SimilarityIndex.SimilarityWarning)\n"
     ]
    }
   ],
   "source": [
    "similarity_index = FaissSimilarityIndex(\n",
    "    dimension=dendrite_D, similarity=\"cosine\", n_segments=3)\n",
    "sim_processor = SimilarityProcessor(similarity_index)\n",
    "sim_processor.add(\n",
    "    dendrite_embedding[\"embedding\"].tolist(),\n",
    "    dendrite_embedding.index)\n",
    "\n",
    "pipeline = EmbeddingPipeline(\n",
    "    embedder=dendrite_embedder,\n",
    "    similarity_processor=sim_processor)\n",
    "\n",
    "pipeline.save(\"../../data/SEU_morph_dendrite_coproj_node2vec_cosine\", compress=True)"
   ]
  },
  {
   "cell_type": "markdown",
   "id": "31f05ca1",
   "metadata": {},
   "source": [
    "## 2. Create coordinate vectors"
   ]
  },
  {
   "cell_type": "code",
   "execution_count": 119,
   "id": "c9213aaa",
   "metadata": {},
   "outputs": [],
   "source": [
    "coordinate_df = pd.DataFrame(morphologies_df[\"id\"])"
   ]
  },
  {
   "cell_type": "code",
   "execution_count": 120,
   "id": "1fa4e672",
   "metadata": {},
   "outputs": [],
   "source": [
    "coordinate_df[\"coordinates\"] = pd.Series(full_df[[\n",
    "    \"brainLocation.coordinatesInBrainAtlas.valueX.value\",\n",
    "    \"brainLocation.coordinatesInBrainAtlas.valueY.value\",\n",
    "    \"brainLocation.coordinatesInBrainAtlas.valueZ.value\"\n",
    "]].values.tolist()).apply(lambda x: [float(el) for el in x])\n",
    "coordinate_df = coordinate_df.rename(columns={\"id\": \"@id\"})"
   ]
  },
  {
   "cell_type": "markdown",
   "id": "0b2ab724",
   "metadata": {},
   "source": [
    "Scale coordinates by dividing by the maximum value"
   ]
  },
  {
   "cell_type": "code",
   "execution_count": 121,
   "id": "f6c42a82",
   "metadata": {},
   "outputs": [],
   "source": [
    "coordinates = np.array(coordinate_df[\"coordinates\"].tolist())\n",
    "coordinate_df[\"coordinates\"] = (coordinates / coordinates.max()).tolist()"
   ]
  },
  {
   "cell_type": "code",
   "execution_count": 123,
   "id": "e783cc19",
   "metadata": {},
   "outputs": [],
   "source": [
    "coordinate_df = coordinate_df.set_index(\"@id\")"
   ]
  },
  {
   "cell_type": "code",
   "execution_count": 70,
   "id": "edd71b08",
   "metadata": {
    "scrolled": true
   },
   "outputs": [
    {
     "data": {
      "image/png": "[encoded data removed]",
      "text/plain": [
       "<Figure size 504x504 with 1 Axes>"
      ]
     },
     "metadata": {
      "needs_background": "light"
     },
     "output_type": "display_data"
    }
   ],
   "source": [
    "embedding_2d = transform_to_2d([[float(v) for v in el] for el in coordinate_df[\"coordinates\"].tolist()])\n",
    "plot_2d(frame, vectors=embedding_2d, label_prop=\"brainLocation_brainRegion_id\")"
   ]
  },
  {
   "cell_type": "code",
   "execution_count": 125,
   "id": "debd1dd2",
   "metadata": {},
   "outputs": [],
   "source": [
    "coordinates_frame = PandasPGFrame.from_frames(\n",
    "    nodes=coordinate_df, edges=pd.DataFrame())"
   ]
  },
  {
   "cell_type": "code",
   "execution_count": 137,
   "id": "c6b11462",
   "metadata": {},
   "outputs": [
    {
     "name": "stdout",
     "output_type": "stream",
     "text": [
      "<faiss.swigfaiss_avx2.IndexIVFFlat; proxy of <Swig Object of type 'faiss::IndexIVFFlat *' at 0x7fa25997fab0> >\n"
     ]
    },
    {
     "name": "stderr",
     "output_type": "stream",
     "text": [
      "/Users/oshurko/opt/anaconda3/envs/bg/lib/python3.7/site-packages/bluegraph/downstream/similarity.py:180: SimilarityWarning: Faiss segmented index is not trained, training on the provided vectors\n",
      "  SimilarityIndex.SimilarityWarning)\n"
     ]
    }
   ],
   "source": [
    "similarity_index = FaissSimilarityIndex(\n",
    "    dimension=3, similarity=\"euclidean\", n_segments=3)\n",
    "sim_processor = SimilarityProcessor(similarity_index)\n",
    "sim_processor.add(coordinate_df[\"coordinates\"].tolist(),\n",
    "                  coordinate_df.index)\n",
    "pipeline = EmbeddingPipeline(\n",
    "    preprocessor=None,\n",
    "    embedder=None,\n",
    "    similarity_processor=sim_processor)\n",
    "pipeline.save(\"../../data/SEU_morph_coordinates_euclidean\", compress=True)"
   ]
  },
  {
   "cell_type": "markdown",
   "id": "e845b61a",
   "metadata": {},
   "source": [
    "## 3. Create neurite feature vectors"
   ]
  },
  {
   "cell_type": "code",
   "execution_count": 78,
   "id": "0b681923",
   "metadata": {},
   "outputs": [],
   "source": [
    "neurite_features = pd.concat([nodes.reset_index()[\"@id\"], neurite_feature_df], axis=1).set_index(\"@id\")"
   ]
  },
  {
   "cell_type": "code",
   "execution_count": 79,
   "id": "7ff8ddfa",
   "metadata": {},
   "outputs": [],
   "source": [
    "neurite_frame = PandasPGFrame.from_frames(\n",
    "    nodes=neurite_features, edges=pd.DataFrame())"
   ]
  },
  {
   "cell_type": "code",
   "execution_count": 80,
   "id": "1aa17210",
   "metadata": {},
   "outputs": [],
   "source": [
    "for c in neurite_frame._nodes.columns:\n",
    "    try:\n",
    "        neurite_frame.node_prop_as_numeric(c)\n",
    "    except:\n",
    "        neurite_frame.node_prop_as_category(c)"
   ]
  },
  {
   "cell_type": "code",
   "execution_count": 81,
   "id": "e2992c2e",
   "metadata": {},
   "outputs": [],
   "source": [
    "encoder = ScikitLearnPGEncoder(\n",
    "    node_properties=neurite_frame.node_properties(),\n",
    "    missing_numeric=\"impute\",\n",
    "    imputation_strategy=\"mean\")\n",
    "encoded_frame = encoder.fit_transform(neurite_frame)"
   ]
  },
  {
   "cell_type": "code",
   "execution_count": 82,
   "id": "ede90e96",
   "metadata": {},
   "outputs": [],
   "source": [
    "neurite_features = encoded_frame._nodes.rename(\n",
    "    columns={\"features\": \"neurite_features\"})"
   ]
  },
  {
   "cell_type": "code",
   "execution_count": 83,
   "id": "b161b503",
   "metadata": {},
   "outputs": [],
   "source": [
    "data = np.array(neurite_features[\"neurite_features\"].tolist())\n",
    "neurite_features[\"neurite_features\"] = (data / data.max()).tolist()"
   ]
  },
  {
   "cell_type": "code",
   "execution_count": 84,
   "id": "6bc3c599",
   "metadata": {},
   "outputs": [],
   "source": [
    "neurite_dim = len(neurite_features[\"neurite_features\"].iloc[0])"
   ]
  },
  {
   "cell_type": "code",
   "execution_count": 85,
   "id": "3d8f37e3",
   "metadata": {},
   "outputs": [
    {
     "data": {
      "image/png": "[encoded data removed]",
      "text/plain": [
       "<Figure size 504x504 with 1 Axes>"
      ]
     },
     "metadata": {
      "needs_background": "light"
     },
     "output_type": "display_data"
    }
   ],
   "source": [
    "embedding_2d = transform_to_2d(encoded_frame._nodes[\"features\"].tolist())\n",
    "plot_2d(frame, vectors=embedding_2d, label_prop=\"brainLocation_brainRegion_id\")"
   ]
  },
  {
   "cell_type": "code",
   "execution_count": 86,
   "id": "fb447225",
   "metadata": {},
   "outputs": [
    {
     "name": "stdout",
     "output_type": "stream",
     "text": [
      "<faiss.swigfaiss_avx2.IndexIVFFlat; proxy of <Swig Object of type 'faiss::IndexIVFFlat *' at 0x7fa266ee2570> >\n"
     ]
    },
    {
     "name": "stderr",
     "output_type": "stream",
     "text": [
      "/Users/oshurko/opt/anaconda3/envs/bg/lib/python3.7/site-packages/bluegraph/downstream/similarity.py:180: SimilarityWarning: Faiss segmented index is not trained, training on the provided vectors\n",
      "  SimilarityIndex.SimilarityWarning)\n"
     ]
    }
   ],
   "source": [
    "similarity_index = FaissSimilarityIndex(\n",
    "    dimension=neurite_dim, similarity=\"euclidean\", n_segments=3)\n",
    "sim_processor = SimilarityProcessor(similarity_index)\n",
    "sim_processor.add(neurite_features[\"neurite_features\"].tolist(),\n",
    "                  neurite_features.index)\n",
    "pipeline = EmbeddingPipeline(\n",
    "    preprocessor=encoder,\n",
    "    embedder=None,\n",
    "    similarity_processor=sim_processor)\n",
    "pipeline.save(\"../../data/SEU_morph_neurite_features_euclidean\", compress=True)"
   ]
  },
  {
   "cell_type": "markdown",
   "id": "07bc2341",
   "metadata": {},
   "source": [
    "## 4. Perform ontology-based hierarchical brain region embedding"
   ]
  },
  {
   "cell_type": "markdown",
   "id": "fd5b4755",
   "metadata": {},
   "source": [
    "Load Allen CCF v3 Mouse Brain Atlas"
   ]
  },
  {
   "cell_type": "code",
   "execution_count": 90,
   "id": "a25598c0",
   "metadata": {},
   "outputs": [],
   "source": [
    "with open(\"../../data/1.json\", \"r\") as f:\n",
    "    allen_hierarchy = json.load(f)"
   ]
  },
  {
   "cell_type": "code",
   "execution_count": 91,
   "id": "f33fc8cc",
   "metadata": {},
   "outputs": [],
   "source": [
    "allen_hierarchy = allen_hierarchy[\"msg\"]"
   ]
  },
  {
   "cell_type": "markdown",
   "id": "4b17cfc3",
   "metadata": {},
   "source": [
    "Create a property graph from the loaded hierarchy"
   ]
  },
  {
   "cell_type": "code",
   "execution_count": 92,
   "id": "2713fe09",
   "metadata": {
    "scrolled": true
   },
   "outputs": [],
   "source": [
    "def _get_children(hierarchy, edges, father=None):\n",
    "    for child in hierarchy['children']:\n",
    "        acronym = child[\"acronym\"]\n",
    "        if father:\n",
    "            edges.append((acronym, father))\n",
    "        _get_children(child, edges, acronym)\n",
    "\n",
    "allen_edges = []\n",
    "_get_children(allen_hierarchy[0], allen_edges)"
   ]
  },
  {
   "cell_type": "code",
   "execution_count": 93,
   "id": "0b709b4a",
   "metadata": {},
   "outputs": [],
   "source": [
    "nodes = list(set([\n",
    "    s for el in allen_edges for s in el\n",
    "]))"
   ]
  },
  {
   "cell_type": "code",
   "execution_count": 94,
   "id": "2d7b76a2",
   "metadata": {},
   "outputs": [],
   "source": [
    "allen_ccfv3_frame = PandasPGFrame()\n",
    "allen_ccfv3_frame.add_nodes(nodes)\n",
    "allen_ccfv3_frame.add_edges(allen_edges)"
   ]
  },
  {
   "cell_type": "markdown",
   "id": "75aef1b8",
   "metadata": {},
   "source": [
    "Train a Poincare embedding model for the hierarchy"
   ]
  },
  {
   "cell_type": "code",
   "execution_count": 95,
   "id": "7690af31",
   "metadata": {},
   "outputs": [],
   "source": [
    "embedder = GensimNodeEmbedder(\"poincare\", size=32, negative=2, epochs=100)\n",
    "embedding = embedder.fit_model(allen_ccfv3_frame)"
   ]
  },
  {
   "cell_type": "code",
   "execution_count": 114,
   "id": "17d31a4f",
   "metadata": {},
   "outputs": [],
   "source": [
    "np.savetxt(\"brain_region_embs.tsv\", np.array(embedding[\"embedding\"].tolist()), delimiter=\"\\t\")"
   ]
  },
  {
   "cell_type": "code",
   "execution_count": 96,
   "id": "499db84a",
   "metadata": {},
   "outputs": [],
   "source": [
    "brain_region_D = embedding[\"embedding\"].iloc[0].shape[0]"
   ]
  },
  {
   "cell_type": "code",
   "execution_count": 118,
   "id": "dfa52c5b",
   "metadata": {},
   "outputs": [],
   "source": [
    "df = embedding.reset_index()[[\"@id\"]]\n",
    "df[\"label\"] = df[\"@id\"]\n",
    "df.to_csv(\"brain_region_meta.tsv\", sep=\"\\t\", index=None)"
   ]
  },
  {
   "cell_type": "code",
   "execution_count": 97,
   "id": "9064c0ef",
   "metadata": {},
   "outputs": [
    {
     "data": {
      "image/png": "[encoded data removed]",
      "text/plain": [
       "<Figure size 504x504 with 1 Axes>"
      ]
     },
     "metadata": {
      "needs_background": "light"
     },
     "output_type": "display_data"
    }
   ],
   "source": [
    "embedding_2d = transform_to_2d(embedding[\"embedding\"].tolist())\n",
    "plot_2d(allen_ccfv3_frame, vectors=embedding_2d)"
   ]
  },
  {
   "cell_type": "code",
   "execution_count": 98,
   "id": "d3f47627",
   "metadata": {},
   "outputs": [],
   "source": [
    "brain_region_embedding = frame._nodes[\"brainLocation_brainRegion_id\"].apply(\n",
    "    lambda x: embedding.loc[x])"
   ]
  },
  {
   "cell_type": "code",
   "execution_count": 99,
   "id": "14ffda9d",
   "metadata": {},
   "outputs": [],
   "source": [
    "brain_region_embedding_frame = PandasPGFrame.from_frames(\n",
    "    nodes=brain_region_embedding, edges=pd.DataFrame())"
   ]
  },
  {
   "cell_type": "code",
   "execution_count": 100,
   "id": "5f2d5256",
   "metadata": {},
   "outputs": [],
   "source": [
    "similarity_index = ScikitLearnSimilarityIndex(\n",
    "    dimension=brain_region_D, similarity=\"euclidean\",\n",
    "    initial_vectors=brain_region_embedding[\"embedding\"].tolist())\n",
    "sim_processor = SimilarityProcessor(\n",
    "    similarity_index, brain_region_embedding.index)\n",
    "pipeline = EmbeddingPipeline(\n",
    "    preprocessor=None,\n",
    "    embedder=None,\n",
    "    similarity_processor=sim_processor)\n",
    "pipeline.save(\"../../data/SEU_morph_brain_region_poincare\", compress=True)"
   ]
  },
  {
   "cell_type": "markdown",
   "id": "fbf144fd",
   "metadata": {},
   "source": [
    "# III. Register/update the models into the model catalog"
   ]
  },
  {
   "cell_type": "code",
   "execution_count": 132,
   "id": "ac66f70a",
   "metadata": {},
   "outputs": [],
   "source": [
    "forge = KnowledgeGraphForge(\n",
    "    \"../../configs/new-forge-config.yaml\",\n",
    "    endpoint=\"https://bbp.epfl.ch/nexus/v1\",\n",
    "    token=TOKEN,\n",
    "    bucket=\"dke/embedding-pipelines\")"
   ]
  },
  {
   "cell_type": "code",
   "execution_count": 133,
   "id": "264edb63",
   "metadata": {},
   "outputs": [],
   "source": [
    "agent = get_agent(TOKEN)"
   ]
  },
  {
   "cell_type": "code",
   "execution_count": 105,
   "id": "8b9b961f",
   "metadata": {},
   "outputs": [
    {
     "name": "stdout",
     "output_type": "stream",
     "text": [
      "Model exists, updating...\n",
      "<action> _update_one\n",
      "<succeeded> True\n"
     ]
    }
   ],
   "source": [
    "axon_model_resource = push_model(\n",
    "    forge, agent, \"SEU NeuronMorphology Axon Co-Projection Embedding\",\n",
    "    \"Node embedding model (node2vec) built on an axon co-projection graph extracted from the SEU neuron morphology dataset resources\",\n",
    "    \"Axon projection\",\n",
    "    \"../../data/SEU_morph_axon_coproj_node2vec_cosine.zip\", \"cosine\",\n",
    "    axon_D)"
   ]
  },
  {
   "cell_type": "code",
   "execution_count": 106,
   "id": "6f1cd1e3",
   "metadata": {},
   "outputs": [
    {
     "name": "stdout",
     "output_type": "stream",
     "text": [
      "Model exists, updating...\n",
      "<action> _update_one\n",
      "<succeeded> True\n"
     ]
    }
   ],
   "source": [
    "dendrite_model_resource = push_model(\n",
    "    forge, agent, \"SEU NeuronMorphology Dendrite Co-Projection Embedding\",\n",
    "    \"Node embedding model (node2vec) built on a dendrite co-projection graph extracted from the SEU neuron morphology dataset resources\",\n",
    "    \"Dendrite projection\",\n",
    "    \"../../data/SEU_morph_dendrite_coproj_node2vec_cosine.zip\", \"cosine\",\n",
    "    dendrite_D)"
   ]
  },
  {
   "cell_type": "code",
   "execution_count": 138,
   "id": "feb5b776",
   "metadata": {},
   "outputs": [
    {
     "name": "stdout",
     "output_type": "stream",
     "text": [
      "Model exists, updating...\n",
      "<action> _update_one\n",
      "<succeeded> True\n"
     ]
    }
   ],
   "source": [
    "coordinates_model_resource = push_model(\n",
    "    forge, agent, \"SEU NeuronMorphology Coordinates\",\n",
    "    \"Coordinate similarity of SEU neuron morphology dataset resources\",\n",
    "    \"Coordinates\",\n",
    "    \"../../data/SEU_morph_coordinates_euclidean.zip\", \"euclidean\",\n",
    "    3)"
   ]
  },
  {
   "cell_type": "code",
   "execution_count": 108,
   "id": "149e3423",
   "metadata": {},
   "outputs": [
    {
     "name": "stdout",
     "output_type": "stream",
     "text": [
      "Model exists, updating...\n",
      "<action> _update_one\n",
      "<succeeded> True\n"
     ]
    }
   ],
   "source": [
    "neurite_features_model_resource = push_model(\n",
    "    forge, agent, \"SEU NeuronMorphology Neurite Features\",\n",
    "    \"Feature encoding model built for neurite features from the SEU neuron morphology dataset resources\",\n",
    "    \"Neurite features\",\n",
    "    \"../../data/SEU_morph_neurite_features_euclidean.zip\", \"euclidean\", neurite_dim)"
   ]
  },
  {
   "cell_type": "code",
   "execution_count": 109,
   "id": "02a130e5",
   "metadata": {},
   "outputs": [
    {
     "name": "stdout",
     "output_type": "stream",
     "text": [
      "Model exists, updating...\n",
      "<action> _update_one\n",
      "<succeeded> True\n"
     ]
    }
   ],
   "source": [
    "brain_region_model_resource = push_model(\n",
    "    forge, agent, \"SEU NeuronMorphology Brain Region Embedding\",\n",
    "    \"Poincare node embedding of brain regions in Allen CCFv3 of the SEU neuron morphology dataset resources\",\n",
    "    \"Brain regions (CCfv3)\",\n",
    "    \"../../data/SEU_morph_brain_region_poincare.zip\", \"poincare\", brain_region_D)"
   ]
  }
 ],
 "metadata": {
  "kernelspec": {
   "display_name": "bg",
   "language": "python",
   "name": "bg"
  },
  "language_info": {
   "codemirror_mode": {
    "name": "ipython",
    "version": 3
   },
   "file_extension": ".py",
   "mimetype": "text/x-python",
   "name": "python",
   "nbconvert_exporter": "python",
   "pygments_lexer": "ipython3",
   "version": "3.7.10"
  }
 },
 "nbformat": 4,
 "nbformat_minor": 5
}
