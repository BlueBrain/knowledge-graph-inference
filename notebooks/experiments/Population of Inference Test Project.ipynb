{
 "cells": [
  {
   "cell_type": "code",
   "execution_count": 10,
   "id": "ad2d3d17",
   "metadata": {},
   "outputs": [],
   "source": [
    "import matplotlib.pyplot as plt"
   ]
  },
  {
   "cell_type": "code",
   "execution_count": 11,
   "id": "51551675",
   "metadata": {},
   "outputs": [],
   "source": [
    "from string import Template\n",
    "\n",
    "import numpy as np\n",
    "\n",
    "import getpass\n",
    "\n",
    "from kgforge.core import KnowledgeGraphForge"
   ]
  },
  {
   "cell_type": "code",
   "execution_count": 12,
   "id": "3d461216",
   "metadata": {},
   "outputs": [],
   "source": [
    "def vectors_to_resources(forge, vectors, resources, model_id):\n",
    "    jsons = []\n",
    "    for i, v in enumerate(vectors):\n",
    "        json_repr = {\n",
    "            \"@type\": [\"Entity\", \"Embedding\"],\n",
    "            \"derivation\": {\n",
    "                \"@type\": \"Derivation\",\n",
    "                \"entity\": {\n",
    "                  \"@id\": resources[i],\n",
    "                  \"@type\": \"Entity\"\n",
    "                }\n",
    "            },\n",
    "            \"embedding\": v.tolist(),\n",
    "            \"generation\": {\n",
    "                \"@type\": \"Generation\",\n",
    "                \"activity\": {\n",
    "                  \"@type\": [\n",
    "                    \"Activity\",\n",
    "                    \"EmbeddingActivity\"\n",
    "                  ],\n",
    "                  \"used\": {\n",
    "                    \"@id\": model_id,\n",
    "                    \"@type\": \"EmbeddingModel\",\n",
    "                  }\n",
    "                }\n",
    "            },\n",
    "            \"name\": f\"Embedding of {resources[i]}\"\n",
    "        }\n",
    "        jsons.append(json_repr)\n",
    "    return forge.from_json(jsons)"
   ]
  },
  {
   "cell_type": "code",
   "execution_count": 13,
   "id": "5c299817",
   "metadata": {},
   "outputs": [
    {
     "name": "stdout",
     "output_type": "stream",
     "text": [
      "········\n"
     ]
    }
   ],
   "source": [
    "TOKEN = getpass.getpass()"
   ]
  },
  {
   "cell_type": "code",
   "execution_count": 14,
   "id": "088d0fac",
   "metadata": {},
   "outputs": [],
   "source": [
    "forge = KnowledgeGraphForge(\n",
    "    \"../dataset-embeddings/configs/new-forge-config.yaml\",\n",
    "    endpoint=\"https://staging.nexus.ocp.bbp.epfl.ch/v1\",\n",
    "    token=TOKEN, \n",
    "    bucket=\"dke/inference-test\")"
   ]
  },
  {
   "cell_type": "markdown",
   "id": "fa0e25ee",
   "metadata": {},
   "source": [
    "## Populate brain regions"
   ]
  },
  {
   "cell_type": "code",
   "execution_count": 214,
   "id": "e0c8b136",
   "metadata": {},
   "outputs": [
    {
     "name": "stdout",
     "output_type": "stream",
     "text": [
      "<count> 6\n",
      "<action> _register_many\n",
      "<succeeded> True\n"
     ]
    }
   ],
   "source": [
    "brain_region = {\n",
    "  \"@context\": \"https://neuroshapes.org\",\n",
    "  \"@id\": \"https://neuroshapes.org/BrainRegion\",\n",
    "  \"@type\": \"Class\",\n",
    "  \"altLabel\": \"regional part of the brain\",\n",
    "  \"definition\": \"Anatomical divisons of the brain according to one or more criteria, e.g. cytoarchitectural, gross anatomy. Parts may be contiguous in 3D or not, e.g., basal ganglia.\",\n",
    "  \"isDefinedBy\": \"https://bbp.epfl.ch/ontologies/core/bmo\",\n",
    "  \"label\": \"Brain Region\",\n",
    "}\n",
    "isocortex = {\n",
    "  \"@id\": \"http://api.brain-map.org/api/v2/data/Structure/315\",\n",
    "  \"@type\": \"Class\",\n",
    "  \"atlas_id\": 746,\n",
    "  \"color_hex_triplet\": \"70FF71\",\n",
    "  \"graph_order\": 5,\n",
    "  \"hemisphere_id\": 3,\n",
    "  \"identifier\": \"315\",\n",
    "  \"isDefinedBy\": \"http://bbp.epfl.ch/neurosciencegraph/ontologies/mba\",\n",
    "  \"isPartOf\": \"mba:695\",\n",
    "  \"label\": \"Isocortex\",\n",
    "  \"notation\": \"Isocortex\",\n",
    "  \"prefLabel\": \"Isocortex\",\n",
    "  \"st_level\": 5,\n",
    "  \"subClassOf\": \"https://neuroshapes.org/BrainRegion\"\n",
    "}\n",
    "\n",
    "ILA = {\n",
    "  \"@id\": \"http://api.brain-map.org/api/v2/data/Structure/44\",\n",
    "  \"@type\": \"Class\",\n",
    "  \"atlas_id\": 146,\n",
    "  \"color_hex_triplet\": \"59B363\",\n",
    "  \"graph_order\": 245,\n",
    "  \"hemisphere_id\": 3,\n",
    "  \"identifier\": \"44\",\n",
    "  \"isDefinedBy\": \"http://bbp.epfl.ch/neurosciencegraph/ontologies/mba\",\n",
    "  \"isPartOf\": \"http://api.brain-map.org/api/v2/data/Structure/315\",\n",
    "  \"label\": \"Infralimbic area\",\n",
    "  \"notation\": \"ILA\",\n",
    "  \"prefLabel\": \"Infralimbic area\",\n",
    "  \"st_level\": 8,\n",
    "  \"subClassOf\": \"nsg:BrainRegion\"\n",
    "}\n",
    "\n",
    "PTLp = {\n",
    "  \"@id\": \"http://api.brain-map.org/api/v2/data/Structure/22\",\n",
    "  \"@type\": \"Class\",\n",
    "  \"atlas_id\": 285,\n",
    "  \"color_hex_triplet\": \"009FAC\",\n",
    "  \"graph_order\": 339,\n",
    "  \"hemisphere_id\": 3,\n",
    "  \"identifier\": \"22\",\n",
    "  \"isDefinedBy\": \"http://bbp.epfl.ch/neurosciencegraph/ontologies/mba\",\n",
    "  \"isPartOf\": \"http://api.brain-map.org/api/v2/data/Structure/315\",\n",
    "  \"label\": \"Posterior parietal association areas\",\n",
    "  \"notation\": \"PTLp\",\n",
    "  \"prefLabel\": \"Posterior parietal association areas\",\n",
    "  \"st_level\": 6,\n",
    "  \"subClassOf\": \"nsg:BrainRegion\"\n",
    "}\n",
    "\n",
    "ACA = {\n",
    "  \"@id\": \"http://api.brain-map.org/api/v2/data/Structure/31\",\n",
    "  \"@type\": \"Class\",\n",
    "  \"atlas_id\": 3,\n",
    "  \"color_hex_triplet\": \"40A666\",\n",
    "  \"graph_order\": 220,\n",
    "  \"hemisphere_id\": 3,\n",
    "  \"identifier\": \"31\",\n",
    "  \"isDefinedBy\": \"http://bbp.epfl.ch/neurosciencegraph/ontologies/mba\",\n",
    "  \"isPartOf\": \"http://api.brain-map.org/api/v2/data/Structure/315\",\n",
    "  \"label\": \"Anterior cingulate area\",\n",
    "  \"notation\": \"ACA\",\n",
    "  \"prefLabel\": \"Anterior cingulate area\",\n",
    "  \"st_level\": 8,\n",
    "  \"subClassOf\": \"nsg:BrainRegion\"\n",
    "}\n",
    "\n",
    "ACAv = {\n",
    "  \"@id\": \"http://api.brain-map.org/api/v2/data/Structure/48\",\n",
    "  \"@type\": \"Class\",\n",
    "  \"atlas_id\": 5,\n",
    "  \"color_hex_triplet\": \"40A666\",\n",
    "  \"graph_order\": 232,\n",
    "  \"hemisphere_id\": 3,\n",
    "  \"identifier\": \"48\",\n",
    "  \"isDefinedBy\": \"http://bbp.epfl.ch/neurosciencegraph/ontologies/mba\",\n",
    "  \"isPartOf\": \"http://api.brain-map.org/api/v2/data/Structure/31\",\n",
    "  \"label\": \"Anterior cingulate area, ventral part\",\n",
    "  \"notation\": \"ACAv\",\n",
    "  \"prefLabel\": \"Anterior cingulate area, ventral part\",\n",
    "  \"st_level\": 9,\n",
    "  \"subClassOf\": \"nsg:BrainRegion\"\n",
    "}\n",
    "\n",
    "thalamus = {\n",
    "  \"@id\": \"http://api.brain-map.org/api/v2/data/Structure/549\",\n",
    "  \"@type\": \"Class\",\n",
    "  \"atlas_id\": 351,\n",
    "  \"color_hex_triplet\": \"FF7080\",\n",
    "  \"graph_order\": 641,\n",
    "  \"hemisphere_id\": 3,\n",
    "  \"identifier\": \"549\",\n",
    "  \"isDefinedBy\": \"http://bbp.epfl.ch/neurosciencegraph/ontologies/mba\",\n",
    "  \"isPartOf\": \"mba:1129\",\n",
    "  \"label\": \"Thalamus\",\n",
    "  \"notation\": \"TH\",\n",
    "  \"prefLabel\": \"Thalamus\",\n",
    "  \"st_level\": 5,\n",
    "  \"subClassOf\": \"nsg:BrainRegion\"\n",
    "}"
   ]
  },
  {
   "cell_type": "code",
   "execution_count": null,
   "id": "0fe1fb2a",
   "metadata": {},
   "outputs": [],
   "source": [
    "# brain_region_resources = [brain_region, thalamus, isocortex, ILA, PTLp, ACA, ACAv]\n",
    "# forge.register(forge.from_json(brain_region_resources))"
   ]
  },
  {
   "cell_type": "code",
   "execution_count": 294,
   "id": "59fb311d",
   "metadata": {},
   "outputs": [],
   "source": [
    "model_id = \"https://bbp.epfl.ch/neurosciencegraph/data/BrainRegionEmbeddingModel\"\n",
    "brain_region_model = {\n",
    "    \"@id\": model_id,\n",
    "    \"@type\": \"EmbeddingModel\",\n",
    "    \"name\": \"Brain Region Hierarchical Embedding Model\",\n",
    "    \"prefLabel\": \"Brain region model\",\n",
    "    \"similarity\": \"euclidean\",\n",
    "    \"vectorDimension\": 2\n",
    "}"
   ]
  },
  {
   "cell_type": "code",
   "execution_count": 281,
   "id": "0f5fabb6",
   "metadata": {},
   "outputs": [
    {
     "name": "stdout",
     "output_type": "stream",
     "text": [
      "<action> _register_one\n",
      "<succeeded> True\n"
     ]
    }
   ],
   "source": [
    "forge.register(forge.from_json(brain_region_model))"
   ]
  },
  {
   "cell_type": "code",
   "execution_count": 282,
   "id": "69ae8b4f",
   "metadata": {},
   "outputs": [
    {
     "data": {
      "image/png": "[encoded data removed]",
      "text/plain": [
       "<Figure size 432x288 with 1 Axes>"
      ]
     },
     "metadata": {
      "needs_background": "light"
     },
     "output_type": "display_data"
    }
   ],
   "source": [
    "regions = [\n",
    "    \"https://neuroshapes.org/BrainRegion\",\n",
    "    \"http://api.brain-map.org/api/v2/data/Structure/315\",\n",
    "    \"http://api.brain-map.org/api/v2/data/Structure/44\", \n",
    "    \"http://api.brain-map.org/api/v2/data/Structure/22\",\n",
    "    \"http://api.brain-map.org/api/v2/data/Structure/31\",\n",
    "    \"http://api.brain-map.org/api/v2/data/Structure/48\",\n",
    "    \"http://api.brain-map.org/api/v2/data/Structure/549\"\n",
    "]\n",
    "region_embeddings = np.array([\n",
    "    [2, 1],\n",
    "    [3, 2],\n",
    "    [3.2, 2.8], \n",
    "    [3.8, 1.8],\n",
    "    [2.8, 3.2],\n",
    "    [2.6, 3],\n",
    "    [1, 2]\n",
    "])\n",
    "plt.scatter(region_embeddings[:, 0], region_embeddings[:, 1])\n",
    "plt.show()"
   ]
  },
  {
   "cell_type": "code",
   "execution_count": 289,
   "id": "e8bae4a3",
   "metadata": {},
   "outputs": [
    {
     "name": "stdout",
     "output_type": "stream",
     "text": [
      "<count> 7\n",
      "<action> _register_many\n",
      "<succeeded> True\n"
     ]
    }
   ],
   "source": [
    "resources = vectors_to_resources(\n",
    "    forge, region_embeddings, regions, model_id)\n",
    "forge.register(resources)\n",
    "forge.tag(resources, model_id.split(\"/\")[-1])"
   ]
  },
  {
   "cell_type": "markdown",
   "id": "9fa4444d",
   "metadata": {},
   "source": [
    "## Populate MTypes"
   ]
  },
  {
   "cell_type": "code",
   "execution_count": 226,
   "id": "ee5b0066",
   "metadata": {},
   "outputs": [],
   "source": [
    "mtype = {\n",
    "  \"@id\": \"https://neuroshapes.org/MType\",\n",
    "  \"@type\": \"Class\",\n",
    "  \"isDefinedBy\": \"http://bbp.epfl.ch/neurosciencegraph/ontologies/mtypes\",\n",
    "  \"label\": \"Neuron Morphological Type\",\n",
    "}\n",
    "\n",
    "pc = {\n",
    "  \"@id\": \"https://neuroshapes.org/PyramidalNeuron\",\n",
    "  \"@type\": \"Class\",\n",
    "  \"isDefinedBy\": \"http://bbp.epfl.ch/neurosciencegraph/ontologies/mtypes\",\n",
    "  \"label\": \"Pyramidal neuron\",\n",
    "  \"notation\": \"Pyr\",\n",
    "  \"prefLabel\": \"Pyramidal neuron\",\n",
    "  \"subClassOf\": \"https://neuroshapes.org/MType\"\n",
    "}\n",
    "\n",
    "tpc = {\n",
    "  \"@id\": \"https://neuroshapes.org/TufterdPyramidalNeuron\",\n",
    "  \"@type\": \"Class\",\n",
    "  \"isDefinedBy\": \"http://bbp.epfl.ch/neurosciencegraph/ontologies/mtypes\",\n",
    "  \"label\": \"Tufterd Pyramidal Neuron\",\n",
    "  \"notation\": \"TPyr\",\n",
    "  \"prefLabel\": \"Tufterd Pyramidal Neuron\",\n",
    "  \"subClassOf\": \"https://neuroshapes.org/PyramidalNeuron\"\n",
    "}\n",
    "\n",
    "upc = {\n",
    "  \"@id\": \"https://neuroshapes.org/UntufterdPyramidalNeuron\",\n",
    "  \"@type\": \"Class\",\n",
    "  \"isDefinedBy\": \"http://bbp.epfl.ch/neurosciencegraph/ontologies/mtypes\",\n",
    "  \"label\": \"Untufterd Pyramidal Neuron\",\n",
    "  \"notation\": \"UPyr\",\n",
    "  \"prefLabel\": \"Untufterd Pyramidal Neuron\",\n",
    "  \"subClassOf\": \"https://neuroshapes.org/PyramidalNeuron\"\n",
    "}\n",
    "\n",
    "l5_upc = {\n",
    "  \"@id\": \"http://uri.interlex.org/base/ilx_0381371\",\n",
    "  \"@type\": \"Class\",\n",
    "  \"isDefinedBy\": \"http://bbp.epfl.ch/neurosciencegraph/ontologies/mtypes\",\n",
    "  \"label\": \"L5_UPC\",\n",
    "  \"notation\": \"L5_UPC\",\n",
    "  \"prefLabel\": \"Layer 5 Untufted Pyramidal Cell\",\n",
    "  \"subClassOf\": \"https://neuroshapes.org/UntufterdPyramidalNeuron\"\n",
    "}\n",
    "\n",
    "l6_upc = {\n",
    "  \"@id\": \"http://uri.interlex.org/base/ilx_0381377\",\n",
    "  \"@type\": \"Class\",\n",
    "  \"isDefinedBy\": \"http://bbp.epfl.ch/neurosciencegraph/ontologies/mtypes\",\n",
    "  \"label\": \"L6_UPC\",\n",
    "  \"notation\": \"L6_UPC\",\n",
    "  \"prefLabel\": \"Layer 6 Untufted Pyramidal Cell\",\n",
    "  \"subClassOf\": \"https://neuroshapes.org/UntufterdPyramidalNeuron\"\n",
    "}\n",
    "\n",
    "\n",
    "mc = {\n",
    "  \"@id\": \"https://neuroshapes.org/MartinottiCell\",\n",
    "  \"@type\": \"Class\",\n",
    "  \"isDefinedBy\": \"http://bbp.epfl.ch/neurosciencegraph/ontologies/mtypes\",\n",
    "  \"label\": \"Martinotti Cell\",\n",
    "  \"notation\": \"MC\",\n",
    "  \"prefLabel\": \"Martinotti Cell\",\n",
    "  \"subClassOf\": \"https://neuroshapes.org/MType\"\n",
    "}\n",
    "\n",
    "vpl_in = {\n",
    "  \"@id\": \"http://uri.interlex.org/base/ilx_0738235\",\n",
    "  \"@type\": \"Class\",\n",
    "  \"isDefinedBy\": \"http://bbp.epfl.ch/neurosciencegraph/ontologies/mtypes\",\n",
    "  \"label\": \"VPL_IN\",\n",
    "  \"notation\": \"VPL_IN\",\n",
    "  \"prefLabel\": \"Ventral posterolateral nucleus of the thalamus interneuron\",\n",
    "  \"subClassOf\": \"https://neuroshapes.org/MType\"\n",
    "}"
   ]
  },
  {
   "cell_type": "code",
   "execution_count": 222,
   "id": "26c670fd",
   "metadata": {},
   "outputs": [
    {
     "name": "stdout",
     "output_type": "stream",
     "text": [
      "<count> 6\n",
      "<action> _register_many\n",
      "<succeeded> True\n"
     ]
    }
   ],
   "source": [
    "# mtype_resources = [mtype, pc, mc, upc, tpc, l5_upc, l6_upc]\n",
    "# forge.register(forge.from_json(mtype_resources))"
   ]
  },
  {
   "cell_type": "code",
   "execution_count": 301,
   "id": "6927f0a4",
   "metadata": {},
   "outputs": [],
   "source": [
    "model_id = \"https://bbp.epfl.ch/neurosciencegraph/data/MTypeEmbeddingModel\"\n",
    "mtype_model = {\n",
    "    \"@id\": model_id,\n",
    "    \"@type\": \"EmbeddingModel\",\n",
    "    \"name\": \"MType Embedding Model\",\n",
    "    \"prefLabel\": \"MType model\",\n",
    "    \"similarity\": \"euclidean\",\n",
    "    \"vectorDimension\": 2\n",
    "}"
   ]
  },
  {
   "cell_type": "code",
   "execution_count": 292,
   "id": "e57a632a",
   "metadata": {},
   "outputs": [
    {
     "name": "stdout",
     "output_type": "stream",
     "text": [
      "<action> _register_one\n",
      "<succeeded> True\n"
     ]
    }
   ],
   "source": [
    "forge.register(forge.from_json(mtype_model))"
   ]
  },
  {
   "cell_type": "code",
   "execution_count": 260,
   "id": "bcfbf91e",
   "metadata": {},
   "outputs": [
    {
     "data": {
      "image/png": "[encoded data removed]",
      "text/plain": [
       "<Figure size 432x288 with 1 Axes>"
      ]
     },
     "metadata": {
      "needs_background": "light"
     },
     "output_type": "display_data"
    }
   ],
   "source": [
    "mtypes = [\n",
    "    \"https://neuroshapes.org/MType\",\n",
    "    \"https://neuroshapes.org/PyramidalNeuron\",\n",
    "    \"https://neuroshapes.org/TufterdPyramidalNeuron\", \n",
    "    \"https://neuroshapes.org/UntufterdPyramidalNeuron\",\n",
    "    \"http://uri.interlex.org/base/ilx_0381371\",\n",
    "    \"http://uri.interlex.org/base/ilx_0381377\",\n",
    "    \"https://neuroshapes.org/MartinottiCell\",\n",
    "    \"http://uri.interlex.org/base/ilx_0738235\"\n",
    "]\n",
    "mtype_embeddings = np.array([\n",
    "    [0, 0],\n",
    "    [0.5, 2.5],\n",
    "    [1, 4],\n",
    "    [0.5, 3.8],\n",
    "    [0.4, 4.3],\n",
    "    [0.6, 4.5],\n",
    "    [1, 1.5],\n",
    "    [2, 0]\n",
    "])\n",
    "plt.scatter(mtype_embeddings[:, 0], mtype_embeddings[:, 1])\n",
    "plt.show()"
   ]
  },
  {
   "cell_type": "code",
   "execution_count": 293,
   "id": "f74adf82",
   "metadata": {},
   "outputs": [
    {
     "name": "stdout",
     "output_type": "stream",
     "text": [
      "<count> 8\n",
      "<action> _register_many\n",
      "<succeeded> True\n"
     ]
    }
   ],
   "source": [
    "resources = vectors_to_resources(\n",
    "    forge, mtype_embeddings, mtypes, model_id)\n",
    "forge.register(resources)\n",
    "forge.tag(resources, model_id.split(\"/\")[-1])"
   ]
  },
  {
   "cell_type": "markdown",
   "id": "e29e24e2",
   "metadata": {},
   "source": [
    "## Add species"
   ]
  },
  {
   "cell_type": "code",
   "execution_count": 309,
   "id": "783cee0a",
   "metadata": {},
   "outputs": [
    {
     "name": "stdout",
     "output_type": "stream",
     "text": [
      "<count> 1\n",
      "<action> _register_many\n",
      "<succeeded> True\n"
     ]
    }
   ],
   "source": [
    "species = {\n",
    "  \"@id\": \"https://neuroshapes.org/Species\",\n",
    "  \"@type\": \"Class\",\n",
    "  \"http://purl.obolibrary.org/obo/ncbitaxon#has_rank\": {\n",
    "    \"@id\": \"http://purl.obolibrary.org/obo/NCBITaxon_species\"\n",
    "  },\n",
    "  \"isDefinedBy\": \"http://bbp.epfl.ch/neurosciencegraph/ontologies/speciestaxonomy/\",\n",
    "  \"label\": \"Species\",\n",
    "  \"subClassOf\": \"prov:Entity\"\n",
    "}\n",
    "\n",
    "mus = {\n",
    "  \"@id\": \"http://purl.obolibrary.org/obo/NCBITaxon_10090\",\n",
    "  \"@type\": \"Class\",\n",
    "  \"isDefinedBy\": \"https://bbp.epfl.ch/ontologies/core/molecular-systems\",\n",
    "  \"label\": \"Mus musculus\",\n",
    "  \"subClassOf\": \"nsg:Species\"\n",
    "}\n",
    "forge.register(forge.from_json([species]))"
   ]
  },
  {
   "cell_type": "markdown",
   "id": "29e1bb34",
   "metadata": {},
   "source": [
    "## Add traces and morphologies"
   ]
  },
  {
   "cell_type": "code",
   "execution_count": 327,
   "id": "0aba980e",
   "metadata": {},
   "outputs": [],
   "source": [
    "trace_config = [\n",
    "    (\"http://uri.interlex.org/base/ilx_0381371\", \"L5_UPC\", \"http://api.brain-map.org/api/v2/data/Structure/48\", \"ACAv\", \"http://purl.obolibrary.org/obo/NCBITaxon_10090\", \"Mus musculus\"),\n",
    "    (\"http://uri.interlex.org/base/ilx_0381377\",  \"L6_UPC\", \"http://api.brain-map.org/api/v2/data/Structure/44\", \"ILA\", \"http://purl.obolibrary.org/obo/NCBITaxon_10090\", \"Mus musculus\"),\n",
    "    (\"https://neuroshapes.org/TufterdPyramidalNeuron\", \"TPC\", \"http://api.brain-map.org/api/v2/data/Structure/22\", \"PTLp\", \"http://purl.obolibrary.org/obo/NCBITaxon_10090\", \"Mus musculus\"),\n",
    "    (\"http://uri.interlex.org/base/ilx_0738235\",  \"VPL_IN\", \"http://api.brain-map.org/api/v2/data/Structure/549\", \"Thalamus\", \"http://purl.obolibrary.org/obo/NCBITaxon_10090\", \"Mus musculus\"),\n",
    "    (\"https://neuroshapes.org/MartinottiCell\", \"Martinotti Cell\", \"http://api.brain-map.org/api/v2/data/Structure/22\", \"PTLp\", \"http://purl.obolibrary.org/obo/NCBITaxon_10090\", \"Mus musculus\")\n",
    "]"
   ]
  },
  {
   "cell_type": "code",
   "execution_count": 328,
   "id": "01807364",
   "metadata": {},
   "outputs": [
    {
     "name": "stdout",
     "output_type": "stream",
     "text": [
      "<action> _register_one\n",
      "<succeeded> True\n",
      "<action> _register_one\n",
      "<succeeded> True\n",
      "<action> _register_one\n",
      "<succeeded> True\n",
      "<action> _register_one\n",
      "<succeeded> True\n",
      "<action> _register_one\n",
      "<succeeded> True\n"
     ]
    }
   ],
   "source": [
    "trace_resource_ids = []\n",
    "for mtype_id, mtype_label, region_id, region_label, species_id, species_label in trace_config:\n",
    "    trace = {\n",
    "      \"@type\": [\n",
    "        \"Trace\",\n",
    "        \"Dataset\",\n",
    "        \"Entity\"\n",
    "      ],\n",
    "      \"annotation\": {\n",
    "        \"@type\": [\n",
    "          \"Annotation\",\n",
    "          \"MType:Annotation\"\n",
    "        ],\n",
    "        \"hasBody\": {\n",
    "          \"@id\": mtype_id,\n",
    "          \"@type\": [\n",
    "            \"MType\",\n",
    "            \"AnnotationBody\"\n",
    "          ],\n",
    "          \"label\": mtype_label\n",
    "        },\n",
    "        \"name\": \"M-type Annotation\"\n",
    "      },\n",
    "      \"brainLocation\": {\n",
    "        \"@type\": \"BrainLocation\",\n",
    "        \"brainRegion\": {\n",
    "          \"@id\": region_id,\n",
    "          \"label\": region_label\n",
    "        }\n",
    "      },\n",
    "      \"subject\": {\n",
    "        \"@type\": \"Subject\",\n",
    "        \"species\": {\n",
    "          \"@id\": species_id,\n",
    "          \"label\": species_label\n",
    "        }\n",
    "      }\n",
    "    }\n",
    "    resource = forge.from_json(trace)\n",
    "    forge.register(resource)\n",
    "    trace_resource_ids.append(resource.id)"
   ]
  },
  {
   "cell_type": "code",
   "execution_count": 332,
   "id": "cd9f314d",
   "metadata": {},
   "outputs": [],
   "source": [
    "model_id = \"https://bbp.epfl.ch/neurosciencegraph/data/TraceEmbeddingModel\"\n",
    "trace_model = {\n",
    "    \"@id\": model_id,\n",
    "    \"@type\": \"EmbeddingModel\",\n",
    "    \"name\": \"Trace Embedding Model\",\n",
    "    \"prefLabel\": \"Trace model\",\n",
    "    \"similarity\": \"euclidean\",\n",
    "    \"vectorDimension\": 2\n",
    "}"
   ]
  },
  {
   "cell_type": "code",
   "execution_count": 333,
   "id": "d963cd62",
   "metadata": {},
   "outputs": [
    {
     "name": "stdout",
     "output_type": "stream",
     "text": [
      "<action> _register_one\n",
      "<succeeded> True\n"
     ]
    }
   ],
   "source": [
    "forge.register(forge.from_json(trace_model))"
   ]
  },
  {
   "cell_type": "code",
   "execution_count": 334,
   "id": "aea22075",
   "metadata": {},
   "outputs": [
    {
     "data": {
      "image/png": "[encoded data removed]",
      "text/plain": [
       "<Figure size 432x288 with 1 Axes>"
      ]
     },
     "metadata": {
      "needs_background": "light"
     },
     "output_type": "display_data"
    }
   ],
   "source": [
    "trace_embeddings = np.array([\n",
    "    [1, 1],\n",
    "    [1, 2],\n",
    "    [2, 3],\n",
    "    [6, 1],\n",
    "    [4, 3]\n",
    "])\n",
    "plt.scatter(trace_embeddings[:, 0], trace_embeddings[:, 1])\n",
    "plt.show()"
   ]
  },
  {
   "cell_type": "code",
   "execution_count": 335,
   "id": "2ebb44f3",
   "metadata": {},
   "outputs": [
    {
     "name": "stdout",
     "output_type": "stream",
     "text": [
      "<count> 5\n",
      "<action> _register_many\n",
      "<succeeded> True\n",
      "<count> 5\n",
      "<action> _tag_many\n",
      "<succeeded> True\n"
     ]
    }
   ],
   "source": [
    "resources = vectors_to_resources(\n",
    "    forge, trace_embeddings, trace_resource_ids, model_id)\n",
    "forge.register(resources)\n",
    "forge.tag(resources, model_id.split(\"/\")[-1])"
   ]
  },
  {
   "cell_type": "code",
   "execution_count": 330,
   "id": "b73a7566",
   "metadata": {},
   "outputs": [
    {
     "name": "stdout",
     "output_type": "stream",
     "text": [
      "<action> _register_one\n",
      "<succeeded> True\n",
      "<action> _register_one\n",
      "<succeeded> True\n",
      "<action> _register_one\n",
      "<succeeded> True\n",
      "<action> _register_one\n",
      "<succeeded> True\n",
      "<action> _register_one\n",
      "<succeeded> True\n"
     ]
    }
   ],
   "source": [
    "morph_resource_ids = []\n",
    "for mtype_id, mtype_label, region_id, region_label, species_id, species_label in trace_config:\n",
    "    trace = {\n",
    "      \"@type\": [\n",
    "        \"NeuronMorphology\",\n",
    "        \"Dataset\",\n",
    "        \"Entity\"\n",
    "      ],\n",
    "      \"annotation\": {\n",
    "        \"@type\": [\n",
    "          \"Annotation\",\n",
    "          \"MType:Annotation\"\n",
    "        ],\n",
    "        \"hasBody\": {\n",
    "          \"@id\": mtype_id,\n",
    "          \"@type\": [\n",
    "            \"MType\",\n",
    "            \"AnnotationBody\"\n",
    "          ],\n",
    "          \"label\": mtype_label\n",
    "        },\n",
    "        \"name\": \"M-type Annotation\"\n",
    "      },\n",
    "      \"brainLocation\": {\n",
    "        \"@type\": \"BrainLocation\",\n",
    "        \"brainRegion\": {\n",
    "          \"@id\": region_id,\n",
    "          \"label\": region_label\n",
    "        }\n",
    "      },\n",
    "      \"subject\": {\n",
    "        \"@type\": \"Subject\",\n",
    "        \"species\": {\n",
    "          \"@id\": species_id,\n",
    "          \"label\": species_label\n",
    "        }\n",
    "      }\n",
    "    }\n",
    "    resource = forge.from_json(trace)\n",
    "    forge.register(resource)\n",
    "    morph_resource_ids.append(resource.id)"
   ]
  },
  {
   "cell_type": "code",
   "execution_count": 336,
   "id": "f7f32b7c",
   "metadata": {},
   "outputs": [],
   "source": [
    "model_id = \"https://bbp.epfl.ch/neurosciencegraph/data/NeuronMorphologyEmbeddingModel\"\n",
    "morph_model = {\n",
    "    \"@id\": model_id,\n",
    "    \"@type\": \"EmbeddingModel\",\n",
    "    \"name\": \"NeuronMorphology Embedding Model\",\n",
    "    \"prefLabel\": \"NeuronMorphology model\",\n",
    "    \"similarity\": \"euclidean\",\n",
    "    \"vectorDimension\": 2\n",
    "}"
   ]
  },
  {
   "cell_type": "code",
   "execution_count": 337,
   "id": "dbb1f99c",
   "metadata": {},
   "outputs": [
    {
     "name": "stdout",
     "output_type": "stream",
     "text": [
      "<action> _register_one\n",
      "<succeeded> True\n"
     ]
    }
   ],
   "source": [
    "forge.register(forge.from_json(morph_model))"
   ]
  },
  {
   "cell_type": "code",
   "execution_count": 338,
   "id": "9bb69f1d",
   "metadata": {},
   "outputs": [
    {
     "name": "stdout",
     "output_type": "stream",
     "text": [
      "<count> 5\n",
      "<action> _register_many\n",
      "<succeeded> True\n",
      "<count> 5\n",
      "<action> _tag_many\n",
      "<succeeded> True\n"
     ]
    }
   ],
   "source": [
    "resources = vectors_to_resources(\n",
    "    forge, trace_embeddings, morph_resource_ids, model_id)\n",
    "forge.register(resources)\n",
    "forge.tag(resources, model_id.split(\"/\")[-1])"
   ]
  },
  {
   "cell_type": "markdown",
   "id": "097b41a3",
   "metadata": {},
   "source": [
    "## Create recommender configuration resource"
   ]
  },
  {
   "cell_type": "code",
   "execution_count": 17,
   "id": "a48ff5cf",
   "metadata": {},
   "outputs": [],
   "source": [
    "config_resources = [\n",
    "    {\n",
    "      \"@id\": \"https://bbp.epfl.ch/neurosciencegraph/data/ontology-class-recommender-config\",\n",
    "      \"@type\": \"RecommenderConfiguration\",\n",
    "      \"configuration\": [\n",
    "            {\n",
    "              \"embeddingModel\": {\n",
    "                \"@id\": \"https://bbp.epfl.ch/neurosciencegraph/data/BrainRegionEmbeddingModel\",\n",
    "                \"@type\": \"EmbeddingModel\"\n",
    "              },\n",
    "              \"similarityView\": {\n",
    "                \"@id\": \"https://bbp.epfl.ch/neurosciencegraph/data/brain-region-embedding-view\",\n",
    "                \"@type\": \"ElasticSearchView\"\n",
    "              },\n",
    "            },\n",
    "            {\n",
    "              \"embeddingModel\": {\n",
    "                \"@id\": \"https://bbp.epfl.ch/neurosciencegraph/data/MTypeEmbeddingModel\",\n",
    "                \"@type\": \"EmbeddingModel\"\n",
    "              },\n",
    "              \"similarityView\": {\n",
    "                \"@id\": \"https://bbp.epfl.ch/neurosciencegraph/data/mtype-embedding-view\",\n",
    "                \"@type\": \"ElasticSearchView\"\n",
    "              },\n",
    "            }\n",
    "      ],\n",
    "      \"resourceTypes\": [\"http://www.w3.org/2002/07/owl#Class\"]\n",
    "    },\n",
    "    {\n",
    "      \"@id\": \"https://bbp.epfl.ch/neurosciencegraph/data/morph-recommender-config\",\n",
    "      \"@type\": \"RecommenderConfiguration\",\n",
    "      \"configuration\": [\n",
    "            {\n",
    "              \"embeddingModel\": {\n",
    "                \"@id\": \"https://bbp.epfl.ch/neurosciencegraph/data/NeuronMorphologyEmbeddingModel\",\n",
    "                \"@type\": \"EmbeddingModel\"\n",
    "              },\n",
    "              \"similarityView\": {\n",
    "                \"@id\": \"https://bbp.epfl.ch/neurosciencegraph/data/morphology-embedding-view\",\n",
    "                \"@type\": \"ElasticSearchView\"\n",
    "              },\n",
    "            }\n",
    "      ],\n",
    "      \"resourceTypes\": [\"https://neuroshapes.org/NeuronMorphology\"]\n",
    "    },\n",
    "    {\n",
    "      \"@id\": \"https://bbp.epfl.ch/neurosciencegraph/data/trace-recommender-config\",\n",
    "      \"@type\": \"RecommenderConfiguration\",\n",
    "      \"configuration\": [\n",
    "            {\n",
    "              \"embeddingModel\": {\n",
    "                \"@id\": \"https://bbp.epfl.ch/neurosciencegraph/data/TraceEmbeddingModel\",\n",
    "                \"@type\": \"EmbeddingModel\"\n",
    "              },\n",
    "              \"similarityView\": {\n",
    "                \"@id\": \"https://bbp.epfl.ch/neurosciencegraph/data/trace-embedding-view\",\n",
    "                \"@type\": \"ElasticSearchView\"\n",
    "              },\n",
    "            }\n",
    "      ],\n",
    "      \"resourceTypes\": [\"https://neuroshapes.org/Trace\"]\n",
    "    }\n",
    "]"
   ]
  },
  {
   "cell_type": "code",
   "execution_count": 16,
   "id": "abb4f901",
   "metadata": {},
   "outputs": [
    {
     "name": "stdout",
     "output_type": "stream",
     "text": [
      "<count> 4\n",
      "<action> _register_many\n",
      "<succeeded> True\n"
     ]
    }
   ],
   "source": [
    "forge.register(forge.from_json(config_resources))"
   ]
  }
 ],
 "metadata": {
  "kernelspec": {
   "display_name": "bg",
   "language": "python",
   "name": "bg"
  },
  "language_info": {
   "codemirror_mode": {
    "name": "ipython",
    "version": 3
   },
   "file_extension": ".py",
   "mimetype": "text/x-python",
   "name": "python",
   "nbconvert_exporter": "python",
   "pygments_lexer": "ipython3",
   "version": "3.7.10"
  }
 },
 "nbformat": 4,
 "nbformat_minor": 5
}
