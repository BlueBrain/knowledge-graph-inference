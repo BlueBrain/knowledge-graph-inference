{
 "cells": [
  {
   "cell_type": "code",
   "execution_count": 230,
   "id": "b7afd383",
   "metadata": {},
   "outputs": [
    {
     "name": "stdout",
     "output_type": "stream",
     "text": [
      "The autoreload extension is already loaded. To reload it, use:\n",
      "  %reload_ext autoreload\n"
     ]
    }
   ],
   "source": [
    "%load_ext autoreload\n",
    "%autoreload 2"
   ]
  },
  {
   "cell_type": "code",
   "execution_count": 231,
   "id": "de0b9082",
   "metadata": {},
   "outputs": [],
   "source": [
    "import matplotlib.pyplot as plt"
   ]
  },
  {
   "cell_type": "code",
   "execution_count": 270,
   "id": "6387d060",
   "metadata": {},
   "outputs": [],
   "source": [
    "from string import Template\n",
    "\n",
    "import numpy as np\n",
    "import pandas as pd\n",
    "\n",
    "import getpass\n",
    "import json\n",
    "\n",
    "from collections import defaultdict, namedtuple\n",
    "\n",
    "from urllib.parse import quote_plus\n",
    "\n",
    "from kgforge.core import KnowledgeGraphForge\n",
    "\n",
    "from inference_tools.query.elastic_search import set_elastic_view\n",
    "from inference_tools.utils import (check_premises,\n",
    "                                   execute_query,\n",
    "                                   execute_query_pipe,\n",
    "                                   apply_rule)"
   ]
  },
  {
   "cell_type": "code",
   "execution_count": 233,
   "id": "9a243f67",
   "metadata": {},
   "outputs": [
    {
     "name": "stdout",
     "output_type": "stream",
     "text": [
      "········\n"
     ]
    }
   ],
   "source": [
    "TOKEN = getpass.getpass()"
   ]
  },
  {
   "cell_type": "code",
   "execution_count": 234,
   "id": "412098f8",
   "metadata": {},
   "outputs": [],
   "source": [
    "ENDPOINT = \"https://staging.nexus.ocp.bbp.epfl.ch/v1\""
   ]
  },
  {
   "cell_type": "code",
   "execution_count": 235,
   "id": "088e2ec9",
   "metadata": {},
   "outputs": [],
   "source": [
    "forge = KnowledgeGraphForge(\n",
    "    \"../../configs/new-forge-config.yaml\",\n",
    "    endpoint=ENDPOINT,\n",
    "    token=TOKEN, \n",
    "    bucket=\"dke/inference-test\")"
   ]
  },
  {
   "cell_type": "markdown",
   "id": "fd6fb0ad",
   "metadata": {},
   "source": [
    "# Inference Rules"
   ]
  },
  {
   "cell_type": "markdown",
   "id": "0f2652d4",
   "metadata": {},
   "source": [
    "Get filters from atlas (or advanced query)"
   ]
  },
  {
   "cell_type": "markdown",
   "id": "f4b96f42",
   "metadata": {},
   "source": [
    "We get filters from atlas (or advanced query), for example:\n",
    "\n",
    "    brainRegion \"http://api.brain-map.org/api/v2/data/Structure/31\"  # ACA\n",
    "    species \"http://purl.obolibrary.org/obo/NCBITaxon_10088\"   # Mouse\n",
    "    MType \"http://uri.interlex.org/base/ilx_0381377\"  # L6_UPC"
   ]
  },
  {
   "cell_type": "code",
   "execution_count": 237,
   "id": "0eefb80e",
   "metadata": {},
   "outputs": [],
   "source": [
    "input_filters = {\n",
    "    \"brainRegion\": \"http://api.brain-map.org/api/v2/data/Structure/31\",\n",
    "    \"MType\": \"http://uri.interlex.org/base/ilx_0381377\",\n",
    "    \"species\": \"http://purl.obolibrary.org/obo/NCBITaxon_10088\",\n",
    "}"
   ]
  },
  {
   "cell_type": "markdown",
   "id": "fe2991e8",
   "metadata": {},
   "source": [
    "Show all rules whose premises this search satisfies\n",
    "\n",
    "- `KGQuery`: `SparqlQuery`, `ESQuery`, `ForgeSearchQuery`\n",
    "- `RulePremise`: `PropertyPremise` \n",
    "\n",
    "Components of a `QueryBasedGeneralizationRule`:\n",
    "\n",
    "- __Rule Parameters__ values from atlas filters or advanced query (species, brain region, cell type (m/e/t), datatype) \n",
    "- __Premises__ need to be satisfied on provided rule params for the rule to be applied\n",
    "- __Query__ is applied to retrieve resources (result of inference). Queries can use the provided rule parameters\n",
    "\n",
    "Course of actions:\n",
    "    - Take filters\n",
    "    - Take all the available rules (?)\n",
    "    - Search for rules whose premises filters satisfy:\n",
    "       -  For each rule execute 'premise query' filled with parameters generated from filters\n",
    "      - Return rules whose premises are satisfied\n",
    "    - Apply queries of satisfied rules"
   ]
  },
  {
   "cell_type": "markdown",
   "id": "bdb4c361",
   "metadata": {},
   "source": [
    "# Principle: PC cells in neocortex have the same E-behaviour\n",
    "\n",
    "## Rule A (simple query)\n",
    "\n",
    "Input parameters: brain_region, MType\n",
    "If (premise)\n",
    "   (brain region)-[is_part_of]->({id: isocortex})\n",
    "   (mtype)-[IS_SUBCLASS_OF]->({id: PC})\n",
    "\n",
    "Return X s.t.\n",
    "- (X)-[IS_A]->(Trace)\n",
    "- (X)-[subject/species]->({id: Mouse})\n",
    "- (X)-[brainLocation/brainRegion]->(brain_region)-[is_part_of]->({id: isocortex})\n",
    "- (X)-[brainLocation/layer]->(brain layer {id: L5})\n",
    "- (X)-[hasMType]->(MType)-[IS_SUBCLASS_OF]->({id: PC})"
   ]
  },
  {
   "cell_type": "code",
   "execution_count": 375,
   "id": "f7315abe",
   "metadata": {},
   "outputs": [],
   "source": [
    "premise = [\n",
    "   {\n",
    "        \"type\": \"SparqlPremise\",\n",
    "        \"hasParameter\": [\n",
    "            {\n",
    "                \"name\": \"brainRegion\",\n",
    "                \"description\": \"URI of the query brain region\",\n",
    "                \"type\": \"sparql_uri\"\n",
    "            }\n",
    "        ],\n",
    "        \"hasBody\": \"\"\"\n",
    "            SELECT ?x\n",
    "            WHERE {\n",
    "                <$brainRegion> <http://schema.org/isPartOf>* <http://api.brain-map.org/api/v2/data/Structure/315> .\n",
    "            }\n",
    "        \"\"\",\n",
    "        \"queryConfiguration\": {\n",
    "            \"org\": \"dke\",\n",
    "            \"project\": \"inference-test\",\n",
    "            \"sparqlView\": {\n",
    "                \"id\": \"https://bluebrain.github.io/nexus/vocabulary/defaultSparqlIndex\",\n",
    "                \"type\": \"SparqlView\"\n",
    "            }\n",
    "        }\n",
    "    },\n",
    "    {\n",
    "        \"type\": \"SparqlPremise\",\n",
    "        \"hasParameter\": [\n",
    "            {\n",
    "                \"name\": \"MType\",\n",
    "                \"description\": \"URI of the query MType\",\n",
    "                \"type\": \"sparql_uri\"\n",
    "            }\n",
    "        ],\n",
    "        \"hasBody\": \"\"\"\n",
    "            SELECT ?x\n",
    "            WHERE {\n",
    "                <$MType> rdfs:subClassOf* <https://neuroshapes.org/PyramidalNeuron> .\n",
    "            }\n",
    "        \"\"\",\n",
    "        \"queryConfiguration\": {\n",
    "            \"org\": \"dke\",\n",
    "            \"project\": \"inference-test\"\n",
    "        }\n",
    "    },\n",
    "    {\n",
    "        \"type\": \"ForgeSearchPremise\",\n",
    "        \"hasParameter\": [\n",
    "            {\n",
    "                \"name\": \"brainRegion\",\n",
    "                \"description\": \"URI of the query brain region\",\n",
    "                \"type\": \"sparql_uri\"\n",
    "            }\n",
    "        ],\n",
    "        \"targetParameter\": \"brainRegion\",\n",
    "        \"targetPath\": \"id\",\n",
    "        \"pattern\": {\n",
    "            \"isPartOf\": \"http://api.brain-map.org/api/v2/data/Structure/315\"\n",
    "        },\n",
    "        \"queryConfiguration\": {\n",
    "            \"org\": \"dke\",\n",
    "            \"project\": \"inference-test\"\n",
    "        }\n",
    "    },\n",
    "]"
   ]
  },
  {
   "cell_type": "code",
   "execution_count": 376,
   "id": "e02ffaee",
   "metadata": {},
   "outputs": [],
   "source": [
    "search_query_A = {\n",
    "    \"type\": \"SparqlQuery\",\n",
    "    \"hasBody\": \"\"\"\n",
    "        SELECT ?resource\n",
    "        WHERE {\n",
    "          ?resource a <https://neuroshapes.org/Trace> ;\n",
    "                      <https://neuroshapes.org/annotation>/<https://neuroshapes.org/hasBody> ?mtype ;\n",
    "                      <https://bluebrain.github.io/nexus/vocabulary/deprecated> false ;\n",
    "                      <https://neuroshapes.org/brainLocation>/<https://neuroshapes.org/brainRegion> ?brainRegion.\n",
    "          ?mtype rdfs:subClassOf* <https://neuroshapes.org/PyramidalNeuron> .\n",
    "          ?brainRegion <http://schema.org/isPartOf>* <http://api.brain-map.org/api/v2/data/Structure/315> .\n",
    "        }\n",
    "    \"\"\",\n",
    "    \"queryConfiguration\": {\n",
    "        \"org\": \"dke\",\n",
    "        \"project\": \"inference-test\"\n",
    "    }\n",
    "}"
   ]
  },
  {
   "cell_type": "code",
   "execution_count": 377,
   "id": "0cf997d7",
   "metadata": {},
   "outputs": [],
   "source": [
    "rule_A = {\n",
    "    \"type\": \"DataGeneralizationRule\",\n",
    "    \"name\": \"Trace generalization for cortical PCs\",\n",
    "    \"description\": \"Collect traces belonging to PCs from other cortical regions\",\n",
    "    \"premise\": premise,\n",
    "    \"searchQuery\": search_query_A\n",
    "}"
   ]
  },
  {
   "cell_type": "code",
   "execution_count": 378,
   "id": "c64ca079",
   "metadata": {},
   "outputs": [
    {
     "name": "stdout",
     "output_type": "stream",
     "text": [
      "CPU times: user 2 µs, sys: 0 ns, total: 2 µs\n",
      "Wall time: 3.81 µs\n"
     ]
    },
    {
     "data": {
      "text/plain": [
       "True"
      ]
     },
     "execution_count": 378,
     "metadata": {},
     "output_type": "execute_result"
    }
   ],
   "source": [
    "%time\n",
    "check_premises(rule_A, input_filters, TOKEN)"
   ]
  },
  {
   "cell_type": "code",
   "execution_count": 379,
   "id": "b3ba7fff",
   "metadata": {
    "scrolled": false
   },
   "outputs": [
    {
     "name": "stdout",
     "output_type": "stream",
     "text": [
      "CPU times: user 1 µs, sys: 0 ns, total: 1 µs\n",
      "Wall time: 3.1 µs\n"
     ]
    },
    {
     "data": {
      "text/plain": [
       "[{'resource': 'https://bbp.epfl.ch/neurosciencegraph/data/ff0e496d-b8a0-4c0e-8487-545563495dc0'},\n",
       " {'resource': 'https://bbp.epfl.ch/neurosciencegraph/data/2b108ccf-4ad2-4495-8490-17b2fde656fa'},\n",
       " {'resource': 'https://bbp.epfl.ch/neurosciencegraph/data/4fba4ab3-189c-4ff4-96bf-6904c1b8912b'}]"
      ]
     },
     "execution_count": 379,
     "metadata": {},
     "output_type": "execute_result"
    }
   ],
   "source": [
    "%time\n",
    "apply_rule(rule_A, input_filters, TOKEN)"
   ]
  },
  {
   "cell_type": "code",
   "execution_count": 380,
   "id": "83445b7c",
   "metadata": {},
   "outputs": [],
   "source": [
    "# forge.register(forge.from_json(rule_A))"
   ]
  },
  {
   "cell_type": "code",
   "execution_count": 386,
   "id": "628c2c89",
   "metadata": {},
   "outputs": [],
   "source": [
    "rule_id = \"https://bbp.epfl.ch/neurosciencegraph/data/c6806339-a6fe-43d3-8d0c-6d9f68c90dfb\"\n",
    "rule_from_nexus = forge.as_json(forge.retrieve(rule_id))"
   ]
  },
  {
   "cell_type": "code",
   "execution_count": 387,
   "id": "eecde7b4",
   "metadata": {},
   "outputs": [
    {
     "data": {
      "text/plain": [
       "True"
      ]
     },
     "execution_count": 387,
     "metadata": {},
     "output_type": "execute_result"
    }
   ],
   "source": [
    "check_premises(rule_from_nexus, input_filters, TOKEN)"
   ]
  },
  {
   "cell_type": "code",
   "execution_count": 389,
   "id": "858a628d",
   "metadata": {},
   "outputs": [
    {
     "data": {
      "text/plain": [
       "[{'id': 'https://bbp.epfl.ch/neurosciencegraph/data/ff0e496d-b8a0-4c0e-8487-545563495dc0'},\n",
       " {'id': 'https://bbp.epfl.ch/neurosciencegraph/data/2b108ccf-4ad2-4495-8490-17b2fde656fa'},\n",
       " {'id': 'https://bbp.epfl.ch/neurosciencegraph/data/4fba4ab3-189c-4ff4-96bf-6904c1b8912b'}]"
      ]
     },
     "execution_count": 389,
     "metadata": {},
     "output_type": "execute_result"
    }
   ],
   "source": [
    "apply_rule(rule_from_nexus, input_filters, TOKEN)"
   ]
  },
  {
   "cell_type": "markdown",
   "id": "d7669dcf",
   "metadata": {},
   "source": [
    "## Rule B (query + similarity search)"
   ]
  },
  {
   "cell_type": "markdown",
   "id": "149ae1c1",
   "metadata": {},
   "source": [
    "Input parameters: brain_region, MType, similarityModelId, topNeighbors\n",
    "\n",
    "Find closest MType and then return traces/morphs with the closest MType that is also a subclass of pyramidal neuron and that are located in a cortical region.\n",
    "\n",
    "If (premise)\n",
    "   (brain region)-[is_part_of]->({id: isocortex})\n",
    "   (mtype)-[IS_SUBCLASS_OF]->({id: PC})\n",
    "\n",
    "\n",
    "Return Y s.t.\n",
    "- (Y)-[hasMType]->(MTypeY)\n",
    "- Select top K MTypeY by sim_{similarityModel}(MType, MTypeY) \n",
    "\n",
    "(or for traces)\n",
    "Return Y s.t.\n",
    "- (Y)-[hasEType]->(ETypeY)\n",
    "- Select either top K ETypeY by sim_{similarityModel}(ETypeX, ETypeY) or s.t sim_{similarityModel}(ETypeX, ETypeY) > similarityThreshold"
   ]
  },
  {
   "cell_type": "markdown",
   "id": "bdb99f91",
   "metadata": {},
   "source": [
    "__Notes__:\n",
    "\n",
    "- Similarity-based query is not allowed in premises\n",
    "- You can use results from the previous query or input params in the next query"
   ]
  },
  {
   "cell_type": "markdown",
   "id": "5aafbcd2",
   "metadata": {},
   "source": [
    "TODO: make rule know which view to use\n",
    "- \"configuration\": \"https://bbp.epfl.ch/neurosciencegraph/data/ontology-class-recommender-config\",\n",
    "- \"similarityModels\": \"https://bbp.epfl.ch/neurosciencegraph/data/MTypeEmbeddingModel\",          "
   ]
  },
  {
   "cell_type": "code",
   "execution_count": 390,
   "id": "7388bc8b",
   "metadata": {},
   "outputs": [],
   "source": [
    "search_query_B =  {\n",
    "    \"type\": \"QueryPipe\",\n",
    "    \"head\": {\n",
    "        # Query type\n",
    "        \"type\": \"SparqlQuery\",\n",
    "        \"queryConfiguration\": {\n",
    "            \"org\": \"dke\",\n",
    "            \"project\": \"inference-test\",\n",
    "            \"sparqlView\": {\n",
    "                \"id\": \"https://bluebrain.github.io/nexus/vocabulary/defaultSparqlIndex\",\n",
    "                \"type\": \"SparqlView\"\n",
    "            }\n",
    "        },\n",
    "        # Query body\n",
    "        \"hasBody\": \"\"\"\n",
    "            SELECT ?mtype\n",
    "            WHERE {\n",
    "                ?mtype rdfs:subClassOf* <https://neuroshapes.org/PyramidalNeuron> .\n",
    "                ?trace <https://neuroshapes.org/annotation>/<https://neuroshapes.org/hasBody> ?mtype.\n",
    "            }\n",
    "        \"\"\",\n",
    "        # Mapping of query results to the parameters (passed to the next query)\n",
    "        \"resultParameterMapping\": [\n",
    "            {\n",
    "                \"path\": \"mtype\",\n",
    "                \"parameterName\": \"acceptableResults\"\n",
    "            }\n",
    "        ]\n",
    "    },\n",
    "    \"rest\": { \n",
    "        \"type\": \"QueryPipe\",\n",
    "        \"head\": {\n",
    "            # Query type\n",
    "            \"type\": \"SimilarityQuery\",\n",
    "            # Number of top results to return\n",
    "            \"k\": 1,\n",
    "            \"queryConfiguration\": {\n",
    "                \"org\": \"dke\",\n",
    "                \"project\": \"inference-test\",\n",
    "                \"embeddingModel\": {\n",
    "                    \"id\": \"https://bbp.epfl.ch/neurosciencegraph/data/MTypeEmbeddingModel\",\n",
    "                    \"type\": \"EmbeddingModel\"\n",
    "                },\n",
    "                \"similarityView\": {\n",
    "                    \"id\": \"https://bbp.epfl.ch/neurosciencegraph/data/mtype-embedding-view\",\n",
    "                    \"type\": \"ElasticSearchView\"\n",
    "                },\n",
    "                \"scoreFormula\": \"euclidean\",\n",
    "            },\n",
    "            # Specification of input parameters\n",
    "            \"hasParameter\": [\n",
    "                {\n",
    "                    \"name\": \"MType\",\n",
    "                    \"description\": \"URI of the query MType\",\n",
    "                    \"type\": \"str\"\n",
    "                },\n",
    "                {\n",
    "                    \"name\": \"acceptableResults\",\n",
    "                    \"description\": \"List of URI's of acceptable MTypes (all PCs)\",\n",
    "                    \"type\": \"list\"\n",
    "                }\n",
    "            ],\n",
    "            # Query to retrieve embeddings\n",
    "            \"searchTargetParameter\": \"MType\",\n",
    "            # Filter to apply on the similarity search results\n",
    "            \"resultFilter\": \"\"\"\n",
    "                \"must\": {\n",
    "                    \"nested\": {\n",
    "                        \"path\": \"derivation.entity\",\n",
    "                        \"query\": {\n",
    "                            \"terms\": { \"derivation.entity.@id\": [$acceptableResults] }\n",
    "                        }\n",
    "                    }\n",
    "                }\n",
    "            \"\"\",\n",
    "            # Mapping of query results to the parameters (passed to the next query)\n",
    "            \"resultParameterMapping\": [{\n",
    "                \"path\": \"id\",\n",
    "                \"parameterName\": \"closestMType\"\n",
    "            }]\n",
    "        },\n",
    "        \"rest\": {\n",
    "            # Query type\n",
    "            \"type\": \"SparqlQuery\",\n",
    "            # Specification of input parameters\n",
    "            \"hasParameter\": [\n",
    "                {\n",
    "                    \"name\": \"closestMType\",\n",
    "                    \"description\": \"URI of the closest acceptable MType\",\n",
    "                    \"type\": \"sparql_uri\"\n",
    "                }\n",
    "            ],\n",
    "            \"queryConfiguration\": {\n",
    "                \"org\": \"dke\",\n",
    "                \"project\": \"inference-test\",\n",
    "                \"sparqlView\": {\n",
    "                    \"id\": \"https://bluebrain.github.io/nexus/vocabulary/defaultSparqlIndex\",\n",
    "                    \"type\": \"SparqlView\"\n",
    "                }\n",
    "            },\n",
    "            # Query body\n",
    "            \"hasBody\": \"\"\"\n",
    "                SELECT ?id\n",
    "                WHERE {\n",
    "                    ?id a <https://neuroshapes.org/Trace> ;\n",
    "                        <https://bluebrain.github.io/nexus/vocabulary/deprecated> false ;\n",
    "                        <https://neuroshapes.org/annotation> ?annotation ;\n",
    "                        <https://neuroshapes.org/brainLocation>/<https://neuroshapes.org/brainRegion> ?brainRegion.\n",
    "                    ?annotation <https://neuroshapes.org/hasBody> <$closestMType>.\n",
    "                }\n",
    "            \"\"\"\n",
    "        }\n",
    "    }\n",
    "}"
   ]
  },
  {
   "cell_type": "code",
   "execution_count": 391,
   "id": "0f00ee49",
   "metadata": {},
   "outputs": [],
   "source": [
    "rule_B = {\n",
    "    \"type\": \"DataGeneralizationRule\",\n",
    "    \"name\": \"MType similarity based trace generalization for cortical PCs\",\n",
    "    \"description\": \"Collect traces belonging to the closest (PC) MType from other cortical regions\",\n",
    "    \"premise\": premise,\n",
    "    \"searchQuery\": search_query_B\n",
    "}"
   ]
  },
  {
   "cell_type": "code",
   "execution_count": 392,
   "id": "6f1959a9",
   "metadata": {},
   "outputs": [
    {
     "data": {
      "text/plain": [
       "True"
      ]
     },
     "execution_count": 392,
     "metadata": {},
     "output_type": "execute_result"
    }
   ],
   "source": [
    "check_premises(rule_B, input_filters, TOKEN)"
   ]
  },
  {
   "cell_type": "code",
   "execution_count": 393,
   "id": "93c4d233",
   "metadata": {
    "scrolled": true
   },
   "outputs": [
    {
     "name": "stdout",
     "output_type": "stream",
     "text": [
      "CPU times: user 1e+03 ns, sys: 0 ns, total: 1e+03 ns\n",
      "Wall time: 3.1 µs\n"
     ]
    },
    {
     "data": {
      "text/plain": [
       "[{'id': 'https://bbp.epfl.ch/neurosciencegraph/data/ff0e496d-b8a0-4c0e-8487-545563495dc0'}]"
      ]
     },
     "execution_count": 393,
     "metadata": {},
     "output_type": "execute_result"
    }
   ],
   "source": [
    "%time\n",
    "apply_rule(rule_B, input_filters, TOKEN)"
   ]
  },
  {
   "cell_type": "code",
   "execution_count": 394,
   "id": "e7a8c703",
   "metadata": {},
   "outputs": [],
   "source": [
    "# forge.register(forge.from_json(rule_B))"
   ]
  },
  {
   "cell_type": "code",
   "execution_count": 395,
   "id": "ec01a455",
   "metadata": {},
   "outputs": [],
   "source": [
    "rule_id = \"https://bbp.epfl.ch/neurosciencegraph/data/1030e519-07c5-46ef-8e5c-7cca08c2f044\"\n",
    "rule_from_nexus = forge.as_json(forge.retrieve(rule_id))"
   ]
  },
  {
   "cell_type": "code",
   "execution_count": 397,
   "id": "75883e85",
   "metadata": {},
   "outputs": [
    {
     "data": {
      "text/plain": [
       "[{'id': 'https://bbp.epfl.ch/neurosciencegraph/data/ff0e496d-b8a0-4c0e-8487-545563495dc0'}]"
      ]
     },
     "execution_count": 397,
     "metadata": {},
     "output_type": "execute_result"
    }
   ],
   "source": [
    "apply_rule(rule_from_nexus, input_filters, TOKEN)"
   ]
  },
  {
   "cell_type": "markdown",
   "id": "6e069492",
   "metadata": {},
   "source": [
    "## Rule C"
   ]
  },
  {
   "cell_type": "code",
   "execution_count": 398,
   "id": "0f607637",
   "metadata": {},
   "outputs": [],
   "source": [
    "search_query_C = {\n",
    "    \"type\": \"QueryPipe\",\n",
    "    \"head\": {\n",
    "        \"type\": \"SparqlQuery\",\n",
    "        \"queryConfiguration\": {\n",
    "            \"org\": \"dke\",\n",
    "            \"project\": \"inference-test\",\n",
    "            \"sparqlView\": {\n",
    "                \"id\": \"https://bluebrain.github.io/nexus/vocabulary/defaultSparqlIndex\",\n",
    "                \"type\": \"SparqlView\"\n",
    "            }\n",
    "        },\n",
    "        \"hasBody\": \"\"\"\n",
    "            SELECT ?mtype\n",
    "            WHERE {\n",
    "                ?mtype rdfs:subClassOf* <https://neuroshapes.org/PyramidalNeuron> .\n",
    "            }\n",
    "        \"\"\",\n",
    "        \"resultParameterMapping\": [{\n",
    "            \"path\": \"mtype\",\n",
    "            \"parameterName\": \"acceptableMTypes\"\n",
    "        }]\n",
    "    },\n",
    "    \"rest\": {\n",
    "        \"type\": \"SimilarityQuery\",\n",
    "        \"k\": 1,\n",
    "        # Configuration of similarity views\n",
    "        # (multiple records mean that multiple models are combined)\n",
    "        \"queryConfiguration\": [\n",
    "            {\n",
    "                \"org\": \"dke\",\n",
    "                \"project\": \"inference-test\",\n",
    "                \"embeddingModel\": {\n",
    "                    \"id\": \"https://bbp.epfl.ch/neurosciencegraph/data/MTypeEmbeddingModel\",\n",
    "                    \"type\": \"EmbeddingModel\"\n",
    "                },\n",
    "                \"similarityView\": {\n",
    "                    \"id\": \"https://bbp.epfl.ch/neurosciencegraph/data/mtype-embedding-view\",\n",
    "                    \"type\": \"ElasticSearchView\"\n",
    "                },\n",
    "                \"boosted\": True,\n",
    "                \"boostingView\": {\n",
    "                    \"id\": \"https://bbp.epfl.ch/neurosciencegraph/data/mtype-boosting-view\",\n",
    "                    \"type\": \"ElasticSearchView\"\n",
    "                },\n",
    "                \"statisticsView\": {\n",
    "                    \"id\": \"https://bbp.epfl.ch/neurosciencegraph/data/mtype-statistics-view\",\n",
    "                    \"type\": \"ElasticSearchView\"\n",
    "                }\n",
    "            },\n",
    "            {\n",
    "                \"org\": \"dke\",\n",
    "                \"project\": \"inference-test\",\n",
    "                \"embeddingModel\": {\n",
    "                    \"id\": \"https://bbp.epfl.ch/neurosciencegraph/data/MTypeEmbeddingModel2\",\n",
    "                    \"type\": \"EmbeddingModel\"\n",
    "                },\n",
    "                \"similarityView\": {\n",
    "                    \"id\": \"https://bbp.epfl.ch/neurosciencegraph/data/mtype-embedding-view2\",\n",
    "                    \"type\": \"ElasticSearchView\"\n",
    "                },\n",
    "                \"boosted\": True,\n",
    "                \"boostingView\": {\n",
    "                    \"id\": \"https://bbp.epfl.ch/neurosciencegraph/data/mtype-boosting-view2\",\n",
    "                    \"type\": \"ElasticSearchView\"\n",
    "                },\n",
    "                \"statisticsView\": {\n",
    "                    \"id\": \"https://bbp.epfl.ch/neurosciencegraph/data/mtype-statistics-view2\",\n",
    "                    \"type\": \"ElasticSearchView\"\n",
    "                }\n",
    "            }\n",
    "        ],\n",
    "        \"hasParameter\": [\n",
    "            {\n",
    "                \"name\": \"MType\",\n",
    "                \"description\": \"URI of the query MType\",\n",
    "                \"type\": \"str\"\n",
    "            },\n",
    "            {\n",
    "                \"name\": \"acceptableMTypes\",\n",
    "                \"description\": \"URIs of acceptable MTypes (subclasses of PC).\",\n",
    "                \"type\": \"list\"\n",
    "            }\n",
    "        ],\n",
    "        \"searchTargetParameter\": \"MType\",\n",
    "        # Filter to apply on the similarity search results\n",
    "        \"resultFilter\": \"\"\"\n",
    "            \"must\": {\n",
    "                \"nested\": {\n",
    "                    \"path\": \"derivation.entity\",\n",
    "                    \"query\": {\n",
    "                        \"terms\": { \"derivation.entity.@id\": [$acceptableMTypes] }\n",
    "                    }\n",
    "                }\n",
    "            }\n",
    "        \"\"\"\n",
    "    }\n",
    "}"
   ]
  },
  {
   "cell_type": "code",
   "execution_count": 399,
   "id": "1393e4ae",
   "metadata": {},
   "outputs": [],
   "source": [
    "rule_C = {\n",
    "    \"@type\": \"DataGeneralizationRule\",\n",
    "    \"name\": \"Combined (PC) MType similarity\",\n",
    "    \"description\": \"Get the closest (PC) MType according to a combined similarity\",\n",
    "    \"premise\": [\n",
    "        {\n",
    "            \"type\": \"SparqlPremise\",\n",
    "            \"hasParameter\": [\n",
    "                {\n",
    "                    \"name\": \"MType\",\n",
    "                    \"description\": \"URI of the query MType\",\n",
    "                    \"type\": \"sparql_uri\"\n",
    "                }\n",
    "            ],\n",
    "            \"hasBody\": \"\"\"\n",
    "                SELECT ?x\n",
    "                WHERE {\n",
    "                    <$MType> rdfs:subClassOf* <https://neuroshapes.org/PyramidalNeuron> .\n",
    "                }\n",
    "            \"\"\",\n",
    "            \"queryConfiguration\": {\n",
    "                \"org\": \"dke\",\n",
    "                \"project\": \"inference-test\",\n",
    "                \"sparqlView\": {\n",
    "                    \"id\": \"https://bluebrain.github.io/nexus/vocabulary/defaultSparqlIndex\",\n",
    "                    \"type\": \"SparqlView\"\n",
    "                }\n",
    "            }\n",
    "        }\n",
    "    ],\n",
    "    \"searchQuery\": search_query_C\n",
    "}"
   ]
  },
  {
   "cell_type": "code",
   "execution_count": 400,
   "id": "f3d6f1d2",
   "metadata": {},
   "outputs": [
    {
     "data": {
      "text/plain": [
       "[{'id': 'http://uri.interlex.org/base/ilx_0381371'}]"
      ]
     },
     "execution_count": 400,
     "metadata": {},
     "output_type": "execute_result"
    }
   ],
   "source": [
    "apply_rule(rule_C, input_filters, TOKEN)"
   ]
  },
  {
   "cell_type": "code",
   "execution_count": 402,
   "id": "4b03f0ef",
   "metadata": {},
   "outputs": [],
   "source": [
    "rule_id = \"https://bbp.epfl.ch/neurosciencegraph/data/f7fced49-be40-4527-99fd-6c2d20615ce2\"\n",
    "rule_from_nexus = forge.as_json(forge.retrieve(rule_id))"
   ]
  },
  {
   "cell_type": "code",
   "execution_count": 404,
   "id": "903d5ddb",
   "metadata": {},
   "outputs": [
    {
     "data": {
      "text/plain": [
       "[{'id': 'http://uri.interlex.org/base/ilx_0381371'}]"
      ]
     },
     "execution_count": 404,
     "metadata": {},
     "output_type": "execute_result"
    }
   ],
   "source": [
    "apply_rule(rule_from_nexus, input_filters, TOKEN)"
   ]
  },
  {
   "cell_type": "markdown",
   "id": "3957280e",
   "metadata": {},
   "source": [
    "# Get all the rules and check with ones can be applied"
   ]
  },
  {
   "cell_type": "code",
   "execution_count": 405,
   "id": "6f3837f7",
   "metadata": {},
   "outputs": [],
   "source": [
    "set_elastic_view(forge, \"https://bbp.epfl.ch/neurosciencegraph/data/rule-view\")"
   ]
  },
  {
   "cell_type": "markdown",
   "id": "4ae7e6cc",
   "metadata": {},
   "source": [
    "Get all the rules"
   ]
  },
  {
   "cell_type": "code",
   "execution_count": 406,
   "id": "d9f2f320",
   "metadata": {},
   "outputs": [],
   "source": [
    "all_rules = forge.elastic(\"\"\"\n",
    "    {\n",
    "      \"query\": {\n",
    "        \"term\": {\n",
    "          \"_deprecated\": false\n",
    "        }\n",
    "      }\n",
    "    }\n",
    "\"\"\")"
   ]
  },
  {
   "cell_type": "code",
   "execution_count": 407,
   "id": "6aeb9e8c",
   "metadata": {
    "scrolled": false
   },
   "outputs": [
    {
     "name": "stdout",
     "output_type": "stream",
     "text": [
      "Trace generalization for cortical PCs\n",
      "MType similarity-based trace generalization for cortical PCs\n",
      "Combined (PC) MType similarity\n"
     ]
    }
   ],
   "source": [
    "for r in all_rules:\n",
    "    print(r.name)"
   ]
  },
  {
   "cell_type": "markdown",
   "id": "fcea0c4b",
   "metadata": {},
   "source": [
    "Get rules for target resource type `Trace`"
   ]
  },
  {
   "cell_type": "code",
   "execution_count": 408,
   "id": "f05f3188",
   "metadata": {},
   "outputs": [],
   "source": [
    "trace_rules = forge.elastic(\"\"\"{\n",
    "  \"query\": {\n",
    "    \"bool\": {\n",
    "        \"must\": [\n",
    "            {\n",
    "               \"term\": {\"targetResourceType\": \"Trace\"}\n",
    "            },\n",
    "            {\n",
    "                \"term\": {\"_deprecated\": false}\n",
    "            }\n",
    "        ]\n",
    "     }\n",
    "   }\n",
    "}\"\"\")"
   ]
  },
  {
   "cell_type": "code",
   "execution_count": 409,
   "id": "5a364bc0",
   "metadata": {},
   "outputs": [
    {
     "name": "stdout",
     "output_type": "stream",
     "text": [
      "Trace generalization for cortical PCs\n",
      "MType similarity-based trace generalization for cortical PCs\n"
     ]
    }
   ],
   "source": [
    "for r in trace_rules:\n",
    "    print(r.name)"
   ]
  },
  {
   "cell_type": "code",
   "execution_count": 411,
   "id": "1cee8850",
   "metadata": {},
   "outputs": [
    {
     "name": "stdout",
     "output_type": "stream",
     "text": [
      "Trace generalization for cortical PCs\n",
      "\tPremise satisfied:  False\n",
      "\tSearch results:  None\n",
      "MType similarity-based trace generalization for cortical PCs\n"
     ]
    },
    {
     "name": "stderr",
     "output_type": "stream",
     "text": [
      "/Users/oshurko/Workspace/kg-inference/inference_tools/utils.py:280: InferenceToolsWarning: Rule premise is not satisfied on the input parameters\n",
      "  def apply_rule(rule, parameters, token):\n"
     ]
    },
    {
     "name": "stdout",
     "output_type": "stream",
     "text": [
      "\tPremise satisfied:  False\n",
      "\tSearch results:  None\n"
     ]
    }
   ],
   "source": [
    "for r in trace_rules:\n",
    "    print(r.name)\n",
    "    rule = forge.as_json(forge.retrieve(forge.as_json(r)[\"@id\"]))\n",
    "    \n",
    "    params = {\"MType\": \"bla\", \"brainRegion\": \"Bla\"}\n",
    "\n",
    "    print(\"\\tPremise satisfied: \", check_premises(rule, params, TOKEN))\n",
    "    result = apply_rule(rule, params, TOKEN)\n",
    "    print(\"\\tSearch results: \", result)"
   ]
  },
  {
   "cell_type": "code",
   "execution_count": 412,
   "id": "6d00685e",
   "metadata": {},
   "outputs": [
    {
     "name": "stdout",
     "output_type": "stream",
     "text": [
      "Trace generalization for cortical PCs\n",
      "\tPremise satisfied:  False\n",
      "\tSearch results:  None\n",
      "\n",
      "MType similarity-based trace generalization for cortical PCs\n",
      "\tPremise satisfied:  False\n",
      "\tSearch results:  None\n",
      "\n"
     ]
    },
    {
     "name": "stderr",
     "output_type": "stream",
     "text": [
      "/Users/oshurko/Workspace/kg-inference/inference_tools/utils.py:119: MissingParameterWarning: Premise is not satified, one or more parameters are missing. See the following exception: Parameter value 'brainRegion' is not specified\n",
      "  for premise in rule[\"premise\"]:\n"
     ]
    }
   ],
   "source": [
    "for r in trace_rules:\n",
    "    print(r.name)\n",
    "    rule = forge.as_json(forge.retrieve(forge.as_json(r)[\"@id\"]))\n",
    "\n",
    "    params = {\"MType\": \"bla\"}\n",
    "\n",
    "    print(\"\\tPremise satisfied: \", check_premises(rule, params, TOKEN))\n",
    "    result = apply_rule(rule, params, TOKEN)\n",
    "    print(\"\\tSearch results: \", result)\n",
    "    print()"
   ]
  },
  {
   "cell_type": "code",
   "execution_count": 413,
   "id": "ad3d244b",
   "metadata": {},
   "outputs": [
    {
     "name": "stdout",
     "output_type": "stream",
     "text": [
      "Trace generalization for cortical PCs\n",
      "\tPremise satisfied:  True\n",
      "\tSearch results: \n",
      "\t\t https://bbp.epfl.ch/neurosciencegraph/data/ff0e496d-b8a0-4c0e-8487-545563495dc0\n",
      "\t\t https://bbp.epfl.ch/neurosciencegraph/data/2b108ccf-4ad2-4495-8490-17b2fde656fa\n",
      "\t\t https://bbp.epfl.ch/neurosciencegraph/data/4fba4ab3-189c-4ff4-96bf-6904c1b8912b\n",
      "\n",
      "MType similarity-based trace generalization for cortical PCs\n",
      "\tPremise satisfied:  True\n",
      "\tSearch results: \n",
      "\t\t https://bbp.epfl.ch/neurosciencegraph/data/ff0e496d-b8a0-4c0e-8487-545563495dc0\n",
      "\n"
     ]
    }
   ],
   "source": [
    "for r in trace_rules:\n",
    "    print(r.name)\n",
    "    rule = forge.as_json(forge.retrieve(forge.as_json(r)[\"@id\"]))\n",
    "    \n",
    "    params = input_filters\n",
    "    \n",
    "    print(\"\\tPremise satisfied: \", check_premises(rule, params, TOKEN))\n",
    "    result = apply_rule(rule, params, TOKEN)\n",
    "    print(\"\\tSearch results: \")\n",
    "    if isinstance(result, dict):\n",
    "        result = [result]\n",
    "    for el in result:\n",
    "        print(\"\\t\\t\", el[\"id\"])\n",
    "    print()"
   ]
  },
  {
   "cell_type": "code",
   "execution_count": 414,
   "id": "4da38a68",
   "metadata": {
    "scrolled": true
   },
   "outputs": [
    {
     "name": "stdout",
     "output_type": "stream",
     "text": [
      "Trace generalization for cortical PCs\n",
      "\tPremise satisfied:  True\n",
      "\tSearch results: \n",
      "\t\t https://bbp.epfl.ch/neurosciencegraph/data/ff0e496d-b8a0-4c0e-8487-545563495dc0\n",
      "\t\t https://bbp.epfl.ch/neurosciencegraph/data/2b108ccf-4ad2-4495-8490-17b2fde656fa\n",
      "\t\t https://bbp.epfl.ch/neurosciencegraph/data/4fba4ab3-189c-4ff4-96bf-6904c1b8912b\n",
      "\n",
      "MType similarity-based trace generalization for cortical PCs\n",
      "\tPremise satisfied:  True\n",
      "\tSearch results: \n",
      "\t\t https://bbp.epfl.ch/neurosciencegraph/data/ff0e496d-b8a0-4c0e-8487-545563495dc0\n",
      "\n",
      "Combined (PC) MType similarity\n",
      "\tPremise satisfied:  True\n",
      "\tSearch results: \n",
      "\t\t http://uri.interlex.org/base/ilx_0381371\n",
      "\n"
     ]
    }
   ],
   "source": [
    "for r in all_rules:\n",
    "    print(r.name)\n",
    "    rule = forge.as_json(forge.retrieve(forge.as_json(r)[\"@id\"]))\n",
    "    \n",
    "    params = input_filters\n",
    "    \n",
    "    print(\"\\tPremise satisfied: \", check_premises(rule, params, TOKEN))\n",
    "    result = apply_rule(rule, params, TOKEN)\n",
    "    print(\"\\tSearch results: \")\n",
    "    if isinstance(result, dict):\n",
    "        result = [result]\n",
    "    for el in result:\n",
    "        print(\"\\t\\t\", el[\"id\"])\n",
    "    print()"
   ]
  }
 ],
 "metadata": {
  "kernelspec": {
   "display_name": "inference",
   "language": "python",
   "name": "inference"
  },
  "language_info": {
   "codemirror_mode": {
    "name": "ipython",
    "version": 3
   },
   "file_extension": ".py",
   "mimetype": "text/x-python",
   "name": "python",
   "nbconvert_exporter": "python",
   "pygments_lexer": "ipython3",
   "version": "3.8.12"
  }
 },
 "nbformat": 4,
 "nbformat_minor": 5
}
