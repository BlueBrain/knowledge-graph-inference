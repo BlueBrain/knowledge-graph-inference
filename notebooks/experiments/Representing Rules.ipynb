{
 "cells": [
  {
   "cell_type": "code",
   "execution_count": 22,
   "id": "b7afd383",
   "metadata": {},
   "outputs": [
    {
     "name": "stdout",
     "output_type": "stream",
     "text": [
      "The autoreload extension is already loaded. To reload it, use:\n",
      "  %reload_ext autoreload\n"
     ]
    }
   ],
   "source": [
    "%load_ext autoreload\n",
    "%autoreload 2"
   ]
  },
  {
   "cell_type": "code",
   "execution_count": 23,
   "id": "6387d060",
   "metadata": {},
   "outputs": [],
   "source": [
    "from string import Template\n",
    "\n",
    "import numpy as np\n",
    "import pandas as pd\n",
    "\n",
    "import getpass\n",
    "import json\n",
    "\n",
    "from collections import defaultdict, namedtuple\n",
    "\n",
    "from urllib.parse import quote_plus\n",
    "\n",
    "from kgforge.core import KnowledgeGraphForge\n",
    "\n",
    "from inference_tools.query.elastic_search import set_elastic_view\n",
    "from inference_tools.utils import (check_premises,\n",
    "                                   execute_query,\n",
    "                                   execute_query_pipe,\n",
    "                                   apply_rule)"
   ]
  },
  {
   "cell_type": "code",
   "execution_count": 25,
   "id": "9a243f67",
   "metadata": {},
   "outputs": [
    {
     "name": "stdout",
     "output_type": "stream",
     "text": [
      "········\n"
     ]
    }
   ],
   "source": [
    "TOKEN = getpass.getpass()"
   ]
  },
  {
   "cell_type": "code",
   "execution_count": 26,
   "id": "412098f8",
   "metadata": {},
   "outputs": [],
   "source": [
    "ENDPOINT = \"https://staging.nexus.ocp.bbp.epfl.ch/v1\""
   ]
  },
  {
   "cell_type": "code",
   "execution_count": 30,
   "id": "088e2ec9",
   "metadata": {},
   "outputs": [],
   "source": [
    "forge = KnowledgeGraphForge(\n",
    "    \"../../configs/new-forge-config.yaml\",\n",
    "    endpoint=ENDPOINT,\n",
    "    token=TOKEN, \n",
    "    bucket=\"dke/inference-test\")"
   ]
  },
  {
   "cell_type": "markdown",
   "id": "fd6fb0ad",
   "metadata": {},
   "source": [
    "# Inference Rules"
   ]
  },
  {
   "cell_type": "markdown",
   "id": "0f2652d4",
   "metadata": {},
   "source": [
    "Get filters from atlas (or advanced query)"
   ]
  },
  {
   "cell_type": "markdown",
   "id": "f4b96f42",
   "metadata": {},
   "source": [
    "We get filters from atlas (or advanced query), for example:\n",
    "\n",
    "    brainRegion \"http://api.brain-map.org/api/v2/data/Structure/31\"  # ACA\n",
    "    species \"http://purl.obolibrary.org/obo/NCBITaxon_10088\"   # Mouse\n",
    "    MType \"http://uri.interlex.org/base/ilx_0381377\"  # L6_UPC"
   ]
  },
  {
   "cell_type": "code",
   "execution_count": 31,
   "id": "0eefb80e",
   "metadata": {},
   "outputs": [],
   "source": [
    "input_filters = {\n",
    "    \"brainRegion\": \"http://api.brain-map.org/api/v2/data/Structure/31\",\n",
    "    \"MType\": \"http://uri.interlex.org/base/ilx_0381377\",\n",
    "    \"species\": \"http://purl.obolibrary.org/obo/NCBITaxon_10088\",\n",
    "}"
   ]
  },
  {
   "cell_type": "markdown",
   "id": "fe2991e8",
   "metadata": {},
   "source": [
    "Show all rules whose premises this search satisfies\n",
    "\n",
    "- `KGQuery`: `SparqlQuery`, `ESQuery`, `ForgeSearchQuery`\n",
    "- `RulePremise`: `PropertyPremise` \n",
    "\n",
    "Components of a `QueryBasedGeneralizationRule`:\n",
    "\n",
    "- __Rule Parameters__ values from atlas filters or advanced query (species, brain region, cell type (m/e/t), datatype) \n",
    "- __Premises__ need to be satisfied on provided rule params for the rule to be applied\n",
    "- __Query__ is applied to retrieve resources (result of inference). Queries can use the provided rule parameters\n",
    "\n",
    "Course of actions:\n",
    "    - Take filters\n",
    "    - Take all the available rules (?)\n",
    "    - Search for rules whose premises filters satisfy:\n",
    "       -  For each rule execute 'premise query' filled with parameters generated from filters\n",
    "      - Return rules whose premises are satisfied\n",
    "    - Apply queries of satisfied rules"
   ]
  },
  {
   "cell_type": "markdown",
   "id": "bdb4c361",
   "metadata": {},
   "source": [
    "# Principle: PC cells in neocortex have the same E-behaviour\n",
    "\n",
    "## Rule A (simple query)\n",
    "\n",
    "Input parameters: brain_region, MType\n",
    "If (premise)\n",
    "   (brain region)-[is_part_of]->({id: isocortex})\n",
    "   (mtype)-[IS_SUBCLASS_OF]->({id: PC})\n",
    "\n",
    "Return X s.t.\n",
    "- (X)-[IS_A]->(Trace)\n",
    "- (X)-[subject/species]->({id: Mouse})\n",
    "- (X)-[brainLocation/brainRegion]->(brain_region)-[is_part_of]->({id: isocortex})\n",
    "- (X)-[brainLocation/layer]->(brain layer {id: L5})\n",
    "- (X)-[hasMType]->(MType)-[IS_SUBCLASS_OF]->({id: PC})"
   ]
  },
  {
   "cell_type": "code",
   "execution_count": 32,
   "id": "f7315abe",
   "metadata": {},
   "outputs": [],
   "source": [
    "premise = [\n",
    "   {\n",
    "        \"type\": \"SparqlPremise\",\n",
    "        \"hasParameter\": [\n",
    "            {\n",
    "                \"name\": \"brainRegion\",\n",
    "                \"description\": \"URI of the query brain region\",\n",
    "                \"type\": \"sparql_uri\"\n",
    "            }\n",
    "        ],\n",
    "        \"hasBody\": \"\"\"\n",
    "            SELECT ?x\n",
    "            WHERE {\n",
    "                <$brainRegion> <http://schema.org/isPartOf>* <http://api.brain-map.org/api/v2/data/Structure/315> .\n",
    "            }\n",
    "        \"\"\",\n",
    "        \"queryConfiguration\": {\n",
    "            \"org\": \"dke\",\n",
    "            \"project\": \"inference-test\",\n",
    "            \"sparqlView\": {\n",
    "                \"id\": \"https://bluebrain.github.io/nexus/vocabulary/defaultSparqlIndex\",\n",
    "                \"type\": \"SparqlView\"\n",
    "            }\n",
    "        }\n",
    "    },\n",
    "    {\n",
    "        \"type\": \"SparqlPremise\",\n",
    "        \"hasParameter\": [\n",
    "            {\n",
    "                \"name\": \"MType\",\n",
    "                \"description\": \"URI of the query MType\",\n",
    "                \"type\": \"sparql_uri\"\n",
    "            }\n",
    "        ],\n",
    "        \"hasBody\": \"\"\"\n",
    "            SELECT ?x\n",
    "            WHERE {\n",
    "                <$MType> rdfs:subClassOf* <https://neuroshapes.org/PyramidalNeuron> .\n",
    "            }\n",
    "        \"\"\",\n",
    "        \"queryConfiguration\": {\n",
    "            \"org\": \"dke\",\n",
    "            \"project\": \"inference-test\"\n",
    "        }\n",
    "    },\n",
    "    {\n",
    "        \"type\": \"ForgeSearchPremise\",\n",
    "        \"hasParameter\": [\n",
    "            {\n",
    "                \"name\": \"brainRegion\",\n",
    "                \"description\": \"URI of the query brain region\",\n",
    "                \"type\": \"sparql_uri\"\n",
    "            }\n",
    "        ],\n",
    "        \"targetParameter\": \"brainRegion\",\n",
    "        \"targetPath\": \"id\",\n",
    "        \"pattern\": {\n",
    "            \"isPartOf\": \"http://api.brain-map.org/api/v2/data/Structure/315\"\n",
    "        },\n",
    "        \"queryConfiguration\": {\n",
    "            \"org\": \"dke\",\n",
    "            \"project\": \"inference-test\"\n",
    "        }\n",
    "    },\n",
    "]"
   ]
  },
  {
   "cell_type": "code",
   "execution_count": 33,
   "id": "e02ffaee",
   "metadata": {},
   "outputs": [],
   "source": [
    "search_query_A = {\n",
    "    \"type\": \"SparqlQuery\",\n",
    "    \"hasBody\": \"\"\"\n",
    "        SELECT ?resource\n",
    "        WHERE {\n",
    "          ?resource a <https://neuroshapes.org/Trace> ;\n",
    "                      <https://neuroshapes.org/annotation>/<https://neuroshapes.org/hasBody> ?mtype ;\n",
    "                      <https://bluebrain.github.io/nexus/vocabulary/deprecated> false ;\n",
    "                      <https://neuroshapes.org/brainLocation>/<https://neuroshapes.org/brainRegion> ?brainRegion.\n",
    "          ?mtype rdfs:subClassOf* <https://neuroshapes.org/PyramidalNeuron> .\n",
    "          ?brainRegion <http://schema.org/isPartOf>* <http://api.brain-map.org/api/v2/data/Structure/315> .\n",
    "        }\n",
    "    \"\"\",\n",
    "    \"queryConfiguration\": {\n",
    "        \"org\": \"dke\",\n",
    "        \"project\": \"inference-test\"\n",
    "    }\n",
    "}"
   ]
  },
  {
   "cell_type": "code",
   "execution_count": 34,
   "id": "0cf997d7",
   "metadata": {},
   "outputs": [],
   "source": [
    "rule_A = {\n",
    "    \"type\": \"DataGeneralizationRule\",\n",
    "    \"name\": \"Trace generalization for cortical PCs\",\n",
    "    \"description\": \"Collect traces belonging to PCs from other cortical regions\",\n",
    "    \"premise\": premise,\n",
    "    \"searchQuery\": search_query_A\n",
    "}"
   ]
  },
  {
   "cell_type": "code",
   "execution_count": null,
   "id": "28751551",
   "metadata": {},
   "outputs": [],
   "source": [
    "rule_B = {\n",
    "    \"type\": \"DataGeneralizationRule\",\n",
    "    \"name\": \"Trace generalization for cortical PCs\",\n",
    "    \"description\": \"Collect traces belonging to PCs from other cortical regions\",\n",
    "    \"premise\": [\n",
    "       {\n",
    "            \"type\": \"SparqlPremise\",\n",
    "            \"hasParameter\": [\n",
    "                {\n",
    "                    \"name\": \"brainRegion\",\n",
    "                    \"description\": \"URI of the query brain region\",\n",
    "                    \"type\": \"sparql_uri\"\n",
    "                }\n",
    "            ],\n",
    "            \"hasBody\": \"\"\"\n",
    "                SELECT ?x\n",
    "                WHERE {\n",
    "                    <$brainRegion> <http://schema.org/isPartOf>* <http://api.brain-map.org/api/v2/data/Structure/315> .\n",
    "                }\n",
    "            \"\"\",\n",
    "            \"queryConfiguration\": {\n",
    "                \"org\": \"dke\",\n",
    "                \"project\": \"inference-test\",\n",
    "                \"sparqlView\": {\n",
    "                    \"id\": \"https://bluebrain.github.io/nexus/vocabulary/defaultSparqlIndex\",\n",
    "                    \"type\": \"SparqlView\"\n",
    "                }\n",
    "            }\n",
    "        },\n",
    "        {\n",
    "            \"type\": \"SparqlPremise\",\n",
    "            \"hasParameter\": [\n",
    "                {\n",
    "                    \"name\": \"MType\",\n",
    "                    \"description\": \"URI of the query MType\",\n",
    "                    \"type\": \"sparql_uri\"\n",
    "                }\n",
    "            ],\n",
    "            \"hasBody\": \"\"\"\n",
    "                SELECT ?x\n",
    "                WHERE {\n",
    "                    <$MType> rdfs:subClassOf* <https://neuroshapes.org/PyramidalNeuron> .\n",
    "                }\n",
    "            \"\"\",\n",
    "            \"queryConfiguration\": {\n",
    "                \"org\": \"dke\",\n",
    "                \"project\": \"inference-test\"\n",
    "            }\n",
    "        },\n",
    "        {\n",
    "            \"type\": \"ForgeSearchPremise\",\n",
    "            \"hasParameter\": [\n",
    "                {\n",
    "                    \"name\": \"brainRegion\",\n",
    "                    \"description\": \"URI of the query brain region\",\n",
    "                    \"type\": \"sparql_uri\"\n",
    "                }\n",
    "            ],\n",
    "            \"targetParameter\": \"brainRegion\",\n",
    "            \"targetPath\": \"id\",\n",
    "            \"pattern\": {\n",
    "                \"isPartOf\": \"http://api.brain-map.org/api/v2/data/Structure/315\"\n",
    "            },\n",
    "            \"queryConfiguration\": {\n",
    "                \"org\": \"dke\",\n",
    "                \"project\": \"inference-test\"\n",
    "            }\n",
    "        },\n",
    "    ],\n",
    "    \"searchQuery\": {\n",
    "        \"type\": \"QueryPipe\",\n",
    "        \"head\": {\n",
    "            # Query type\n",
    "            \"type\": \"SparqlQuery\",\n",
    "            \"queryConfiguration\": {\n",
    "                \"org\": \"dke\",\n",
    "                \"project\": \"inference-test\",\n",
    "                \"sparqlView\": {\n",
    "                    \"id\": \"https://bluebrain.github.io/nexus/vocabulary/defaultSparqlIndex\",\n",
    "                    \"type\": \"SparqlView\"\n",
    "                }\n",
    "            },\n",
    "            # Query body\n",
    "            \"hasBody\": \"\"\"\n",
    "                SELECT ?mtype\n",
    "                WHERE {\n",
    "                    ?mtype rdfs:subClassOf* <https://neuroshapes.org/PyramidalNeuron> .\n",
    "                    ?trace <https://neuroshapes.org/annotation>/<https://neuroshapes.org/hasBody> ?mtype.\n",
    "                }\n",
    "            \"\"\",\n",
    "            # Mapping of query results to the parameters (passed to the next query)\n",
    "            \"resultParameterMapping\": [\n",
    "                {\n",
    "                    \"path\": \"mtype\",\n",
    "                    \"parameterName\": \"acceptableResults\"\n",
    "                }\n",
    "            ]\n",
    "        },\n",
    "        \"rest\": { \n",
    "            \"type\": \"QueryPipe\",\n",
    "            \"head\": {\n",
    "                # Query type\n",
    "                \"type\": \"SimilarityQuery\",\n",
    "                # Number of top results to return\n",
    "                \"k\": 1,\n",
    "                \"queryConfiguration\": {\n",
    "                    \"org\": \"dke\",\n",
    "                    \"project\": \"inference-test\",\n",
    "                    \"embeddingModel\": {\n",
    "                        \"id\": \"https://bbp.epfl.ch/neurosciencegraph/data/MTypeEmbeddingModel\",\n",
    "                        \"type\": \"EmbeddingModel\"\n",
    "                    },\n",
    "                    \"similarityView\": {\n",
    "                        \"id\": \"https://bbp.epfl.ch/neurosciencegraph/data/mtype-embedding-view\",\n",
    "                        \"type\": \"ElasticSearchView\"\n",
    "                    },\n",
    "                    \"scoreFormula\": \"euclidean\",\n",
    "                },\n",
    "                # Specification of input parameters\n",
    "                \"hasParameter\": [\n",
    "                    {\n",
    "                        \"name\": \"MType\",\n",
    "                        \"description\": \"URI of the query MType\",\n",
    "                        \"type\": \"str\"\n",
    "                    },\n",
    "                    {\n",
    "                        \"name\": \"acceptableResults\",\n",
    "                        \"description\": \"List of URI's of acceptable MTypes (all PCs)\",\n",
    "                        \"type\": \"list\"\n",
    "                    }\n",
    "                ],\n",
    "                # Query to retrieve embeddings\n",
    "                \"searchTargetParameter\": \"MType\",\n",
    "                # Filter to apply on the similarity search results\n",
    "                \"resultFilter\": \"\"\"\n",
    "                    \"must\": {\n",
    "                        \"nested\": {\n",
    "                            \"path\": \"derivation.entity\",\n",
    "                            \"query\": {\n",
    "                                \"terms\": { \"derivation.entity.@id\": [$acceptableResults] }\n",
    "                            }\n",
    "                        }\n",
    "                    }\n",
    "                \"\"\",\n",
    "                # Mapping of query results to the parameters (passed to the next query)\n",
    "                \"resultParameterMapping\": [{\n",
    "                    \"path\": \"id\",\n",
    "                    \"parameterName\": \"closestMType\"\n",
    "                }]\n",
    "            },\n",
    "            \"rest\": {\n",
    "                # Query type\n",
    "                \"type\": \"SparqlQuery\",\n",
    "                # Specification of input parameters\n",
    "                \"hasParameter\": [\n",
    "                    {\n",
    "                        \"name\": \"closestMType\",\n",
    "                        \"description\": \"URI of the closest acceptable MType\",\n",
    "                        \"type\": \"sparql_uri\"\n",
    "                    }\n",
    "                ],\n",
    "                \"queryConfiguration\": {\n",
    "                    \"org\": \"dke\",\n",
    "                    \"project\": \"inference-test\",\n",
    "                    \"sparqlView\": {\n",
    "                        \"id\": \"https://bluebrain.github.io/nexus/vocabulary/defaultSparqlIndex\",\n",
    "                        \"type\": \"SparqlView\"\n",
    "                    }\n",
    "                },\n",
    "                # Query body\n",
    "                \"hasBody\": \"\"\"\n",
    "                    SELECT ?id\n",
    "                    WHERE {\n",
    "                        ?id a <https://neuroshapes.org/Trace> ;\n",
    "                            <https://bluebrain.github.io/nexus/vocabulary/deprecated> false ;\n",
    "                            <https://neuroshapes.org/annotation> ?annotation ;\n",
    "                            <https://neuroshapes.org/brainLocation>/<https://neuroshapes.org/brainRegion> ?brainRegion.\n",
    "                        ?annotation <https://neuroshapes.org/hasBody> <$closestMType>.\n",
    "                    }\n",
    "                \"\"\"\n",
    "            }\n",
    "        }\n",
    "    }\n",
    "}"
   ]
  },
  {
   "cell_type": "code",
   "execution_count": 39,
   "id": "c64ca079",
   "metadata": {},
   "outputs": [
    {
     "name": "stdout",
     "output_type": "stream",
     "text": [
      "CPU times: user 2 µs, sys: 1 µs, total: 3 µs\n",
      "Wall time: 4.05 µs\n",
      "https://staging.nexus.ocp.bbp.epfl.ch/v1/views/dke/inference-test/https%3A%2F%2Fbluebrain.github.io%2Fnexus%2Fvocabulary%2FdefaultSparqlIndex/_search\n",
      "Submitted query:\n",
      "   PREFIX bmc: <https://bbp.epfl.ch/ontologies/core/bmc/>\n",
      "   PREFIX bmo: <https://bbp.epfl.ch/ontologies/core/bmo/>\n",
      "   PREFIX commonshapes: <https://neuroshapes.org/commons/>\n",
      "   PREFIX datashapes: <https://neuroshapes.org/dash/>\n",
      "   PREFIX dc: <http://purl.org/dc/elements/1.1/>\n",
      "   PREFIX dcat: <http://www.w3.org/ns/dcat#>\n",
      "   PREFIX dcterms: <http://purl.org/dc/terms/>\n",
      "   PREFIX mba: <http://api.brain-map.org/api/v2/data/Structure/>\n",
      "   PREFIX nsg: <https://neuroshapes.org/>\n",
      "   PREFIX nxv: <https://bluebrain.github.io/nexus/vocabulary/>\n",
      "   PREFIX oa: <http://www.w3.org/ns/oa#>\n",
      "   PREFIX owl: <http://www.w3.org/2002/07/owl#>\n",
      "   PREFIX prov: <http://www.w3.org/ns/prov#>\n",
      "   PREFIX rdf: <http://www.w3.org/1999/02/22-rdf-syntax-ns#>\n",
      "   PREFIX rdfs: <http://www.w3.org/2000/01/rdf-schema#>\n",
      "   PREFIX schema: <http://schema.org/>\n",
      "   PREFIX sh: <http://www.w3.org/ns/shacl#>\n",
      "   PREFIX shsh: <http://www.w3.org/ns/shacl-shacl#>\n",
      "   PREFIX skos: <http://www.w3.org/2004/02/skos/core#>\n",
      "   PREFIX vann: <http://purl.org/vocab/vann/>\n",
      "   PREFIX void: <http://rdfs.org/ns/void#>\n",
      "   PREFIX xsd: <http://www.w3.org/2001/XMLSchema#>\n",
      "   PREFIX : <https://staging.nexus.ocp.bbp.epfl.ch/v1/resources/dke/inference-test/_/>\n",
      "   \n",
      "               SELECT ?x\n",
      "               WHERE {\n",
      "                   <http://api.brain-map.org/api/v2/data/Structure/31> <http://schema.org/isPartOf>* <http://api.brain-map.org/api/v2/data/Structure/315> .\n",
      "               }\n",
      "           \n",
      "\n",
      "<action> _sparql\n",
      "<error> QueryingError: 415 Client Error: Unsupported Media Type for url: https://staging.nexus.ocp.bbp.epfl.ch/v1/views/dke/inference-test/https%3A%2F%2Fbluebrain.github.io%2Fnexus%2Fvocabulary%2FdefaultSparqlIndex/_search\n",
      "\n",
      "<action> as_json\n",
      "<error> TypeError: 'NoneType' object is not iterable\n",
      "\n",
      "None\n"
     ]
    },
    {
     "ename": "TypeError",
     "evalue": "object of type 'NoneType' has no len()",
     "output_type": "error",
     "traceback": [
      "\u001b[0;31m---------------------------------------------------------------------------\u001b[0m",
      "\u001b[0;31mTypeError\u001b[0m                                 Traceback (most recent call last)",
      "\u001b[0;32m<ipython-input-39-59e2d9e9580e>\u001b[0m in \u001b[0;36m<module>\u001b[0;34m\u001b[0m\n\u001b[1;32m      1\u001b[0m \u001b[0mget_ipython\u001b[0m\u001b[0;34m(\u001b[0m\u001b[0;34m)\u001b[0m\u001b[0;34m.\u001b[0m\u001b[0mrun_line_magic\u001b[0m\u001b[0;34m(\u001b[0m\u001b[0;34m'time'\u001b[0m\u001b[0;34m,\u001b[0m \u001b[0;34m''\u001b[0m\u001b[0;34m)\u001b[0m\u001b[0;34m\u001b[0m\u001b[0;34m\u001b[0m\u001b[0m\n\u001b[0;32m----> 2\u001b[0;31m \u001b[0mcheck_premises\u001b[0m\u001b[0;34m(\u001b[0m\u001b[0mrule_A\u001b[0m\u001b[0;34m,\u001b[0m \u001b[0minput_filters\u001b[0m\u001b[0;34m,\u001b[0m \u001b[0mTOKEN\u001b[0m\u001b[0;34m)\u001b[0m\u001b[0;34m\u001b[0m\u001b[0;34m\u001b[0m\u001b[0m\n\u001b[0m",
      "\u001b[0;32m~/Workspace/kg-inference/inference_tools/utils.py\u001b[0m in \u001b[0;36mcheck_premises\u001b[0;34m(rule, parameters, token)\u001b[0m\n\u001b[1;32m    141\u001b[0m         \u001b[0;32mif\u001b[0m \u001b[0mpremise\u001b[0m\u001b[0;34m[\u001b[0m\u001b[0;34m\"type\"\u001b[0m\u001b[0;34m]\u001b[0m \u001b[0;34m==\u001b[0m \u001b[0;34m\"SparqlPremise\"\u001b[0m\u001b[0;34m:\u001b[0m\u001b[0;34m\u001b[0m\u001b[0;34m\u001b[0m\u001b[0m\n\u001b[1;32m    142\u001b[0m             \u001b[0mcustom_sparql_view\u001b[0m \u001b[0;34m=\u001b[0m \u001b[0mconfig\u001b[0m\u001b[0;34m.\u001b[0m\u001b[0mget\u001b[0m\u001b[0;34m(\u001b[0m\u001b[0;34m\"sparqlView\"\u001b[0m\u001b[0;34m,\u001b[0m \u001b[0;32mNone\u001b[0m\u001b[0;34m)\u001b[0m\u001b[0;34m\u001b[0m\u001b[0;34m\u001b[0m\u001b[0m\n\u001b[0;32m--> 143\u001b[0;31m             passed = check_sparql_premise(\n\u001b[0m\u001b[1;32m    144\u001b[0m                 forge, premise, parameters, custom_sparql_view)\n\u001b[1;32m    145\u001b[0m             \u001b[0;32mif\u001b[0m \u001b[0;32mnot\u001b[0m \u001b[0mpassed\u001b[0m\u001b[0;34m:\u001b[0m\u001b[0;34m\u001b[0m\u001b[0;34m\u001b[0m\u001b[0m\n",
      "\u001b[0;32m~/Workspace/kg-inference/inference_tools/query/sparql.py\u001b[0m in \u001b[0;36mcheck_sparql_premise\u001b[0;34m(forge, query, parameters, custom_sparql_view)\u001b[0m\n\u001b[1;32m     29\u001b[0m         forge, query, parameters, custom_sparql_view)\n\u001b[1;32m     30\u001b[0m     \u001b[0mprint\u001b[0m\u001b[0;34m(\u001b[0m\u001b[0mresults\u001b[0m\u001b[0;34m)\u001b[0m\u001b[0;34m\u001b[0m\u001b[0;34m\u001b[0m\u001b[0m\n\u001b[0;32m---> 31\u001b[0;31m     \u001b[0;32mif\u001b[0m \u001b[0mlen\u001b[0m\u001b[0;34m(\u001b[0m\u001b[0mresults\u001b[0m\u001b[0;34m)\u001b[0m \u001b[0;34m>\u001b[0m \u001b[0;36m0\u001b[0m\u001b[0;34m:\u001b[0m\u001b[0;34m\u001b[0m\u001b[0;34m\u001b[0m\u001b[0m\n\u001b[0m\u001b[1;32m     32\u001b[0m         \u001b[0;32mreturn\u001b[0m \u001b[0;32mTrue\u001b[0m\u001b[0;34m\u001b[0m\u001b[0;34m\u001b[0m\u001b[0m\n\u001b[1;32m     33\u001b[0m     \u001b[0;32mreturn\u001b[0m \u001b[0;32mFalse\u001b[0m\u001b[0;34m\u001b[0m\u001b[0;34m\u001b[0m\u001b[0m\n",
      "\u001b[0;31mTypeError\u001b[0m: object of type 'NoneType' has no len()"
     ]
    }
   ],
   "source": [
    "%time\n",
    "check_premises(rule_A, input_filters, TOKEN)"
   ]
  },
  {
   "cell_type": "code",
   "execution_count": null,
   "id": "b3ba7fff",
   "metadata": {
    "scrolled": false
   },
   "outputs": [],
   "source": [
    "%time\n",
    "apply_rule(rule_A, input_filters, TOKEN)"
   ]
  },
  {
   "cell_type": "code",
   "execution_count": 19,
   "id": "83445b7c",
   "metadata": {},
   "outputs": [],
   "source": [
    "# forge.register(forge.from_json(rule_A))"
   ]
  },
  {
   "cell_type": "code",
   "execution_count": 20,
   "id": "628c2c89",
   "metadata": {},
   "outputs": [
    {
     "name": "stdout",
     "output_type": "stream",
     "text": [
      "<action> retrieve\n",
      "<error> RetrievalError: 404 Client Error: Not Found for url: https://bbp.epfl.ch/nexus/v1/resources/bbp/atlas/_/https%3A%2F%2Fbbp.epfl.ch%2Fneurosciencegraph%2Fdata%2Fc6806339-a6fe-43d3-8d0c-6d9f68c90dfb\n",
      "\n",
      "<action> as_json\n",
      "<error> TypeError: 'NoneType' object is not iterable\n",
      "\n"
     ]
    }
   ],
   "source": [
    "rule_id = \"https://bbp.epfl.ch/neurosciencegraph/data/c6806339-a6fe-43d3-8d0c-6d9f68c90dfb\"\n",
    "rule_from_nexus = forge.as_json(forge.retrieve(rule_id))"
   ]
  },
  {
   "cell_type": "code",
   "execution_count": 21,
   "id": "eecde7b4",
   "metadata": {},
   "outputs": [
    {
     "ename": "TypeError",
     "evalue": "'NoneType' object is not subscriptable",
     "output_type": "error",
     "traceback": [
      "\u001b[0;31m---------------------------------------------------------------------------\u001b[0m",
      "\u001b[0;31mTypeError\u001b[0m                                 Traceback (most recent call last)",
      "\u001b[0;32m<ipython-input-21-3af92b46b0df>\u001b[0m in \u001b[0;36m<module>\u001b[0;34m\u001b[0m\n\u001b[0;32m----> 1\u001b[0;31m \u001b[0mcheck_premises\u001b[0m\u001b[0;34m(\u001b[0m\u001b[0mrule_from_nexus\u001b[0m\u001b[0;34m,\u001b[0m \u001b[0minput_filters\u001b[0m\u001b[0;34m,\u001b[0m \u001b[0mTOKEN\u001b[0m\u001b[0;34m)\u001b[0m\u001b[0;34m\u001b[0m\u001b[0;34m\u001b[0m\u001b[0m\n\u001b[0m",
      "\u001b[0;32m~/Workspace/kg-inference/inference_tools/utils.py\u001b[0m in \u001b[0;36mcheck_premises\u001b[0;34m(rule, parameters, token)\u001b[0m\n\u001b[1;32m    115\u001b[0m     \u001b[0msatisfies\u001b[0m \u001b[0;34m=\u001b[0m \u001b[0;32mTrue\u001b[0m\u001b[0;34m\u001b[0m\u001b[0;34m\u001b[0m\u001b[0m\n\u001b[1;32m    116\u001b[0m \u001b[0;34m\u001b[0m\u001b[0m\n\u001b[0;32m--> 117\u001b[0;31m     \u001b[0;32mif\u001b[0m \u001b[0misinstance\u001b[0m\u001b[0;34m(\u001b[0m\u001b[0mrule\u001b[0m\u001b[0;34m[\u001b[0m\u001b[0;34m\"premise\"\u001b[0m\u001b[0;34m]\u001b[0m\u001b[0;34m,\u001b[0m \u001b[0mdict\u001b[0m\u001b[0;34m)\u001b[0m\u001b[0;34m:\u001b[0m\u001b[0;34m\u001b[0m\u001b[0;34m\u001b[0m\u001b[0m\n\u001b[0m\u001b[1;32m    118\u001b[0m         \u001b[0mrule\u001b[0m\u001b[0;34m[\u001b[0m\u001b[0;34m\"premise\"\u001b[0m\u001b[0;34m]\u001b[0m \u001b[0;34m=\u001b[0m \u001b[0;34m[\u001b[0m\u001b[0mrule\u001b[0m\u001b[0;34m[\u001b[0m\u001b[0;34m\"premise\"\u001b[0m\u001b[0;34m]\u001b[0m\u001b[0;34m]\u001b[0m\u001b[0;34m\u001b[0m\u001b[0;34m\u001b[0m\u001b[0m\n\u001b[1;32m    119\u001b[0m \u001b[0;34m\u001b[0m\u001b[0m\n",
      "\u001b[0;31mTypeError\u001b[0m: 'NoneType' object is not subscriptable"
     ]
    }
   ],
   "source": [
    "check_premises(rule_from_nexus, input_filters, TOKEN)"
   ]
  },
  {
   "cell_type": "code",
   "execution_count": null,
   "id": "858a628d",
   "metadata": {},
   "outputs": [],
   "source": [
    "apply_rule(rule_from_nexus, input_filters, TOKEN)"
   ]
  },
  {
   "cell_type": "markdown",
   "id": "d7669dcf",
   "metadata": {},
   "source": [
    "## Rule B (query + similarity search)"
   ]
  },
  {
   "cell_type": "markdown",
   "id": "149ae1c1",
   "metadata": {},
   "source": [
    "Input parameters: brain_region, MType, similarityModelId, topNeighbors\n",
    "\n",
    "Find closest MType and then return traces/morphs with the closest MType that is also a subclass of pyramidal neuron and that are located in a cortical region.\n",
    "\n",
    "If (premise)\n",
    "   (brain region)-[is_part_of]->({id: isocortex})\n",
    "   (mtype)-[IS_SUBCLASS_OF]->({id: PC})\n",
    "\n",
    "\n",
    "Return Y s.t.\n",
    "- (Y)-[hasMType]->(MTypeY)\n",
    "- Select top K MTypeY by sim_{similarityModel}(MType, MTypeY) \n",
    "\n",
    "(or for traces)\n",
    "Return Y s.t.\n",
    "- (Y)-[hasEType]->(ETypeY)\n",
    "- Select either top K ETypeY by sim_{similarityModel}(ETypeX, ETypeY) or s.t sim_{similarityModel}(ETypeX, ETypeY) > similarityThreshold"
   ]
  },
  {
   "cell_type": "markdown",
   "id": "bdb99f91",
   "metadata": {},
   "source": [
    "__Notes__:\n",
    "\n",
    "- Similarity-based query is not allowed in premises\n",
    "- You can use results from the previous query or input params in the next query"
   ]
  },
  {
   "cell_type": "markdown",
   "id": "5aafbcd2",
   "metadata": {},
   "source": [
    "TODO: make rule know which view to use\n",
    "- \"configuration\": \"https://bbp.epfl.ch/neurosciencegraph/data/ontology-class-recommender-config\",\n",
    "- \"similarityModels\": \"https://bbp.epfl.ch/neurosciencegraph/data/MTypeEmbeddingModel\",          "
   ]
  },
  {
   "cell_type": "code",
   "execution_count": 390,
   "id": "7388bc8b",
   "metadata": {},
   "outputs": [],
   "source": [
    "search_query_B =  {\n",
    "    \"type\": \"QueryPipe\",\n",
    "    \"head\": {\n",
    "        # Query type\n",
    "        \"type\": \"SparqlQuery\",\n",
    "        \"queryConfiguration\": {\n",
    "            \"org\": \"dke\",\n",
    "            \"project\": \"inference-test\",\n",
    "            \"sparqlView\": {\n",
    "                \"id\": \"https://bluebrain.github.io/nexus/vocabulary/defaultSparqlIndex\",\n",
    "                \"type\": \"SparqlView\"\n",
    "            }\n",
    "        },\n",
    "        # Query body\n",
    "        \"hasBody\": \"\"\"\n",
    "            SELECT ?mtype\n",
    "            WHERE {\n",
    "                ?mtype rdfs:subClassOf* <https://neuroshapes.org/PyramidalNeuron> .\n",
    "                ?trace <https://neuroshapes.org/annotation>/<https://neuroshapes.org/hasBody> ?mtype.\n",
    "            }\n",
    "        \"\"\",\n",
    "        # Mapping of query results to the parameters (passed to the next query)\n",
    "        \"resultParameterMapping\": [\n",
    "            {\n",
    "                \"path\": \"mtype\",\n",
    "                \"parameterName\": \"acceptableResults\"\n",
    "            }\n",
    "        ]\n",
    "    },\n",
    "    \"rest\": { \n",
    "        \"type\": \"QueryPipe\",\n",
    "        \"head\": {\n",
    "            # Query type\n",
    "            \"type\": \"SimilarityQuery\",\n",
    "            # Number of top results to return\n",
    "            \"k\": 1,\n",
    "            \"queryConfiguration\": {\n",
    "                \"org\": \"dke\",\n",
    "                \"project\": \"inference-test\",\n",
    "                \"embeddingModel\": {\n",
    "                    \"id\": \"https://bbp.epfl.ch/neurosciencegraph/data/MTypeEmbeddingModel\",\n",
    "                    \"type\": \"EmbeddingModel\"\n",
    "                },\n",
    "                \"similarityView\": {\n",
    "                    \"id\": \"https://bbp.epfl.ch/neurosciencegraph/data/mtype-embedding-view\",\n",
    "                    \"type\": \"ElasticSearchView\"\n",
    "                },\n",
    "                \"scoreFormula\": \"euclidean\",\n",
    "            },\n",
    "            # Specification of input parameters\n",
    "            \"hasParameter\": [\n",
    "                {\n",
    "                    \"name\": \"MType\",\n",
    "                    \"description\": \"URI of the query MType\",\n",
    "                    \"type\": \"str\"\n",
    "                },\n",
    "                {\n",
    "                    \"name\": \"acceptableResults\",\n",
    "                    \"description\": \"List of URI's of acceptable MTypes (all PCs)\",\n",
    "                    \"type\": \"list\"\n",
    "                }\n",
    "            ],\n",
    "            # Query to retrieve embeddings\n",
    "            \"searchTargetParameter\": \"MType\",\n",
    "            # Filter to apply on the similarity search results\n",
    "            \"resultFilter\": \"\"\"\n",
    "                \"must\": {\n",
    "                    \"nested\": {\n",
    "                        \"path\": \"derivation.entity\",\n",
    "                        \"query\": {\n",
    "                            \"terms\": { \"derivation.entity.@id\": [$acceptableResults] }\n",
    "                        }\n",
    "                    }\n",
    "                }\n",
    "            \"\"\",\n",
    "            # Mapping of query results to the parameters (passed to the next query)\n",
    "            \"resultParameterMapping\": [{\n",
    "                \"path\": \"id\",\n",
    "                \"parameterName\": \"closestMType\"\n",
    "            }]\n",
    "        },\n",
    "        \"rest\": {\n",
    "            # Query type\n",
    "            \"type\": \"SparqlQuery\",\n",
    "            # Specification of input parameters\n",
    "            \"hasParameter\": [\n",
    "                {\n",
    "                    \"name\": \"closestMType\",\n",
    "                    \"description\": \"URI of the closest acceptable MType\",\n",
    "                    \"type\": \"sparql_uri\"\n",
    "                }\n",
    "            ],\n",
    "            \"queryConfiguration\": {\n",
    "                \"org\": \"dke\",\n",
    "                \"project\": \"inference-test\",\n",
    "                \"sparqlView\": {\n",
    "                    \"id\": \"https://bluebrain.github.io/nexus/vocabulary/defaultSparqlIndex\",\n",
    "                    \"type\": \"SparqlView\"\n",
    "                }\n",
    "            },\n",
    "            # Query body\n",
    "            \"hasBody\": \"\"\"\n",
    "                SELECT ?id\n",
    "                WHERE {\n",
    "                    ?id a <https://neuroshapes.org/Trace> ;\n",
    "                        <https://bluebrain.github.io/nexus/vocabulary/deprecated> false ;\n",
    "                        <https://neuroshapes.org/annotation> ?annotation ;\n",
    "                        <https://neuroshapes.org/brainLocation>/<https://neuroshapes.org/brainRegion> ?brainRegion.\n",
    "                    ?annotation <https://neuroshapes.org/hasBody> <$closestMType>.\n",
    "                }\n",
    "            \"\"\"\n",
    "        }\n",
    "    }\n",
    "}"
   ]
  },
  {
   "cell_type": "code",
   "execution_count": 391,
   "id": "0f00ee49",
   "metadata": {},
   "outputs": [],
   "source": [
    "rule_B = {\n",
    "    \"type\": \"DataGeneralizationRule\",\n",
    "    \"name\": \"MType similarity based trace generalization for cortical PCs\",\n",
    "    \"description\": \"Collect traces belonging to the closest (PC) MType from other cortical regions\",\n",
    "    \"premise\": premise,\n",
    "    \"searchQuery\": search_query_B\n",
    "}"
   ]
  },
  {
   "cell_type": "code",
   "execution_count": 392,
   "id": "6f1959a9",
   "metadata": {},
   "outputs": [
    {
     "data": {
      "text/plain": [
       "True"
      ]
     },
     "execution_count": 392,
     "metadata": {},
     "output_type": "execute_result"
    }
   ],
   "source": [
    "check_premises(rule_B, input_filters, TOKEN)"
   ]
  },
  {
   "cell_type": "code",
   "execution_count": 393,
   "id": "93c4d233",
   "metadata": {
    "scrolled": true
   },
   "outputs": [
    {
     "name": "stdout",
     "output_type": "stream",
     "text": [
      "CPU times: user 1e+03 ns, sys: 0 ns, total: 1e+03 ns\n",
      "Wall time: 3.1 µs\n"
     ]
    },
    {
     "data": {
      "text/plain": [
       "[{'id': 'https://bbp.epfl.ch/neurosciencegraph/data/ff0e496d-b8a0-4c0e-8487-545563495dc0'}]"
      ]
     },
     "execution_count": 393,
     "metadata": {},
     "output_type": "execute_result"
    }
   ],
   "source": [
    "%time\n",
    "apply_rule(rule_B, input_filters, TOKEN)"
   ]
  },
  {
   "cell_type": "code",
   "execution_count": 394,
   "id": "e7a8c703",
   "metadata": {},
   "outputs": [],
   "source": [
    "# forge.register(forge.from_json(rule_B))"
   ]
  },
  {
   "cell_type": "code",
   "execution_count": 395,
   "id": "ec01a455",
   "metadata": {},
   "outputs": [],
   "source": [
    "rule_id = \"https://bbp.epfl.ch/neurosciencegraph/data/1030e519-07c5-46ef-8e5c-7cca08c2f044\"\n",
    "rule_from_nexus = forge.as_json(forge.retrieve(rule_id))"
   ]
  },
  {
   "cell_type": "code",
   "execution_count": 397,
   "id": "75883e85",
   "metadata": {},
   "outputs": [
    {
     "data": {
      "text/plain": [
       "[{'id': 'https://bbp.epfl.ch/neurosciencegraph/data/ff0e496d-b8a0-4c0e-8487-545563495dc0'}]"
      ]
     },
     "execution_count": 397,
     "metadata": {},
     "output_type": "execute_result"
    }
   ],
   "source": [
    "apply_rule(rule_from_nexus, input_filters, TOKEN)"
   ]
  },
  {
   "cell_type": "markdown",
   "id": "6e069492",
   "metadata": {},
   "source": [
    "## Rule C"
   ]
  },
  {
   "cell_type": "code",
   "execution_count": 398,
   "id": "0f607637",
   "metadata": {},
   "outputs": [],
   "source": [
    "search_query_C = {\n",
    "    \"type\": \"QueryPipe\",\n",
    "    \"head\": {\n",
    "        \"type\": \"SparqlQuery\",\n",
    "        \"queryConfiguration\": {\n",
    "            \"org\": \"dke\",\n",
    "            \"project\": \"inference-test\",\n",
    "            \"sparqlView\": {\n",
    "                \"id\": \"https://bluebrain.github.io/nexus/vocabulary/defaultSparqlIndex\",\n",
    "                \"type\": \"SparqlView\"\n",
    "            }\n",
    "        },\n",
    "        \"hasBody\": \"\"\"\n",
    "            SELECT ?mtype\n",
    "            WHERE {\n",
    "                ?mtype rdfs:subClassOf* <https://neuroshapes.org/PyramidalNeuron> .\n",
    "            }\n",
    "        \"\"\",\n",
    "        \"resultParameterMapping\": [{\n",
    "            \"path\": \"mtype\",\n",
    "            \"parameterName\": \"acceptableMTypes\"\n",
    "        }]\n",
    "    },\n",
    "    \"rest\": {\n",
    "        \"type\": \"SimilarityQuery\",\n",
    "        \"k\": 1,\n",
    "        # Configuration of similarity views\n",
    "        # (multiple records mean that multiple models are combined)\n",
    "        \"queryConfiguration\": [\n",
    "            {\n",
    "                \"org\": \"dke\",\n",
    "                \"project\": \"inference-test\",\n",
    "                \"embeddingModel\": {\n",
    "                    \"id\": \"https://bbp.epfl.ch/neurosciencegraph/data/MTypeEmbeddingModel\",\n",
    "                    \"type\": \"EmbeddingModel\"\n",
    "                },\n",
    "                \"similarityView\": {\n",
    "                    \"id\": \"https://bbp.epfl.ch/neurosciencegraph/data/mtype-embedding-view\",\n",
    "                    \"type\": \"ElasticSearchView\"\n",
    "                },\n",
    "                \"boosted\": True,\n",
    "                \"boostingView\": {\n",
    "                    \"id\": \"https://bbp.epfl.ch/neurosciencegraph/data/mtype-boosting-view\",\n",
    "                    \"type\": \"ElasticSearchView\"\n",
    "                },\n",
    "                \"statisticsView\": {\n",
    "                    \"id\": \"https://bbp.epfl.ch/neurosciencegraph/data/mtype-statistics-view\",\n",
    "                    \"type\": \"ElasticSearchView\"\n",
    "                }\n",
    "            },\n",
    "            {\n",
    "                \"org\": \"dke\",\n",
    "                \"project\": \"inference-test\",\n",
    "                \"embeddingModel\": {\n",
    "                    \"id\": \"https://bbp.epfl.ch/neurosciencegraph/data/MTypeEmbeddingModel2\",\n",
    "                    \"type\": \"EmbeddingModel\"\n",
    "                },\n",
    "                \"similarityView\": {\n",
    "                    \"id\": \"https://bbp.epfl.ch/neurosciencegraph/data/mtype-embedding-view2\",\n",
    "                    \"type\": \"ElasticSearchView\"\n",
    "                },\n",
    "                \"boosted\": True,\n",
    "                \"boostingView\": {\n",
    "                    \"id\": \"https://bbp.epfl.ch/neurosciencegraph/data/mtype-boosting-view2\",\n",
    "                    \"type\": \"ElasticSearchView\"\n",
    "                },\n",
    "                \"statisticsView\": {\n",
    "                    \"id\": \"https://bbp.epfl.ch/neurosciencegraph/data/mtype-statistics-view2\",\n",
    "                    \"type\": \"ElasticSearchView\"\n",
    "                }\n",
    "            }\n",
    "        ],\n",
    "        \"hasParameter\": [\n",
    "            {\n",
    "                \"name\": \"MType\",\n",
    "                \"description\": \"URI of the query MType\",\n",
    "                \"type\": \"str\"\n",
    "            },\n",
    "            {\n",
    "                \"name\": \"acceptableMTypes\",\n",
    "                \"description\": \"URIs of acceptable MTypes (subclasses of PC).\",\n",
    "                \"type\": \"list\"\n",
    "            }\n",
    "        ],\n",
    "        \"searchTargetParameter\": \"MType\",\n",
    "        # Filter to apply on the similarity search results\n",
    "        \"resultFilter\": \"\"\"\n",
    "            \"must\": {\n",
    "                \"nested\": {\n",
    "                    \"path\": \"derivation.entity\",\n",
    "                    \"query\": {\n",
    "                        \"terms\": { \"derivation.entity.@id\": [$acceptableMTypes] }\n",
    "                    }\n",
    "                }\n",
    "            }\n",
    "        \"\"\"\n",
    "    }\n",
    "}"
   ]
  },
  {
   "cell_type": "code",
   "execution_count": 10,
   "id": "1393e4ae",
   "metadata": {},
   "outputs": [
    {
     "ename": "NameError",
     "evalue": "name 'search_query_C' is not defined",
     "output_type": "error",
     "traceback": [
      "\u001b[0;31m---------------------------------------------------------------------------\u001b[0m",
      "\u001b[0;31mNameError\u001b[0m                                 Traceback (most recent call last)",
      "\u001b[0;32m<ipython-input-10-df1edcb8dfa8>\u001b[0m in \u001b[0;36m<module>\u001b[0;34m\u001b[0m\n\u001b[1;32m     29\u001b[0m         }\n\u001b[1;32m     30\u001b[0m     ],\n\u001b[0;32m---> 31\u001b[0;31m     \u001b[0;34m\"searchQuery\"\u001b[0m\u001b[0;34m:\u001b[0m \u001b[0msearch_query_C\u001b[0m\u001b[0;34m\u001b[0m\u001b[0;34m\u001b[0m\u001b[0m\n\u001b[0m\u001b[1;32m     32\u001b[0m }\n",
      "\u001b[0;31mNameError\u001b[0m: name 'search_query_C' is not defined"
     ]
    }
   ],
   "source": [
    "rule_C = {\n",
    "    \"@type\": \"DataGeneralizationRule\",\n",
    "    \"name\": \"Combined (PC) MType similarity\",\n",
    "    \"description\": \"Get the closest (PC) MType according to a combined similarity\",\n",
    "    \"premise\": [\n",
    "        {\n",
    "            \"type\": \"SparqlPremise\",\n",
    "            \"hasParameter\": [\n",
    "                {\n",
    "                    \"name\": \"MType\",\n",
    "                    \"description\": \"URI of the query MType\",\n",
    "                    \"type\": \"sparql_uri\"\n",
    "                }\n",
    "            ],\n",
    "            \"hasBody\": \"\"\"\n",
    "                SELECT ?x\n",
    "                WHERE {\n",
    "                    <$MType> rdfs:subClassOf* <https://neuroshapes.org/PyramidalNeuron> .\n",
    "                }\n",
    "            \"\"\",\n",
    "            \"queryConfiguration\": {\n",
    "                \"org\": \"dke\",\n",
    "                \"project\": \"inference-test\",\n",
    "                \"sparqlView\": {\n",
    "                    \"id\": \"https://bluebrain.github.io/nexus/vocabulary/defaultSparqlIndex\",\n",
    "                    \"type\": \"SparqlView\"\n",
    "                }\n",
    "            }\n",
    "        }\n",
    "    ],\n",
    "    \"searchQuery\": search_query_C\n",
    "}"
   ]
  },
  {
   "cell_type": "code",
   "execution_count": 400,
   "id": "f3d6f1d2",
   "metadata": {},
   "outputs": [
    {
     "data": {
      "text/plain": [
       "[{'id': 'http://uri.interlex.org/base/ilx_0381371'}]"
      ]
     },
     "execution_count": 400,
     "metadata": {},
     "output_type": "execute_result"
    }
   ],
   "source": [
    "apply_rule(rule_C, input_filters, TOKEN)"
   ]
  },
  {
   "cell_type": "code",
   "execution_count": 9,
   "id": "4b03f0ef",
   "metadata": {},
   "outputs": [
    {
     "name": "stdout",
     "output_type": "stream",
     "text": [
      "<action> retrieve\n",
      "<error> RetrievalError: 404 Client Error: Not Found for url: https://bbp.epfl.ch/nexus/v1/resources/bbp/atlas/_/https%3A%2F%2Fbbp.epfl.ch%2Fneurosciencegraph%2Fdata%2Ff7fced49-be40-4527-99fd-6c2d20615ce2\n",
      "\n",
      "<action> as_json\n",
      "<error> TypeError: 'NoneType' object is not iterable\n",
      "\n"
     ]
    }
   ],
   "source": [
    "rule_id = \"https://bbp.epfl.ch/neurosciencegraph/data/f7fced49-be40-4527-99fd-6c2d20615ce2\"\n",
    "rule_from_nexus = forge.as_json(forge.retrieve(rule_id))"
   ]
  },
  {
   "cell_type": "code",
   "execution_count": 404,
   "id": "903d5ddb",
   "metadata": {},
   "outputs": [
    {
     "data": {
      "text/plain": [
       "[{'id': 'http://uri.interlex.org/base/ilx_0381371'}]"
      ]
     },
     "execution_count": 404,
     "metadata": {},
     "output_type": "execute_result"
    }
   ],
   "source": [
    "apply_rule(rule_from_nexus, input_filters, TOKEN)"
   ]
  },
  {
   "cell_type": "markdown",
   "id": "3957280e",
   "metadata": {},
   "source": [
    "# Get all the rules and check with ones can be applied"
   ]
  },
  {
   "cell_type": "code",
   "execution_count": 40,
   "id": "1f7021ca",
   "metadata": {},
   "outputs": [],
   "source": [
    "from inference_tools.utils import fetch_rules"
   ]
  },
  {
   "cell_type": "code",
   "execution_count": 41,
   "id": "6f3837f7",
   "metadata": {},
   "outputs": [],
   "source": [
    "set_elastic_view(forge, \"https://bbp.epfl.ch/neurosciencegraph/data/rule-view\")\n",
    "rufetch_rules(forge)"
   ]
  },
  {
   "cell_type": "markdown",
   "id": "4ae7e6cc",
   "metadata": {},
   "source": [
    "Get all the rules"
   ]
  },
  {
   "cell_type": "code",
   "execution_count": 42,
   "id": "d9f2f320",
   "metadata": {},
   "outputs": [
    {
     "data": {
      "text/plain": [
       "[Resource(_last_action=None, _validated=False, _synchronized=False, _store_metadata={'id': 'https://bbp.epfl.ch/neurosciencegraph/data/c6806339-a6fe-43d3-8d0c-6d9f68c90dfb', '_constrainedBy': 'https://bluebrain.github.io/nexus/schemas/unconstrained.json', '_createdAt': '2022-01-31T09:19:27.260Z', '_createdBy': 'https://staging.nexus.ocp.bbp.epfl.ch/v1/realms/bbp/users/oshurko', '_deprecated': False, '_incoming': 'https://staging.nexus.ocp.bbp.epfl.ch/v1/resources/dke/inference-test/_/c6806339-a6fe-43d3-8d0c-6d9f68c90dfb/incoming', '_outgoing': 'https://staging.nexus.ocp.bbp.epfl.ch/v1/resources/dke/inference-test/_/c6806339-a6fe-43d3-8d0c-6d9f68c90dfb/outgoing', '_project': 'https://staging.nexus.ocp.bbp.epfl.ch/v1/projects/dke/inference-test', '_rev': 17, '_schemaProject': 'https://staging.nexus.ocp.bbp.epfl.ch/v1/projects/dke/inference-test', '_self': 'https://staging.nexus.ocp.bbp.epfl.ch/v1/resources/dke/inference-test/_/c6806339-a6fe-43d3-8d0c-6d9f68c90dfb', '_updatedAt': '2022-02-01T15:41:34.086Z', '_updatedBy': 'https://staging.nexus.ocp.bbp.epfl.ch/v1/realms/bbp/users/oshurko', '_index': 'delta_3ec34399-ff8e-4ccb-8686-c99f085d43ac_8', '_score': 0.046520013}, @id='https://bbp.epfl.ch/neurosciencegraph/data/c6806339-a6fe-43d3-8d0c-6d9f68c90dfb', @type='DataGeneralizationRule', description='Collect traces belonging to PCs from other cortical regions', name='Trace generalization for cortical PCs', premise=[Resource(_last_action=None, _validated=False, _synchronized=False, _store_metadata=None, @type='SparqlPremise', hasBody='\\n            SELECT ?x\\n            WHERE {\\n                <$brainRegion> <http://schema.org/isPartOf>* <http://api.brain-map.org/api/v2/data/Structure/315> .\\n            }\\n        ', hasParameter=Resource(_last_action=None, _validated=False, _synchronized=False, _store_metadata=None, @type='sparql_uri', description='URI of the query brain region', name='brainRegion'), queryConfiguration=Resource(_last_action=None, _validated=False, _synchronized=False, _store_metadata=None, org='dke', project='inference-test', sparqlView=Resource(_last_action=None, _validated=False, _synchronized=False, _store_metadata=None, @id='https://bluebrain.github.io/nexus/vocabulary/defaultSparqlIndex', @type='SparqlView'))), Resource(_last_action=None, _validated=False, _synchronized=False, _store_metadata=None, @type='SparqlPremise', hasBody='\\n            SELECT ?x\\n            WHERE {\\n                <$MType> rdfs:subClassOf* <https://neuroshapes.org/PyramidalNeuron> .\\n            }\\n        ', hasParameter=Resource(_last_action=None, _validated=False, _synchronized=False, _store_metadata=None, @type='sparql_uri', description='URI of the query MType', name='MType'), queryConfiguration=Resource(_last_action=None, _validated=False, _synchronized=False, _store_metadata=None, org='dke', project='inference-test')), Resource(_last_action=None, _validated=False, _synchronized=False, _store_metadata=None, @type='ForgeSearchPremise', hasParameter=Resource(_last_action=None, _validated=False, _synchronized=False, _store_metadata=None, @type='sparql_uri', description='URI of the query brain region', name='brainRegion'), pattern=Resource(_last_action=None, _validated=False, _synchronized=False, _store_metadata=None, isPartOf='http://api.brain-map.org/api/v2/data/Structure/315'), queryConfiguration=Resource(_last_action=None, _validated=False, _synchronized=False, _store_metadata=None, org='dke', project='inference-test'), targetParameter='brainRegion', targetPath='id')], searchQuery=Resource(_last_action=None, _validated=False, _synchronized=False, _store_metadata=None, @type='SparqlQuery', hasBody='\\n        SELECT ?id\\n        WHERE {\\n          ?id a <https://neuroshapes.org/Trace> ;\\n                      <https://neuroshapes.org/annotation>/<https://neuroshapes.org/hasBody> ?mtype ;\\n                      <https://bluebrain.github.io/nexus/vocabulary/deprecated> false ;\\n                      <https://neuroshapes.org/brainLocation>/<https://neuroshapes.org/brainRegion> ?brainRegion.\\n          ?mtype rdfs:subClassOf* <https://neuroshapes.org/PyramidalNeuron> .\\n          ?brainRegion <http://schema.org/isPartOf>* <http://api.brain-map.org/api/v2/data/Structure/315> .\\n        }\\n    ', queryConfiguration=Resource(_last_action=None, _validated=False, _synchronized=False, _store_metadata=None, org='dke', project='inference-test', sparqlView=Resource(_last_action=None, _validated=False, _synchronized=False, _store_metadata=None, @id='https://bluebrain.github.io/nexus/vocabulary/defaultSparqlIndex', @type='SparqlView'))), targetResourceType='Trace'),\n",
       " Resource(_last_action=None, _validated=False, _synchronized=False, _store_metadata={'id': 'https://bbp.epfl.ch/neurosciencegraph/data/1030e519-07c5-46ef-8e5c-7cca08c2f044', '_constrainedBy': 'https://bluebrain.github.io/nexus/schemas/unconstrained.json', '_createdAt': '2022-01-31T09:20:33.894Z', '_createdBy': 'https://staging.nexus.ocp.bbp.epfl.ch/v1/realms/bbp/users/oshurko', '_deprecated': False, '_incoming': 'https://staging.nexus.ocp.bbp.epfl.ch/v1/resources/dke/inference-test/_/1030e519-07c5-46ef-8e5c-7cca08c2f044/incoming', '_outgoing': 'https://staging.nexus.ocp.bbp.epfl.ch/v1/resources/dke/inference-test/_/1030e519-07c5-46ef-8e5c-7cca08c2f044/outgoing', '_project': 'https://staging.nexus.ocp.bbp.epfl.ch/v1/projects/dke/inference-test', '_rev': 7, '_schemaProject': 'https://staging.nexus.ocp.bbp.epfl.ch/v1/projects/dke/inference-test', '_self': 'https://staging.nexus.ocp.bbp.epfl.ch/v1/resources/dke/inference-test/_/1030e519-07c5-46ef-8e5c-7cca08c2f044', '_updatedAt': '2022-02-01T15:44:47.424Z', '_updatedBy': 'https://staging.nexus.ocp.bbp.epfl.ch/v1/realms/bbp/users/oshurko', '_index': 'delta_3ec34399-ff8e-4ccb-8686-c99f085d43ac_8', '_score': 0.046520013}, @id='https://bbp.epfl.ch/neurosciencegraph/data/1030e519-07c5-46ef-8e5c-7cca08c2f044', @type='DataGeneralizationRule', description='Collect traces belonging to the closest (PC) MType from other cortical regions', name='MType similarity-based trace generalization for cortical PCs', premise=[Resource(_last_action=None, _validated=False, _synchronized=False, _store_metadata=None, @type='SparqlPremise', hasBody='\\n            SELECT ?x\\n            WHERE {\\n                <$brainRegion> <http://schema.org/isPartOf>* <http://api.brain-map.org/api/v2/data/Structure/315> .\\n            }\\n        ', hasParameter=Resource(_last_action=None, _validated=False, _synchronized=False, _store_metadata=None, @type='sparql_uri', description='URI of the query brain region', name='brainRegion'), queryConfiguration=Resource(_last_action=None, _validated=False, _synchronized=False, _store_metadata=None, org='dke', project='inference-test', sparqlView=Resource(_last_action=None, _validated=False, _synchronized=False, _store_metadata=None, @id='https://bluebrain.github.io/nexus/vocabulary/defaultSparqlIndex', @type='SparqlView'))), Resource(_last_action=None, _validated=False, _synchronized=False, _store_metadata=None, @type='SparqlPremise', hasBody='\\n            SELECT ?x\\n            WHERE {\\n                <$MType> rdfs:subClassOf* <https://neuroshapes.org/PyramidalNeuron> .\\n            }\\n        ', hasParameter=Resource(_last_action=None, _validated=False, _synchronized=False, _store_metadata=None, @type='sparql_uri', description='URI of the query MType', name='MType'), queryConfiguration=Resource(_last_action=None, _validated=False, _synchronized=False, _store_metadata=None, org='dke', project='inference-test')), Resource(_last_action=None, _validated=False, _synchronized=False, _store_metadata=None, @type='ForgeSearchPremise', hasParameter=Resource(_last_action=None, _validated=False, _synchronized=False, _store_metadata=None, @type='sparql_uri', description='URI of the query brain region', name='brainRegion'), pattern=Resource(_last_action=None, _validated=False, _synchronized=False, _store_metadata=None, isPartOf='mba:315'), queryConfiguration=Resource(_last_action=None, _validated=False, _synchronized=False, _store_metadata=None, org='dke', project='inference-test'), targetParameter='brainRegion', targetPath='id')], searchQuery=Resource(_last_action=None, _validated=False, _synchronized=False, _store_metadata=None, @type='QueryPipe', head=Resource(_last_action=None, _validated=False, _synchronized=False, _store_metadata=None, @type='SparqlQuery', hasBody='\\n            SELECT ?mtype\\n            WHERE {\\n                ?mtype rdfs:subClassOf* <https://neuroshapes.org/PyramidalNeuron> .\\n                ?trace <https://neuroshapes.org/annotation>/<https://neuroshapes.org/hasBody> ?mtype.\\n            }\\n        ', queryConfiguration=Resource(_last_action=None, _validated=False, _synchronized=False, _store_metadata=None, org='dke', project='inference-test', sparqlView=Resource(_last_action=None, _validated=False, _synchronized=False, _store_metadata=None, @id='https://bluebrain.github.io/nexus/vocabulary/defaultSparqlIndex', @type='SparqlView')), resultParameterMapping=Resource(_last_action=None, _validated=False, _synchronized=False, _store_metadata=None, parameterName='acceptableResults', path='mtype')), rest=Resource(_last_action=None, _validated=False, _synchronized=False, _store_metadata=None, @type='QueryPipe', head=Resource(_last_action=None, _validated=False, _synchronized=False, _store_metadata=None, @type='SimilarityQuery', hasParameter=[Resource(_last_action=None, _validated=False, _synchronized=False, _store_metadata=None, @type='str', description='URI of the query MType', name='MType'), Resource(_last_action=None, _validated=False, _synchronized=False, _store_metadata=None, @type='list', description=\"List of URI's of acceptable MTypes (all PCs)\", name='acceptableResults')], k=1, queryConfiguration=Resource(_last_action=None, _validated=False, _synchronized=False, _store_metadata=None, embeddingModel=Resource(_last_action=None, _validated=False, _synchronized=False, _store_metadata=None, @id='https://bbp.epfl.ch/neurosciencegraph/data/MTypeEmbeddingModel', @type='EmbeddingModel'), org='dke', project='inference-test', scoreFormula='euclidean', similarityView=Resource(_last_action=None, _validated=False, _synchronized=False, _store_metadata=None, @id='https://bbp.epfl.ch/neurosciencegraph/data/mtype-embedding-view', @type='ElasticSearchView')), resultFilter='\\n                \"must\": {\\n                    \"nested\": {\\n                        \"path\": \"derivation.entity\",\\n                        \"query\": {\\n                            \"terms\": { \"derivation.entity.@id\": [$acceptableResults] }\\n                        }\\n                    }\\n                }\\n            ', resultParameterMapping=Resource(_last_action=None, _validated=False, _synchronized=False, _store_metadata=None, parameterName='closestMType', path='id'), searchTargetParameter='MType'), rest=Resource(_last_action=None, _validated=False, _synchronized=False, _store_metadata=None, @type='SparqlQuery', hasBody='\\n                SELECT ?id\\n                WHERE {\\n                    ?id a <https://neuroshapes.org/Trace> ;\\n                        <https://bluebrain.github.io/nexus/vocabulary/deprecated> false ;\\n                        <https://neuroshapes.org/annotation> ?annotation ;\\n                        <https://neuroshapes.org/brainLocation>/<https://neuroshapes.org/brainRegion> ?brainRegion.\\n                    ?annotation <https://neuroshapes.org/hasBody> <$closestMType>.\\n                }\\n            ', hasParameter=Resource(_last_action=None, _validated=False, _synchronized=False, _store_metadata=None, @type='sparql_uri', description='URI of the closest acceptable MType', name='closestMType'), queryConfiguration=Resource(_last_action=None, _validated=False, _synchronized=False, _store_metadata=None, org='dke', project='inference-test', sparqlView=Resource(_last_action=None, _validated=False, _synchronized=False, _store_metadata=None, @id='https://bluebrain.github.io/nexus/vocabulary/defaultSparqlIndex', @type='SparqlView'))))), targetResourceType='Trace'),\n",
       " Resource(_last_action=None, _validated=False, _synchronized=False, _store_metadata={'id': 'https://bbp.epfl.ch/neurosciencegraph/data/f7fced49-be40-4527-99fd-6c2d20615ce2', '_constrainedBy': 'https://bluebrain.github.io/nexus/schemas/unconstrained.json', '_createdAt': '2022-01-31T11:10:37.355Z', '_createdBy': 'https://staging.nexus.ocp.bbp.epfl.ch/v1/realms/bbp/users/oshurko', '_deprecated': False, '_incoming': 'https://staging.nexus.ocp.bbp.epfl.ch/v1/resources/dke/inference-test/_/f7fced49-be40-4527-99fd-6c2d20615ce2/incoming', '_outgoing': 'https://staging.nexus.ocp.bbp.epfl.ch/v1/resources/dke/inference-test/_/f7fced49-be40-4527-99fd-6c2d20615ce2/outgoing', '_project': 'https://staging.nexus.ocp.bbp.epfl.ch/v1/projects/dke/inference-test', '_rev': 4, '_schemaProject': 'https://staging.nexus.ocp.bbp.epfl.ch/v1/projects/dke/inference-test', '_self': 'https://staging.nexus.ocp.bbp.epfl.ch/v1/resources/dke/inference-test/_/f7fced49-be40-4527-99fd-6c2d20615ce2', '_updatedAt': '2022-02-01T15:46:53.110Z', '_updatedBy': 'https://staging.nexus.ocp.bbp.epfl.ch/v1/realms/bbp/users/oshurko', '_index': 'delta_3ec34399-ff8e-4ccb-8686-c99f085d43ac_8', '_score': 0.046520013}, @id='https://bbp.epfl.ch/neurosciencegraph/data/f7fced49-be40-4527-99fd-6c2d20615ce2', @type='DataGeneralizationRule', description='Get the closest (PC) MType according to a combined similarity', name='Combined (PC) MType similarity', premise=Resource(_last_action=None, _validated=False, _synchronized=False, _store_metadata=None, @type='SparqlPremise', hasBody='\\n                SELECT ?x\\n                WHERE {\\n                    <$MType> rdfs:subClassOf* <https://neuroshapes.org/PyramidalNeuron> .\\n                }\\n            ', hasParameter=Resource(_last_action=None, _validated=False, _synchronized=False, _store_metadata=None, @type='sparql_uri', description='URI of the query MType', name='MType'), queryConfiguration=Resource(_last_action=None, _validated=False, _synchronized=False, _store_metadata=None, org='dke', project='inference-test', sparqlView=Resource(_last_action=None, _validated=False, _synchronized=False, _store_metadata=None, @id='https://bluebrain.github.io/nexus/vocabulary/defaultSparqlIndex', @type='SparqlView'))), searchQuery=Resource(_last_action=None, _validated=False, _synchronized=False, _store_metadata=None, @type='QueryPipe', head=Resource(_last_action=None, _validated=False, _synchronized=False, _store_metadata=None, @type='SparqlQuery', hasBody='\\n            SELECT ?mtype\\n            WHERE {\\n                ?mtype rdfs:subClassOf* <https://neuroshapes.org/PyramidalNeuron> .\\n            }\\n        ', queryConfiguration=Resource(_last_action=None, _validated=False, _synchronized=False, _store_metadata=None, org='dke', project='inference-test', sparqlView=Resource(_last_action=None, _validated=False, _synchronized=False, _store_metadata=None, @id='https://bluebrain.github.io/nexus/vocabulary/defaultSparqlIndex', @type='SparqlView')), resultParameterMapping=Resource(_last_action=None, _validated=False, _synchronized=False, _store_metadata=None, parameterName='acceptableMTypes', path='mtype')), rest=Resource(_last_action=None, _validated=False, _synchronized=False, _store_metadata=None, @type='SimilarityQuery', hasParameter=[Resource(_last_action=None, _validated=False, _synchronized=False, _store_metadata=None, @type='str', description='URI of the query MType', name='MType'), Resource(_last_action=None, _validated=False, _synchronized=False, _store_metadata=None, @type='list', description='URIs of acceptable MTypes (subclasses of PC).', name='acceptableMTypes')], k=1, queryConfiguration=[Resource(_last_action=None, _validated=False, _synchronized=False, _store_metadata=None, boosted=True, boostingView=Resource(_last_action=None, _validated=False, _synchronized=False, _store_metadata=None, @id='https://bbp.epfl.ch/neurosciencegraph/data/mtype-boosting-view', @type='ElasticSearchView'), embeddingModel=Resource(_last_action=None, _validated=False, _synchronized=False, _store_metadata=None, @id='https://bbp.epfl.ch/neurosciencegraph/data/MTypeEmbeddingModel', @type='EmbeddingModel'), org='dke', project='inference-test', similarityView=Resource(_last_action=None, _validated=False, _synchronized=False, _store_metadata=None, @id='https://bbp.epfl.ch/neurosciencegraph/data/mtype-embedding-view', @type='ElasticSearchView'), statisticsView=Resource(_last_action=None, _validated=False, _synchronized=False, _store_metadata=None, @id='https://bbp.epfl.ch/neurosciencegraph/data/mtype-statistics-view', @type='ElasticSearchView')), Resource(_last_action=None, _validated=False, _synchronized=False, _store_metadata=None, boosted=True, boostingView=Resource(_last_action=None, _validated=False, _synchronized=False, _store_metadata=None, @id='https://bbp.epfl.ch/neurosciencegraph/data/mtype-boosting-view2', @type='ElasticSearchView'), embeddingModel=Resource(_last_action=None, _validated=False, _synchronized=False, _store_metadata=None, @id='https://bbp.epfl.ch/neurosciencegraph/data/MTypeEmbeddingModel2', @type='EmbeddingModel'), org='dke', project='inference-test', similarityView=Resource(_last_action=None, _validated=False, _synchronized=False, _store_metadata=None, @id='https://bbp.epfl.ch/neurosciencegraph/data/mtype-embedding-view2', @type='ElasticSearchView'), statisticsView=Resource(_last_action=None, _validated=False, _synchronized=False, _store_metadata=None, @id='https://bbp.epfl.ch/neurosciencegraph/data/mtype-statistics-view2', @type='ElasticSearchView'))], resultFilter='\\n            \"must\": {\\n                \"nested\": {\\n                    \"path\": \"derivation.entity\",\\n                    \"query\": {\\n                        \"terms\": { \"derivation.entity.@id\": [$acceptableMTypes] }\\n                    }\\n                }\\n            }\\n        ', searchTargetParameter='MType')), targetResourceType='Class')]"
      ]
     },
     "execution_count": 42,
     "metadata": {},
     "output_type": "execute_result"
    }
   ],
   "source": [
    "fetch_rules(forge)"
   ]
  },
  {
   "cell_type": "code",
   "execution_count": 407,
   "id": "6aeb9e8c",
   "metadata": {
    "scrolled": false
   },
   "outputs": [
    {
     "name": "stdout",
     "output_type": "stream",
     "text": [
      "Trace generalization for cortical PCs\n",
      "MType similarity-based trace generalization for cortical PCs\n",
      "Combined (PC) MType similarity\n"
     ]
    }
   ],
   "source": [
    "for r in all_rules:\n",
    "    print(r.name)"
   ]
  },
  {
   "cell_type": "markdown",
   "id": "fcea0c4b",
   "metadata": {},
   "source": [
    "Get rules for target resource type `Trace`"
   ]
  },
  {
   "cell_type": "code",
   "execution_count": 12,
   "id": "f05f3188",
   "metadata": {},
   "outputs": [
    {
     "ename": "NameError",
     "evalue": "name 'forge' is not defined",
     "output_type": "error",
     "traceback": [
      "\u001b[0;31m---------------------------------------------------------------------------\u001b[0m",
      "\u001b[0;31mNameError\u001b[0m                                 Traceback (most recent call last)",
      "\u001b[0;32m<ipython-input-12-6bce3e1cb0e3>\u001b[0m in \u001b[0;36m<module>\u001b[0;34m\u001b[0m\n\u001b[0;32m----> 1\u001b[0;31m trace_rules = forge.elastic(\"\"\"{\n\u001b[0m\u001b[1;32m      2\u001b[0m   \"query\": {\n\u001b[1;32m      3\u001b[0m     \"bool\": {\n\u001b[1;32m      4\u001b[0m         \"must\": [\n\u001b[1;32m      5\u001b[0m             {\n",
      "\u001b[0;31mNameError\u001b[0m: name 'forge' is not defined"
     ]
    }
   ],
   "source": [
    "trace_rules = forge.elastic(\"\"\"{\n",
    "  \"query\": {\n",
    "    \"bool\": {\n",
    "        \"must\": [\n",
    "            {\n",
    "               \"term\": {\"targetResourceType\": \"Trace\"}\n",
    "            },\n",
    "            {\n",
    "                \"term\": {\"_deprecated\": false}\n",
    "            }\n",
    "        ]\n",
    "     }\n",
    "   }\n",
    "}\"\"\")"
   ]
  },
  {
   "cell_type": "code",
   "execution_count": 11,
   "id": "5a364bc0",
   "metadata": {},
   "outputs": [
    {
     "ename": "NameError",
     "evalue": "name 'trace_rules' is not defined",
     "output_type": "error",
     "traceback": [
      "\u001b[0;31m---------------------------------------------------------------------------\u001b[0m",
      "\u001b[0;31mNameError\u001b[0m                                 Traceback (most recent call last)",
      "\u001b[0;32m<ipython-input-11-74d56c1a9bd6>\u001b[0m in \u001b[0;36m<module>\u001b[0;34m\u001b[0m\n\u001b[0;32m----> 1\u001b[0;31m \u001b[0;32mfor\u001b[0m \u001b[0mr\u001b[0m \u001b[0;32min\u001b[0m \u001b[0mtrace_rules\u001b[0m\u001b[0;34m:\u001b[0m\u001b[0;34m\u001b[0m\u001b[0;34m\u001b[0m\u001b[0m\n\u001b[0m\u001b[1;32m      2\u001b[0m     \u001b[0mprint\u001b[0m\u001b[0;34m(\u001b[0m\u001b[0mr\u001b[0m\u001b[0;34m)\u001b[0m\u001b[0;34m\u001b[0m\u001b[0;34m\u001b[0m\u001b[0m\n\u001b[1;32m      3\u001b[0m \u001b[0;31m#     print(r.name)\u001b[0m\u001b[0;34m\u001b[0m\u001b[0;34m\u001b[0m\u001b[0;34m\u001b[0m\u001b[0m\n",
      "\u001b[0;31mNameError\u001b[0m: name 'trace_rules' is not defined"
     ]
    }
   ],
   "source": [
    "for r in trace_rules:\n",
    "    print(r)\n",
    "#     print(r.name)"
   ]
  },
  {
   "cell_type": "code",
   "execution_count": 411,
   "id": "1cee8850",
   "metadata": {},
   "outputs": [
    {
     "name": "stdout",
     "output_type": "stream",
     "text": [
      "Trace generalization for cortical PCs\n",
      "\tPremise satisfied:  False\n",
      "\tSearch results:  None\n",
      "MType similarity-based trace generalization for cortical PCs\n"
     ]
    },
    {
     "name": "stderr",
     "output_type": "stream",
     "text": [
      "/Users/oshurko/Workspace/kg-inference/inference_tools/utils.py:280: InferenceToolsWarning: Rule premise is not satisfied on the input parameters\n",
      "  def apply_rule(rule, parameters, token):\n"
     ]
    },
    {
     "name": "stdout",
     "output_type": "stream",
     "text": [
      "\tPremise satisfied:  False\n",
      "\tSearch results:  None\n"
     ]
    }
   ],
   "source": [
    "for r in trace_rules:\n",
    "    print(r.name)\n",
    "    rule = forge.as_json(forge.retrieve(forge.as_json(r)[\"@id\"]))\n",
    "    \n",
    "    params = {\"MType\": \"bla\", \"brainRegion\": \"Bla\"}\n",
    "\n",
    "    print(\"\\tPremise satisfied: \", check_premises(rule, params, TOKEN))\n",
    "    result = apply_rule(rule, params, TOKEN)\n",
    "    print(\"\\tSearch results: \", result)"
   ]
  },
  {
   "cell_type": "code",
   "execution_count": 412,
   "id": "6d00685e",
   "metadata": {},
   "outputs": [
    {
     "name": "stdout",
     "output_type": "stream",
     "text": [
      "Trace generalization for cortical PCs\n",
      "\tPremise satisfied:  False\n",
      "\tSearch results:  None\n",
      "\n",
      "MType similarity-based trace generalization for cortical PCs\n",
      "\tPremise satisfied:  False\n",
      "\tSearch results:  None\n",
      "\n"
     ]
    },
    {
     "name": "stderr",
     "output_type": "stream",
     "text": [
      "/Users/oshurko/Workspace/kg-inference/inference_tools/utils.py:119: MissingParameterWarning: Premise is not satified, one or more parameters are missing. See the following exception: Parameter value 'brainRegion' is not specified\n",
      "  for premise in rule[\"premise\"]:\n"
     ]
    }
   ],
   "source": [
    "for r in trace_rules:\n",
    "    print(r.name)\n",
    "    rule = forge.as_json(forge.retrieve(forge.as_json(r)[\"@id\"]))\n",
    "\n",
    "    params = {\"MType\": \"bla\"}\n",
    "\n",
    "    print(\"\\tPremise satisfied: \", check_premises(rule, params, TOKEN))\n",
    "    result = apply_rule(rule, params, TOKEN)\n",
    "    print(\"\\tSearch results: \", result)\n",
    "    print()"
   ]
  },
  {
   "cell_type": "code",
   "execution_count": 413,
   "id": "ad3d244b",
   "metadata": {},
   "outputs": [
    {
     "name": "stdout",
     "output_type": "stream",
     "text": [
      "Trace generalization for cortical PCs\n",
      "\tPremise satisfied:  True\n",
      "\tSearch results: \n",
      "\t\t https://bbp.epfl.ch/neurosciencegraph/data/ff0e496d-b8a0-4c0e-8487-545563495dc0\n",
      "\t\t https://bbp.epfl.ch/neurosciencegraph/data/2b108ccf-4ad2-4495-8490-17b2fde656fa\n",
      "\t\t https://bbp.epfl.ch/neurosciencegraph/data/4fba4ab3-189c-4ff4-96bf-6904c1b8912b\n",
      "\n",
      "MType similarity-based trace generalization for cortical PCs\n",
      "\tPremise satisfied:  True\n",
      "\tSearch results: \n",
      "\t\t https://bbp.epfl.ch/neurosciencegraph/data/ff0e496d-b8a0-4c0e-8487-545563495dc0\n",
      "\n"
     ]
    }
   ],
   "source": [
    "for r in trace_rules:\n",
    "    print(r.name)\n",
    "    rule = forge.as_json(forge.retrieve(forge.as_json(r)[\"@id\"]))\n",
    "    \n",
    "    params = input_filters\n",
    "    \n",
    "    print(\"\\tPremise satisfied: \", check_premises(rule, params, TOKEN))\n",
    "    result = apply_rule(rule, params, TOKEN)\n",
    "    print(\"\\tSearch results: \")\n",
    "    if isinstance(result, dict):\n",
    "        result = [result]\n",
    "    for el in result:\n",
    "        print(\"\\t\\t\", el[\"id\"])\n",
    "    print()"
   ]
  },
  {
   "cell_type": "code",
   "execution_count": 414,
   "id": "4da38a68",
   "metadata": {
    "scrolled": true
   },
   "outputs": [
    {
     "name": "stdout",
     "output_type": "stream",
     "text": [
      "Trace generalization for cortical PCs\n",
      "\tPremise satisfied:  True\n",
      "\tSearch results: \n",
      "\t\t https://bbp.epfl.ch/neurosciencegraph/data/ff0e496d-b8a0-4c0e-8487-545563495dc0\n",
      "\t\t https://bbp.epfl.ch/neurosciencegraph/data/2b108ccf-4ad2-4495-8490-17b2fde656fa\n",
      "\t\t https://bbp.epfl.ch/neurosciencegraph/data/4fba4ab3-189c-4ff4-96bf-6904c1b8912b\n",
      "\n",
      "MType similarity-based trace generalization for cortical PCs\n",
      "\tPremise satisfied:  True\n",
      "\tSearch results: \n",
      "\t\t https://bbp.epfl.ch/neurosciencegraph/data/ff0e496d-b8a0-4c0e-8487-545563495dc0\n",
      "\n",
      "Combined (PC) MType similarity\n",
      "\tPremise satisfied:  True\n",
      "\tSearch results: \n",
      "\t\t http://uri.interlex.org/base/ilx_0381371\n",
      "\n"
     ]
    }
   ],
   "source": [
    "for r in all_rules:\n",
    "    print(r.name)\n",
    "    rule = forge.as_json(forge.retrieve(forge.as_json(r)[\"@id\"]))\n",
    "    \n",
    "    params = input_filters\n",
    "    \n",
    "    print(\"\\tPremise satisfied: \", check_premises(rule, params, TOKEN))\n",
    "    result = apply_rule(rule, params, TOKEN)\n",
    "    print(\"\\tSearch results: \")\n",
    "    if isinstance(result, dict):\n",
    "        result = [result]\n",
    "    for el in result:\n",
    "        print(\"\\t\\t\", el[\"id\"])\n",
    "    print()"
   ]
  },
  {
   "cell_type": "markdown",
   "id": "e4c2e280",
   "metadata": {},
   "source": [
    "User selection from filters:\n",
    "\n",
    "- Atlas\n",
    "- Brain Region\n",
    "- Cell Type\n",
    "- Data Type\n",
    "\n",
    "Advanced queries:\n",
    "    \n",
    "-"
   ]
  },
  {
   "cell_type": "code",
   "execution_count": null,
   "id": "93940807",
   "metadata": {},
   "outputs": [],
   "source": []
  },
  {
   "cell_type": "markdown",
   "id": "d7dcf360",
   "metadata": {},
   "source": [
    "## API endpoints:\n",
    "\n",
    "\n",
    "I. Fetch rules endpoints\n",
    "\n",
    "- __Give me all the rules__\n",
    "- __Give me rules for the datatypes X,Y,Z__\n",
    "- Give me rules applicable to the datatypes X,Y,Z given input filters\n",
    "\n",
    "They return:\n",
    "- a list of rules with their meta-data: id/name/desc (premise/query ?)\n",
    "\n",
    "---------------------\n",
    "\n",
    "II. Apply rules\n",
    "\n",
    "- Apply rule A given input filters\n",
    "- Apply rules A,B,C given input filters\n",
    "\n",
    "They return:\n",
    "- a list of result resource IDs or full payloads (ids passed to ES views?)\n",
    "\n",
    "\n",
    "Issues:\n",
    "\n",
    "- Convention for the filters: how atlas knows which params need to be specified for different rules\n",
    "- Permission:\n",
    "    - fetching rules: service account that can always access the project with rules.\n",
    "    - applying rules: we need to get USER token from atlas and use it when applying the rules. handle access denied in some sessions.\n",
    "- Service sessions for storing forge sessions for different users.\n",
    "- Pagination of results."
   ]
  },
  {
   "cell_type": "code",
   "execution_count": null,
   "id": "9825c78d",
   "metadata": {},
   "outputs": [],
   "source": []
  }
 ],
 "metadata": {
  "kernelspec": {
   "display_name": "inference",
   "language": "python",
   "name": "inference"
  },
  "language_info": {
   "codemirror_mode": {
    "name": "ipython",
    "version": 3
   },
   "file_extension": ".py",
   "mimetype": "text/x-python",
   "name": "python",
   "nbconvert_exporter": "python",
   "pygments_lexer": "ipython3",
   "version": "3.8.12"
  }
 },
 "nbformat": 4,
 "nbformat_minor": 5
}
