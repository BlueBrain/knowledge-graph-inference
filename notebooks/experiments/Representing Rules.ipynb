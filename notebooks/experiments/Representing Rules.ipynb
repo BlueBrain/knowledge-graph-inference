{
 "cells": [
  {
   "cell_type": "code",
   "execution_count": 1,
   "id": "b7afd383",
   "metadata": {},
   "outputs": [],
   "source": [
    "%load_ext autoreload\n",
    "%autoreload 2"
   ]
  },
  {
   "cell_type": "code",
   "execution_count": 2,
   "id": "6387d060",
   "metadata": {},
   "outputs": [],
   "source": [
    "from string import Template\n",
    "\n",
    "import numpy as np\n",
    "import pandas as pd\n",
    "\n",
    "import getpass\n",
    "import json\n",
    "\n",
    "from collections import defaultdict, namedtuple\n",
    "\n",
    "from urllib.parse import quote_plus\n",
    "\n",
    "from kgforge.core import KnowledgeGraphForge\n",
    "\n",
    "from inference_tools.query.elastic_search import set_elastic_view\n",
    "from inference_tools.utils import (check_premises,\n",
    "                                   execute_query,\n",
    "                                   execute_query_pipe,\n",
    "                                   apply_rule,\n",
    "                                   get_rule_parameters)"
   ]
  },
  {
   "cell_type": "code",
   "execution_count": 3,
   "id": "9a243f67",
   "metadata": {},
   "outputs": [],
   "source": [
    "TOKEN = getpass.getpass()"
   ]
  },
  {
   "cell_type": "code",
   "execution_count": 4,
   "id": "412098f8",
   "metadata": {},
   "outputs": [],
   "source": [
    "ENDPOINT = \"https://staging.nise.bbp.epfl.ch/nexus/v1\""
   ]
  },
  {
   "cell_type": "code",
   "execution_count": 5,
   "id": "088e2ec9",
   "metadata": {},
   "outputs": [],
   "source": [
    "forge = KnowledgeGraphForge(\n",
    "    \"../../configs/new-forge-config.yaml\",\n",
    "    endpoint=ENDPOINT,\n",
    "    token=TOKEN, \n",
    "    bucket=\"dke/inference-test\")"
   ]
  },
  {
   "cell_type": "markdown",
   "id": "8d6d51e7",
   "metadata": {},
   "source": [
    "A factory that creates forge sessions given org + project."
   ]
  },
  {
   "cell_type": "code",
   "execution_count": 6,
   "id": "dffa3283",
   "metadata": {},
   "outputs": [],
   "source": [
    "# This could be replaced by any util kg-inference-api implements to handle user forge sessions\n",
    "FORGE_SESSIONS = {}\n",
    "def allocate_forge_session(org, project):\n",
    "    if (org, project) not in FORGE_SESSIONS:\n",
    "        session = KnowledgeGraphForge(\n",
    "            \"https://raw.githubusercontent.com/BlueBrain/nexus-forge/master/examples/notebooks/use-cases/prod-forge-nexus.yml\",\n",
    "            endpoint=ENDPOINT,\n",
    "            token=TOKEN, \n",
    "            bucket=f\"{org}/{project}\")\n",
    "        FORGE_SESSIONS[(org, project)] = session\n",
    "    return FORGE_SESSIONS[(org, project)]"
   ]
  },
  {
   "cell_type": "markdown",
   "id": "fd6fb0ad",
   "metadata": {},
   "source": [
    "# Inference Rules"
   ]
  },
  {
   "cell_type": "markdown",
   "id": "0f2652d4",
   "metadata": {},
   "source": [
    "Get filters from atlas (or advanced query)"
   ]
  },
  {
   "cell_type": "markdown",
   "id": "f4b96f42",
   "metadata": {},
   "source": [
    "We get filters from atlas (or advanced query), for example:\n",
    "\n",
    "    BrainRegionQueryParameter \"http://api.brain-map.org/api/v2/data/Structure/31\"  # ACA\n",
    "    MTypeQueryParameter \"http://uri.interlex.org/base/ilx_0381377\"  # L6_UPC\n",
    "    SpeciesQueryParameter \"http://purl.obolibrary.org/obo/NCBITaxon_10088\"   # Mouse"
   ]
  },
  {
   "cell_type": "code",
   "execution_count": 7,
   "id": "0eefb80e",
   "metadata": {},
   "outputs": [],
   "source": [
    "input_filters = {\n",
    "    \"BrainRegionQueryParameter\": \"http://api.brain-map.org/api/v2/data/Structure/31\",\n",
    "    \"MTypeQueryParameter\": \"http://uri.interlex.org/base/ilx_0381377\",\n",
    "    \"SpeciesQueryParameter\": \"http://purl.obolibrary.org/obo/NCBITaxon_10088\",\n",
    "}"
   ]
  },
  {
   "cell_type": "markdown",
   "id": "fe2991e8",
   "metadata": {},
   "source": [
    "Show all rules whose premises this search satisfies\n",
    "\n",
    "- `KGQuery`: `SparqlQuery`, `ESQuery`, `ForgeSearchQuery`\n",
    "- `RulePremise`: `PropertyPremise` \n",
    "\n",
    "Components of a `QueryBasedGeneralizationRule`:\n",
    "\n",
    "- __Rule Parameters__ values from atlas filters or advanced query (species, brain region, cell type (m/e/t), datatype) \n",
    "- __Premises__ need to be satisfied on provided rule params for the rule to be applied\n",
    "- __Query__ is applied to retrieve resources (result of inference). Queries can use the provided rule parameters\n",
    "\n",
    "Course of actions:\n",
    "    - Take filters\n",
    "    - Take all the available rules (?)\n",
    "    - Search for rules whose premises filters satisfy:\n",
    "       -  For each rule execute 'premise query' filled with parameters generated from filters\n",
    "      - Return rules whose premises are satisfied\n",
    "    - Apply queries of satisfied rules"
   ]
  },
  {
   "cell_type": "markdown",
   "id": "bdb4c361",
   "metadata": {},
   "source": [
    "# Principle: PC cells in neocortex have the same E-behaviour\n",
    "\n",
    "## Rule A (simple query)\n",
    "\n",
    "Input parameters: brain_region, MType\n",
    "If (premise)\n",
    "   (brain region)-[is_part_of]->({id: isocortex})\n",
    "   (mtype)-[IS_SUBCLASS_OF]->({id: PC})\n",
    "\n",
    "Return X s.t.\n",
    "- (X)-[IS_A]->(Trace)\n",
    "- (X)-[subject/species]->({id: Mouse})\n",
    "- (X)-[brainLocation/brainRegion]->(brain_region)-[is_part_of]->({id: isocortex})\n",
    "- (X)-[brainLocation/layer]->(brain layer {id: L5})\n",
    "- (X)-[hasMType]->(MType)-[IS_SUBCLASS_OF]->({id: PC})"
   ]
  },
  {
   "cell_type": "code",
   "execution_count": 8,
   "id": "f7315abe",
   "metadata": {},
   "outputs": [],
   "source": [
    "premise = [\n",
    "   {\n",
    "        \"type\": \"SparqlPremise\",\n",
    "        \"hasParameter\": [\n",
    "            {\n",
    "                \"name\": \"BrainRegionQueryParameter\",\n",
    "                \"description\": \"URI of the query brain region\",\n",
    "                \"type\": \"uri\"\n",
    "            }\n",
    "        ],\n",
    "        \"hasBody\": \"\"\"\n",
    "            SELECT ?x\n",
    "            WHERE {\n",
    "                <$BrainRegionQueryParameter> <http://schema.org/isPartOf>* <http://api.brain-map.org/api/v2/data/Structure/315> .\n",
    "            }\n",
    "        \"\"\",\n",
    "        \"queryConfiguration\": {\n",
    "            \"org\": \"dke\",\n",
    "            \"project\": \"inference-test\",\n",
    "            \"sparqlView\": {\n",
    "                \"id\": \"https://bluebrain.github.io/nexus/vocabulary/defaultSparqlIndex\",\n",
    "                \"type\": \"SparqlView\"\n",
    "            }\n",
    "        }\n",
    "    },\n",
    "    {\n",
    "        \"type\": \"SparqlPremise\",\n",
    "        \"hasParameter\": [\n",
    "            {\n",
    "                \"name\": \"MTypeQueryParameter\",\n",
    "                \"description\": \"URI of the query MType\",\n",
    "                \"type\": \"uri\"\n",
    "            }\n",
    "        ],\n",
    "        \"hasBody\": \"\"\"\n",
    "            SELECT ?x\n",
    "            WHERE {\n",
    "                <$MTypeQueryParameter> rdfs:subClassOf* <https://neuroshapes.org/PyramidalNeuron> .\n",
    "            }\n",
    "        \"\"\",\n",
    "        \"queryConfiguration\": {\n",
    "            \"org\": \"dke\",\n",
    "            \"project\": \"inference-test\"\n",
    "        }\n",
    "    },\n",
    "    {\n",
    "        \"type\": \"ForgeSearchPremise\",\n",
    "        \"hasParameter\": [\n",
    "            {\n",
    "                \"name\": \"BrainRegionQueryParameter\",\n",
    "                \"description\": \"URI of the query brain region\",\n",
    "                \"type\": \"uri\"\n",
    "            }\n",
    "        ],\n",
    "        \"targetParameter\": \"BrainRegionQueryParameter\",\n",
    "        \"targetPath\": \"id\",\n",
    "        \"pattern\": {\n",
    "            \"isPartOf\": \"http://api.brain-map.org/api/v2/data/Structure/315\"\n",
    "        },\n",
    "        \"queryConfiguration\": {\n",
    "            \"org\": \"dke\",\n",
    "            \"project\": \"inference-test\"\n",
    "        }\n",
    "    },\n",
    "]"
   ]
  },
  {
   "cell_type": "code",
   "execution_count": 9,
   "id": "e02ffaee",
   "metadata": {},
   "outputs": [],
   "source": [
    "search_query_A = {\n",
    "    \"type\": \"SparqlQuery\",\n",
    "    \"hasBody\": \"\"\"\n",
    "        SELECT ?id\n",
    "        WHERE {\n",
    "          ?id a <https://neuroshapes.org/Trace> ;\n",
    "                      <https://neuroshapes.org/annotation>/<https://neuroshapes.org/hasBody> ?mtype ;\n",
    "                      <https://bluebrain.github.io/nexus/vocabulary/deprecated> false ;\n",
    "                      <https://neuroshapes.org/brainLocation>/<https://neuroshapes.org/brainRegion> ?brainRegion.\n",
    "          ?mtype rdfs:subClassOf* <https://neuroshapes.org/PyramidalNeuron> .\n",
    "          ?brainRegion <http://schema.org/isPartOf>* <http://api.brain-map.org/api/v2/data/Structure/315> .\n",
    "        }\n",
    "    \"\"\",\n",
    "    \"queryConfiguration\": {\n",
    "        \"org\": \"dke\",\n",
    "        \"project\": \"inference-test\"\n",
    "    }\n",
    "}"
   ]
  },
  {
   "cell_type": "code",
   "execution_count": 10,
   "id": "0cf997d7",
   "metadata": {},
   "outputs": [],
   "source": [
    "rule_A = {\n",
    "    \"type\": \"DataGeneralizationRule\",\n",
    "    \"name\": \"Trace generalization for cortical PCs\",\n",
    "    \"description\": \"Collect traces belonging to PCs from other cortical regions\",\n",
    "    \"premise\": premise,\n",
    "    \"searchQuery\": search_query_A\n",
    "}"
   ]
  },
  {
   "cell_type": "code",
   "execution_count": 11,
   "id": "28751551",
   "metadata": {},
   "outputs": [],
   "source": [
    "rule_B = {\n",
    "    \"type\": \"DataGeneralizationRule\",\n",
    "    \"name\": \"Trace generalization for cortical PCs\",\n",
    "    \"description\": \"Collect traces belonging to PCs from other cortical regions\",\n",
    "    \"premise\": [\n",
    "       {\n",
    "            \"type\": \"SparqlPremise\",\n",
    "            \"hasParameter\": [\n",
    "                {\n",
    "                    \"name\": \"BrainRegionQueryParameter\",\n",
    "                    \"description\": \"URI of the query brain region\",\n",
    "                    \"type\": \"uri\"\n",
    "                }\n",
    "            ],\n",
    "            \"hasBody\": \"\"\"\n",
    "                SELECT ?x\n",
    "                WHERE {\n",
    "                    <$BrainRegionQueryParameter> <http://schema.org/isPartOf>* <http://api.brain-map.org/api/v2/data/Structure/315> .\n",
    "                }\n",
    "            \"\"\",\n",
    "            \"queryConfiguration\": {\n",
    "                \"org\": \"dke\",\n",
    "                \"project\": \"inference-test\",\n",
    "                \"sparqlView\": {\n",
    "                    \"id\": \"https://bluebrain.github.io/nexus/vocabulary/defaultSparqlIndex\",\n",
    "                    \"type\": \"SparqlView\"\n",
    "                }\n",
    "            }\n",
    "        },\n",
    "        {\n",
    "            \"type\": \"SparqlPremise\",\n",
    "            \"hasParameter\": [\n",
    "                {\n",
    "                    \"name\": \"MTypeQueryParameter\",\n",
    "                    \"description\": \"URI of the query MType\",\n",
    "                    \"type\": \"uri\"\n",
    "                }\n",
    "            ],\n",
    "            \"hasBody\": \"\"\"\n",
    "                SELECT ?x\n",
    "                WHERE {\n",
    "                    <$MTypeQueryParameter> rdfs:subClassOf* <https://neuroshapes.org/PyramidalNeuron> .\n",
    "                }\n",
    "            \"\"\",\n",
    "            \"queryConfiguration\": {\n",
    "                \"org\": \"dke\",\n",
    "                \"project\": \"inference-test\"\n",
    "            }\n",
    "        },\n",
    "        {\n",
    "            \"type\": \"ForgeSearchPremise\",\n",
    "            \"hasParameter\": [\n",
    "                {\n",
    "                    \"name\": \"BrainRegionQueryParameter\",\n",
    "                    \"description\": \"URI of the query brain region\",\n",
    "                    \"type\": \"uri\"\n",
    "                }\n",
    "            ],\n",
    "            \"targetParameter\": \"BrainRegionQueryParameter\",\n",
    "            \"targetPath\": \"id\",\n",
    "            \"pattern\": {\n",
    "                \"isPartOf\": \"http://api.brain-map.org/api/v2/data/Structure/315\"\n",
    "            },\n",
    "            \"queryConfiguration\": {\n",
    "                \"org\": \"dke\",\n",
    "                \"project\": \"inference-test\"\n",
    "            }\n",
    "        },\n",
    "    ],\n",
    "    \"searchQuery\": {\n",
    "        \"type\": \"QueryPipe\",\n",
    "        \"head\": {\n",
    "            # Query type\n",
    "            \"type\": \"SparqlQuery\",\n",
    "            \"queryConfiguration\": {\n",
    "                \"org\": \"dke\",\n",
    "                \"project\": \"inference-test\",\n",
    "                \"sparqlView\": {\n",
    "                    \"id\": \"https://bluebrain.github.io/nexus/vocabulary/defaultSparqlIndex\",\n",
    "                    \"type\": \"SparqlView\"\n",
    "                }\n",
    "            },\n",
    "            # Query body\n",
    "            \"hasBody\": \"\"\"\n",
    "                SELECT ?mtype\n",
    "                WHERE {\n",
    "                    ?mtype rdfs:subClassOf* <https://neuroshapes.org/PyramidalNeuron> .\n",
    "                    ?trace <https://neuroshapes.org/annotation>/<https://neuroshapes.org/hasBody> ?mtype.\n",
    "                }\n",
    "            \"\"\",\n",
    "            # Mapping of query results to the parameters (passed to the next query)\n",
    "            \"resultParameterMapping\": [\n",
    "                {\n",
    "                    \"path\": \"mtype\",\n",
    "                    \"parameterName\": \"acceptableResults\"\n",
    "                }\n",
    "            ]\n",
    "        },\n",
    "        \"rest\": { \n",
    "            \"type\": \"QueryPipe\",\n",
    "            \"head\": {\n",
    "                # Query type\n",
    "                \"type\": \"SimilarityQuery\",\n",
    "                # Number of top results to return\n",
    "                \"k\": 1,\n",
    "                \"queryConfiguration\": {\n",
    "                    \"org\": \"dke\",\n",
    "                    \"project\": \"inference-test\",\n",
    "                    \"embeddingModel\": {\n",
    "                        \"id\": \"https://bbp.epfl.ch/neurosciencegraph/data/MTypeEmbeddingModel\",\n",
    "                        \"type\": \"EmbeddingModel\"\n",
    "                    },\n",
    "                    \"similarityView\": {\n",
    "                        \"id\": \"https://bbp.epfl.ch/neurosciencegraph/data/mtype-embedding-view\",\n",
    "                        \"type\": \"ElasticSearchView\"\n",
    "                    },\n",
    "                    \"scoreFormula\": \"euclidean\",\n",
    "                },\n",
    "                # Specification of input parameters\n",
    "                \"hasParameter\": [\n",
    "                    {\n",
    "                        \"name\": \"MTypeQueryParameter\",\n",
    "                        \"description\": \"URI of the query MType\",\n",
    "                        \"type\": \"str\"\n",
    "                    },\n",
    "                    {\n",
    "                        \"name\": \"acceptableResults\",\n",
    "                        \"description\": \"List of URI's of acceptable MTypes (all PCs)\",\n",
    "                        \"type\": \"list\"\n",
    "                    }\n",
    "                ],\n",
    "                # Query to retrieve embeddings\n",
    "                \"searchTargetParameter\": \"MTypeQueryParameter\",\n",
    "                # Filter to apply on the similarity search results\n",
    "                \"resultFilter\": \"\"\"\n",
    "                    \"must\": {\n",
    "                        \"nested\": {\n",
    "                            \"path\": \"derivation.entity\",\n",
    "                            \"query\": {\n",
    "                                \"terms\": { \"derivation.entity.@id\": [$acceptableResults] }\n",
    "                            }\n",
    "                        }\n",
    "                    }\n",
    "                \"\"\",\n",
    "                # Mapping of query results to the parameters (passed to the next query)\n",
    "                \"resultParameterMapping\": [{\n",
    "                    \"path\": \"id\",\n",
    "                    \"parameterName\": \"closestMType\"\n",
    "                }]\n",
    "            },\n",
    "            \"rest\": {\n",
    "                # Query type\n",
    "                \"type\": \"SparqlQuery\",\n",
    "                # Specification of input parameters\n",
    "                \"hasParameter\": [\n",
    "                    {\n",
    "                        \"name\": \"closestMType\",\n",
    "                        \"description\": \"URI of the closest acceptable MType\",\n",
    "                        \"type\": \"uri\"\n",
    "                    }\n",
    "                ],\n",
    "                \"queryConfiguration\": {\n",
    "                    \"org\": \"dke\",\n",
    "                    \"project\": \"inference-test\",\n",
    "                    \"sparqlView\": {\n",
    "                        \"id\": \"https://bluebrain.github.io/nexus/vocabulary/defaultSparqlIndex\",\n",
    "                        \"type\": \"SparqlView\"\n",
    "                    }\n",
    "                },\n",
    "                # Query body\n",
    "                \"hasBody\": \"\"\"\n",
    "                    SELECT ?id\n",
    "                    WHERE {\n",
    "                        ?id a <https://neuroshapes.org/Trace> ;\n",
    "                            <https://bluebrain.github.io/nexus/vocabulary/deprecated> false ;\n",
    "                            <https://neuroshapes.org/annotation> ?annotation ;\n",
    "                            <https://neuroshapes.org/brainLocation>/<https://neuroshapes.org/brainRegion> ?brainRegion.\n",
    "                        ?annotation <https://neuroshapes.org/hasBody> <$closestMType>.\n",
    "                    }\n",
    "                \"\"\"\n",
    "            }\n",
    "        }\n",
    "    }\n",
    "}"
   ]
  },
  {
   "cell_type": "code",
   "execution_count": 12,
   "id": "c64ca079",
   "metadata": {},
   "outputs": [
    {
     "name": "stdout",
     "output_type": "stream",
     "text": [
      "CPU times: user 1 µs, sys: 1 µs, total: 2 µs\n",
      "Wall time: 5.25 µs\n"
     ]
    },
    {
     "data": {
      "text/plain": [
       "True"
      ]
     },
     "execution_count": 12,
     "metadata": {},
     "output_type": "execute_result"
    }
   ],
   "source": [
    "%time\n",
    "check_premises(allocate_forge_session, rule_A, input_filters)"
   ]
  },
  {
   "cell_type": "code",
   "execution_count": 13,
   "id": "b3ba7fff",
   "metadata": {
    "scrolled": false
   },
   "outputs": [
    {
     "name": "stdout",
     "output_type": "stream",
     "text": [
      "CPU times: user 3 µs, sys: 1 µs, total: 4 µs\n",
      "Wall time: 7.15 µs\n"
     ]
    },
    {
     "data": {
      "text/plain": [
       "[{'id': 'https://bbp.epfl.ch/neurosciencegraph/data/ff0e496d-b8a0-4c0e-8487-545563495dc0'},\n",
       " {'id': 'https://bbp.epfl.ch/neurosciencegraph/data/2b108ccf-4ad2-4495-8490-17b2fde656fa'},\n",
       " {'id': 'https://bbp.epfl.ch/neurosciencegraph/data/4fba4ab3-189c-4ff4-96bf-6904c1b8912b'}]"
      ]
     },
     "execution_count": 13,
     "metadata": {},
     "output_type": "execute_result"
    }
   ],
   "source": [
    "%time\n",
    "apply_rule(allocate_forge_session, rule_A, input_filters)"
   ]
  },
  {
   "cell_type": "markdown",
   "id": "d7669dcf",
   "metadata": {},
   "source": [
    "## Rule B (query + similarity search)"
   ]
  },
  {
   "cell_type": "markdown",
   "id": "149ae1c1",
   "metadata": {},
   "source": [
    "Input parameters: brain_region, MType, similarityModelId, topNeighbors\n",
    "\n",
    "Find closest MType and then return traces/morphs with the closest MType that is also a subclass of pyramidal neuron and that are located in a cortical region.\n",
    "\n",
    "If (premise)\n",
    "   (brain region)-[is_part_of]->({id: isocortex})\n",
    "   (mtype)-[IS_SUBCLASS_OF]->({id: PC})\n",
    "\n",
    "\n",
    "Return Y s.t.\n",
    "- (Y)-[hasMType]->(MTypeY)\n",
    "- Select top K MTypeY by sim_{similarityModel}(MType, MTypeY) \n",
    "\n",
    "(or for traces)\n",
    "Return Y s.t.\n",
    "- (Y)-[hasEType]->(ETypeY)\n",
    "- Select either top K ETypeY by sim_{similarityModel}(ETypeX, ETypeY) or s.t sim_{similarityModel}(ETypeX, ETypeY) > similarityThreshold"
   ]
  },
  {
   "cell_type": "markdown",
   "id": "bdb99f91",
   "metadata": {},
   "source": [
    "__Notes__:\n",
    "\n",
    "- Similarity-based query is not allowed in premises\n",
    "- You can use results from the previous query or input params in the next query"
   ]
  },
  {
   "cell_type": "markdown",
   "id": "5aafbcd2",
   "metadata": {},
   "source": [
    "TODO: make rule know which view to use\n",
    "- \"configuration\": \"https://bbp.epfl.ch/neurosciencegraph/data/ontology-class-recommender-config\",\n",
    "- \"similarityModels\": \"https://bbp.epfl.ch/neurosciencegraph/data/MTypeEmbeddingModel\",          "
   ]
  },
  {
   "cell_type": "code",
   "execution_count": 14,
   "id": "7388bc8b",
   "metadata": {},
   "outputs": [],
   "source": [
    "search_query_B =  {\n",
    "    \"type\": \"QueryPipe\",\n",
    "    \"head\": {\n",
    "        # Query type\n",
    "        \"type\": \"SparqlQuery\",\n",
    "        \"queryConfiguration\": {\n",
    "            \"org\": \"dke\",\n",
    "            \"project\": \"inference-test\",\n",
    "            \"sparqlView\": {\n",
    "                \"id\": \"https://bluebrain.github.io/nexus/vocabulary/defaultSparqlIndex\",\n",
    "                \"type\": \"SparqlView\"\n",
    "            }\n",
    "        },\n",
    "        # Query body\n",
    "        \"hasBody\": \"\"\"\n",
    "            SELECT ?mtype\n",
    "            WHERE {\n",
    "                ?mtype rdfs:subClassOf* <https://neuroshapes.org/PyramidalNeuron> .\n",
    "                ?trace <https://neuroshapes.org/annotation>/<https://neuroshapes.org/hasBody> ?mtype.\n",
    "            }\n",
    "        \"\"\",\n",
    "        # Mapping of query results to the parameters (passed to the next query)\n",
    "        \"resultParameterMapping\": [\n",
    "            {\n",
    "                \"path\": \"mtype\",\n",
    "                \"parameterName\": \"acceptableResults\"\n",
    "            }\n",
    "        ]\n",
    "    },\n",
    "    \"rest\": { \n",
    "        \"type\": \"QueryPipe\",\n",
    "        \"head\": {\n",
    "            # Query type\n",
    "            \"type\": \"SimilarityQuery\",\n",
    "            # Number of top results to return\n",
    "            \"k\": 1,\n",
    "            \"queryConfiguration\": {\n",
    "                \"org\": \"dke\",\n",
    "                \"project\": \"inference-test\",\n",
    "                \"embeddingModel\": {\n",
    "                    \"id\": \"https://bbp.epfl.ch/neurosciencegraph/data/MTypeEmbeddingModel\",\n",
    "                    \"type\": \"EmbeddingModel\"\n",
    "                },\n",
    "                \"similarityView\": {\n",
    "                    \"id\": \"https://bbp.epfl.ch/neurosciencegraph/data/mtype-embedding-view\",\n",
    "                    \"type\": \"ElasticSearchView\"\n",
    "                },\n",
    "                \"scoreFormula\": \"euclidean\",\n",
    "            },\n",
    "            # Specification of input parameters\n",
    "            \"hasParameter\": [\n",
    "                {\n",
    "                    \"name\": \"MTypeQueryParameter\",\n",
    "                    \"description\": \"URI of the query MType\",\n",
    "                    \"type\": \"str\"\n",
    "                },\n",
    "                {\n",
    "                    \"name\": \"acceptableResults\",\n",
    "                    \"description\": \"List of URI's of acceptable MTypes (all PCs)\",\n",
    "                    \"type\": \"list\"\n",
    "                }\n",
    "            ],\n",
    "            # Query to retrieve embeddings\n",
    "            \"searchTargetParameter\": \"MTypeQueryParameter\",\n",
    "            # Filter to apply on the similarity search results\n",
    "            \"resultFilter\": \"\"\"\n",
    "                \"must\": {\n",
    "                    \"nested\": {\n",
    "                        \"path\": \"derivation.entity\",\n",
    "                        \"query\": {\n",
    "                            \"terms\": { \"derivation.entity.@id\": [$acceptableResults] }\n",
    "                        }\n",
    "                    }\n",
    "                }\n",
    "            \"\"\",\n",
    "            # Mapping of query results to the parameters (passed to the next query)\n",
    "            \"resultParameterMapping\": [{\n",
    "                \"path\": \"id\",\n",
    "                \"parameterName\": \"closestMType\"\n",
    "            }]\n",
    "        },\n",
    "        \"rest\": {\n",
    "            # Query type\n",
    "            \"type\": \"SparqlQuery\",\n",
    "            # Specification of input parameters\n",
    "            \"hasParameter\": [\n",
    "                {\n",
    "                    \"name\": \"closestMType\",\n",
    "                    \"description\": \"URI of the closest acceptable MType\",\n",
    "                    \"type\": \"uri\"\n",
    "                }\n",
    "            ],\n",
    "            \"queryConfiguration\": {\n",
    "                \"org\": \"dke\",\n",
    "                \"project\": \"inference-test\",\n",
    "                \"sparqlView\": {\n",
    "                    \"id\": \"https://bluebrain.github.io/nexus/vocabulary/defaultSparqlIndex\",\n",
    "                    \"type\": \"SparqlView\"\n",
    "                }\n",
    "            },\n",
    "            # Query body\n",
    "            \"hasBody\": \"\"\"\n",
    "                SELECT ?id\n",
    "                WHERE {\n",
    "                    ?id a <https://neuroshapes.org/Trace> ;\n",
    "                        <https://bluebrain.github.io/nexus/vocabulary/deprecated> false ;\n",
    "                        <https://neuroshapes.org/annotation> ?annotation ;\n",
    "                        <https://neuroshapes.org/brainLocation>/<https://neuroshapes.org/brainRegion> ?brainRegion.\n",
    "                    ?annotation <https://neuroshapes.org/hasBody> <$closestMType>.\n",
    "                }\n",
    "            \"\"\"\n",
    "        }\n",
    "    }\n",
    "}"
   ]
  },
  {
   "cell_type": "code",
   "execution_count": 15,
   "id": "0f00ee49",
   "metadata": {},
   "outputs": [],
   "source": [
    "rule_B = {\n",
    "    \"type\": \"DataGeneralizationRule\",\n",
    "    \"name\": \"MType similarity based trace generalization for cortical PCs\",\n",
    "    \"description\": \"Collect traces belonging to the closest (PC) MType from other cortical regions\",\n",
    "    \"premise\": premise,\n",
    "    \"searchQuery\": search_query_B\n",
    "}"
   ]
  },
  {
   "cell_type": "code",
   "execution_count": 16,
   "id": "6f1959a9",
   "metadata": {},
   "outputs": [
    {
     "name": "stdout",
     "output_type": "stream",
     "text": [
      "CPU times: user 3 µs, sys: 1e+03 ns, total: 4 µs\n",
      "Wall time: 6.91 µs\n"
     ]
    },
    {
     "data": {
      "text/plain": [
       "True"
      ]
     },
     "execution_count": 16,
     "metadata": {},
     "output_type": "execute_result"
    }
   ],
   "source": [
    "%time\n",
    "check_premises(allocate_forge_session, rule_B, input_filters)"
   ]
  },
  {
   "cell_type": "code",
   "execution_count": 17,
   "id": "93c4d233",
   "metadata": {
    "scrolled": true
   },
   "outputs": [
    {
     "name": "stdout",
     "output_type": "stream",
     "text": [
      "CPU times: user 4 µs, sys: 1 µs, total: 5 µs\n",
      "Wall time: 7.87 µs\n"
     ]
    },
    {
     "data": {
      "text/plain": [
       "[{'id': 'https://bbp.epfl.ch/neurosciencegraph/data/ff0e496d-b8a0-4c0e-8487-545563495dc0'}]"
      ]
     },
     "execution_count": 17,
     "metadata": {},
     "output_type": "execute_result"
    }
   ],
   "source": [
    "%time\n",
    "apply_rule(allocate_forge_session, rule_B, input_filters)"
   ]
  },
  {
   "cell_type": "markdown",
   "id": "6e069492",
   "metadata": {},
   "source": [
    "## Rule C"
   ]
  },
  {
   "cell_type": "markdown",
   "id": "f201fb0f",
   "metadata": {},
   "source": [
    "\n",
    "multiple similarity models.\n",
    "We also use a similarity rule with parameterizable number of neighbors, and will show how to specify models to ignore."
   ]
  },
  {
   "cell_type": "code",
   "execution_count": 18,
   "id": "0f607637",
   "metadata": {},
   "outputs": [],
   "source": [
    "search_query_C = {\n",
    "    \"type\": \"QueryPipe\",\n",
    "    \"head\": {\n",
    "        \"type\": \"SparqlQuery\",\n",
    "        \"queryConfiguration\": {\n",
    "            \"org\": \"dke\",\n",
    "            \"project\": \"inference-test\",\n",
    "            \"sparqlView\": {\n",
    "                \"id\": \"https://bluebrain.github.io/nexus/vocabulary/defaultSparqlIndex\",\n",
    "                \"type\": \"SparqlView\"\n",
    "            }\n",
    "        },\n",
    "        \"hasBody\": \"\"\"\n",
    "            SELECT ?mtype\n",
    "            WHERE {\n",
    "                ?mtype rdfs:subClassOf* <https://neuroshapes.org/PyramidalNeuron> .\n",
    "            }\n",
    "        \"\"\",\n",
    "        \"resultParameterMapping\": [{\n",
    "            \"path\": \"mtype\",\n",
    "            \"parameterName\": \"acceptableMTypes\"\n",
    "        }]\n",
    "    },\n",
    "    \"rest\": {\n",
    "        \"type\": \"SimilarityQuery\",\n",
    "        \"k\": \"$KNearestNeighborsParameter\",\n",
    "        # Configuration of similarity views\n",
    "        # (multiple records mean that multiple models are combined)\n",
    "        \"queryConfiguration\": [\n",
    "            {\n",
    "                \"org\": \"dke\",\n",
    "                \"project\": \"inference-test\",\n",
    "                \"embeddingModel\": {\n",
    "                    \"id\": \"https://bbp.epfl.ch/neurosciencegraph/data/MTypeEmbeddingModel\",\n",
    "                    \"type\": \"EmbeddingModel\"\n",
    "                },\n",
    "                \"similarityView\": {\n",
    "                    \"id\": \"https://bbp.epfl.ch/neurosciencegraph/data/mtype-embedding-view\",\n",
    "                    \"type\": \"ElasticSearchView\"\n",
    "                },\n",
    "                \"boosted\": True,\n",
    "                \"boostingView\": {\n",
    "                    \"id\": \"https://bbp.epfl.ch/neurosciencegraph/data/mtype-boosting-view\",\n",
    "                    \"type\": \"ElasticSearchView\"\n",
    "                },\n",
    "                \"statisticsView\": {\n",
    "                    \"id\": \"https://bbp.epfl.ch/neurosciencegraph/data/mtype-statistics-view\",\n",
    "                    \"type\": \"ElasticSearchView\"\n",
    "                }\n",
    "            },\n",
    "            {\n",
    "                \"org\": \"dke\",\n",
    "                \"project\": \"inference-test\",\n",
    "                \"embeddingModel\": {\n",
    "                    \"id\": \"https://bbp.epfl.ch/neurosciencegraph/data/MTypeEmbeddingModel2\",\n",
    "                    \"type\": \"EmbeddingModel\"\n",
    "                },\n",
    "                \"similarityView\": {\n",
    "                    \"id\": \"https://bbp.epfl.ch/neurosciencegraph/data/mtype-embedding-view2\",\n",
    "                    \"type\": \"ElasticSearchView\"\n",
    "                },\n",
    "                \"boosted\": True,\n",
    "                \"boostingView\": {\n",
    "                    \"id\": \"https://bbp.epfl.ch/neurosciencegraph/data/mtype-boosting-view2\",\n",
    "                    \"type\": \"ElasticSearchView\"\n",
    "                },\n",
    "                \"statisticsView\": {\n",
    "                    \"id\": \"https://bbp.epfl.ch/neurosciencegraph/data/mtype-statistics-view2\",\n",
    "                    \"type\": \"ElasticSearchView\"\n",
    "                }\n",
    "            }\n",
    "        ],\n",
    "        \"hasParameter\": [\n",
    "            {\n",
    "                \"name\": \"MTypeQueryParameter\",\n",
    "                \"description\": \"URI of the query MType\",\n",
    "                \"type\": \"str\"\n",
    "            },\n",
    "            {\n",
    "                \"type\": \"int\",\n",
    "                \"description\": \"Number of the nearest neighbors to return\",\n",
    "                \"name\": \"KNearestNeighborsParameter\"\n",
    "            },\n",
    "            {\n",
    "                \"name\": \"acceptableMTypes\",\n",
    "                \"description\": \"URIs of acceptable MTypes (subclasses of PC).\",\n",
    "                \"type\": \"list\"\n",
    "            }\n",
    "        ],\n",
    "        \"searchTargetParameter\": \"MTypeQueryParameter\",\n",
    "        # Filter to apply on the similarity search results\n",
    "        \"resultFilter\": \"\"\"\n",
    "            \"must\": {\n",
    "                \"nested\": {\n",
    "                    \"path\": \"derivation.entity\",\n",
    "                    \"query\": {\n",
    "                        \"terms\": { \"derivation.entity.@id\": [$acceptableMTypes] }\n",
    "                    }\n",
    "                }\n",
    "            }\n",
    "        \"\"\"\n",
    "    }\n",
    "}"
   ]
  },
  {
   "cell_type": "code",
   "execution_count": 19,
   "id": "1393e4ae",
   "metadata": {},
   "outputs": [],
   "source": [
    "rule_C = {\n",
    "    \"@type\": \"DataGeneralizationRule\",\n",
    "    \"name\": \"Combined (PC) MType similarity\",\n",
    "    \"description\": \"Get the closest (PC) MType according to a combined similarity\",\n",
    "    \"premise\": [\n",
    "        {\n",
    "            \"type\": \"SparqlPremise\",\n",
    "            \"hasParameter\": [\n",
    "                {\n",
    "                    \"name\": \"MTypeQueryParameter\",\n",
    "                    \"description\": \"URI of the query MType\",\n",
    "                    \"type\": \"uri\"\n",
    "                }\n",
    "            ],\n",
    "            \"hasBody\": \"\"\"\n",
    "                SELECT ?x\n",
    "                WHERE {\n",
    "                    <$MTypeQueryParameter> rdfs:subClassOf* <https://neuroshapes.org/PyramidalNeuron> .\n",
    "                }\n",
    "            \"\"\",\n",
    "            \"queryConfiguration\": {\n",
    "                \"org\": \"dke\",\n",
    "                \"project\": \"inference-test\",\n",
    "                \"sparqlView\": {\n",
    "                    \"id\": \"https://bluebrain.github.io/nexus/vocabulary/defaultSparqlIndex\",\n",
    "                    \"type\": \"SparqlView\"\n",
    "                }\n",
    "            }\n",
    "        }\n",
    "    ],\n",
    "    \"searchQuery\": search_query_C\n",
    "}"
   ]
  },
  {
   "cell_type": "code",
   "execution_count": 20,
   "id": "8ab2c3c6",
   "metadata": {},
   "outputs": [],
   "source": [
    "input_filters[\"KNearestNeighborsParameter\"] = 3"
   ]
  },
  {
   "cell_type": "code",
   "execution_count": 21,
   "id": "f3d6f1d2",
   "metadata": {
    "scrolled": true
   },
   "outputs": [
    {
     "data": {
      "text/plain": [
       "[{'id': 'https://neuroshapes.org/TufterdPyramidalNeuron'},\n",
       " {'id': 'http://uri.interlex.org/base/ilx_0381371'},\n",
       " {'id': 'https://neuroshapes.org/UntufterdPyramidalNeuron'}]"
      ]
     },
     "execution_count": 21,
     "metadata": {},
     "output_type": "execute_result"
    }
   ],
   "source": [
    "apply_rule(allocate_forge_session, rule_C, input_filters)"
   ]
  }
 ],
 "metadata": {
  "kernelspec": {
   "display_name": "kginferance",
   "language": "python",
   "name": "python3"
  },
  "language_info": {
   "codemirror_mode": {
    "name": "ipython",
    "version": 3
   },
   "file_extension": ".py",
   "mimetype": "text/x-python",
   "name": "python",
   "nbconvert_exporter": "python",
   "pygments_lexer": "ipython3",
   "version": "3.7.15"
  },
  "vscode": {
   "interpreter": {
    "hash": "95c18e6890a529c66ebdafdc4b37df03a38016a17b17177dcf3eb23be82801d5"
   }
  }
 },
 "nbformat": 4,
 "nbformat_minor": 5
}
