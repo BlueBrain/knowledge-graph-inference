{
 "cells": [
  {
   "cell_type": "code",
   "execution_count": 3,
   "id": "de0b9082",
   "metadata": {},
   "outputs": [],
   "source": [
    "import matplotlib.pyplot as plt"
   ]
  },
  {
   "cell_type": "code",
   "execution_count": 4,
   "id": "6387d060",
   "metadata": {},
   "outputs": [],
   "source": [
    "from string import Template\n",
    "\n",
    "import numpy as np\n",
    "\n",
    "import getpass\n",
    "import json\n",
    "\n",
    "\n",
    "from urllib.parse import quote_plus\n",
    "\n",
    "from kgforge.core import KnowledgeGraphForge"
   ]
  },
  {
   "cell_type": "code",
   "execution_count": 5,
   "id": "9a243f67",
   "metadata": {},
   "outputs": [
    {
     "name": "stdout",
     "output_type": "stream",
     "text": [
      "········\n"
     ]
    }
   ],
   "source": [
    "TOKEN = getpass.getpass()"
   ]
  },
  {
   "cell_type": "code",
   "execution_count": 6,
   "id": "412098f8",
   "metadata": {},
   "outputs": [],
   "source": [
    "ENDPOINT = \"https://staging.nexus.ocp.bbp.epfl.ch/v1\""
   ]
  },
  {
   "cell_type": "code",
   "execution_count": 11,
   "id": "088e2ec9",
   "metadata": {},
   "outputs": [],
   "source": [
    "forge = KnowledgeGraphForge(\n",
    "    \"../../configs/new-forge-config.yaml\",\n",
    "    endpoint=ENDPOINT,\n",
    "    token=TOKEN, \n",
    "    bucket=\"dke/inference-test\")"
   ]
  },
  {
   "cell_type": "markdown",
   "id": "fd6fb0ad",
   "metadata": {},
   "source": [
    "# Inference Rules"
   ]
  },
  {
   "cell_type": "markdown",
   "id": "2e018911",
   "metadata": {},
   "source": [
    "Configure the atlas"
   ]
  },
  {
   "cell_type": "code",
   "execution_count": 12,
   "id": "08cdba71",
   "metadata": {},
   "outputs": [],
   "source": [
    "configuration = {\n",
    "    \"project\": \"dke/inference-test\"\n",
    "}"
   ]
  },
  {
   "cell_type": "markdown",
   "id": "0f2652d4",
   "metadata": {},
   "source": [
    "Get filters from atlas (or advanced query)"
   ]
  },
  {
   "cell_type": "markdown",
   "id": "f4b96f42",
   "metadata": {},
   "source": [
    "We get filters from atlas (or advanced query), for example:\n",
    "\n",
    "    brainRegion \"http://api.brain-map.org/api/v2/data/Structure/31\"  # ACA\n",
    "    species \"http://purl.obolibrary.org/obo/NCBITaxon_10088\"   # Mouse\n",
    "    MType \"http://uri.interlex.org/base/ilx_0381377\"  # L6_UPC"
   ]
  },
  {
   "cell_type": "code",
   "execution_count": 13,
   "id": "0eefb80e",
   "metadata": {},
   "outputs": [],
   "source": [
    "input_filters = {\n",
    "    \"brainRegion\": \"http://api.brain-map.org/api/v2/data/Structure/31\",\n",
    "    \"MType\": \"http://uri.interlex.org/base/ilx_0381377\",\n",
    "    \"species\": \"http://purl.obolibrary.org/obo/NCBITaxon_10088\",\n",
    "}"
   ]
  },
  {
   "cell_type": "markdown",
   "id": "fe2991e8",
   "metadata": {},
   "source": [
    "Show all rules whose premises this search satisfies\n",
    "\n",
    "- `KGQuery`: `SPARQLQuery`, `ESQuery`, `ForgeSearchQuery`\n",
    "- `RulePremise`: `PropertyPremise` \n",
    "\n",
    "Components of a `QueryBasedGeneralizationRule`:\n",
    "\n",
    "- __Rule Parameters__ values from atlas filters or advanced query (species, brain region, cell type (m/e/t), datatype) \n",
    "- __Premises__ need to be satisfied on provided rule params for the rule to be applied\n",
    "- __Query__ is applied to retrieve resources (result of inference). Queries can use the provided rule parameters\n",
    "\n",
    "Course of actions:\n",
    "    - Take filters\n",
    "    - Take all the available rules (?)\n",
    "    - Search for rules whose premises filters satisfy:\n",
    "       -  For each rule execute 'premise query' filled with parameters generated from filters\n",
    "      - Return rules whose premises are satisfied\n",
    "    - Apply queries of satisfied rules"
   ]
  },
  {
   "cell_type": "code",
   "execution_count": 57,
   "id": "6b9cf450",
   "metadata": {},
   "outputs": [],
   "source": [
    "def set_elastic_view(forge, view):\n",
    "    views_endpoint = \"/\".join((\n",
    "        ENDPOINT,\n",
    "        \"views\",\n",
    "        quote_plus(forge._store.bucket.split(\"/\")[0]),\n",
    "        quote_plus(forge._store.bucket.split(\"/\")[1])))\n",
    "    print(views_endpoint)\n",
    "    print(\n",
    "        (views_endpoint, quote_plus(view), \"_search\"))\n",
    "    forge._store.service.elastic_endpoint[\"endpoint\"] = \"/\".join(\n",
    "        (views_endpoint, quote_plus(view), \"_search\"))\n",
    "\n",
    "\n",
    "def check_premise(forge, rule, parameters):\n",
    "    if \"hasParameter\" in rule:\n",
    "        parameters = build_parameter_map(\n",
    "            rule[\"hasParameter\"], parameters)\n",
    "    satisfies = True\n",
    "    for premise in rule[\"premise\"]:\n",
    "        if premise[\"@type\"] == \"SPARQLQuery\":\n",
    "            query = Template(premise[\"hasBody\"]).substitute(**parameters)\n",
    "            results = forge.sparql(query, limit=None)\n",
    "            if len(results) == 0:\n",
    "                satisfies = False\n",
    "                break\n",
    "        elif premise[\"@type\"] == \"ForgeSearchQuery\":\n",
    "            target_param = premise[\"hasBody\"].get(\"targetParameter\", None)\n",
    "            target_path = premise[\"hasBody\"].get(\"targetPath\", None)\n",
    "            query = json.loads(Template(json.dumps(premise[\"hasBody\"][\"pattern\"])).substitute(\n",
    "                **parameters))\n",
    "            resources = forge.search(query)\n",
    "            if target_param:\n",
    "                # If target parameter is specified, we check that its value is in the\n",
    "                if target_path:\n",
    "                    matched_values = [\n",
    "                        follow_path(forge.as_json(r), target_path)\n",
    "                        for r in resources\n",
    "                    ]\n",
    "                else:\n",
    "                    matched_values = [r.id for r in resources]\n",
    "                if parameters[target_param] not in matched_values:\n",
    "                    satisfies = False\n",
    "                    break\n",
    "            else:\n",
    "                if len(resources) == 0:\n",
    "                    satisfies = False\n",
    "                    break\n",
    "        elif premise[\"@type\"] == \"ElasticSearchQuery\":\n",
    "            print(premise)\n",
    "        else:\n",
    "            raise ValueError(\"Unknown type of premise\")\n",
    "    return satisfies\n",
    "\n",
    "\n",
    "def follow_path(resource, path):\n",
    "    value = resource\n",
    "    path = path.split(\".\")\n",
    "    for el in path:\n",
    "        value = value[el]\n",
    "    return value\n",
    "\n",
    "\n",
    "def build_parameter_map(parameter_spec, parameter_values):\n",
    "    param_map = {}\n",
    "    for p in parameter_spec:\n",
    "        name = p[\"name\"]\n",
    "        if p[\"type\"] == \"list\":\n",
    "            param_map[name] = \", \".join([f\"\\\"{el}\\\"\" for el in parameter_values[name]])\n",
    "        elif p[\"type\"] == \"str\":\n",
    "            if isinstance(parameter_values[name], list):\n",
    "                value = parameter_values[name][0]\n",
    "            else:\n",
    "                value = parameter_values[name]\n",
    "            param_map[name] = f\"\\\"{value}\\\"\"\n",
    "        elif p[\"type\"] == \"sparql_uri\":\n",
    "            if isinstance(parameter_values[name], list):\n",
    "                value = parameter_values[name][0]\n",
    "            else:\n",
    "                value = parameter_values[name]\n",
    "\n",
    "            param_map[name] = value\n",
    "        else:\n",
    "            param_map[name] = parameter_values[name]\n",
    "    return param_map\n",
    "\n",
    " \n",
    "def execute_similarity_query(forge, query, parameters):\n",
    "    k = query[\"k\"]\n",
    "    vector_query = query[\"embeddingQuery\"]\n",
    "    vector_query = Template(vector_query).substitute(**parameters)\n",
    "    result = forge.elastic(vector_query)\n",
    "    vector_id = result[0]._id\n",
    "    vector = result[0]._source[\"embedding\"]\n",
    "    \n",
    "    result_filter = query.get(\"resultFilter\", \"\")\n",
    "    if result_filter:\n",
    "        result_filter = \",\\n\" + Template(result_filter).substitute(parameters)\n",
    "\n",
    "    similarity_query = \"\"\"\n",
    "        {\n",
    "          \"size\": $_k,\n",
    "          \"query\": {\n",
    "            \"script_score\": {\n",
    "                \"query\": {\n",
    "                    \"bool\" : {\n",
    "                      \"must_not\" : {\n",
    "                        \"term\" : { \"_id\": \"$_vectorId\" }\n",
    "                      },\n",
    "                      \"must\": { \"exists\": { \"field\": \"embedding\" } }\n",
    "                      $_resultFilter\n",
    "                    }\n",
    "                },\n",
    "                \"script\": {\n",
    "                    \"source\": \"doc['embedding'].size() == 0 ? 0 : (1 / (1 + l2norm(params.query_vector, doc['embedding'])))\",\n",
    "                    \"params\": {\n",
    "                      \"query_vector\": $_vector\n",
    "                    }\n",
    "                }\n",
    "            }\n",
    "          }\n",
    "    }\n",
    "    \"\"\"\n",
    "    similarity_query = Template(similarity_query).substitute({\n",
    "        \"_vectorId\": vector_id,\n",
    "        \"_vector\": vector,\n",
    "        \"_k\": k,\n",
    "        \"_resultFilter\": result_filter\n",
    "    })\n",
    "    results = forge.elastic(similarity_query, limit=1000)\n",
    "    return [r._source for r in results]\n",
    "\n",
    "\n",
    "def execute_query(forge, query, parameters):\n",
    "    if \"hasParameter\" in query:\n",
    "        parameters = build_parameter_map(\n",
    "            query[\"hasParameter\"], parameters)\n",
    "    if query[\"@type\"] == \"SPARQLQuery\":\n",
    "        query = Template(query[\"hasBody\"]).substitute(**parameters)\n",
    "        resources = forge.sparql(query, limit=None)\n",
    "        return forge.as_json(resources)\n",
    "    elif query[\"@type\"] == \"ForgeSearchQuery\":\n",
    "        target_param = query[\"hasBody\"].get(\"targetParameter\", None)\n",
    "        target_path = query[\"hasBody\"].get(\"targetPath\", None)\n",
    "        query = json.loads(Template(json.dumps(query[\"hasBody\"][\"pattern\"])).substitute(\n",
    "            **parameters))\n",
    "        resources = forge.search(query)\n",
    "        return resources\n",
    "    elif query[\"@type\"] == \"SimilarityQuery\":\n",
    "        resources = execute_similarity_query(forge, query, parameters)\n",
    "        return resources\n",
    "    elif query[\"@type\"] == \"ElasticSearchQuery\":\n",
    "        print(query)\n",
    "    else:\n",
    "        raise ValueError(\"Unknown type of query\")\n",
    "\n",
    "\n",
    "def execute_composite_query(forge, head, parameters, rest=None):\n",
    "    if rest is None:\n",
    "        if head[\"@type\"] == \"CompositeQuery\":\n",
    "            return execute_composite_query(\n",
    "                forge, head[\"head\"], parameters, head[\"rest\"])\n",
    "        else:\n",
    "            return execute_query(forge, head, parameters)\n",
    "    else:\n",
    "        result = execute_query(forge, head, parameters)\n",
    "        # Compute new parameters combining old parameters and the result of the query\n",
    "        new_parameters = {**parameters}\n",
    "        for mapping in head[\"resultParameterMapping\"]:\n",
    "            if isinstance(result, list):\n",
    "                new_parameters[mapping[\"parameterName\"]] = [\n",
    "                    follow_path(el, mapping[\"path\"]) for el in result\n",
    "                ]\n",
    "            else:\n",
    "                new_parameters[mapping[\"parameterName\"]] = result[mapping[\"path\"]]\n",
    "        if rest[\"@type\"] == \"CompositeQuery\":\n",
    "            return execute_composite_query(forge, rest[\"head\"], new_parameters, rest[\"rest\"])\n",
    "        else:\n",
    "            return execute_query(forge, rest, new_parameters)\n",
    "        \n",
    "\n",
    "def execute_search_query(forge, rule, parameters):\n",
    "    return execute_composite_query(forge, rule[\"searchQuery\"], parameters)"
   ]
  },
  {
   "cell_type": "markdown",
   "id": "bdb4c361",
   "metadata": {},
   "source": [
    "# Principle: PC cells in neocortex have the same E-behaviour\n",
    "\n",
    "## Rule A (simple query)\n",
    "\n",
    "Input parameters: brain_region, MType\n",
    "If (premise)\n",
    "   (brain region)-[is_part_of]->({id: isocortex})\n",
    "   (mtype)-[IS_SUBCLASS_OF]->({id: PC})\n",
    "\n",
    "Return X s.t.\n",
    "- (X)-[IS_A]->(Trace)\n",
    "- (X)-[subject/species]->({id: Mouse})\n",
    "- (X)-[brainLocation/brainRegion]->(brain_region)-[is_part_of]->({id: isocortex})\n",
    "- (X)-[brainLocation/layer]->(brain layer {id: L5})\n",
    "- (X)-[hasMType]->(MType)-[IS_SUBCLASS_OF]->({id: PC})"
   ]
  },
  {
   "cell_type": "code",
   "execution_count": 66,
   "id": "280cf1c1",
   "metadata": {},
   "outputs": [],
   "source": [
    "premise = [\n",
    "   {\n",
    "        \"@type\": \"SPARQLQuery\",\n",
    "        \"hasParameter\": [\n",
    "            {\n",
    "                \"name\": \"brainRegion\",\n",
    "                \"description\": \"URI of the query brain region\",\n",
    "                \"type\": \"sparql_uri\"\n",
    "            }\n",
    "        ],\n",
    "        \"hasBody\": \"\"\"\n",
    "            SELECT ?x\n",
    "            WHERE {\n",
    "                <$brainRegion> <http://schema.org/isPartOf>* <http://api.brain-map.org/api/v2/data/Structure/315> .\n",
    "            }\n",
    "        \"\"\"\n",
    "    },\n",
    "    {\n",
    "        \"@type\": \"SPARQLQuery\",\n",
    "        \"hasParameter\": [\n",
    "            {\n",
    "                \"name\": \"MType\",\n",
    "                \"description\": \"URI of the query MType\",\n",
    "                \"type\": \"sparql_uri\"\n",
    "            }\n",
    "        ],\n",
    "        \"hasBody\": \"\"\"\n",
    "            SELECT ?x\n",
    "            WHERE {\n",
    "                <$MType> rdfs:subClassOf* <https://neuroshapes.org/PyramidalNeuron> .\n",
    "            }\n",
    "        \"\"\"\n",
    "    },\n",
    "    {\n",
    "        \"@type\": \"ForgeSearchQuery\",\n",
    "        \"hasParameter\": [\n",
    "            {\n",
    "                \"name\": \"brainRegion\",\n",
    "                \"description\": \"URI of the query brain region\",\n",
    "                \"type\": \"sparql_uri\"\n",
    "            }\n",
    "        ],\n",
    "        \"hasBody\": {\n",
    "            \"targetParameter\": \"brainRegion\",\n",
    "            \"targetPath\": \"id\",\n",
    "            \"pattern\": {\n",
    "                \"isPartOf\": \"http://api.brain-map.org/api/v2/data/Structure/315\"\n",
    "            }\n",
    "        }\n",
    "    },\n",
    "]"
   ]
  },
  {
   "cell_type": "code",
   "execution_count": 67,
   "id": "72c72840",
   "metadata": {},
   "outputs": [],
   "source": [
    "search_query_A = {\n",
    "    \"@type\": \"SPARQLQuery\",\n",
    "    \"hasBody\": \"\"\"\n",
    "        SELECT ?resource\n",
    "        WHERE {\n",
    "          ?resource a <https://neuroshapes.org/Trace> ;\n",
    "                      <https://neuroshapes.org/annotation>/<https://neuroshapes.org/hasBody> ?mtype ;\n",
    "                      <https://bluebrain.github.io/nexus/vocabulary/deprecated> false ;\n",
    "                      <https://neuroshapes.org/brainLocation> ?location .\n",
    "          ?mtype rdfs:subClassOf* <https://neuroshapes.org/PyramidalNeuron> .\n",
    "          ?location <https://neuroshapes.org/brainRegion> ?brainRegion .\n",
    "          ?brainRegion <http://schema.org/isPartOf>* <http://api.brain-map.org/api/v2/data/Structure/315> .\n",
    "        }\n",
    "    \"\"\"\n",
    "}"
   ]
  },
  {
   "cell_type": "code",
   "execution_count": 71,
   "id": "0cf997d7",
   "metadata": {},
   "outputs": [],
   "source": [
    "rule_A = {\n",
    "    \"@type\": \"GeneralizationRule\",\n",
    "    \"name\": \"Trace generalization for cortical PCs\",\n",
    "    \"description\": \"Collect traces belonging to PCs from other cortical regions\",\n",
    "    \"premise\": premise,\n",
    "    \"searchQuery\": search_query_A\n",
    "}"
   ]
  },
  {
   "cell_type": "code",
   "execution_count": 69,
   "id": "30a852f9",
   "metadata": {},
   "outputs": [
    {
     "data": {
      "text/plain": [
       "True"
      ]
     },
     "execution_count": 69,
     "metadata": {},
     "output_type": "execute_result"
    }
   ],
   "source": [
    "check_premise(forge, rule_A, input_filters)"
   ]
  },
  {
   "cell_type": "code",
   "execution_count": 70,
   "id": "1dea8f35",
   "metadata": {},
   "outputs": [
    {
     "data": {
      "text/plain": [
       "[{'resource': 'https://bbp.epfl.ch/neurosciencegraph/data/ff0e496d-b8a0-4c0e-8487-545563495dc0'},\n",
       " {'resource': 'https://bbp.epfl.ch/neurosciencegraph/data/2b108ccf-4ad2-4495-8490-17b2fde656fa'},\n",
       " {'resource': 'https://bbp.epfl.ch/neurosciencegraph/data/4fba4ab3-189c-4ff4-96bf-6904c1b8912b'}]"
      ]
     },
     "execution_count": 70,
     "metadata": {},
     "output_type": "execute_result"
    }
   ],
   "source": [
    "execute_search_query(forge, rule_A, input_filters)"
   ]
  },
  {
   "cell_type": "markdown",
   "id": "d7669dcf",
   "metadata": {},
   "source": [
    "## Rule B (query + similarity search)"
   ]
  },
  {
   "cell_type": "markdown",
   "id": "149ae1c1",
   "metadata": {},
   "source": [
    "Input parameters: brain_region, MType, similarityModelId, topNeighbors\n",
    "\n",
    "Find closest MType and then return traces/morphs with the closest MType that is also a subclass of pyramidal neuron and that are located in a cortical region.\n",
    "\n",
    "If (premise)\n",
    "   (brain region)-[is_part_of]->({id: isocortex})\n",
    "   (mtype)-[IS_SUBCLASS_OF]->({id: PC})\n",
    "\n",
    "\n",
    "Return Y s.t.\n",
    "- (Y)-[hasMType]->(MTypeY)\n",
    "- Select top K MTypeY by sim_{similarityModel}(MType, MTypeY) \n",
    "\n",
    "(or for traces)\n",
    "Return Y s.t.\n",
    "- (Y)-[hasEType]->(ETypeY)\n",
    "- Select either top K ETypeY by sim_{similarityModel}(ETypeX, ETypeY) or s.t sim_{similarityModel}(ETypeX, ETypeY) > similarityThreshold"
   ]
  },
  {
   "cell_type": "code",
   "execution_count": 61,
   "id": "32671f52",
   "metadata": {},
   "outputs": [
    {
     "name": "stdout",
     "output_type": "stream",
     "text": [
      "https://staging.nexus.ocp.bbp.epfl.ch/v1/views/dke/inference-test\n",
      "('https://staging.nexus.ocp.bbp.epfl.ch/v1/views/dke/inference-test', 'https%3A%2F%2Fbbp.epfl.ch%2Fneurosciencegraph%2Fdata%2Fmtype-embedding-view', '_search')\n"
     ]
    }
   ],
   "source": [
    "set_elastic_view(forge, \"https://bbp.epfl.ch/neurosciencegraph/data/mtype-embedding-view\")"
   ]
  },
  {
   "cell_type": "markdown",
   "id": "bdb99f91",
   "metadata": {},
   "source": [
    "__Notes__:\n",
    "\n",
    "- Similarity-based query is not allowed in premises\n",
    "- You can use results from the previous query or input params in the next query"
   ]
  },
  {
   "cell_type": "markdown",
   "id": "5aafbcd2",
   "metadata": {},
   "source": [
    "TODO: make rule know which view to use\n",
    "- \"configuration\": \"https://bbp.epfl.ch/neurosciencegraph/data/ontology-class-recommender-config\",\n",
    "- \"similarityModels\": \"https://bbp.epfl.ch/neurosciencegraph/data/MTypeEmbeddingModel\",          "
   ]
  },
  {
   "cell_type": "code",
   "execution_count": 65,
   "id": "7388bc8b",
   "metadata": {},
   "outputs": [],
   "source": [
    "search_query_B =  {\n",
    "    \"@type\": \"CompositeQuery\",\n",
    "    \"head\": {\n",
    "        # Query type\n",
    "        \"@type\": \"SPARQLQuery\",\n",
    "        # Query body\n",
    "        \"hasBody\": \"\"\"\n",
    "            SELECT ?mtype\n",
    "            WHERE {\n",
    "                ?mtype rdfs:subClassOf* <https://neuroshapes.org/PyramidalNeuron> .\n",
    "                ?trace <https://neuroshapes.org/annotation>/<https://neuroshapes.org/hasBody> ?mtype.\n",
    "            }\n",
    "        \"\"\",\n",
    "        # Mapping of query results to the parameters (passed to the next query)\n",
    "        \"resultParameterMapping\": [\n",
    "            {\n",
    "                \"path\": \"mtype\",\n",
    "                \"parameterName\": \"acceptableResults\"\n",
    "            }\n",
    "        ]\n",
    "    },\n",
    "    \"rest\": { \n",
    "        \"@type\": \"CompositeQuery\",\n",
    "        \"head\": {\n",
    "            # Query type\n",
    "            \"@type\": \"SimilarityQuery\",\n",
    "            # Number of top results to return\n",
    "            \"k\": 1,\n",
    "            # Specification of input parameters\n",
    "            \"hasParameter\": [\n",
    "                {\n",
    "                    \"name\": \"MType\",\n",
    "                    \"description\": \"URI of the query MType\",\n",
    "                    \"type\": \"str\"\n",
    "                },\n",
    "                {\n",
    "                    \"name\": \"acceptableResults\",\n",
    "                    \"description\": \"List of URI's of acceptable MTypes (all PCs)\",\n",
    "                    \"type\": \"list\"\n",
    "                }\n",
    "            ],\n",
    "            # Query to retrieve embeddings\n",
    "            \"embeddingQuery\": \"\"\"\n",
    "                {\n",
    "                  \"from\": 0,\n",
    "                  \"size\": 1,\n",
    "                  \"query\": {\n",
    "                    \"bool\": {\n",
    "                      \"must\": [\n",
    "                        {\n",
    "                          \"nested\": {\n",
    "                            \"path\": \"derivation.entity\",\n",
    "                            \"query\": {\n",
    "                              \"terms\": {\n",
    "                                \"derivation.entity.@id\": [$MType]\n",
    "                              }\n",
    "                            }\n",
    "                          }\n",
    "                        }\n",
    "                      ]\n",
    "                    }\n",
    "                  }\n",
    "                }\n",
    "            \"\"\", \n",
    "            # Filter to apply on the similarity search results\n",
    "            \"resultFilter\": \"\"\"\n",
    "                \"must\": {\n",
    "                    \"nested\": {\n",
    "                        \"path\": \"derivation.entity\",\n",
    "                        \"query\": {\n",
    "                            \"terms\": { \"derivation.entity.@id\": [$acceptableResults] }\n",
    "                        }\n",
    "                    }\n",
    "                }\n",
    "            \"\"\",\n",
    "            # Mapping of query results to the parameters (passed to the next query)\n",
    "            \"resultParameterMapping\": [{\n",
    "                \"path\": \"derivation.entity.@id\",\n",
    "                \"parameterName\": \"closestMType\"\n",
    "            }]\n",
    "        },\n",
    "        \"rest\": {\n",
    "            # Query type\n",
    "            \"@type\": \"SPARQLQuery\",\n",
    "            # Specification of input parameters\n",
    "            \"hasParameter\": [\n",
    "                {\n",
    "                    \"name\": \"closestMType\",\n",
    "                    \"description\": \"URI of the closest acceptable MType\",\n",
    "                    \"type\": \"sparql_uri\"\n",
    "                }\n",
    "            ],\n",
    "            # Query body\n",
    "            \"hasBody\": \"\"\"\n",
    "                SELECT ?id\n",
    "                WHERE {\n",
    "                    ?id a <https://neuroshapes.org/Trace> ;\n",
    "                        <https://bluebrain.github.io/nexus/vocabulary/deprecated> false ;\n",
    "                        <https://neuroshapes.org/annotation> ?annotation.\n",
    "                    ?annotation <https://neuroshapes.org/hasBody> <$closestMType>.\n",
    "                }\n",
    "            \"\"\"\n",
    "        }\n",
    "    }\n",
    "}"
   ]
  },
  {
   "cell_type": "code",
   "execution_count": 72,
   "id": "cc14bd22",
   "metadata": {},
   "outputs": [],
   "source": [
    "rule_B = {\n",
    "    \"@type\": \"GeneralizationRule\",\n",
    "    \"name\": \"MType similarity based trace generalization for cortical PCs\",\n",
    "    \"description\": \"Collect traces belonging to the closest (PC) MType from other cortical regions\",\n",
    "    \"premise\": premise,\n",
    "    \"searchQuery\": search_query_B\n",
    "}"
   ]
  },
  {
   "cell_type": "code",
   "execution_count": 76,
   "id": "73b454c9",
   "metadata": {},
   "outputs": [
    {
     "data": {
      "text/plain": [
       "True"
      ]
     },
     "execution_count": 76,
     "metadata": {},
     "output_type": "execute_result"
    }
   ],
   "source": [
    "check_premise(forge, rule_B, input_filters)"
   ]
  },
  {
   "cell_type": "code",
   "execution_count": 77,
   "id": "93c4d233",
   "metadata": {
    "scrolled": true
   },
   "outputs": [
    {
     "data": {
      "text/plain": [
       "[{'id': 'https://bbp.epfl.ch/neurosciencegraph/data/ff0e496d-b8a0-4c0e-8487-545563495dc0'}]"
      ]
     },
     "execution_count": 77,
     "metadata": {},
     "output_type": "execute_result"
    }
   ],
   "source": [
    "execute_search_query(forge, rule_B, input_filters)"
   ]
  }
 ],
 "metadata": {
  "kernelspec": {
   "display_name": "bg",
   "language": "python",
   "name": "bg"
  },
  "language_info": {
   "codemirror_mode": {
    "name": "ipython",
    "version": 3
   },
   "file_extension": ".py",
   "mimetype": "text/x-python",
   "name": "python",
   "nbconvert_exporter": "python",
   "pygments_lexer": "ipython3",
   "version": "3.7.10"
  }
 },
 "nbformat": 4,
 "nbformat_minor": 5
}
