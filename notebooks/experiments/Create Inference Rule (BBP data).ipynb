{
 "cells": [
  {
   "cell_type": "code",
   "execution_count": null,
   "metadata": {},
   "outputs": [],
   "source": [
    "%load_ext autoreload\n",
    "%autoreload 2"
   ]
  },
  {
   "cell_type": "code",
   "execution_count": null,
   "metadata": {},
   "outputs": [],
   "source": [
    "import getpass\n",
    "import json\n",
    "import uuid\n",
    "\n",
    "from kgforge.core import KnowledgeGraphForge\n",
    "\n",
    "from inference_tools.utils import fetch_rules, check_premises, apply_rule, get_rule_parameters\n",
    "from inference_tools.query.elastic_search import set_elastic_view"
   ]
  },
  {
   "cell_type": "code",
   "execution_count": null,
   "metadata": {},
   "outputs": [],
   "source": [
    "ENDPOINT = \"https://bbp.epfl.ch/nexus/v1\""
   ]
  },
  {
   "cell_type": "code",
   "execution_count": null,
   "metadata": {},
   "outputs": [],
   "source": [
    "TOKEN = getpass.getpass()"
   ]
  },
  {
   "cell_type": "code",
   "execution_count": null,
   "metadata": {},
   "outputs": [],
   "source": [
    "# This could be replaced by any util kg-inference-api implements to handle user forge sessions\n",
    "FORGE_SESSIONS = {}\n",
    "def allocate_forge_session(org, project):\n",
    "    if (org, project) not in FORGE_SESSIONS:\n",
    "        session = KnowledgeGraphForge(\n",
    "            \"../../configs/new-forge-config.yaml\",\n",
    "            endpoint=ENDPOINT,\n",
    "            token=TOKEN, \n",
    "            bucket=f\"{org}/{project}\")\n",
    "        FORGE_SESSIONS[(org, project)] = session\n",
    "    return FORGE_SESSIONS[(org, project)]"
   ]
  },
  {
   "cell_type": "code",
   "execution_count": null,
   "metadata": {},
   "outputs": [],
   "source": [
    "rule_forge = allocate_forge_session(\"bbp\", \"inference-rules\")"
   ]
  },
  {
   "cell_type": "markdown",
   "metadata": {},
   "source": [
    "__NOTE__ we generate IDs for rules explicitly, so that the view that serves the rules can index the id's as well.\n",
    "\n",
    "See the view `https://bbp.epfl.ch/neurosciencegraph/data/rule-view` in `bbp/inference-rules`."
   ]
  },
  {
   "cell_type": "markdown",
   "metadata": {},
   "source": [
    "# SEU Morph recommendation rules"
   ]
  },
  {
   "cell_type": "markdown",
   "metadata": {},
   "source": [
    "## 1. Shape-based recommendation (neurite features + TMD-based representation)"
   ]
  },
  {
   "cell_type": "markdown",
   "metadata": {},
   "source": [
    "Register a new rule"
   ]
  },
  {
   "cell_type": "code",
   "execution_count": null,
   "metadata": {},
   "outputs": [],
   "source": [
    "rule_id = f\"https://bbp.epfl.ch/neurosciencegraph/data/{uuid.uuid4()}\""
   ]
  },
  {
   "cell_type": "code",
   "execution_count": null,
   "metadata": {},
   "outputs": [],
   "source": [
    "shape_seu_rule = {\n",
    "    \"id\": rule_id,\n",
    "    \"type\": \"DataGeneralizationRule\",\n",
    "    \"_schemaProject\": \"https://bbp.epfl.ch/nexus/v1/projects/bbp/inference-rules\",\n",
    "    \"description\": \"Get closest morphologies according to neurite features and TMD-based vectorization of persistence diagrams\",\n",
    "    \"name\": \"Shape-based morphology recommendation\",\n",
    "    \"searchQuery\": {\n",
    "        \"type\": \"SimilarityQuery\",\n",
    "        \"hasParameter\": [\n",
    "            {\n",
    "                \"type\": \"uri\",\n",
    "                \"description\": \"URI of the similarity search target entity.\",\n",
    "                \"name\": \"TargetResourceParameter\"\n",
    "            },\n",
    "            {\n",
    "                \"type\": \"list\",\n",
    "                \"description\": \"List of URIs of similarity models to ignore.\",\n",
    "                \"name\": \"IgnoreModelsParameter\",\n",
    "                \"optional\": True\n",
    "            }\n",
    "        ],\n",
    "        \"k\": 20,\n",
    "        \"queryConfiguration\": [\n",
    "            {\n",
    "                \"boosted\": True,\n",
    "                \"boostingView\": {\n",
    "                    \"id\": \"https://bbp.epfl.ch/neurosciencegraph/data/2ec2a253-30a7-4e24-b0fd-99436f4c2945\",\n",
    "                    \"type\": \"ElasticSearchView\"\n",
    "                },\n",
    "                \"description\": \"Neurite feature-based embedding\",\n",
    "                \"embeddingModel\": {\n",
    "                    \"id\": \"https://bbp.epfl.ch/nexus/v1/resources/dke/embedding-pipelines/_/d0c21fd5-cb9c-445c-b0a4-94847ba61f5a\",\n",
    "                    \"type\": \"EmbeddingModel\",\n",
    "                    \"hasSelector\": {\n",
    "                        \"type\": \"FragmentSelector\",\n",
    "                        \"conformsTo\": \"https://bluebrainnexus.io/docs/delta/api/resources-api.html#fetch\",\n",
    "                        \"value\": \"?rev=9\"\n",
    "                    },\n",
    "                    \"org\": \"dke\",\n",
    "                    \"project\": \"embedding-pipelines\"\n",
    "                },\n",
    "                \"org\": \"bbp-external\",\n",
    "                \"project\": \"seu\",\n",
    "                \"similarityView\": {\n",
    "                    \"id\": \"https://bbp.epfl.ch/neurosciencegraph/data/21e480a8-f955-4ff1-a98a-7a5fd3200a54\",\n",
    "                    \"type\": \"ElasticSearchView\"\n",
    "                },\n",
    "                \"statisticsView\": {\n",
    "                    \"id\": \"https://bbp.epfl.ch/neurosciencegraph/data/aacfccfc-74f6-45c2-ae36-f505d93d117a\",\n",
    "                    \"type\": \"ElasticSearchView\"\n",
    "                }\n",
    "            },\n",
    "            {\n",
    "                \"boosted\": True,\n",
    "                \"boostingView\": {\n",
    "                    \"id\": \"https://bbp.epfl.ch/neurosciencegraph/data/20c96b9f-ec8e-4596-876b-7878f869f1e7\",\n",
    "                    \"type\": \"ElasticSearchView\"\n",
    "                },\n",
    "                \"description\": \"Unscaled TMD-based embedding\",\n",
    "                \"embeddingModel\": {\n",
    "                    \"id\": \"https://bbp.epfl.ch/nexus/v1/resources/dke/embedding-pipelines/_/43965be4-72f9-4901-9a95-d9ca13da8fb4\",\n",
    "                    \"type\": \"EmbeddingModel\",\n",
    "                    \"hasSelector\": {\n",
    "                        \"type\": \"FragmentSelector\",\n",
    "                        \"conformsTo\": \"https://bluebrainnexus.io/docs/delta/api/resources-api.html#fetch\",\n",
    "                        \"value\": \"?rev=7\"\n",
    "                    },\n",
    "                    \"org\": \"dke\",\n",
    "                    \"project\": \"embedding-pipelines\"\n",
    "                },\n",
    "                \"org\": \"bbp-external\",\n",
    "                \"project\": \"seu\",\n",
    "                \"similarityView\": {\n",
    "                    \"id\": \"https://bbp.epfl.ch/neurosciencegraph/data/12e3c699-135c-4c69-8ee7-f2b13f1376f9\",\n",
    "                    \"type\": \"ElasticSearchView\"\n",
    "                },\n",
    "                \"statisticsView\": {\n",
    "                    \"id\": \"https://bbp.epfl.ch/neurosciencegraph/data/47a4edd9-7c96-4247-842f-50b8393a4aff\",\n",
    "                    \"type\": \"ElasticSearchView\"\n",
    "                }\n",
    "            }\n",
    "        ],\n",
    "        \"searchTargetParameter\": \"TargetResourceParameter\"\n",
    "    },\n",
    "    \"targetResourceType\": \"NeuronMorphology\"\n",
    "}"
   ]
  },
  {
   "cell_type": "code",
   "execution_count": null,
   "metadata": {},
   "outputs": [],
   "source": [
    "# rule_forge.register(rule_forge.from_json(shape_seu_rule))"
   ]
  },
  {
   "cell_type": "markdown",
   "metadata": {},
   "source": [
    "Update the existing rule resource"
   ]
  },
  {
   "cell_type": "code",
   "execution_count": null,
   "metadata": {},
   "outputs": [],
   "source": [
    "rule_id = \"https://bbp.epfl.ch/neurosciencegraph/data/ac5885c8-bb70-4336-ae7f-3e1425356fe8\""
   ]
  },
  {
   "cell_type": "code",
   "execution_count": null,
   "metadata": {},
   "outputs": [],
   "source": [
    "shape_seu_rule = rule_forge.retrieve(rule_id)\n",
    "print(shape_seu_rule)"
   ]
  },
  {
   "cell_type": "markdown",
   "metadata": {},
   "source": [
    "Make your updates to the rule"
   ]
  },
  {
   "cell_type": "code",
   "execution_count": null,
   "metadata": {},
   "outputs": [],
   "source": [
    "#"
   ]
  },
  {
   "cell_type": "code",
   "execution_count": null,
   "metadata": {},
   "outputs": [],
   "source": [
    "rule_forge.update(rule_forge.from_json(shape_seu_rule))"
   ]
  },
  {
   "cell_type": "markdown",
   "metadata": {},
   "source": [
    "## 2. Location-based recommendation (brain region embedding + coordinates + axon/dendrite coprojections)"
   ]
  },
  {
   "cell_type": "markdown",
   "metadata": {},
   "source": [
    "Register a new rule"
   ]
  },
  {
   "cell_type": "code",
   "execution_count": null,
   "metadata": {},
   "outputs": [],
   "source": [
    "rule_id = f\"https://bbp.epfl.ch/neurosciencegraph/data/{uuid.uuid4()}\""
   ]
  },
  {
   "cell_type": "code",
   "execution_count": null,
   "metadata": {},
   "outputs": [],
   "source": [
    "loc_seu_rule = {\n",
    "    \"id\": rule_id,\n",
    "    \"type\": \"DataGeneralizationRule\",\n",
    "    \"_schemaProject\": \"https://bbp.epfl.ch/nexus/v1/projects/bbp/inference-rules\",\n",
    "    \"description\": \"Get closest morphologies according to their location given by: coordinates, brain region embedding (ontology-based), axon/dendrite co-projection.\",\n",
    "    \"name\": \"Location-based morphology recommendation\",\n",
    "    \"searchQuery\": {\n",
    "        \"type\": \"SimilarityQuery\",\n",
    "        \"hasParameter\": [\n",
    "            {\n",
    "                \"type\": \"uri\",\n",
    "                \"description\": \"URI of the similarity search target entity.\",\n",
    "                \"name\": \"TargetResourceParameter\"\n",
    "            },\n",
    "            {\n",
    "                \"type\": \"list\",\n",
    "                \"description\": \"List of URIs of similarity models to ignore.\",\n",
    "                \"name\": \"IgnoreModelsParameter\",\n",
    "                \"optional\": True\n",
    "            }\n",
    "        ],\n",
    "        \"k\": 20,\n",
    "        \"queryConfiguration\": [\n",
    "            {\n",
    "                \"boosted\": True,\n",
    "                \"boostingView\": {\n",
    "                    \"id\": \"https://bbp.epfl.ch/neurosciencegraph/data/0c65f539-042e-415f-b66b-a9f88b8a270d\",\n",
    "                    \"type\": \"ElasticSearchView\"\n",
    "                },\n",
    "                \"description\": \"Coordinates-based embedding\",\n",
    "                \"embeddingModel\": {\n",
    "                    \"id\": \"https://bbp.epfl.ch/nexus/v1/resources/dke/embedding-pipelines/_/608fab85-0cc9-4ff9-a4bd-4249589b5889\",\n",
    "                    \"type\": \"EmbeddingModel\",\n",
    "                    \"hasSelector\": {\n",
    "                        \"type\": \"FragmentSelector\",\n",
    "                        \"conformsTo\": \"https://bluebrainnexus.io/docs/delta/api/resources-api.html#fetch\",\n",
    "                        \"value\": \"?rev=8\"\n",
    "                    },\n",
    "                    \"org\": \"dke\",\n",
    "                    \"project\": \"embedding-pipelines\"\n",
    "                },\n",
    "                \"org\": \"bbp-external\",\n",
    "                \"project\": \"seu\",\n",
    "                \"similarityView\": {\n",
    "                    \"id\": \"https://bbp.epfl.ch/neurosciencegraph/data/269940bf-a7e1-44bf-a209-c83c650f2a3c\",\n",
    "                    \"type\": \"ElasticSearchView\"\n",
    "                },\n",
    "                \"statisticsView\": {\n",
    "                    \"id\": \"https://bbp.epfl.ch/neurosciencegraph/data/bacd3821-9121-4190-84a7-e7fd7773479c\",\n",
    "                    \"type\": \"ElasticSearchView\"\n",
    "                }\n",
    "            },\n",
    "            {\n",
    "                \"boosted\": True,\n",
    "                \"boostingView\": {\n",
    "                    \"id\": \"https://bbp.epfl.ch/neurosciencegraph/data/4f37c088-34ea-47d3-b0bd-93994cdae8d2\",\n",
    "                    \"type\": \"ElasticSearchView\"\n",
    "                },\n",
    "                \"description\": \"Brain region ontology-based embedding\",\n",
    "                \"embeddingModel\": {\n",
    "                    \"id\": \"https://bbp.epfl.ch/nexus/v1/resources/dke/embedding-pipelines/_/1c4fcd2e-000f-437b-b65b-844ee211105a\",\n",
    "                    \"type\": \"EmbeddingModel\",\n",
    "                    \"hasSelector\": {\n",
    "                        \"type\": \"FragmentSelector\",\n",
    "                        \"conformsTo\": \"https://bluebrainnexus.io/docs/delta/api/resources-api.html#fetch\",\n",
    "                        \"value\": \"?rev=5\"\n",
    "                    },\n",
    "                    \"org\": \"dke\",\n",
    "                    \"project\": \"embedding-pipelines\"\n",
    "                },\n",
    "                \"org\": \"bbp-external\",\n",
    "                \"project\": \"seu\",\n",
    "                \"similarityView\": {\n",
    "                    \"id\": \"https://bbp.epfl.ch/neurosciencegraph/data/2c43c500-6ba2-4d1f-9a96-e80e480816c7\",\n",
    "                    \"type\": \"ElasticSearchView\"\n",
    "                },\n",
    "                \"statisticsView\": {\n",
    "                    \"id\": \"https://bbp.epfl.ch/neurosciencegraph/data/55bd1cec-835d-4481-833d-feb526310666\",\n",
    "                    \"type\": \"ElasticSearchView\"\n",
    "                }\n",
    "            },\n",
    "            {\n",
    "                \"boosted\": True,\n",
    "                \"boostingView\": {\n",
    "                    \"id\": \"https://bbp.epfl.ch/neurosciencegraph/data/1e94a9c2-137c-433b-9559-1afd35eec98c\",\n",
    "                    \"type\": \"ElasticSearchView\"\n",
    "                },\n",
    "                \"description\": \"Axon co-projection-based embedding\",\n",
    "                \"embeddingModel\": {\n",
    "                    \"id\": \"https://bbp.epfl.ch/nexus/v1/resources/dke/embedding-pipelines/_/84519407-ad30-4d31-877e-1d6560325393\",\n",
    "                    \"type\": \"EmbeddingModel\",\n",
    "                    \"hasSelector\": {\n",
    "                        \"type\": \"FragmentSelector\",\n",
    "                        \"conformsTo\": \"https://bluebrainnexus.io/docs/delta/api/resources-api.html#fetch\",\n",
    "                        \"value\": \"?rev=10\"\n",
    "                    },\n",
    "                    \"org\": \"dke\",\n",
    "                    \"project\": \"embedding-pipelines\"\n",
    "                },\n",
    "                \"org\": \"bbp-external\",\n",
    "                \"project\": \"seu\",\n",
    "                \"similarityView\": {\n",
    "                    \"id\": \"https://bbp.epfl.ch/neurosciencegraph/data/a2cf748b-2f8f-4f6f-ad3f-0089e54e81a5\",\n",
    "                    \"type\": \"ElasticSearchView\"\n",
    "                },\n",
    "                \"statisticsView\": {\n",
    "                    \"id\": \"https://bbp.epfl.ch/neurosciencegraph/data/9a98934f-ad05-4986-8b82-99352374da23\",\n",
    "                    \"type\": \"ElasticSearchView\"\n",
    "                }\n",
    "            },\n",
    "            {\n",
    "                \"boosted\": True,\n",
    "                \"boostingView\": {\n",
    "                    \"id\": \"https://bbp.epfl.ch/neurosciencegraph/data/800a6f6a-ed84-4721-b795-73bc6d43108b\",\n",
    "                    \"type\": \"ElasticSearchView\"\n",
    "                },\n",
    "                \"description\": \"Dendrite co-projection-based embedding\",\n",
    "                \"embeddingModel\": {\n",
    "                    \"id\": \"https://bbp.epfl.ch/nexus/v1/resources/dke/embedding-pipelines/_/9fe6873b-ef6a-41b5-854a-382bc1be9fff\",\n",
    "                    \"type\": \"EmbeddingModel\",\n",
    "                    \"hasSelector\": {\n",
    "                        \"type\": \"FragmentSelector\",\n",
    "                        \"conformsTo\": \"https://bluebrainnexus.io/docs/delta/api/resources-api.html#fetch\",\n",
    "                        \"value\": \"?rev=10\"\n",
    "                    },\n",
    "                    \"org\": \"dke\",\n",
    "                    \"project\": \"embedding-pipelines\"\n",
    "                },\n",
    "                \"org\": \"bbp-external\",\n",
    "                \"project\": \"seu\",\n",
    "                \"similarityView\": {\n",
    "                    \"id\": \"https://bbp.epfl.ch/neurosciencegraph/data/5cc7619e-d3ea-475b-a0f4-63cec28d4f9b\",\n",
    "                    \"type\": \"ElasticSearchView\"\n",
    "                },\n",
    "                \"statisticsView\": {\n",
    "                    \"id\": \"https://bbp.epfl.ch/neurosciencegraph/data/e9a024bc-1fff-4d51-877c-26b9b6b1fd79\",\n",
    "                    \"type\": \"ElasticSearchView\"\n",
    "                }\n",
    "            }\n",
    "        ],\n",
    "        \"searchTargetParameter\": \"TargetResourceParameter\"\n",
    "    },\n",
    "    \"targetResourceType\": \"NeuronMorphology\"\n",
    "}"
   ]
  },
  {
   "cell_type": "code",
   "execution_count": null,
   "metadata": {},
   "outputs": [],
   "source": [
    "# rule_forge.register(rule_forge.from_json(loc_seu_rule))"
   ]
  },
  {
   "cell_type": "markdown",
   "metadata": {},
   "source": [
    "Update the existing rule resource"
   ]
  },
  {
   "cell_type": "code",
   "execution_count": null,
   "metadata": {},
   "outputs": [],
   "source": [
    "rule_id = \"https://bbp.epfl.ch/neurosciencegraph/data/70e8e757-1834-420c-bcc1-37ea850ddfe3\""
   ]
  },
  {
   "cell_type": "code",
   "execution_count": null,
   "metadata": {},
   "outputs": [],
   "source": [
    "loc_seu_rule = rule_forge.retrieve(rule_id)\n",
    "print(loc_seu_rule)"
   ]
  },
  {
   "cell_type": "markdown",
   "metadata": {},
   "source": [
    "Make your updates to the rule"
   ]
  },
  {
   "cell_type": "code",
   "execution_count": null,
   "metadata": {},
   "outputs": [],
   "source": [
    "#"
   ]
  },
  {
   "cell_type": "code",
   "execution_count": null,
   "metadata": {},
   "outputs": [],
   "source": [
    "rule_forge.update(rule_forge.from_json(loc_seu_rule))"
   ]
  },
  {
   "cell_type": "markdown",
   "metadata": {},
   "source": [
    "## 3. All-aspects recommendation"
   ]
  },
  {
   "cell_type": "markdown",
   "metadata": {},
   "source": [
    "Register a new rule"
   ]
  },
  {
   "cell_type": "code",
   "execution_count": null,
   "metadata": {},
   "outputs": [],
   "source": [
    "rule_id = f\"https://bbp.epfl.ch/neurosciencegraph/data/{uuid.uuid4()}\""
   ]
  },
  {
   "cell_type": "code",
   "execution_count": null,
   "metadata": {},
   "outputs": [],
   "source": [
    "all_seu_rule = {\n",
    "    \"id\": rule_id,\n",
    "    \"type\": \"DataGeneralizationRule\",\n",
    "    \"_schemaProject\": \"https://bbp.epfl.ch/nexus/v1/projects/bbp/inference-rules\",\n",
    "    \"description\": \"Get closest morphologies according to their location and shape\",\n",
    "    \"name\": \"All-aspect morphology recommendation\",\n",
    "    \"searchQuery\": {\n",
    "        \"type\": \"SimilarityQuery\",\n",
    "        \"hasParameter\": [\n",
    "            {\n",
    "                \"type\": \"uri\",\n",
    "                \"description\": \"URI of the similarity search target entity.\",\n",
    "                \"name\": \"TargetResourceParameter\"\n",
    "            },\n",
    "            {\n",
    "                \"type\": \"list\",\n",
    "                \"description\": \"List of URIs of similarity models to ignore.\",\n",
    "                \"name\": \"IgnoreModelsParameter\",\n",
    "                \"optional\": True\n",
    "            }\n",
    "        ],\n",
    "        \"k\": 20,\n",
    "        \"queryConfiguration\": [\n",
    "            {\n",
    "                \"boosted\": True,\n",
    "                \"boostingView\": {\n",
    "                    \"id\": \"https://bbp.epfl.ch/neurosciencegraph/data/0c65f539-042e-415f-b66b-a9f88b8a270d\",\n",
    "                    \"type\": \"ElasticSearchView\"\n",
    "                },\n",
    "                \"description\": \"Coordinates-based embedding\",\n",
    "                \"embeddingModel\": {\n",
    "                    \"id\": \"https://bbp.epfl.ch/nexus/v1/resources/dke/embedding-pipelines/_/608fab85-0cc9-4ff9-a4bd-4249589b5889\",\n",
    "                    \"type\": \"EmbeddingModel\",\n",
    "                    \"hasSelector\": {\n",
    "                        \"type\": \"FragmentSelector\",\n",
    "                        \"conformsTo\": \"https://bluebrainnexus.io/docs/delta/api/resources-api.html#fetch\",\n",
    "                        \"value\": \"?rev=8\"\n",
    "                    },\n",
    "                    \"org\": \"dke\",\n",
    "                    \"project\": \"embedding-pipelines\"\n",
    "                },\n",
    "                \"org\": \"bbp-external\",\n",
    "                \"project\": \"seu\",\n",
    "                \"similarityView\": {\n",
    "                    \"id\": \"https://bbp.epfl.ch/neurosciencegraph/data/269940bf-a7e1-44bf-a209-c83c650f2a3c\",\n",
    "                    \"type\": \"ElasticSearchView\"\n",
    "                },\n",
    "                \"statisticsView\": {\n",
    "                    \"id\": \"https://bbp.epfl.ch/neurosciencegraph/data/bacd3821-9121-4190-84a7-e7fd7773479c\",\n",
    "                    \"type\": \"ElasticSearchView\"\n",
    "                }\n",
    "            },\n",
    "            {\n",
    "                \"boosted\": True,\n",
    "                \"boostingView\": {\n",
    "                    \"id\": \"https://bbp.epfl.ch/neurosciencegraph/data/4f37c088-34ea-47d3-b0bd-93994cdae8d2\",\n",
    "                    \"type\": \"ElasticSearchView\"\n",
    "                },\n",
    "                \"description\": \"Brain region ontology-based embedding\",\n",
    "                \"embeddingModel\": {\n",
    "                    \"id\": \"https://bbp.epfl.ch/nexus/v1/resources/dke/embedding-pipelines/_/1c4fcd2e-000f-437b-b65b-844ee211105a\",\n",
    "                    \"type\": \"EmbeddingModel\",\n",
    "                    \"hasSelector\": {\n",
    "                        \"type\": \"FragmentSelector\",\n",
    "                        \"conformsTo\": \"https://bluebrainnexus.io/docs/delta/api/resources-api.html#fetch\",\n",
    "                        \"value\": \"?rev=5\"\n",
    "                    },\n",
    "                    \"org\": \"dke\",\n",
    "                    \"project\": \"embedding-pipelines\"\n",
    "                },\n",
    "                \"org\": \"bbp-external\",\n",
    "                \"project\": \"seu\",\n",
    "                \"similarityView\": {\n",
    "                    \"id\": \"https://bbp.epfl.ch/neurosciencegraph/data/2c43c500-6ba2-4d1f-9a96-e80e480816c7\",\n",
    "                    \"type\": \"ElasticSearchView\"\n",
    "                },\n",
    "                \"statisticsView\": {\n",
    "                    \"id\": \"https://bbp.epfl.ch/neurosciencegraph/data/55bd1cec-835d-4481-833d-feb526310666\",\n",
    "                    \"type\": \"ElasticSearchView\"\n",
    "                }\n",
    "            },\n",
    "            {\n",
    "                \"boosted\": True,\n",
    "                \"boostingView\": {\n",
    "                    \"id\": \"https://bbp.epfl.ch/neurosciencegraph/data/1e94a9c2-137c-433b-9559-1afd35eec98c\",\n",
    "                    \"type\": \"ElasticSearchView\"\n",
    "                },\n",
    "                \"description\": \"Axon co-projection-based embedding\",\n",
    "                \"embeddingModel\": {\n",
    "                    \"id\": \"https://bbp.epfl.ch/nexus/v1/resources/dke/embedding-pipelines/_/84519407-ad30-4d31-877e-1d6560325393\",\n",
    "                    \"type\": \"EmbeddingModel\",\n",
    "                    \"hasSelector\": {\n",
    "                        \"type\": \"FragmentSelector\",\n",
    "                        \"conformsTo\": \"https://bluebrainnexus.io/docs/delta/api/resources-api.html#fetch\",\n",
    "                        \"value\": \"?rev=10\"\n",
    "                    },\n",
    "                    \"org\": \"dke\",\n",
    "                    \"project\": \"embedding-pipelines\"\n",
    "                },\n",
    "                \"org\": \"bbp-external\",\n",
    "                \"project\": \"seu\",\n",
    "                \"similarityView\": {\n",
    "                    \"id\": \"https://bbp.epfl.ch/neurosciencegraph/data/a2cf748b-2f8f-4f6f-ad3f-0089e54e81a5\",\n",
    "                    \"type\": \"ElasticSearchView\"\n",
    "                },\n",
    "                \"statisticsView\": {\n",
    "                    \"id\": \"https://bbp.epfl.ch/neurosciencegraph/data/9a98934f-ad05-4986-8b82-99352374da23\",\n",
    "                    \"type\": \"ElasticSearchView\"\n",
    "                }\n",
    "            },\n",
    "            {\n",
    "                \"boosted\": True,\n",
    "                \"boostingView\": {\n",
    "                    \"id\": \"https://bbp.epfl.ch/neurosciencegraph/data/800a6f6a-ed84-4721-b795-73bc6d43108b\",\n",
    "                    \"type\": \"ElasticSearchView\"\n",
    "                },\n",
    "                \"description\": \"Dendrite co-projection-based embedding\",\n",
    "                \"embeddingModel\": {\n",
    "                    \"id\": \"https://bbp.epfl.ch/nexus/v1/resources/dke/embedding-pipelines/_/9fe6873b-ef6a-41b5-854a-382bc1be9fff\",\n",
    "                    \"type\": \"EmbeddingModel\",\n",
    "                    \"hasSelector\": {\n",
    "                        \"type\": \"FragmentSelector\",\n",
    "                        \"conformsTo\": \"https://bluebrainnexus.io/docs/delta/api/resources-api.html#fetch\",\n",
    "                        \"value\": \"?rev=10\"\n",
    "                    },\n",
    "                    \"org\": \"dke\",\n",
    "                    \"project\": \"embedding-pipelines\"\n",
    "                },\n",
    "                \"org\": \"bbp-external\",\n",
    "                \"project\": \"seu\",\n",
    "                \"similarityView\": {\n",
    "                    \"id\": \"https://bbp.epfl.ch/neurosciencegraph/data/5cc7619e-d3ea-475b-a0f4-63cec28d4f9b\",\n",
    "                    \"type\": \"ElasticSearchView\"\n",
    "                },\n",
    "                \"statisticsView\": {\n",
    "                    \"id\": \"https://bbp.epfl.ch/neurosciencegraph/data/e9a024bc-1fff-4d51-877c-26b9b6b1fd79\",\n",
    "                    \"type\": \"ElasticSearchView\"\n",
    "                }\n",
    "            },\n",
    "            {\n",
    "                \"boosted\": True,\n",
    "                \"boostingView\": {\n",
    "                    \"id\": \"https://bbp.epfl.ch/neurosciencegraph/data/2ec2a253-30a7-4e24-b0fd-99436f4c2945\",\n",
    "                    \"type\": \"ElasticSearchView\"\n",
    "                },\n",
    "                \"description\": \"Neurite feature-based embedding\",\n",
    "                \"embeddingModel\": {\n",
    "                    \"id\": \"https://bbp.epfl.ch/nexus/v1/resources/dke/embedding-pipelines/_/d0c21fd5-cb9c-445c-b0a4-94847ba61f5a\",\n",
    "                    \"type\": \"EmbeddingModel\",\n",
    "                    \"hasSelector\": {\n",
    "                        \"type\": \"FragmentSelector\",\n",
    "                        \"conformsTo\": \"https://bluebrainnexus.io/docs/delta/api/resources-api.html#fetch\",\n",
    "                        \"value\": \"?rev=9\"\n",
    "                    },\n",
    "                    \"org\": \"dke\",\n",
    "                    \"project\": \"embedding-pipelines\"\n",
    "                },\n",
    "                \"org\": \"bbp-external\",\n",
    "                \"project\": \"seu\",\n",
    "                \"similarityView\": {\n",
    "                    \"id\": \"https://bbp.epfl.ch/neurosciencegraph/data/21e480a8-f955-4ff1-a98a-7a5fd3200a54\",\n",
    "                    \"type\": \"ElasticSearchView\"\n",
    "                },\n",
    "                \"statisticsView\": {\n",
    "                    \"id\": \"https://bbp.epfl.ch/neurosciencegraph/data/aacfccfc-74f6-45c2-ae36-f505d93d117a\",\n",
    "                    \"type\": \"ElasticSearchView\"\n",
    "                }\n",
    "            },\n",
    "            {\n",
    "                \"boosted\": True,\n",
    "                \"boostingView\": {\n",
    "                    \"id\": \"https://bbp.epfl.ch/neurosciencegraph/data/20c96b9f-ec8e-4596-876b-7878f869f1e7\",\n",
    "                    \"type\": \"ElasticSearchView\"\n",
    "                },\n",
    "                \"description\": \"Unscaled TMD-based embedding\",\n",
    "                \"embeddingModel\": {\n",
    "                    \"id\": \"https://bbp.epfl.ch/nexus/v1/resources/dke/embedding-pipelines/_/43965be4-72f9-4901-9a95-d9ca13da8fb4\",\n",
    "                    \"type\": \"EmbeddingModel\",\n",
    "                    \"hasSelector\": {\n",
    "                        \"type\": \"FragmentSelector\",\n",
    "                        \"conformsTo\": \"https://bluebrainnexus.io/docs/delta/api/resources-api.html#fetch\",\n",
    "                        \"value\": \"?rev=7\"\n",
    "                    },\n",
    "                    \"org\": \"dke\",\n",
    "                    \"project\": \"embedding-pipelines\"\n",
    "                },\n",
    "                \"org\": \"bbp-external\",\n",
    "                \"project\": \"seu\",\n",
    "                \"similarityView\": {\n",
    "                    \"id\": \"https://bbp.epfl.ch/neurosciencegraph/data/12e3c699-135c-4c69-8ee7-f2b13f1376f9\",\n",
    "                    \"type\": \"ElasticSearchView\"\n",
    "                },\n",
    "                \"statisticsView\": {\n",
    "                    \"id\": \"https://bbp.epfl.ch/neurosciencegraph/data/47a4edd9-7c96-4247-842f-50b8393a4aff\",\n",
    "                    \"type\": \"ElasticSearchView\"\n",
    "                }\n",
    "            }\n",
    "        ],\n",
    "        \"searchTargetParameter\": \"TargetResourceParameter\"\n",
    "    },\n",
    "    \"targetResourceType\": \"NeuronMorphology\"\n",
    "}"
   ]
  },
  {
   "cell_type": "code",
   "execution_count": null,
   "metadata": {},
   "outputs": [],
   "source": [
    "# rule_forge.register(rule_forge.from_json(loc_seu_rule))"
   ]
  },
  {
   "cell_type": "markdown",
   "metadata": {},
   "source": [
    "Update the existing rule resource"
   ]
  },
  {
   "cell_type": "code",
   "execution_count": null,
   "metadata": {},
   "outputs": [],
   "source": [
    "rule_id = \"https://bbp.epfl.ch/neurosciencegraph/data/abb1949e-dc16-4719-b43b-ff88dabc4cb8\""
   ]
  },
  {
   "cell_type": "code",
   "execution_count": null,
   "metadata": {},
   "outputs": [],
   "source": [
    "all_seu_rule = rule_forge.retrieve(rule_id)\n",
    "print(all_seu_rule)"
   ]
  },
  {
   "cell_type": "markdown",
   "metadata": {},
   "source": [
    "Make your updates to the rule"
   ]
  },
  {
   "cell_type": "code",
   "execution_count": null,
   "metadata": {},
   "outputs": [],
   "source": [
    "#"
   ]
  },
  {
   "cell_type": "code",
   "execution_count": null,
   "metadata": {},
   "outputs": [],
   "source": [
    "rule_forge.update(rule_forge.from_json(all_seu_rule))"
   ]
  },
  {
   "cell_type": "markdown",
   "metadata": {},
   "source": [
    "# SSCX Trace recommendation\n",
    "\n",
    "__TODO__: currently, the premise of the following rules checks if the input region is a part of isocortex, based on the __mouse__ AllenCCFv3 hierarchy, but the rules themselves operate on the data from __rat__. This needs to be addressed."
   ]
  },
  {
   "cell_type": "markdown",
   "metadata": {},
   "source": [
    "## 1. Simulation Trace generalization for pyramidal neurons"
   ]
  },
  {
   "cell_type": "markdown",
   "metadata": {},
   "source": [
    "Register a new rule"
   ]
  },
  {
   "cell_type": "code",
   "execution_count": null,
   "metadata": {},
   "outputs": [],
   "source": [
    "rule_id = f\"https://bbp.epfl.ch/neurosciencegraph/data/{uuid.uuid4()}\""
   ]
  },
  {
   "cell_type": "code",
   "execution_count": null,
   "metadata": {},
   "outputs": [],
   "source": [
    "sim_trace_rule = {\n",
    "    \"id\": rule_id,\n",
    "    \"type\": \"DataGeneralizationRule\",\n",
    "    \"_schemaProject\": \"https://bbp.epfl.ch/nexus/v1/projects/bbp/inference-rules\",\n",
    "    \"description\": \"Collect smulation traces belonging to PCs from other cortical regions\",\n",
    "    \"name\": \"SSCX Simulation Trace generalization for cortical PCs\",\n",
    "    \"premise\": [\n",
    "        {\n",
    "            \"type\": \"SparqlPremise\",\n",
    "            \"hasBody\": \"\"\"\n",
    "                SELECT ?x\n",
    "                WHERE {\n",
    "                    <$BrainRegionQueryParameter> <http://schema.org/isPartOf>* <http://api.brain-map.org/api/v2/data/Structure/315> .\n",
    "                }\n",
    "            \"\"\",\n",
    "            \"hasParameter\": {\n",
    "                \"type\": \"uri\",\n",
    "                \"description\": \"URI of the query brain region\",\n",
    "                \"name\": \"BrainRegionQueryParameter\"\n",
    "            },\n",
    "            \"queryConfiguration\": {\n",
    "                \"org\": \"neurosciencegraph\",\n",
    "                \"project\": \"datamodels\"\n",
    "            }\n",
    "        },\n",
    "        {\n",
    "            \"type\": \"SparqlPremise\",\n",
    "            \"hasBody\": \"\"\"\n",
    "                SELECT ?x\n",
    "                WHERE {\n",
    "                    <$MTypeQueryParameter> rdfs:subClassOf* <https://neuroshapes.org/PyramidalNeuron> .\n",
    "                }\n",
    "            \"\"\",\n",
    "            \"hasParameter\": {\n",
    "                \"type\": \"uri\",\n",
    "                \"description\": \"URI of the query MType\",\n",
    "                \"name\": \"MTypeQueryParameter\"\n",
    "            },\n",
    "            \"queryConfiguration\": {\n",
    "                \"org\": \"neurosciencegraph\",\n",
    "                \"project\": \"datamodels\"\n",
    "            }\n",
    "        }\n",
    "    ],\n",
    "    \"searchQuery\": {\n",
    "        \"type\": \"QueryPipe\",\n",
    "        \"head\": {\n",
    "            \"type\": \"SparqlQuery\",\n",
    "            \"hasBody\": \"\"\"\n",
    "                SELECT ?brainRegion\n",
    "                WHERE {\n",
    "                    ?brainRegion <http://schema.org/isPartOf>* <http://api.brain-map.org/api/v2/data/Structure/315> .\n",
    "                }\n",
    "            \"\"\",\n",
    "            \"queryConfiguration\": {\n",
    "                \"org\": \"neurosciencegraph\",\n",
    "                \"project\": \"datamodels\"\n",
    "            },\n",
    "            \"resultParameterMapping\": {\n",
    "                \"parameterName\": \"acceptableBrainRegions\",\n",
    "                \"path\": \"brainRegion\"\n",
    "            }\n",
    "        },\n",
    "        \"rest\": {\n",
    "            \"type\": \"QueryPipe\",\n",
    "            \"head\": {\n",
    "                \"type\": \"SparqlQuery\",\n",
    "                \"hasBody\": \"\"\"\n",
    "                    SELECT ?mtype\n",
    "                    WHERE {\n",
    "                        ?mtype rdfs:subClassOf* <https://neuroshapes.org/PyramidalNeuron> .\n",
    "                    }\n",
    "                \"\"\",\n",
    "                \"queryConfiguration\": {\n",
    "                    \"org\": \"neurosciencegraph\",\n",
    "                    \"project\": \"datamodels\"\n",
    "                },\n",
    "                \"resultParameterMapping\": {\n",
    "                    \"parameterName\": \"acceptableMTypes\",\n",
    "                    \"path\": \"mtype\"\n",
    "                }\n",
    "            },\n",
    "            \"rest\": {\n",
    "                \"type\": \"ElasticSearchQuery\",\n",
    "                \"hasBody\": \"\"\"\n",
    "                    {\n",
    "                        \"query\": {\n",
    "                            \"bool\": {\n",
    "                              \"must\": [\n",
    "                                {\n",
    "                                  \"terms\": {\n",
    "                                    \"@type\": [\"SingleCellSimulationTrace\"]\n",
    "                                  }\n",
    "                                },\n",
    "                                {\n",
    "                                  \"term\": {\n",
    "                                      \"_deprecated\": false\n",
    "                                    }\n",
    "                                },\n",
    "                                {\n",
    "                                  \"nested\": {\n",
    "                                    \"path\": \"annotation.hasBody\",\n",
    "                                    \"query\": {\n",
    "                                      \"terms\": {\n",
    "                                          \"annotation.hasBody.@id\": [$acceptableMTypes]\n",
    "                                        }\n",
    "                                    }\n",
    "                                  }\n",
    "                                }\n",
    "                              ]\n",
    "                            }\n",
    "                        }\n",
    "                    }\n",
    "                \"\"\",\n",
    "                \"hasParameter\": [\n",
    "                    {\n",
    "                        \"type\": \"uri_list\",\n",
    "                        \"description\": \"List of acceptable mtypes\",\n",
    "                        \"name\": \"acceptableMTypes\"\n",
    "                    },\n",
    "                    {\n",
    "                        \"type\": \"uri_list\",\n",
    "                        \"description\": \"List of acceptable brain regions\",\n",
    "                        \"name\": \"acceptableBrainRegions\"\n",
    "                    }\n",
    "                ],\n",
    "                \"queryConfiguration\": {\n",
    "                    \"elasticSearchView\": {\n",
    "                        \"id\": \"https://bluebrain.github.io/nexus/vocabulary/sscx-simulation-trace-view\"\n",
    "                    },\n",
    "                    \"org\": \"public\",\n",
    "                    \"project\": \"sscx\"\n",
    "                }\n",
    "            }\n",
    "        }\n",
    "    },\n",
    "    \"targetResourceType\": \"Trace\"\n",
    "}"
   ]
  },
  {
   "cell_type": "code",
   "execution_count": null,
   "metadata": {},
   "outputs": [],
   "source": [
    "# rule_forge.register(rule_forge.from_json(sim_trace_rule))"
   ]
  },
  {
   "cell_type": "markdown",
   "metadata": {},
   "source": [
    "Update the existing rule resource."
   ]
  },
  {
   "cell_type": "code",
   "execution_count": null,
   "metadata": {},
   "outputs": [],
   "source": [
    "rule_id = \"https://bbp.epfl.ch/neurosciencegraph/data/da2c61f5-59d9-4347-9c3a-0cdf2c093547\""
   ]
  },
  {
   "cell_type": "code",
   "execution_count": null,
   "metadata": {},
   "outputs": [],
   "source": [
    "sim_trace_rule = rule_forge.retrieve(rule_id)\n",
    "print(sim_trace_rule)"
   ]
  },
  {
   "cell_type": "markdown",
   "metadata": {},
   "source": [
    "Make your updates to the rule"
   ]
  },
  {
   "cell_type": "code",
   "execution_count": null,
   "metadata": {},
   "outputs": [],
   "source": [
    "#"
   ]
  },
  {
   "cell_type": "code",
   "execution_count": null,
   "metadata": {},
   "outputs": [],
   "source": [
    "rule_forge.update(rule_forge.from_json(sim_trace_rule))"
   ]
  },
  {
   "cell_type": "markdown",
   "metadata": {},
   "source": [
    "## 2. Trace generalization for pyramidal neurons"
   ]
  },
  {
   "cell_type": "code",
   "execution_count": null,
   "metadata": {},
   "outputs": [],
   "source": [
    "rule_id = f\"https://bbp.epfl.ch/neurosciencegraph/data/{uuid.uuid4()}\""
   ]
  },
  {
   "cell_type": "code",
   "execution_count": null,
   "metadata": {},
   "outputs": [],
   "source": [
    "trace_rule = {\n",
    "    \"id\": rule_id,\n",
    "    \"type\": \"DataGeneralizationRule\",\n",
    "    \"_schemaProject\": \"https://bbp.epfl.ch/nexus/v1/projects/bbp/inference-rules\",\n",
    "    \"description\": \"Collect traces belonging to PCs from SSCX regions\",\n",
    "    \"name\": \"SSCX Trace generalization for cortical PCs\",\n",
    "    \"premise\": [\n",
    "         {\n",
    "            \"type\": \"SparqlPremise\",\n",
    "            \"hasBody\": \"\"\"\n",
    "                  SELECT ?region\n",
    "                  WHERE {\n",
    "                      ?region <http://schema.org/isPartOf>* <http://api.brain-map.org/api/v2/data/Structure/315>.\n",
    "                      VALUES (?region) {\n",
    "                          $BrainRegionQueryParameter\n",
    "                      }\n",
    "                  }\n",
    "            \"\"\",\n",
    "            \"hasParameter\": {\n",
    "                \"type\": \"sparql_value_uri_list\",\n",
    "                \"description\": \"List of URIs of the query brain regions\",\n",
    "                \"name\": \"BrainRegionQueryParameter\"\n",
    "            },\n",
    "            \"queryConfiguration\": {\n",
    "                \"org\": \"neurosciencegraph\",\n",
    "                \"project\": \"datamodels\"\n",
    "            }\n",
    "        },\n",
    "        {\n",
    "            \"type\": \"SparqlPremise\",\n",
    "            \"hasBody\": \"\"\"\n",
    "                  SELECT ?x\n",
    "                  WHERE {\n",
    "                      ?mtype rdfs:subClassOf* <https://neuroshapes.org/PyramidalNeuron> .\n",
    "                      VALUES (?mtype) {\n",
    "                          $MTypeQueryParameter\n",
    "                      }\n",
    "                  }\n",
    "            \"\"\",\n",
    "            \"hasParameter\": {\n",
    "                \"type\": \"sparql_value_uri_list\",\n",
    "                \"description\": \"URI of the query MTypes\",\n",
    "                \"name\": \"MTypeQueryParameter\"\n",
    "            },\n",
    "            \"queryConfiguration\": {\n",
    "                \"org\": \"neurosciencegraph\",\n",
    "                \"project\": \"datamodels\"\n",
    "            }\n",
    "        }\n",
    "    ],\n",
    "    \"searchQuery\": {\n",
    "        \"type\": \"QueryPipe\",\n",
    "        \"head\": {\n",
    "            \"type\": \"SparqlQuery\",\n",
    "            \"hasBody\": \"\"\"\n",
    "                SELECT ?mtype\n",
    "                WHERE {\n",
    "                    ?mtype rdfs:subClassOf* <https://neuroshapes.org/PyramidalNeuron> .\n",
    "                }\n",
    "            \"\"\",\n",
    "            \"queryConfiguration\": {\n",
    "                \"org\": \"neurosciencegraph\",\n",
    "                \"project\": \"datamodels\"\n",
    "            },\n",
    "            \"resultParameterMapping\": {\n",
    "                \"parameterName\": \"acceptableMTypes\",\n",
    "                \"path\": \"mtype\"\n",
    "            }\n",
    "        },\n",
    "        \"rest\": {\n",
    "            \"type\": \"QueryPipe\",\n",
    "            \"head\": {\n",
    "                \"type\": \"ElasticSearchQuery\",\n",
    "                \"hasBody\": \"\"\"\n",
    "                  {\n",
    "                      \"query\": {\n",
    "                        \"bool\": {\n",
    "                          \"must\": [\n",
    "                            {\n",
    "                              \"term\": {\n",
    "                                  \"_deprecated\": false\n",
    "                                }\n",
    "                            },\n",
    "                            {\n",
    "                              \"nested\": {\n",
    "                                \"path\": \"derivation.entity\",\n",
    "                                \"query\": {\n",
    "                                  \"exists\": {\n",
    "                                      \"field\": \"derivation.entity.@id\"\n",
    "                                  }\n",
    "                                }\n",
    "                              }\n",
    "                            },\n",
    "                            {\n",
    "                              \"nested\": {\n",
    "                                \"path\": \"annotation.hasBody\",\n",
    "                                \"query\": {\n",
    "                                  \"terms\": {\n",
    "                                      \"annotation.hasBody.@id\": [$acceptableMTypes]\n",
    "                                    }\n",
    "                                }\n",
    "                              }\n",
    "                            }\n",
    "                          ]\n",
    "                        }\n",
    "                      }\n",
    "                    }\n",
    "                \"\"\",\n",
    "                \"hasParameter\": {\n",
    "                    \"type\": \"uri_list\",\n",
    "                    \"description\": \"List of acceptable mtypes\",\n",
    "                    \"name\": \"acceptableMTypes\"\n",
    "                },\n",
    "                \"queryConfiguration\": {\n",
    "                    \"elasticSearchView\": {\n",
    "                        \"id\": \"https://bluebrain.github.io/nexus/vocabulary/sscx-morph-view\"\n",
    "                    },\n",
    "                    \"org\": \"public\",\n",
    "                    \"project\": \"sscx\"\n",
    "                },\n",
    "                \"resultParameterMapping\": {\n",
    "                    \"parameterName\": \"acceptablePatchedCells\",\n",
    "                    \"path\": \"derivation.entity.@id\"\n",
    "                }\n",
    "            },\n",
    "            \"rest\": {\n",
    "                \"type\": \"ElasticSearchQuery\",\n",
    "                \"hasBody\": \"\"\"\n",
    "                    {\n",
    "                      \"query\": {\n",
    "                        \"bool\": {\n",
    "                          \"must\": [\n",
    "                            {\n",
    "                              \"term\": {\n",
    "                                  \"_deprecated\": false\n",
    "                                }\n",
    "                            },\n",
    "                            {\n",
    "                              \"nested\": {\n",
    "                                \"path\": \"derivation.entity\",\n",
    "                                \"query\": {\n",
    "                                  \"terms\": {\n",
    "                                      \"derivation.entity.@id\": [$acceptablePatchedCells]\n",
    "                                    }\n",
    "                                }\n",
    "                              }\n",
    "                            }\n",
    "                          ],\n",
    "                          \"must_not\": [\n",
    "                              {\n",
    "                              \"nested\": {\n",
    "                                \"path\": \"isPartOf\",\n",
    "                                \"query\": {\n",
    "                                  \"exists\": {\n",
    "                                      \"field\": \"isPartOf.@id\"\n",
    "                                  }\n",
    "                                }\n",
    "                              }\n",
    "                            }\n",
    "                          ]\n",
    "                        }\n",
    "                      }\n",
    "                    }\n",
    "                \"\"\",\n",
    "                \"hasParameter\": {\n",
    "                    \"type\": \"uri_list\",\n",
    "                    \"description\": \"List of acceptable patched cells\",\n",
    "                    \"name\": \"acceptablePatchedCells\"\n",
    "                },\n",
    "                \"queryConfiguration\": {\n",
    "                    \"elasticSearchView\": {\n",
    "                        \"id\": \"https://bluebrain.github.io/nexus/vocabulary/sscx-trace-view\"\n",
    "                    },\n",
    "                    \"org\": \"public\",\n",
    "                    \"project\": \"sscx\"\n",
    "                }\n",
    "            }\n",
    "        }\n",
    "    },\n",
    "    \"targetResourceType\": \"Trace\"\n",
    "}"
   ]
  },
  {
   "cell_type": "code",
   "execution_count": null,
   "metadata": {},
   "outputs": [],
   "source": [
    "rule_forge.register(rule_forge.from_json(trace_rule))"
   ]
  },
  {
   "cell_type": "markdown",
   "metadata": {},
   "source": [
    "Update the existing rule resource"
   ]
  },
  {
   "cell_type": "code",
   "execution_count": null,
   "metadata": {},
   "outputs": [],
   "source": [
    "rule_id = \"https://bbp.epfl.ch/neurosciencegraph/data/g0e761f5-59d9-4347-9c3a-0cdf2c104658\""
   ]
  },
  {
   "cell_type": "code",
   "execution_count": null,
   "metadata": {},
   "outputs": [],
   "source": [
    "trace_rule = rule_forge.retrieve(rule_id)\n",
    "print(trace_rule)"
   ]
  },
  {
   "cell_type": "markdown",
   "metadata": {},
   "source": [
    "Make your updates to the rule"
   ]
  },
  {
   "cell_type": "code",
   "execution_count": null,
   "metadata": {},
   "outputs": [],
   "source": [
    "#"
   ]
  },
  {
   "cell_type": "code",
   "execution_count": null,
   "metadata": {},
   "outputs": [],
   "source": [
    "rule_forge.update(rule_forge.from_json(sim_trace_rule))"
   ]
  }
 ],
 "metadata": {
  "kernelspec": {
   "display_name": "inference",
   "language": "python",
   "name": "inference"
  },
  "language_info": {
   "codemirror_mode": {
    "name": "ipython",
    "version": 3
   },
   "file_extension": ".py",
   "mimetype": "text/x-python",
   "name": "python",
   "nbconvert_exporter": "python",
   "pygments_lexer": "ipython3",
   "version": "3.8.12"
  }
 },
 "nbformat": 4,
 "nbformat_minor": 5
}
