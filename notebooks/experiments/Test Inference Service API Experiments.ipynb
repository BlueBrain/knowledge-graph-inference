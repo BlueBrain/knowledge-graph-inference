{
 "cells": [
  {
   "cell_type": "code",
   "execution_count": 63,
   "id": "ce2dc0ac",
   "metadata": {},
   "outputs": [
    {
     "name": "stdout",
     "output_type": "stream",
     "text": [
      "The autoreload extension is already loaded. To reload it, use:\n",
      "  %reload_ext autoreload\n"
     ]
    }
   ],
   "source": [
    "%load_ext autoreload\n",
    "%autoreload 2"
   ]
  },
  {
   "cell_type": "markdown",
   "id": "c376eb05",
   "metadata": {},
   "source": [
    "## API endpoints:\n",
    "\n",
    "\n",
    "I. Endpoints for fetching rules\n",
    "\n",
    "- Give me all the rules\n",
    "- Give me rules for the datatypes X,Y,Z\n",
    "- Give me rules applicable to the datatypes X,Y,Z given input filters\n",
    "\n",
    "They return:\n",
    "- a list of rules with their meta-data: id/name/desc (premise/query ?)\n",
    "\n",
    "---------------------\n",
    "\n",
    "II. Endpoinds for applying rules\n",
    "\n",
    "- Apply rule A given input filters\n",
    "- Apply rules A,B,C given input filters (?)\n",
    "\n",
    "They return:\n",
    "- a list of result resource IDs or full payloads (ids passed to ES views by atals?)\n",
    "\n",
    "\n",
    "ISSUES TO RESOLVE:\n",
    "\n",
    "- Convention for the filters: how atlas knows which params need to be specified for different rules\n",
    "- Permission:\n",
    "    - fetching rules: service account that can always access the project with rules.\n",
    "    - applying rules: we need to get USER token from atlas and use it when applying the rules. handle access denied in some sessions.\n",
    "- Service sessions for storing forge sessions for different users.\n",
    "- Pagination of results."
   ]
  },
  {
   "cell_type": "code",
   "execution_count": 64,
   "id": "44e27e1c",
   "metadata": {},
   "outputs": [],
   "source": [
    "import getpass\n",
    "\n",
    "from kgforge.core import KnowledgeGraphForge\n",
    "\n",
    "from inference_tools.utils import fetch_rules, check_premises, apply_rule, get_rule_parameters"
   ]
  },
  {
   "cell_type": "code",
   "execution_count": 65,
   "id": "e0ea9ffa",
   "metadata": {},
   "outputs": [],
   "source": [
    "ENDPOINT = \"https://staging.nexus.ocp.bbp.epfl.ch/v1\""
   ]
  },
  {
   "cell_type": "code",
   "execution_count": 47,
   "id": "ed77dfaa",
   "metadata": {},
   "outputs": [
    {
     "name": "stdout",
     "output_type": "stream",
     "text": [
      "········\n"
     ]
    }
   ],
   "source": [
    "TOKEN = getpass.getpass()"
   ]
  },
  {
   "cell_type": "code",
   "execution_count": 66,
   "id": "65f04838",
   "metadata": {},
   "outputs": [],
   "source": [
    "RULES_ORG = \"dke\"\n",
    "RULES_PROJECT = \"inference-test\"\n",
    "RULES_VIEW = \"https://bbp.epfl.ch/neurosciencegraph/data/rule-view\""
   ]
  },
  {
   "cell_type": "code",
   "execution_count": 67,
   "id": "c4716aed",
   "metadata": {},
   "outputs": [],
   "source": [
    "rules_forge = KnowledgeGraphForge(\n",
    "    \"../../configs/new-forge-config.yaml\",\n",
    "    endpoint=ENDPOINT,\n",
    "    token=TOKEN, \n",
    "    bucket=f\"{RULES_ORG}/{RULES_PROJECT}\")"
   ]
  },
  {
   "cell_type": "code",
   "execution_count": 68,
   "id": "5336a805",
   "metadata": {},
   "outputs": [],
   "source": [
    "# This could be replaced by any util kg-inference-api implements to handle user forge sessions\n",
    "FORGE_SESSIONS = {}\n",
    "def allocate_forge_session(org, project):\n",
    "    if (org, project) not in FORGE_SESSIONS:\n",
    "        session = KnowledgeGraphForge(\n",
    "            \"../../configs/new-forge-config.yaml\",\n",
    "            endpoint=ENDPOINT,\n",
    "            token=TOKEN, \n",
    "            bucket=f\"{org}/{project}\")\n",
    "        FORGE_SESSIONS[(org, project)] = session\n",
    "    return FORGE_SESSIONS[(org, project)]"
   ]
  },
  {
   "cell_type": "markdown",
   "id": "4155f7ff",
   "metadata": {},
   "source": [
    "# Fetch rules"
   ]
  },
  {
   "cell_type": "markdown",
   "id": "9bda88ad",
   "metadata": {},
   "source": [
    "1. Fetch all the rules"
   ]
  },
  {
   "cell_type": "code",
   "execution_count": 74,
   "id": "2db4dd11",
   "metadata": {},
   "outputs": [
    {
     "name": "stdout",
     "output_type": "stream",
     "text": [
      "Name:  Combined (PC) MType similarity\n",
      "Desc:  Get the closest (PC) MType according to a combined similarity\n",
      "Target resource type:  Class\n",
      "Input parameters: \n",
      "\t MTypeQueryParameter\n",
      "\t\t {'@type': 'uri', 'description': 'URI of the query MType', 'name': 'MTypeQueryParameter'}\n",
      "\n",
      "Name:  Trace generalization for cortical PCs\n",
      "Desc:  Collect traces belonging to PCs from other cortical regions\n",
      "Target resource type:  Trace\n",
      "Input parameters: \n",
      "\t BrainRegionQueryParameter\n",
      "\t\t {'@type': 'uri', 'description': 'URI of the query brain region', 'name': 'BrainRegionQueryParameter'}\n",
      "\t MTypeQueryParameter\n",
      "\t\t {'@type': 'uri', 'description': 'URI of the query MType', 'name': 'MTypeQueryParameter'}\n",
      "\n",
      "Name:  MType similarity-based trace generalization for cortical PCs\n",
      "Desc:  Collect traces belonging to the closest (PC) MType from other cortical regions\n",
      "Target resource type:  Trace\n",
      "Input parameters: \n",
      "\t BrainRegionQueryParameter\n",
      "\t\t {'@type': 'uri', 'description': 'URI of the query brain region', 'name': 'BrainRegionQueryParameter'}\n",
      "\t MTypeQueryParameter\n",
      "\t\t {'@type': 'str', 'description': 'URI of the query MType', 'name': 'MTypeQueryParameter'}\n",
      "\n"
     ]
    }
   ],
   "source": [
    "rules = fetch_rules(rules_forge, RULES_VIEW)\n",
    "for r in rules:\n",
    "    print(\"Name: \", r[\"name\"])\n",
    "    print(\"Desc: \", r[\"description\"])\n",
    "    print(\"Target resource type: \", r[\"targetResourceType\"])\n",
    "    params = get_rule_parameters(r)\n",
    "    print(\"Input parameters: \")\n",
    "    for name, payload in params.items():\n",
    "        print(\"\\t\", name)\n",
    "        print(\"\\t\\t\", payload)\n",
    "    print()"
   ]
  },
  {
   "cell_type": "markdown",
   "id": "4c587654",
   "metadata": {},
   "source": [
    "2. Fetch rules for a particular data type"
   ]
  },
  {
   "cell_type": "code",
   "execution_count": 75,
   "id": "fcad9aa3",
   "metadata": {},
   "outputs": [
    {
     "name": "stdout",
     "output_type": "stream",
     "text": [
      "Name:  Trace generalization for cortical PCs\n",
      "Desc:  Collect traces belonging to PCs from other cortical regions\n",
      "Target resource type:  Trace\n",
      "Input parameters: \n",
      "\t BrainRegionQueryParameter\n",
      "\t\t {'@type': 'uri', 'description': 'URI of the query brain region', 'name': 'BrainRegionQueryParameter'}\n",
      "\t MTypeQueryParameter\n",
      "\t\t {'@type': 'uri', 'description': 'URI of the query MType', 'name': 'MTypeQueryParameter'}\n",
      "\n",
      "Name:  MType similarity-based trace generalization for cortical PCs\n",
      "Desc:  Collect traces belonging to the closest (PC) MType from other cortical regions\n",
      "Target resource type:  Trace\n",
      "Input parameters: \n",
      "\t BrainRegionQueryParameter\n",
      "\t\t {'@type': 'uri', 'description': 'URI of the query brain region', 'name': 'BrainRegionQueryParameter'}\n",
      "\t MTypeQueryParameter\n",
      "\t\t {'@type': 'str', 'description': 'URI of the query MType', 'name': 'MTypeQueryParameter'}\n",
      "\n"
     ]
    }
   ],
   "source": [
    "trace_rules = fetch_rules(rules_forge, RULES_VIEW, resource_types=[\"Trace\"])\n",
    "for r in trace_rules:\n",
    "#     print(r)\n",
    "    print(\"Name: \", r[\"name\"])\n",
    "    print(\"Desc: \", r[\"description\"])\n",
    "    print(\"Target resource type: \", r[\"targetResourceType\"])\n",
    "    params = get_rule_parameters(r)\n",
    "    print(\"Input parameters: \")\n",
    "    for name, payload in params.items():\n",
    "        print(\"\\t\", name)\n",
    "        print(\"\\t\\t\", payload)\n",
    "    print()"
   ]
  },
  {
   "cell_type": "markdown",
   "id": "90bdc206",
   "metadata": {},
   "source": [
    "# Check premises of rules (find rules applicable to input filters)"
   ]
  },
  {
   "cell_type": "code",
   "execution_count": 76,
   "id": "ba425b34",
   "metadata": {},
   "outputs": [],
   "source": [
    "input_filters_a = {\n",
    "    \"BrainRegionQueryParameter\": \"http://api.brain-map.org/api/v2/data/Structure/31\",\n",
    "    \"MTypeQueryParameter\": \"http://uri.interlex.org/base/ilx_0381377\",\n",
    "    \"SpeciesQueryParameter\": \"http://purl.obolibrary.org/obo/NCBITaxon_10088\",\n",
    "}"
   ]
  },
  {
   "cell_type": "code",
   "execution_count": 77,
   "id": "bb5e8a9c",
   "metadata": {},
   "outputs": [],
   "source": [
    "input_filters_b = {\n",
    "    \"BrainRegionQueryParameter\": \"http://api.brain-map.org/api/v2/data/Structure/345\",\n",
    "    \"MTypeQueryParameter\": \"http://uri.interlex.org/base/ilx_0381377\",\n",
    "    \"SpeciesQueryParameter\": \"http://purl.obolibrary.org/obo/NCBITaxon_10088\",\n",
    "}"
   ]
  },
  {
   "cell_type": "markdown",
   "id": "891eedc3",
   "metadata": {},
   "source": [
    "If premise is satified given the input filters, the rule is applicable."
   ]
  },
  {
   "cell_type": "code",
   "execution_count": 78,
   "id": "420f77e7",
   "metadata": {
    "scrolled": true
   },
   "outputs": [
    {
     "name": "stdout",
     "output_type": "stream",
     "text": [
      "Combined (PC) MType similarity\n",
      "\t-> Input filters A:\n",
      "\t\tPremise satisfied:  True\n",
      "\t-> Input filters B:\n",
      "\t\tPremise satisfied:  True\n",
      "\n",
      "Trace generalization for cortical PCs\n",
      "\t-> Input filters A:\n",
      "\t\tPremise satisfied:  True\n",
      "\t-> Input filters B:\n",
      "\t\tPremise satisfied:  False\n",
      "\n",
      "MType similarity-based trace generalization for cortical PCs\n",
      "\t-> Input filters A:\n",
      "\t\tPremise satisfied:  True\n",
      "\t-> Input filters B:\n",
      "\t\tPremise satisfied:  False\n",
      "\n"
     ]
    }
   ],
   "source": [
    "for rule in rules:\n",
    "    print(rule[\"name\"])\n",
    "    print(\"\\t-> Input filters A:\")\n",
    "    print(\"\\t\\tPremise satisfied: \", check_premises(allocate_forge_session, rule, input_filters_a))\n",
    "    print(\"\\t-> Input filters B:\")\n",
    "    print(\"\\t\\tPremise satisfied: \", check_premises(allocate_forge_session, rule, input_filters_b))\n",
    "    print()"
   ]
  },
  {
   "cell_type": "markdown",
   "id": "a6bef398",
   "metadata": {},
   "source": [
    "# Excecute inference\n",
    "\n",
    "Rule application returns a collection of resources to display in the atlas"
   ]
  },
  {
   "cell_type": "markdown",
   "id": "99f40aa5",
   "metadata": {},
   "source": [
    "By default the premise is checked again when the rule is applied"
   ]
  },
  {
   "cell_type": "code",
   "execution_count": 88,
   "id": "9cef972e",
   "metadata": {
    "scrolled": false
   },
   "outputs": [
    {
     "name": "stdout",
     "output_type": "stream",
     "text": [
      "Combined (PC) MType similarity\n",
      "\t Results:\n",
      "\t\t {'id': 'http://uri.interlex.org/base/ilx_0381371'}\n",
      "\n",
      "Trace generalization for cortical PCs\n",
      "\t Results:\n",
      "\t\t {'id': 'https://bbp.epfl.ch/neurosciencegraph/data/ff0e496d-b8a0-4c0e-8487-545563495dc0'}\n",
      "\t\t {'id': 'https://bbp.epfl.ch/neurosciencegraph/data/2b108ccf-4ad2-4495-8490-17b2fde656fa'}\n",
      "\t\t {'id': 'https://bbp.epfl.ch/neurosciencegraph/data/4fba4ab3-189c-4ff4-96bf-6904c1b8912b'}\n",
      "\n",
      "MType similarity-based trace generalization for cortical PCs\n",
      "\t Results:\n",
      "\t\t {'id': 'https://bbp.epfl.ch/neurosciencegraph/data/ff0e496d-b8a0-4c0e-8487-545563495dc0'}\n",
      "\n"
     ]
    }
   ],
   "source": [
    "for rule in rules:\n",
    "    print(rule[\"name\"])\n",
    "    print(\"\\t Results:\")\n",
    "    results = apply_rule(allocate_forge_session, rule, input_filters_a)\n",
    "    for r in results:\n",
    "        print(\"\\t\\t\", r)\n",
    "    print()"
   ]
  },
  {
   "cell_type": "markdown",
   "id": "979a151a",
   "metadata": {},
   "source": [
    "You can alternatively ommit premise checking, which will result in faster rule application. This is suitable when you know already that the rule satisfies the premise, e.g. you asked for the list of rules whose premises are satisfied and now you want to apply some of them."
   ]
  },
  {
   "cell_type": "code",
   "execution_count": 90,
   "id": "cacc3b36",
   "metadata": {
    "scrolled": true
   },
   "outputs": [
    {
     "name": "stdout",
     "output_type": "stream",
     "text": [
      "Combined (PC) MType similarity\n",
      "\t Results:\n",
      "\t\t {'id': 'http://uri.interlex.org/base/ilx_0381371'}\n",
      "\n",
      "Trace generalization for cortical PCs\n",
      "\t Results:\n",
      "\t\t {'id': 'https://bbp.epfl.ch/neurosciencegraph/data/ff0e496d-b8a0-4c0e-8487-545563495dc0'}\n",
      "\t\t {'id': 'https://bbp.epfl.ch/neurosciencegraph/data/2b108ccf-4ad2-4495-8490-17b2fde656fa'}\n",
      "\t\t {'id': 'https://bbp.epfl.ch/neurosciencegraph/data/4fba4ab3-189c-4ff4-96bf-6904c1b8912b'}\n",
      "\n",
      "MType similarity-based trace generalization for cortical PCs\n",
      "\t Results:\n",
      "\t\t {'id': 'https://bbp.epfl.ch/neurosciencegraph/data/ff0e496d-b8a0-4c0e-8487-545563495dc0'}\n",
      "\n"
     ]
    }
   ],
   "source": [
    "for rule in rules:\n",
    "    print(rule[\"name\"])\n",
    "    print(\"\\t Results:\")\n",
    "    results = apply_rule(allocate_forge_session, rule, input_filters_a, premise_check=False)\n",
    "    for r in results:\n",
    "        print(\"\\t\\t\", r)\n",
    "    print()"
   ]
  }
 ],
 "metadata": {
  "kernelspec": {
   "display_name": "inference",
   "language": "python",
   "name": "inference"
  },
  "language_info": {
   "codemirror_mode": {
    "name": "ipython",
    "version": 3
   },
   "file_extension": ".py",
   "mimetype": "text/x-python",
   "name": "python",
   "nbconvert_exporter": "python",
   "pygments_lexer": "ipython3",
   "version": "3.8.12"
  }
 },
 "nbformat": 4,
 "nbformat_minor": 5
}
