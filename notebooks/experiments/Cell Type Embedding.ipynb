{
 "cells": [
  {
   "cell_type": "markdown",
   "id": "d92603f5",
   "metadata": {},
   "source": [
    "# Embedding of ontology concepts: Cell Type usecase\n",
    "\n",
    "We create the following embeddings:\n",
    "\n",
    "- __TTypes__: TType ontology from Allen dendrogram (see https://portal.brain-map.org/atlases-and-data/rnaseq/mouse-whole-cortex-and-hippocampus-10x) and mean gene expression profiles per type\n",
    "- __MTypes__: Materialized MType ontology (see https://bbp.epfl.ch/nexus/webprotege/#projects/f9354eaa-f69b-4f0d-949a-0c64fdd9d995/edit/Classes) and morpho metrics computed with NeuroM for annotated SSCX morphologies\n",
    "   "
   ]
  },
  {
   "cell_type": "code",
   "execution_count": 176,
   "id": "24b68361",
   "metadata": {},
   "outputs": [],
   "source": [
    "import json\n",
    "\n",
    "import pandas as pd\n",
    "import networkx as nx\n",
    "import numpy as np\n",
    "\n",
    "import matplotlib.pyplot as plt\n",
    "\n",
    "import rdflib\n",
    "from rdflib import RDF, RDFS, OWL\n",
    "\n",
    "from bluegraph import PandasPGFrame\n",
    "from bluegraph.backends.networkx import pgframe_to_networkx\n",
    "from bluegraph.backends.stellargraph import StellarGraphNodeEmbedder\n",
    "from bluegraph.downstream.utils import transform_to_2d, plot_2d\n",
    "\n",
    "from sklearn.decomposition import PCA\n",
    "from sklearn.preprocessing import StandardScaler\n",
    "from sklearn.impute import SimpleImputer"
   ]
  },
  {
   "cell_type": "markdown",
   "id": "dc4aed81",
   "metadata": {},
   "source": [
    "## Helpers"
   ]
  },
  {
   "cell_type": "code",
   "execution_count": 136,
   "id": "d0e21333",
   "metadata": {},
   "outputs": [],
   "source": [
    "def is_nan(el):\n",
    "    try:\n",
    "        if np.isnan(el):\n",
    "            return True\n",
    "    except:\n",
    "        pass\n",
    "    return False\n",
    "\n",
    "\n",
    "def autocomplete_types_from_children(frame, feature_column):\n",
    "    graph = pgframe_to_networkx(frame)\n",
    "    prev_nodes_to_process = set()\n",
    "    while True:\n",
    "        nodes_to_process = set()\n",
    "        for n in frame.nodes():\n",
    "            if is_nan(frame._nodes.loc[n, feature_column]):\n",
    "                nodes_to_process.add(n)\n",
    "\n",
    "        if len(nodes_to_process) == 0 or\\\n",
    "           (prev_nodes_to_process == nodes_to_process):\n",
    "            break\n",
    "\n",
    "        for n in nodes_to_process:\n",
    "            all_children = True\n",
    "            children_vectors = []\n",
    "            for child, n in graph.in_edges(n):\n",
    "\n",
    "                if child in frame.nodes():\n",
    "                    if is_nan(frame._nodes.loc[child, feature_column]):\n",
    "                        all_childern = False\n",
    "                        break\n",
    "                    children_vectors.append(frame._nodes.loc[child, feature_column])\n",
    "\n",
    "            if all_children:\n",
    "                frame._nodes.at[n, feature_column] = np.mean(\n",
    "                    children_vectors, axis=0).tolist()\n",
    "                \n",
    "        prev_nodes_to_process = nodes_to_process"
   ]
  },
  {
   "cell_type": "markdown",
   "id": "77e9abf9",
   "metadata": {},
   "source": [
    "## Embedding of TTypes"
   ]
  },
  {
   "cell_type": "markdown",
   "id": "803250db",
   "metadata": {},
   "source": [
    "Read the datasets.\n",
    "\n",
    "__TODO__: now these datasets can be read from Nexus https://bbp.epfl.ch/nexus/web/admin/bbp/aibs"
   ]
  },
  {
   "cell_type": "code",
   "execution_count": 137,
   "id": "b79ee9ce",
   "metadata": {},
   "outputs": [],
   "source": [
    "means = pd.read_csv(\"data/trimmed_means.csv\").set_index(\"feature\")"
   ]
  },
  {
   "cell_type": "code",
   "execution_count": 138,
   "id": "1f61c6a7",
   "metadata": {},
   "outputs": [],
   "source": [
    "with open(\"data/dend.json\", \"r\") as f:\n",
    "    hierarchy = json.load(f)"
   ]
  },
  {
   "cell_type": "markdown",
   "id": "535d83ae",
   "metadata": {},
   "source": [
    "Extract nodes and edges from the dendrogram (hierarchy of TTypes as it is provided by Allen)"
   ]
  },
  {
   "cell_type": "code",
   "execution_count": 139,
   "id": "8dd461fb",
   "metadata": {},
   "outputs": [],
   "source": [
    "edges = set()\n",
    "nodes = {}\n",
    "def extract_data(hierarchy, father=None):\n",
    "    if \"children\" in hierarchy:\n",
    "        for child in hierarchy[\"children\"]:\n",
    "            if \"node_attributes\" in child:\n",
    "                attrs = child[\"node_attributes\"][0]\n",
    "            else:\n",
    "                attrs = child[\"leaf_attributes\"][0]\n",
    "            nodes[attrs[\"cell_set_accession\"]] = attrs\n",
    "            extract_data(child, attrs[\"cell_set_accession\"])\n",
    "            if father:\n",
    "                edges.add((attrs[\"cell_set_accession\"], father))\n",
    "extract_data(hierarchy)"
   ]
  },
  {
   "cell_type": "markdown",
   "id": "3755dedb",
   "metadata": {},
   "source": [
    "Create a matrix of gene expressions for each type"
   ]
  },
  {
   "cell_type": "code",
   "execution_count": 140,
   "id": "f21e337d",
   "metadata": {},
   "outputs": [],
   "source": [
    "expression_matrix = means.T.values"
   ]
  },
  {
   "cell_type": "markdown",
   "id": "614bf2dd",
   "metadata": {},
   "source": [
    "Apply dimensionality reduction on the matrix (greatly simplifies the similarity search without loosing too much information)."
   ]
  },
  {
   "cell_type": "code",
   "execution_count": 141,
   "id": "79f9a2a8",
   "metadata": {},
   "outputs": [],
   "source": [
    "pca = PCA(n_components=256)\n",
    "reduced_expression_matrix = pca.fit_transform(expression_matrix)"
   ]
  },
  {
   "cell_type": "code",
   "execution_count": 142,
   "id": "8f61f66c",
   "metadata": {},
   "outputs": [
    {
     "data": {
      "text/plain": [
       "0.9852168400046978"
      ]
     },
     "execution_count": 142,
     "metadata": {},
     "output_type": "execute_result"
    }
   ],
   "source": [
    "sum(pca.explained_variance_ratio_)"
   ]
  },
  {
   "cell_type": "markdown",
   "id": "80f6a5ed",
   "metadata": {},
   "source": [
    "Create a PandasPGFrame"
   ]
  },
  {
   "cell_type": "code",
   "execution_count": 143,
   "id": "100f3608",
   "metadata": {},
   "outputs": [],
   "source": [
    "node_df = pd.DataFrame(nodes.values()).rename(\n",
    "    columns={\"cell_set_accession\": \"@id\"})"
   ]
  },
  {
   "cell_type": "code",
   "execution_count": 144,
   "id": "68b6c771",
   "metadata": {},
   "outputs": [],
   "source": [
    "node_df = pd.DataFrame(nodes.values()).rename(\n",
    "    columns={\"cell_set_accession\": \"@id\"})\n",
    "node_vectors = {}\n",
    "for i, c in enumerate(means.columns):\n",
    "    node_vectors[c] = reduced_expression_matrix[i, :].tolist()\n",
    "node_vectors = pd.DataFrame(\n",
    "    node_vectors.items(), columns=[\"cell_set_alias\", \"features\"])\n",
    "node_df = node_df.merge(node_vectors, on=\"cell_set_alias\", how=\"left\").set_index(\"@id\")"
   ]
  },
  {
   "cell_type": "code",
   "execution_count": 145,
   "id": "3b1352d7",
   "metadata": {},
   "outputs": [],
   "source": [
    "edge_df = pd.DataFrame(edges, columns=[\"@source_id\", \"@target_id\"]).set_index([\"@source_id\", \"@target_id\"])\n",
    "edge_df[\"@type\"] = \"IS_SUBCLASS_OF\"\n",
    "frame = PandasPGFrame.from_frames(node_df, edge_df)\n",
    "for c in frame._nodes.columns:\n",
    "    frame.node_prop_as_category(c)"
   ]
  },
  {
   "cell_type": "markdown",
   "id": "53a7d625",
   "metadata": {},
   "source": [
    "Remove intermediate nodes from the created graph that do not represent any 'labeled' cell types, but only unlabeled clusters of cells."
   ]
  },
  {
   "cell_type": "code",
   "execution_count": 146,
   "id": "617bb39f",
   "metadata": {},
   "outputs": [],
   "source": [
    "graph = pgframe_to_networkx(frame)"
   ]
  },
  {
   "cell_type": "code",
   "execution_count": 147,
   "id": "2e69b333",
   "metadata": {},
   "outputs": [],
   "source": [
    "while True:\n",
    "    edges_to_remove = set()\n",
    "    edges_to_add = set()\n",
    "    for n in graph.nodes():\n",
    "        if frame._nodes.loc[n, \"cell_set_alias\"]:\n",
    "            for _, t in graph.out_edges(n):\n",
    "                father_alias = frame._nodes.loc[t, \"cell_set_alias\"]\n",
    "                if not father_alias:\n",
    "                    edges_to_remove.add((n, t))\n",
    "                    for _, tt in graph.out_edges(t):\n",
    "                        edges_to_add.add((n, tt))\n",
    "\n",
    "    for s, t in edges_to_remove:\n",
    "        graph.remove_edge(s, t)\n",
    "    for s, t in edges_to_add:\n",
    "        graph.add_edge(s, t)\n",
    "\n",
    "    if not edges_to_remove and not edges_to_add:\n",
    "        break"
   ]
  },
  {
   "cell_type": "code",
   "execution_count": 148,
   "id": "c587bccb",
   "metadata": {},
   "outputs": [],
   "source": [
    "graph.remove_nodes_from(list(nx.isolates(graph)))\n",
    "graph.remove_nodes_from([\n",
    "    n for n in graph.nodes() if not frame._nodes.loc[n, \"cell_set_alias\"]\n",
    "])\n",
    "frame.remove_nodes([\n",
    "    n for n in frame.nodes() if n not in graph.nodes()\n",
    "])\n",
    "frame.remove_edges([\n",
    "    (s, t) for s, t in frame.edges() if (s, t) not in graph.edges()\n",
    "])\n",
    "new_edges = [\n",
    "    (s, t) for s, t in graph.edges() if (s, t) not in frame.edges()\n",
    "]\n",
    "frame.add_edges(new_edges)\n",
    "\n",
    "for s, t in new_edges:\n",
    "    frame._edges.loc[(s, t), \"@type\"] = \"IS_SUBCLASS_OF\""
   ]
  },
  {
   "cell_type": "markdown",
   "id": "90168b99",
   "metadata": {},
   "source": [
    "The ttype 'CS202106160_381' seem not to have any expression profile data in the current version of the dataset"
   ]
  },
  {
   "cell_type": "code",
   "execution_count": 149,
   "id": "6b861bed",
   "metadata": {},
   "outputs": [],
   "source": [
    "frame.remove_nodes([\"CS202106160_381\"])\n",
    "edges_to_remove = set()\n",
    "for s, t in frame._edges.index:\n",
    "    if s == \"CS202106160_381\":\n",
    "        edges_to_remove.add((s, t))\n",
    "    if t == \"CS202106160_381\":\n",
    "        edges_to_remove.add((s, t))\n",
    "frame.remove_edges(edges_to_remove)"
   ]
  },
  {
   "cell_type": "markdown",
   "id": "92588fb6",
   "metadata": {},
   "source": [
    "At the moment only 'leaf' nodes have expression profiles assigned, we compute such profiles for non-leaf nodes by recursively averaging the profiles of thier children."
   ]
  },
  {
   "cell_type": "code",
   "execution_count": 150,
   "id": "58743285",
   "metadata": {
    "scrolled": true
   },
   "outputs": [
    {
     "name": "stderr",
     "output_type": "stream",
     "text": [
      "/Users/oshurko/opt/anaconda3/envs/bg/lib/python3.7/site-packages/numpy/core/fromnumeric.py:3441: RuntimeWarning: Mean of empty slice.\n",
      "  out=out, **kwargs)\n",
      "/Users/oshurko/opt/anaconda3/envs/bg/lib/python3.7/site-packages/numpy/core/_methods.py:189: RuntimeWarning: invalid value encountered in double_scalars\n",
      "  ret = ret.dtype.type(ret / rcount)\n"
     ]
    }
   ],
   "source": [
    "autocomplete_types_from_children(frame, \"features\")"
   ]
  },
  {
   "cell_type": "markdown",
   "id": "843d3b77",
   "metadata": {},
   "source": [
    "Fit an embedder"
   ]
  },
  {
   "cell_type": "code",
   "execution_count": 153,
   "id": "6ba2fd51",
   "metadata": {},
   "outputs": [],
   "source": [
    "embedder = StellarGraphNodeEmbedder(\n",
    "    \"graphsage\", length=5, number_of_walks=15,\n",
    "    epochs=5, embedding_dimension=128,\n",
    "    feature_vector_prop=\"features\",\n",
    "    random_walk_p=2, random_walk_q=0.2, biased=True)"
   ]
  },
  {
   "cell_type": "code",
   "execution_count": 154,
   "id": "4c924a91",
   "metadata": {},
   "outputs": [
    {
     "name": "stdout",
     "output_type": "stream",
     "text": [
      "link_classification: using 'ip' method to combine node embeddings into edge embeddings\n"
     ]
    }
   ],
   "source": [
    "embeddings = embedder.fit_model(frame)"
   ]
  },
  {
   "cell_type": "markdown",
   "id": "2cc8409f",
   "metadata": {},
   "source": [
    "Save embedding vectors and thier meta-data for visualization with https://projector.tensorflow.org/"
   ]
  },
  {
   "cell_type": "code",
   "execution_count": 155,
   "id": "919b4717",
   "metadata": {},
   "outputs": [],
   "source": [
    "a = np.array(embeddings[\"embedding\"].tolist())\n",
    "np.savetxt(\"data/graphsage_ttypes.tsv\", a, delimiter=\"\\t\")\n",
    "frame._nodes[[\"cell_set_alias\"]].reset_index()[\n",
    "    [\"cell_set_alias\", \"@id\"]].to_csv(\"data/ttypes_meta.tsv\", sep=\"\\t\")"
   ]
  },
  {
   "cell_type": "code",
   "execution_count": 156,
   "id": "caaa3861",
   "metadata": {},
   "outputs": [
    {
     "data": {
      "image/png": "[encoded data removed]",
      "text/plain": [
       "<Figure size 504x504 with 1 Axes>"
      ]
     },
     "metadata": {
      "needs_background": "light"
     },
     "output_type": "display_data"
    }
   ],
   "source": [
    "frame.add_node_properties(\n",
    "    embeddings.rename(columns={\"embedding\": \"graphsage\"}))\n",
    "embedding_2d = transform_to_2d(frame._nodes[\"graphsage\"].tolist())\n",
    "plot_2d(frame, vectors=embedding_2d)"
   ]
  },
  {
   "cell_type": "markdown",
   "id": "04c6bd29",
   "metadata": {},
   "source": [
    "## Embedding of MTypes"
   ]
  },
  {
   "cell_type": "markdown",
   "id": "aceb9b0a",
   "metadata": {},
   "source": [
    "Load the data"
   ]
  },
  {
   "cell_type": "code",
   "execution_count": 159,
   "id": "c6303408",
   "metadata": {},
   "outputs": [],
   "source": [
    "with open(\"data/mtype_data_sscx.json\", \"r\") as f:\n",
    "    mtype_json = json.load(f)"
   ]
  },
  {
   "cell_type": "code",
   "execution_count": 164,
   "id": "9701c427",
   "metadata": {},
   "outputs": [],
   "source": [
    "# There is very little morphs with annotated apical dendrites, we skip for the moment\n",
    "EXCLUDE_COMPARTMENTS = [\"ApicalDendrite\"]\n",
    "EXCLUDE_STATISTICS = [\"ApicalDendrite\"]\n",
    "STATISTICS_OF_INTEREST = [\"mean\", \"standard_deviation\"]"
   ]
  },
  {
   "cell_type": "code",
   "execution_count": 165,
   "id": "c1d3efa1",
   "metadata": {},
   "outputs": [],
   "source": [
    "feature_records = []\n",
    "for morpho in mtype_json:\n",
    "    record = {}\n",
    "    for ann in morpho[\"annotation\"]:\n",
    "        if \"MType:Annotation\" in ann[\"type\"]:\n",
    "            record[\"MType\"] = ann[\"hasBody\"][\"label\"]\n",
    "        if \"NeuronMorphologyFeatureAnnotation\" in ann[\"type\"]:\n",
    "            compartment = ann[\"compartment\"]\n",
    "            if compartment not in EXCLUDE_COMPARTMENTS:\n",
    "                for feature_ann in ann[\"hasBody\"]:\n",
    "                    feature_name = feature_ann[\"isMeasurementOf\"][\"label\"].replace(\" \", \"_\")\n",
    "                    for el in feature_ann[\"series\"]:\n",
    "                        stat = el[\"statistics\"].replace(\" \", \"_\")\n",
    "                        if stat in STATISTICS_OF_INTEREST:\n",
    "                            record[f\"{compartment}_{stat}_{feature_name}\"] = el[\"value\"]\n",
    "    feature_records.append(record)"
   ]
  },
  {
   "cell_type": "code",
   "execution_count": 166,
   "id": "42708272",
   "metadata": {},
   "outputs": [],
   "source": [
    "feature_df = pd.DataFrame(feature_records)"
   ]
  },
  {
   "cell_type": "code",
   "execution_count": 168,
   "id": "0ee84f12",
   "metadata": {},
   "outputs": [
    {
     "data": {
      "text/html": [
       "<div>\n",
       "<style scoped>\n",
       "    .dataframe tbody tr th:only-of-type {\n",
       "        vertical-align: middle;\n",
       "    }\n",
       "\n",
       "    .dataframe tbody tr th {\n",
       "        vertical-align: top;\n",
       "    }\n",
       "\n",
       "    .dataframe thead th {\n",
       "        text-align: right;\n",
       "    }\n",
       "</style>\n",
       "<table border=\"1\" class=\"dataframe\">\n",
       "  <thead>\n",
       "    <tr style=\"text-align: right;\">\n",
       "      <th></th>\n",
       "      <th>MType</th>\n",
       "      <th>Axon_mean_Neurite_Max_Radial_Distance</th>\n",
       "      <th>Axon_standard_deviation_Neurite_Max_Radial_Distance</th>\n",
       "      <th>Axon_mean_Number_Of_Sections</th>\n",
       "      <th>Axon_standard_deviation_Number_Of_Sections</th>\n",
       "      <th>Axon_mean_Number_Of_Bifurcations</th>\n",
       "      <th>Axon_standard_deviation_Number_Of_Bifurcations</th>\n",
       "      <th>Axon_mean_Number_Of_Leaves</th>\n",
       "      <th>Axon_standard_deviation_Number_Of_Leaves</th>\n",
       "      <th>Axon_mean_Total_Length</th>\n",
       "      <th>...</th>\n",
       "      <th>NeuronMorphology_mean_Total_Area_Per_Neurite</th>\n",
       "      <th>NeuronMorphology_standard_deviation_Total_Area_Per_Neurite</th>\n",
       "      <th>NeuronMorphology_mean_Total_Volume_Per_Neurite</th>\n",
       "      <th>NeuronMorphology_standard_deviation_Total_Volume_Per_Neurite</th>\n",
       "      <th>NeuronMorphology_mean_Number_Of_Neurites</th>\n",
       "      <th>NeuronMorphology_standard_deviation_Number_Of_Neurites</th>\n",
       "      <th>Soma_mean_Soma_Surface_Area</th>\n",
       "      <th>Soma_standard_deviation_Soma_Surface_Area</th>\n",
       "      <th>Soma_mean_Soma_Radius</th>\n",
       "      <th>Soma_standard_deviation_Soma_Radius</th>\n",
       "    </tr>\n",
       "  </thead>\n",
       "  <tbody>\n",
       "    <tr>\n",
       "      <th>0</th>\n",
       "      <td>L23_DBC</td>\n",
       "      <td>773.237122</td>\n",
       "      <td>773.237122</td>\n",
       "      <td>219.0</td>\n",
       "      <td>219.0</td>\n",
       "      <td>98.0</td>\n",
       "      <td>98.0</td>\n",
       "      <td>114.0</td>\n",
       "      <td>114.0</td>\n",
       "      <td>11417.310298</td>\n",
       "      <td>...</td>\n",
       "      <td>6030.143704</td>\n",
       "      <td>2934.483008</td>\n",
       "      <td>818.104014</td>\n",
       "      <td>261.266690</td>\n",
       "      <td>3.0</td>\n",
       "      <td>3.0</td>\n",
       "      <td>371.634057</td>\n",
       "      <td>371.634057</td>\n",
       "      <td>5.438171</td>\n",
       "      <td>5.438171</td>\n",
       "    </tr>\n",
       "    <tr>\n",
       "      <th>1</th>\n",
       "      <td>L1_HAC</td>\n",
       "      <td>984.625671</td>\n",
       "      <td>984.625671</td>\n",
       "      <td>333.0</td>\n",
       "      <td>333.0</td>\n",
       "      <td>166.0</td>\n",
       "      <td>166.0</td>\n",
       "      <td>167.0</td>\n",
       "      <td>167.0</td>\n",
       "      <td>13805.235600</td>\n",
       "      <td>...</td>\n",
       "      <td>2162.164353</td>\n",
       "      <td>2574.641844</td>\n",
       "      <td>149.578669</td>\n",
       "      <td>102.244077</td>\n",
       "      <td>4.0</td>\n",
       "      <td>4.0</td>\n",
       "      <td>550.023461</td>\n",
       "      <td>550.023461</td>\n",
       "      <td>6.615850</td>\n",
       "      <td>6.615850</td>\n",
       "    </tr>\n",
       "    <tr>\n",
       "      <th>2</th>\n",
       "      <td>L1_DAC</td>\n",
       "      <td>661.705017</td>\n",
       "      <td>661.705017</td>\n",
       "      <td>113.0</td>\n",
       "      <td>113.0</td>\n",
       "      <td>56.0</td>\n",
       "      <td>56.0</td>\n",
       "      <td>57.0</td>\n",
       "      <td>57.0</td>\n",
       "      <td>7377.857407</td>\n",
       "      <td>...</td>\n",
       "      <td>1245.910429</td>\n",
       "      <td>1811.931704</td>\n",
       "      <td>141.525359</td>\n",
       "      <td>114.577312</td>\n",
       "      <td>8.0</td>\n",
       "      <td>8.0</td>\n",
       "      <td>508.577054</td>\n",
       "      <td>508.577054</td>\n",
       "      <td>6.361704</td>\n",
       "      <td>6.361704</td>\n",
       "    </tr>\n",
       "  </tbody>\n",
       "</table>\n",
       "<p>3 rows × 133 columns</p>\n",
       "</div>"
      ],
      "text/plain": [
       "     MType  Axon_mean_Neurite_Max_Radial_Distance  \\\n",
       "0  L23_DBC                             773.237122   \n",
       "1   L1_HAC                             984.625671   \n",
       "2   L1_DAC                             661.705017   \n",
       "\n",
       "   Axon_standard_deviation_Neurite_Max_Radial_Distance  \\\n",
       "0                                         773.237122     \n",
       "1                                         984.625671     \n",
       "2                                         661.705017     \n",
       "\n",
       "   Axon_mean_Number_Of_Sections  Axon_standard_deviation_Number_Of_Sections  \\\n",
       "0                         219.0                                       219.0   \n",
       "1                         333.0                                       333.0   \n",
       "2                         113.0                                       113.0   \n",
       "\n",
       "   Axon_mean_Number_Of_Bifurcations  \\\n",
       "0                              98.0   \n",
       "1                             166.0   \n",
       "2                              56.0   \n",
       "\n",
       "   Axon_standard_deviation_Number_Of_Bifurcations  Axon_mean_Number_Of_Leaves  \\\n",
       "0                                            98.0                       114.0   \n",
       "1                                           166.0                       167.0   \n",
       "2                                            56.0                        57.0   \n",
       "\n",
       "   Axon_standard_deviation_Number_Of_Leaves  Axon_mean_Total_Length  ...  \\\n",
       "0                                     114.0            11417.310298  ...   \n",
       "1                                     167.0            13805.235600  ...   \n",
       "2                                      57.0             7377.857407  ...   \n",
       "\n",
       "   NeuronMorphology_mean_Total_Area_Per_Neurite  \\\n",
       "0                                   6030.143704   \n",
       "1                                   2162.164353   \n",
       "2                                   1245.910429   \n",
       "\n",
       "   NeuronMorphology_standard_deviation_Total_Area_Per_Neurite  \\\n",
       "0                                        2934.483008            \n",
       "1                                        2574.641844            \n",
       "2                                        1811.931704            \n",
       "\n",
       "   NeuronMorphology_mean_Total_Volume_Per_Neurite  \\\n",
       "0                                      818.104014   \n",
       "1                                      149.578669   \n",
       "2                                      141.525359   \n",
       "\n",
       "   NeuronMorphology_standard_deviation_Total_Volume_Per_Neurite  \\\n",
       "0                                         261.266690              \n",
       "1                                         102.244077              \n",
       "2                                         114.577312              \n",
       "\n",
       "   NeuronMorphology_mean_Number_Of_Neurites  \\\n",
       "0                                       3.0   \n",
       "1                                       4.0   \n",
       "2                                       8.0   \n",
       "\n",
       "   NeuronMorphology_standard_deviation_Number_Of_Neurites  \\\n",
       "0                                                3.0        \n",
       "1                                                4.0        \n",
       "2                                                8.0        \n",
       "\n",
       "   Soma_mean_Soma_Surface_Area  Soma_standard_deviation_Soma_Surface_Area  \\\n",
       "0                   371.634057                                 371.634057   \n",
       "1                   550.023461                                 550.023461   \n",
       "2                   508.577054                                 508.577054   \n",
       "\n",
       "   Soma_mean_Soma_Radius  Soma_standard_deviation_Soma_Radius  \n",
       "0               5.438171                             5.438171  \n",
       "1               6.615850                             6.615850  \n",
       "2               6.361704                             6.361704  \n",
       "\n",
       "[3 rows x 133 columns]"
      ]
     },
     "execution_count": 168,
     "metadata": {},
     "output_type": "execute_result"
    }
   ],
   "source": [
    "feature_df.head(3)"
   ]
  },
  {
   "cell_type": "code",
   "execution_count": 169,
   "id": "98ff2e6e",
   "metadata": {},
   "outputs": [],
   "source": [
    "labels = feature_df[\"MType\"].tolist()"
   ]
  },
  {
   "cell_type": "markdown",
   "id": "f3367e81",
   "metadata": {},
   "source": [
    "Create a matrix of morphological features for each type"
   ]
  },
  {
   "cell_type": "code",
   "execution_count": 171,
   "id": "9bbbbb5d",
   "metadata": {},
   "outputs": [
    {
     "data": {
      "text/plain": [
       "(805, 132)"
      ]
     },
     "execution_count": 171,
     "metadata": {},
     "output_type": "execute_result"
    }
   ],
   "source": [
    "X = feature_df.drop(columns=[\"MType\"]).values\n",
    "X.shape"
   ]
  },
  {
   "cell_type": "markdown",
   "id": "d2ead1bb",
   "metadata": {},
   "source": [
    "Impute missing features with avg values"
   ]
  },
  {
   "cell_type": "code",
   "execution_count": 172,
   "id": "c181c44b",
   "metadata": {},
   "outputs": [],
   "source": [
    "imputer = SimpleImputer()\n",
    "imputed_X = imputer.fit_transform(X)"
   ]
  },
  {
   "cell_type": "code",
   "execution_count": 173,
   "id": "1423f162",
   "metadata": {},
   "outputs": [],
   "source": [
    "df = pd.DataFrame([\n",
    "    {\"label\": l, \"features\": imputed_X[i, :]}\n",
    "    for i, l in enumerate(labels)\n",
    "])\n",
    "type_features = df.groupby(\"label\").aggregate(lambda x: np.mean(x, axis=0))"
   ]
  },
  {
   "cell_type": "code",
   "execution_count": 174,
   "id": "f3c85aeb",
   "metadata": {},
   "outputs": [],
   "source": [
    "type_X = np.asarray(type_features[\"features\"].tolist())"
   ]
  },
  {
   "cell_type": "code",
   "execution_count": 181,
   "id": "aec16d8a",
   "metadata": {},
   "outputs": [
    {
     "name": "stdout",
     "output_type": "stream",
     "text": [
      "Explained variance for 2 dims: 0.9396792954480901\n"
     ]
    },
    {
     "data": {
      "image/png": "[encoded data removed]",
      "text/plain": [
       "<Figure size 720x720 with 1 Axes>"
      ]
     },
     "metadata": {
      "needs_background": "light"
     },
     "output_type": "display_data"
    }
   ],
   "source": [
    "pca = PCA(n_components=2)\n",
    "features_2d = pca.fit_transform(type_X)\n",
    "print(\"Explained variance for 2 dims:\", sum(pca.explained_variance_ratio_))\n",
    "frame = PandasPGFrame()\n",
    "frame.add_nodes(list(range(type_X.shape[0])))\n",
    "\n",
    "fig, ax = plt.subplots(figsize=(10, 10))\n",
    "ax.scatter(features_2d[:, 0], features_2d[:, 1])\n",
    "\n",
    "for i, txt in enumerate(type_features.index):\n",
    "    ax.annotate(txt, (features_2d[i, 0], features_2d[i, 1]))\n",
    "\n",
    "plt.show()"
   ]
  },
  {
   "cell_type": "markdown",
   "id": "6ad5e62b",
   "metadata": {},
   "source": [
    "Scale features to look like Standard normal distribution, see https://scikit-learn.org/stable/modules/preprocessing.html#standardization-or-mean-removal-and-variance-scaling"
   ]
  },
  {
   "cell_type": "code",
   "execution_count": 182,
   "id": "512cdd14",
   "metadata": {},
   "outputs": [],
   "source": [
    "scaler = StandardScaler()\n",
    "scaled_X = scaler.fit_transform(type_X)"
   ]
  },
  {
   "cell_type": "markdown",
   "id": "fc26ccd3",
   "metadata": {},
   "source": [
    "Load the hierarchy of MTypes"
   ]
  },
  {
   "cell_type": "code",
   "execution_count": 184,
   "id": "cd1c0e01",
   "metadata": {},
   "outputs": [
    {
     "data": {
      "text/plain": [
       "<Graph identifier=N153ed8b60af64d888d3d77d517312e6b (<class 'rdflib.graph.Graph'>)>"
      ]
     },
     "execution_count": 184,
     "metadata": {},
     "output_type": "execute_result"
    }
   ],
   "source": [
    "mtypes = rdflib.Graph()\n",
    "mtypes.parse(\"data/mtypes.ttl\", format=\"turtle\")"
   ]
  },
  {
   "cell_type": "code",
   "execution_count": 185,
   "id": "ee80c657",
   "metadata": {},
   "outputs": [],
   "source": [
    "mtype_hierarchy_nodes = []\n",
    "mtype_hierarchy_edges = []\n",
    "for s in mtypes.subjects(RDF.type, OWL.Class):\n",
    "    mtype_hierarchy_nodes.append(mtypes.label(s).value)\n",
    "    for o in mtypes.objects(s, RDFS.subClassOf):\n",
    "        mtype_hierarchy_edges.append((mtypes.label(s).value, mtypes.label(o).value))"
   ]
  },
  {
   "cell_type": "code",
   "execution_count": 187,
   "id": "55e6d05f",
   "metadata": {},
   "outputs": [],
   "source": [
    "mtype_frame = PandasPGFrame()\n",
    "mtype_frame.add_nodes(mtype_hierarchy_nodes)\n",
    "mtype_frame.add_edges(mtype_hierarchy_edges)\n",
    "mtype_frame._edges[\"@type\"] = \"IS_SUBCLASS_OF\""
   ]
  },
  {
   "cell_type": "code",
   "execution_count": 188,
   "id": "0b54bb7b",
   "metadata": {},
   "outputs": [],
   "source": [
    "mtype_frame._nodes = mtype_frame._nodes.reset_index().merge(\n",
    "    type_features.reset_index().rename(columns={\"label\": \"@id\"}),\n",
    "    on=\"@id\", how=\"left\").set_index(\"@id\")"
   ]
  },
  {
   "cell_type": "markdown",
   "id": "7193c113",
   "metadata": {},
   "source": [
    "At the moment only 'leaf' nodes have morph features assigned, we compute such profiles for non-leaf nodes by recursively averaging the features of thier children."
   ]
  },
  {
   "cell_type": "code",
   "execution_count": 190,
   "id": "1d491ff8",
   "metadata": {},
   "outputs": [
    {
     "name": "stderr",
     "output_type": "stream",
     "text": [
      "/Users/oshurko/opt/anaconda3/envs/bg/lib/python3.7/site-packages/numpy/core/fromnumeric.py:3441: RuntimeWarning: Mean of empty slice.\n",
      "  out=out, **kwargs)\n",
      "/Users/oshurko/opt/anaconda3/envs/bg/lib/python3.7/site-packages/numpy/core/_methods.py:189: RuntimeWarning: invalid value encountered in double_scalars\n",
      "  ret = ret.dtype.type(ret / rcount)\n"
     ]
    }
   ],
   "source": [
    "autocomplete_types_from_children(mtype_frame, \"features\")"
   ]
  },
  {
   "cell_type": "code",
   "execution_count": 191,
   "id": "1780cdd2",
   "metadata": {
    "scrolled": true
   },
   "outputs": [],
   "source": [
    "nodes_to_remove = list(mtype_frame._nodes[\"features\"][mtype_frame._nodes[\"features\"].apply(lambda x: is_nan(x))].index)"
   ]
  },
  {
   "cell_type": "code",
   "execution_count": 192,
   "id": "8a572d67",
   "metadata": {},
   "outputs": [],
   "source": [
    "mtype_frame.remove_nodes(nodes_to_remove)"
   ]
  },
  {
   "cell_type": "markdown",
   "id": "cc1e57a7",
   "metadata": {},
   "source": [
    "Fit an embedder"
   ]
  },
  {
   "cell_type": "code",
   "execution_count": 193,
   "id": "83c6de84",
   "metadata": {},
   "outputs": [],
   "source": [
    "embedder = StellarGraphNodeEmbedder(\n",
    "    \"graphsage\", length=5, number_of_walks=15,\n",
    "    epochs=5, embedding_dimension=128,\n",
    "    feature_vector_prop=\"features\",\n",
    "    random_walk_p=2, random_walk_q=0.2, biased=True)"
   ]
  },
  {
   "cell_type": "code",
   "execution_count": 194,
   "id": "999600de",
   "metadata": {},
   "outputs": [
    {
     "name": "stdout",
     "output_type": "stream",
     "text": [
      "link_classification: using 'ip' method to combine node embeddings into edge embeddings\n"
     ]
    }
   ],
   "source": [
    "embedding = embedder.fit_model(mtype_frame)"
   ]
  },
  {
   "cell_type": "code",
   "execution_count": 195,
   "id": "112a23e6",
   "metadata": {},
   "outputs": [
    {
     "data": {
      "image/png": "[encoded data removed]",
      "text/plain": [
       "<Figure size 504x504 with 1 Axes>"
      ]
     },
     "metadata": {
      "needs_background": "light"
     },
     "output_type": "display_data"
    }
   ],
   "source": [
    "mtype_frame.add_node_properties(\n",
    "    embedding.rename(columns={\"embedding\": \"graphsage\"}))\n",
    "embedding_2d = transform_to_2d(mtype_frame._nodes[\"graphsage\"].tolist())\n",
    "plot_2d(mtype_frame, vectors=embedding_2d)"
   ]
  },
  {
   "cell_type": "markdown",
   "id": "ecfed295",
   "metadata": {},
   "source": [
    "Save embedding vectors and thier meta-data for visualization with https://projector.tensorflow.org/"
   ]
  },
  {
   "cell_type": "code",
   "execution_count": 201,
   "id": "f7ab38be",
   "metadata": {},
   "outputs": [],
   "source": [
    "a = np.array(embedding[\"embedding\"].tolist())\n",
    "np.savetxt(\"data/graphsage_mtypes.tsv\", a, delimiter=\"\\t\")\n",
    "mtype_frame._nodes.reset_index()[[\"@id\", \"@id\"]].to_csv(\n",
    "    \"data/mtypes_meta.tsv\", sep=\"\\t\")"
   ]
  }
 ],
 "metadata": {
  "kernelspec": {
   "display_name": "bg",
   "language": "python",
   "name": "bg"
  },
  "language_info": {
   "codemirror_mode": {
    "name": "ipython",
    "version": 3
   },
   "file_extension": ".py",
   "mimetype": "text/x-python",
   "name": "python",
   "nbconvert_exporter": "python",
   "pygments_lexer": "ipython3",
   "version": "3.7.10"
  }
 },
 "nbformat": 4,
 "nbformat_minor": 5
}
