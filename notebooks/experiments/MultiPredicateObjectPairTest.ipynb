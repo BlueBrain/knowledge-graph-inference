{
 "cells": [
  {
   "cell_type": "code",
   "execution_count": 1,
   "metadata": {},
   "outputs": [],
   "source": [
    "import getpass\n",
    "import json\n",
    "import uuid\n",
    "\n",
    "from kgforge.core import KnowledgeGraphForge\n",
    "\n",
    "from inference_tools.utils import (check_premises,\n",
    "                                   execute_query,\n",
    "                                   execute_query_pipe,\n",
    "                                   apply_rule,\n",
    "                                   get_rule_parameters)"
   ]
  },
  {
   "cell_type": "code",
   "execution_count": 2,
   "metadata": {},
   "outputs": [],
   "source": [
    "LOCAL_TOKEN = True \n",
    "\n",
    "\n",
    "def allocate_forge_session(org, project):\n",
    "    config_path = \"./config.yaml\"\n",
    "    ENDPOINT = \"https://bbp.epfl.ch/nexus/v1\"  \n",
    "\n",
    "    if LOCAL_TOKEN: \n",
    "        with open('token.txt') as f:\n",
    "            TOKEN = f.read()\n",
    "    else: \n",
    "        TOKEN = getpass.getpass()\n",
    "        \n",
    "    searchendpoints = {\n",
    "        \"sparql\": {\n",
    "           \"endpoint\": \"https://bbp.epfl.ch/neurosciencegraph/data/views/aggreg-sp/dataset\"\n",
    "       }\n",
    "    }\n",
    "    \n",
    "    return KnowledgeGraphForge(\n",
    "        config_path,\n",
    "        endpoint=ENDPOINT,\n",
    "        token=TOKEN, \n",
    "        bucket=f\"{org}/{project}\", \n",
    "        searchendpoints=searchendpoints,\n",
    "        debug=True\n",
    "    )"
   ]
  },
  {
   "cell_type": "code",
   "execution_count": 3,
   "metadata": {},
   "outputs": [],
   "source": [
    "#                 ?id objectOfStudy.id $PathQueryParameter .\n",
    "\n",
    "q = {\n",
    "        \"type\": \"SparqlQuery\",\n",
    "        \"hasBody\": \n",
    "        \"\"\"\n",
    "            SELECT ?id ?br\n",
    "            WHERE { \n",
    "                ?id $whatever .\n",
    "                ?id nsg:brainLocation/nsg:brainRegion ?br .\n",
    "                }\n",
    "        \"\"\",\n",
    "        \"hasParameter\": [\n",
    "            {\n",
    "                \"type\": \"MultiPredicateObjectPair\",\n",
    "                \"description\": \"paths to the properties being checked\",\n",
    "                \"name\": \"whatever\"\n",
    "            },\n",
    "#             {\n",
    "#                 \"type\": \"uri\",\n",
    "#                 \"description\": \"some other passed param that should still exist\",\n",
    "#                 \"name\": \"PathQueryParameter\"\n",
    "#             },\n",
    "        ],\n",
    "        \"queryConfiguration\": {\n",
    "            \"sparlqlView\": {\n",
    "                \"id\": \"https://bbp.epfl.ch/neurosciencegraph/data/views/aggreg-sp/dataset\"\n",
    "            },\n",
    "            \"org\": \"bbp\",\n",
    "            \"project\": \"atlas\"\n",
    "        },\n",
    "        \"resultParameterMapping\": [\n",
    "            {\n",
    "                \"parameterName\": \"entityBr\",\n",
    "                \"path\": \"br\"\n",
    "            },\n",
    "            {\n",
    "                \"parameterName\": \"entity\",\n",
    "                \"path\": \"id\"\n",
    "            }\n",
    "        ]\n",
    "    }\n",
    "\n",
    "input_filters = {\n",
    "#     \"PathQueryParameter\": \"<http://bbp.epfl.ch/neurosciencegraph/taxonomies/objectsofstudy/singlecells>\",\n",
    "    \"whatever\": [\n",
    "        ((\"rdf:type\", \"path\"), (\"<https://neuroshapes.org/NeuronMorphology>\", \"uri\")), \n",
    "        ((\"contribution/agent\", \"path\"), (\"<https://bbp.epfl.ch/neurosciencegraph/data/7c47aa15-9fc6-42ec-9871-d233c9c29028>\", \"uri\"))\n",
    "    ]   \n",
    "}\n",
    "\n",
    "res = execute_query(allocate_forge_session, q, input_filters, last_query=True)"
   ]
  },
  {
   "cell_type": "code",
   "execution_count": 5,
   "metadata": {},
   "outputs": [
    {
     "data": {
      "text/plain": [
       "331"
      ]
     },
     "execution_count": 5,
     "metadata": {},
     "output_type": "execute_result"
    }
   ],
   "source": [
    "len(res)"
   ]
  }
 ],
 "metadata": {
  "kernelspec": {
   "display_name": "inference_test",
   "language": "python",
   "name": "inference_test"
  },
  "language_info": {
   "codemirror_mode": {
    "name": "ipython",
    "version": 3
   },
   "file_extension": ".py",
   "mimetype": "text/x-python",
   "name": "python",
   "nbconvert_exporter": "python",
   "pygments_lexer": "ipython3",
   "version": "3.7.4"
  }
 },
 "nbformat": 4,
 "nbformat_minor": 4
}
