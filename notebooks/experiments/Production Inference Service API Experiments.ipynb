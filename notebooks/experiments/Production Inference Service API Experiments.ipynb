{
 "cells": [
  {
   "cell_type": "code",
   "execution_count": 1,
   "id": "ce2dc0ac",
   "metadata": {},
   "outputs": [],
   "source": [
    "%load_ext autoreload\n",
    "%autoreload 2"
   ]
  },
  {
   "cell_type": "markdown",
   "id": "c376eb05",
   "metadata": {},
   "source": [
    "## API endpoints:\n",
    "\n",
    "\n",
    "I. Endpoints for fetching rules\n",
    "\n",
    "- Give me all the rules\n",
    "- Give me rules for the datatypes X,Y,Z\n",
    "- Give me rules applicable to the datatypes X,Y,Z given input filters\n",
    "\n",
    "They return:\n",
    "- a list of rules with their meta-data: id/name/desc (premise/query ?)\n",
    "\n",
    "---------------------\n",
    "\n",
    "II. Endpoinds for applying rules\n",
    "\n",
    "- Apply rule A given input filters\n",
    "- Apply rules A,B,C given input filters (?)\n",
    "\n",
    "They return:\n",
    "- a list of result resource IDs or full payloads (ids passed to ES views by atals?)\n",
    "\n",
    "\n",
    "ISSUES TO RESOLVE:\n",
    "\n",
    "- Convention for the filters: how atlas knows which params need to be specified for different rules\n",
    "- Permission:\n",
    "    - fetching rules: service account that can always access the project with rules.\n",
    "    - applying rules: we need to get USER token from atlas and use it when applying the rules. handle access denied in some sessions.\n",
    "- Service sessions for storing forge sessions for different users.\n",
    "- Pagination of results."
   ]
  },
  {
   "cell_type": "code",
   "execution_count": 2,
   "id": "44e27e1c",
   "metadata": {},
   "outputs": [],
   "source": [
    "import getpass\n",
    "\n",
    "from kgforge.core import KnowledgeGraphForge\n",
    "\n",
    "from inference_tools.utils import fetch_rules, check_premises, apply_rule, get_rule_parameters"
   ]
  },
  {
   "cell_type": "code",
   "execution_count": 3,
   "id": "e0ea9ffa",
   "metadata": {},
   "outputs": [],
   "source": [
    "ENDPOINT = \"https://bbp.epfl.ch/nexus/v1\""
   ]
  },
  {
   "cell_type": "code",
   "execution_count": 4,
   "id": "ed77dfaa",
   "metadata": {},
   "outputs": [
    {
     "name": "stdout",
     "output_type": "stream",
     "text": [
      "········\n"
     ]
    }
   ],
   "source": [
    "TOKEN = getpass.getpass()"
   ]
  },
  {
   "cell_type": "code",
   "execution_count": 5,
   "id": "65f04838",
   "metadata": {},
   "outputs": [],
   "source": [
    "RULES_ORG = \"bbp\"\n",
    "RULES_PROJECT = \"inference-rules\"\n",
    "RULES_VIEW = \"https://bbp.epfl.ch/neurosciencegraph/data/rule-view\""
   ]
  },
  {
   "cell_type": "code",
   "execution_count": 6,
   "id": "c4716aed",
   "metadata": {},
   "outputs": [],
   "source": [
    "rules_forge = KnowledgeGraphForge(\n",
    "    \"../../configs/new-forge-config.yaml\",\n",
    "    endpoint=ENDPOINT,\n",
    "    token=TOKEN, \n",
    "    bucket=f\"{RULES_ORG}/{RULES_PROJECT}\")"
   ]
  },
  {
   "cell_type": "code",
   "execution_count": 7,
   "id": "5336a805",
   "metadata": {},
   "outputs": [],
   "source": [
    "# This could be replaced by any util kg-inference-api implements to handle user forge sessions\n",
    "FORGE_SESSIONS = {}\n",
    "def allocate_forge_session(org, project):\n",
    "    if (org, project) not in FORGE_SESSIONS:\n",
    "        session = KnowledgeGraphForge(\n",
    "            \"../../configs/new-forge-config.yaml\",\n",
    "            endpoint=ENDPOINT,\n",
    "            token=TOKEN, \n",
    "            bucket=f\"{org}/{project}\")\n",
    "        FORGE_SESSIONS[(org, project)] = session\n",
    "    return FORGE_SESSIONS[(org, project)]"
   ]
  },
  {
   "cell_type": "markdown",
   "id": "4155f7ff",
   "metadata": {},
   "source": [
    "# Fetch rules"
   ]
  },
  {
   "cell_type": "markdown",
   "id": "9bda88ad",
   "metadata": {},
   "source": [
    "1. Fetch all the rules"
   ]
  },
  {
   "cell_type": "code",
   "execution_count": 9,
   "id": "2db4dd11",
   "metadata": {},
   "outputs": [
    {
     "name": "stdout",
     "output_type": "stream",
     "text": [
      "Name:  All-aspect morphology recommendation\n",
      "Desc:  Get closest morphologies according to their location and shape\n",
      "Target resource type:  NeuronMorphology\n",
      "Input parameters: \n",
      "\t TargetResourceParameter\n",
      "\t\t {'@type': 'uri', 'description': 'URI of the similarity search target entity.', 'name': 'TargetResourceParameter'}\n",
      "\t IgnoreModelsParameter\n",
      "\t\t {'@type': 'list', 'description': 'List of URIs of similarity models to ignore.', 'name': 'IgnoreModelsParameter', 'optional': True}\n",
      "\n",
      "Name:  Location-based morphology recommendation\n",
      "Desc:  Get closest morphologies according to their location given by: coordinates, brain region embedding (ontology-based), axon/dendrite co-projection.\n",
      "Target resource type:  NeuronMorphology\n",
      "Input parameters: \n",
      "\t TargetResourceParameter\n",
      "\t\t {'@type': 'uri', 'description': 'URI of the similarity search target entity.', 'name': 'TargetResourceParameter'}\n",
      "\t IgnoreModelsParameter\n",
      "\t\t {'@type': 'list', 'description': 'List of URIs of similarity models to ignore.', 'name': 'IgnoreModelsParameter', 'optional': True}\n",
      "\n",
      "Name:  Shape-based morphology recommendation\n",
      "Desc:  Get closest morphologies according to neurite features and TMD-based vectorization of persistence diagrams\n",
      "Target resource type:  NeuronMorphology\n",
      "Input parameters: \n",
      "\t TargetResourceParameter\n",
      "\t\t {'@type': 'uri', 'description': 'URI of the similarity search target entity.', 'name': 'TargetResourceParameter'}\n",
      "\t IgnoreModelsParameter\n",
      "\t\t {'@type': 'list', 'description': 'List of URIs of similarity models to ignore.', 'name': 'IgnoreModelsParameter', 'optional': True}\n",
      "\n",
      "Name:  Simulation Trace generalization for cortical PCs\n",
      "Desc:  Collect smulation traces belonging to PCs from other cortical regions\n",
      "Target resource type:  Trace\n",
      "Input parameters: \n",
      "\t BrainRegionQueryParameter\n",
      "\t\t {'@type': 'uri', 'description': 'URI of the query brain region', 'name': 'BrainRegionQueryParameter'}\n",
      "\t MTypeQueryParameter\n",
      "\t\t {'@type': 'uri', 'description': 'URI of the query MType', 'name': 'MTypeQueryParameter'}\n",
      "\t acceptableBrainRegions\n",
      "\t\t {'@type': 'uri_list', 'description': 'List of acceptable brain regions', 'name': 'acceptableBrainRegions'}\n",
      "\n"
     ]
    }
   ],
   "source": [
    "rules = fetch_rules(rules_forge, RULES_VIEW)\n",
    "for r in rules:\n",
    "    print(\"Name: \", r[\"name\"])\n",
    "    print(\"Desc: \", r[\"description\"])\n",
    "    print(\"Target resource type: \", r[\"targetResourceType\"])\n",
    "    params = get_rule_parameters(r)\n",
    "    print(\"Input parameters: \")\n",
    "    for name, payload in params.items():\n",
    "        print(\"\\t\", name)\n",
    "        print(\"\\t\\t\", payload)\n",
    "    print()"
   ]
  },
  {
   "cell_type": "markdown",
   "id": "4c587654",
   "metadata": {},
   "source": [
    "2. Fetch rules for a particular data type"
   ]
  },
  {
   "cell_type": "code",
   "execution_count": 10,
   "id": "fcad9aa3",
   "metadata": {},
   "outputs": [
    {
     "name": "stdout",
     "output_type": "stream",
     "text": [
      "Name:  All-aspect morphology recommendation\n",
      "Desc:  Get closest morphologies according to their location and shape\n",
      "Target resource type:  NeuronMorphology\n",
      "Input parameters: \n",
      "\t TargetResourceParameter\n",
      "\t\t {'@type': 'uri', 'description': 'URI of the similarity search target entity.', 'name': 'TargetResourceParameter'}\n",
      "\t IgnoreModelsParameter\n",
      "\t\t {'@type': 'list', 'description': 'List of URIs of similarity models to ignore.', 'name': 'IgnoreModelsParameter', 'optional': True}\n",
      "\n",
      "Name:  Location-based morphology recommendation\n",
      "Desc:  Get closest morphologies according to their location given by: coordinates, brain region embedding (ontology-based), axon/dendrite co-projection.\n",
      "Target resource type:  NeuronMorphology\n",
      "Input parameters: \n",
      "\t TargetResourceParameter\n",
      "\t\t {'@type': 'uri', 'description': 'URI of the similarity search target entity.', 'name': 'TargetResourceParameter'}\n",
      "\t IgnoreModelsParameter\n",
      "\t\t {'@type': 'list', 'description': 'List of URIs of similarity models to ignore.', 'name': 'IgnoreModelsParameter', 'optional': True}\n",
      "\n",
      "Name:  Shape-based morphology recommendation\n",
      "Desc:  Get closest morphologies according to neurite features and TMD-based vectorization of persistence diagrams\n",
      "Target resource type:  NeuronMorphology\n",
      "Input parameters: \n",
      "\t TargetResourceParameter\n",
      "\t\t {'@type': 'uri', 'description': 'URI of the similarity search target entity.', 'name': 'TargetResourceParameter'}\n",
      "\t IgnoreModelsParameter\n",
      "\t\t {'@type': 'list', 'description': 'List of URIs of similarity models to ignore.', 'name': 'IgnoreModelsParameter', 'optional': True}\n",
      "\n"
     ]
    }
   ],
   "source": [
    "morph_rules = fetch_rules(rules_forge, RULES_VIEW, resource_types=[\"NeuronMorphology\"])\n",
    "for r in morph_rules:\n",
    "#     print(r)\n",
    "    print(\"Name: \", r[\"name\"])\n",
    "    print(\"Desc: \", r[\"description\"])\n",
    "    print(\"Target resource type: \", r[\"targetResourceType\"])\n",
    "    params = get_rule_parameters(r)\n",
    "    print(\"Input parameters: \")\n",
    "    for name, payload in params.items():\n",
    "        print(\"\\t\", name)\n",
    "        print(\"\\t\\t\", payload)\n",
    "    print()"
   ]
  },
  {
   "cell_type": "markdown",
   "id": "90bdc206",
   "metadata": {},
   "source": [
    "# Check premises of rules (find rules applicable to input filters)"
   ]
  },
  {
   "cell_type": "code",
   "execution_count": 18,
   "id": "ba425b34",
   "metadata": {},
   "outputs": [],
   "source": [
    "input_filters = {\n",
    "    \"TargetResourceParameter\": \"https://bbp.epfl.ch/neurosciencegraph/data/neuronmorphologies/85a140b6-8495-4838-9e4f-e347b2a7838f\"\n",
    "}"
   ]
  },
  {
   "cell_type": "markdown",
   "id": "891eedc3",
   "metadata": {},
   "source": [
    "If premise is satified given the input filters, the rule is applicable."
   ]
  },
  {
   "cell_type": "code",
   "execution_count": 19,
   "id": "420f77e7",
   "metadata": {
    "scrolled": true
   },
   "outputs": [
    {
     "name": "stdout",
     "output_type": "stream",
     "text": [
      "All-aspect morphology recommendation\n",
      "\t-> Input filters:\n",
      "\t\tPremise satisfied:  True\n",
      "Location-based morphology recommendation\n",
      "\t-> Input filters:\n",
      "\t\tPremise satisfied:  True\n",
      "Shape-based morphology recommendation\n",
      "\t-> Input filters:\n",
      "\t\tPremise satisfied:  True\n"
     ]
    }
   ],
   "source": [
    "for rule in morph_rules:\n",
    "    print(rule[\"name\"])\n",
    "    print(\"\\t-> Input filters:\")\n",
    "    print(\"\\t\\tPremise satisfied: \", check_premises(allocate_forge_session, rule, input_filters))"
   ]
  },
  {
   "cell_type": "markdown",
   "id": "a6bef398",
   "metadata": {},
   "source": [
    "# Excecute inference\n",
    "\n",
    "Rule application returns a collection of resources to display in the atlas"
   ]
  },
  {
   "cell_type": "markdown",
   "id": "99f40aa5",
   "metadata": {},
   "source": [
    "By default the premise is checked again when the rule is applied"
   ]
  },
  {
   "cell_type": "code",
   "execution_count": 20,
   "id": "9cef972e",
   "metadata": {
    "scrolled": false
   },
   "outputs": [
    {
     "name": "stdout",
     "output_type": "stream",
     "text": [
      "All-aspect morphology recommendation\n",
      "\t Results:\n",
      "\t\t {'id': 'https://bbp.epfl.ch/neurosciencegraph/data/neuronmorphologies/5c5d6a1a-9102-445a-8d37-aa4e6f8acb88'}\n",
      "\t\t {'id': 'https://bbp.epfl.ch/neurosciencegraph/data/neuronmorphologies/2d25225f-cdf5-4c55-9f3c-b4f4c71ed1e5'}\n",
      "\t\t {'id': 'https://bbp.epfl.ch/neurosciencegraph/data/neuronmorphologies/15c8a4c5-807c-4512-bc03-15b7ff987831'}\n",
      "\t\t {'id': 'https://bbp.epfl.ch/neurosciencegraph/data/neuronmorphologies/d96779ca-fa70-490b-af1a-de1f8cc21d3b'}\n",
      "\t\t {'id': 'https://bbp.epfl.ch/neurosciencegraph/data/neuronmorphologies/e7634847-3903-4d18-a94e-fc8fb2be3f7c'}\n",
      "\t\t {'id': 'https://bbp.epfl.ch/neurosciencegraph/data/neuronmorphologies/9457c4e0-a4c5-4f3e-b535-bcb4874b53c6'}\n",
      "\t\t {'id': 'https://bbp.epfl.ch/neurosciencegraph/data/neuronmorphologies/518db742-56e6-433d-8201-a1754390636c'}\n",
      "\t\t {'id': 'https://bbp.epfl.ch/neurosciencegraph/data/neuronmorphologies/cf191ee6-3d54-4e5f-9444-3d8167d626ed'}\n",
      "\t\t {'id': 'https://bbp.epfl.ch/neurosciencegraph/data/neuronmorphologies/f65ee7ae-9d64-4c00-acbb-d54e5aa9274a'}\n",
      "\t\t {'id': 'https://bbp.epfl.ch/neurosciencegraph/data/neuronmorphologies/a1983469-d70a-4ff9-9d85-dad984b6b930'}\n",
      "\t\t {'id': 'https://bbp.epfl.ch/neurosciencegraph/data/neuronmorphologies/be1ec449-78d3-4368-95a5-0af932457591'}\n",
      "\t\t {'id': 'https://bbp.epfl.ch/neurosciencegraph/data/neuronmorphologies/bd769c05-edf8-4122-9212-25c7409a5d24'}\n",
      "\t\t {'id': 'https://bbp.epfl.ch/neurosciencegraph/data/neuronmorphologies/b23268cb-071c-47a7-8003-c2ede62080c0'}\n",
      "\t\t {'id': 'https://bbp.epfl.ch/neurosciencegraph/data/neuronmorphologies/d4d82091-9e50-47d5-97b8-3609578cfca7'}\n",
      "\t\t {'id': 'https://bbp.epfl.ch/neurosciencegraph/data/neuronmorphologies/fdadd146-1fb6-456d-9dc0-9fe27cb98f2b'}\n",
      "\t\t {'id': 'https://bbp.epfl.ch/neurosciencegraph/data/neuronmorphologies/cecf50bd-b563-45c5-8896-6ef0cef828d7'}\n",
      "\t\t {'id': 'https://bbp.epfl.ch/neurosciencegraph/data/neuronmorphologies/9959c647-8942-445d-b2f6-4acb511d62c9'}\n",
      "\t\t {'id': 'https://bbp.epfl.ch/neurosciencegraph/data/neuronmorphologies/9aef737b-fc60-4305-805c-cdde09c3937d'}\n",
      "\t\t {'id': 'https://bbp.epfl.ch/neurosciencegraph/data/neuronmorphologies/dbb4a43e-ff26-410b-9408-eab18005f06f'}\n",
      "\t\t {'id': 'https://bbp.epfl.ch/neurosciencegraph/data/neuronmorphologies/e3df8730-2e15-4b42-b1c1-496fc4f6bfbe'}\n",
      "\n",
      "Location-based morphology recommendation\n",
      "\t Results:\n",
      "\t\t {'id': 'https://bbp.epfl.ch/neurosciencegraph/data/neuronmorphologies/5c5d6a1a-9102-445a-8d37-aa4e6f8acb88'}\n",
      "\t\t {'id': 'https://bbp.epfl.ch/neurosciencegraph/data/neuronmorphologies/f65ee7ae-9d64-4c00-acbb-d54e5aa9274a'}\n",
      "\t\t {'id': 'https://bbp.epfl.ch/neurosciencegraph/data/neuronmorphologies/9457c4e0-a4c5-4f3e-b535-bcb4874b53c6'}\n",
      "\t\t {'id': 'https://bbp.epfl.ch/neurosciencegraph/data/neuronmorphologies/2d25225f-cdf5-4c55-9f3c-b4f4c71ed1e5'}\n",
      "\t\t {'id': 'https://bbp.epfl.ch/neurosciencegraph/data/neuronmorphologies/be1ec449-78d3-4368-95a5-0af932457591'}\n",
      "\t\t {'id': 'https://bbp.epfl.ch/neurosciencegraph/data/neuronmorphologies/b23268cb-071c-47a7-8003-c2ede62080c0'}\n",
      "\t\t {'id': 'https://bbp.epfl.ch/neurosciencegraph/data/neuronmorphologies/0a9f0c9c-7d05-497a-997b-ca3908e95fd5'}\n",
      "\t\t {'id': 'https://bbp.epfl.ch/neurosciencegraph/data/neuronmorphologies/d96779ca-fa70-490b-af1a-de1f8cc21d3b'}\n",
      "\t\t {'id': 'https://bbp.epfl.ch/neurosciencegraph/data/neuronmorphologies/cecf50bd-b563-45c5-8896-6ef0cef828d7'}\n",
      "\t\t {'id': 'https://bbp.epfl.ch/neurosciencegraph/data/neuronmorphologies/bd769c05-edf8-4122-9212-25c7409a5d24'}\n",
      "\t\t {'id': 'https://bbp.epfl.ch/neurosciencegraph/data/neuronmorphologies/8f6225e9-e6b3-4ab3-bf30-18e640eded17'}\n",
      "\t\t {'id': 'https://bbp.epfl.ch/neurosciencegraph/data/neuronmorphologies/518db742-56e6-433d-8201-a1754390636c'}\n",
      "\t\t {'id': 'https://bbp.epfl.ch/neurosciencegraph/data/neuronmorphologies/cf191ee6-3d54-4e5f-9444-3d8167d626ed'}\n",
      "\t\t {'id': 'https://bbp.epfl.ch/neurosciencegraph/data/neuronmorphologies/52f32d99-01a6-486b-9149-fccfc14f16f7'}\n",
      "\t\t {'id': 'https://bbp.epfl.ch/neurosciencegraph/data/neuronmorphologies/fdadd146-1fb6-456d-9dc0-9fe27cb98f2b'}\n",
      "\t\t {'id': 'https://bbp.epfl.ch/neurosciencegraph/data/neuronmorphologies/15c8a4c5-807c-4512-bc03-15b7ff987831'}\n",
      "\t\t {'id': 'https://bbp.epfl.ch/neurosciencegraph/data/neuronmorphologies/a2b89779-d9e4-4737-9d45-19f0b1b8a2ad'}\n",
      "\t\t {'id': 'https://bbp.epfl.ch/neurosciencegraph/data/neuronmorphologies/6f9053a6-5678-4812-8d16-05076b2431bb'}\n",
      "\t\t {'id': 'https://bbp.epfl.ch/neurosciencegraph/data/neuronmorphologies/ed3bfb7b-bf43-4e92-abed-e2ca1170c654'}\n",
      "\t\t {'id': 'https://bbp.epfl.ch/neurosciencegraph/data/neuronmorphologies/157b95bb-db08-4559-aa36-702928f8e423'}\n",
      "\n",
      "Shape-based morphology recommendation\n",
      "\t Results:\n",
      "\t\t {'id': 'https://bbp.epfl.ch/neurosciencegraph/data/neuronmorphologies/e7634847-3903-4d18-a94e-fc8fb2be3f7c'}\n",
      "\t\t {'id': 'https://bbp.epfl.ch/neurosciencegraph/data/neuronmorphologies/15c8a4c5-807c-4512-bc03-15b7ff987831'}\n",
      "\t\t {'id': 'https://bbp.epfl.ch/neurosciencegraph/data/neuronmorphologies/2d25225f-cdf5-4c55-9f3c-b4f4c71ed1e5'}\n",
      "\t\t {'id': 'https://bbp.epfl.ch/neurosciencegraph/data/neuronmorphologies/dbb4a43e-ff26-410b-9408-eab18005f06f'}\n",
      "\t\t {'id': 'https://bbp.epfl.ch/neurosciencegraph/data/neuronmorphologies/a1983469-d70a-4ff9-9d85-dad984b6b930'}\n",
      "\t\t {'id': 'https://bbp.epfl.ch/neurosciencegraph/data/neuronmorphologies/d4d82091-9e50-47d5-97b8-3609578cfca7'}\n",
      "\t\t {'id': 'https://bbp.epfl.ch/neurosciencegraph/data/neuronmorphologies/d96779ca-fa70-490b-af1a-de1f8cc21d3b'}\n",
      "\t\t {'id': 'https://bbp.epfl.ch/neurosciencegraph/data/neuronmorphologies/9959c647-8942-445d-b2f6-4acb511d62c9'}\n",
      "\t\t {'id': 'https://bbp.epfl.ch/neurosciencegraph/data/neuronmorphologies/d2cc0e77-753d-43ab-a6b8-5ee8a1347420'}\n",
      "\t\t {'id': 'https://bbp.epfl.ch/neurosciencegraph/data/neuronmorphologies/e3df8730-2e15-4b42-b1c1-496fc4f6bfbe'}\n",
      "\t\t {'id': 'https://bbp.epfl.ch/neurosciencegraph/data/neuronmorphologies/9aef737b-fc60-4305-805c-cdde09c3937d'}\n",
      "\t\t {'id': 'https://bbp.epfl.ch/neurosciencegraph/data/neuronmorphologies/518db742-56e6-433d-8201-a1754390636c'}\n",
      "\t\t {'id': 'https://bbp.epfl.ch/neurosciencegraph/data/neuronmorphologies/e6a03b3c-f068-42cf-ba71-398cfd3e5a06'}\n",
      "\t\t {'id': 'https://bbp.epfl.ch/neurosciencegraph/data/neuronmorphologies/9457c4e0-a4c5-4f3e-b535-bcb4874b53c6'}\n",
      "\t\t {'id': 'https://bbp.epfl.ch/neurosciencegraph/data/neuronmorphologies/cf191ee6-3d54-4e5f-9444-3d8167d626ed'}\n",
      "\t\t {'id': 'https://bbp.epfl.ch/neurosciencegraph/data/neuronmorphologies/f38c6885-2de1-44c8-9c4a-12ce429a6538'}\n",
      "\t\t {'id': 'https://bbp.epfl.ch/neurosciencegraph/data/neuronmorphologies/550a15d5-3110-49aa-a457-4d135bbcfc90'}\n",
      "\t\t {'id': 'https://bbp.epfl.ch/neurosciencegraph/data/neuronmorphologies/cc565e70-62ba-4b61-aa07-d310bffc05ed'}\n",
      "\t\t {'id': 'https://bbp.epfl.ch/neurosciencegraph/data/neuronmorphologies/82d0942d-570c-49d1-89a6-143f883b9c4a'}\n",
      "\t\t {'id': 'https://bbp.epfl.ch/neurosciencegraph/data/neuronmorphologies/1b364476-4cdc-4331-90d4-cda24dbd9c4f'}\n",
      "\n"
     ]
    }
   ],
   "source": [
    "for rule in morph_rules:\n",
    "    print(rule[\"name\"])\n",
    "    print(\"\\t Results:\")\n",
    "    results = apply_rule(allocate_forge_session, rule, input_filters)\n",
    "    for r in results:\n",
    "        print(\"\\t\\t\", r)\n",
    "    print()"
   ]
  }
 ],
 "metadata": {
  "kernelspec": {
   "display_name": "inference",
   "language": "python",
   "name": "inference"
  },
  "language_info": {
   "codemirror_mode": {
    "name": "ipython",
    "version": 3
   },
   "file_extension": ".py",
   "mimetype": "text/x-python",
   "name": "python",
   "nbconvert_exporter": "python",
   "pygments_lexer": "ipython3",
   "version": "3.8.12"
  }
 },
 "nbformat": 4,
 "nbformat_minor": 5
}
