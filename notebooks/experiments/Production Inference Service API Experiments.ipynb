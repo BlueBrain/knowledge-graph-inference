{
 "cells": [
  {
   "cell_type": "code",
   "execution_count": 1,
   "metadata": {},
   "outputs": [],
   "source": [
    "%load_ext autoreload\n",
    "%autoreload 2"
   ]
  },
  {
   "cell_type": "markdown",
   "metadata": {},
   "source": [
    "## API endpoints:\n",
    "\n",
    "\n",
    "I. Endpoints for fetching rules\n",
    "\n",
    "- Give me all the rules\n",
    "- Give me rules for the datatypes X,Y,Z\n",
    "- Give me rules applicable to the datatypes X,Y,Z given input filters\n",
    "\n",
    "They return:\n",
    "- a list of rules with their meta-data: id/name/desc (premise/query ?)\n",
    "\n",
    "---------------------\n",
    "\n",
    "II. Endpoinds for applying rules\n",
    "\n",
    "- Apply rule A given input filters\n",
    "- Apply rules A,B,C given input filters (?)\n",
    "\n",
    "They return:\n",
    "- a list of result resource IDs or full payloads (ids passed to ES views by atals?)\n",
    "\n",
    "\n",
    "ISSUES TO RESOLVE:\n",
    "\n",
    "- Convention for the filters: how atlas knows which params need to be specified for different rules\n",
    "- Permission:\n",
    "    - fetching rules: service account that can always access the project with rules.\n",
    "    - applying rules: we need to get USER token from atlas and use it when applying the rules. handle access denied in some sessions.\n",
    "- Service sessions for storing forge sessions for different users.\n",
    "- Pagination of results."
   ]
  },
  {
   "cell_type": "code",
   "execution_count": 2,
   "metadata": {},
   "outputs": [],
   "source": [
    "import getpass\n",
    "\n",
    "from kgforge.core import KnowledgeGraphForge\n",
    "\n",
    "from inference_tools.utils import fetch_rules, check_premises, apply_rule, get_rule_parameters"
   ]
  },
  {
   "cell_type": "code",
   "execution_count": 3,
   "metadata": {},
   "outputs": [],
   "source": [
    "ENDPOINT = \"https://bbp.epfl.ch/nexus/v1\""
   ]
  },
  {
   "cell_type": "code",
   "execution_count": 7,
   "metadata": {},
   "outputs": [],
   "source": [
    "TOKEN = getpass.getpass()"
   ]
  },
  {
   "cell_type": "code",
   "execution_count": 8,
   "metadata": {},
   "outputs": [],
   "source": [
    "RULES_ORG = \"bbp\"\n",
    "RULES_PROJECT = \"inference-rules\"\n",
    "RULES_VIEW = \"https://bbp.epfl.ch/neurosciencegraph/data/rule-view\""
   ]
  },
  {
   "cell_type": "code",
   "execution_count": 9,
   "metadata": {},
   "outputs": [],
   "source": [
    "rules_forge = KnowledgeGraphForge(\n",
    "    \"../../configs/new-forge-config.yaml\",\n",
    "    endpoint=ENDPOINT,\n",
    "    token=TOKEN, \n",
    "    bucket=f\"{RULES_ORG}/{RULES_PROJECT}\")"
   ]
  },
  {
   "cell_type": "code",
   "execution_count": 10,
   "metadata": {},
   "outputs": [],
   "source": [
    "# This could be replaced by any util kg-inference-api implements to handle user forge sessions\n",
    "FORGE_SESSIONS = {}\n",
    "def allocate_forge_session(org, project):\n",
    "    if (org, project) not in FORGE_SESSIONS:\n",
    "        session = KnowledgeGraphForge(\n",
    "            \"../../configs/new-forge-config.yaml\",\n",
    "            endpoint=ENDPOINT,\n",
    "            token=TOKEN, \n",
    "            bucket=f\"{org}/{project}\")\n",
    "        FORGE_SESSIONS[(org, project)] = session\n",
    "    return FORGE_SESSIONS[(org, project)]"
   ]
  },
  {
   "cell_type": "markdown",
   "metadata": {},
   "source": [
    "# Fetch rules"
   ]
  },
  {
   "cell_type": "markdown",
   "metadata": {},
   "source": [
    "1. Fetch all the rules"
   ]
  },
  {
   "cell_type": "code",
   "execution_count": 14,
   "metadata": {},
   "outputs": [
    {
     "name": "stdout",
     "output_type": "stream",
     "text": [
      "Name:  Shape-based morphology recommendation\n",
      "Desc:  Get closest morphologies according to neurite features and TMD-based vectorization of persistence diagrams\n",
      "Target resource type:  NeuronMorphology\n",
      "Input parameters: \n",
      "\t TargetResourceParameter\n",
      "\t\t {'type': 'uri', 'description': 'URI of the similarity search target entity.', 'name': 'TargetResourceParameter'}\n",
      "\t IgnoreModelsParameter\n",
      "\t\t {'type': 'list', 'description': 'List of URIs of similarity models to ignore.', 'name': 'IgnoreModelsParameter', 'optional': True}\n",
      "\n",
      "Name:  Location-based morphology recommendation\n",
      "Desc:  Get closest morphologies according to their location given by: coordinates, brain region embedding (ontology-based), axon/dendrite co-projection.\n",
      "Target resource type:  NeuronMorphology\n",
      "Input parameters: \n",
      "\t TargetResourceParameter\n",
      "\t\t {'type': 'uri', 'description': 'URI of the similarity search target entity.', 'name': 'TargetResourceParameter'}\n",
      "\t IgnoreModelsParameter\n",
      "\t\t {'type': 'list', 'description': 'List of URIs of similarity models to ignore.', 'name': 'IgnoreModelsParameter', 'optional': True}\n",
      "\n",
      "Name:  All-aspect morphology recommendation\n",
      "Desc:  Get closest morphologies according to their location and shape\n",
      "Target resource type:  NeuronMorphology\n",
      "Input parameters: \n",
      "\t TargetResourceParameter\n",
      "\t\t {'type': 'uri', 'description': 'URI of the similarity search target entity.', 'name': 'TargetResourceParameter'}\n",
      "\t IgnoreModelsParameter\n",
      "\t\t {'type': 'list', 'description': 'List of URIs of similarity models to ignore.', 'name': 'IgnoreModelsParameter', 'optional': True}\n",
      "\n",
      "Name:  SSCX Trace generalization for cortical PCs\n",
      "Desc:  Collect traces belonging to PCs from SSCX regions\n",
      "Target resource type:  Trace\n",
      "Input parameters: \n",
      "\t BrainRegionQueryParameter\n",
      "\t\t {'type': 'uri', 'description': 'URI of the query brain region', 'name': 'BrainRegionQueryParameter'}\n",
      "\t MTypeQueryParameter\n",
      "\t\t {'type': 'uri', 'description': 'URI of the query MType', 'name': 'MTypeQueryParameter'}\n",
      "\n",
      "Name:  SSCX Simulation Trace generalization for cortical PCs\n",
      "Desc:  Collect smulation traces belonging to PCs from other cortical regions\n",
      "Target resource type:  Trace\n",
      "Input parameters: \n",
      "\t BrainRegionQueryParameter\n",
      "\t\t {'type': 'uri', 'description': 'URI of the query brain region', 'name': 'BrainRegionQueryParameter'}\n",
      "\t MTypeQueryParameter\n",
      "\t\t {'type': 'uri', 'description': 'URI of the query MType', 'name': 'MTypeQueryParameter'}\n",
      "\t acceptableBrainRegions\n",
      "\t\t {'type': 'uri_list', 'description': 'List of acceptable brain regions', 'name': 'acceptableBrainRegions'}\n",
      "\n"
     ]
    }
   ],
   "source": [
    "rules = fetch_rules(rules_forge, RULES_VIEW)\n",
    "for i, r in enumerate(rules):\n",
    "    if r[\"name\"] == \"Generalise to subClasses\":\n",
    "        rules.pop(i)\n",
    "        continue\n",
    "    print(\"Name: \", r[\"name\"])\n",
    "    print(\"Desc: \", r[\"description\"])\n",
    "    print(\"Target resource type: \", r[\"targetResourceType\"])\n",
    "    params = get_rule_parameters(r)\n",
    "    print(\"Input parameters: \")\n",
    "    for name, payload in params.items():\n",
    "        print(\"\\t\", name)\n",
    "        print(\"\\t\\t\", payload)\n",
    "    print()"
   ]
  },
  {
   "cell_type": "markdown",
   "metadata": {},
   "source": [
    "2. Fetch rules for a particular data type"
   ]
  },
  {
   "cell_type": "code",
   "execution_count": 15,
   "metadata": {},
   "outputs": [
    {
     "name": "stdout",
     "output_type": "stream",
     "text": [
      "Name:  Shape-based morphology recommendation\n",
      "Desc:  Get closest morphologies according to neurite features and TMD-based vectorization of persistence diagrams\n",
      "Target resource type:  NeuronMorphology\n",
      "Input parameters: \n",
      "\t TargetResourceParameter\n",
      "\t\t {'type': 'uri', 'description': 'URI of the similarity search target entity.', 'name': 'TargetResourceParameter'}\n",
      "\t IgnoreModelsParameter\n",
      "\t\t {'type': 'list', 'description': 'List of URIs of similarity models to ignore.', 'name': 'IgnoreModelsParameter', 'optional': True}\n",
      "\n",
      "Name:  Location-based morphology recommendation\n",
      "Desc:  Get closest morphologies according to their location given by: coordinates, brain region embedding (ontology-based), axon/dendrite co-projection.\n",
      "Target resource type:  NeuronMorphology\n",
      "Input parameters: \n",
      "\t TargetResourceParameter\n",
      "\t\t {'type': 'uri', 'description': 'URI of the similarity search target entity.', 'name': 'TargetResourceParameter'}\n",
      "\t IgnoreModelsParameter\n",
      "\t\t {'type': 'list', 'description': 'List of URIs of similarity models to ignore.', 'name': 'IgnoreModelsParameter', 'optional': True}\n",
      "\n",
      "Name:  All-aspect morphology recommendation\n",
      "Desc:  Get closest morphologies according to their location and shape\n",
      "Target resource type:  NeuronMorphology\n",
      "Input parameters: \n",
      "\t TargetResourceParameter\n",
      "\t\t {'type': 'uri', 'description': 'URI of the similarity search target entity.', 'name': 'TargetResourceParameter'}\n",
      "\t IgnoreModelsParameter\n",
      "\t\t {'type': 'list', 'description': 'List of URIs of similarity models to ignore.', 'name': 'IgnoreModelsParameter', 'optional': True}\n",
      "\n"
     ]
    }
   ],
   "source": [
    "morph_rules = fetch_rules(rules_forge, RULES_VIEW, resource_types=[\"NeuronMorphology\"])\n",
    "for r in morph_rules:\n",
    "#     print(r)\n",
    "    print(\"Name: \", r[\"name\"])\n",
    "    print(\"Desc: \", r[\"description\"])\n",
    "    print(\"Target resource type: \", r[\"targetResourceType\"])\n",
    "    params = get_rule_parameters(r)\n",
    "    print(\"Input parameters: \")\n",
    "    for name, payload in params.items():\n",
    "        print(\"\\t\", name)\n",
    "        print(\"\\t\\t\", payload)\n",
    "    print()"
   ]
  },
  {
   "cell_type": "markdown",
   "metadata": {},
   "source": [
    "# Check premises of rules (find rules applicable to input filters)"
   ]
  },
  {
   "cell_type": "code",
   "execution_count": 16,
   "metadata": {},
   "outputs": [],
   "source": [
    "input_filters = {\n",
    "    \"TargetResourceParameter\": \"https://bbp.epfl.ch/neurosciencegraph/data/neuronmorphologies/85a140b6-8495-4838-9e4f-e347b2a7838f\"\n",
    "}"
   ]
  },
  {
   "cell_type": "markdown",
   "metadata": {},
   "source": [
    "If premise is satified given the input filters, the rule is applicable."
   ]
  },
  {
   "cell_type": "code",
   "execution_count": 17,
   "metadata": {
    "scrolled": true
   },
   "outputs": [
    {
     "name": "stdout",
     "output_type": "stream",
     "text": [
      "Shape-based morphology recommendation\n",
      "\t-> Input filters:\n",
      "\t\tPremise satisfied:  True\n",
      "Location-based morphology recommendation\n",
      "\t-> Input filters:\n",
      "\t\tPremise satisfied:  True\n",
      "All-aspect morphology recommendation\n",
      "\t-> Input filters:\n",
      "\t\tPremise satisfied:  True\n"
     ]
    }
   ],
   "source": [
    "for rule in morph_rules:\n",
    "    print(rule[\"name\"])\n",
    "    print(\"\\t-> Input filters:\")\n",
    "    print(\"\\t\\tPremise satisfied: \", check_premises(allocate_forge_session, rule, input_filters))"
   ]
  },
  {
   "cell_type": "markdown",
   "metadata": {},
   "source": [
    "# Excecute inference\n",
    "\n",
    "Rule application returns a collection of resources to display in the atlas"
   ]
  },
  {
   "cell_type": "markdown",
   "metadata": {},
   "source": [
    "By default the premise is checked again when the rule is applied"
   ]
  },
  {
   "cell_type": "code",
   "execution_count": 18,
   "metadata": {
    "scrolled": true
   },
   "outputs": [
    {
     "name": "stdout",
     "output_type": "stream",
     "text": [
      "Shape-based morphology recommendation\n",
      "\t Results:\n",
      "\t\t {'id': 'https://bbp.epfl.ch/neurosciencegraph/data/neuronmorphologies/e7634847-3903-4d18-a94e-fc8fb2be3f7c'}\n",
      "\t\t {'id': 'https://bbp.epfl.ch/neurosciencegraph/data/neuronmorphologies/15c8a4c5-807c-4512-bc03-15b7ff987831'}\n",
      "\t\t {'id': 'https://bbp.epfl.ch/neurosciencegraph/data/neuronmorphologies/2d25225f-cdf5-4c55-9f3c-b4f4c71ed1e5'}\n",
      "\t\t {'id': 'https://bbp.epfl.ch/neurosciencegraph/data/neuronmorphologies/dbb4a43e-ff26-410b-9408-eab18005f06f'}\n",
      "\t\t {'id': 'https://bbp.epfl.ch/neurosciencegraph/data/neuronmorphologies/a1983469-d70a-4ff9-9d85-dad984b6b930'}\n",
      "\t\t {'id': 'https://bbp.epfl.ch/neurosciencegraph/data/neuronmorphologies/d4d82091-9e50-47d5-97b8-3609578cfca7'}\n",
      "\t\t {'id': 'https://bbp.epfl.ch/neurosciencegraph/data/neuronmorphologies/d96779ca-fa70-490b-af1a-de1f8cc21d3b'}\n",
      "\t\t {'id': 'https://bbp.epfl.ch/neurosciencegraph/data/neuronmorphologies/9959c647-8942-445d-b2f6-4acb511d62c9'}\n",
      "\t\t {'id': 'https://bbp.epfl.ch/neurosciencegraph/data/neuronmorphologies/d2cc0e77-753d-43ab-a6b8-5ee8a1347420'}\n",
      "\t\t {'id': 'https://bbp.epfl.ch/neurosciencegraph/data/neuronmorphologies/e3df8730-2e15-4b42-b1c1-496fc4f6bfbe'}\n",
      "\t\t {'id': 'https://bbp.epfl.ch/neurosciencegraph/data/neuronmorphologies/9aef737b-fc60-4305-805c-cdde09c3937d'}\n",
      "\t\t {'id': 'https://bbp.epfl.ch/neurosciencegraph/data/neuronmorphologies/518db742-56e6-433d-8201-a1754390636c'}\n",
      "\t\t {'id': 'https://bbp.epfl.ch/neurosciencegraph/data/neuronmorphologies/e6a03b3c-f068-42cf-ba71-398cfd3e5a06'}\n",
      "\t\t {'id': 'https://bbp.epfl.ch/neurosciencegraph/data/neuronmorphologies/9457c4e0-a4c5-4f3e-b535-bcb4874b53c6'}\n",
      "\t\t {'id': 'https://bbp.epfl.ch/neurosciencegraph/data/neuronmorphologies/cf191ee6-3d54-4e5f-9444-3d8167d626ed'}\n",
      "\t\t {'id': 'https://bbp.epfl.ch/neurosciencegraph/data/neuronmorphologies/f38c6885-2de1-44c8-9c4a-12ce429a6538'}\n",
      "\t\t {'id': 'https://bbp.epfl.ch/neurosciencegraph/data/neuronmorphologies/550a15d5-3110-49aa-a457-4d135bbcfc90'}\n",
      "\t\t {'id': 'https://bbp.epfl.ch/neurosciencegraph/data/neuronmorphologies/cc565e70-62ba-4b61-aa07-d310bffc05ed'}\n",
      "\t\t {'id': 'https://bbp.epfl.ch/neurosciencegraph/data/neuronmorphologies/82d0942d-570c-49d1-89a6-143f883b9c4a'}\n",
      "\t\t {'id': 'https://bbp.epfl.ch/neurosciencegraph/data/neuronmorphologies/1b364476-4cdc-4331-90d4-cda24dbd9c4f'}\n",
      "\n",
      "Location-based morphology recommendation\n",
      "\t Results:\n",
      "\t\t {'id': 'https://bbp.epfl.ch/neurosciencegraph/data/neuronmorphologies/5c5d6a1a-9102-445a-8d37-aa4e6f8acb88'}\n",
      "\t\t {'id': 'https://bbp.epfl.ch/neurosciencegraph/data/neuronmorphologies/f65ee7ae-9d64-4c00-acbb-d54e5aa9274a'}\n",
      "\t\t {'id': 'https://bbp.epfl.ch/neurosciencegraph/data/neuronmorphologies/9457c4e0-a4c5-4f3e-b535-bcb4874b53c6'}\n",
      "\t\t {'id': 'https://bbp.epfl.ch/neurosciencegraph/data/neuronmorphologies/2d25225f-cdf5-4c55-9f3c-b4f4c71ed1e5'}\n",
      "\t\t {'id': 'https://bbp.epfl.ch/neurosciencegraph/data/neuronmorphologies/be1ec449-78d3-4368-95a5-0af932457591'}\n",
      "\t\t {'id': 'https://bbp.epfl.ch/neurosciencegraph/data/neuronmorphologies/b23268cb-071c-47a7-8003-c2ede62080c0'}\n",
      "\t\t {'id': 'https://bbp.epfl.ch/neurosciencegraph/data/neuronmorphologies/0a9f0c9c-7d05-497a-997b-ca3908e95fd5'}\n",
      "\t\t {'id': 'https://bbp.epfl.ch/neurosciencegraph/data/neuronmorphologies/d96779ca-fa70-490b-af1a-de1f8cc21d3b'}\n",
      "\t\t {'id': 'https://bbp.epfl.ch/neurosciencegraph/data/neuronmorphologies/cecf50bd-b563-45c5-8896-6ef0cef828d7'}\n",
      "\t\t {'id': 'https://bbp.epfl.ch/neurosciencegraph/data/neuronmorphologies/bd769c05-edf8-4122-9212-25c7409a5d24'}\n",
      "\t\t {'id': 'https://bbp.epfl.ch/neurosciencegraph/data/neuronmorphologies/8f6225e9-e6b3-4ab3-bf30-18e640eded17'}\n",
      "\t\t {'id': 'https://bbp.epfl.ch/neurosciencegraph/data/neuronmorphologies/518db742-56e6-433d-8201-a1754390636c'}\n",
      "\t\t {'id': 'https://bbp.epfl.ch/neurosciencegraph/data/neuronmorphologies/cf191ee6-3d54-4e5f-9444-3d8167d626ed'}\n",
      "\t\t {'id': 'https://bbp.epfl.ch/neurosciencegraph/data/neuronmorphologies/52f32d99-01a6-486b-9149-fccfc14f16f7'}\n",
      "\t\t {'id': 'https://bbp.epfl.ch/neurosciencegraph/data/neuronmorphologies/fdadd146-1fb6-456d-9dc0-9fe27cb98f2b'}\n",
      "\t\t {'id': 'https://bbp.epfl.ch/neurosciencegraph/data/neuronmorphologies/15c8a4c5-807c-4512-bc03-15b7ff987831'}\n",
      "\t\t {'id': 'https://bbp.epfl.ch/neurosciencegraph/data/neuronmorphologies/a2b89779-d9e4-4737-9d45-19f0b1b8a2ad'}\n",
      "\t\t {'id': 'https://bbp.epfl.ch/neurosciencegraph/data/neuronmorphologies/6f9053a6-5678-4812-8d16-05076b2431bb'}\n",
      "\t\t {'id': 'https://bbp.epfl.ch/neurosciencegraph/data/neuronmorphologies/ed3bfb7b-bf43-4e92-abed-e2ca1170c654'}\n",
      "\t\t {'id': 'https://bbp.epfl.ch/neurosciencegraph/data/neuronmorphologies/157b95bb-db08-4559-aa36-702928f8e423'}\n",
      "\n",
      "All-aspect morphology recommendation\n",
      "\t Results:\n",
      "\t\t {'id': 'https://bbp.epfl.ch/neurosciencegraph/data/neuronmorphologies/5c5d6a1a-9102-445a-8d37-aa4e6f8acb88'}\n",
      "\t\t {'id': 'https://bbp.epfl.ch/neurosciencegraph/data/neuronmorphologies/2d25225f-cdf5-4c55-9f3c-b4f4c71ed1e5'}\n",
      "\t\t {'id': 'https://bbp.epfl.ch/neurosciencegraph/data/neuronmorphologies/15c8a4c5-807c-4512-bc03-15b7ff987831'}\n",
      "\t\t {'id': 'https://bbp.epfl.ch/neurosciencegraph/data/neuronmorphologies/d96779ca-fa70-490b-af1a-de1f8cc21d3b'}\n",
      "\t\t {'id': 'https://bbp.epfl.ch/neurosciencegraph/data/neuronmorphologies/e7634847-3903-4d18-a94e-fc8fb2be3f7c'}\n",
      "\t\t {'id': 'https://bbp.epfl.ch/neurosciencegraph/data/neuronmorphologies/9457c4e0-a4c5-4f3e-b535-bcb4874b53c6'}\n",
      "\t\t {'id': 'https://bbp.epfl.ch/neurosciencegraph/data/neuronmorphologies/518db742-56e6-433d-8201-a1754390636c'}\n",
      "\t\t {'id': 'https://bbp.epfl.ch/neurosciencegraph/data/neuronmorphologies/cf191ee6-3d54-4e5f-9444-3d8167d626ed'}\n",
      "\t\t {'id': 'https://bbp.epfl.ch/neurosciencegraph/data/neuronmorphologies/f65ee7ae-9d64-4c00-acbb-d54e5aa9274a'}\n",
      "\t\t {'id': 'https://bbp.epfl.ch/neurosciencegraph/data/neuronmorphologies/a1983469-d70a-4ff9-9d85-dad984b6b930'}\n",
      "\t\t {'id': 'https://bbp.epfl.ch/neurosciencegraph/data/neuronmorphologies/be1ec449-78d3-4368-95a5-0af932457591'}\n",
      "\t\t {'id': 'https://bbp.epfl.ch/neurosciencegraph/data/neuronmorphologies/bd769c05-edf8-4122-9212-25c7409a5d24'}\n",
      "\t\t {'id': 'https://bbp.epfl.ch/neurosciencegraph/data/neuronmorphologies/b23268cb-071c-47a7-8003-c2ede62080c0'}\n",
      "\t\t {'id': 'https://bbp.epfl.ch/neurosciencegraph/data/neuronmorphologies/d4d82091-9e50-47d5-97b8-3609578cfca7'}\n",
      "\t\t {'id': 'https://bbp.epfl.ch/neurosciencegraph/data/neuronmorphologies/fdadd146-1fb6-456d-9dc0-9fe27cb98f2b'}\n",
      "\t\t {'id': 'https://bbp.epfl.ch/neurosciencegraph/data/neuronmorphologies/cecf50bd-b563-45c5-8896-6ef0cef828d7'}\n",
      "\t\t {'id': 'https://bbp.epfl.ch/neurosciencegraph/data/neuronmorphologies/9959c647-8942-445d-b2f6-4acb511d62c9'}\n",
      "\t\t {'id': 'https://bbp.epfl.ch/neurosciencegraph/data/neuronmorphologies/9aef737b-fc60-4305-805c-cdde09c3937d'}\n",
      "\t\t {'id': 'https://bbp.epfl.ch/neurosciencegraph/data/neuronmorphologies/dbb4a43e-ff26-410b-9408-eab18005f06f'}\n",
      "\t\t {'id': 'https://bbp.epfl.ch/neurosciencegraph/data/neuronmorphologies/e3df8730-2e15-4b42-b1c1-496fc4f6bfbe'}\n",
      "\n"
     ]
    }
   ],
   "source": [
    "for rule in morph_rules:\n",
    "    print(rule[\"name\"])\n",
    "    print(\"\\t Results:\")\n",
    "    results = apply_rule(allocate_forge_session, rule, input_filters)\n",
    "    for r in results:\n",
    "        print(\"\\t\\t\", r)\n",
    "    print()"
   ]
  },
  {
   "cell_type": "markdown",
   "metadata": {},
   "source": [
    "## Real atlas example"
   ]
  },
  {
   "cell_type": "code",
   "execution_count": 19,
   "metadata": {},
   "outputs": [],
   "source": [
    "brain_regions = [\n",
    "    # non cortical\n",
    "    \"mba:549\", \"mba:856\", \"mba:864\", \"mba:239\", \"mba:958\", \"mba:1014\",\n",
    "    # cortical\n",
    "    \"mba:315\", \"mba:541\", \"mba:97\"\n",
    "]"
   ]
  },
  {
   "cell_type": "code",
   "execution_count": 20,
   "metadata": {},
   "outputs": [],
   "source": [
    "mtypes = [\"http://uri.interlex.org/base/ilx_0381377\", \"http://uri.interlex.org/base/ilx_038\"]"
   ]
  },
  {
   "cell_type": "code",
   "execution_count": 21,
   "metadata": {},
   "outputs": [],
   "source": [
    "rule = rules_forge.as_json(rules_forge.retrieve(\n",
    "    \"https://bbp.epfl.ch/neurosciencegraph/data/99b71e48-abd5-49e9-965e-a08534b5f0fa\"))"
   ]
  },
  {
   "cell_type": "code",
   "execution_count": 22,
   "metadata": {},
   "outputs": [],
   "source": [
    "input_filters = {\n",
    "    \"BrainRegionQueryParameter\": brain_regions,\n",
    "    \"MTypeQueryParameter\": mtypes\n",
    "}"
   ]
  },
  {
   "cell_type": "code",
   "execution_count": 32,
   "metadata": {
    "scrolled": true
   },
   "outputs": [
    {
     "name": "stdout",
     "output_type": "stream",
     "text": [
      " premise satisfied?  True\n",
      "[{'id': 'https://bbp.epfl.ch/neurosciencegraph/data/7b59a92f-309a-4af1-a56b-91766d348c96'}, {'id': 'https://bbp.epfl.ch/neurosciencegraph/data/fc5dc47f-8ed0-4997-a0fc-47ccaeab2186'}, {'id': 'https://bbp.epfl.ch/neurosciencegraph/data/c5761f9a-6880-442f-bd41-657002b49200'}, {'id': 'https://bbp.epfl.ch/neurosciencegraph/data/1bd93ace-dc35-4a33-b2c6-5c2c80adf1f4'}, {'id': 'https://bbp.epfl.ch/neurosciencegraph/data/e45a145f-ff29-4132-80f0-5834b814d4a1'}, {'id': 'https://bbp.epfl.ch/neurosciencegraph/data/906e253c-19f1-4b13-a7ed-7488714bcffb'}, {'id': 'https://bbp.epfl.ch/neurosciencegraph/data/45ef1fcb-7d54-490c-93dd-efd937303a6a'}, {'id': 'https://bbp.epfl.ch/neurosciencegraph/data/7bc108a5-ebaf-43f3-be17-ce3a0b3ccbe0'}, {'id': 'https://bbp.epfl.ch/neurosciencegraph/data/27218823-a510-4579-b7cd-7d85343646fa'}, {'id': 'https://bbp.epfl.ch/neurosciencegraph/data/61a4e5eb-c89c-4e1b-960b-d4fc0fc7d948'}, {'id': 'https://bbp.epfl.ch/neurosciencegraph/data/42ff423a-9791-4e64-b830-ffcc0922cf53'}, {'id': 'https://bbp.epfl.ch/neurosciencegraph/data/240a875d-cf7d-4208-a667-5fe30b9b7da7'}, {'id': 'https://bbp.epfl.ch/neurosciencegraph/data/ee8e9c60-1c9f-4bf1-a5c5-90ec6db9a31c'}, {'id': 'https://bbp.epfl.ch/neurosciencegraph/data/6afffd63-80a8-4211-a5ae-6f74e6a2ab5c'}, {'id': 'https://bbp.epfl.ch/neurosciencegraph/data/57af3080-60b2-413c-b37e-b0b7457c5af7'}, {'id': 'https://bbp.epfl.ch/neurosciencegraph/data/f0be9d0c-dc36-4692-8682-9cc3c31cb6ef'}, {'id': 'https://bbp.epfl.ch/neurosciencegraph/data/c77109ae-f8d1-452e-bfe8-f60d7e4a7fb5'}, {'id': 'https://bbp.epfl.ch/neurosciencegraph/data/1ab9ca52-e863-468b-ad7a-058c61929603'}, {'id': 'https://bbp.epfl.ch/neurosciencegraph/data/5a1a5b6d-aca1-43fb-a3f2-bd1e5ae66ed6'}, {'id': 'https://bbp.epfl.ch/neurosciencegraph/data/ca517ea9-6b01-49eb-8033-5b4fd0a89990'}, {'id': 'https://bbp.epfl.ch/neurosciencegraph/data/cf973097-59a5-46aa-b665-6699f2ebd6f0'}, {'id': 'https://bbp.epfl.ch/neurosciencegraph/data/d6ddd1dc-24e9-424c-b26c-2cbb480c63b9'}]\n"
     ]
    }
   ],
   "source": [
    "satisfies = check_premises(allocate_forge_session, rule, input_filters)\n",
    "print(\" premise satisfied? \", satisfies)\n",
    "if satisfies:\n",
    "    results = apply_rule(\n",
    "        allocate_forge_session, rule, input_filters, premise_check=False)\n",
    "    print(results)"
   ]
  }
 ],
 "metadata": {
  "kernelspec": {
   "display_name": "kginferance",
   "language": "python",
   "name": "python3"
  },
  "language_info": {
   "codemirror_mode": {
    "name": "ipython",
    "version": 3
   },
   "file_extension": ".py",
   "mimetype": "text/x-python",
   "name": "python",
   "nbconvert_exporter": "python",
   "pygments_lexer": "ipython3",
   "version": "3.7.15"
  },
  "vscode": {
   "interpreter": {
    "hash": "95c18e6890a529c66ebdafdc4b37df03a38016a17b17177dcf3eb23be82801d5"
   }
  }
 },
 "nbformat": 4,
 "nbformat_minor": 5
}
