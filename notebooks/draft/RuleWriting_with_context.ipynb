{
 "cells": [
  {
   "cell_type": "code",
   "execution_count": 23,
   "metadata": {},
   "outputs": [],
   "source": [
    "import getpass\n",
    "import json\n",
    "import uuid\n",
    "\n",
    "from kgforge.core import KnowledgeGraphForge\n",
    "\n",
    "from inference_tools.utils import (check_premises,\n",
    "                                   execute_query,\n",
    "                                   execute_query_pipe,\n",
    "                                   apply_rule,\n",
    "                                   get_rule_parameters)\n",
    "\n",
    "from inference_tools.type import (QueryType, ParameterType)"
   ]
  },
  {
   "cell_type": "code",
   "execution_count": 24,
   "metadata": {},
   "outputs": [],
   "source": [
    "LOCAL_TOKEN = True \n",
    "TOKEN_PATH = 'token.txt'\n",
    "CONFIG_PATH = \"config.yaml\"\n",
    "\n",
    "def allocate_forge_session(org, project):\n",
    "    ENDPOINT = \"https://bbp.epfl.ch/nexus/v1\"  \n",
    "\n",
    "    if LOCAL_TOKEN: \n",
    "        with open(TOKEN_PATH) as f:\n",
    "            TOKEN = f.read()\n",
    "    else: \n",
    "        TOKEN = getpass.getpass()\n",
    "        \n",
    "    searchendpoints = {\n",
    "        \"sparql\": {\n",
    "           \"endpoint\": \"https://bbp.epfl.ch/neurosciencegraph/data/views/aggreg-sp/dataset\"\n",
    "       }\n",
    "    }\n",
    "    \n",
    "    return KnowledgeGraphForge(\n",
    "        CONFIG_PATH,\n",
    "        endpoint=ENDPOINT,\n",
    "        token=TOKEN, \n",
    "        bucket=f\"{org}/{project}\", \n",
    "        searchendpoints=searchendpoints,\n",
    "        debug=True\n",
    "    )"
   ]
  },
  {
   "cell_type": "markdown",
   "metadata": {},
   "source": [
    "# [Create a Rule able to Generalize data across the brain region hierarchy](https://bbpteam.epfl.ch/project/issues/browse/DKE-1105) - WITH CONTEXT"
   ]
  },
  {
   "cell_type": "code",
   "execution_count": 25,
   "metadata": {},
   "outputs": [],
   "source": [
    "def init_rule(context=True):\n",
    "\n",
    "    rule_id3 = f\"https://bbp.epfl.ch/neurosciencegraph/data/{uuid.uuid4()}\"\n",
    "\n",
    "\n",
    "    fq3 = \"\"\"\n",
    "        SELECT ?id\n",
    "        WHERE {            \n",
    "            ?id rdfs:subClassOf $GeneralizedFieldName .     \n",
    "            ?a schema:isPartOf* ?b .\n",
    "            FILTER(?a = IF($SearchDown^^xsd:boolean, ?id, iri($GeneralizedFieldValue)))\n",
    "            FILTER(?b = IF($SearchDown^^xsd:boolean, iri($GeneralizedFieldValue), ?id))\n",
    "        } LIMIT 5000\n",
    "    \"\"\"\n",
    "\n",
    "    fqo3 = {\n",
    "        \"type\": QueryType.SPARQL_QUERY.value,\n",
    "        \"hasBody\": fq3,\n",
    "        \"hasParameter\": [\n",
    "            {\n",
    "                \"type\": ParameterType.PATH.value,\n",
    "                \"description\": \"Field Name being generalized\",\n",
    "                \"name\": \"GeneralizedFieldName\"\n",
    "            },\n",
    "\n",
    "            {\n",
    "                \"type\": ParameterType.URI.value,\n",
    "                \"description\": \"Field Value being generalized\",\n",
    "                \"name\": \"GeneralizedFieldValue\"\n",
    "            },\n",
    "\n",
    "            {\n",
    "                \"type\": ParameterType.STR.value,\n",
    "                \"description\": \"Whether we are searching for entities whose property\" +\n",
    "                \"is a descendant or parent of the provided GeneralizedFieldValue\",\n",
    "                \"name\": \"SearchDown\",\n",
    "            },\n",
    "        ],\n",
    "        \"queryConfiguration\": {\n",
    "            \"sparlqlView\": {\n",
    "                \"id\": \"https://bbp.epfl.ch/neurosciencegraph/data/views/aggreg-sp/dataset\"\n",
    "            },\n",
    "\n",
    "            \"org\": \"neurosciencegraph\",\n",
    "            \"project\": \"datamodels\"\n",
    "        },\n",
    "        \"resultParameterMapping\": [\n",
    "            {\n",
    "                \"parameterName\": \"all_values\",\n",
    "                \"path\": \"id\"\n",
    "            },\n",
    "        ]\n",
    "    }\n",
    "\n",
    "    sq3 = \"\"\"\n",
    "        SELECT ?id ?br\n",
    "        WHERE { \n",
    "            ?id rdf:type $TypeQueryParameter .\n",
    "            ?id $PathToGeneralizedField ?value .\n",
    "            ?id $UserContext .\n",
    "            ?id <https://bluebrain.github.io/nexus/vocabulary/deprecated> ?_deprecated .\n",
    "            Filter (?_deprecated = 'false'^^xsd:boolean && ?value in $all_values)\n",
    "        } LIMIT 5000\n",
    "    \"\"\"\n",
    "    \n",
    "    sq3_2 = \"\"\"\n",
    "        SELECT ?id ?br\n",
    "        WHERE { \n",
    "            ?id rdf:type $TypeQueryParameter .\n",
    "            ?id $PathToGeneralizedField ?value .\n",
    "            ?id <https://bluebrain.github.io/nexus/vocabulary/deprecated> ?_deprecated .\n",
    "            Filter (?_deprecated = 'false'^^xsd:boolean && ?value in $all_values)\n",
    "        } LIMIT 5000\n",
    "    \"\"\"\n",
    "\n",
    "    parameters = [\n",
    "            {\n",
    "                \"type\": ParameterType.SPARQL_LIST.value,\n",
    "                \"description\": \"All valid values for the generalized field\",\n",
    "                \"name\": \"all_values\"\n",
    "            },\n",
    "            {\n",
    "                \"type\": ParameterType.PATH.value,\n",
    "                \"description\": \"type of the queried entity\",\n",
    "                \"name\": \"TypeQueryParameter\"\n",
    "            },\n",
    "            {\n",
    "                \"type\": ParameterType.PATH.value,\n",
    "                \"description\": \"Path to Generalized Field\",\n",
    "                \"name\": \"PathToGeneralizedField\"\n",
    "            }\n",
    "        ]\n",
    "    \n",
    "    if context: \n",
    "        parameters.append({\n",
    "            \"type\": ParameterType.MUTLI_PREDICATE_OBJECT_PAIR.value,\n",
    "            \"description\": \"Additional filtering on retrieved entities\",\n",
    "            \"name\": \"UserContext\"\n",
    "        })\n",
    "\n",
    "    sqo3 = {\n",
    "        \"type\": \"SparqlQuery\",\n",
    "        \"hasBody\": sq3 if context else sq3_2,\n",
    "        \"hasParameter\": parameters,\n",
    "        \"queryConfiguration\": {\n",
    "            \"sparlqlView\": {\n",
    "                \"id\": \"https://bbp.epfl.ch/neurosciencegraph/data/views/aggreg-sp/dataset\"\n",
    "            },\n",
    "            \"org\": \"bbp\",\n",
    "            \"project\": \"atlas\"\n",
    "        },\n",
    "        \"resultParameterMapping\": {\n",
    "            \"parameterName\": \"test\",\n",
    "            \"path\": \"entity\"\n",
    "        }\n",
    "    }\n",
    "\n",
    "    my_rule3 = {\n",
    "        \"id\": rule_id3,\n",
    "        \"type\": \"DataGeneralizationRule\",\n",
    "        \"_schemaProject\": \"https://bbp.epfl.ch/nexus/v1/projects/bbp/inference-rules\",\n",
    "        \"description\": \"\"\"\n",
    "            With Context - Given an entity type (e.g NeuronMorphology, Trace, cell type, ...) \n",
    "            linked to an entity by a provided path, generalise to entities associated \n",
    "            with the descendants or parents of the entity\n",
    "        \"\"\",\n",
    "        \"name\": \"\"\"\n",
    "            With Context - Generalise up (ancestors) and/or down (descendants) a (combination of) \n",
    "            \"hierarchy in a BBP ontology (e.g. cell type, brain region)\n",
    "        \"\"\",\n",
    "        \"searchQuery\": {\n",
    "            \"type\": \"QueryPipe\",\n",
    "            \"head\": fqo3,\n",
    "            \"rest\": sqo3\n",
    "        },\n",
    "        \"targetResourceType\": \"Entity\"\n",
    "    }\n",
    "\n",
    "    return my_rule3\n",
    "\n",
    "def init_filters(searchDown=True):\n",
    "    input_filters = {\n",
    "\n",
    "    \"TypeQueryParameter\": \"NeuronMorphology\",\n",
    "    \"GeneralizedFieldName\": \"BrainRegion\",\n",
    "    \"GeneralizedFieldValue\": \"<http://api.brain-map.org/api/v2/data/Structure/315>\",\n",
    "    \"PathToGeneralizedField\": \"nsg:brainLocation/nsg:brainRegion\",\n",
    "    \"SearchDown\": \"true\" if searchDown else \"false\",\n",
    "    \"UserContext\": [\n",
    "        (\n",
    "            (\"rdf:type\", \"path\"),\n",
    "            (\"NeuronMorphology\", \"path\")\n",
    "        ),  # redundant with the query content but just to show an example of multiple predicate object pairs\n",
    "        (\n",
    "           (\"contribution/agent\", \"path\"),\n",
    "           (\"<https://bbp.epfl.ch/neurosciencegraph/data/7c47aa15-9fc6-42ec-9871-d233c9c29028>\", \"path\")\n",
    "        )\n",
    "    ]\n",
    "\n",
    "    }\n",
    "    return input_filters"
   ]
  },
  {
   "cell_type": "markdown",
   "metadata": {},
   "source": [
    "# Expected"
   ]
  },
  {
   "cell_type": "code",
   "execution_count": 26,
   "metadata": {},
   "outputs": [],
   "source": [
    "bbp_atlas_forge = allocate_forge_session(\"bbp\", \"atlas\")"
   ]
  },
  {
   "cell_type": "code",
   "execution_count": 27,
   "metadata": {},
   "outputs": [],
   "source": [
    "DEBUG = False\n",
    "LIMIT = 10000"
   ]
  },
  {
   "cell_type": "markdown",
   "metadata": {},
   "source": [
    "## 1.a Get all neuron morphologies + context"
   ]
  },
  {
   "cell_type": "code",
   "execution_count": 28,
   "metadata": {},
   "outputs": [
    {
     "data": {
      "text/plain": [
       "331"
      ]
     },
     "execution_count": 28,
     "metadata": {},
     "output_type": "execute_result"
    }
   ],
   "source": [
    "qtr2 = \"\"\"\n",
    "      SELECT ?id ?value\n",
    "           WHERE { \n",
    "               ?id rdf:type nsg:NeuronMorphology .\n",
    "               ?id nsg:brainLocation/nsg:brainRegion ?value .\n",
    "               ?id <https://bluebrain.github.io/nexus/vocabulary/deprecated> ?_deprecated .\n",
    "               ?id rdf:type nsg:NeuronMorphology .\n",
    "               ?id nsg:contribution/prov:agent <https://bbp.epfl.ch/neurosciencegraph/data/7c47aa15-9fc6-42ec-9871-d233c9c29028> .\n",
    "               Filter (?_deprecated = 'false'^^xsd:boolean)}\n",
    "\"\"\"\n",
    "first_query_res2 = bbp_atlas_forge.as_json(\n",
    "    bbp_atlas_forge.sparql(qtr2, limit=LIMIT, debug=DEBUG))\n",
    "\n",
    "len(first_query_res2)"
   ]
  },
  {
   "cell_type": "markdown",
   "metadata": {},
   "source": [
    "## 1.b Get all neuron morphologies + no context"
   ]
  },
  {
   "cell_type": "code",
   "execution_count": 29,
   "metadata": {},
   "outputs": [
    {
     "data": {
      "text/plain": [
       "3295"
      ]
     },
     "execution_count": 29,
     "metadata": {},
     "output_type": "execute_result"
    }
   ],
   "source": [
    "qtr3 = \"\"\"\n",
    "      SELECT ?id ?value\n",
    "           WHERE { \n",
    "               ?id rdf:type nsg:NeuronMorphology .\n",
    "               ?id nsg:brainLocation/nsg:brainRegion ?value .\n",
    "               ?id <https://bluebrain.github.io/nexus/vocabulary/deprecated> ?_deprecated .\n",
    "               Filter (?_deprecated = 'false'^^xsd:boolean)}\n",
    "\"\"\"\n",
    "first_query_res3 = bbp_atlas_forge.as_json(\n",
    "    bbp_atlas_forge.sparql(qtr3, limit=LIMIT, debug=DEBUG))\n",
    "\n",
    "len(first_query_res3)"
   ]
  },
  {
   "cell_type": "markdown",
   "metadata": {},
   "source": [
    "## 2.a Get all brain regions that are isPartOf* of Isocortex"
   ]
  },
  {
   "cell_type": "code",
   "execution_count": 30,
   "metadata": {},
   "outputs": [],
   "source": [
    "bbp_datamodels_forge = allocate_forge_session(\"neurosciencegraph\", \"datamodels\")"
   ]
  },
  {
   "cell_type": "code",
   "execution_count": 31,
   "metadata": {},
   "outputs": [],
   "source": [
    "descendants_res = bbp_datamodels_forge.sparql(\"\"\"\n",
    "    SELECT ?br\n",
    "    WHERE {\n",
    "     ?br rdfs:subClassOf BrainRegion .\n",
    "     ?br schema:isPartOf* <http://api.brain-map.org/api/v2/data/Structure/315> .\n",
    "    }\n",
    "\"\"\", limit=LIMIT)"
   ]
  },
  {
   "cell_type": "code",
   "execution_count": 32,
   "metadata": {},
   "outputs": [],
   "source": [
    "descendants = [el[\"br\"] for el in bbp_datamodels_forge.as_json(descendants_res)]"
   ]
  },
  {
   "cell_type": "code",
   "execution_count": 33,
   "metadata": {},
   "outputs": [
    {
     "name": "stdout",
     "output_type": "stream",
     "text": [
      "Descendants 374\n"
     ]
    }
   ],
   "source": [
    "print(\"Descendants\", len(descendants))"
   ]
  },
  {
   "cell_type": "markdown",
   "metadata": {},
   "source": [
    "## 2.b Get all brain regions that Isocortex isPartOf*"
   ]
  },
  {
   "cell_type": "code",
   "execution_count": 34,
   "metadata": {},
   "outputs": [],
   "source": [
    "parents_res = bbp_datamodels_forge.sparql(\"\"\"\n",
    "    SELECT ?br\n",
    "    WHERE {\n",
    "     ?br rdfs:subClassOf BrainRegion .\n",
    "     <http://api.brain-map.org/api/v2/data/Structure/315> schema:isPartOf* ?br  .\n",
    "    }\n",
    "\"\"\", limit=LIMIT)"
   ]
  },
  {
   "cell_type": "code",
   "execution_count": 35,
   "metadata": {},
   "outputs": [],
   "source": [
    "parents = [el[\"br\"] for el in bbp_datamodels_forge.as_json(parents_res)]"
   ]
  },
  {
   "cell_type": "code",
   "execution_count": 36,
   "metadata": {},
   "outputs": [
    {
     "name": "stdout",
     "output_type": "stream",
     "text": [
      "Parents 6\n"
     ]
    }
   ],
   "source": [
    "print(\"Parents\", len(parents))"
   ]
  },
  {
   "cell_type": "markdown",
   "metadata": {},
   "source": [
    "____"
   ]
  },
  {
   "cell_type": "code",
   "execution_count": 37,
   "metadata": {},
   "outputs": [
    {
     "name": "stdout",
     "output_type": "stream",
     "text": [
      "Parents 6\n",
      "Descendants 374\n"
     ]
    }
   ],
   "source": [
    "get_brain_regions = lambda searchDown : execute_query(allocate_forge_session, init_rule()[\"searchQuery\"][\"head\"], init_filters(searchDown=searchDown), debug=False)\n",
    "\n",
    "descendants_query = get_brain_regions(searchDown=True)\n",
    "parents_query = get_brain_regions(searchDown=False)\n",
    "print(\"Parents\", len(parents_query))\n",
    "print(\"Descendants\", len(descendants_query))"
   ]
  },
  {
   "cell_type": "markdown",
   "metadata": {},
   "source": [
    "# Merge"
   ]
  },
  {
   "cell_type": "code",
   "execution_count": 38,
   "metadata": {},
   "outputs": [],
   "source": [
    "run_rule = lambda context, searchDown: apply_rule(allocate_forge_session, init_rule(context=context), init_filters(searchDown=searchDown), debug=False)"
   ]
  },
  {
   "cell_type": "markdown",
   "metadata": {},
   "source": [
    "## 3.a With context filters"
   ]
  },
  {
   "cell_type": "markdown",
   "metadata": {},
   "source": [
    "## 3.a.1 Keep only the neuron morphologies (with context filters) that have their brain regions as a isPartOf* of Isocortex"
   ]
  },
  {
   "cell_type": "code",
   "execution_count": 39,
   "metadata": {},
   "outputs": [],
   "source": [
    "merge_two_w_a = [el for el in first_query_res2 if el[\"value\"] in descendants]"
   ]
  },
  {
   "cell_type": "code",
   "execution_count": 40,
   "metadata": {},
   "outputs": [],
   "source": [
    "res_w_a = run_rule(searchDown=True, context=True)"
   ]
  },
  {
   "cell_type": "code",
   "execution_count": 41,
   "metadata": {},
   "outputs": [
    {
     "name": "stdout",
     "output_type": "stream",
     "text": [
      "0 0\n"
     ]
    }
   ],
   "source": [
    "print(len(merge_two_w_a), len(res_w_a))"
   ]
  },
  {
   "cell_type": "markdown",
   "metadata": {},
   "source": [
    "## 3.a.2 Keep only the neuron morphologies (with context filters) that Isocortex isPartOf* "
   ]
  },
  {
   "cell_type": "code",
   "execution_count": 42,
   "metadata": {},
   "outputs": [],
   "source": [
    "merge_two_w_b = [el for el in first_query_res2 if el[\"value\"] in parents]"
   ]
  },
  {
   "cell_type": "code",
   "execution_count": 43,
   "metadata": {},
   "outputs": [],
   "source": [
    "res_w_b = run_rule(searchDown=False, context=True)"
   ]
  },
  {
   "cell_type": "code",
   "execution_count": 44,
   "metadata": {},
   "outputs": [
    {
     "name": "stdout",
     "output_type": "stream",
     "text": [
      "0 0\n"
     ]
    }
   ],
   "source": [
    "print(len(merge_two_w_b), len(res_w_b))"
   ]
  },
  {
   "cell_type": "markdown",
   "metadata": {},
   "source": [
    "## 3.b Without context filters"
   ]
  },
  {
   "cell_type": "markdown",
   "metadata": {},
   "source": [
    "## 3.b.1 Keep only the neuron morphologies (without context filters) that have their brain regions as a isPartOf* of Isocortex"
   ]
  },
  {
   "cell_type": "code",
   "execution_count": 45,
   "metadata": {},
   "outputs": [],
   "source": [
    "merge_two_wo_a = [el for el in first_query_res3 if el[\"value\"] in descendants]"
   ]
  },
  {
   "cell_type": "code",
   "execution_count": 46,
   "metadata": {},
   "outputs": [],
   "source": [
    "res_wo_a = run_rule(searchDown=True, context=False)"
   ]
  },
  {
   "cell_type": "code",
   "execution_count": 47,
   "metadata": {},
   "outputs": [
    {
     "name": "stdout",
     "output_type": "stream",
     "text": [
      "619 619\n"
     ]
    }
   ],
   "source": [
    "print(len(merge_two_wo_a), len(res_wo_a))"
   ]
  },
  {
   "cell_type": "markdown",
   "metadata": {},
   "source": [
    "## 3.b.2 Keep only the neuron morphologies (without context filters) that Isocortex isPartOf* "
   ]
  },
  {
   "cell_type": "code",
   "execution_count": 48,
   "metadata": {},
   "outputs": [],
   "source": [
    "merge_two_wo_b = [el for el in first_query_res3 if el[\"value\"] in parents]"
   ]
  },
  {
   "cell_type": "code",
   "execution_count": 49,
   "metadata": {},
   "outputs": [],
   "source": [
    "res_wo_b = run_rule(searchDown=False, context=False)"
   ]
  },
  {
   "cell_type": "code",
   "execution_count": 50,
   "metadata": {},
   "outputs": [
    {
     "name": "stdout",
     "output_type": "stream",
     "text": [
      "3 3\n"
     ]
    }
   ],
   "source": [
    "print(len(merge_two_wo_b), len(res_wo_b))"
   ]
  },
  {
   "cell_type": "markdown",
   "metadata": {},
   "source": [
    "_____"
   ]
  },
  {
   "cell_type": "code",
   "execution_count": 59,
   "metadata": {},
   "outputs": [],
   "source": [
    "# rule_forge = allocate_forge_session(\"bbp\", \"inference-rules\")\n",
    "\n",
    "# new_rule = rule_forge.retrieve(\"https://bbp.epfl.ch/neurosciencegraph/data/5d04995a-6220-4e82-b847-8c3a87030e0b\")\n",
    "\n",
    "# new_v = init_rule(context=True)\n",
    "\n",
    "# new_rule.searchQuery = new_v[\"searchQuery\"]\n",
    "\n",
    "# rule_forge.update(new_rule)\n",
    "\n",
    "# rule_forge.tag(new_rule, \"v2\")"
   ]
  }
 ],
 "metadata": {
  "kernelspec": {
   "display_name": "kg_inf_tut_x86",
   "language": "python",
   "name": "kg_inf_tut_x86"
  },
  "language_info": {
   "codemirror_mode": {
    "name": "ipython",
    "version": 3
   },
   "file_extension": ".py",
   "mimetype": "text/x-python",
   "name": "python",
   "nbconvert_exporter": "python",
   "pygments_lexer": "ipython3",
   "version": "3.9.15"
  }
 },
 "nbformat": 4,
 "nbformat_minor": 4
}
