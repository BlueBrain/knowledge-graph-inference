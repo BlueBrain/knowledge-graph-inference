{
 "cells": [
  {
   "cell_type": "code",
   "execution_count": 31,
   "metadata": {
    "collapsed": false,
    "jupyter": {
     "outputs_hidden": false
    },
    "pycharm": {
     "is_executing": true
    }
   },
   "outputs": [],
   "source": [
    "import getpass\n",
    "import json\n",
    "import uuid\n",
    "\n",
    "from kgforge.core import KnowledgeGraphForge\n",
    "\n",
    "from inference_tools.utils import (\n",
    "    check_premises,\n",
    "    execute_query,\n",
    "    execute_query_pipe,\n",
    "    apply_rule,\n",
    "    get_rule_parameters,\n",
    "    _allocate_forge_session\n",
    ")"
   ]
  },
  {
   "cell_type": "code",
   "execution_count": 32,
   "metadata": {
    "pycharm": {
     "is_executing": true
    }
   },
   "outputs": [],
   "source": [
    "def allocate_forge_session(org, project):\n",
    "\n",
    "    CONFIG_PATH = \"../../configs/test-config.yaml\"\n",
    "    ENDPOINT = \"https://bbp.epfl.ch/nexus/v1\"\n",
    "\n",
    "    searchendpoints = {\n",
    "        \"sparql\": {\n",
    "           \"endpoint\": \"https://bbp.epfl.ch/neurosciencegraph/data/views/aggreg-sp/dataset\"\n",
    "       }\n",
    "    }\n",
    "    return _allocate_forge_session(\n",
    "        org=org, project=project, \n",
    "        config_file_path=CONFIG_PATH, \n",
    "        endpoint=ENDPOINT, \n",
    "        searchendpoints=searchendpoints, \n",
    "        token_file_path=\"token.txt\"\n",
    "    )"
   ]
  },
  {
   "cell_type": "markdown",
   "metadata": {},
   "source": [
    "# [Create a Rule able to Generalize data across the brain region hierarchy](https://bbpteam.epfl.ch/project/issues/browse/DKE-1105)"
   ]
  },
  {
   "cell_type": "code",
   "execution_count": 33,
   "metadata": {},
   "outputs": [],
   "source": [
    "input_filters = {\n",
    "    \"BrainRegionQueryParameter\": \"<http://api.brain-map.org/api/v2/data/Structure/315>\",\n",
    "    \"TypeQueryParameter\": \"<https://neuroshapes.org/NeuronMorphology>\"\n",
    "}"
   ]
  },
  {
   "cell_type": "markdown",
   "metadata": {},
   "source": [
    "## V1: QueryPipe: \n",
    "- 1. Get all Neuron morphologies \n",
    "- 2. Only keep those in the right brain region"
   ]
  },
  {
   "cell_type": "markdown",
   "metadata": {},
   "source": [
    "#### Problem: timing out, too many neuron morphologies retrieved and passed to the next step?"
   ]
  },
  {
   "cell_type": "code",
   "execution_count": 34,
   "metadata": {},
   "outputs": [],
   "source": [
    "rule_id = f\"https://bbp.epfl.ch/neurosciencegraph/data/{uuid.uuid4()}\"\n",
    "\n",
    "\n",
    "fq =   \"\"\"\n",
    "    SELECT ?id ?br\n",
    "    WHERE { \n",
    "        ?id rdf:type $TypeQueryParameter .\n",
    "        ?id nsg:brainLocation/nsg:brainRegion ?br .\n",
    "        \n",
    "        ?id <https://bluebrain.github.io/nexus/vocabulary/deprecated> ?_deprecated .\n",
    "        Filter (?_deprecated = 'false'^^xsd:boolean)\n",
    "        } \n",
    "\"\"\"\n",
    "\n",
    "fqo = {\n",
    "        \"type\": \"SparqlQuery\",\n",
    "        \"hasBody\": fq,\n",
    "        \"hasParameter\": [\n",
    "            {\n",
    "                \"type\": \"uri\",\n",
    "                \"description\": \"type of the entity being retrieved\",\n",
    "                \"name\": \"TypeQueryParameter\"\n",
    "            },\n",
    "        ],\n",
    "        \"queryConfiguration\": {\n",
    "            \"sparlqlView\": {\n",
    "                \"id\": \"https://bbp.epfl.ch/neurosciencegraph/data/views/aggreg-sp/dataset\"\n",
    "            },\n",
    "            \"org\": \"bbp\",\n",
    "            \"project\": \"atlas\"\n",
    "        },\n",
    "        \"resultParameterMapping\": [\n",
    "            {\n",
    "                \"parameterName\": \"entityBr\",\n",
    "                \"path\": \"br\"\n",
    "            },\n",
    "            {\n",
    "                \"parameterName\": \"entity\",\n",
    "                \"path\": \"id\"\n",
    "            }\n",
    "        ]\n",
    "    }\n",
    "\n",
    "sq = \"\"\"\n",
    "    SELECT ?id ?br\n",
    "    WHERE {\n",
    "     ?br rdfs:subClassOf BrainRegion ;   \n",
    "     <http://schema.org/isPartOf>* $BrainRegionQueryParameter.\n",
    "        VALUES (?id) {\n",
    "            $entity\n",
    "        }.\n",
    "        VALUES (?br){\n",
    "            $entityBr\n",
    "        }\n",
    "    }\n",
    "\"\"\"\n",
    "\n",
    "sqo = {\n",
    "    \"type\": \"SparqlQuery\",\n",
    "    \"hasBody\": sq,\n",
    "    \"hasParameter\": [\n",
    "    {\n",
    "        \"type\": \"sparql_value_list\",\n",
    "        \"description\": \"List of URIs of brains regions\",\n",
    "        \"name\": \"entityBr\"\n",
    "    }, \n",
    "    {\n",
    "        \"type\": \"sparql_value_list\",\n",
    "        \"description\": \"List of URIs of entities of type\",\n",
    "        \"name\": \"entity\"\n",
    "    }, \n",
    "    {\n",
    "        \"type\": \"uri\",\n",
    "        \"description\": \"URI of the queried brain region\",\n",
    "        \"name\": \"BrainRegionQueryParameter\"\n",
    "    }\n",
    "    ],\n",
    "    \"queryConfiguration\": {\n",
    "        \"sparlqlView\": {\n",
    "            \"id\": \"https://bbp.epfl.ch/neurosciencegraph/data/views/aggreg-sp/dataset\"\n",
    "        },\n",
    "        \"org\": \"neurosciencegraph\",\n",
    "        \"project\": \"datamodels\"\n",
    "    },\n",
    "    \"resultParameterMapping\": {\n",
    "        \"parameterName\": \"test\",\n",
    "        \"path\": \"entity\"\n",
    "    }\n",
    "}\n",
    "\n",
    "\n",
    "my_rule = {\n",
    "    \"id\": rule_id,\n",
    "    \"type\": \"DataGeneralizationRule\",\n",
    "    \"_schemaProject\": \"https://bbp.epfl.ch/nexus/v1/projects/bbp/inference-rules\",\n",
    "    \"description\": \"Generalise up (ancestors) and/or down (descendants) a (combination of)\"+\n",
    "    \"hierarchy in a BBP ontology (e.g. cell type, brain region)\",\n",
    "    \"name\": \"TODO\", #TODO\n",
    "    \"searchQuery\": {\n",
    "        \"type\": \"QueryPipe\",\n",
    "        \"head\": fqo, \n",
    "        \"rest\": sqo\n",
    "    }\n",
    "}"
   ]
  },
  {
   "cell_type": "code",
   "execution_count": 35,
   "metadata": {},
   "outputs": [],
   "source": [
    "# res = apply_rule(allocate_forge_session, my_rule, input_filters)\n",
    "# res"
   ]
  },
  {
   "cell_type": "markdown",
   "metadata": {},
   "source": [
    "## QueryPipe: \n",
    "- 1. Get all valid brain regions\n",
    "- 2. Query Neuron Morphologies and keep only those with the valid brain regions"
   ]
  },
  {
   "cell_type": "code",
   "execution_count": 36,
   "metadata": {},
   "outputs": [],
   "source": [
    "rule_id2 = f\"https://bbp.epfl.ch/neurosciencegraph/data/{uuid.uuid4()}\"\n",
    "\n",
    "\n",
    "fq2 = \"\"\"\n",
    "    SELECT ?id\n",
    "    WHERE {\n",
    "     ?id rdfs:subClassOf BrainRegion ;   \n",
    "     <http://schema.org/isPartOf>* $BrainRegionQueryParameter.\n",
    "    } LIMIT 10000\n",
    "\"\"\"\n",
    "\n",
    "fqo2 = {\n",
    "        \"type\": \"SparqlQuery\",\n",
    "        \"hasBody\": fq2,\n",
    "        \"hasParameter\": [\n",
    "            {\n",
    "                \"type\": \"uri\",\n",
    "                \"description\": \"type of the brain region it should belong to\",\n",
    "                \"name\": \"BrainRegionQueryParameter\"\n",
    "            },\n",
    "        ],\n",
    "        \"queryConfiguration\": {\n",
    "            \"sparlqlView\": {\n",
    "                \"id\": \"https://bbp.epfl.ch/neurosciencegraph/data/views/aggreg-sp/dataset\"\n",
    "            },\n",
    "            \n",
    "            \"org\": \"neurosciencegraph\",\n",
    "            \"project\": \"datamodels\"\n",
    "        },\n",
    "        \"resultParameterMapping\": [\n",
    "            {\n",
    "                \"parameterName\": \"all_brs\",\n",
    "                \"path\": \"id\"\n",
    "            },\n",
    "        ]\n",
    "    }\n",
    "\n",
    "\n",
    "sq2 =   \"\"\"\n",
    "    SELECT ?id ?br\n",
    "    WHERE { \n",
    "        ?id rdf:type $TypeQueryParameter .\n",
    "        ?id nsg:brainLocation/nsg:brainRegion ?br .\n",
    "        ?id <https://bluebrain.github.io/nexus/vocabulary/deprecated> ?_deprecated .\n",
    "        Filter (?_deprecated = 'false'^^xsd:boolean &&  ?br IN $all_brs)\n",
    "    } LIMIT 10000\n",
    "\"\"\"\n",
    "\n",
    "sqo2 = {\n",
    "    \"type\": \"SparqlQuery\",\n",
    "    \"hasBody\": sq2,\n",
    "    \"hasParameter\": [\n",
    "    {\n",
    "        \"type\": \"sparql_list\",\n",
    "        \"description\": \"List of URIs of brains regions\",\n",
    "        \"name\": \"all_brs\"\n",
    "    }, \n",
    "    {\n",
    "        \"type\": \"uri\",\n",
    "        \"description\": \"type of the queried entity\",\n",
    "        \"name\": \"TypeQueryParameter\"\n",
    "    }\n",
    "    ],\n",
    "    \"queryConfiguration\": {\n",
    "        \"sparlqlView\": {\n",
    "            \"id\": \"https://bbp.epfl.ch/neurosciencegraph/data/views/aggreg-sp/dataset\"\n",
    "        },\n",
    "        \"org\": \"bbp\",\n",
    "        \"project\": \"atlas\"\n",
    "    },\n",
    "    \"resultParameterMapping\": {\n",
    "        \"parameterName\": \"test\",\n",
    "        \"path\": \"entity\"\n",
    "    }\n",
    "}\n",
    "\n",
    "\n",
    "my_rule2 = {\n",
    "    \"id\": rule_id2,\n",
    "    \"type\": \"DataGeneralizationRule\",\n",
    "    \"_schemaProject\": \"https://bbp.epfl.ch/nexus/v1/projects/bbp/inference-rules\",\n",
    "    \"description\": \"\"\"\n",
    "        Given an entity type (e.g NeuronMorphology, Trace, cell type, ...) \n",
    "        linked with a given brain region (e.g. Isocortex), generalise to entities associated \n",
    "        with the descendants of the region (e.g Gustatory areas)\n",
    "    \"\"\",\n",
    "    \"name\": \"\"\"\n",
    "        Generalise up (ancestors) and/or down (descendants) a (combination of) \n",
    "        \"hierarchy in a BBP ontology (e.g. cell type, brain region)\n",
    "    \"\"\",\n",
    "     \"searchQuery\": {\n",
    "        \"type\": \"QueryPipe\",\n",
    "        \"head\": fqo2, \n",
    "        \"rest\": sqo2\n",
    "    }\n",
    "   \n",
    "}"
   ]
  },
  {
   "cell_type": "code",
   "execution_count": 37,
   "metadata": {},
   "outputs": [
    {
     "data": {
      "text/plain": [
       "619"
      ]
     },
     "execution_count": 37,
     "metadata": {},
     "output_type": "execute_result"
    }
   ],
   "source": [
    "res2 = apply_rule(allocate_forge_session, my_rule2, input_filters, debug=False)\n",
    "len(res2)"
   ]
  },
  {
   "cell_type": "markdown",
   "metadata": {},
   "source": [
    "# Expected"
   ]
  },
  {
   "cell_type": "markdown",
   "metadata": {},
   "source": [
    "## 1. Get all neuron morphologies"
   ]
  },
  {
   "cell_type": "code",
   "execution_count": 38,
   "metadata": {},
   "outputs": [],
   "source": [
    "bbp_atlas_forge = allocate_forge_session(\"bbp\", \"atlas\")"
   ]
  },
  {
   "cell_type": "markdown",
   "metadata": {},
   "source": [
    "### a. SPARQL - KG_Inference - All but deprecated"
   ]
  },
  {
   "cell_type": "code",
   "execution_count": 39,
   "metadata": {},
   "outputs": [],
   "source": [
    "first_query_res = execute_query(allocate_forge_session, fqo, input_filters, last_query=True)"
   ]
  },
  {
   "cell_type": "code",
   "execution_count": 40,
   "metadata": {},
   "outputs": [
    {
     "data": {
      "text/plain": [
       "3295"
      ]
     },
     "execution_count": 40,
     "metadata": {},
     "output_type": "execute_result"
    }
   ],
   "source": [
    "len(first_query_res)"
   ]
  },
  {
   "cell_type": "markdown",
   "metadata": {},
   "source": [
    "### b. SPARQL - Forge"
   ]
  },
  {
   "cell_type": "code",
   "execution_count": 41,
   "metadata": {},
   "outputs": [],
   "source": [
    "DEBUG = False\n",
    "LIMIT = 10000"
   ]
  },
  {
   "cell_type": "markdown",
   "metadata": {},
   "source": [
    "#### A. 4380 when getting all included deprecated"
   ]
  },
  {
   "cell_type": "code",
   "execution_count": 42,
   "metadata": {
    "tags": []
   },
   "outputs": [
    {
     "data": {
      "text/plain": [
       "4380"
      ]
     },
     "execution_count": 42,
     "metadata": {},
     "output_type": "execute_result"
    }
   ],
   "source": [
    "qtr = \"\"\"\n",
    "    SELECT ?id ?br \n",
    "    WHERE { \n",
    "        ?id rdf:type <https://neuroshapes.org/NeuronMorphology> .\n",
    "        ?id nsg:brainLocation/nsg:brainRegion ?br .\n",
    "    } \n",
    "\"\"\"\n",
    "first_query_res = bbp_atlas_forge.as_json(\n",
    "    bbp_atlas_forge.sparql(qtr, limit=LIMIT, debug=DEBUG))\n",
    "\n",
    "len(first_query_res)"
   ]
  },
  {
   "cell_type": "markdown",
   "metadata": {},
   "source": [
    "#### B. 3295 when getting all but deprecated"
   ]
  },
  {
   "cell_type": "code",
   "execution_count": 43,
   "metadata": {},
   "outputs": [
    {
     "data": {
      "text/plain": [
       "3295"
      ]
     },
     "execution_count": 43,
     "metadata": {},
     "output_type": "execute_result"
    }
   ],
   "source": [
    "qtr2 = \"\"\"\n",
    "    SELECT ?id ?br \n",
    "    WHERE { \n",
    "        ?id rdf:type <https://neuroshapes.org/NeuronMorphology> .\n",
    "        ?id nsg:brainLocation/nsg:brainRegion ?br .\n",
    "        \n",
    "        ?id <https://bluebrain.github.io/nexus/vocabulary/deprecated> ?_deprecated .\n",
    "        Filter (?_deprecated = 'false'^^xsd:boolean)\n",
    "    } \n",
    "\"\"\"\n",
    "first_query_res2 = bbp_atlas_forge.as_json(\n",
    "    bbp_atlas_forge.sparql(qtr2, limit=LIMIT, debug=DEBUG))\n",
    "len(first_query_res2)"
   ]
  },
  {
   "cell_type": "markdown",
   "metadata": {},
   "source": [
    "#### C. 3400 additional ones when getting rev, updatedAt, updatedBy (replicating forge search below)"
   ]
  },
  {
   "cell_type": "code",
   "execution_count": 44,
   "metadata": {},
   "outputs": [
    {
     "data": {
      "text/plain": [
       "3400"
      ]
     },
     "execution_count": 44,
     "metadata": {},
     "output_type": "execute_result"
    }
   ],
   "source": [
    "qtr3 = \"\"\"\n",
    "   SELECT ?id ?_deprecated ?_rev \n",
    "   WHERE { Graph ?g {?id rdf:type <https://neuroshapes.org/NeuronMorphology>;\n",
    "    <https://bluebrain.github.io/nexus/vocabulary/deprecated> ?_deprecated;\n",
    "    <https://bluebrain.github.io/nexus/vocabulary/rev> ?_rev;\n",
    "    <https://bluebrain.github.io/nexus/vocabulary/updatedAt> ?_updatedAt;\n",
    "    <https://bluebrain.github.io/nexus/vocabulary/updatedBy> ?_updatedBy . \n",
    "    Filter (?_deprecated = 'false'^^xsd:boolean)\n",
    "   }}\n",
    "\"\"\"\n",
    "first_query_res3 = bbp_atlas_forge.as_json(\n",
    "    bbp_atlas_forge.sparql(qtr3, limit=LIMIT, debug=DEBUG))\n",
    "len(first_query_res3)"
   ]
  },
  {
   "cell_type": "markdown",
   "metadata": {},
   "source": [
    "### c. Forge Search"
   ]
  },
  {
   "cell_type": "code",
   "execution_count": 45,
   "metadata": {},
   "outputs": [],
   "source": [
    "first_res = bbp_atlas_forge.search({\"type\": input_filters[\"TypeQueryParameter\"]}, \n",
    "                                   cross_bucket=True, limit=LIMIT, debug=DEBUG)"
   ]
  },
  {
   "cell_type": "code",
   "execution_count": 46,
   "metadata": {},
   "outputs": [],
   "source": [
    "first_res_format = [{\n",
    "    \"br\": el[\"brainLocation\"][\"brainRegion\"][\"id\"], \n",
    "    \"id\": el[\"id\"]\n",
    "} for el in bbp_atlas_forge.as_json(first_res)]"
   ]
  },
  {
   "cell_type": "code",
   "execution_count": 47,
   "metadata": {},
   "outputs": [
    {
     "data": {
      "text/plain": [
       "3400"
      ]
     },
     "execution_count": 47,
     "metadata": {},
     "output_type": "execute_result"
    }
   ],
   "source": [
    "len(first_res_format)"
   ]
  },
  {
   "cell_type": "markdown",
   "metadata": {},
   "source": [
    "## 2. Get all brain regions that are subclasses* of Isocortex"
   ]
  },
  {
   "cell_type": "markdown",
   "metadata": {},
   "source": [
    "### SPARQL - Forge"
   ]
  },
  {
   "cell_type": "code",
   "execution_count": 48,
   "metadata": {},
   "outputs": [],
   "source": [
    "bbp_datamodels_forge = allocate_forge_session(\"neurosciencegraph\", \"datamodels\")"
   ]
  },
  {
   "cell_type": "code",
   "execution_count": 49,
   "metadata": {},
   "outputs": [],
   "source": [
    "second_res = bbp_datamodels_forge.sparql(\"\"\"\n",
    "    SELECT ?br\n",
    "    WHERE {\n",
    "     ?br rdfs:subClassOf BrainRegion .\n",
    "     ?br <http://schema.org/isPartOf>* <http://api.brain-map.org/api/v2/data/Structure/315> .\n",
    "    }\n",
    "\"\"\", limit=LIMIT)"
   ]
  },
  {
   "cell_type": "code",
   "execution_count": 50,
   "metadata": {},
   "outputs": [],
   "source": [
    "second = [el[\"br\"] for el in bbp_datamodels_forge.as_json(second_res)]"
   ]
  },
  {
   "cell_type": "code",
   "execution_count": 51,
   "metadata": {},
   "outputs": [
    {
     "data": {
      "text/plain": [
       "374"
      ]
     },
     "execution_count": 51,
     "metadata": {},
     "output_type": "execute_result"
    }
   ],
   "source": [
    "len(second)"
   ]
  },
  {
   "cell_type": "markdown",
   "metadata": {},
   "source": [
    "## 3. Keep only the neuron morphologies that have their brain regions as a subclass* of isocortex"
   ]
  },
  {
   "cell_type": "markdown",
   "metadata": {},
   "source": [
    "### Using the b.B version"
   ]
  },
  {
   "cell_type": "code",
   "execution_count": 52,
   "metadata": {},
   "outputs": [],
   "source": [
    "first = first_query_res2"
   ]
  },
  {
   "cell_type": "code",
   "execution_count": 53,
   "metadata": {},
   "outputs": [],
   "source": [
    "merge_two = [el for el in first if el[\"br\"] in second]"
   ]
  },
  {
   "cell_type": "code",
   "execution_count": 54,
   "metadata": {},
   "outputs": [
    {
     "data": {
      "text/plain": [
       "619"
      ]
     },
     "execution_count": 54,
     "metadata": {},
     "output_type": "execute_result"
    }
   ],
   "source": [
    "len(merge_two)"
   ]
  },
  {
   "cell_type": "markdown",
   "metadata": {},
   "source": [
    "## Same result & approach as V2 rule"
   ]
  },
  {
   "cell_type": "markdown",
   "metadata": {},
   "source": [
    "# Persisting:"
   ]
  },
  {
   "cell_type": "code",
   "execution_count": 55,
   "metadata": {},
   "outputs": [],
   "source": [
    "# rule_forge = allocate_forge_session(\"bbp\", \"inference-rules\")"
   ]
  },
  {
   "cell_type": "code",
   "execution_count": 56,
   "metadata": {},
   "outputs": [],
   "source": [
    "# rule_forge.register(rule_forge.from_json(my_rule2))"
   ]
  },
  {
   "cell_type": "code",
   "execution_count": 57,
   "metadata": {},
   "outputs": [],
   "source": [
    "# my_rule2_res = rule_forge.retrieve(rule_id2)"
   ]
  },
  {
   "cell_type": "code",
   "execution_count": 58,
   "metadata": {},
   "outputs": [],
   "source": [
    "# rule_forge.tag(my_rule2_res, \"v1\")"
   ]
  }
 ],
 "metadata": {
  "kernelspec": {
   "display_name": "kg_inf_tut_x86",
   "language": "python",
   "name": "kg_inf_tut_x86"
  },
  "language_info": {
   "codemirror_mode": {
    "name": "ipython",
    "version": 3
   },
   "file_extension": ".py",
   "mimetype": "text/x-python",
   "name": "python",
   "nbconvert_exporter": "python",
   "pygments_lexer": "ipython3",
   "version": "3.9.15"
  }
 },
 "nbformat": 4,
 "nbformat_minor": 4
}
