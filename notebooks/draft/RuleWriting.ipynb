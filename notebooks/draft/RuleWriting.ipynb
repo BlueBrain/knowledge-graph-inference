{
 "cells": [
  {
   "cell_type": "code",
   "execution_count": 3,
   "metadata": {},
   "outputs": [],
   "source": [
    "import getpass\n",
    "import json\n",
    "import uuid\n",
    "\n",
    "from kgforge.core import KnowledgeGraphForge\n",
    "\n",
    "from inference_tools.utils import (check_premises,\n",
    "                                   execute_query,\n",
    "                                   execute_query_pipe,\n",
    "                                   apply_rule,\n",
    "                                   get_rule_parameters)"
   ]
  },
  {
   "cell_type": "code",
   "execution_count": 4,
   "metadata": {},
   "outputs": [],
   "source": [
    "LOCAL_TOKEN = True \n",
    "TOKEN_PATH = '../../../token.txt'\n",
    "CONFIG_PATH = \"../../../config.yaml\"\n",
    "\n",
    "def allocate_forge_session(org, project):\n",
    "    ENDPOINT = \"https://bbp.epfl.ch/nexus/v1\"  \n",
    "\n",
    "    if LOCAL_TOKEN: \n",
    "        with open(TOKEN_PATH) as f:\n",
    "            TOKEN = f.read()\n",
    "    else: \n",
    "        TOKEN = getpass.getpass()\n",
    "        \n",
    "    searchendpoints = {\n",
    "        \"sparql\": {\n",
    "           \"endpoint\": \"https://bbp.epfl.ch/neurosciencegraph/data/views/aggreg-sp/dataset\"\n",
    "       }\n",
    "    }\n",
    "    \n",
    "    return KnowledgeGraphForge(\n",
    "        CONFIG_PATH,\n",
    "        endpoint=ENDPOINT,\n",
    "        token=TOKEN, \n",
    "        bucket=f\"{org}/{project}\", \n",
    "        searchendpoints=searchendpoints,\n",
    "        debug=True\n",
    "    )"
   ]
  },
  {
   "cell_type": "markdown",
   "metadata": {},
   "source": [
    "# [Create a Rule able to Generalize data across the brain region hierarchy](https://bbpteam.epfl.ch/project/issues/browse/DKE-1105)"
   ]
  },
  {
   "cell_type": "code",
   "execution_count": 5,
   "metadata": {},
   "outputs": [],
   "source": [
    "input_filters = {\n",
    "    \"BrainRegionQueryParameter\": \"<http://api.brain-map.org/api/v2/data/Structure/315>\",\n",
    "    \"TypeQueryParameter\": \"<https://neuroshapes.org/NeuronMorphology>\"\n",
    "}"
   ]
  },
  {
   "cell_type": "markdown",
   "metadata": {},
   "source": [
    "## V1: QueryPipe: \n",
    "- 1. Get all Neuron morphologies \n",
    "- 2. Only keep those in the right brain region"
   ]
  },
  {
   "cell_type": "markdown",
   "metadata": {},
   "source": [
    "#### Problem: timing out, too many neuron morphologies retrieved and passed to the next step?"
   ]
  },
  {
   "cell_type": "code",
   "execution_count": 6,
   "metadata": {},
   "outputs": [],
   "source": [
    "rule_id = f\"https://bbp.epfl.ch/neurosciencegraph/data/{uuid.uuid4()}\"\n",
    "\n",
    "\n",
    "fq =   \"\"\"\n",
    "    SELECT ?id ?br\n",
    "    WHERE { \n",
    "        ?id rdf:type $TypeQueryParameter .\n",
    "        ?id nsg:brainLocation/nsg:brainRegion ?br .\n",
    "        \n",
    "        ?id <https://bluebrain.github.io/nexus/vocabulary/deprecated> ?_deprecated .\n",
    "        Filter (?_deprecated = 'false'^^xsd:boolean)\n",
    "        } \n",
    "\"\"\"\n",
    "\n",
    "fqo = {\n",
    "        \"type\": \"SparqlQuery\",\n",
    "        \"hasBody\": fq,\n",
    "        \"hasParameter\": [\n",
    "            {\n",
    "                \"type\": \"uri\",\n",
    "                \"description\": \"type of the entity being retrieved\",\n",
    "                \"name\": \"TypeQueryParameter\"\n",
    "            },\n",
    "        ],\n",
    "        \"queryConfiguration\": {\n",
    "            \"sparlqlView\": {\n",
    "                \"id\": \"https://bbp.epfl.ch/neurosciencegraph/data/views/aggreg-sp/dataset\"\n",
    "            },\n",
    "            \"org\": \"bbp\",\n",
    "            \"project\": \"atlas\"\n",
    "        },\n",
    "        \"resultParameterMapping\": [\n",
    "            {\n",
    "                \"parameterName\": \"entityBr\",\n",
    "                \"path\": \"br\"\n",
    "            },\n",
    "            {\n",
    "                \"parameterName\": \"entity\",\n",
    "                \"path\": \"id\"\n",
    "            }\n",
    "        ]\n",
    "    }\n",
    "\n",
    "sq = \"\"\"\n",
    "    SELECT ?id ?br\n",
    "    WHERE {\n",
    "     ?br rdfs:subClassOf BrainRegion ;   \n",
    "     <http://schema.org/isPartOf>* $BrainRegionQueryParameter.\n",
    "        VALUES (?id) {\n",
    "            $entity\n",
    "        }.\n",
    "        VALUES (?br){\n",
    "            $entityBr\n",
    "        }\n",
    "    }\n",
    "\"\"\"\n",
    "\n",
    "sqo = {\n",
    "    \"type\": \"SparqlQuery\",\n",
    "    \"hasBody\": sq,\n",
    "    \"hasParameter\": [\n",
    "    {\n",
    "        \"type\": \"sparql_value_list\",\n",
    "        \"description\": \"List of URIs of brains regions\",\n",
    "        \"name\": \"entityBr\"\n",
    "    }, \n",
    "    {\n",
    "        \"type\": \"sparql_value_list\",\n",
    "        \"description\": \"List of URIs of entities of type\",\n",
    "        \"name\": \"entity\"\n",
    "    }, \n",
    "    {\n",
    "        \"type\": \"uri\",\n",
    "        \"description\": \"URI of the queried brain region\",\n",
    "        \"name\": \"BrainRegionQueryParameter\"\n",
    "    }\n",
    "    ],\n",
    "    \"queryConfiguration\": {\n",
    "        \"sparlqlView\": {\n",
    "            \"id\": \"https://bbp.epfl.ch/neurosciencegraph/data/views/aggreg-sp/dataset\"\n",
    "        },\n",
    "        \"org\": \"neurosciencegraph\",\n",
    "        \"project\": \"datamodels\"\n",
    "    },\n",
    "    \"resultParameterMapping\": {\n",
    "        \"parameterName\": \"test\",\n",
    "        \"path\": \"entity\"\n",
    "    }\n",
    "}\n",
    "\n",
    "\n",
    "my_rule = {\n",
    "    \"id\": rule_id,\n",
    "    \"type\": \"DataGeneralizationRule\",\n",
    "    \"_schemaProject\": \"https://bbp.epfl.ch/nexus/v1/projects/bbp/inference-rules\",\n",
    "    \"description\": \"Generalise up (ancestors) and/or down (descendants) a (combination of)\"+\n",
    "    \"hierarchy in a BBP ontology (e.g. cell type, brain region)\",\n",
    "    \"name\": \"TODO\", #TODO\n",
    "    \"searchQuery\": {\n",
    "        \"type\": \"QueryPipe\",\n",
    "        \"head\": fqo, \n",
    "        \"rest\": sqo\n",
    "    }\n",
    "}"
   ]
  },
  {
   "cell_type": "code",
   "execution_count": 14,
   "metadata": {},
   "outputs": [],
   "source": [
    "# res = apply_rule(allocate_forge_session, my_rule, input_filters)\n",
    "# res"
   ]
  },
  {
   "cell_type": "markdown",
   "metadata": {},
   "source": [
    "## QueryPipe: \n",
    "- 1. Get all valid brain regions\n",
    "- 2. Query Neuron Morphologies and keep only those with the valid brain regions"
   ]
  },
  {
   "cell_type": "code",
   "execution_count": 33,
   "metadata": {},
   "outputs": [],
   "source": [
    "rule_id2 = f\"https://bbp.epfl.ch/neurosciencegraph/data/{uuid.uuid4()}\"\n",
    "\n",
    "\n",
    "fq2 = \"\"\"\n",
    "    SELECT ?id\n",
    "    WHERE {\n",
    "     ?id rdfs:subClassOf BrainRegion ;   \n",
    "     <http://schema.org/isPartOf>* $BrainRegionQueryParameter.\n",
    "    }\n",
    "\"\"\"\n",
    "\n",
    "fqo2 = {\n",
    "        \"type\": \"SparqlQuery\",\n",
    "        \"hasBody\": fq2,\n",
    "        \"hasParameter\": [\n",
    "            {\n",
    "                \"type\": \"uri\",\n",
    "                \"description\": \"type of the brain region it should belong to\",\n",
    "                \"name\": \"BrainRegionQueryParameter\"\n",
    "            },\n",
    "        ],\n",
    "        \"queryConfiguration\": {\n",
    "            \"sparlqlView\": {\n",
    "                \"id\": \"https://bbp.epfl.ch/neurosciencegraph/data/views/aggreg-sp/dataset\"\n",
    "            },\n",
    "            \n",
    "            \"org\": \"neurosciencegraph\",\n",
    "            \"project\": \"datamodels\"\n",
    "        },\n",
    "        \"resultParameterMapping\": [\n",
    "            {\n",
    "                \"parameterName\": \"all_brs\",\n",
    "                \"path\": \"id\"\n",
    "            },\n",
    "        ]\n",
    "    }\n",
    "\n",
    "\n",
    "sq2 =   \"\"\"\n",
    "    SELECT ?id ?br\n",
    "    WHERE { \n",
    "        ?id rdf:type $TypeQueryParameter .\n",
    "        ?id nsg:brainLocation/nsg:brainRegion ?br .\n",
    "        ?id <https://bluebrain.github.io/nexus/vocabulary/deprecated> ?_deprecated .\n",
    "        Filter (?_deprecated = 'false'^^xsd:boolean &&  ?br IN $all_brs)\n",
    "    } \n",
    "\"\"\"\n",
    "\n",
    "sqo2 = {\n",
    "    \"type\": \"SparqlQuery\",\n",
    "    \"hasBody\": sq2,\n",
    "    \"hasParameter\": [\n",
    "    {\n",
    "        \"type\": \"sparql_list\",\n",
    "        \"description\": \"List of URIs of brains regions\",\n",
    "        \"name\": \"all_brs\"\n",
    "    }, \n",
    "    {\n",
    "        \"type\": \"uri\",\n",
    "        \"description\": \"type of the queried entity\",\n",
    "        \"name\": \"TypeQueryParameter\"\n",
    "    }\n",
    "    ],\n",
    "    \"queryConfiguration\": {\n",
    "        \"sparlqlView\": {\n",
    "            \"id\": \"https://bbp.epfl.ch/neurosciencegraph/data/views/aggreg-sp/dataset\"\n",
    "        },\n",
    "        \"org\": \"bbp\",\n",
    "        \"project\": \"atlas\"\n",
    "    },\n",
    "    \"resultParameterMapping\": {\n",
    "        \"parameterName\": \"test\",\n",
    "        \"path\": \"entity\"\n",
    "    }\n",
    "}\n",
    "\n",
    "\n",
    "my_rule2 = {\n",
    "    \"id\": rule_id2,\n",
    "    \"type\": \"DataGeneralizationRule\",\n",
    "    \"_schemaProject\": \"https://bbp.epfl.ch/nexus/v1/projects/bbp/inference-rules\",\n",
    "    \"description\": \"\"\"\n",
    "        Given an entity type (e.g NeuronMorphology, Trace, cell type, ...) \n",
    "        linked with a given brain region (e.g. Isocortex), generalise to entities associated \n",
    "        with the descendants of the region (e.g Gustatory areas)\n",
    "    \"\"\",\n",
    "    \"name\": \"\"\"\n",
    "        Generalise up (ancestors) and/or down (descendants) a (combination of) \n",
    "        \"hierarchy in a BBP ontology (e.g. cell type, brain region)\n",
    "    \"\"\",\n",
    "     \"searchQuery\": {\n",
    "        \"type\": \"QueryPipe\",\n",
    "        \"head\": fqo2, \n",
    "        \"rest\": sqo2\n",
    "    }\n",
    "   \n",
    "}"
   ]
  },
  {
   "cell_type": "code",
   "execution_count": 9,
   "metadata": {},
   "outputs": [
    {
     "data": {
      "text/plain": [
       "619"
      ]
     },
     "execution_count": 9,
     "metadata": {},
     "output_type": "execute_result"
    }
   ],
   "source": [
    "res2 = apply_rule(allocate_forge_session, my_rule2, input_filters)\n",
    "len(res2)"
   ]
  },
  {
   "cell_type": "markdown",
   "metadata": {},
   "source": [
    "# Expected"
   ]
  },
  {
   "cell_type": "markdown",
   "metadata": {},
   "source": [
    "## 1. Get all neuron morphologies"
   ]
  },
  {
   "cell_type": "code",
   "execution_count": 13,
   "metadata": {},
   "outputs": [],
   "source": [
    "bbp_atlas_forge = allocate_forge_session(\"bbp\", \"atlas\")"
   ]
  },
  {
   "cell_type": "code",
   "execution_count": 6,
   "metadata": {},
   "outputs": [],
   "source": [
    "# !cat ../../../inference_test/lib/python3.7/site-packages/.."
   ]
  },
  {
   "cell_type": "markdown",
   "metadata": {},
   "source": [
    "### a. SPARQL - KG_Inference - All but deprecated"
   ]
  },
  {
   "cell_type": "code",
   "execution_count": 9,
   "metadata": {},
   "outputs": [
    {
     "name": "stdout",
     "output_type": "stream",
     "text": [
      "Submitted query:\n",
      "   PREFIX bmc: <https://bbp.epfl.ch/ontologies/core/bmc/>\n",
      "   PREFIX bmo: <https://bbp.epfl.ch/ontologies/core/bmo/>\n",
      "   PREFIX commonshapes: <https://neuroshapes.org/commons/>\n",
      "   PREFIX datashapes: <https://neuroshapes.org/dash/>\n",
      "   PREFIX dc: <http://purl.org/dc/elements/1.1/>\n",
      "   PREFIX dcat: <http://www.w3.org/ns/dcat#>\n",
      "   PREFIX dcterms: <http://purl.org/dc/terms/>\n",
      "   PREFIX mba: <http://api.brain-map.org/api/v2/data/Structure/>\n",
      "   PREFIX nsg: <https://neuroshapes.org/>\n",
      "   PREFIX nxv: <https://bluebrain.github.io/nexus/vocabulary/>\n",
      "   PREFIX oa: <http://www.w3.org/ns/oa#>\n",
      "   PREFIX obo: <http://purl.obolibrary.org/obo/>\n",
      "   PREFIX owl: <http://www.w3.org/2002/07/owl#>\n",
      "   PREFIX prov: <http://www.w3.org/ns/prov#>\n",
      "   PREFIX rdf: <http://www.w3.org/1999/02/22-rdf-syntax-ns#>\n",
      "   PREFIX rdfs: <http://www.w3.org/2000/01/rdf-schema#>\n",
      "   PREFIX schema: <http://schema.org/>\n",
      "   PREFIX sh: <http://www.w3.org/ns/shacl#>\n",
      "   PREFIX shsh: <http://www.w3.org/ns/shacl-shacl#>\n",
      "   PREFIX skos: <http://www.w3.org/2004/02/skos/core#>\n",
      "   PREFIX vann: <http://purl.org/vocab/vann/>\n",
      "   PREFIX void: <http://rdfs.org/ns/void#>\n",
      "   PREFIX xml: <http://www.w3.org/XML/1998/namespace/>\n",
      "   PREFIX xsd: <http://www.w3.org/2001/XMLSchema#>\n",
      "   PREFIX : <https://bbp.epfl.ch/nexus/v1/resources/bbp/atlas/_/>\n",
      "   \n",
      "       SELECT ?id ?br\n",
      "       WHERE { \n",
      "           ?id rdf:type <https://neuroshapes.org/NeuronMorphology> .\n",
      "           ?id nsg:brainLocation/nsg:brainRegion ?br .\n",
      "           \n",
      "           ?id <https://bluebrain.github.io/nexus/vocabulary/deprecated> ?_deprecated .\n",
      "           Filter (?_deprecated = 'false'^^xsd:boolean)\n",
      "           } \n",
      "\n"
     ]
    }
   ],
   "source": [
    "first_query_res = execute_query(allocate_forge_session, fqo, input_filters, last_query=True)"
   ]
  },
  {
   "cell_type": "code",
   "execution_count": 10,
   "metadata": {},
   "outputs": [
    {
     "data": {
      "text/plain": [
       "3295"
      ]
     },
     "execution_count": 10,
     "metadata": {},
     "output_type": "execute_result"
    }
   ],
   "source": [
    "len(first_query_res)"
   ]
  },
  {
   "cell_type": "markdown",
   "metadata": {},
   "source": [
    "### b. SPARQL - Forge"
   ]
  },
  {
   "cell_type": "code",
   "execution_count": 16,
   "metadata": {},
   "outputs": [],
   "source": [
    "DEBUG = False"
   ]
  },
  {
   "cell_type": "markdown",
   "metadata": {},
   "source": [
    "The following 3 numbers are true only if commenting out line 372 of [kgforge/core/archetypes/store.py](\n",
    "https://github.com/BlueBrain/nexus-forge/blob/9e62fb4a8ec8db97366fa6b6de75dadccaf02967/kgforge/core/archetypes/store.py)"
   ]
  },
  {
   "cell_type": "code",
   "execution_count": 59,
   "metadata": {},
   "outputs": [
    {
     "name": "stdout",
     "output_type": "stream",
     "text": [
      "    def sparql(\n",
      "        self, query: str, debug: bool, limit: int = None, offset: int = None, **params\n",
      "    ) -> List[Resource]:\n",
      "        rewrite = params.get(\"rewrite\", True)\n",
      "        qr = (\n",
      "            rewrite_sparql(query, self.model_context, self.service.metadata_context)\n",
      "            if self.model_context is not None and rewrite\n",
      "            else query\n",
      "        )\n",
      "\n",
      "#         qr = _replace_in_sparql(qr, \"LIMIT\", limit, 100, r\" LIMIT \\d+\")\n",
      "\n",
      "        qr = _replace_in_sparql(qr, \"OFFSET\", offset, 0, r\" OFFSET \\d+\")\n",
      "        if debug:\n",
      "            self._debug_query(qr)\n",
      "        return self._sparql(qr, limit, offset, **params)\n",
      "\n"
     ]
    }
   ],
   "source": [
    "! sed -n 363,379p ../../../inference_test/lib/python3.7/site-packages/kgforge/core/archetypes/store.py"
   ]
  },
  {
   "cell_type": "code",
   "execution_count": 10,
   "metadata": {},
   "outputs": [],
   "source": [
    "LIMIT = None"
   ]
  },
  {
   "cell_type": "markdown",
   "metadata": {},
   "source": [
    "or a super high limit (10k?)"
   ]
  },
  {
   "cell_type": "code",
   "execution_count": 14,
   "metadata": {},
   "outputs": [],
   "source": [
    "LIMIT = 10000"
   ]
  },
  {
   "cell_type": "markdown",
   "metadata": {},
   "source": [
    "#### A. 4380 when getting all included deprecated"
   ]
  },
  {
   "cell_type": "code",
   "execution_count": 17,
   "metadata": {},
   "outputs": [
    {
     "data": {
      "text/plain": [
       "4380"
      ]
     },
     "execution_count": 17,
     "metadata": {},
     "output_type": "execute_result"
    }
   ],
   "source": [
    "qtr = \"\"\"\n",
    "    SELECT ?id ?br \n",
    "    WHERE { \n",
    "        ?id rdf:type <https://neuroshapes.org/NeuronMorphology> .\n",
    "        ?id nsg:brainLocation/nsg:brainRegion ?br .\n",
    "    } \n",
    "\"\"\"\n",
    "first_query_res = bbp_atlas_forge.as_json(\n",
    "    bbp_atlas_forge.sparql(qtr, limit=LIMIT, debug=DEBUG))\n",
    "\n",
    "len(first_query_res)"
   ]
  },
  {
   "cell_type": "markdown",
   "metadata": {},
   "source": [
    "#### B. 3295 when getting all but deprecated"
   ]
  },
  {
   "cell_type": "code",
   "execution_count": 18,
   "metadata": {},
   "outputs": [
    {
     "data": {
      "text/plain": [
       "3295"
      ]
     },
     "execution_count": 18,
     "metadata": {},
     "output_type": "execute_result"
    }
   ],
   "source": [
    "qtr2 = \"\"\"\n",
    "    SELECT ?id ?br \n",
    "    WHERE { \n",
    "        ?id rdf:type <https://neuroshapes.org/NeuronMorphology> .\n",
    "        ?id nsg:brainLocation/nsg:brainRegion ?br .\n",
    "        \n",
    "        ?id <https://bluebrain.github.io/nexus/vocabulary/deprecated> ?_deprecated .\n",
    "        Filter (?_deprecated = 'false'^^xsd:boolean)\n",
    "    } \n",
    "\"\"\"\n",
    "first_query_res2 = bbp_atlas_forge.as_json(\n",
    "    bbp_atlas_forge.sparql(qtr2, limit=LIMIT, debug=DEBUG))\n",
    "len(first_query_res2)"
   ]
  },
  {
   "cell_type": "markdown",
   "metadata": {},
   "source": [
    "#### C. 3400 additional ones when getting rev, updatedAt, updatedBy (replicating forge search below)"
   ]
  },
  {
   "cell_type": "code",
   "execution_count": 19,
   "metadata": {},
   "outputs": [
    {
     "data": {
      "text/plain": [
       "3400"
      ]
     },
     "execution_count": 19,
     "metadata": {},
     "output_type": "execute_result"
    }
   ],
   "source": [
    "qtr3 = \"\"\"\n",
    "   SELECT ?id ?_deprecated ?_rev \n",
    "   WHERE { Graph ?g {?id rdf:type <https://neuroshapes.org/NeuronMorphology>;\n",
    "    <https://bluebrain.github.io/nexus/vocabulary/deprecated> ?_deprecated;\n",
    "    <https://bluebrain.github.io/nexus/vocabulary/rev> ?_rev;\n",
    "    <https://bluebrain.github.io/nexus/vocabulary/updatedAt> ?_updatedAt;\n",
    "    <https://bluebrain.github.io/nexus/vocabulary/updatedBy> ?_updatedBy . \n",
    "    Filter (?_deprecated = 'false'^^xsd:boolean)\n",
    "   }}\n",
    "\"\"\"\n",
    "first_query_res3 = bbp_atlas_forge.as_json(\n",
    "    bbp_atlas_forge.sparql(qtr3, limit=LIMIT, debug=DEBUG))\n",
    "len(first_query_res3)"
   ]
  },
  {
   "cell_type": "markdown",
   "metadata": {},
   "source": [
    "### c. Forge Search"
   ]
  },
  {
   "cell_type": "code",
   "execution_count": 20,
   "metadata": {},
   "outputs": [],
   "source": [
    "first_res = bbp_atlas_forge.search({\"type\": input_filters[\"TypeQueryParameter\"]}, \n",
    "                                   cross_bucket=True, limit=LIMIT, debug=DEBUG)"
   ]
  },
  {
   "cell_type": "code",
   "execution_count": 13,
   "metadata": {},
   "outputs": [],
   "source": [
    "first_res_format = [{\n",
    "    \"br\": el[\"brainLocation\"][\"brainRegion\"][\"id\"], \n",
    "    \"id\": el[\"id\"]\n",
    "} for el in bbp_atlas_forge.as_json(first_res)]"
   ]
  },
  {
   "cell_type": "code",
   "execution_count": 14,
   "metadata": {},
   "outputs": [
    {
     "data": {
      "text/plain": [
       "3400"
      ]
     },
     "execution_count": 14,
     "metadata": {},
     "output_type": "execute_result"
    }
   ],
   "source": [
    "len(first_res_format)"
   ]
  },
  {
   "cell_type": "markdown",
   "metadata": {},
   "source": [
    "## 2. Get all brain regions that are subclasses* of Isocortex"
   ]
  },
  {
   "cell_type": "markdown",
   "metadata": {},
   "source": [
    "### SPARQL - Forge"
   ]
  },
  {
   "cell_type": "code",
   "execution_count": 23,
   "metadata": {},
   "outputs": [],
   "source": [
    "bbp_datamodels_forge = allocate_forge_session(\"neurosciencegraph\", \"datamodels\")"
   ]
  },
  {
   "cell_type": "code",
   "execution_count": 24,
   "metadata": {},
   "outputs": [],
   "source": [
    "second_res = bbp_datamodels_forge.sparql(\"\"\"\n",
    "    SELECT ?br\n",
    "    WHERE {\n",
    "     ?br rdfs:subClassOf BrainRegion .\n",
    "     ?br <http://schema.org/isPartOf>* <http://api.brain-map.org/api/v2/data/Structure/315> .\n",
    "    }\n",
    "\"\"\", limit=LIMIT)"
   ]
  },
  {
   "cell_type": "code",
   "execution_count": 25,
   "metadata": {},
   "outputs": [],
   "source": [
    "second = [el[\"br\"] for el in bbp_datamodels_forge.as_json(second_res)]"
   ]
  },
  {
   "cell_type": "code",
   "execution_count": 26,
   "metadata": {},
   "outputs": [
    {
     "data": {
      "text/plain": [
       "374"
      ]
     },
     "execution_count": 26,
     "metadata": {},
     "output_type": "execute_result"
    }
   ],
   "source": [
    "len(second)"
   ]
  },
  {
   "cell_type": "markdown",
   "metadata": {},
   "source": [
    "## 3. Keep only the neuron morphologies that have their brain regions as a subclass* of isocortex"
   ]
  },
  {
   "cell_type": "markdown",
   "metadata": {},
   "source": [
    "### Using the b.B version"
   ]
  },
  {
   "cell_type": "code",
   "execution_count": 16,
   "metadata": {},
   "outputs": [],
   "source": [
    "first = first_query_res2"
   ]
  },
  {
   "cell_type": "code",
   "execution_count": 22,
   "metadata": {},
   "outputs": [],
   "source": [
    "merge_two = [el for el in first if el[\"br\"] in second]"
   ]
  },
  {
   "cell_type": "code",
   "execution_count": 24,
   "metadata": {},
   "outputs": [
    {
     "data": {
      "text/plain": [
       "619"
      ]
     },
     "execution_count": 24,
     "metadata": {},
     "output_type": "execute_result"
    }
   ],
   "source": [
    "len(merge_two)"
   ]
  },
  {
   "cell_type": "markdown",
   "metadata": {},
   "source": [
    "## Same result & approach as V2 rule"
   ]
  },
  {
   "cell_type": "markdown",
   "metadata": {},
   "source": [
    "# Persisting:"
   ]
  },
  {
   "cell_type": "code",
   "execution_count": 34,
   "metadata": {},
   "outputs": [],
   "source": [
    "rule_forge = allocate_forge_session(\"bbp\", \"inference-rules\")"
   ]
  },
  {
   "cell_type": "code",
   "execution_count": 35,
   "metadata": {},
   "outputs": [
    {
     "name": "stdout",
     "output_type": "stream",
     "text": [
      "<action> _register_one\n",
      "<succeeded> True\n"
     ]
    }
   ],
   "source": [
    "rule_forge.register(rule_forge.from_json(my_rule2))"
   ]
  },
  {
   "cell_type": "code",
   "execution_count": 40,
   "metadata": {},
   "outputs": [],
   "source": [
    "my_rule2_res = rule_forge.retrieve(rule_id2)"
   ]
  },
  {
   "cell_type": "code",
   "execution_count": 41,
   "metadata": {},
   "outputs": [
    {
     "name": "stdout",
     "output_type": "stream",
     "text": [
      "<action> _tag_one\n",
      "<succeeded> True\n"
     ]
    }
   ],
   "source": [
    "rule_forge.tag(my_rule2_res, \"v1\")"
   ]
  }
 ],
 "metadata": {
  "kernelspec": {
   "display_name": "inference_test",
   "language": "python",
   "name": "inference_test"
  },
  "language_info": {
   "codemirror_mode": {
    "name": "ipython",
    "version": 3
   },
   "file_extension": ".py",
   "mimetype": "text/x-python",
   "name": "python",
   "nbconvert_exporter": "python",
   "pygments_lexer": "ipython3",
   "version": "3.7.4"
  }
 },
 "nbformat": 4,
 "nbformat_minor": 4
}
