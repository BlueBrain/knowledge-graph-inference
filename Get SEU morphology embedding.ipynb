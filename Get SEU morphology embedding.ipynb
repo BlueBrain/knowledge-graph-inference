{
 "cells": [
  {
   "cell_type": "markdown",
   "metadata": {},
   "source": [
    "# Retrieve embedding vectors for SEU morphologies"
   ]
  },
  {
   "cell_type": "code",
   "execution_count": 1,
   "metadata": {},
   "outputs": [],
   "source": [
    "import requests"
   ]
  },
  {
   "cell_type": "code",
   "execution_count": 2,
   "metadata": {},
   "outputs": [],
   "source": [
    "ENDPOINT = \"http://embedder-bbp-dke-dev.ocp.bbp.epfl.ch\""
   ]
  },
  {
   "cell_type": "markdown",
   "metadata": {},
   "source": [
    "## Get all the models in the catalogue"
   ]
  },
  {
   "cell_type": "code",
   "execution_count": 3,
   "metadata": {},
   "outputs": [
    {
     "name": "stdout",
     "output_type": "stream",
     "text": [
      "<Response [200]>\n"
     ]
    },
    {
     "data": {
      "text/plain": [
       "{'models': {'SEU_morph_attri2vec_euclidean': {'id': 'SEU_morph_attri2vec_euclidean',\n",
       "   'name': 'SEU_morph_attri2vec_euclidean',\n",
       "   'description': 'SEU_morph_attri2vec_euclidean',\n",
       "   'filename': 'downloads/SEU_morph_attri2vec_euclidean.zip',\n",
       "   'created': 'Tue Jul  6 14:18:16 2021',\n",
       "   'modified': 'Mon Jul  5 10:41:44 2021'}}}"
      ]
     },
     "execution_count": 3,
     "metadata": {},
     "output_type": "execute_result"
    }
   ],
   "source": [
    "r = requests.get(\n",
    "    f'{ENDPOINT}/models/')\n",
    "print(r)\n",
    "r.json()"
   ]
  },
  {
   "cell_type": "markdown",
   "metadata": {},
   "source": [
    "## Get a model by name"
   ]
  },
  {
   "cell_type": "code",
   "execution_count": 4,
   "metadata": {},
   "outputs": [],
   "source": [
    "MODEL_NAME = \"SEU_morph_attri2vec_euclidean\""
   ]
  },
  {
   "cell_type": "code",
   "execution_count": 5,
   "metadata": {},
   "outputs": [
    {
     "name": "stdout",
     "output_type": "stream",
     "text": [
      "<Response [200]>\n"
     ]
    },
    {
     "data": {
      "text/plain": [
       "{'id': 'SEU_morph_attri2vec_euclidean',\n",
       " 'name': 'SEU_morph_attri2vec_euclidean',\n",
       " 'description': 'SEU_morph_attri2vec_euclidean',\n",
       " 'filename': 'downloads/SEU_morph_attri2vec_euclidean.zip',\n",
       " 'created': 'Tue Jul  6 14:18:16 2021',\n",
       " 'modified': 'Mon Jul  5 10:41:44 2021'}"
      ]
     },
     "execution_count": 5,
     "metadata": {},
     "output_type": "execute_result"
    }
   ],
   "source": [
    "r = requests.get(\n",
    "    f'{ENDPOINT}/models/{MODEL_NAME}')\n",
    "print(r)\n",
    "r.json()"
   ]
  },
  {
   "cell_type": "markdown",
   "metadata": {},
   "source": [
    "## Get details on different model components"
   ]
  },
  {
   "cell_type": "code",
   "execution_count": 6,
   "metadata": {},
   "outputs": [
    {
     "name": "stdout",
     "output_type": "stream",
     "text": [
      "<Response [200]>\n"
     ]
    },
    {
     "data": {
      "text/plain": [
       "{'heterogeneous': 'False',\n",
       " 'drop_types': 'False',\n",
       " 'encode_types': 'False',\n",
       " 'edge_features': 'False',\n",
       " 'categorical_encoding': 'multibin',\n",
       " 'text_encoding': 'tfidf',\n",
       " 'text_encoding_max_dimension': '128',\n",
       " 'missing_numeric': 'impute',\n",
       " 'imputation_strategy': 'mean',\n",
       " 'standardize_numeric': 'True',\n",
       " 'node_properties': \"['brainLocation_brainRegion_id', 'brainLocation_coordinatesInBrainAtlas_valueX_value', 'brainLocation_coordinatesInBrainAtlas_valueY_value', 'brainLocation_coordinatesInBrainAtlas_valueZ_value', 'somaNumberOfPoints_value', 'subject_name', 'has_Axon_feature', 'has_BasalDendrite_feature', 'has_ApicalDendrite_feature', 'BasalDendrite_cumulatedLength', 'BasalDendrite_longestBranchLength', 'BasalDendrite_longestBranchNumberOfNodes', 'BasalDendrite_numberOfProjections', 'BasalDendrite_projectionBrainRegion', 'BasalDendrite_traversedBrainRegion', 'Axon_cumulatedLength', 'Axon_longestBranchLength', 'Axon_longestBranchNumberOfNodes', 'Axon_numberOfProjections', 'Axon_projectionBrainRegion', 'Axon_traversedBrainRegion', 'ApicalDendrite_cumulatedLength', 'ApicalDendrite_longestBranchLength', 'ApicalDendrite_longestBranchNumberOfNodes', 'ApicalDendrite_numberOfProjections', 'ApicalDendrite_projectionBrainRegion', 'ApicalDendrite_traversedBrainRegion']\",\n",
       " 'edge_properties': 'None',\n",
       " 'interface': 'ScikitLearnPGEncoder'}"
      ]
     },
     "execution_count": 6,
     "metadata": {},
     "output_type": "execute_result"
    }
   ],
   "source": [
    "r = requests.get(\n",
    "    f'{ENDPOINT}/models/{MODEL_NAME}/preprocessor/')\n",
    "print(r)\n",
    "r.json()"
   ]
  },
  {
   "cell_type": "code",
   "execution_count": 7,
   "metadata": {},
   "outputs": [
    {
     "name": "stdout",
     "output_type": "stream",
     "text": [
      "<Response [200]>\n"
     ]
    },
    {
     "data": {
      "text/plain": [
       "{'interface': 'StellarGraphNodeEmbedder',\n",
       " 'model_type': 'inductive',\n",
       " 'trained': 'True',\n",
       " 'model_name': 'attri2vec',\n",
       " 'model_params': \"{'length': 5, 'number_of_walks': 10, 'epochs': 10, 'embedding_dimension': 128, 'batch_size': 20, 'negative_samples': 10, 'num_samples': [10, 5], 'random_walk_p': 0.5, 'random_walk_q': 2.0, 'clusters': 2, 'clusters_q': 1}\",\n",
       " 'graph_configs': \"{'directed': True, 'include_type': False, 'feature_props': None, 'feature_vector_prop': 'features', 'edge_weight': 'frequency'}\"}"
      ]
     },
     "execution_count": 7,
     "metadata": {},
     "output_type": "execute_result"
    }
   ],
   "source": [
    "r = requests.get(\n",
    "    f'{ENDPOINT}/models/{MODEL_NAME}/embedder/')\n",
    "print(r)\n",
    "r.json()"
   ]
  },
  {
   "cell_type": "code",
   "execution_count": 8,
   "metadata": {},
   "outputs": [
    {
     "name": "stdout",
     "output_type": "stream",
     "text": [
      "<Response [200]>\n"
     ]
    },
    {
     "data": {
      "text/plain": [
       "{'similarity': 'euclidean',\n",
       " 'dimension': '128',\n",
       " 'segmented': 'False',\n",
       " 'interface': 'SimilarityProcessor'}"
      ]
     },
     "execution_count": 8,
     "metadata": {},
     "output_type": "execute_result"
    }
   ],
   "source": [
    "r = requests.get(\n",
    "    f'{ENDPOINT}/models/{MODEL_NAME}/similarity-processor/')\n",
    "print(r)\n",
    "r.json()"
   ]
  },
  {
   "cell_type": "markdown",
   "metadata": {},
   "source": [
    "## Get resource embeddings"
   ]
  },
  {
   "cell_type": "code",
   "execution_count": 11,
   "metadata": {
    "scrolled": true
   },
   "outputs": [
    {
     "name": "stdout",
     "output_type": "stream",
     "text": [
      "<Response [200]>\n",
      "CPU times: user 9.34 ms, sys: 4.33 ms, total: 13.7 ms\n",
      "Wall time: 47 ms\n"
     ]
    },
    {
     "data": {
      "text/plain": [
       "{'vectors': {'https://bbp.epfl.ch/neurosciencegraph/data/neuronmorphologies/608c996a-15a3-4d8a-aa4a-827fa6946f9b': [0.9938040971755981,\n",
       "   0.11907371878623962,\n",
       "   0.9720897674560547,\n",
       "   0.9913535118103027,\n",
       "   0.03903073072433472,\n",
       "   0.05238097906112671,\n",
       "   0.9858897924423218,\n",
       "   0.12588229775428772,\n",
       "   0.9556014537811279,\n",
       "   0.8814420104026794,\n",
       "   0.0419333279132843,\n",
       "   0.9818362593650818,\n",
       "   0.9761927127838135,\n",
       "   0.9870108366012573,\n",
       "   0.20886778831481934,\n",
       "   0.053264766931533813,\n",
       "   0.22237610816955566,\n",
       "   0.20299917459487915,\n",
       "   0.565372884273529,\n",
       "   0.02974003553390503,\n",
       "   0.1516365110874176,\n",
       "   0.9195360541343689,\n",
       "   0.751937747001648,\n",
       "   0.9866510033607483,\n",
       "   0.05084711313247681,\n",
       "   0.323513925075531,\n",
       "   0.05458638072013855,\n",
       "   0.9942514300346375,\n",
       "   0.662847638130188,\n",
       "   0.9609318971633911,\n",
       "   0.9484144449234009,\n",
       "   0.8712941408157349,\n",
       "   0.9422887563705444,\n",
       "   0.9529879093170166,\n",
       "   0.016747087240219116,\n",
       "   0.28841525316238403,\n",
       "   0.9781495332717896,\n",
       "   0.7823991179466248,\n",
       "   0.9665271043777466,\n",
       "   0.880576491355896,\n",
       "   0.7881596088409424,\n",
       "   0.008239805698394775,\n",
       "   0.07411834597587585,\n",
       "   0.03682452440261841,\n",
       "   0.7908312082290649,\n",
       "   0.8310173749923706,\n",
       "   0.7503508925437927,\n",
       "   0.9685742259025574,\n",
       "   0.569571316242218,\n",
       "   0.9898279905319214,\n",
       "   0.08724221587181091,\n",
       "   0.06517553329467773,\n",
       "   0.6627768874168396,\n",
       "   0.011760234832763672,\n",
       "   0.08021652698516846,\n",
       "   0.03301370143890381,\n",
       "   0.9370687007904053,\n",
       "   0.4778897762298584,\n",
       "   0.043913304805755615,\n",
       "   0.024670332670211792,\n",
       "   0.2913217544555664,\n",
       "   0.9130431413650513,\n",
       "   0.9837219715118408,\n",
       "   0.9890561103820801,\n",
       "   0.9502300024032593,\n",
       "   0.06174546480178833,\n",
       "   0.617730438709259,\n",
       "   0.5852368474006653,\n",
       "   0.5502895712852478,\n",
       "   0.16011622548103333,\n",
       "   0.036502718925476074,\n",
       "   0.991908073425293,\n",
       "   0.9199646711349487,\n",
       "   0.9545859098434448,\n",
       "   0.41419297456741333,\n",
       "   0.9727491140365601,\n",
       "   0.8212064504623413,\n",
       "   0.4443393349647522,\n",
       "   0.06645479798316956,\n",
       "   0.06392434239387512,\n",
       "   0.9440181255340576,\n",
       "   0.06554076075553894,\n",
       "   0.9374347925186157,\n",
       "   0.9610093832015991,\n",
       "   0.09655460715293884,\n",
       "   0.024251610040664673,\n",
       "   0.9876052141189575,\n",
       "   0.9902887344360352,\n",
       "   0.052447378635406494,\n",
       "   0.9022054672241211,\n",
       "   0.03153565526008606,\n",
       "   0.6503867506980896,\n",
       "   0.5143347978591919,\n",
       "   0.9838676452636719,\n",
       "   0.9900690317153931,\n",
       "   0.05666482448577881,\n",
       "   0.08500376343727112,\n",
       "   0.9724977016448975,\n",
       "   0.18745273351669312,\n",
       "   0.9895183444023132,\n",
       "   0.018275558948516846,\n",
       "   0.9946691989898682,\n",
       "   0.9849811792373657,\n",
       "   0.11070358753204346,\n",
       "   0.9942518472671509,\n",
       "   0.991287112236023,\n",
       "   0.823434591293335,\n",
       "   0.7710403203964233,\n",
       "   0.2503129541873932,\n",
       "   0.06093814969062805,\n",
       "   0.23261451721191406,\n",
       "   0.08008161187171936,\n",
       "   0.9942175149917603,\n",
       "   0.7103362083435059,\n",
       "   0.6001448631286621,\n",
       "   0.013930916786193848,\n",
       "   0.9904564619064331,\n",
       "   0.9746502637863159,\n",
       "   0.10966429114341736,\n",
       "   0.08600208163261414,\n",
       "   0.7699524164199829,\n",
       "   0.029295384883880615,\n",
       "   0.9354648590087891,\n",
       "   0.9867871999740601,\n",
       "   0.03591296076774597,\n",
       "   0.9868737459182739,\n",
       "   0.2507767975330353,\n",
       "   0.9343029856681824],\n",
       "  'https://bbp.epfl.ch/neurosciencegraph/data/neuronmorphologies/e1977f18-059c-4039-b1b9-e982f0c2bdb8': [0.051846325397491455,\n",
       "   0.20722073316574097,\n",
       "   0.13082578778266907,\n",
       "   0.18979644775390625,\n",
       "   0.028050601482391357,\n",
       "   0.4002070128917694,\n",
       "   0.18244901299476624,\n",
       "   0.17905887961387634,\n",
       "   0.05973607301712036,\n",
       "   0.5879284143447876,\n",
       "   0.21377506852149963,\n",
       "   0.23708924651145935,\n",
       "   0.30363762378692627,\n",
       "   0.07582700252532959,\n",
       "   0.3265593647956848,\n",
       "   0.24829235672950745,\n",
       "   0.12648338079452515,\n",
       "   0.2588863968849182,\n",
       "   0.16747626662254333,\n",
       "   0.6560885906219482,\n",
       "   0.0750657320022583,\n",
       "   0.9316569566726685,\n",
       "   0.2117718756198883,\n",
       "   0.059968799352645874,\n",
       "   0.309528648853302,\n",
       "   0.22852346301078796,\n",
       "   0.41681188344955444,\n",
       "   0.12756860256195068,\n",
       "   0.18793001770973206,\n",
       "   0.532593309879303,\n",
       "   0.8818050622940063,\n",
       "   0.16341030597686768,\n",
       "   0.18516656756401062,\n",
       "   0.07155156135559082,\n",
       "   0.7018057107925415,\n",
       "   0.2789115309715271,\n",
       "   0.023220449686050415,\n",
       "   0.06994938850402832,\n",
       "   0.044044822454452515,\n",
       "   0.13442274928092957,\n",
       "   0.9026483297348022,\n",
       "   0.42213499546051025,\n",
       "   0.06837767362594604,\n",
       "   0.23636394739151,\n",
       "   0.37772446870803833,\n",
       "   0.6871432662010193,\n",
       "   0.4989512264728546,\n",
       "   0.8859297633171082,\n",
       "   0.8964463472366333,\n",
       "   0.20159152150154114,\n",
       "   0.04791375994682312,\n",
       "   0.222252756357193,\n",
       "   0.9472991824150085,\n",
       "   0.8417840003967285,\n",
       "   0.39223214983940125,\n",
       "   0.38242682814598083,\n",
       "   0.014380276203155518,\n",
       "   0.3176073729991913,\n",
       "   0.33568689227104187,\n",
       "   0.7966012954711914,\n",
       "   0.06340163946151733,\n",
       "   0.35241666436195374,\n",
       "   0.0644463300704956,\n",
       "   0.8942452669143677,\n",
       "   0.7973076701164246,\n",
       "   0.1610964834690094,\n",
       "   0.307218074798584,\n",
       "   0.9616153240203857,\n",
       "   0.7419334650039673,\n",
       "   0.1924835741519928,\n",
       "   0.1456296443939209,\n",
       "   0.13952073454856873,\n",
       "   0.01231423020362854,\n",
       "   0.1508573591709137,\n",
       "   0.91410231590271,\n",
       "   0.13707220554351807,\n",
       "   0.6766794323921204,\n",
       "   0.03338742256164551,\n",
       "   0.5824153423309326,\n",
       "   0.20465773344039917,\n",
       "   0.5285124182701111,\n",
       "   0.33375269174575806,\n",
       "   0.015308797359466553,\n",
       "   0.025447577238082886,\n",
       "   0.11041659116744995,\n",
       "   0.9163222312927246,\n",
       "   0.19769048690795898,\n",
       "   0.33265477418899536,\n",
       "   0.057446449995040894,\n",
       "   0.5494258999824524,\n",
       "   0.31752586364746094,\n",
       "   0.8875501155853271,\n",
       "   0.06938883662223816,\n",
       "   0.3192635178565979,\n",
       "   0.06817993521690369,\n",
       "   0.16695532202720642,\n",
       "   0.7782902717590332,\n",
       "   0.04221189022064209,\n",
       "   0.1905553936958313,\n",
       "   0.0468464195728302,\n",
       "   0.21292155981063843,\n",
       "   0.06614983081817627,\n",
       "   0.05018898844718933,\n",
       "   0.16599860787391663,\n",
       "   0.029031336307525635,\n",
       "   0.07074764370918274,\n",
       "   0.8183960914611816,\n",
       "   0.5258657336235046,\n",
       "   0.572363018989563,\n",
       "   0.7331681251525879,\n",
       "   0.7854875326156616,\n",
       "   0.2667351961135864,\n",
       "   0.015468299388885498,\n",
       "   0.12958383560180664,\n",
       "   0.9505029916763306,\n",
       "   0.7341644763946533,\n",
       "   0.059096962213516235,\n",
       "   0.04487636685371399,\n",
       "   0.5746824145317078,\n",
       "   0.17774608731269836,\n",
       "   0.09452822804450989,\n",
       "   0.04673531651496887,\n",
       "   0.040240079164505005,\n",
       "   0.0578499436378479,\n",
       "   0.33516204357147217,\n",
       "   0.2672116160392761,\n",
       "   0.08455443382263184,\n",
       "   0.3765655755996704],\n",
       "  'lalala not in the index': None}}"
      ]
     },
     "execution_count": 11,
     "metadata": {},
     "output_type": "execute_result"
    }
   ],
   "source": [
    "%%time\n",
    "r = requests.get(\n",
    "    f'{ENDPOINT}/models/{MODEL_NAME}/embedding',\n",
    "    params={\n",
    "        \"resource_ids\": [\n",
    "            \"https://bbp.epfl.ch/neurosciencegraph/data/neuronmorphologies/608c996a-15a3-4d8a-aa4a-827fa6946f9b\",\n",
    "            \"https://bbp.epfl.ch/neurosciencegraph/data/neuronmorphologies/e1977f18-059c-4039-b1b9-e982f0c2bdb8\",\n",
    "            \"lalala not in the index\"\n",
    "        ]\n",
    "    })\n",
    "print(r)\n",
    "r.json()"
   ]
  },
  {
   "cell_type": "markdown",
   "metadata": {},
   "source": [
    "## Get nearest neighbors"
   ]
  },
  {
   "cell_type": "code",
   "execution_count": 12,
   "metadata": {
    "scrolled": true
   },
   "outputs": [
    {
     "name": "stdout",
     "output_type": "stream",
     "text": [
      "<Response [200]>\n",
      "CPU times: user 4.67 ms, sys: 2.21 ms, total: 6.89 ms\n",
      "Wall time: 64.4 ms\n"
     ]
    },
    {
     "data": {
      "text/plain": [
       "{'neighbors': {'https://bbp.epfl.ch/neurosciencegraph/data/neuronmorphologies/608c996a-15a3-4d8a-aa4a-827fa6946f9b': ['https://bbp.epfl.ch/neurosciencegraph/data/neuronmorphologies/608c996a-15a3-4d8a-aa4a-827fa6946f9b',\n",
       "   'https://bbp.epfl.ch/neurosciencegraph/data/neuronmorphologies/93c7344a-5a7e-49be-967f-ce34051fdff1',\n",
       "   'https://bbp.epfl.ch/neurosciencegraph/data/neuronmorphologies/eb0289d3-de39-4864-982a-81e288e6dd60',\n",
       "   'https://bbp.epfl.ch/neurosciencegraph/data/neuronmorphologies/f9d77a6b-5f9a-41c4-9669-6c437b91f149',\n",
       "   'https://bbp.epfl.ch/neurosciencegraph/data/neuronmorphologies/ac512d1e-6aa2-43e9-8a15-84bffd81d688',\n",
       "   'https://bbp.epfl.ch/neurosciencegraph/data/neuronmorphologies/ae900192-e4cd-46f7-a0d9-6950632c427c',\n",
       "   'https://bbp.epfl.ch/neurosciencegraph/data/neuronmorphologies/d779e2cb-90e2-4f63-8b69-c863b0658ef2',\n",
       "   'https://bbp.epfl.ch/neurosciencegraph/data/neuronmorphologies/4d53dd8c-7ee1-41e1-b32e-13c6c129721d',\n",
       "   'https://bbp.epfl.ch/neurosciencegraph/data/neuronmorphologies/bb1ddf04-915f-463f-ab0d-11abf416b88a',\n",
       "   'https://bbp.epfl.ch/neurosciencegraph/data/neuronmorphologies/127d4f54-f227-495f-bb28-98a331fc8d9c',\n",
       "   'https://bbp.epfl.ch/neurosciencegraph/data/neuronmorphologies/429fd04e-bf42-44a1-9dad-3076b14bd4dc',\n",
       "   'https://bbp.epfl.ch/neurosciencegraph/data/neuronmorphologies/eec7988d-1960-4b42-a152-c249640a4797',\n",
       "   'https://bbp.epfl.ch/neurosciencegraph/data/neuronmorphologies/f7af79fc-9dfb-4fdb-be5c-1d22126983cf',\n",
       "   'https://bbp.epfl.ch/neurosciencegraph/data/neuronmorphologies/f76bd50e-b3ab-4eb6-bef4-0083ce8a7384',\n",
       "   'https://bbp.epfl.ch/neurosciencegraph/data/neuronmorphologies/2c713500-56db-4f5d-8ad2-c136b282325e',\n",
       "   'https://bbp.epfl.ch/neurosciencegraph/data/neuronmorphologies/05555e84-6dfe-45d6-8811-e8cf41dc219b',\n",
       "   'https://bbp.epfl.ch/neurosciencegraph/data/neuronmorphologies/ed1d07e9-df2b-4542-9f17-eb3f00bb0826',\n",
       "   'https://bbp.epfl.ch/neurosciencegraph/data/neuronmorphologies/a1de498c-03c9-4918-baf6-d8ab6ab6fe0c',\n",
       "   'https://bbp.epfl.ch/neurosciencegraph/data/neuronmorphologies/63bb85db-da24-4376-98cd-b032113a8ed7',\n",
       "   'https://bbp.epfl.ch/neurosciencegraph/data/neuronmorphologies/c1808385-6348-4539-abca-d18b25531e5d'],\n",
       "  'https://bbp.epfl.ch/neurosciencegraph/data/neuronmorphologies/e1977f18-059c-4039-b1b9-e982f0c2bdb8': ['https://bbp.epfl.ch/neurosciencegraph/data/neuronmorphologies/e1977f18-059c-4039-b1b9-e982f0c2bdb8',\n",
       "   'https://bbp.epfl.ch/neurosciencegraph/data/neuronmorphologies/7a972afe-4f99-4139-92d4-6f66a6d49919',\n",
       "   'https://bbp.epfl.ch/neurosciencegraph/data/neuronmorphologies/c9638e96-122e-421e-9fad-bb6ca76a551d',\n",
       "   'https://bbp.epfl.ch/neurosciencegraph/data/neuronmorphologies/c48b5778-76f3-442a-a6db-ca67ca2e65e9',\n",
       "   'https://bbp.epfl.ch/neurosciencegraph/data/neuronmorphologies/138ca8d1-fee6-4149-b305-45f80ae89a10',\n",
       "   'https://bbp.epfl.ch/neurosciencegraph/data/neuronmorphologies/4b69cfbc-53bb-485d-adc4-e156c228d980',\n",
       "   'https://bbp.epfl.ch/neurosciencegraph/data/neuronmorphologies/f81946c9-ba76-40d4-9194-14f4e3b338cc',\n",
       "   'https://bbp.epfl.ch/neurosciencegraph/data/neuronmorphologies/67174fee-cb04-47c6-8b35-0eb2f2c7eafe',\n",
       "   'https://bbp.epfl.ch/neurosciencegraph/data/neuronmorphologies/54501222-a61e-4ab2-a628-b7ac6c4aeb3c',\n",
       "   'https://bbp.epfl.ch/neurosciencegraph/data/neuronmorphologies/8344da28-87c0-4067-ac98-66aa992a973d',\n",
       "   'https://bbp.epfl.ch/neurosciencegraph/data/neuronmorphologies/63e57e33-ad42-4061-abd2-7985e6c60810',\n",
       "   'https://bbp.epfl.ch/neurosciencegraph/data/neuronmorphologies/2c908aa8-d4ab-4fcb-bf6c-4a16cce5c7e9',\n",
       "   'https://bbp.epfl.ch/neurosciencegraph/data/neuronmorphologies/ca97aa24-0163-45b2-ad1e-2de53e281302',\n",
       "   'https://bbp.epfl.ch/neurosciencegraph/data/neuronmorphologies/fe61675c-6996-4ecd-97a4-8a481fc1d9df',\n",
       "   'https://bbp.epfl.ch/neurosciencegraph/data/neuronmorphologies/9b8fb9cd-197d-431d-95fc-1b4290cd6f46',\n",
       "   'https://bbp.epfl.ch/neurosciencegraph/data/neuronmorphologies/1317cc86-b12c-4d4f-9b9b-c5222e2fbb97',\n",
       "   'https://bbp.epfl.ch/neurosciencegraph/data/neuronmorphologies/d5ea8899-2747-4679-a07a-935426e676f9',\n",
       "   'https://bbp.epfl.ch/neurosciencegraph/data/neuronmorphologies/c6851cb6-1346-4746-b2af-878b0be3547c',\n",
       "   'https://bbp.epfl.ch/neurosciencegraph/data/neuronmorphologies/1a0f6629-b881-40fe-a85b-d277eab7922b',\n",
       "   'https://bbp.epfl.ch/neurosciencegraph/data/neuronmorphologies/1111f4cd-4075-4bf1-abdf-374175451d9e'],\n",
       "  'lalal not in index': None}}"
      ]
     },
     "execution_count": 12,
     "metadata": {},
     "output_type": "execute_result"
    }
   ],
   "source": [
    "%%time\n",
    "r = requests.get(\n",
    "    f'{ENDPOINT}/models/{MODEL_NAME}/neighbors/',\n",
    "    params={\n",
    "        \"resource_ids\": [\n",
    "            \"https://bbp.epfl.ch/neurosciencegraph/data/neuronmorphologies/608c996a-15a3-4d8a-aa4a-827fa6946f9b\",\n",
    "            \"https://bbp.epfl.ch/neurosciencegraph/data/neuronmorphologies/e1977f18-059c-4039-b1b9-e982f0c2bdb8\",\n",
    "            \"lalal not in index\"\n",
    "        ],\n",
    "        \"k\": 20\n",
    "    })\n",
    "print(r)\n",
    "r.json()"
   ]
  },
  {
   "cell_type": "code",
   "execution_count": 15,
   "metadata": {
    "scrolled": true
   },
   "outputs": [
    {
     "name": "stdout",
     "output_type": "stream",
     "text": [
      "<Response [200]>\n",
      "CPU times: user 8 ms, sys: 3.34 ms, total: 11.3 ms\n",
      "Wall time: 54 ms\n"
     ]
    },
    {
     "data": {
      "text/plain": [
       "{'neighbors': {'https://bbp.epfl.ch/neurosciencegraph/data/neuronmorphologies/608c996a-15a3-4d8a-aa4a-827fa6946f9b': {'https://bbp.epfl.ch/neurosciencegraph/data/neuronmorphologies/608c996a-15a3-4d8a-aa4a-827fa6946f9b': 0.0,\n",
       "   'https://bbp.epfl.ch/neurosciencegraph/data/neuronmorphologies/93c7344a-5a7e-49be-967f-ce34051fdff1': 0.42103111743927,\n",
       "   'https://bbp.epfl.ch/neurosciencegraph/data/neuronmorphologies/eb0289d3-de39-4864-982a-81e288e6dd60': 0.7957563400268555,\n",
       "   'https://bbp.epfl.ch/neurosciencegraph/data/neuronmorphologies/f9d77a6b-5f9a-41c4-9669-6c437b91f149': 0.8210515975952148,\n",
       "   'https://bbp.epfl.ch/neurosciencegraph/data/neuronmorphologies/ac512d1e-6aa2-43e9-8a15-84bffd81d688': 0.8502457737922668,\n",
       "   'https://bbp.epfl.ch/neurosciencegraph/data/neuronmorphologies/ae900192-e4cd-46f7-a0d9-6950632c427c': 0.8575608134269714,\n",
       "   'https://bbp.epfl.ch/neurosciencegraph/data/neuronmorphologies/d779e2cb-90e2-4f63-8b69-c863b0658ef2': 0.8788225054740906,\n",
       "   'https://bbp.epfl.ch/neurosciencegraph/data/neuronmorphologies/4d53dd8c-7ee1-41e1-b32e-13c6c129721d': 0.9942364692687988,\n",
       "   'https://bbp.epfl.ch/neurosciencegraph/data/neuronmorphologies/bb1ddf04-915f-463f-ab0d-11abf416b88a': 1.0167229175567627,\n",
       "   'https://bbp.epfl.ch/neurosciencegraph/data/neuronmorphologies/127d4f54-f227-495f-bb28-98a331fc8d9c': 1.0783324241638184,\n",
       "   'https://bbp.epfl.ch/neurosciencegraph/data/neuronmorphologies/429fd04e-bf42-44a1-9dad-3076b14bd4dc': 1.226454734802246,\n",
       "   'https://bbp.epfl.ch/neurosciencegraph/data/neuronmorphologies/eec7988d-1960-4b42-a152-c249640a4797': 1.2850115299224854,\n",
       "   'https://bbp.epfl.ch/neurosciencegraph/data/neuronmorphologies/f7af79fc-9dfb-4fdb-be5c-1d22126983cf': 1.3522242307662964,\n",
       "   'https://bbp.epfl.ch/neurosciencegraph/data/neuronmorphologies/f76bd50e-b3ab-4eb6-bef4-0083ce8a7384': 1.7802159786224365,\n",
       "   'https://bbp.epfl.ch/neurosciencegraph/data/neuronmorphologies/2c713500-56db-4f5d-8ad2-c136b282325e': 1.8013339042663574,\n",
       "   'https://bbp.epfl.ch/neurosciencegraph/data/neuronmorphologies/05555e84-6dfe-45d6-8811-e8cf41dc219b': 1.8319096565246582,\n",
       "   'https://bbp.epfl.ch/neurosciencegraph/data/neuronmorphologies/ed1d07e9-df2b-4542-9f17-eb3f00bb0826': 1.9010339975357056,\n",
       "   'https://bbp.epfl.ch/neurosciencegraph/data/neuronmorphologies/a1de498c-03c9-4918-baf6-d8ab6ab6fe0c': 1.9231700897216797,\n",
       "   'https://bbp.epfl.ch/neurosciencegraph/data/neuronmorphologies/63bb85db-da24-4376-98cd-b032113a8ed7': 1.9424537420272827,\n",
       "   'https://bbp.epfl.ch/neurosciencegraph/data/neuronmorphologies/c1808385-6348-4539-abca-d18b25531e5d': 1.94596529006958},\n",
       "  'https://bbp.epfl.ch/neurosciencegraph/data/neuronmorphologies/e1977f18-059c-4039-b1b9-e982f0c2bdb8': {'https://bbp.epfl.ch/neurosciencegraph/data/neuronmorphologies/e1977f18-059c-4039-b1b9-e982f0c2bdb8': 0.0,\n",
       "   'https://bbp.epfl.ch/neurosciencegraph/data/neuronmorphologies/7a972afe-4f99-4139-92d4-6f66a6d49919': 1.9033839702606201,\n",
       "   'https://bbp.epfl.ch/neurosciencegraph/data/neuronmorphologies/c9638e96-122e-421e-9fad-bb6ca76a551d': 2.272212505340576,\n",
       "   'https://bbp.epfl.ch/neurosciencegraph/data/neuronmorphologies/c48b5778-76f3-442a-a6db-ca67ca2e65e9': 2.402556896209717,\n",
       "   'https://bbp.epfl.ch/neurosciencegraph/data/neuronmorphologies/138ca8d1-fee6-4149-b305-45f80ae89a10': 2.502511978149414,\n",
       "   'https://bbp.epfl.ch/neurosciencegraph/data/neuronmorphologies/4b69cfbc-53bb-485d-adc4-e156c228d980': 2.847994089126587,\n",
       "   'https://bbp.epfl.ch/neurosciencegraph/data/neuronmorphologies/f81946c9-ba76-40d4-9194-14f4e3b338cc': 2.9072394371032715,\n",
       "   'https://bbp.epfl.ch/neurosciencegraph/data/neuronmorphologies/67174fee-cb04-47c6-8b35-0eb2f2c7eafe': 2.9793519973754883,\n",
       "   'https://bbp.epfl.ch/neurosciencegraph/data/neuronmorphologies/54501222-a61e-4ab2-a628-b7ac6c4aeb3c': 3.1551432609558105,\n",
       "   'https://bbp.epfl.ch/neurosciencegraph/data/neuronmorphologies/8344da28-87c0-4067-ac98-66aa992a973d': 3.3468422889709473,\n",
       "   'https://bbp.epfl.ch/neurosciencegraph/data/neuronmorphologies/63e57e33-ad42-4061-abd2-7985e6c60810': 3.513842821121216,\n",
       "   'https://bbp.epfl.ch/neurosciencegraph/data/neuronmorphologies/2c908aa8-d4ab-4fcb-bf6c-4a16cce5c7e9': 3.574631690979004,\n",
       "   'https://bbp.epfl.ch/neurosciencegraph/data/neuronmorphologies/ca97aa24-0163-45b2-ad1e-2de53e281302': 3.6001453399658203,\n",
       "   'https://bbp.epfl.ch/neurosciencegraph/data/neuronmorphologies/fe61675c-6996-4ecd-97a4-8a481fc1d9df': 3.6393370628356934,\n",
       "   'https://bbp.epfl.ch/neurosciencegraph/data/neuronmorphologies/9b8fb9cd-197d-431d-95fc-1b4290cd6f46': 3.853928565979004,\n",
       "   'https://bbp.epfl.ch/neurosciencegraph/data/neuronmorphologies/1317cc86-b12c-4d4f-9b9b-c5222e2fbb97': 3.890824556350708,\n",
       "   'https://bbp.epfl.ch/neurosciencegraph/data/neuronmorphologies/d5ea8899-2747-4679-a07a-935426e676f9': 3.9255447387695312,\n",
       "   'https://bbp.epfl.ch/neurosciencegraph/data/neuronmorphologies/c6851cb6-1346-4746-b2af-878b0be3547c': 4.134172439575195,\n",
       "   'https://bbp.epfl.ch/neurosciencegraph/data/neuronmorphologies/1a0f6629-b881-40fe-a85b-d277eab7922b': 4.157436847686768,\n",
       "   'https://bbp.epfl.ch/neurosciencegraph/data/neuronmorphologies/1111f4cd-4075-4bf1-abdf-374175451d9e': 4.278995513916016},\n",
       "  'lalal not in index': None}}"
      ]
     },
     "execution_count": 15,
     "metadata": {},
     "output_type": "execute_result"
    }
   ],
   "source": [
    "%%time\n",
    "# The similarity index is built on Euclidean distance: the smaller the value, the closer the neighbor\n",
    "r = requests.get(\n",
    "    f'{ENDPOINT}/models/{MODEL_NAME}/neighbors/',\n",
    "    params={\n",
    "        \"resource_ids\": [\n",
    "            \"https://bbp.epfl.ch/neurosciencegraph/data/neuronmorphologies/608c996a-15a3-4d8a-aa4a-827fa6946f9b\",\n",
    "            \"https://bbp.epfl.ch/neurosciencegraph/data/neuronmorphologies/e1977f18-059c-4039-b1b9-e982f0c2bdb8\",\n",
    "            \"lalal not in index\"\n",
    "        ],\n",
    "        \"k\": 20,\n",
    "        \"values\": True\n",
    "    })\n",
    "print(r)\n",
    "r.json()"
   ]
  },
  {
   "cell_type": "markdown",
   "metadata": {},
   "source": [
    "## Predict embeddings for unseen points"
   ]
  },
  {
   "cell_type": "code",
   "execution_count": 15,
   "metadata": {},
   "outputs": [
    {
     "name": "stdout",
     "output_type": "stream",
     "text": [
      "<Response [200]>\n",
      "CPU times: user 3.44 ms, sys: 1.42 ms, total: 4.86 ms\n",
      "Wall time: 8.38 ms\n"
     ]
    }
   ],
   "source": [
    "%%time\n",
    "r = requests.post(\n",
    "    f'{ENDPOINT}/models/{MODEL_NAME}/embedding/',\n",
    "    json={\n",
    "        \"data\": [\"hello world\", \"protein\", \"coronavirus\"],\n",
    "    })\n",
    "print(r)\n",
    "vectors = r.json()[\"vectors\"]"
   ]
  },
  {
   "cell_type": "code",
   "execution_count": 16,
   "metadata": {
    "scrolled": true
   },
   "outputs": [
    {
     "name": "stdout",
     "output_type": "stream",
     "text": [
      "<Response [200]>\n",
      "CPU times: user 3.96 ms, sys: 1.55 ms, total: 5.51 ms\n",
      "Wall time: 14.2 ms\n"
     ]
    },
    {
     "data": {
      "text/plain": [
       "{'neighbors': [{'shell': 0.8483226299285889,\n",
       "   'shellfish': 0.8483226299285889,\n",
       "   \"st. john's wort\": 0.8498218655586243,\n",
       "   'how worried': 0.8998590707778931,\n",
       "   'got worse': 0.9149569272994995,\n",
       "   'frizzled-2': 1.0,\n",
       "   '3p21.3-p21.1': 1.0,\n",
       "   '9p13': 1.0,\n",
       "   '1p13.3-p13.1': 1.0,\n",
       "   '16p': 1.0,\n",
       "   'unlikely': 1.0,\n",
       "   '19: 56026591-56020357': 1.0,\n",
       "   '21q21.3': 1.0,\n",
       "   '3: 52419049-52410067': 1.0,\n",
       "   '2q37': 1.0,\n",
       "   'cdc73 np_078805.3:p.m1v': 1.0,\n",
       "   '10: 135229746-135241501': 1.0,\n",
       "   '1q22-q23': 1.0,\n",
       "   '13q34': 1.0,\n",
       "   '10: 115793796-115795518': 1.0},\n",
       "  {'glycoprotein': 0.0,\n",
       "   'protein': 0.0,\n",
       "   'protein xrp2': 0.13581442832946777,\n",
       "   'protein btg1': 0.13581442832946777,\n",
       "   'protein nlrc5': 0.13581442832946777,\n",
       "   'protein wnt-10b': 0.13581442832946777,\n",
       "   'protein wnt-2b': 0.13581442832946777,\n",
       "   'protein emsy': 0.13581442832946777,\n",
       "   'protein wnt-16': 0.13581442832946777,\n",
       "   'protein hira': 0.13581442832946777,\n",
       "   'protein wnt-5a': 0.13581442832946777,\n",
       "   'protein znf365': 0.13581442832946777,\n",
       "   'protein wnt-4': 0.13581442832946777,\n",
       "   'protein wnt-9a': 0.13581442832946777,\n",
       "   'protein wnt-6': 0.13581442832946777,\n",
       "   'protein wnt-10a': 0.13581442832946777,\n",
       "   'protein jtb': 0.13581442832946777,\n",
       "   'protein btg2': 0.13581442832946777,\n",
       "   'protein jagged-1': 0.13581442832946777,\n",
       "   'protein wnt-11': 0.13581442832946777},\n",
       "  {'gammacoronavirus': 0.0,\n",
       "   'coronavirus': 0.0,\n",
       "   'deltacoronavirus': 0.0,\n",
       "   'alphacoronavirus': 0.09536717087030411,\n",
       "   'betacoronavirus': 0.10278478264808655,\n",
       "   'coronaviridae': 0.3299184739589691,\n",
       "   'sars coronavirus': 0.3501652777194977,\n",
       "   'sars coronavirus 2': 0.39390283823013306,\n",
       "   'boron': 0.8892370462417603,\n",
       "   'coroner': 0.9673304557800293,\n",
       "   'coronal plane': 1.0734639167785645,\n",
       "   'tilorone': 1.1802555322647095,\n",
       "   'karonudib': 1.2630442380905151,\n",
       "   'iron': 1.2630442380905151,\n",
       "   'chronic pericoronitis': 1.2976963520050049,\n",
       "   'trustworthy electronic record': 1.4094152450561523,\n",
       "   'ribavirin/recombinant interferon alpha-2b': 1.4414143562316895,\n",
       "   'dronabinol': 1.4458036422729492,\n",
       "   'hexahedron': 1.4583936929702759,\n",
       "   'cupferron': 1.4707610607147217}]}"
      ]
     },
     "execution_count": 16,
     "metadata": {},
     "output_type": "execute_result"
    }
   ],
   "source": [
    "%%time\n",
    "r = requests.post(\n",
    "    f'{ENDPOINT}/models/{MODEL_NAME}/neighbors/',\n",
    "    params={\n",
    "        \"k\": 20,\n",
    "        \"values\": True\n",
    "    },\n",
    "    json={\n",
    "        \"vectors\": vectors\n",
    "    })\n",
    "print(r)\n",
    "r.json()"
   ]
  }
 ],
 "metadata": {
  "kernelspec": {
   "display_name": "bg",
   "language": "python",
   "name": "bg"
  },
  "language_info": {
   "codemirror_mode": {
    "name": "ipython",
    "version": 3
   },
   "file_extension": ".py",
   "mimetype": "text/x-python",
   "name": "python",
   "nbconvert_exporter": "python",
   "pygments_lexer": "ipython3",
   "version": "3.7.10"
  }
 },
 "nbformat": 4,
 "nbformat_minor": 4
}
