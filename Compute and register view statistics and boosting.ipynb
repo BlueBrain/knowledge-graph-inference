{
 "cells": [
  {
   "cell_type": "code",
   "execution_count": null,
   "id": "153363f7",
   "metadata": {},
   "outputs": [],
   "source": [
    "import getpass\n",
    "import math\n",
    "from collections import namedtuple\n",
    "\n",
    "import numpy as np\n",
    "import matplotlib.pyplot as plt\n",
    "\n",
    "from urllib.parse import quote_plus\n",
    "\n",
    "from kgforge.core import KnowledgeGraphForge"
   ]
  },
  {
   "cell_type": "markdown",
   "id": "6e00aaef",
   "metadata": {},
   "source": [
    "# Helpers"
   ]
  },
  {
   "cell_type": "code",
   "execution_count": null,
   "id": "e877b579",
   "metadata": {},
   "outputs": [],
   "source": [
    "Statistics = namedtuple('Statistics', 'min max mean std')"
   ]
  },
  {
   "cell_type": "code",
   "execution_count": null,
   "id": "1bf1a22c",
   "metadata": {},
   "outputs": [],
   "source": [
    "def set_elastic_view(forge, view):\n",
    "    forge._store.service.elastic_endpoint[\"endpoint\"] = \"/\".join(\n",
    "        (VIEWS_ENDPOINT, quote_plus(view), \"_search\"))\n",
    "\n",
    "\n",
    "def get_all_vectors(forge, resource_limit):\n",
    "    all_embeddings = forge.elastic(f\"\"\"{{\n",
    "        \"from\" : 0,\n",
    "        \"size\" : {resource_limit},\n",
    "        \"query\": {{\n",
    "            \"term\": {{\"_deprecated\": false}}\n",
    "        }}\n",
    "    }}\n",
    "    \"\"\")\n",
    "    vectors = {\n",
    "        result._source[\"@id\"]: result._source[\"embedding\"]\n",
    "        for result in all_embeddings\n",
    "    }\n",
    "    return vectors\n",
    "\n",
    "\n",
    "def get_all_scores(forge, vectors, formula, param_name, resource_limit=200, boosting=None):\n",
    "    score_values = set()\n",
    "    for k, vector in vectors.items():\n",
    "        query = f\"\"\"{{\n",
    "          \"size\": {len(vectors)},\n",
    "          \"query\": {{\n",
    "            \"script_score\": {{\n",
    "                \"query\": {{\n",
    "                    \"bool\" : {{\n",
    "                      \"must_not\" : {{\n",
    "                        \"term\" : {{ \"@id\": \"{k}\" }}\n",
    "                      }},\n",
    "                      \"must\": {{ \"exists\": {{ \"field\": \"embedding\" }} }}\n",
    "                    }}\n",
    "                }},\n",
    "                \"script\": {{\n",
    "                    \"source\": \"{formula}\",\n",
    "                    \"params\": {{\n",
    "                      \"{param_name}\": {vector}\n",
    "                    }}\n",
    "                }}\n",
    "            }}\n",
    "          }}\n",
    "        }}\"\"\"\n",
    "\n",
    "        res = forge.elastic(query)\n",
    "        for el in res:\n",
    "            boost_factor = 1\n",
    "            if boosting:\n",
    "                boost_factor = 1 + boosting[el._source[\"@id\"]]\n",
    "            score_values.add(el._score * boost_factor)\n",
    "    score_values = np.array(list(score_values))\n",
    "    return score_values\n",
    "\n",
    "\n",
    "def get_view_stats(forge, vectors, formula, param_name, resource_limit=200, boosting=None):\n",
    "    score_values = get_all_scores(\n",
    "        forge, vectors, formula, param_name, resource_limit, boosting)\n",
    "    return score_values, Statistics(\n",
    "        score_values.min(),\n",
    "        score_values.max(),\n",
    "        score_values.mean(),\n",
    "        score_values.std())\n",
    "\n",
    "\n",
    "def register_stats(forge, view_id, sample_size, stats, formula, param_name, boost=False):  \n",
    "    stats_resource = forge.from_json({\n",
    "        \"type\": \"ElasticSearchViewStatistics\",\n",
    "        \"boosted\": boosted,\n",
    "        \"scriptScore\": formula,\n",
    "        \"vectorParameter\": param_name,\n",
    "        \"series\": [\n",
    "            {\n",
    "              \"statistic\": \"min\",\n",
    "              \"unitCode\": \"dimensionless\",\n",
    "              \"value\": stats.min\n",
    "            },\n",
    "            {\n",
    "              \"statistic\": \"max\",\n",
    "              \"unitCode\": \"dimensionless\",\n",
    "              \"value\": stats.max\n",
    "            },\n",
    "            {\n",
    "              \"statistic\": \"mean\",\n",
    "              \"unitCode\": \"dimensionless\",\n",
    "              \"value\": stats.mean\n",
    "            },\n",
    "            {\n",
    "              \"statistic\": \"standard deviation\",\n",
    "              \"unitCode\": \"dimensionless\",\n",
    "              \"value\": stats.std\n",
    "            },\n",
    "            {\n",
    "              \"statistic\": \"N\",\n",
    "              \"unitCode\": \"dimensionless\",\n",
    "              \"value\": sample_size\n",
    "            }\n",
    "        ],\n",
    "        \"derivation\": {\n",
    "            \"type\": \"Derivation\",\n",
    "            \"entity\": {\n",
    "                \"id\": view_id\n",
    "            }\n",
    "        },\n",
    "#         \"generation\": {\n",
    "#             \"type\": \"Generation\",\n",
    "#             \"activity\": {\n",
    "#                 \"used\": {\n",
    "#                     \"id\": \n",
    "#                 }\n",
    "#             }\n",
    "#         }\n",
    "    })\n",
    "    forge.register(stats_resource)\n",
    "    \n",
    "    \n",
    "def get_score_deviation(forge, point_id, vector, k, formula, param_name):\n",
    "    query = f\"\"\"{{\n",
    "      \"size\": {k},\n",
    "      \"query\": {{\n",
    "        \"script_score\": {{\n",
    "          \"query\": {{\n",
    "                \"exists\": {{\n",
    "                    \"field\": \"embedding\"\n",
    "                }}\n",
    "          }},\n",
    "          \"script\": {{\n",
    "            \"source\": \"{formula}\",\n",
    "            \"params\": {{\n",
    "              \"{param_name}\": {vector}\n",
    "            }}\n",
    "          }}\n",
    "        }}\n",
    "      }}\n",
    "    }}\"\"\"\n",
    "\n",
    "    result = forge.elastic(query)\n",
    "    scores = set()\n",
    "    for el in result:\n",
    "        if point_id != el._source[\"@id\"]:\n",
    "            scores.add(el._score)\n",
    "    scores = np.array(list(scores))\n",
    "    return math.sqrt(((1 - scores)**2).mean())\n",
    "\n",
    "\n",
    "def register_boosting_data(forge, view_id, deviation, formula, param_name):\n",
    "    factors = [\n",
    "        {\"entity\": {\"@id\": k}, \"value\": 1 + v, \"unitCode\": \"dimensionless\"}\n",
    "        for k, v in data.items()\n",
    "    ]\n",
    "    resource = forge.from_json({\n",
    "        \"type\": \"SimilarityBoostingSeries\",\n",
    "        \"scriptScore\": formula,\n",
    "        \"vectorParameter\": param_name,\n",
    "        \"series\": factors,\n",
    "        \"derivation\": {\n",
    "            \"type\": \"Derivation\",\n",
    "            \"entity\": {\n",
    "                \"id\": view_id\n",
    "            }\n",
    "        }\n",
    "    })\n",
    "    forge.register(resource)"
   ]
  },
  {
   "cell_type": "markdown",
   "id": "2633acc2",
   "metadata": {},
   "source": [
    "# Configure forge"
   ]
  },
  {
   "cell_type": "code",
   "execution_count": null,
   "id": "ce4b0243",
   "metadata": {},
   "outputs": [],
   "source": [
    "TOKEN = getpass.getpass()"
   ]
  },
  {
   "cell_type": "code",
   "execution_count": null,
   "id": "0b43bc45",
   "metadata": {},
   "outputs": [],
   "source": [
    "ENDPOINT = \"https://staging.nexus.ocp.bbp.epfl.ch/v1\"\n",
    "ORG = \"dke\"\n",
    "PROJECT = \"seu-embeddings\"\n",
    "VIEWS_ENDPOINT = \"/\".join(\n",
    "    (ENDPOINT, \"views\", quote_plus(ORG), quote_plus(PROJECT)))"
   ]
  },
  {
   "cell_type": "code",
   "execution_count": null,
   "id": "5f8af1a7",
   "metadata": {},
   "outputs": [],
   "source": [
    "forge = KnowledgeGraphForge(\"https://raw.githubusercontent.com/BlueBrain/nexus-forge/master/examples/notebooks/use-cases/prod-forge-nexus.yml\",\n",
    "                            token=TOKEN, \n",
    "                            endpoint=ENDPOINT,        \n",
    "                            bucket=f\"{ORG}/{PROJECT}\")"
   ]
  },
  {
   "cell_type": "markdown",
   "id": "73f55ced",
   "metadata": {},
   "source": [
    "# Get all embedding vectors"
   ]
  },
  {
   "cell_type": "code",
   "execution_count": null,
   "id": "019c9db1",
   "metadata": {},
   "outputs": [],
   "source": [
    "vector_parameter = \"query_vector\""
   ]
  },
  {
   "cell_type": "code",
   "execution_count": null,
   "id": "40b8bcdf",
   "metadata": {},
   "outputs": [],
   "source": [
    "views = {\n",
    "    \"https://bbp.epfl.ch/neurosciencegraph/data/views/es/dendrite-coprojection-embeddings-view\": \"cosine_similarity\",\n",
    "    \"https://bbp.epfl.ch/neurosciencegraph/data/views/es/axon-coprojection-embeddings-view\": \"cosine_similarity\",\n",
    "    \"https://bbp.epfl.ch/neurosciencegraph/data/views/es/neurite-features-view\": \"l2_similarity\"\n",
    "}"
   ]
  },
  {
   "cell_type": "code",
   "execution_count": null,
   "id": "01d77d90",
   "metadata": {},
   "outputs": [],
   "source": [
    "formulas = {\n",
    "    \"cosine_similarity\": \"(cosineSimilarity(params.query_vector, doc['embedding']) + 1.0) / 2\",\n",
    "    \"l2_similarity\": \"1 / (1 + l2norm(params.query_vector, doc['embedding']))\"\n",
    "}"
   ]
  },
  {
   "cell_type": "code",
   "execution_count": null,
   "id": "e6c86f0e",
   "metadata": {},
   "outputs": [],
   "source": [
    "vectors = {}\n",
    "for view in views:\n",
    "    set_elastic_view(forge, view)\n",
    "    vectors[view] = get_all_vectors(forge, 200)"
   ]
  },
  {
   "cell_type": "markdown",
   "id": "2e82e97a",
   "metadata": {},
   "source": [
    "# Compute and register stats of ES indices"
   ]
  },
  {
   "cell_type": "code",
   "execution_count": null,
   "id": "33f5738d",
   "metadata": {},
   "outputs": [],
   "source": [
    "{\n",
    "    \"type\": \"RecommenderConfiguration\",\n",
    "    \"mappings\": [\n",
    "        {\n",
    "            \"view\": {\"@id\"}\n",
    "            \"model\": {\"@id\"}\n",
    "        }\n",
    "    ]\n",
    "}"
   ]
  },
  {
   "cell_type": "code",
   "execution_count": null,
   "id": "c9903f52",
   "metadata": {},
   "outputs": [],
   "source": [
    "global_stats = {}\n",
    "for view in views:\n",
    "    set_elastic_view(forge, view)\n",
    "    formula = formulas[views[view]]\n",
    "    values, stats = get_view_stats(forge, vectors[view], formula, vector_parameter, 200)\n",
    "    global_stats[view] = values\n",
    "#     register_stats(forge, view, values.shape[0], stats, formula, vector_parameter)"
   ]
  },
  {
   "cell_type": "code",
   "execution_count": null,
   "id": "c8761b32",
   "metadata": {},
   "outputs": [],
   "source": [
    "for view in views:\n",
    "    print(\"View \", view)\n",
    "    plt.hist(\n",
    "        global_stats[view],\n",
    "        bins=100)\n",
    "    plt.title(\"Distribution of similarities\")\n",
    "    plt.show()"
   ]
  },
  {
   "cell_type": "markdown",
   "id": "4cf4dc36",
   "metadata": {},
   "source": [
    "# Compute and register boosting factors for different points"
   ]
  },
  {
   "cell_type": "code",
   "execution_count": null,
   "id": "46442fe6",
   "metadata": {
    "scrolled": true
   },
   "outputs": [],
   "source": [
    "deviations = {}\n",
    "for view in views:\n",
    "    forge._store.service.elastic_endpoint[\"endpoint\"] = \"/\".join(\n",
    "        (VIEWS_ENDPOINT, quote_plus(view), \"_search\"))\n",
    "    deviations[view] = {}\n",
    "    for point_id, vector in vectors[view].items():\n",
    "        deviations[view][point_id] = get_score_deviation(\n",
    "            forge, point_id, vector, 10, formulas[views[view]], vector_parameter)"
   ]
  },
  {
   "cell_type": "code",
   "execution_count": null,
   "id": "e8fdbd73",
   "metadata": {
    "scrolled": true
   },
   "outputs": [],
   "source": [
    "for view, data in deviations.items():\n",
    "    register_boosting_data(forge, view, data, formulas[views[view]], vector_parameter)"
   ]
  },
  {
   "cell_type": "code",
   "execution_count": null,
   "id": "7d8fccbf",
   "metadata": {
    "scrolled": true
   },
   "outputs": [],
   "source": [
    "boosted_global_stats = {}\n",
    "for view in views:\n",
    "    forge._store.service.elastic_endpoint[\"endpoint\"] = \"/\".join(\n",
    "        (VIEWS_ENDPOINT, quote_plus(view), \"_search\"))\n",
    "    formula = formulas[views[view]]\n",
    "    boosted_global_stats[view], stats = get_view_stats(\n",
    "        forge, vectors[view], formula, vector_parameter, 200, deviations[view])\n",
    "    register_stats(forge, view, values.shape[0], stats, formula, vector_parameter, boosted=True)"
   ]
  },
  {
   "cell_type": "code",
   "execution_count": null,
   "id": "0b5652bd",
   "metadata": {},
   "outputs": [],
   "source": [
    "for view in views:\n",
    "    print(\"View \", view)\n",
    "    plt.hist(\n",
    "        boosted_global_stats[view],\n",
    "        bins=100)\n",
    "    plt.title(\"Distribution of similarities\")\n",
    "    plt.show()"
   ]
  },
  {
   "cell_type": "code",
   "execution_count": null,
   "id": "bfd6e909",
   "metadata": {},
   "outputs": [],
   "source": []
  },
  {
   "cell_type": "code",
   "execution_count": null,
   "id": "a71919d0",
   "metadata": {},
   "outputs": [],
   "source": []
  },
  {
   "cell_type": "code",
   "execution_count": null,
   "id": "2d162b18",
   "metadata": {},
   "outputs": [],
   "source": []
  },
  {
   "cell_type": "code",
   "execution_count": null,
   "id": "200be3a8",
   "metadata": {},
   "outputs": [],
   "source": [
    "import rdflib\n",
    "from rdflib.paths import OneOrMore"
   ]
  },
  {
   "cell_type": "code",
   "execution_count": null,
   "id": "91832eb6",
   "metadata": {},
   "outputs": [],
   "source": [
    "g = rdflib.Graph()\n",
    "g.parse(\"/Users/oshurko/Desktop/uberon.owl\", format=\"xml\")"
   ]
  },
  {
   "cell_type": "code",
   "execution_count": null,
   "id": "ee7b97de",
   "metadata": {},
   "outputs": [],
   "source": [
    "from bmo_tools.ontologies import subontology_from_term"
   ]
  },
  {
   "cell_type": "code",
   "execution_count": null,
   "id": "63ca8248",
   "metadata": {},
   "outputs": [],
   "source": [
    "entry_point = rdflib.URIRef(\"http://purl.obolibrary.org/obo/UBERON_0000955\")\n",
    "part_of = rdflib.URIRef(\"http://purl.obolibrary.org/obo/BFO_0000050\")"
   ]
  },
  {
   "cell_type": "code",
   "execution_count": null,
   "id": "22f15479",
   "metadata": {},
   "outputs": [],
   "source": [
    "part_of_edges = set()"
   ]
  },
  {
   "cell_type": "code",
   "execution_count": null,
   "id": "39b93edf",
   "metadata": {},
   "outputs": [],
   "source": [
    "for s, _, _ in g.triples((None, None, part_of)):\n",
    "#     print(s, p)\n",
    "\n",
    "    target = None\n",
    "    for o in g.objects(s, rdflib.OWL.someValuesFrom):\n",
    "        target = o\n",
    "\n",
    "\n",
    "    source = None\n",
    "    for (ss, pp) in g.subject_predicates(s):\n",
    "        if g.label(ss):\n",
    "            source = ss\n",
    "        else:\n",
    "            for p, o in g.predicate_objects(ss):\n",
    "                print(\"\\t\\t\", ss, p, o)\n",
    "            print(ss, pp, s)\n",
    "    if source and target:\n",
    "        part_of_edges.add((source, target))\n",
    "    print()"
   ]
  },
  {
   "cell_type": "code",
   "execution_count": null,
   "id": "0e551c83",
   "metadata": {},
   "outputs": [],
   "source": [
    "# Extract everything that is part of brain"
   ]
  },
  {
   "cell_type": "code",
   "execution_count": null,
   "id": "4bd00b21",
   "metadata": {},
   "outputs": [],
   "source": [
    "for s, p in g.subject_predicates(entry_point):\n",
    "#     print(s, p)\n",
    "#     for (p, o) in g.predicate_objects(s):\n",
    "#         print(\"\\t\", s, p, o)\n",
    "    print(s)\n",
    "    for (ss, p) in g.subject_predicates(s):\n",
    "        print(\"\\t\", ss, p, s)\n",
    "        for (pp, oo) in g.predicate_objects(ss):\n",
    "            print(\"\\t\\t\", ss, pp, oo)\n",
    "        for (sss, pp) in g.subject_predicates(ss):\n",
    "            print(\"\\t\\t\", sss, pp, ss, g.label(ss))\n",
    "#     for p, o in g.predicate_objects(s):\n",
    "#         print(p, g.label(o))"
   ]
  },
  {
   "cell_type": "code",
   "execution_count": null,
   "id": "6e6af5f3",
   "metadata": {},
   "outputs": [],
   "source": [
    "for s in g.subjects(rdflib.OWL.onProperty, part_of):\n",
    "    print(s)\n",
    "    for p, o in g.predicate_objects(s):\n",
    "        print(p, g.label(o))\n",
    "    break"
   ]
  },
  {
   "cell_type": "code",
   "execution_count": null,
   "id": "73cc9df5",
   "metadata": {},
   "outputs": [],
   "source": [
    "g.label()"
   ]
  },
  {
   "cell_type": "code",
   "execution_count": null,
   "id": "c75d4664",
   "metadata": {},
   "outputs": [],
   "source": [
    "for s in g.subjects(rdflib.URIRef(\"http://purl.obolibrary.org/obo/BFO_0000050\"), entry_point):\n",
    "    print(g.label(s))"
   ]
  },
  {
   "cell_type": "code",
   "execution_count": null,
   "id": "ae44c6a4",
   "metadata": {},
   "outputs": [],
   "source": [
    "for s, p in g.subject_predicates(entry_point):\n",
    "    print(s, p)\n",
    "    for pp, oo in g.predicate_objects(s):\n",
    "        print(\"\\t\", pp, oo)"
   ]
  },
  {
   "cell_type": "code",
   "execution_count": null,
   "id": "445a1197",
   "metadata": {},
   "outputs": [],
   "source": []
  },
  {
   "cell_type": "code",
   "execution_count": null,
   "id": "c8f15fbf",
   "metadata": {
    "scrolled": true
   },
   "outputs": [],
   "source": [
    "for p, o in g.predicate_objects(entry_point):\n",
    "    print(p, o)"
   ]
  },
  {
   "cell_type": "code",
   "execution_count": null,
   "id": "da36a20b",
   "metadata": {},
   "outputs": [],
   "source": [
    "list(g.subjects(rdflib.RDFS.subClassOf * OneOrMore, entry_point)) + [entry_point]"
   ]
  },
  {
   "cell_type": "code",
   "execution_count": null,
   "id": "73807d3d",
   "metadata": {},
   "outputs": [],
   "source": [
    "sububeron.serialize(\"/Users/oshurko/Desktop/nervous_uberon.ttl\", format=\"ttl\")"
   ]
  },
  {
   "cell_type": "code",
   "execution_count": null,
   "id": "c7211e2f",
   "metadata": {},
   "outputs": [],
   "source": [
    "for s, p, o in sububeron.triples((None, None, None)):\n",
    "    print(s, p, o)"
   ]
  },
  {
   "cell_type": "code",
   "execution_count": null,
   "id": "67979aef",
   "metadata": {},
   "outputs": [],
   "source": []
  },
  {
   "cell_type": "code",
   "execution_count": null,
   "id": "d7204ccb",
   "metadata": {},
   "outputs": [],
   "source": [
    "for (s, p, a)"
   ]
  },
  {
   "cell_type": "code",
   "execution_count": null,
   "id": "ce00daf5",
   "metadata": {},
   "outputs": [],
   "source": [
    "UBERON:0001016"
   ]
  },
  {
   "cell_type": "code",
   "execution_count": null,
   "id": "5ef3f19f",
   "metadata": {},
   "outputs": [],
   "source": []
  }
 ],
 "metadata": {
  "kernelspec": {
   "display_name": "bg",
   "language": "python",
   "name": "bg"
  },
  "language_info": {
   "codemirror_mode": {
    "name": "ipython",
    "version": 3
   },
   "file_extension": ".py",
   "mimetype": "text/x-python",
   "name": "python",
   "nbconvert_exporter": "python",
   "pygments_lexer": "ipython3",
   "version": "3.7.10"
  }
 },
 "nbformat": 4,
 "nbformat_minor": 5
}
