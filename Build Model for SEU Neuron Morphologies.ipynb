{
 "cells": [
  {
   "cell_type": "markdown",
   "id": "49971e28",
   "metadata": {},
   "source": [
    "# Creating vector representations of SEU Neuron Morphologies"
   ]
  },
  {
   "cell_type": "code",
   "execution_count": 6,
   "id": "e36409b0",
   "metadata": {},
   "outputs": [],
   "source": [
    "import getpass\n",
    "import jwt\n",
    "import pickle\n",
    "import sys\n",
    "\n",
    "import numpy as np\n",
    "import pandas as pd\n",
    "\n",
    "from kgforge.core import KnowledgeGraphForge\n",
    "from kgforge.specializations.resources import Dataset\n",
    "\n",
    "from sklearn.feature_selection import VarianceThreshold\n",
    "from sklearn.feature_extraction.text import TfidfVectorizer\n",
    "from sklearn.preprocessing import StandardScaler, MultiLabelBinarizer\n",
    "from sklearn.impute import SimpleImputer\n",
    "from sklearn.manifold import TSNE\n",
    "from sklearn.decomposition import PCA\n",
    "\n",
    "from gensim.models.poincare import PoincareModel\n",
    "\n",
    "from bluegraph import PandasPGFrame\n",
    "from bluegraph.preprocess import ScikitLearnPGEncoder\n",
    "from bluegraph.downstream.utils import transform_to_2d, plot_2d\n",
    "from bluegraph.preprocess import CooccurrenceGenerator\n",
    "from bluegraph.backends.stellargraph import StellarGraphNodeEmbedder\n",
    "from bluegraph.backends.networkx import NXCommunityDetector\n",
    "from bluegraph.downstream import EmbeddingPipeline\n",
    "from bluegraph.downstream.similarity import SimilarityProcessor\n",
    "from bluegraph import version as bg_version"
   ]
  },
  {
   "cell_type": "code",
   "execution_count": 7,
   "id": "5525008e",
   "metadata": {},
   "outputs": [],
   "source": [
    "def get_encoder_features(prop_name, encoder, last_index):\n",
    "    if encoder is None or isinstance(encoder, StandardScaler):\n",
    "        return {last_index: f\"{prop_name}_IDENTITY\"}, last_index + 1\n",
    "    if isinstance(encoder, TfidfVectorizer):\n",
    "        return (\n",
    "            {\n",
    "                i + last_index: f\"{prop_name}_WORD_{f}\"\n",
    "                for i, f in enumerate(encoder.get_feature_names())\n",
    "            },\n",
    "            last_index + len(encoder.get_feature_names())\n",
    "        )\n",
    "    elif isinstance(encoder, MultiLabelBinarizer):\n",
    "        return (\n",
    "            {\n",
    "                i + last_index: f\"{prop_name}_CLASS_{c}\"\n",
    "                for i, c in enumerate(encoder.classes_)\n",
    "            },\n",
    "            last_index + len(encoder.classes_)\n",
    "        )\n",
    "    \n",
    "    else:\n",
    "        return {}, last_index\n",
    "\n",
    "def explain_property_coordinates(encoder, graph):\n",
    "    last_index = 0\n",
    "    property_coordinates = {}\n",
    "    for p in graph.node_properties():\n",
    "        if p in encoder._node_encoders:\n",
    "            res, new_index = get_encoder_features(\n",
    "                p, encoder._node_encoders[p], last_index)\n",
    "            property_coordinates.update(res)\n",
    "            last_index = new_index\n",
    "    return property_coordinates"
   ]
  },
  {
   "cell_type": "markdown",
   "id": "7312485c",
   "metadata": {},
   "source": [
    "## Load morphologies from Nexus"
   ]
  },
  {
   "cell_type": "code",
   "execution_count": 9,
   "id": "dd567ebb",
   "metadata": {},
   "outputs": [
    {
     "name": "stdout",
     "output_type": "stream",
     "text": [
      "········\n"
     ]
    }
   ],
   "source": [
    "TOKEN = getpass.getpass()"
   ]
  },
  {
   "cell_type": "code",
   "execution_count": 10,
   "id": "6961d1fd",
   "metadata": {},
   "outputs": [],
   "source": [
    "forge = KnowledgeGraphForge(\"configs/new-forge-config.yaml\",\n",
    "                            token=TOKEN,\n",
    "                            bucket=\"bbp-external/seu\")"
   ]
  },
  {
   "cell_type": "code",
   "execution_count": 11,
   "id": "4e15c313",
   "metadata": {},
   "outputs": [
    {
     "name": "stdout",
     "output_type": "stream",
     "text": [
      "Submitted query:\n",
      "   PREFIX bmc: <https://bbp.epfl.ch/ontologies/core/bmc/>\n",
      "   PREFIX bmo: <https://bbp.epfl.ch/ontologies/core/bmo/>\n",
      "   PREFIX commonshapes: <https://neuroshapes.org/commons/>\n",
      "   PREFIX datashapes: <https://neuroshapes.org/dash/>\n",
      "   PREFIX dc: <http://purl.org/dc/elements/1.1/>\n",
      "   PREFIX dcat: <http://www.w3.org/ns/dcat#>\n",
      "   PREFIX dcterms: <http://purl.org/dc/terms/>\n",
      "   PREFIX mba: <http://api.brain-map.org/api/v2/data/Structure/>\n",
      "   PREFIX nsg: <https://neuroshapes.org/>\n",
      "   PREFIX nxv: <https://bluebrain.github.io/nexus/vocabulary/>\n",
      "   PREFIX oa: <http://www.w3.org/ns/oa#>\n",
      "   PREFIX owl: <http://www.w3.org/2002/07/owl#>\n",
      "   PREFIX prov: <http://www.w3.org/ns/prov#>\n",
      "   PREFIX rdf: <http://www.w3.org/1999/02/22-rdf-syntax-ns#>\n",
      "   PREFIX rdfs: <http://www.w3.org/2000/01/rdf-schema#>\n",
      "   PREFIX schema: <http://schema.org/>\n",
      "   PREFIX sh: <http://www.w3.org/ns/shacl#>\n",
      "   PREFIX shsh: <http://www.w3.org/ns/shacl-shacl#>\n",
      "   PREFIX skos: <http://www.w3.org/2004/02/skos/core#>\n",
      "   PREFIX vann: <http://purl.org/vocab/vann/>\n",
      "   PREFIX void: <http://rdfs.org/ns/void#>\n",
      "   PREFIX xsd: <http://www.w3.org/2001/XMLSchema#>\n",
      "   PREFIX : <https://bbp.epfl.ch/nexus/v1/vocabs/bbp-external/seu/>\n",
      "   SELECT ?id ?project WHERE { Graph ?g {?id <https://bluebrain.github.io/nexus/vocabulary/project> ?project;\n",
      "    <https://bluebrain.github.io/nexus/vocabulary/deprecated> false;\n",
      "    rdf:type nsg:NeuronMorphology\n",
      "    Filter (?project = <https://bbp.epfl.ch/nexus/v1/projects/bbp-external/seu>)}}\n",
      "\n",
      "<action> result\n",
      "<error> ServerDisconnectedError: Server disconnected\n",
      "\n"
     ]
    }
   ],
   "source": [
    "morphologies = forge.search({\"type\": \"NeuronMorphology\"}, limit=200, debug=True)"
   ]
  },
  {
   "cell_type": "code",
   "execution_count": 27,
   "id": "5cb97882",
   "metadata": {},
   "outputs": [
    {
     "name": "stdout",
     "output_type": "stream",
     "text": [
      "<action> as_json\n",
      "<error> TypeError: 'NoneType' object is not iterable\n",
      "\n"
     ]
    },
    {
     "ename": "TypeError",
     "evalue": "'NoneType' object is not subscriptable",
     "output_type": "error",
     "traceback": [
      "\u001b[0;31m---------------------------------------------------------------------------\u001b[0m",
      "\u001b[0;31mTypeError\u001b[0m                                 Traceback (most recent call last)",
      "\u001b[0;32m<ipython-input-27-442e1c27a34b>\u001b[0m in \u001b[0;36m<module>\u001b[0;34m\u001b[0m\n\u001b[1;32m     11\u001b[0m     \u001b[0;34m\"atlasRelease.id\"\u001b[0m\u001b[0;34m,\u001b[0m\u001b[0;34m\u001b[0m\u001b[0;34m\u001b[0m\u001b[0m\n\u001b[1;32m     12\u001b[0m     \u001b[0;34m\"objectOfStudy.label\"\u001b[0m\u001b[0;34m,\u001b[0m\u001b[0;34m\u001b[0m\u001b[0;34m\u001b[0m\u001b[0m\n\u001b[0;32m---> 13\u001b[0;31m     \u001b[0;34m\"generation.activity.hadProtocol.id\"\u001b[0m\u001b[0;34m\u001b[0m\u001b[0;34m\u001b[0m\u001b[0m\n\u001b[0m\u001b[1;32m     14\u001b[0m ]]\n",
      "\u001b[0;31mTypeError\u001b[0m: 'NoneType' object is not subscriptable"
     ]
    }
   ],
   "source": [
    "morphologies_df = forge.as_dataframe(morphologies)[[\n",
    "    \"id\",\n",
    "    \"brainLocation.brainRegion.id\",\n",
    "    \"brainLocation.coordinatesInBrainAtlas.valueX.value\",\n",
    "    \"brainLocation.coordinatesInBrainAtlas.valueY.value\",\n",
    "    \"brainLocation.coordinatesInBrainAtlas.valueZ.value\",\n",
    "    \"somaNumberOfPoints.value\",\n",
    "    \"neuriteFeature\",\n",
    "    \"subject.name\",\n",
    "    # to remove\n",
    "    \"atlasRelease.id\",\n",
    "    \"objectOfStudy.label\",\n",
    "    \"generation.activity.hadProtocol.id\"\n",
    "]]"
   ]
  },
  {
   "cell_type": "code",
   "execution_count": 22,
   "id": "b92baead",
   "metadata": {},
   "outputs": [],
   "source": [
    "forge = KnowledgeGraphForge(\n",
    "    \"configs/new-forge-config.yaml\",\n",
    "    token=TOKEN,\n",
    "    bucket=\"neurosciencegraph/datamodels\")"
   ]
  },
  {
   "cell_type": "code",
   "execution_count": 36,
   "id": "b821d45d",
   "metadata": {},
   "outputs": [],
   "source": [
    "brain_region_resources = [\n",
    "    forge.retrieve(el) for el in morphologies_df[\"brainLocation.brainRegion.id\"]\n",
    "]"
   ]
  },
  {
   "cell_type": "code",
   "execution_count": 37,
   "id": "57b88203",
   "metadata": {},
   "outputs": [],
   "source": [
    "brain_region_notation = {\n",
    "    r.id: (r.notation, r.prefLabel)\n",
    "    for r in brain_region_resources\n",
    "}"
   ]
  },
  {
   "cell_type": "code",
   "execution_count": 38,
   "id": "7c303631",
   "metadata": {},
   "outputs": [],
   "source": [
    "with open(\"data/thalamus_partition_edges.pkl\", \"rb\") as f:\n",
    "    thalamus_partition = pickle.load(f)"
   ]
  },
  {
   "cell_type": "code",
   "execution_count": 61,
   "id": "c29830fc",
   "metadata": {},
   "outputs": [],
   "source": [
    "# Mapping of Allen notations to uberon terms\n",
    "allen_to_uberon = {\n",
    "    \"AM\": \"anteromedial nucleus of thalamus\",\n",
    "    'VPL': \"ventral posterolateral nucleus\",\n",
    "    'SMT': \"submedial nucleus of thalamus\",\n",
    "    'VAL': \"ventral lateral nucleus of thalamus\",\n",
    "    'MG': \"medial geniculate body\",\n",
    "    'PO': \"posterior nuclear complex of thalamus\",\n",
    "    'CM': \"central medial nucleus\",\n",
    "    'LP': \"lateral posterior nucleus of thalamus\",\n",
    "    'VPMpc': \"parvicellular part of ventral posteromedial nucleus\",\n",
    "    'VPM': \"ventral posteromedial nucleus of thalamus\",\n",
    "    'RE': \"reuniens nucleus\",\n",
    "    'MD': \"medial dorsal nucleus of thalamus\",\n",
    "    'RT': \"thalamic reticular nucleus\",\n",
    "    'VPLpc': \"parvicellular part of ventral posteromedial nucleus\",\n",
    "    'LGd': \"dorsal lateral geniculate nucleus\",\n",
    "    'IAD': \"interanterodorsal nucleus of the thalamus\",\n",
    "    'PVT': \"paraventricular nucleus of thalamus\"\n",
    "}"
   ]
  },
  {
   "cell_type": "code",
   "execution_count": 40,
   "id": "e5be10d9",
   "metadata": {},
   "outputs": [],
   "source": [
    "def get_notation(region_id):\n",
    "    if region_id not in brain_region_notation:\n",
    "        r = forge.retrieve(region_id)\n",
    "        brain_region_notation[r.id] = (r.notation, r.prefLabel)\n",
    "    return brain_region_notation[region_id][0]"
   ]
  },
  {
   "cell_type": "code",
   "execution_count": 41,
   "id": "b9bfaccb",
   "metadata": {},
   "outputs": [],
   "source": [
    "def get_neurite_features(data):\n",
    "    \n",
    "    result = {\n",
    "        \"has_Axon_feature\": 0,\n",
    "        \"has_BasalDendrite_feature\": 0,\n",
    "        \"has_ApicalDendrite_feature\": 0\n",
    "    }\n",
    "    \n",
    "    def _process_data(el, prefix):\n",
    "        result[f\"{prefix}_cumulatedLength\"] = el[\"cumulatedLength\"][\"value\"]\n",
    "        result[f\"{prefix}_longestBranchLength\"] = el[\"longestBranchLength\"][\"value\"]\n",
    "        result[f\"{prefix}_longestBranchNumberOfNodes\"] = el[\"longestBranchNumberOfNodes\"]\n",
    "        result[f\"{prefix}_numberOfProjections\"] = el[\"numberOfProjections\"]\n",
    "        result[f\"{prefix}_projectionBrainRegion\"] = {\n",
    "            get_notation(r[\"id\"]) for r in el[\"projectionBrainRegion\"]\n",
    "        } if isinstance(el[\"projectionBrainRegion\"], list) else {get_notation(el[\"projectionBrainRegion\"][\"id\"])}\n",
    "        result[f\"{prefix}_traversedBrainRegion\"] = {\n",
    "            get_notation(r[\"id\"]) for r in el[\"traversedBrainRegion\"]\n",
    "        } if isinstance(el[\"traversedBrainRegion\"], list) else {get_notation(el[\"traversedBrainRegion\"][\"id\"])}\n",
    "\n",
    "    for el in data:\n",
    "        result[\"has_\" + el[\"type\"] + \"_feature\"] = 1\n",
    "        _process_data(el, el[\"type\"])\n",
    "\n",
    "    return result"
   ]
  },
  {
   "cell_type": "code",
   "execution_count": 42,
   "id": "da6a1c66",
   "metadata": {},
   "outputs": [],
   "source": [
    "neurite_features = morphologies_df[\"neuriteFeature\"].apply(get_neurite_features).tolist()"
   ]
  },
  {
   "cell_type": "code",
   "execution_count": 43,
   "id": "06887c82",
   "metadata": {},
   "outputs": [],
   "source": [
    "neurite_feature_df = pd.DataFrame(neurite_features)"
   ]
  },
  {
   "cell_type": "code",
   "execution_count": 44,
   "id": "108a6872",
   "metadata": {},
   "outputs": [],
   "source": [
    "morphologies_df[\"brainLocation.brainRegion.id\"] = morphologies_df[\"brainLocation.brainRegion.id\"].apply(\n",
    "    lambda x: brain_region_notation[x][0])"
   ]
  },
  {
   "cell_type": "code",
   "execution_count": 45,
   "id": "6bbded3f",
   "metadata": {},
   "outputs": [
    {
     "data": {
      "text/html": [
       "<div>\n",
       "<style scoped>\n",
       "    .dataframe tbody tr th:only-of-type {\n",
       "        vertical-align: middle;\n",
       "    }\n",
       "\n",
       "    .dataframe tbody tr th {\n",
       "        vertical-align: top;\n",
       "    }\n",
       "\n",
       "    .dataframe thead th {\n",
       "        text-align: right;\n",
       "    }\n",
       "</style>\n",
       "<table border=\"1\" class=\"dataframe\">\n",
       "  <thead>\n",
       "    <tr style=\"text-align: right;\">\n",
       "      <th></th>\n",
       "      <th>id</th>\n",
       "      <th>brainLocation.brainRegion.id</th>\n",
       "      <th>brainLocation.coordinatesInBrainAtlas.valueX.value</th>\n",
       "      <th>brainLocation.coordinatesInBrainAtlas.valueY.value</th>\n",
       "      <th>brainLocation.coordinatesInBrainAtlas.valueZ.value</th>\n",
       "      <th>somaNumberOfPoints.value</th>\n",
       "      <th>neuriteFeature</th>\n",
       "      <th>subject.name</th>\n",
       "      <th>atlasRelease.id</th>\n",
       "      <th>objectOfStudy.label</th>\n",
       "      <th>generation.activity.hadProtocol.id</th>\n",
       "    </tr>\n",
       "  </thead>\n",
       "  <tbody>\n",
       "    <tr>\n",
       "      <th>0</th>\n",
       "      <td>https://bbp.epfl.ch/neurosciencegraph/data/neu...</td>\n",
       "      <td>AM</td>\n",
       "      <td>6368.0</td>\n",
       "      <td>4632.0</td>\n",
       "      <td>5263.0</td>\n",
       "      <td>4</td>\n",
       "      <td>[{'type': 'BasalDendrite', 'cumulatedLength': ...</td>\n",
       "      <td>NaN</td>\n",
       "      <td>https://bbp.epfl.ch/neurosciencegraph/data/831...</td>\n",
       "      <td>Single Cell</td>\n",
       "      <td>https://bbp.epfl.ch/neurosciencegraph/data/781...</td>\n",
       "    </tr>\n",
       "    <tr>\n",
       "      <th>1</th>\n",
       "      <td>https://bbp.epfl.ch/neurosciencegraph/data/neu...</td>\n",
       "      <td>LGd</td>\n",
       "      <td>7283.0</td>\n",
       "      <td>2852.0</td>\n",
       "      <td>3534.0</td>\n",
       "      <td>3</td>\n",
       "      <td>[{'type': 'BasalDendrite', 'cumulatedLength': ...</td>\n",
       "      <td>NaN</td>\n",
       "      <td>https://bbp.epfl.ch/neurosciencegraph/data/831...</td>\n",
       "      <td>Single Cell</td>\n",
       "      <td>https://bbp.epfl.ch/neurosciencegraph/data/781...</td>\n",
       "    </tr>\n",
       "    <tr>\n",
       "      <th>2</th>\n",
       "      <td>https://bbp.epfl.ch/neurosciencegraph/data/neu...</td>\n",
       "      <td>LGd</td>\n",
       "      <td>7571.0</td>\n",
       "      <td>2933.0</td>\n",
       "      <td>3536.0</td>\n",
       "      <td>3</td>\n",
       "      <td>[{'type': 'BasalDendrite', 'cumulatedLength': ...</td>\n",
       "      <td>NaN</td>\n",
       "      <td>https://bbp.epfl.ch/neurosciencegraph/data/831...</td>\n",
       "      <td>Single Cell</td>\n",
       "      <td>https://bbp.epfl.ch/neurosciencegraph/data/781...</td>\n",
       "    </tr>\n",
       "    <tr>\n",
       "      <th>3</th>\n",
       "      <td>https://bbp.epfl.ch/neurosciencegraph/data/neu...</td>\n",
       "      <td>LGd</td>\n",
       "      <td>7026.0</td>\n",
       "      <td>3690.0</td>\n",
       "      <td>3451.0</td>\n",
       "      <td>3</td>\n",
       "      <td>[{'type': 'BasalDendrite', 'cumulatedLength': ...</td>\n",
       "      <td>NaN</td>\n",
       "      <td>https://bbp.epfl.ch/neurosciencegraph/data/831...</td>\n",
       "      <td>Single Cell</td>\n",
       "      <td>https://bbp.epfl.ch/neurosciencegraph/data/781...</td>\n",
       "    </tr>\n",
       "    <tr>\n",
       "      <th>4</th>\n",
       "      <td>https://bbp.epfl.ch/neurosciencegraph/data/neu...</td>\n",
       "      <td>LGd</td>\n",
       "      <td>7452.0</td>\n",
       "      <td>2884.0</td>\n",
       "      <td>3605.0</td>\n",
       "      <td>3</td>\n",
       "      <td>[{'type': 'BasalDendrite', 'cumulatedLength': ...</td>\n",
       "      <td>NaN</td>\n",
       "      <td>https://bbp.epfl.ch/neurosciencegraph/data/831...</td>\n",
       "      <td>Single Cell</td>\n",
       "      <td>https://bbp.epfl.ch/neurosciencegraph/data/781...</td>\n",
       "    </tr>\n",
       "  </tbody>\n",
       "</table>\n",
       "</div>"
      ],
      "text/plain": [
       "                                                  id  \\\n",
       "0  https://bbp.epfl.ch/neurosciencegraph/data/neu...   \n",
       "1  https://bbp.epfl.ch/neurosciencegraph/data/neu...   \n",
       "2  https://bbp.epfl.ch/neurosciencegraph/data/neu...   \n",
       "3  https://bbp.epfl.ch/neurosciencegraph/data/neu...   \n",
       "4  https://bbp.epfl.ch/neurosciencegraph/data/neu...   \n",
       "\n",
       "  brainLocation.brainRegion.id  \\\n",
       "0                           AM   \n",
       "1                          LGd   \n",
       "2                          LGd   \n",
       "3                          LGd   \n",
       "4                          LGd   \n",
       "\n",
       "  brainLocation.coordinatesInBrainAtlas.valueX.value  \\\n",
       "0                                             6368.0   \n",
       "1                                             7283.0   \n",
       "2                                             7571.0   \n",
       "3                                             7026.0   \n",
       "4                                             7452.0   \n",
       "\n",
       "  brainLocation.coordinatesInBrainAtlas.valueY.value  \\\n",
       "0                                             4632.0   \n",
       "1                                             2852.0   \n",
       "2                                             2933.0   \n",
       "3                                             3690.0   \n",
       "4                                             2884.0   \n",
       "\n",
       "  brainLocation.coordinatesInBrainAtlas.valueZ.value  \\\n",
       "0                                             5263.0   \n",
       "1                                             3534.0   \n",
       "2                                             3536.0   \n",
       "3                                             3451.0   \n",
       "4                                             3605.0   \n",
       "\n",
       "   somaNumberOfPoints.value  \\\n",
       "0                         4   \n",
       "1                         3   \n",
       "2                         3   \n",
       "3                         3   \n",
       "4                         3   \n",
       "\n",
       "                                      neuriteFeature subject.name  \\\n",
       "0  [{'type': 'BasalDendrite', 'cumulatedLength': ...          NaN   \n",
       "1  [{'type': 'BasalDendrite', 'cumulatedLength': ...          NaN   \n",
       "2  [{'type': 'BasalDendrite', 'cumulatedLength': ...          NaN   \n",
       "3  [{'type': 'BasalDendrite', 'cumulatedLength': ...          NaN   \n",
       "4  [{'type': 'BasalDendrite', 'cumulatedLength': ...          NaN   \n",
       "\n",
       "                                     atlasRelease.id objectOfStudy.label  \\\n",
       "0  https://bbp.epfl.ch/neurosciencegraph/data/831...         Single Cell   \n",
       "1  https://bbp.epfl.ch/neurosciencegraph/data/831...         Single Cell   \n",
       "2  https://bbp.epfl.ch/neurosciencegraph/data/831...         Single Cell   \n",
       "3  https://bbp.epfl.ch/neurosciencegraph/data/831...         Single Cell   \n",
       "4  https://bbp.epfl.ch/neurosciencegraph/data/831...         Single Cell   \n",
       "\n",
       "                  generation.activity.hadProtocol.id  \n",
       "0  https://bbp.epfl.ch/neurosciencegraph/data/781...  \n",
       "1  https://bbp.epfl.ch/neurosciencegraph/data/781...  \n",
       "2  https://bbp.epfl.ch/neurosciencegraph/data/781...  \n",
       "3  https://bbp.epfl.ch/neurosciencegraph/data/781...  \n",
       "4  https://bbp.epfl.ch/neurosciencegraph/data/781...  "
      ]
     },
     "execution_count": 45,
     "metadata": {},
     "output_type": "execute_result"
    }
   ],
   "source": [
    "morphologies_df.head(5)"
   ]
  },
  {
   "cell_type": "markdown",
   "id": "f202e6ea",
   "metadata": {},
   "source": [
    "## Create a property graph without edges"
   ]
  },
  {
   "cell_type": "code",
   "execution_count": 46,
   "id": "bc4a6e4c",
   "metadata": {},
   "outputs": [],
   "source": [
    "nodes = pd.concat(\n",
    "    [morphologies_df, neurite_feature_df], axis=1).drop(\n",
    "        columns=[\"neuriteFeature\"]).rename(columns={\"id\": \"@id\"}).set_index(\"@id\")"
   ]
  },
  {
   "cell_type": "code",
   "execution_count": 47,
   "id": "db478fa7",
   "metadata": {},
   "outputs": [],
   "source": [
    "frame = PandasPGFrame()\n",
    "frame._nodes = nodes\n",
    "categorical_props = [\n",
    "    \"brainLocation.brainRegion.id\",\n",
    "    \"subject.name\",\n",
    "    \"has_Axon_feature\",\n",
    "    \"has_BasalDendrite_feature\",\n",
    "    \"has_ApicalDendrite_feature\",\n",
    "    \"BasalDendrite_projectionBrainRegion\",\n",
    "    \"BasalDendrite_traversedBrainRegion\",\n",
    "    \"ApicalDendrite_projectionBrainRegion\",\n",
    "    \"ApicalDendrite_traversedBrainRegion\",\n",
    "    \"Axon_projectionBrainRegion\",\n",
    "    \"Axon_traversedBrainRegion\",\n",
    "]\n",
    "for column in nodes.columns:\n",
    "    if column != \"@type\":\n",
    "        if column not in categorical_props:\n",
    "            try:\n",
    "                frame.node_prop_as_numeric(column)\n",
    "            except ValueError:\n",
    "                pass\n",
    "        else:\n",
    "            frame.node_prop_as_category(column)\n",
    "frame.rename_node_properties({\n",
    "    p: p.replace(\".\", \"_\")\n",
    "    for p in frame.node_properties()\n",
    "})"
   ]
  },
  {
   "cell_type": "markdown",
   "id": "97b1f4ec",
   "metadata": {},
   "source": [
    "## Encode properties"
   ]
  },
  {
   "cell_type": "code",
   "execution_count": 52,
   "id": "79c1fa88",
   "metadata": {},
   "outputs": [],
   "source": [
    "encoder = ScikitLearnPGEncoder(\n",
    "    node_properties=frame.node_properties(),\n",
    "    missing_numeric=\"impute\",\n",
    "    imputation_strategy=\"mean\",\n",
    "    reduce_node_dims=True,\n",
    "    n_node_components=32)"
   ]
  },
  {
   "cell_type": "code",
   "execution_count": 53,
   "id": "374a83fd",
   "metadata": {},
   "outputs": [],
   "source": [
    "encoded_frame = encoder.fit_transform(frame)"
   ]
  },
  {
   "cell_type": "markdown",
   "id": "26da6b36",
   "metadata": {},
   "source": [
    "Explained variance of data"
   ]
  },
  {
   "cell_type": "code",
   "execution_count": null,
   "id": "7eaa1cc6",
   "metadata": {},
   "outputs": [],
   "source": [
    "sum(encoder.node_reducer.explained_variance_ratio_)"
   ]
  },
  {
   "cell_type": "markdown",
   "id": "4e1ed300",
   "metadata": {},
   "source": [
    "Let's plot a 2D projection of what we have got"
   ]
  },
  {
   "cell_type": "code",
   "execution_count": null,
   "id": "5c86a27d",
   "metadata": {},
   "outputs": [],
   "source": [
    "X = np.array(encoded_frame._nodes[\"features\"].tolist())\n",
    "features_2d = transform_to_2d(X)"
   ]
  },
  {
   "cell_type": "code",
   "execution_count": null,
   "id": "f132e3fa",
   "metadata": {},
   "outputs": [],
   "source": [
    "plot_2d(\n",
    "    frame, vectors=features_2d, label_prop=\"brainLocation_brainRegion_id\",\n",
    "    title=\"Colored by Brain Region\")"
   ]
  },
  {
   "cell_type": "markdown",
   "id": "dd0d308c",
   "metadata": {},
   "source": [
    "## Create co-projection PGFrames "
   ]
  },
  {
   "cell_type": "markdown",
   "id": "fa9abb86",
   "metadata": {},
   "source": [
    "### Axon co-projection graph"
   ]
  },
  {
   "cell_type": "code",
   "execution_count": null,
   "id": "95cf8009",
   "metadata": {},
   "outputs": [],
   "source": [
    "gen = CooccurrenceGenerator(frame)\n",
    "axon_edges = gen.generate_from_nodes(\n",
    "    \"Axon_projectionBrainRegion\",\n",
    "    compute_statistics=[\"frequency\"])"
   ]
  },
  {
   "cell_type": "code",
   "execution_count": null,
   "id": "2c7c7e64",
   "metadata": {},
   "outputs": [],
   "source": [
    "axon_edges = axon_edges[axon_edges[\"frequency\"].values > 3]"
   ]
  },
  {
   "cell_type": "code",
   "execution_count": null,
   "id": "fc3e3570",
   "metadata": {},
   "outputs": [],
   "source": [
    "axon_edges.shape"
   ]
  },
  {
   "cell_type": "code",
   "execution_count": null,
   "id": "c1935c9f",
   "metadata": {},
   "outputs": [],
   "source": [
    "axon_coprojection_frame = PandasPGFrame.from_frames(\n",
    "    nodes=encoded_frame._nodes, edges=axon_edges)\n",
    "axon_coprojection_frame.edge_prop_as_numeric(\"frequency\")"
   ]
  },
  {
   "cell_type": "markdown",
   "id": "8615febf",
   "metadata": {},
   "source": [
    "### Dendrite co-projection graph"
   ]
  },
  {
   "cell_type": "code",
   "execution_count": null,
   "id": "7e705ae5",
   "metadata": {},
   "outputs": [],
   "source": [
    "gen = CooccurrenceGenerator(frame)\n",
    "dendrite_edges = gen.generate_from_nodes(\n",
    "    \"BasalDendrite_projectionBrainRegion\",\n",
    "    compute_statistics=[\"frequency\"])"
   ]
  },
  {
   "cell_type": "code",
   "execution_count": null,
   "id": "88cd290f",
   "metadata": {},
   "outputs": [],
   "source": [
    "dendrite_edges = dendrite_edges[dendrite_edges[\"frequency\"].values > 1]"
   ]
  },
  {
   "cell_type": "code",
   "execution_count": null,
   "id": "8d89c998",
   "metadata": {
    "scrolled": true
   },
   "outputs": [],
   "source": [
    "dendrite_edges.shape"
   ]
  },
  {
   "cell_type": "code",
   "execution_count": null,
   "id": "06981ccb",
   "metadata": {},
   "outputs": [],
   "source": [
    "dendrite_coprojection_frame = PandasPGFrame.from_frames(\n",
    "    nodes=encoded_frame._nodes, edges=dendrite_edges)\n",
    "dendrite_coprojection_frame.edge_prop_as_numeric(\"frequency\")"
   ]
  },
  {
   "cell_type": "markdown",
   "id": "7655f890",
   "metadata": {},
   "source": [
    "## Embed nodes"
   ]
  },
  {
   "cell_type": "markdown",
   "id": "d8e82397",
   "metadata": {},
   "source": [
    "### Axon co-projection embedding"
   ]
  },
  {
   "cell_type": "code",
   "execution_count": null,
   "id": "4ec3030f",
   "metadata": {},
   "outputs": [],
   "source": [
    "axon_D = 128"
   ]
  },
  {
   "cell_type": "code",
   "execution_count": null,
   "id": "3372ba44",
   "metadata": {},
   "outputs": [],
   "source": [
    "axon_attri2vec_embedder = StellarGraphNodeEmbedder(\n",
    "    \"attri2vec\", feature_vector_prop=\"features\",\n",
    "    length=5, number_of_walks=10,\n",
    "    epochs=10, embedding_dimension=axon_D, edge_weight=\"frequency\")\n",
    "axon_embedding = axon_attri2vec_embedder.fit_model(axon_coprojection_frame)"
   ]
  },
  {
   "cell_type": "code",
   "execution_count": null,
   "id": "eab977a0",
   "metadata": {},
   "outputs": [],
   "source": [
    "axon_coprojection_frame.add_node_properties(\n",
    "    axon_embedding.rename(columns={\"embedding\": \"attri2vec\"}))"
   ]
  },
  {
   "cell_type": "code",
   "execution_count": null,
   "id": "71c7303f",
   "metadata": {},
   "outputs": [],
   "source": [
    "embedding_2d = transform_to_2d(axon_coprojection_frame._nodes[\"attri2vec\"].tolist())\n",
    "plot_2d(frame, vectors=embedding_2d, label_prop=\"brainLocation_brainRegion_id\")"
   ]
  },
  {
   "cell_type": "markdown",
   "id": "2d833edf",
   "metadata": {},
   "source": [
    "### Dendrite co-projection embedding"
   ]
  },
  {
   "cell_type": "code",
   "execution_count": null,
   "id": "fb21bbda",
   "metadata": {},
   "outputs": [],
   "source": [
    "dendrite_D = 100"
   ]
  },
  {
   "cell_type": "code",
   "execution_count": null,
   "id": "9ceab6a3",
   "metadata": {},
   "outputs": [],
   "source": [
    "dendrite_attri2vec_embedder = StellarGraphNodeEmbedder(\n",
    "    \"attri2vec\", feature_vector_prop=\"features\",\n",
    "    length=6, number_of_walks=20,\n",
    "    epochs=15, embedding_dimension=dendrite_D, edge_weight=\"frequency\")\n",
    "dendrite_embedding = dendrite_attri2vec_embedder.fit_model(dendrite_coprojection_frame)"
   ]
  },
  {
   "cell_type": "code",
   "execution_count": null,
   "id": "245b8508",
   "metadata": {},
   "outputs": [],
   "source": [
    "dendrite_coprojection_frame.add_node_properties(\n",
    "    dendrite_embedding.rename(columns={\"embedding\": \"attri2vec\"}))"
   ]
  },
  {
   "cell_type": "code",
   "execution_count": null,
   "id": "4d0f08ca",
   "metadata": {},
   "outputs": [],
   "source": [
    "embedding_2d = transform_to_2d(dendrite_coprojection_frame._nodes[\"attri2vec\"].tolist())\n",
    "plot_2d(frame, vectors=embedding_2d, label_prop=\"brainLocation_brainRegion_id\")"
   ]
  },
  {
   "cell_type": "code",
   "execution_count": null,
   "id": "253a95b2",
   "metadata": {},
   "outputs": [],
   "source": [
    "# with open (\"meta.tsv\", \"w\") as f:\n",
    "#     f.write(\"id\\tregion\\n\")\n",
    "#     for el in dendrite_attri2vec_embedding[\"embedding\"].index:\n",
    "#         f.write(\"{}\\t{}\\n\".format(el, frame._nodes.loc[el, \"brainLocation_brainRegion_id\"]))"
   ]
  },
  {
   "cell_type": "code",
   "execution_count": null,
   "id": "d232501e",
   "metadata": {},
   "outputs": [],
   "source": [
    "# with open (\"vecs.tsv\", \"w\") as f:\n",
    "#     for el in dendrite_attri2vec_embedding[\"embedding\"].tolist():\n",
    "#         f.write(\"\\t\".join([str(v) for v in el]) + \"\\n\")"
   ]
  },
  {
   "cell_type": "markdown",
   "id": "fdb8901f",
   "metadata": {},
   "source": [
    "## Create and save the embedding pipelines"
   ]
  },
  {
   "cell_type": "markdown",
   "id": "a1e35637",
   "metadata": {},
   "source": [
    "### Axon co-projection pipeline"
   ]
  },
  {
   "cell_type": "code",
   "execution_count": 42,
   "id": "454c50a8",
   "metadata": {},
   "outputs": [],
   "source": [
    "sim_processor = SimilarityProcessor(similarity=\"cosine\", dimension=axon_D)\n",
    "sim_processor.add(axon_embedding[\"embedding\"].tolist(),\n",
    "                  axon_embedding.index)\n",
    "pipeline = EmbeddingPipeline(\n",
    "    preprocessor=encoder,\n",
    "    embedder=axon_attri2vec_embedder,\n",
    "    similarity_processor=sim_processor)"
   ]
  },
  {
   "cell_type": "code",
   "execution_count": 43,
   "id": "f7fcbf23",
   "metadata": {},
   "outputs": [
    {
     "name": "stdout",
     "output_type": "stream",
     "text": [
      "WARNING:tensorflow:From /Users/oshurko/opt/anaconda3/envs/bg/lib/python3.7/site-packages/tensorflow/python/ops/resource_variable_ops.py:1817: calling BaseResourceVariable.__init__ (from tensorflow.python.ops.resource_variable_ops) with constraint is deprecated and will be removed in a future version.\n",
      "Instructions for updating:\n",
      "If using Keras pass *_constraint arguments to layers.\n",
      "INFO:tensorflow:Assets written to: SEU_morph_axon_coproj_attri2vec_euclidean/embedder/model/assets\n"
     ]
    }
   ],
   "source": [
    "pipeline.save(\"SEU_morph_axon_coproj_attri2vec_cosine\", compress=True)"
   ]
  },
  {
   "cell_type": "markdown",
   "id": "38813def",
   "metadata": {},
   "source": [
    "### Dendrite co-projection pipeline"
   ]
  },
  {
   "cell_type": "code",
   "execution_count": 44,
   "id": "9889c537",
   "metadata": {},
   "outputs": [],
   "source": [
    "sim_processor = SimilarityProcessor(similarity=\"cosine\", dimension=dendrite_D)\n",
    "sim_processor.add(dendrite_embedding[\"embedding\"].tolist(),\n",
    "                  dendrite_embedding.index)\n",
    "pipeline = EmbeddingPipeline(\n",
    "    preprocessor=encoder,\n",
    "    embedder=dendrite_attri2vec_embedder,\n",
    "    similarity_processor=sim_processor)"
   ]
  },
  {
   "cell_type": "code",
   "execution_count": 45,
   "id": "f5e02298",
   "metadata": {},
   "outputs": [
    {
     "name": "stdout",
     "output_type": "stream",
     "text": [
      "INFO:tensorflow:Assets written to: SEU_morph_dendrite_coproj_attri2vec_euclidean/embedder/model/assets\n"
     ]
    }
   ],
   "source": [
    "pipeline.save(\"SEU_morph_dendrite_coproj_attri2vec_cosine\", compress=True)"
   ]
  },
  {
   "cell_type": "markdown",
   "id": "12c0118b",
   "metadata": {},
   "source": [
    "## Push the model into the model catalog"
   ]
  },
  {
   "cell_type": "code",
   "execution_count": 46,
   "id": "993f3503",
   "metadata": {},
   "outputs": [
    {
     "name": "stdout",
     "output_type": "stream",
     "text": [
      "········\n"
     ]
    }
   ],
   "source": [
    "TOKEN = getpass.getpass()"
   ]
  },
  {
   "cell_type": "code",
   "execution_count": 79,
   "id": "db694296",
   "metadata": {},
   "outputs": [],
   "source": [
    "forge = KnowledgeGraphForge(\n",
    "    \"configs/new-forge-config.yaml\",\n",
    "    endpoint=\"https://staging.nexus.ocp.bbp.epfl.ch/v1\",\n",
    "    token=TOKEN,\n",
    "    bucket=\"dke/embedder_catalog\")"
   ]
  },
  {
   "cell_type": "code",
   "execution_count": 50,
   "id": "8e8289df",
   "metadata": {},
   "outputs": [],
   "source": [
    "def get_agent(token):\n",
    "    agent_data = jwt.decode(token, verify=False)\n",
    "    agent = forge.reshape(\n",
    "        forge.from_json(agent_data), keep=[\n",
    "            \"name\", \"email\", \"sub\", \"preferred_username\"])\n",
    "    agent.id = agent.sub\n",
    "    agent.type = \"Person\"\n",
    "    return agent"
   ]
  },
  {
   "cell_type": "code",
   "execution_count": 51,
   "id": "294c0ad1",
   "metadata": {},
   "outputs": [],
   "source": [
    "def push_model(forge, agent, name, description, label, distribution, similarity, dimension):\n",
    "    # Create a new model resource\n",
    "    model_resource = Dataset(\n",
    "        forge,\n",
    "        name=name,\n",
    "        description=description)\n",
    "    model_resource.type = \"EmbeddingModel\"\n",
    "    model_resource.prefLabel = label\n",
    "    model_resource.similarity = similarity\n",
    "    model_resource.vectorDimension = dimension\n",
    "\n",
    "    # Add distrubution\n",
    "    if distribution is not None:\n",
    "        model_resource.add_distribution(\n",
    "            distribution, content_type=\"application/octet-stream\")\n",
    "\n",
    "    # Add contribution\n",
    "    model_resource.add_contribution(agent, versioned=False)\n",
    "    role = forge.from_json({\n",
    "        \"hadRole\": {\n",
    "            \"id\": \"http://purl.obolibrary.org/obo/CRO_0000064\",\n",
    "            \"label\": \"software engineering role\"\n",
    "        }\n",
    "    })\n",
    "    model_resource.contribution.hadRole = role\n",
    "\n",
    "    # Add software agent\n",
    "    software_agent = {\n",
    "        \"type\": \"SoftwareAgent\",\n",
    "        \"description\": \"Unifying Python framework for graph analytics and co-occurrence analysis.\",\n",
    "        \"name\": \"BlueGraph\",\n",
    "        \"softwareSourceCode\": {\n",
    "            \"type\": \"SoftwareSourceCode\",\n",
    "            \"codeRepository\": \"https://github.com/BlueBrain/BlueGraph\",\n",
    "            \"programmingLanguage\": \"Python\",\n",
    "            \"runtimePlatform\": f\"{sys.version_info.major}.{sys.version_info.minor}\",\n",
    "            \"version\": bg_version.__version__\n",
    "        }\n",
    "    }\n",
    "    model_resource.wasAssociatedWith = software_agent\n",
    "    \n",
    "    forge.register(model_resource)"
   ]
  },
  {
   "cell_type": "code",
   "execution_count": 52,
   "id": "87fc85fa",
   "metadata": {},
   "outputs": [],
   "source": [
    "agent = get_agent(TOKEN)"
   ]
  },
  {
   "cell_type": "code",
   "execution_count": 91,
   "id": "55843589",
   "metadata": {},
   "outputs": [
    {
     "name": "stdout",
     "output_type": "stream",
     "text": [
      "<action> _register_one\n",
      "<succeeded> True\n"
     ]
    }
   ],
   "source": [
    "axon_model_resource = push_model(\n",
    "    forge, agent, \"SEU NeuronMorphology Axon Co-Projection Embedding\",\n",
    "    \"Node embedding model built on an axon co-projection graph extracted from the SEU neuron morphology dataset resources\",\n",
    "    \"Axon projection\",\n",
    "    \"data/SEU_morph_axon_coproj_attri2vec_euclidean.zip\", \"cosine\",\n",
    "    axon_D)"
   ]
  },
  {
   "cell_type": "code",
   "execution_count": 92,
   "id": "d56c7f67",
   "metadata": {},
   "outputs": [
    {
     "name": "stdout",
     "output_type": "stream",
     "text": [
      "<action> _register_one\n",
      "<succeeded> True\n"
     ]
    }
   ],
   "source": [
    "dendrite_model_resource = push_model(\n",
    "    forge, agent, \"SEU NeuronMorphology Dendrite Co-Projection Embedding\",\n",
    "    \"Node embedding model built on a dendrite co-projection graph extracted from the SEU neuron morphology dataset resources\",\n",
    "    \"Dendrite projection\",\n",
    "    \"SEU_morph_dendrite_coproj_attri2vec_euclidean.zip\", \"cosine\",\n",
    "    dendrite_D)"
   ]
  },
  {
   "cell_type": "markdown",
   "id": "32e77c0d",
   "metadata": {},
   "source": [
    "## Visualize the graph in Gephi"
   ]
  },
  {
   "cell_type": "code",
   "execution_count": null,
   "id": "bf770338",
   "metadata": {},
   "outputs": [],
   "source": [
    "frame.export_to_gephi(\n",
    "    \"seu_morphologies_co_proj\",\n",
    "    node_attr_mapping={\n",
    "        \"brainLocation_brainRegion_id\": \"Region\"\n",
    "    },\n",
    "    edge_attr_mapping={\n",
    "        \"frequency\": \"weight\"\n",
    "    })"
   ]
  },
  {
   "cell_type": "markdown",
   "id": "ff9fd45a",
   "metadata": {},
   "source": [
    "<img src=\"figures/neu_co_proj_illustration.png\">"
   ]
  },
  {
   "cell_type": "markdown",
   "id": "f74a3703",
   "metadata": {},
   "source": [
    "## Create a df with different representations (for testing pipelined recommendation/search)"
   ]
  },
  {
   "cell_type": "markdown",
   "id": "fa7699ad",
   "metadata": {},
   "source": [
    "### Create coordinate vectors"
   ]
  },
  {
   "cell_type": "code",
   "execution_count": 53,
   "id": "f6201335",
   "metadata": {},
   "outputs": [],
   "source": [
    "coordinate_df = pd.DataFrame(morphologies_df[\"id\"])"
   ]
  },
  {
   "cell_type": "code",
   "execution_count": 54,
   "id": "6339f6f3",
   "metadata": {},
   "outputs": [],
   "source": [
    "coordinate_df[\"coordinates\"] = pd.Series(morphologies_df[[\n",
    "    \"brainLocation.coordinatesInBrainAtlas.valueX.value\",\n",
    "    \"brainLocation.coordinatesInBrainAtlas.valueY.value\",\n",
    "    \"brainLocation.coordinatesInBrainAtlas.valueZ.value\"\n",
    "]].values.tolist()).apply(lambda x: [float(el) for el in x])\n",
    "coordinate_df = coordinate_df.rename(columns={\"id\": \"@id\"})"
   ]
  },
  {
   "cell_type": "code",
   "execution_count": 55,
   "id": "89823c10",
   "metadata": {},
   "outputs": [
    {
     "data": {
      "image/png": "[encoded data removed]",
      "text/plain": [
       "<Figure size 504x504 with 1 Axes>"
      ]
     },
     "metadata": {
      "needs_background": "light"
     },
     "output_type": "display_data"
    }
   ],
   "source": [
    "embedding_2d = transform_to_2d([[float(v) for v in el] for el in coordinate_df[\"coordinates\"].tolist()])\n",
    "plot_2d(frame, vectors=embedding_2d, label_prop=\"brainLocation_brainRegion_id\")"
   ]
  },
  {
   "cell_type": "markdown",
   "id": "f277aa73",
   "metadata": {},
   "source": [
    "### Create neurite feature vectors"
   ]
  },
  {
   "cell_type": "code",
   "execution_count": 56,
   "id": "59040dea",
   "metadata": {},
   "outputs": [],
   "source": [
    "feature_columns = [\n",
    "#     'somaNumberOfPoints.value',\n",
    "    'Axon_cumulatedLength',\n",
    "    'Axon_longestBranchLength',\n",
    "    'Axon_longestBranchNumberOfNodes',\n",
    "    'Axon_numberOfProjections',\n",
    "#     \"Axon_traversedBrainRegion\",\n",
    "    'BasalDendrite_cumulatedLength',\n",
    "    'BasalDendrite_longestBranchLength',\n",
    "    'BasalDendrite_longestBranchNumberOfNodes',\n",
    "    'BasalDendrite_numberOfProjections',\n",
    "#     \"BasalDendrite_traversedBrainRegion\",\n",
    "    'ApicalDendrite_cumulatedLength',\n",
    "    'ApicalDendrite_longestBranchLength',\n",
    "    'ApicalDendrite_longestBranchNumberOfNodes',\n",
    "    'ApicalDendrite_numberOfProjections',\n",
    "#     'ApicalDendrite_traversedBrainRegion'\n",
    "]"
   ]
  },
  {
   "cell_type": "code",
   "execution_count": 57,
   "id": "29b992e1",
   "metadata": {},
   "outputs": [],
   "source": [
    "neurite_features = nodes[[c for c in neurite_feature_df.columns if c in feature_columns]]"
   ]
  },
  {
   "cell_type": "code",
   "execution_count": 58,
   "id": "26fc7c30",
   "metadata": {},
   "outputs": [],
   "source": [
    "neurite_frame = PandasPGFrame.from_frames(\n",
    "    nodes=neurite_features, edges=pd.DataFrame())"
   ]
  },
  {
   "cell_type": "code",
   "execution_count": 59,
   "id": "203472b7",
   "metadata": {},
   "outputs": [],
   "source": [
    "for c in neurite_frame._nodes.columns:\n",
    "    try:\n",
    "        neurite_frame.node_prop_as_numeric(c)\n",
    "    except:\n",
    "        neurite_frame.node_prop_as_category(c)"
   ]
  },
  {
   "cell_type": "code",
   "execution_count": 70,
   "id": "066bc1cf",
   "metadata": {},
   "outputs": [],
   "source": [
    "encoder = ScikitLearnPGEncoder(\n",
    "    node_properties=neurite_frame.node_properties(),\n",
    "    missing_numeric=\"impute\",\n",
    "    imputation_strategy=\"mean\")\n",
    "encoded_frame = encoder.fit_transform(neurite_frame)"
   ]
  },
  {
   "cell_type": "code",
   "execution_count": 86,
   "id": "fd133748",
   "metadata": {},
   "outputs": [],
   "source": [
    "neurite_features = encoded_frame._nodes.rename(columns={\"features\": \"neurite_features\"})"
   ]
  },
  {
   "cell_type": "code",
   "execution_count": 87,
   "id": "baaec755",
   "metadata": {},
   "outputs": [],
   "source": [
    "data = np.array(neurite_features[\"neurite_features\"].tolist())\n",
    "neurite_features[\"neurite_features\"] = (data / data.max()).tolist()"
   ]
  },
  {
   "cell_type": "code",
   "execution_count": 88,
   "id": "d0f0a5f3",
   "metadata": {},
   "outputs": [],
   "source": [
    "neurite_dim = len(neurite_features[\"neurite_features\"].iloc[0])"
   ]
  },
  {
   "cell_type": "code",
   "execution_count": 89,
   "id": "10014cc6",
   "metadata": {},
   "outputs": [],
   "source": [
    "sim_processor = SimilarityProcessor(similarity=\"euclidean\", dimension=neurite_dim)\n",
    "sim_processor.add(neurite_features[\"neurite_features\"],\n",
    "                  neurite_features.index)\n",
    "pipeline = EmbeddingPipeline(\n",
    "    preprocessor=encoder,\n",
    "    embedder=None,\n",
    "    similarity_processor=sim_processor)\n",
    "pipeline.save(\"SEU_morph_neurite_features_euclidean\", compress=True)"
   ]
  },
  {
   "cell_type": "code",
   "execution_count": 75,
   "id": "0da99810",
   "metadata": {},
   "outputs": [
    {
     "name": "stdout",
     "output_type": "stream",
     "text": [
      "<action> _register_one\n",
      "<succeeded> True\n"
     ]
    }
   ],
   "source": [
    "model_resource = push_model(\n",
    "    forge, agent, \"SEU NeuronMorphology Neurite Features\",\n",
    "    \"Feature encoding model built for neurite features from the SEU neuron morphology dataset resources\",\n",
    "    \"Neurite features\",\n",
    "    \"SEU_morph_neurite_features_euclidean.zip\", \"euclidean\", neurite_dim)"
   ]
  },
  {
   "cell_type": "code",
   "execution_count": 69,
   "id": "db445aa9",
   "metadata": {},
   "outputs": [
    {
     "data": {
      "image/png": "[encoded data removed]",
      "text/plain": [
       "<Figure size 504x504 with 1 Axes>"
      ]
     },
     "metadata": {
      "needs_background": "light"
     },
     "output_type": "display_data"
    }
   ],
   "source": [
    "embedding_2d = transform_to_2d(encoded_frame._nodes[\"features\"].tolist())\n",
    "plot_2d(frame, vectors=embedding_2d, label_prop=\"brainLocation_brainRegion_id\")"
   ]
  },
  {
   "cell_type": "markdown",
   "id": "2b09c0a4",
   "metadata": {},
   "source": [
    "### Ontology-based hierarchical brain region embedding"
   ]
  },
  {
   "cell_type": "code",
   "execution_count": 83,
   "id": "21237aa6",
   "metadata": {},
   "outputs": [],
   "source": [
    "model = PoincareModel(thalamus_partition, size=32, negative=2)\n",
    "model.train(epochs=100)"
   ]
  },
  {
   "cell_type": "code",
   "execution_count": 84,
   "id": "2decdd28",
   "metadata": {},
   "outputs": [],
   "source": [
    "vectors = {\n",
    "    allen_to_uberon[el]: model.kv.get_vector(allen_to_uberon[el])\n",
    "    for el in morphologies_df[\"brainLocation.brainRegion.id\"]\n",
    "}"
   ]
  },
  {
   "cell_type": "code",
   "execution_count": 85,
   "id": "61aada2c",
   "metadata": {},
   "outputs": [],
   "source": [
    "region_embedding_df = morphologies_df[[\"id\", \"brainLocation.brainRegion.id\"]].copy()"
   ]
  },
  {
   "cell_type": "code",
   "execution_count": 86,
   "id": "8ce489aa",
   "metadata": {},
   "outputs": [],
   "source": [
    "region_embedding_df[\"uberon_term\"] = region_embedding_df[\n",
    "    \"brainLocation.brainRegion.id\"].apply(lambda x: allen_to_uberon[x])\n",
    "region_embedding_df[\"region_vector\"] = region_embedding_df[\n",
    "    \"uberon_term\"].apply(lambda x: vectors[x])"
   ]
  },
  {
   "cell_type": "code",
   "execution_count": 89,
   "id": "13fc77ac",
   "metadata": {},
   "outputs": [],
   "source": [
    "region_embedding_df = region_embedding_df.drop(\n",
    "    columns=\"brainLocation.brainRegion.id\").rename(columns={\"id\": \"@id\"})"
   ]
  },
  {
   "cell_type": "markdown",
   "id": "d6081c9a",
   "metadata": {},
   "source": [
    "### Create co-projection graph representations"
   ]
  },
  {
   "cell_type": "code",
   "execution_count": 70,
   "id": "c87cd845",
   "metadata": {},
   "outputs": [],
   "source": [
    "axon_proj_frame = PandasPGFrame.from_frames(\n",
    "    nodes=frame._nodes[[\"brainLocation_brainRegion_id\", \"Axon_projectionBrainRegion\"]], edges=pd.DataFrame())\n",
    "dendrite_proj_frame = PandasPGFrame.from_frames(\n",
    "    nodes=frame._nodes[[\"brainLocation_brainRegion_id\", \"BasalDendrite_projectionBrainRegion\"]], edges=pd.DataFrame())"
   ]
  },
  {
   "cell_type": "markdown",
   "id": "d3bbc2fa",
   "metadata": {},
   "source": [
    "Create a co-projection graph based on axon projections (output)"
   ]
  },
  {
   "cell_type": "code",
   "execution_count": 71,
   "id": "47c93fc5",
   "metadata": {},
   "outputs": [],
   "source": [
    "gen = CooccurrenceGenerator(axon_proj_frame)\n",
    "edges = gen.generate_from_nodes(\n",
    "    \"Axon_projectionBrainRegion\",\n",
    "    compute_statistics=[\"frequency\"])\n",
    "edges = edges[edges[\"frequency\"].values > 3]\n",
    "axon_proj_frame._edges = edges\n",
    "axon_proj_frame.edge_prop_as_numeric(\"frequency\")"
   ]
  },
  {
   "cell_type": "code",
   "execution_count": 72,
   "id": "3fcd1012",
   "metadata": {},
   "outputs": [
    {
     "name": "stderr",
     "output_type": "stream",
     "text": [
      "/Users/oshurko/opt/anaconda3/envs/bg/lib/python3.7/site-packages/bluegraph/backends/stellargraph/embed/embedders.py:86: FittingWarning: StellarGraphNodeEmbedder's model 'watchyourstep' does not support the training parameter 'num_walks', the parameter will be ignored\n",
      "  GraphElementEmbedder.FittingWarning)\n",
      "/Users/oshurko/opt/anaconda3/envs/bg/lib/python3.7/site-packages/tensorflow/python/keras/losses.py:246: ExperimentalWarning: graph_log_likelihood is experimental: lack of unit tests (see: https://github.com/stellargraph/stellargraph/issues/804). It may be difficult to use and may have major changes at any time.\n",
      "  return self.fn(y_true, y_pred, **self._fn_kwargs)\n"
     ]
    }
   ],
   "source": [
    "watchyourstep_embedder = StellarGraphNodeEmbedder(\n",
    "    \"watchyourstep\", directed=False, epochs=100, num_walks=80,\n",
    "    embedding_dimension=128, num_powers=10)\n",
    "watchyourstep_embedding = watchyourstep_embedder.fit_model(axon_proj_frame)"
   ]
  },
  {
   "cell_type": "code",
   "execution_count": 73,
   "id": "b657c5f7",
   "metadata": {},
   "outputs": [],
   "source": [
    "axon_proj_frame.add_node_properties(\n",
    "    watchyourstep_embedding.rename(columns={\"embedding\": \"axon_coproj_embedding\"}))"
   ]
  },
  {
   "cell_type": "code",
   "execution_count": 74,
   "id": "f84ae9dd",
   "metadata": {},
   "outputs": [
    {
     "data": {
      "image/png": "[encoded data removed]",
      "text/plain": [
       "<Figure size 504x504 with 1 Axes>"
      ]
     },
     "metadata": {
      "needs_background": "light"
     },
     "output_type": "display_data"
    }
   ],
   "source": [
    "embedding_2d = transform_to_2d(axon_proj_frame._nodes[\"axon_coproj_embedding\"].tolist())\n",
    "plot_2d(axon_proj_frame, vectors=embedding_2d, label_prop=\"brainLocation_brainRegion_id\")"
   ]
  },
  {
   "cell_type": "markdown",
   "id": "62ac4feb",
   "metadata": {},
   "source": [
    "Create a co-projection graph based on dendrite projections (input)"
   ]
  },
  {
   "cell_type": "code",
   "execution_count": 75,
   "id": "e58546f4",
   "metadata": {},
   "outputs": [],
   "source": [
    "gen = CooccurrenceGenerator(dendrite_proj_frame)\n",
    "edges = gen.generate_from_nodes(\n",
    "    \"BasalDendrite_projectionBrainRegion\",\n",
    "    compute_statistics=[\"frequency\"])\n",
    "edges = edges[edges[\"frequency\"].values > 3]\n",
    "dendrite_proj_frame._edges = edges\n",
    "dendrite_proj_frame.edge_prop_as_numeric(\"frequency\")"
   ]
  },
  {
   "cell_type": "code",
   "execution_count": 76,
   "id": "4146773f",
   "metadata": {},
   "outputs": [
    {
     "name": "stderr",
     "output_type": "stream",
     "text": [
      "/Users/oshurko/opt/anaconda3/envs/bg/lib/python3.7/site-packages/bluegraph/backends/stellargraph/embed/embedders.py:86: FittingWarning: StellarGraphNodeEmbedder's model 'watchyourstep' does not support the training parameter 'num_walks', the parameter will be ignored\n",
      "  GraphElementEmbedder.FittingWarning)\n",
      "/Users/oshurko/opt/anaconda3/envs/bg/lib/python3.7/site-packages/stellargraph/core/utils.py:134: RuntimeWarning: divide by zero encountered in float_power\n",
      "  d = sp.diags(np.float_power(np.array(adj.sum(1)), -1).flatten(), 0)\n",
      "/Users/oshurko/opt/anaconda3/envs/bg/lib/python3.7/site-packages/tensorflow/python/keras/losses.py:246: ExperimentalWarning: graph_log_likelihood is experimental: lack of unit tests (see: https://github.com/stellargraph/stellargraph/issues/804). It may be difficult to use and may have major changes at any time.\n",
      "  return self.fn(y_true, y_pred, **self._fn_kwargs)\n"
     ]
    }
   ],
   "source": [
    "watchyourstep_embedder = StellarGraphNodeEmbedder(\n",
    "    \"watchyourstep\", directed=False, epochs=100, num_walks=80,\n",
    "    embedding_dimension=128, num_powers=10)\n",
    "watchyourstep_embedding = watchyourstep_embedder.fit_model(dendrite_proj_frame)"
   ]
  },
  {
   "cell_type": "code",
   "execution_count": 77,
   "id": "5689a57e",
   "metadata": {},
   "outputs": [],
   "source": [
    "dendrite_proj_frame.add_node_properties(\n",
    "    watchyourstep_embedding.rename(columns={\"embedding\": \"dendrite_coproj_embedding\"}))"
   ]
  },
  {
   "cell_type": "code",
   "execution_count": 78,
   "id": "944e3fe1",
   "metadata": {
    "scrolled": false
   },
   "outputs": [
    {
     "data": {
      "image/png": "[encoded data removed]",
      "text/plain": [
       "<Figure size 504x504 with 1 Axes>"
      ]
     },
     "metadata": {
      "needs_background": "light"
     },
     "output_type": "display_data"
    }
   ],
   "source": [
    "embedding_2d = transform_to_2d(dendrite_proj_frame._nodes[\"dendrite_coproj_embedding\"].tolist())\n",
    "plot_2d(dendrite_proj_frame, vectors=embedding_2d, label_prop=\"brainLocation_brainRegion_id\")"
   ]
  },
  {
   "cell_type": "code",
   "execution_count": 90,
   "id": "fadf6e80",
   "metadata": {},
   "outputs": [
    {
     "ename": "NameError",
     "evalue": "name 'coordinate_df' is not defined",
     "output_type": "error",
     "traceback": [
      "\u001b[0;31m---------------------------------------------------------------------------\u001b[0m",
      "\u001b[0;31mNameError\u001b[0m                                 Traceback (most recent call last)",
      "\u001b[0;32m<ipython-input-90-3c63a185c38f>\u001b[0m in \u001b[0;36m<module>\u001b[0;34m\u001b[0m\n\u001b[0;32m----> 1\u001b[0;31m combined_data = coordinate_df.merge(\n\u001b[0m\u001b[1;32m      2\u001b[0m     \u001b[0mneurite_features\u001b[0m\u001b[0;34m.\u001b[0m\u001b[0mreset_index\u001b[0m\u001b[0;34m(\u001b[0m\u001b[0;34m)\u001b[0m\u001b[0;34m,\u001b[0m \u001b[0mon\u001b[0m\u001b[0;34m=\u001b[0m\u001b[0;34m\"@id\"\u001b[0m\u001b[0;34m)\u001b[0m\u001b[0;34m.\u001b[0m\u001b[0mmerge\u001b[0m\u001b[0;34m(\u001b[0m\u001b[0;34m\u001b[0m\u001b[0;34m\u001b[0m\u001b[0m\n\u001b[1;32m      3\u001b[0m         \u001b[0maxon_proj_frame\u001b[0m\u001b[0;34m.\u001b[0m\u001b[0m_nodes\u001b[0m\u001b[0;34m[\u001b[0m\u001b[0;34m[\u001b[0m\u001b[0;34m\"axon_coproj_embedding\"\u001b[0m\u001b[0;34m]\u001b[0m\u001b[0;34m]\u001b[0m\u001b[0;34m.\u001b[0m\u001b[0mreset_index\u001b[0m\u001b[0;34m(\u001b[0m\u001b[0;34m)\u001b[0m\u001b[0;34m,\u001b[0m\u001b[0;34m\u001b[0m\u001b[0;34m\u001b[0m\u001b[0m\n\u001b[1;32m      4\u001b[0m         \u001b[0mon\u001b[0m\u001b[0;34m=\u001b[0m\u001b[0;34m\"@id\"\u001b[0m\u001b[0;34m)\u001b[0m\u001b[0;34m.\u001b[0m\u001b[0mmerge\u001b[0m\u001b[0;34m(\u001b[0m\u001b[0;34m\u001b[0m\u001b[0;34m\u001b[0m\u001b[0m\n\u001b[1;32m      5\u001b[0m             \u001b[0mdendrite_proj_frame\u001b[0m\u001b[0;34m.\u001b[0m\u001b[0m_nodes\u001b[0m\u001b[0;34m[\u001b[0m\u001b[0;34m[\u001b[0m\u001b[0;34m\"dendrite_coproj_embedding\"\u001b[0m\u001b[0;34m]\u001b[0m\u001b[0;34m]\u001b[0m\u001b[0;34m.\u001b[0m\u001b[0mreset_index\u001b[0m\u001b[0;34m(\u001b[0m\u001b[0;34m)\u001b[0m\u001b[0;34m)\u001b[0m\u001b[0;34m.\u001b[0m\u001b[0mmerge\u001b[0m\u001b[0;34m(\u001b[0m\u001b[0;34m\u001b[0m\u001b[0;34m\u001b[0m\u001b[0m\n",
      "\u001b[0;31mNameError\u001b[0m: name 'coordinate_df' is not defined"
     ]
    }
   ],
   "source": [
    "combined_data = coordinate_df.merge(\n",
    "    neurite_features.reset_index(), on=\"@id\").merge(\n",
    "        axon_proj_frame._nodes[[\"axon_coproj_embedding\"]].reset_index(),\n",
    "        on=\"@id\").merge(\n",
    "            dendrite_proj_frame._nodes[[\"dendrite_coproj_embedding\"]].reset_index()).merge(\n",
    "                morphologies_df[[\n",
    "                    \"id\",\n",
    "                    \"brainLocation.brainRegion.id\",\n",
    "                    \"atlasRelease.id\",\n",
    "                    \"objectOfStudy.label\",\n",
    "                    \"generation.activity.hadProtocol.id\"]].rename(columns={\"id\": \"@id\"}),\n",
    "                on=\"@id\").merge(region_embedding_df, on=\"@id\")"
   ]
  },
  {
   "cell_type": "code",
   "execution_count": 80,
   "id": "9afe49e7",
   "metadata": {},
   "outputs": [],
   "source": [
    "combined_data[\"coordinates\"] = combined_data[\"coordinates\"].apply(lambda x: [float(el) for el in x])"
   ]
  },
  {
   "cell_type": "code",
   "execution_count": 82,
   "id": "3e8dd2a0",
   "metadata": {},
   "outputs": [],
   "source": [
    "combined_data = combined_data.rename(\n",
    "    columns={\n",
    "        \"brainLocation.brainRegion.id\": \"brain_region\",\n",
    "        'atlasRelease.id': \"atlas_release\",\n",
    "        \"objectOfStudy.label\": \"object_of_study\"\n",
    "    })"
   ]
  },
  {
   "cell_type": "code",
   "execution_count": 83,
   "id": "77b7d2e6",
   "metadata": {},
   "outputs": [],
   "source": [
    "combined_data.to_csv(\"data/combined_data.csv\", index=None)"
   ]
  }
 ],
 "metadata": {
  "kernelspec": {
   "display_name": "bg",
   "language": "python",
   "name": "bg"
  },
  "language_info": {
   "codemirror_mode": {
    "name": "ipython",
    "version": 3
   },
   "file_extension": ".py",
   "mimetype": "text/x-python",
   "name": "python",
   "nbconvert_exporter": "python",
   "pygments_lexer": "ipython3",
   "version": "3.7.10"
  }
 },
 "nbformat": 4,
 "nbformat_minor": 5
}
