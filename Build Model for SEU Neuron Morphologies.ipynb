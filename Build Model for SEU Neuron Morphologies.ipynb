{
 "cells": [
  {
   "cell_type": "markdown",
   "id": "49971e28",
   "metadata": {},
   "source": [
    "# Creating vector representations of SEU Neuron Morphologies"
   ]
  },
  {
   "cell_type": "code",
   "execution_count": null,
   "id": "e36409b0",
   "metadata": {},
   "outputs": [],
   "source": [
    "import getpass\n",
    "import jwt\n",
    "\n",
    "import numpy as np\n",
    "import pandas as pd\n",
    "\n",
    "from kgforge.core import KnowledgeGraphForge\n",
    "from kgforge.specializations.resources import Dataset\n",
    "\n",
    "from sklearn.feature_selection import VarianceThreshold\n",
    "from sklearn.feature_extraction.text import TfidfVectorizer\n",
    "from sklearn.preprocessing import StandardScaler, MultiLabelBinarizer\n",
    "from sklearn.impute import SimpleImputer\n",
    "from sklearn.manifold import TSNE\n",
    "from sklearn.decomposition import PCA\n",
    "\n",
    "from bluegraph import PandasPGFrame\n",
    "from bluegraph.preprocess import ScikitLearnPGEncoder\n",
    "from bluegraph.downstream.utils import transform_to_2d, plot_2d\n",
    "from bluegraph.preprocess import CooccurrenceGenerator\n",
    "from bluegraph.backends.stellargraph import StellarGraphNodeEmbedder\n",
    "from bluegraph.backends.networkx import NXCommunityDetector\n",
    "from bluegraph.downstream import EmbeddingPipeline\n",
    "from bluegraph.downstream.similarity import SimilarityProcessor"
   ]
  },
  {
   "cell_type": "code",
   "execution_count": null,
   "id": "5525008e",
   "metadata": {},
   "outputs": [],
   "source": [
    "def get_encoder_features(prop_name, encoder, last_index):\n",
    "    if encoder is None or isinstance(encoder, StandardScaler):\n",
    "        return {last_index: f\"{prop_name}_IDENTITY\"}, last_index + 1\n",
    "    if isinstance(encoder, TfidfVectorizer):\n",
    "        return (\n",
    "            {\n",
    "                i + last_index: f\"{prop_name}_WORD_{f}\"\n",
    "                for i, f in enumerate(encoder.get_feature_names())\n",
    "            },\n",
    "            last_index + len(encoder.get_feature_names())\n",
    "        )\n",
    "    elif isinstance(encoder, MultiLabelBinarizer):\n",
    "        return (\n",
    "            {\n",
    "                i + last_index: f\"{prop_name}_CLASS_{c}\"\n",
    "                for i, c in enumerate(encoder.classes_)\n",
    "            },\n",
    "            last_index + len(encoder.classes_)\n",
    "        )\n",
    "    \n",
    "    else:\n",
    "        return {}, last_index\n",
    "\n",
    "def explain_property_coordinates(encoder, graph):\n",
    "    last_index = 0\n",
    "    property_coordinates = {}\n",
    "    for p in graph.node_properties():\n",
    "        if p in encoder._node_encoders:\n",
    "            res, new_index = get_encoder_features(\n",
    "                p, encoder._node_encoders[p], last_index)\n",
    "            property_coordinates.update(res)\n",
    "            last_index = new_index\n",
    "    return property_coordinates"
   ]
  },
  {
   "cell_type": "markdown",
   "id": "7312485c",
   "metadata": {},
   "source": [
    "## Load morphologies from Nexus"
   ]
  },
  {
   "cell_type": "code",
   "execution_count": null,
   "id": "dd567ebb",
   "metadata": {},
   "outputs": [],
   "source": [
    "TOKEN = getpass.getpass()"
   ]
  },
  {
   "cell_type": "code",
   "execution_count": null,
   "id": "6961d1fd",
   "metadata": {},
   "outputs": [],
   "source": [
    "forge = KnowledgeGraphForge(\"configs/new-forge-config.yaml\",\n",
    "                            token=TOKEN,\n",
    "                            bucket=\"bbp-external/seu\")"
   ]
  },
  {
   "cell_type": "code",
   "execution_count": null,
   "id": "4e15c313",
   "metadata": {},
   "outputs": [],
   "source": [
    "morphologies = forge.search({\"type\": \"NeuronMorphology\"}, limit=None)"
   ]
  },
  {
   "cell_type": "code",
   "execution_count": null,
   "id": "5cb97882",
   "metadata": {},
   "outputs": [],
   "source": [
    "morphologies_df = forge.as_dataframe(morphologies)[[\n",
    "    \"id\",\n",
    "    \"brainLocation.brainRegion.id\",\n",
    "    \"brainLocation.coordinatesInBrainAtlas.valueX.value\",\n",
    "    \"brainLocation.coordinatesInBrainAtlas.valueY.value\",\n",
    "    \"brainLocation.coordinatesInBrainAtlas.valueZ.value\",\n",
    "    \"somaNumberOfPoints.value\",\n",
    "    \"neuriteFeature\",\n",
    "    \"subject.name\",\n",
    "    # to remove\n",
    "    \"atlasRelease.id\",\n",
    "    \"objectOfStudy.label\",\n",
    "    \"generation.activity.hadProtocol.id\"\n",
    "]]"
   ]
  },
  {
   "cell_type": "code",
   "execution_count": null,
   "id": "b92baead",
   "metadata": {},
   "outputs": [],
   "source": [
    "forge = KnowledgeGraphForge(\n",
    "    \"configs/new-forge-config.yaml\",\n",
    "    token=TOKEN,\n",
    "    bucket=\"neurosciencegraph/datamodels\")"
   ]
  },
  {
   "cell_type": "code",
   "execution_count": null,
   "id": "b821d45d",
   "metadata": {},
   "outputs": [],
   "source": [
    "brain_region_resources = [\n",
    "    forge.retrieve(el) for el in morphologies_df[\"brainLocation.brainRegion.id\"]\n",
    "]"
   ]
  },
  {
   "cell_type": "code",
   "execution_count": null,
   "id": "57b88203",
   "metadata": {},
   "outputs": [],
   "source": [
    "brain_region_notation = {\n",
    "    r.id: (r.notation, r.prefLabel)\n",
    "    for r in brain_region_resources\n",
    "}"
   ]
  },
  {
   "cell_type": "code",
   "execution_count": null,
   "id": "eb516e2d",
   "metadata": {
    "scrolled": false
   },
   "outputs": [],
   "source": [
    "brain_region_notation"
   ]
  },
  {
   "cell_type": "code",
   "execution_count": null,
   "id": "e5be10d9",
   "metadata": {},
   "outputs": [],
   "source": [
    "def get_notation(region_id):\n",
    "    if region_id not in brain_region_notation:\n",
    "        r = forge.retrieve(region_id)\n",
    "        brain_region_notation[r.id] = (r.notation, r.prefLabel)\n",
    "    return brain_region_notation[region_id][0]"
   ]
  },
  {
   "cell_type": "code",
   "execution_count": null,
   "id": "b9bfaccb",
   "metadata": {},
   "outputs": [],
   "source": [
    "def get_neurite_features(data):\n",
    "    \n",
    "    result = {\n",
    "        \"has_Axon_feature\": 0,\n",
    "        \"has_BasalDendrite_feature\": 0,\n",
    "        \"has_ApicalDendrite_feature\": 0\n",
    "    }\n",
    "    \n",
    "    def _process_data(el, prefix):\n",
    "        result[f\"{prefix}_cumulatedLength\"] = el[\"cumulatedLength\"][\"value\"]\n",
    "        result[f\"{prefix}_longestBranchLength\"] = el[\"longestBranchLength\"][\"value\"]\n",
    "        result[f\"{prefix}_longestBranchNumberOfNodes\"] = el[\"longestBranchNumberOfNodes\"]\n",
    "        result[f\"{prefix}_numberOfProjections\"] = el[\"numberOfProjections\"]\n",
    "        result[f\"{prefix}_projectionBrainRegion\"] = {\n",
    "            get_notation(r[\"id\"]) for r in el[\"projectionBrainRegion\"]\n",
    "        } if isinstance(el[\"projectionBrainRegion\"], list) else {get_notation(el[\"projectionBrainRegion\"][\"id\"])}\n",
    "        result[f\"{prefix}_traversedBrainRegion\"] = {\n",
    "            get_notation(r[\"id\"]) for r in el[\"traversedBrainRegion\"]\n",
    "        } if isinstance(el[\"traversedBrainRegion\"], list) else {get_notation(el[\"traversedBrainRegion\"][\"id\"])}\n",
    "\n",
    "    for el in data:\n",
    "        result[\"has_\" + el[\"type\"] + \"_feature\"] = 1\n",
    "        _process_data(el, el[\"type\"])\n",
    "\n",
    "    return result"
   ]
  },
  {
   "cell_type": "code",
   "execution_count": null,
   "id": "da6a1c66",
   "metadata": {},
   "outputs": [],
   "source": [
    "neurite_features = morphologies_df[\"neuriteFeature\"].apply(get_neurite_features).tolist()"
   ]
  },
  {
   "cell_type": "code",
   "execution_count": null,
   "id": "06887c82",
   "metadata": {},
   "outputs": [],
   "source": [
    "neurite_feature_df = pd.DataFrame(neurite_features)"
   ]
  },
  {
   "cell_type": "code",
   "execution_count": null,
   "id": "108a6872",
   "metadata": {},
   "outputs": [],
   "source": [
    "morphologies_df[\"brainLocation.brainRegion.id\"] = morphologies_df[\"brainLocation.brainRegion.id\"].apply(\n",
    "    lambda x: brain_region_notation[x][0])"
   ]
  },
  {
   "cell_type": "code",
   "execution_count": null,
   "id": "6bbded3f",
   "metadata": {},
   "outputs": [],
   "source": [
    "morphologies_df.head(5)"
   ]
  },
  {
   "cell_type": "markdown",
   "id": "f202e6ea",
   "metadata": {},
   "source": [
    "## Create a property graph without edges"
   ]
  },
  {
   "cell_type": "code",
   "execution_count": null,
   "id": "bc4a6e4c",
   "metadata": {},
   "outputs": [],
   "source": [
    "nodes = pd.concat(\n",
    "    [morphologies_df, neurite_feature_df], axis=1).drop(\n",
    "        columns=[\"neuriteFeature\"]).rename(columns={\"id\": \"@id\"}).set_index(\"@id\")"
   ]
  },
  {
   "cell_type": "code",
   "execution_count": null,
   "id": "db478fa7",
   "metadata": {},
   "outputs": [],
   "source": [
    "frame = PandasPGFrame()\n",
    "frame._nodes = nodes\n",
    "categorical_props = [\n",
    "    \"brainLocation.brainRegion.id\",\n",
    "    \"subject.name\",\n",
    "    \"has_Axon_feature\",\n",
    "    \"has_BasalDendrite_feature\",\n",
    "    \"has_ApicalDendrite_feature\",\n",
    "    \"BasalDendrite_projectionBrainRegion\",\n",
    "    \"BasalDendrite_traversedBrainRegion\",\n",
    "    \"ApicalDendrite_projectionBrainRegion\",\n",
    "    \"ApicalDendrite_traversedBrainRegion\",\n",
    "    \"Axon_projectionBrainRegion\",\n",
    "    \"Axon_traversedBrainRegion\",\n",
    "]\n",
    "for column in nodes.columns:\n",
    "    if column != \"@type\":\n",
    "        if column not in categorical_props:\n",
    "            try:\n",
    "                frame.node_prop_as_numeric(column)\n",
    "            except ValueError:\n",
    "                pass\n",
    "        else:\n",
    "            frame.node_prop_as_category(column)\n",
    "frame.rename_node_properties({\n",
    "    p: p.replace(\".\", \"_\")\n",
    "    for p in frame.node_properties()\n",
    "})"
   ]
  },
  {
   "cell_type": "markdown",
   "id": "97b1f4ec",
   "metadata": {},
   "source": [
    "## Encode properties"
   ]
  },
  {
   "cell_type": "code",
   "execution_count": null,
   "id": "79c1fa88",
   "metadata": {},
   "outputs": [],
   "source": [
    "encoder = ScikitLearnPGEncoder(\n",
    "    node_properties=frame.node_properties(),\n",
    "    missing_numeric=\"impute\",\n",
    "    imputation_strategy=\"mean\",\n",
    "    reduce_node_dims=True,\n",
    "    n_node_components=64)"
   ]
  },
  {
   "cell_type": "code",
   "execution_count": null,
   "id": "374a83fd",
   "metadata": {},
   "outputs": [],
   "source": [
    "encoded_frame = encoder.fit_transform(frame)"
   ]
  },
  {
   "cell_type": "markdown",
   "id": "26da6b36",
   "metadata": {},
   "source": [
    "Explained variance of data"
   ]
  },
  {
   "cell_type": "code",
   "execution_count": null,
   "id": "7eaa1cc6",
   "metadata": {},
   "outputs": [],
   "source": [
    "sum(encoder.node_reducer.explained_variance_ratio_)"
   ]
  },
  {
   "cell_type": "markdown",
   "id": "4e1ed300",
   "metadata": {},
   "source": [
    "Let's plot a 2D projection of what we have got"
   ]
  },
  {
   "cell_type": "code",
   "execution_count": null,
   "id": "5c86a27d",
   "metadata": {},
   "outputs": [],
   "source": [
    "X = np.array(encoded_frame._nodes[\"features\"].tolist())\n",
    "features_2d = transform_to_2d(X)"
   ]
  },
  {
   "cell_type": "code",
   "execution_count": null,
   "id": "f132e3fa",
   "metadata": {},
   "outputs": [],
   "source": [
    "plot_2d(\n",
    "    frame, vectors=features_2d, label_prop=\"brainLocation_brainRegion_id\",\n",
    "    title=\"Colored by Brain Region\")"
   ]
  },
  {
   "cell_type": "markdown",
   "id": "dd0d308c",
   "metadata": {},
   "source": [
    "## Create co-projection PGFrames "
   ]
  },
  {
   "cell_type": "markdown",
   "id": "fa9abb86",
   "metadata": {},
   "source": [
    "### Axon co-projection graph"
   ]
  },
  {
   "cell_type": "code",
   "execution_count": null,
   "id": "95cf8009",
   "metadata": {},
   "outputs": [],
   "source": [
    "gen = CooccurrenceGenerator(frame)\n",
    "axon_edges = gen.generate_from_nodes(\n",
    "    \"Axon_projectionBrainRegion\",\n",
    "    compute_statistics=[\"frequency\"])"
   ]
  },
  {
   "cell_type": "code",
   "execution_count": null,
   "id": "2c7c7e64",
   "metadata": {},
   "outputs": [],
   "source": [
    "axon_edges = axon_edges[axon_edges[\"frequency\"].values > 3]"
   ]
  },
  {
   "cell_type": "code",
   "execution_count": null,
   "id": "fc3e3570",
   "metadata": {},
   "outputs": [],
   "source": [
    "axon_edges.shape"
   ]
  },
  {
   "cell_type": "code",
   "execution_count": null,
   "id": "c1935c9f",
   "metadata": {},
   "outputs": [],
   "source": [
    "axon_coprojection_frame = PandasPGFrame.from_frames(\n",
    "    nodes=encoded_frame._nodes, edges=axon_edges)\n",
    "axon_coprojection_frame.edge_prop_as_numeric(\"frequency\")"
   ]
  },
  {
   "cell_type": "markdown",
   "id": "8615febf",
   "metadata": {},
   "source": [
    "### Dendrite co-projection graph"
   ]
  },
  {
   "cell_type": "code",
   "execution_count": null,
   "id": "7e705ae5",
   "metadata": {},
   "outputs": [],
   "source": [
    "gen = CooccurrenceGenerator(frame)\n",
    "dendrite_edges = gen.generate_from_nodes(\n",
    "    \"BasalDendrite_projectionBrainRegion\",\n",
    "    compute_statistics=[\"frequency\"])"
   ]
  },
  {
   "cell_type": "code",
   "execution_count": null,
   "id": "88cd290f",
   "metadata": {},
   "outputs": [],
   "source": [
    "dendrite_edges = dendrite_edges[dendrite_edges[\"frequency\"].values > 1]"
   ]
  },
  {
   "cell_type": "code",
   "execution_count": null,
   "id": "8d89c998",
   "metadata": {
    "scrolled": true
   },
   "outputs": [],
   "source": [
    "dendrite_edges.shape"
   ]
  },
  {
   "cell_type": "code",
   "execution_count": null,
   "id": "06981ccb",
   "metadata": {},
   "outputs": [],
   "source": [
    "dendrite_coprojection_frame = PandasPGFrame.from_frames(\n",
    "    nodes=encoded_frame._nodes, edges=dendrite_edges)\n",
    "dendrite_coprojection_frame.edge_prop_as_numeric(\"frequency\")"
   ]
  },
  {
   "cell_type": "markdown",
   "id": "7655f890",
   "metadata": {},
   "source": [
    "## Embed nodes"
   ]
  },
  {
   "cell_type": "markdown",
   "id": "d8e82397",
   "metadata": {},
   "source": [
    "### Axon co-projection embedding"
   ]
  },
  {
   "cell_type": "code",
   "execution_count": null,
   "id": "4ec3030f",
   "metadata": {},
   "outputs": [],
   "source": [
    "axon_D = 128"
   ]
  },
  {
   "cell_type": "code",
   "execution_count": null,
   "id": "3372ba44",
   "metadata": {},
   "outputs": [],
   "source": [
    "axon_attri2vec_embedder = StellarGraphNodeEmbedder(\n",
    "    \"attri2vec\", feature_vector_prop=\"features\",\n",
    "    length=5, number_of_walks=10,\n",
    "    epochs=10, embedding_dimension=axon_D, edge_weight=\"frequency\")\n",
    "axon_embedding = axon_attri2vec_embedder.fit_model(axon_coprojection_frame)"
   ]
  },
  {
   "cell_type": "code",
   "execution_count": null,
   "id": "eab977a0",
   "metadata": {},
   "outputs": [],
   "source": [
    "axon_coprojection_frame.add_node_properties(\n",
    "    axon_embedding.rename(columns={\"embedding\": \"attri2vec\"}))"
   ]
  },
  {
   "cell_type": "code",
   "execution_count": null,
   "id": "71c7303f",
   "metadata": {},
   "outputs": [],
   "source": [
    "embedding_2d = transform_to_2d(axon_coprojection_frame._nodes[\"attri2vec\"].tolist())\n",
    "plot_2d(frame, vectors=embedding_2d, label_prop=\"brainLocation_brainRegion_id\")"
   ]
  },
  {
   "cell_type": "markdown",
   "id": "2d833edf",
   "metadata": {},
   "source": [
    "### Dendrite co-projection embedding"
   ]
  },
  {
   "cell_type": "code",
   "execution_count": null,
   "id": "fb21bbda",
   "metadata": {},
   "outputs": [],
   "source": [
    "dendrite_D = 100"
   ]
  },
  {
   "cell_type": "code",
   "execution_count": null,
   "id": "9ceab6a3",
   "metadata": {},
   "outputs": [],
   "source": [
    "dendrite_attri2vec_embedder = StellarGraphNodeEmbedder(\n",
    "    \"attri2vec\", feature_vector_prop=\"features\",\n",
    "    length=6, number_of_walks=20,\n",
    "    epochs=15, embedding_dimension=dendrite_D, edge_weight=\"frequency\")\n",
    "dendrite_embedding = dendrite_attri2vec_embedder.fit_model(dendrite_coprojection_frame)"
   ]
  },
  {
   "cell_type": "code",
   "execution_count": null,
   "id": "245b8508",
   "metadata": {},
   "outputs": [],
   "source": [
    "dendrite_coprojection_frame.add_node_properties(\n",
    "    dendrite_embedding.rename(columns={\"embedding\": \"attri2vec\"}))"
   ]
  },
  {
   "cell_type": "code",
   "execution_count": null,
   "id": "4d0f08ca",
   "metadata": {},
   "outputs": [],
   "source": [
    "embedding_2d = transform_to_2d(dendrite_coprojection_frame._nodes[\"attri2vec\"].tolist())\n",
    "plot_2d(frame, vectors=embedding_2d, label_prop=\"brainLocation_brainRegion_id\")"
   ]
  },
  {
   "cell_type": "code",
   "execution_count": null,
   "id": "253a95b2",
   "metadata": {},
   "outputs": [],
   "source": [
    "# with open (\"meta.tsv\", \"w\") as f:\n",
    "#     f.write(\"id\\tregion\\n\")\n",
    "#     for el in dendrite_attri2vec_embedding[\"embedding\"].index:\n",
    "#         f.write(\"{}\\t{}\\n\".format(el, frame._nodes.loc[el, \"brainLocation_brainRegion_id\"]))"
   ]
  },
  {
   "cell_type": "code",
   "execution_count": null,
   "id": "d232501e",
   "metadata": {},
   "outputs": [],
   "source": [
    "# with open (\"vecs.tsv\", \"w\") as f:\n",
    "#     for el in dendrite_attri2vec_embedding[\"embedding\"].tolist():\n",
    "#         f.write(\"\\t\".join([str(v) for v in el]) + \"\\n\")"
   ]
  },
  {
   "cell_type": "markdown",
   "id": "fdb8901f",
   "metadata": {},
   "source": [
    "## Create and save the embedding pipelines"
   ]
  },
  {
   "cell_type": "markdown",
   "id": "a1e35637",
   "metadata": {},
   "source": [
    "### Axon co-projection pipeline"
   ]
  },
  {
   "cell_type": "code",
   "execution_count": null,
   "id": "454c50a8",
   "metadata": {},
   "outputs": [],
   "source": [
    "sim_processor = SimilarityProcessor(similarity=\"euclidean\", dimension=axon_D)\n",
    "sim_processor.add(axon_embedding[\"embedding\"].tolist(),\n",
    "                  axon_embedding.index)\n",
    "pipeline = EmbeddingPipeline(\n",
    "    preprocessor=encoder,\n",
    "    embedder=axon_attri2vec_embedder,\n",
    "    similarity_processor=sim_processor)"
   ]
  },
  {
   "cell_type": "code",
   "execution_count": null,
   "id": "f7fcbf23",
   "metadata": {},
   "outputs": [],
   "source": [
    "pipeline.save(\"SEU_morph_axon_coproj_attri2vec_euclidean\", compress=True)"
   ]
  },
  {
   "cell_type": "markdown",
   "id": "38813def",
   "metadata": {},
   "source": [
    "### Dendrite co-projection pipeline"
   ]
  },
  {
   "cell_type": "code",
   "execution_count": null,
   "id": "9889c537",
   "metadata": {},
   "outputs": [],
   "source": [
    "sim_processor = SimilarityProcessor(similarity=\"euclidean\", dimension=dendrite_D)\n",
    "sim_processor.add(dendrite_embedding[\"embedding\"].tolist(),\n",
    "                  dendrite_embedding.index)\n",
    "pipeline = EmbeddingPipeline(\n",
    "    preprocessor=encoder,\n",
    "    embedder=dendrite_attri2vec_embedder,\n",
    "    similarity_processor=sim_processor)"
   ]
  },
  {
   "cell_type": "code",
   "execution_count": null,
   "id": "f5e02298",
   "metadata": {},
   "outputs": [],
   "source": [
    "pipeline.save(\"SEU_morph_dendrite_coproj_attri2vec_euclidean\", compress=True)"
   ]
  },
  {
   "cell_type": "markdown",
   "id": "12c0118b",
   "metadata": {},
   "source": [
    "### 5. TODO: Push the model into the model catalog"
   ]
  },
  {
   "cell_type": "code",
   "execution_count": null,
   "id": "993f3503",
   "metadata": {},
   "outputs": [],
   "source": [
    "TOKEN = getpass.getpass()"
   ]
  },
  {
   "cell_type": "code",
   "execution_count": null,
   "id": "db694296",
   "metadata": {},
   "outputs": [],
   "source": [
    "forge = KnowledgeGraphForge(\n",
    "    \"configs/new-forge-config.yaml\",\n",
    "    endpoint=\"https://staging.nexus.ocp.bbp.epfl.ch/v1\",\n",
    "    token=TOKEN,\n",
    "    bucket=\"dke/embedder_catalog\")"
   ]
  },
  {
   "cell_type": "code",
   "execution_count": null,
   "id": "8e8289df",
   "metadata": {},
   "outputs": [],
   "source": [
    "def get_agent(token):\n",
    "    agent_data = jwt.decode(token, verify=False)\n",
    "    agent = forge.reshape(\n",
    "        forge.from_json(agent_data), keep=[\n",
    "            \"name\", \"email\", \"sub\", \"preferred_username\"])\n",
    "    agent.id = agent.sub\n",
    "    agent.type = \"Person\"\n",
    "    return agent"
   ]
  },
  {
   "cell_type": "code",
   "execution_count": null,
   "id": "294c0ad1",
   "metadata": {},
   "outputs": [],
   "source": [
    "def push_model(forge, agent, name, description, distribution):\n",
    "    # Create a new model resource\n",
    "    model_resource = Dataset(\n",
    "        forge,\n",
    "        name=name,\n",
    "        description=description)\n",
    "    model_resource.type = [\"Dataset\", \"EmbeddingModel\"]\n",
    "    # Add distrubution\n",
    "    model_resource.add_distribution(\n",
    "        distribution, content_type=\"application/octet-stream\")\n",
    "    # Add contribution\n",
    "    model_resource.add_contribution(agent, versioned=False)\n",
    "    model_resource.contribution.hadRole = \"Engineer\"\n",
    "\n",
    "    forge.register(model_resource)"
   ]
  },
  {
   "cell_type": "code",
   "execution_count": null,
   "id": "87fc85fa",
   "metadata": {},
   "outputs": [],
   "source": [
    "agent = get_agent(TOKEN)"
   ]
  },
  {
   "cell_type": "code",
   "execution_count": null,
   "id": "55843589",
   "metadata": {},
   "outputs": [],
   "source": [
    "push_model(\n",
    "    forge, agent, \"SEU NeuronMorphology Axon Co-Projection Embedding\",\n",
    "    \"Node embedding model built on an axon co-projection graph extracted from the SEU neuron morphology dataset resources\",\n",
    "    \"SEU_morph_axon_attri2vec_euclidean.zip\")"
   ]
  },
  {
   "cell_type": "code",
   "execution_count": null,
   "id": "d56c7f67",
   "metadata": {},
   "outputs": [],
   "source": [
    "push_model(\n",
    "    forge, agent, \"SEU NeuronMorphology Dendrite Co-Projection Embedding\",\n",
    "    \"Node embedding model built on a dendrite co-projection graph extracted from the SEU neuron morphology dataset resources\",\n",
    "    \"SEU_morph_dendrite_coproj_attri2vec_euclidean.zip\")"
   ]
  },
  {
   "cell_type": "markdown",
   "id": "32e77c0d",
   "metadata": {},
   "source": [
    "## Visualize the graph in Gephi"
   ]
  },
  {
   "cell_type": "code",
   "execution_count": null,
   "id": "bf770338",
   "metadata": {},
   "outputs": [],
   "source": [
    "frame.export_to_gephi(\n",
    "    \"seu_morphologies_co_proj\",\n",
    "    node_attr_mapping={\n",
    "        \"brainLocation_brainRegion_id\": \"Region\"\n",
    "    },\n",
    "    edge_attr_mapping={\n",
    "        \"frequency\": \"weight\"\n",
    "    })"
   ]
  },
  {
   "cell_type": "markdown",
   "id": "ff9fd45a",
   "metadata": {},
   "source": [
    "<img src=\"figures/neu_co_proj_illustration.png\">"
   ]
  },
  {
   "cell_type": "markdown",
   "id": "f74a3703",
   "metadata": {},
   "source": [
    "## Create a df with different representations (for testing pipelined recommendation/search)"
   ]
  },
  {
   "cell_type": "markdown",
   "id": "fa7699ad",
   "metadata": {},
   "source": [
    "### Create coordinate vectors"
   ]
  },
  {
   "cell_type": "code",
   "execution_count": null,
   "id": "f6201335",
   "metadata": {},
   "outputs": [],
   "source": [
    "coordinate_df = pd.DataFrame(morphologies_df[\"id\"])"
   ]
  },
  {
   "cell_type": "code",
   "execution_count": null,
   "id": "6339f6f3",
   "metadata": {},
   "outputs": [],
   "source": [
    "coordinate_df[\"coordinates\"] = pd.Series(morphologies_df[[\n",
    "    \"brainLocation.coordinatesInBrainAtlas.valueX.value\",\n",
    "    \"brainLocation.coordinatesInBrainAtlas.valueY.value\",\n",
    "    \"brainLocation.coordinatesInBrainAtlas.valueZ.value\"\n",
    "]].values.tolist())\n",
    "coordinate_df = coordinate_df.rename(columns={\"id\": \"@id\"})"
   ]
  },
  {
   "cell_type": "code",
   "execution_count": null,
   "id": "89823c10",
   "metadata": {},
   "outputs": [],
   "source": [
    "embedding_2d = transform_to_2d(coordinate_df[\"coordinates\"].tolist())\n",
    "plot_2d(axon_proj_frame, vectors=embedding_2d, label_prop=\"brainLocation_brainRegion_id\")"
   ]
  },
  {
   "cell_type": "markdown",
   "id": "f277aa73",
   "metadata": {},
   "source": [
    "### Create neurite feature vectors"
   ]
  },
  {
   "cell_type": "code",
   "execution_count": null,
   "id": "59040dea",
   "metadata": {},
   "outputs": [],
   "source": [
    "projection_columns = [\n",
    "    \"Axon_traversedBrainRegion\",\n",
    "    \"Axon_projectionBrainRegion\",\n",
    "    \"BasalDendrite_traversedBrainRegion\",\n",
    "    \"BasalDendrite_projectionBrainRegion\",\n",
    "    \"ApicalDendrite_traversedBrainRegion\",\n",
    "    \"ApicalDendrite_projectionBrainRegion\"\n",
    "]"
   ]
  },
  {
   "cell_type": "code",
   "execution_count": null,
   "id": "29b992e1",
   "metadata": {},
   "outputs": [],
   "source": [
    "neurite_features = nodes[[c for c in neurite_feature_df.columns if c not in projection_columns]]"
   ]
  },
  {
   "cell_type": "code",
   "execution_count": null,
   "id": "26fc7c30",
   "metadata": {},
   "outputs": [],
   "source": [
    "neurite_frame = PandasPGFrame.from_frames(\n",
    "    nodes=neurite_features, edges=pd.DataFrame())"
   ]
  },
  {
   "cell_type": "code",
   "execution_count": null,
   "id": "203472b7",
   "metadata": {},
   "outputs": [],
   "source": [
    "for c in neurite_frame._nodes.columns:\n",
    "    neurite_frame.node_prop_as_numeric(c)"
   ]
  },
  {
   "cell_type": "code",
   "execution_count": null,
   "id": "066bc1cf",
   "metadata": {},
   "outputs": [],
   "source": [
    "encoder = ScikitLearnPGEncoder(\n",
    "    node_properties=neurite_frame.node_properties(),\n",
    "    missing_numeric=\"impute\",\n",
    "    imputation_strategy=\"mean\")\n",
    "encoded_frame = encoder.fit_transform(neurite_frame)"
   ]
  },
  {
   "cell_type": "code",
   "execution_count": null,
   "id": "fd133748",
   "metadata": {},
   "outputs": [],
   "source": [
    "neurite_features = encoded_frame._nodes.rename(columns={\"features\": \"neurite_features\"})"
   ]
  },
  {
   "cell_type": "code",
   "execution_count": null,
   "id": "db445aa9",
   "metadata": {},
   "outputs": [],
   "source": [
    "embedding_2d = transform_to_2d(encoded_frame._nodes[\"features\"].tolist())\n",
    "plot_2d(axon_proj_frame, vectors=embedding_2d, label_prop=\"brainLocation_brainRegion_id\")"
   ]
  },
  {
   "cell_type": "markdown",
   "id": "d6081c9a",
   "metadata": {},
   "source": [
    "### Create co-projection graph representations"
   ]
  },
  {
   "cell_type": "code",
   "execution_count": null,
   "id": "c87cd845",
   "metadata": {},
   "outputs": [],
   "source": [
    "axon_proj_frame = PandasPGFrame.from_frames(\n",
    "    nodes=frame._nodes[[\"brainLocation_brainRegion_id\", \"Axon_projectionBrainRegion\"]], edges=pd.DataFrame())\n",
    "dendrite_proj_frame = PandasPGFrame.from_frames(\n",
    "    nodes=frame._nodes[[\"brainLocation_brainRegion_id\", \"BasalDendrite_projectionBrainRegion\"]], edges=pd.DataFrame())"
   ]
  },
  {
   "cell_type": "markdown",
   "id": "d3bbc2fa",
   "metadata": {},
   "source": [
    "Create a co-projection graph based on axon projections (output)"
   ]
  },
  {
   "cell_type": "code",
   "execution_count": null,
   "id": "47c93fc5",
   "metadata": {},
   "outputs": [],
   "source": [
    "gen = CooccurrenceGenerator(axon_proj_frame)\n",
    "edges = gen.generate_from_nodes(\n",
    "    \"Axon_projectionBrainRegion\",\n",
    "    compute_statistics=[\"frequency\"])\n",
    "edges = edges[edges[\"frequency\"].values > 3]\n",
    "axon_proj_frame._edges = edges\n",
    "axon_proj_frame.edge_prop_as_numeric(\"frequency\")"
   ]
  },
  {
   "cell_type": "code",
   "execution_count": null,
   "id": "3fcd1012",
   "metadata": {},
   "outputs": [],
   "source": [
    "watchyourstep_embedder = StellarGraphNodeEmbedder(\n",
    "    \"watchyourstep\", directed=False, epochs=100, num_walks=80,\n",
    "    embedding_dimension=128, num_powers=10)\n",
    "watchyourstep_embedding = watchyourstep_embedder.fit_model(axon_proj_frame)"
   ]
  },
  {
   "cell_type": "code",
   "execution_count": null,
   "id": "b657c5f7",
   "metadata": {},
   "outputs": [],
   "source": [
    "axon_proj_frame.add_node_properties(\n",
    "    watchyourstep_embedding.rename(columns={\"embedding\": \"axon_coproj_embedding\"}))"
   ]
  },
  {
   "cell_type": "code",
   "execution_count": null,
   "id": "f84ae9dd",
   "metadata": {},
   "outputs": [],
   "source": [
    "embedding_2d = transform_to_2d(axon_proj_frame._nodes[\"axon_coproj_embedding\"].tolist())\n",
    "plot_2d(axon_proj_frame, vectors=embedding_2d, label_prop=\"brainLocation_brainRegion_id\")"
   ]
  },
  {
   "cell_type": "markdown",
   "id": "62ac4feb",
   "metadata": {},
   "source": [
    "Create a co-projection graph based on dendrite projections (input)"
   ]
  },
  {
   "cell_type": "code",
   "execution_count": null,
   "id": "e58546f4",
   "metadata": {},
   "outputs": [],
   "source": [
    "gen = CooccurrenceGenerator(dendrite_proj_frame)\n",
    "edges = gen.generate_from_nodes(\n",
    "    \"BasalDendrite_projectionBrainRegion\",\n",
    "    compute_statistics=[\"frequency\"])\n",
    "edges = edges[edges[\"frequency\"].values > 3]\n",
    "dendrite_proj_frame._edges = edges\n",
    "dendrite_proj_frame.edge_prop_as_numeric(\"frequency\")"
   ]
  },
  {
   "cell_type": "code",
   "execution_count": null,
   "id": "4146773f",
   "metadata": {},
   "outputs": [],
   "source": [
    "watchyourstep_embedder = StellarGraphNodeEmbedder(\n",
    "    \"watchyourstep\", directed=False, epochs=100, num_walks=80,\n",
    "    embedding_dimension=128, num_powers=10)\n",
    "watchyourstep_embedding = watchyourstep_embedder.fit_model(dendrite_proj_frame)"
   ]
  },
  {
   "cell_type": "code",
   "execution_count": null,
   "id": "5689a57e",
   "metadata": {},
   "outputs": [],
   "source": [
    "dendrite_proj_frame.add_node_properties(\n",
    "    watchyourstep_embedding.rename(columns={\"embedding\": \"dendrite_coproj_embedding\"}))"
   ]
  },
  {
   "cell_type": "code",
   "execution_count": null,
   "id": "944e3fe1",
   "metadata": {
    "scrolled": false
   },
   "outputs": [],
   "source": [
    "embedding_2d = transform_to_2d(dendrite_proj_frame._nodes[\"dendrite_coproj_embedding\"].tolist())\n",
    "plot_2d(dendrite_proj_frame, vectors=embedding_2d, label_prop=\"brainLocation_brainRegion_id\")"
   ]
  },
  {
   "cell_type": "code",
   "execution_count": null,
   "id": "9afe49e7",
   "metadata": {},
   "outputs": [],
   "source": [
    "combined_data[\"coordinates\"] = combined_data[\"coordinates\"].apply(lambda x: [float(el) for el in x])"
   ]
  },
  {
   "cell_type": "code",
   "execution_count": null,
   "id": "33688a60",
   "metadata": {},
   "outputs": [],
   "source": [
    "combined_data[\"neurite_features\"] = combined_data[\"neurite_features\"].apply(\n",
    "    lambda x: x.tolist())"
   ]
  },
  {
   "cell_type": "code",
   "execution_count": null,
   "id": "fadf6e80",
   "metadata": {},
   "outputs": [],
   "source": [
    "combined_data = coordinate_df.merge(\n",
    "    neurite_features.reset_index(), on=\"@id\").merge(\n",
    "        axon_proj_frame._nodes[[\"axon_coproj_embedding\"]].reset_index(),\n",
    "        on=\"@id\").merge(\n",
    "            dendrite_proj_frame._nodes[[\"dendrite_coproj_embedding\"]].reset_index()).merge(\n",
    "                morphologies_df[[\n",
    "                    \"id\",\n",
    "                    \"brainLocation.brainRegion.id\",\n",
    "                    \"atlasRelease.id\",\n",
    "                    \"objectOfStudy.label\",\n",
    "                    \"generation.activity.hadProtocol.id\"]].rename(columns={\"id\": \"@id\"}),\n",
    "                on=\"@id\")"
   ]
  },
  {
   "cell_type": "code",
   "execution_count": null,
   "id": "77b7d2e6",
   "metadata": {},
   "outputs": [],
   "source": [
    "combined_data.to_csv(\"combined_data.csv\", index=None)"
   ]
  },
  {
   "cell_type": "code",
   "execution_count": null,
   "id": "ec255e4b",
   "metadata": {},
   "outputs": [],
   "source": []
  },
  {
   "cell_type": "code",
   "execution_count": null,
   "id": "c3cd48b6",
   "metadata": {},
   "outputs": [],
   "source": []
  }
 ],
 "metadata": {
  "kernelspec": {
   "display_name": "bg",
   "language": "python",
   "name": "bg"
  },
  "language_info": {
   "codemirror_mode": {
    "name": "ipython",
    "version": 3
   },
   "file_extension": ".py",
   "mimetype": "text/x-python",
   "name": "python",
   "nbconvert_exporter": "python",
   "pygments_lexer": "ipython3",
   "version": "3.7.10"
  }
 },
 "nbformat": 4,
 "nbformat_minor": 5
}
