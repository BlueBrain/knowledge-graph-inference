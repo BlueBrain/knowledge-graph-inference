{
 "cells": [
  {
   "cell_type": "markdown",
   "metadata": {},
   "source": [
    "# Add/update embedding vectors\n",
    "\n",
    "\n",
    "When adding a new set of embedding vectors or updating them, we need to perform the following sequence of steps\n",
    "\n",
    "1. Given a model id, its revision, and a given a set of resources, ask the service[or some python code] for embedding vectors\n",
    "2. Create/update embedding resources according to [this mapping](https://bbpgitlab.epfl.ch/dke/users/eugeniashurko/dataset-embeddings/-/blob/master/mappings/seu-embedding.hjson) --> model revision needs to be added to the `generation.activity.used.id`\n",
    "3. Push them to Nexus\n",
    "4. Tag them with the model UUID and the its revision (e.g. `e2b953b9-6724-4278-a1e5-3472bd63e374?rev=1`)"
   ]
  },
  {
   "cell_type": "markdown",
   "metadata": {},
   "source": [
    "Related JIRA tickets: \n",
    "* https://bbpteam.epfl.ch/project/issues/browse/DKE-718\n",
    "* https://bbpteam.epfl.ch/project/issues/browse/DKE-715"
   ]
  },
  {
   "cell_type": "markdown",
   "metadata": {},
   "source": [
    "Prerequisites:\n",
    "\n",
    "- The embedding model has been built\n",
    "- Embedding service can read models from a dedicated Nexus project where all models are stored (here, at the moment, we can download models locally and get vectors directly from the models, without using the service)\n",
    "- Model ID equals the Nexus resource id of the EmbeddingModel resource\n",
    "- __Important__: local contexts in the projects with vectors should contain:\n",
    "\n",
    "```\n",
    "{\n",
    "      \"embedding\": {\n",
    "        \"@id\": \"nsg:embedding\",\n",
    "        \"@container\": \"@list\"\n",
    "      }\n",
    "}\n",
    "```\n",
    "\n",
    "Questions:\n",
    "\n",
    "* do we really need to url-encode tags ?\n",
    "* add missing types and properties to the context"
   ]
  },
  {
   "cell_type": "markdown",
   "metadata": {},
   "source": [
    "---"
   ]
  },
  {
   "cell_type": "markdown",
   "metadata": {},
   "source": [
    "## Setup"
   ]
  },
  {
   "cell_type": "markdown",
   "metadata": {},
   "source": [
    "### Imports"
   ]
  },
  {
   "cell_type": "code",
   "execution_count": 167,
   "metadata": {},
   "outputs": [],
   "source": [
    "import requests\n",
    "import getpass\n",
    "import uuid\n",
    "import os\n",
    "import math\n",
    "import warnings\n",
    "\n",
    "from collections import OrderedDict\n",
    "\n",
    "import numpy as np\n",
    "import nexussdk as nxs\n",
    "\n",
    "from collections import namedtuple\n",
    "from urllib.parse import quote_plus\n",
    "from kgforge.core import KnowledgeGraphForge\n",
    "from kgforge.specializations.mappings import DictionaryMapping\n",
    "from bluegraph.downstream import EmbeddingPipeline\n",
    "from bluegraph.core import GraphElementEmbedder"
   ]
  },
  {
   "cell_type": "code",
   "execution_count": 168,
   "metadata": {},
   "outputs": [
    {
     "name": "stdout",
     "output_type": "stream",
     "text": [
      "0.6.3.dev9+gc159ffd\n"
     ]
    }
   ],
   "source": [
    "from kgforge.version import __version__\n",
    "print(__version__)"
   ]
  },
  {
   "cell_type": "markdown",
   "metadata": {},
   "source": [
    "### Helpers"
   ]
  },
  {
   "cell_type": "code",
   "execution_count": 169,
   "metadata": {},
   "outputs": [],
   "source": [
    "BucketConfiguration = namedtuple(\n",
    "    'BucketConfiguration', 'endpoint org proj')\n",
    "\n",
    "\n",
    "def create_forge_session(bucket_config):\n",
    "    return KnowledgeGraphForge(\n",
    "        \"https://raw.githubusercontent.com/BlueBrain/nexus-forge/master/examples/notebooks/use-cases/prod-forge-nexus.yml\",\n",
    "        token=TOKEN, \n",
    "        endpoint=bucket_config.endpoint,        \n",
    "        bucket=f\"{bucket_config.org}/{bucket_config.proj}\")\n",
    "\n",
    "\n",
    "def register_embeddings(forge, vectors, model_id, model_revision, tag):\n",
    "    new_embeddings = []\n",
    "    updated_embeddings = []\n",
    "    for at_id, embedding in vectors.items():\n",
    "        existing_vectors = forge.search({\n",
    "            \"type\": \"Embedding\",\n",
    "            \"derivation\": {\n",
    "                \"entity\": {\n",
    "                    \"id\": at_id\n",
    "                }\n",
    "            },\n",
    "            \"generation\": {\n",
    "                \"activity\": {\n",
    "                    \"used\": {\n",
    "                        \"id\": model_id\n",
    "                    }\n",
    "                }\n",
    "            }\n",
    "        })\n",
    "        if len(existing_vectors) > 0:\n",
    "            vector_resource = existing_vectors[0]\n",
    "            vector_resource.embedding = embedding\n",
    "            vector_resource.generation.activity.used.hasSelector = forge.from_json({\n",
    "                \"type\": \"FragmentSelector\",\n",
    "                \"conformsTo\": \"https://bluebrainnexus.io/docs/delta/api/resources-api.html#fetch\",\n",
    "                \"value\": f\"?rev={model_revision}\"\n",
    "            })\n",
    "            updated_embeddings.append(vector_resource)\n",
    "        else: \n",
    "            new_embeddings.append({\n",
    "                \"morphology_id\": at_id,\n",
    "                \"morphology_rev\": \"TODO\",\n",
    "                \"model_id\": model_id,\n",
    "                \"model_rev\": model_revision,\n",
    "                \"embedding_name\": f\"Embedding of morphology {at_id.split('/')[-1]} at revision TODO\" ,\n",
    "                \"embedding\": embedding,\n",
    "                \"uuid\": at_id.split(\"/\")[-1]\n",
    "\n",
    "            })\n",
    "    mapping = DictionaryMapping.load(\"./mappings/seu-embedding.hjson\")\n",
    "    new_embedding_resources = forge.map(new_embeddings, mapping)\n",
    "    for r in new_embedding_resources:\n",
    "        r.id = forge.format(\"identifier\", \"embeddings\", str(uuid.uuid4()))\n",
    "    forge.register(new_embedding_resources)\n",
    "    forge.update(updated_embeddings)\n",
    "    forge.tag(new_embedding_resources + updated_embeddings, tag)"
   ]
  },
  {
   "cell_type": "markdown",
   "metadata": {},
   "source": [
    "---"
   ]
  },
  {
   "cell_type": "markdown",
   "metadata": {},
   "source": [
    "## User input"
   ]
  },
  {
   "cell_type": "code",
   "execution_count": 170,
   "metadata": {},
   "outputs": [
    {
     "name": "stdout",
     "output_type": "stream",
     "text": [
      "········\n"
     ]
    }
   ],
   "source": [
    "ENDPOINT = \"https://staging.nexus.ocp.bbp.epfl.ch/v1\"\n",
    "DOWNLOAD_DIR = \"./data\"\n",
    "TOKEN = getpass.getpass()"
   ]
  },
  {
   "cell_type": "markdown",
   "metadata": {},
   "source": [
    "Bucket where embedding models live"
   ]
  },
  {
   "cell_type": "code",
   "execution_count": 171,
   "metadata": {},
   "outputs": [],
   "source": [
    "MODEL_CATALOG_ORG = \"dke\"\n",
    "MODEL_CATALOG_PROJECT = \"embedder_catalog\""
   ]
  },
  {
   "cell_type": "markdown",
   "metadata": {},
   "source": [
    "ID of the embedding model to use"
   ]
  },
  {
   "cell_type": "code",
   "execution_count": 187,
   "metadata": {},
   "outputs": [],
   "source": [
    "MODEL_ID = \"https://staging.nexus.ocp.bbp.epfl.ch/v1/resources/dke/embedder_catalog/_/14d61701-c4fa-44ea-8139-0e0ed606b4ec\"\n",
    "MODEL_REVISION = None  # Specify a revision, if necessary. If None, the latest revision is used"
   ]
  },
  {
   "cell_type": "markdown",
   "metadata": {},
   "source": [
    "Buckets where the input data lives together with the Bucket where the new embedding vectors should be registered."
   ]
  },
  {
   "cell_type": "code",
   "execution_count": 188,
   "metadata": {},
   "outputs": [],
   "source": [
    "DATA_BUCKETS = {\n",
    "    BucketConfiguration(\"https://bbp.epfl.ch/nexus/v1\", \"bbp-external\", \"seu\"): [\n",
    "             BucketConfiguration(\n",
    "                \"https://staging.nexus.ocp.bbp.epfl.ch/v1\",\n",
    "                 \"dke\",\"seu-embeddings\"),\n",
    "             BucketConfiguration(\n",
    "                \"https://staging.nexus.ocp.bbp.epfl.ch/v1\",\n",
    "                 \"dke\", \"seu-embeddings-2\")\n",
    "        ]\n",
    "}"
   ]
  },
  {
   "cell_type": "markdown",
   "metadata": {},
   "source": [
    "If the embedding endpoint/bucket are not specified, we assume that embeddings should live in the same bucket as the input data."
   ]
  },
  {
   "cell_type": "markdown",
   "metadata": {},
   "source": [
    "Data type filter for generating embedding vectors"
   ]
  },
  {
   "cell_type": "code",
   "execution_count": 189,
   "metadata": {},
   "outputs": [],
   "source": [
    "DATA_TYPE_FILTER = \"NeuronMorphology\""
   ]
  },
  {
   "cell_type": "code",
   "execution_count": 190,
   "metadata": {},
   "outputs": [],
   "source": [
    "HARD_RESOURCE_LIMIT = 10000  # Limit on number of resources we can retrieve with SPARQL queries"
   ]
  },
  {
   "cell_type": "markdown",
   "metadata": {},
   "source": [
    "---"
   ]
  },
  {
   "cell_type": "markdown",
   "metadata": {},
   "source": [
    "## Create Forge sessions"
   ]
  },
  {
   "cell_type": "markdown",
   "metadata": {},
   "source": [
    "### Session for embedding models"
   ]
  },
  {
   "cell_type": "code",
   "execution_count": 191,
   "metadata": {},
   "outputs": [],
   "source": [
    "forge_models = KnowledgeGraphForge(\n",
    "    \"https://raw.githubusercontent.com/BlueBrain/nexus-forge/master/examples/notebooks/use-cases/prod-forge-nexus.yml\",\n",
    "    endpoint=ENDPOINT,\n",
    "    token=TOKEN, \n",
    "    bucket=\"dke/embedder_catalog\")"
   ]
  },
  {
   "cell_type": "markdown",
   "metadata": {},
   "source": [
    "### Sessions for different buckets for data and embedding vectors"
   ]
  },
  {
   "cell_type": "code",
   "execution_count": 192,
   "metadata": {},
   "outputs": [],
   "source": [
    "# TODO: find a way to pass different tokens and different configs\n",
    "FORGE_SESSIONS = {}\n",
    "for data_bucket, emb_buckets in DATA_BUCKETS.items():\n",
    "    if k not in FORGE_SESSIONS:\n",
    "        FORGE_SESSIONS[data_bucket] = create_forge_session(data_bucket)\n",
    "    for bucket in emb_buckets:\n",
    "        if bucket not in FORGE_SESSIONS:\n",
    "            FORGE_SESSIONS[bucket] = create_forge_session(bucket)"
   ]
  },
  {
   "cell_type": "markdown",
   "metadata": {},
   "source": [
    "---"
   ]
  },
  {
   "cell_type": "markdown",
   "metadata": {},
   "source": [
    "## Fetch resources from data buckets"
   ]
  },
  {
   "cell_type": "code",
   "execution_count": 193,
   "metadata": {},
   "outputs": [],
   "source": [
    "resource_set = {}\n",
    "for bucket_config in DATA_BUCKETS.keys():\n",
    "    if bucket_config not in resource_set:\n",
    "#         !!! CURRENTLY SEARCH DOES NOT WORK, WHEN TOO MANY RESOURCES\n",
    "#\n",
    "#         resources = DATA_SESSIONS[\n",
    "#             (bucket.data_endpoint, bucket.data_org, bucket.data_proj)].search(\n",
    "#                 {\"type\": DATA_TYPE_FILTER}, limit=None)\n",
    "        forge = FORGE_SESSIONS[bucket_config]\n",
    "        query = f\"\"\"\n",
    "            SELECT ?id\n",
    "            WHERE {{\n",
    "                ?id a {DATA_TYPE_FILTER} ;\n",
    "                    <https://bluebrain.github.io/nexus/vocabulary/deprecated> false .\n",
    "            }}\n",
    "        \"\"\" \n",
    "        resources = forge.sparql(query, limit=HARD_RESOURCE_LIMIT)\n",
    "        resources = [forge.retrieve(r.id) for r in resources] \n",
    "\n",
    "        resource_set[bucket_config] = resources"
   ]
  },
  {
   "cell_type": "code",
   "execution_count": 194,
   "metadata": {},
   "outputs": [
    {
     "name": "stdout",
     "output_type": "stream",
     "text": [
      "Bucket:  BucketConfiguration(endpoint='https://bbp.epfl.ch/nexus/v1', org='bbp-external', proj='seu')\n",
      "\t 298 resources\n",
      "\n"
     ]
    }
   ],
   "source": [
    "for k, v in resource_set.items():\n",
    "    print(\"Bucket: \", k)\n",
    "    print(\"\\t\", len(v), \"resources\")\n",
    "    print()"
   ]
  },
  {
   "cell_type": "markdown",
   "metadata": {},
   "source": [
    "## Load the embedding model"
   ]
  },
  {
   "cell_type": "code",
   "execution_count": 195,
   "metadata": {},
   "outputs": [],
   "source": [
    "model_resource = forge_models.retrieve(\n",
    "    f\"{MODEL_ID}{'?rev=' + str(MODEL_REVISION) if MODEL_REVISION is not None else ''}\")\n",
    "\n",
    "# If revision is not provided by the user, fetch the latest\n",
    "if MODEL_REVISION is None:\n",
    "    MODEL_REVISION = model_resource._store_metadata._rev \n",
    "\n",
    "MODEL_TAG = f\"{MODEL_ID.split('/')[-1]}?rev={MODEL_REVISION}\""
   ]
  },
  {
   "cell_type": "code",
   "execution_count": 196,
   "metadata": {},
   "outputs": [
    {
     "data": {
      "text/plain": [
       "'14d61701-c4fa-44ea-8139-0e0ed606b4ec?rev=10'"
      ]
     },
     "execution_count": 196,
     "metadata": {},
     "output_type": "execute_result"
    }
   ],
   "source": [
    "MODEL_TAG"
   ]
  },
  {
   "cell_type": "code",
   "execution_count": 197,
   "metadata": {},
   "outputs": [],
   "source": [
    "forge_models.download(model_resource, \"distribution.contentUrl\", DOWNLOAD_DIR, overwrite=True)\n",
    "pipeline_path = os.path.join(DOWNLOAD_DIR, model_resource.distribution.name)"
   ]
  },
  {
   "cell_type": "code",
   "execution_count": 198,
   "metadata": {},
   "outputs": [],
   "source": [
    "pipeline = EmbeddingPipeline.load(\n",
    "    pipeline_path,\n",
    "    embedder_interface=GraphElementEmbedder,\n",
    "    embedder_ext=\"zip\")"
   ]
  },
  {
   "cell_type": "code",
   "execution_count": 199,
   "metadata": {},
   "outputs": [],
   "source": [
    "embedding_table = pipeline.generate_embedding_table()"
   ]
  },
  {
   "cell_type": "markdown",
   "metadata": {},
   "source": [
    "## Compute embedding vectors for all the resources and push to Nexus"
   ]
  },
  {
   "cell_type": "markdown",
   "metadata": {},
   "source": [
    "- TODO: add the NeuronMorphology revision once available\n",
    "- TODO: add prediction of previously unseen points (currently, only the in-sample points are considered)"
   ]
  },
  {
   "cell_type": "code",
   "execution_count": 200,
   "metadata": {},
   "outputs": [
    {
     "name": "stderr",
     "output_type": "stream",
     "text": [
      "/Users/oshurko/opt/anaconda3/envs/bg/lib/python3.7/site-packages/ipykernel_launcher.py:10: UserWarning: Embedding vector for 'https://bbp.epfl.ch/neurosciencegraph/data/neuronmorphologies/030bcde5-d820-45ed-afe3-cbef58641695' in 'BucketConfiguration(endpoint='https://bbp.epfl.ch/nexus/v1', org='bbp-external', proj='seu')' was not computed\n",
      "  # Remove the CWD from sys.path while we load stuff.\n",
      "/Users/oshurko/opt/anaconda3/envs/bg/lib/python3.7/site-packages/ipykernel_launcher.py:10: UserWarning: Embedding vector for 'https://bbp.epfl.ch/neurosciencegraph/data/neuronmorphologies/de656d09-fe92-44c7-aea1-52a244a5e761' in 'BucketConfiguration(endpoint='https://bbp.epfl.ch/nexus/v1', org='bbp-external', proj='seu')' was not computed\n",
      "  # Remove the CWD from sys.path while we load stuff.\n",
      "/Users/oshurko/opt/anaconda3/envs/bg/lib/python3.7/site-packages/ipykernel_launcher.py:10: UserWarning: Embedding vector for 'https://bbp.epfl.ch/neurosciencegraph/data/neuronmorphologies/9a8e33e1-462a-44af-b7dd-5df89c09d47f' in 'BucketConfiguration(endpoint='https://bbp.epfl.ch/nexus/v1', org='bbp-external', proj='seu')' was not computed\n",
      "  # Remove the CWD from sys.path while we load stuff.\n",
      "/Users/oshurko/opt/anaconda3/envs/bg/lib/python3.7/site-packages/ipykernel_launcher.py:10: UserWarning: Embedding vector for 'https://bbp.epfl.ch/neurosciencegraph/data/neuronmorphologies/dba3ef4c-7e23-4f1f-a383-9e2f3e1a8ca7' in 'BucketConfiguration(endpoint='https://bbp.epfl.ch/nexus/v1', org='bbp-external', proj='seu')' was not computed\n",
      "  # Remove the CWD from sys.path while we load stuff.\n",
      "/Users/oshurko/opt/anaconda3/envs/bg/lib/python3.7/site-packages/ipykernel_launcher.py:10: UserWarning: Embedding vector for 'https://bbp.epfl.ch/neurosciencegraph/data/neuronmorphologies/4168c26b-425b-49d2-ba3d-cdb00946e28c' in 'BucketConfiguration(endpoint='https://bbp.epfl.ch/nexus/v1', org='bbp-external', proj='seu')' was not computed\n",
      "  # Remove the CWD from sys.path while we load stuff.\n",
      "/Users/oshurko/opt/anaconda3/envs/bg/lib/python3.7/site-packages/ipykernel_launcher.py:10: UserWarning: Embedding vector for 'https://bbp.epfl.ch/neurosciencegraph/data/neuronmorphologies/0f57d798-e727-4057-a37f-8e5879a9e716' in 'BucketConfiguration(endpoint='https://bbp.epfl.ch/nexus/v1', org='bbp-external', proj='seu')' was not computed\n",
      "  # Remove the CWD from sys.path while we load stuff.\n",
      "/Users/oshurko/opt/anaconda3/envs/bg/lib/python3.7/site-packages/ipykernel_launcher.py:10: UserWarning: Embedding vector for 'https://bbp.epfl.ch/neurosciencegraph/data/neuronmorphologies/43b036e9-111e-4b31-bee1-6345a781b19b' in 'BucketConfiguration(endpoint='https://bbp.epfl.ch/nexus/v1', org='bbp-external', proj='seu')' was not computed\n",
      "  # Remove the CWD from sys.path while we load stuff.\n",
      "/Users/oshurko/opt/anaconda3/envs/bg/lib/python3.7/site-packages/ipykernel_launcher.py:10: UserWarning: Embedding vector for 'https://bbp.epfl.ch/neurosciencegraph/data/neuronmorphologies/616c236c-c486-48ed-9a6c-79e7727be572' in 'BucketConfiguration(endpoint='https://bbp.epfl.ch/nexus/v1', org='bbp-external', proj='seu')' was not computed\n",
      "  # Remove the CWD from sys.path while we load stuff.\n",
      "/Users/oshurko/opt/anaconda3/envs/bg/lib/python3.7/site-packages/ipykernel_launcher.py:10: UserWarning: Embedding vector for 'https://bbp.epfl.ch/neurosciencegraph/data/neuronmorphologies/b6e85ac8-2dd2-44d0-aa39-5413ffa270c2' in 'BucketConfiguration(endpoint='https://bbp.epfl.ch/nexus/v1', org='bbp-external', proj='seu')' was not computed\n",
      "  # Remove the CWD from sys.path while we load stuff.\n",
      "/Users/oshurko/opt/anaconda3/envs/bg/lib/python3.7/site-packages/ipykernel_launcher.py:10: UserWarning: Embedding vector for 'https://bbp.epfl.ch/neurosciencegraph/data/neuronmorphologies/972f8cd8-4551-4c73-aec6-6095e2617b5f' in 'BucketConfiguration(endpoint='https://bbp.epfl.ch/nexus/v1', org='bbp-external', proj='seu')' was not computed\n",
      "  # Remove the CWD from sys.path while we load stuff.\n",
      "/Users/oshurko/opt/anaconda3/envs/bg/lib/python3.7/site-packages/ipykernel_launcher.py:10: UserWarning: Embedding vector for 'https://bbp.epfl.ch/neurosciencegraph/data/neuronmorphologies/c3ab69d9-b1ad-4740-8ab5-c0d32e9876a5' in 'BucketConfiguration(endpoint='https://bbp.epfl.ch/nexus/v1', org='bbp-external', proj='seu')' was not computed\n",
      "  # Remove the CWD from sys.path while we load stuff.\n",
      "/Users/oshurko/opt/anaconda3/envs/bg/lib/python3.7/site-packages/ipykernel_launcher.py:10: UserWarning: Embedding vector for 'https://bbp.epfl.ch/neurosciencegraph/data/neuronmorphologies/790135dd-d3b4-41bc-ad9a-733ff40c193b' in 'BucketConfiguration(endpoint='https://bbp.epfl.ch/nexus/v1', org='bbp-external', proj='seu')' was not computed\n",
      "  # Remove the CWD from sys.path while we load stuff.\n",
      "/Users/oshurko/opt/anaconda3/envs/bg/lib/python3.7/site-packages/ipykernel_launcher.py:10: UserWarning: Embedding vector for 'https://bbp.epfl.ch/neurosciencegraph/data/neuronmorphologies/fbea3663-d1eb-4296-b80f-f03393d8521b' in 'BucketConfiguration(endpoint='https://bbp.epfl.ch/nexus/v1', org='bbp-external', proj='seu')' was not computed\n",
      "  # Remove the CWD from sys.path while we load stuff.\n",
      "/Users/oshurko/opt/anaconda3/envs/bg/lib/python3.7/site-packages/ipykernel_launcher.py:10: UserWarning: Embedding vector for 'https://bbp.epfl.ch/neurosciencegraph/data/neuronmorphologies/42ee8e41-1ef8-4ca8-b19d-040816d38dcf' in 'BucketConfiguration(endpoint='https://bbp.epfl.ch/nexus/v1', org='bbp-external', proj='seu')' was not computed\n",
      "  # Remove the CWD from sys.path while we load stuff.\n",
      "/Users/oshurko/opt/anaconda3/envs/bg/lib/python3.7/site-packages/ipykernel_launcher.py:10: UserWarning: Embedding vector for 'https://bbp.epfl.ch/neurosciencegraph/data/neuronmorphologies/aa0fbcff-8edd-4074-8e7e-1a59ffb011e5' in 'BucketConfiguration(endpoint='https://bbp.epfl.ch/nexus/v1', org='bbp-external', proj='seu')' was not computed\n",
      "  # Remove the CWD from sys.path while we load stuff.\n",
      "/Users/oshurko/opt/anaconda3/envs/bg/lib/python3.7/site-packages/ipykernel_launcher.py:10: UserWarning: Embedding vector for 'https://bbp.epfl.ch/neurosciencegraph/data/neuronmorphologies/9e9e81e3-dc62-430d-9860-6b852c911247' in 'BucketConfiguration(endpoint='https://bbp.epfl.ch/nexus/v1', org='bbp-external', proj='seu')' was not computed\n",
      "  # Remove the CWD from sys.path while we load stuff.\n",
      "/Users/oshurko/opt/anaconda3/envs/bg/lib/python3.7/site-packages/ipykernel_launcher.py:10: UserWarning: Embedding vector for 'https://bbp.epfl.ch/neurosciencegraph/data/neuronmorphologies/ed60dea4-c8b6-4efb-b1b0-f607976229ae' in 'BucketConfiguration(endpoint='https://bbp.epfl.ch/nexus/v1', org='bbp-external', proj='seu')' was not computed\n",
      "  # Remove the CWD from sys.path while we load stuff.\n",
      "/Users/oshurko/opt/anaconda3/envs/bg/lib/python3.7/site-packages/ipykernel_launcher.py:10: UserWarning: Embedding vector for 'https://bbp.epfl.ch/neurosciencegraph/data/neuronmorphologies/e6293807-8839-4910-8296-4283ec390cb1' in 'BucketConfiguration(endpoint='https://bbp.epfl.ch/nexus/v1', org='bbp-external', proj='seu')' was not computed\n",
      "  # Remove the CWD from sys.path while we load stuff.\n",
      "/Users/oshurko/opt/anaconda3/envs/bg/lib/python3.7/site-packages/ipykernel_launcher.py:10: UserWarning: Embedding vector for 'https://bbp.epfl.ch/neurosciencegraph/data/neuronmorphologies/ca85db9c-07e8-4b07-b391-355cbef0799b' in 'BucketConfiguration(endpoint='https://bbp.epfl.ch/nexus/v1', org='bbp-external', proj='seu')' was not computed\n",
      "  # Remove the CWD from sys.path while we load stuff.\n",
      "/Users/oshurko/opt/anaconda3/envs/bg/lib/python3.7/site-packages/ipykernel_launcher.py:10: UserWarning: Embedding vector for 'https://bbp.epfl.ch/neurosciencegraph/data/neuronmorphologies/1539afc1-afe0-4e5b-be99-edfc834954c8' in 'BucketConfiguration(endpoint='https://bbp.epfl.ch/nexus/v1', org='bbp-external', proj='seu')' was not computed\n",
      "  # Remove the CWD from sys.path while we load stuff.\n",
      "/Users/oshurko/opt/anaconda3/envs/bg/lib/python3.7/site-packages/ipykernel_launcher.py:10: UserWarning: Embedding vector for 'https://bbp.epfl.ch/neurosciencegraph/data/neuronmorphologies/3fcb257d-6629-4375-98be-f1f743acba48' in 'BucketConfiguration(endpoint='https://bbp.epfl.ch/nexus/v1', org='bbp-external', proj='seu')' was not computed\n",
      "  # Remove the CWD from sys.path while we load stuff.\n",
      "/Users/oshurko/opt/anaconda3/envs/bg/lib/python3.7/site-packages/ipykernel_launcher.py:10: UserWarning: Embedding vector for 'https://bbp.epfl.ch/neurosciencegraph/data/neuronmorphologies/339602ce-8b39-4845-b0e1-7707819fd0c8' in 'BucketConfiguration(endpoint='https://bbp.epfl.ch/nexus/v1', org='bbp-external', proj='seu')' was not computed\n",
      "  # Remove the CWD from sys.path while we load stuff.\n",
      "/Users/oshurko/opt/anaconda3/envs/bg/lib/python3.7/site-packages/ipykernel_launcher.py:10: UserWarning: Embedding vector for 'https://bbp.epfl.ch/neurosciencegraph/data/neuronmorphologies/98bd5715-97e0-4bb7-b319-c53d059afc7f' in 'BucketConfiguration(endpoint='https://bbp.epfl.ch/nexus/v1', org='bbp-external', proj='seu')' was not computed\n",
      "  # Remove the CWD from sys.path while we load stuff.\n",
      "/Users/oshurko/opt/anaconda3/envs/bg/lib/python3.7/site-packages/ipykernel_launcher.py:10: UserWarning: Embedding vector for 'https://bbp.epfl.ch/neurosciencegraph/data/neuronmorphologies/2d1201f9-c6ea-4015-9b53-07a89835ca9d' in 'BucketConfiguration(endpoint='https://bbp.epfl.ch/nexus/v1', org='bbp-external', proj='seu')' was not computed\n",
      "  # Remove the CWD from sys.path while we load stuff.\n",
      "/Users/oshurko/opt/anaconda3/envs/bg/lib/python3.7/site-packages/ipykernel_launcher.py:10: UserWarning: Embedding vector for 'https://bbp.epfl.ch/neurosciencegraph/data/neuronmorphologies/2b53fa9e-7f5d-448d-a49f-971fe76c8236' in 'BucketConfiguration(endpoint='https://bbp.epfl.ch/nexus/v1', org='bbp-external', proj='seu')' was not computed\n",
      "  # Remove the CWD from sys.path while we load stuff.\n",
      "/Users/oshurko/opt/anaconda3/envs/bg/lib/python3.7/site-packages/ipykernel_launcher.py:10: UserWarning: Embedding vector for 'https://bbp.epfl.ch/neurosciencegraph/data/neuronmorphologies/3583f29b-746b-4e10-9957-9828150d2ad2' in 'BucketConfiguration(endpoint='https://bbp.epfl.ch/nexus/v1', org='bbp-external', proj='seu')' was not computed\n",
      "  # Remove the CWD from sys.path while we load stuff.\n",
      "/Users/oshurko/opt/anaconda3/envs/bg/lib/python3.7/site-packages/ipykernel_launcher.py:10: UserWarning: Embedding vector for 'https://bbp.epfl.ch/neurosciencegraph/data/neuronmorphologies/07f7b855-018a-4eb9-84cc-0dede718dc44' in 'BucketConfiguration(endpoint='https://bbp.epfl.ch/nexus/v1', org='bbp-external', proj='seu')' was not computed\n",
      "  # Remove the CWD from sys.path while we load stuff.\n",
      "/Users/oshurko/opt/anaconda3/envs/bg/lib/python3.7/site-packages/ipykernel_launcher.py:10: UserWarning: Embedding vector for 'https://bbp.epfl.ch/neurosciencegraph/data/neuronmorphologies/147c5ad7-9b30-4150-9e8a-94cd19d18cc4' in 'BucketConfiguration(endpoint='https://bbp.epfl.ch/nexus/v1', org='bbp-external', proj='seu')' was not computed\n",
      "  # Remove the CWD from sys.path while we load stuff.\n",
      "/Users/oshurko/opt/anaconda3/envs/bg/lib/python3.7/site-packages/ipykernel_launcher.py:10: UserWarning: Embedding vector for 'https://bbp.epfl.ch/neurosciencegraph/data/neuronmorphologies/a9b90132-d0a3-4f2c-bdde-b7564f8adb3a' in 'BucketConfiguration(endpoint='https://bbp.epfl.ch/nexus/v1', org='bbp-external', proj='seu')' was not computed\n",
      "  # Remove the CWD from sys.path while we load stuff.\n",
      "/Users/oshurko/opt/anaconda3/envs/bg/lib/python3.7/site-packages/ipykernel_launcher.py:10: UserWarning: Embedding vector for 'https://bbp.epfl.ch/neurosciencegraph/data/neuronmorphologies/f3a05a45-19b9-4a75-905f-d5ab3e4582f1' in 'BucketConfiguration(endpoint='https://bbp.epfl.ch/nexus/v1', org='bbp-external', proj='seu')' was not computed\n",
      "  # Remove the CWD from sys.path while we load stuff.\n",
      "/Users/oshurko/opt/anaconda3/envs/bg/lib/python3.7/site-packages/ipykernel_launcher.py:10: UserWarning: Embedding vector for 'https://bbp.epfl.ch/neurosciencegraph/data/neuronmorphologies/eccf88bd-6da5-40ee-8953-7a94a5ad1e4d' in 'BucketConfiguration(endpoint='https://bbp.epfl.ch/nexus/v1', org='bbp-external', proj='seu')' was not computed\n",
      "  # Remove the CWD from sys.path while we load stuff.\n",
      "/Users/oshurko/opt/anaconda3/envs/bg/lib/python3.7/site-packages/ipykernel_launcher.py:10: UserWarning: Embedding vector for 'https://bbp.epfl.ch/neurosciencegraph/data/neuronmorphologies/f0ce2ef1-efd6-49b4-abc6-84fb4f1f6637' in 'BucketConfiguration(endpoint='https://bbp.epfl.ch/nexus/v1', org='bbp-external', proj='seu')' was not computed\n",
      "  # Remove the CWD from sys.path while we load stuff.\n",
      "/Users/oshurko/opt/anaconda3/envs/bg/lib/python3.7/site-packages/ipykernel_launcher.py:10: UserWarning: Embedding vector for 'https://bbp.epfl.ch/neurosciencegraph/data/neuronmorphologies/5d0217f3-2b86-473c-864b-f02e86440b55' in 'BucketConfiguration(endpoint='https://bbp.epfl.ch/nexus/v1', org='bbp-external', proj='seu')' was not computed\n",
      "  # Remove the CWD from sys.path while we load stuff.\n",
      "/Users/oshurko/opt/anaconda3/envs/bg/lib/python3.7/site-packages/ipykernel_launcher.py:10: UserWarning: Embedding vector for 'https://bbp.epfl.ch/neurosciencegraph/data/neuronmorphologies/c572604c-b75c-44eb-9773-56095a056ef2' in 'BucketConfiguration(endpoint='https://bbp.epfl.ch/nexus/v1', org='bbp-external', proj='seu')' was not computed\n",
      "  # Remove the CWD from sys.path while we load stuff.\n",
      "/Users/oshurko/opt/anaconda3/envs/bg/lib/python3.7/site-packages/ipykernel_launcher.py:10: UserWarning: Embedding vector for 'https://bbp.epfl.ch/neurosciencegraph/data/neuronmorphologies/50f6e7c6-d0d4-4df5-b4de-d3553dd49cea' in 'BucketConfiguration(endpoint='https://bbp.epfl.ch/nexus/v1', org='bbp-external', proj='seu')' was not computed\n",
      "  # Remove the CWD from sys.path while we load stuff.\n",
      "/Users/oshurko/opt/anaconda3/envs/bg/lib/python3.7/site-packages/ipykernel_launcher.py:10: UserWarning: Embedding vector for 'https://bbp.epfl.ch/neurosciencegraph/data/neuronmorphologies/d2cc0e77-753d-43ab-a6b8-5ee8a1347420' in 'BucketConfiguration(endpoint='https://bbp.epfl.ch/nexus/v1', org='bbp-external', proj='seu')' was not computed\n",
      "  # Remove the CWD from sys.path while we load stuff.\n",
      "/Users/oshurko/opt/anaconda3/envs/bg/lib/python3.7/site-packages/ipykernel_launcher.py:10: UserWarning: Embedding vector for 'https://bbp.epfl.ch/neurosciencegraph/data/neuronmorphologies/0e301ff6-e767-4675-9832-6340db03e3ae' in 'BucketConfiguration(endpoint='https://bbp.epfl.ch/nexus/v1', org='bbp-external', proj='seu')' was not computed\n",
      "  # Remove the CWD from sys.path while we load stuff.\n",
      "/Users/oshurko/opt/anaconda3/envs/bg/lib/python3.7/site-packages/ipykernel_launcher.py:10: UserWarning: Embedding vector for 'https://bbp.epfl.ch/neurosciencegraph/data/neuronmorphologies/ef583c97-4e16-4a64-a7c8-f502c7321274' in 'BucketConfiguration(endpoint='https://bbp.epfl.ch/nexus/v1', org='bbp-external', proj='seu')' was not computed\n",
      "  # Remove the CWD from sys.path while we load stuff.\n",
      "/Users/oshurko/opt/anaconda3/envs/bg/lib/python3.7/site-packages/ipykernel_launcher.py:10: UserWarning: Embedding vector for 'https://bbp.epfl.ch/neurosciencegraph/data/neuronmorphologies/01201ebe-2de5-4eed-96bf-899bb30f55b2' in 'BucketConfiguration(endpoint='https://bbp.epfl.ch/nexus/v1', org='bbp-external', proj='seu')' was not computed\n",
      "  # Remove the CWD from sys.path while we load stuff.\n",
      "/Users/oshurko/opt/anaconda3/envs/bg/lib/python3.7/site-packages/ipykernel_launcher.py:10: UserWarning: Embedding vector for 'https://bbp.epfl.ch/neurosciencegraph/data/neuronmorphologies/b802190e-53a7-4ade-be79-d7bbd2ce4895' in 'BucketConfiguration(endpoint='https://bbp.epfl.ch/nexus/v1', org='bbp-external', proj='seu')' was not computed\n",
      "  # Remove the CWD from sys.path while we load stuff.\n",
      "/Users/oshurko/opt/anaconda3/envs/bg/lib/python3.7/site-packages/ipykernel_launcher.py:10: UserWarning: Embedding vector for 'https://bbp.epfl.ch/neurosciencegraph/data/neuronmorphologies/a104c3ce-c40d-4543-b043-014a6c8d5afc' in 'BucketConfiguration(endpoint='https://bbp.epfl.ch/nexus/v1', org='bbp-external', proj='seu')' was not computed\n",
      "  # Remove the CWD from sys.path while we load stuff.\n",
      "/Users/oshurko/opt/anaconda3/envs/bg/lib/python3.7/site-packages/ipykernel_launcher.py:10: UserWarning: Embedding vector for 'https://bbp.epfl.ch/neurosciencegraph/data/neuronmorphologies/890e8831-9a22-4857-a0dd-30050b0e2500' in 'BucketConfiguration(endpoint='https://bbp.epfl.ch/nexus/v1', org='bbp-external', proj='seu')' was not computed\n",
      "  # Remove the CWD from sys.path while we load stuff.\n",
      "/Users/oshurko/opt/anaconda3/envs/bg/lib/python3.7/site-packages/ipykernel_launcher.py:10: UserWarning: Embedding vector for 'https://bbp.epfl.ch/neurosciencegraph/data/neuronmorphologies/1b74a9a4-7238-4fa7-a966-aaba63b7bd52' in 'BucketConfiguration(endpoint='https://bbp.epfl.ch/nexus/v1', org='bbp-external', proj='seu')' was not computed\n",
      "  # Remove the CWD from sys.path while we load stuff.\n",
      "/Users/oshurko/opt/anaconda3/envs/bg/lib/python3.7/site-packages/ipykernel_launcher.py:10: UserWarning: Embedding vector for 'https://bbp.epfl.ch/neurosciencegraph/data/neuronmorphologies/4fa84585-3faa-4e16-8d5e-31e9aa206dd0' in 'BucketConfiguration(endpoint='https://bbp.epfl.ch/nexus/v1', org='bbp-external', proj='seu')' was not computed\n",
      "  # Remove the CWD from sys.path while we load stuff.\n",
      "/Users/oshurko/opt/anaconda3/envs/bg/lib/python3.7/site-packages/ipykernel_launcher.py:10: UserWarning: Embedding vector for 'https://bbp.epfl.ch/neurosciencegraph/data/neuronmorphologies/2704ce05-0f16-4c78-bf79-9f1061165752' in 'BucketConfiguration(endpoint='https://bbp.epfl.ch/nexus/v1', org='bbp-external', proj='seu')' was not computed\n",
      "  # Remove the CWD from sys.path while we load stuff.\n",
      "/Users/oshurko/opt/anaconda3/envs/bg/lib/python3.7/site-packages/ipykernel_launcher.py:10: UserWarning: Embedding vector for 'https://bbp.epfl.ch/neurosciencegraph/data/neuronmorphologies/c8b15d09-627c-47f1-b5c6-ef24bece8c61' in 'BucketConfiguration(endpoint='https://bbp.epfl.ch/nexus/v1', org='bbp-external', proj='seu')' was not computed\n",
      "  # Remove the CWD from sys.path while we load stuff.\n",
      "/Users/oshurko/opt/anaconda3/envs/bg/lib/python3.7/site-packages/ipykernel_launcher.py:10: UserWarning: Embedding vector for 'https://bbp.epfl.ch/neurosciencegraph/data/neuronmorphologies/314af2fc-e439-4bb2-abce-843d6346a458' in 'BucketConfiguration(endpoint='https://bbp.epfl.ch/nexus/v1', org='bbp-external', proj='seu')' was not computed\n",
      "  # Remove the CWD from sys.path while we load stuff.\n",
      "/Users/oshurko/opt/anaconda3/envs/bg/lib/python3.7/site-packages/ipykernel_launcher.py:10: UserWarning: Embedding vector for 'https://bbp.epfl.ch/neurosciencegraph/data/neuronmorphologies/259f4c1c-f581-4f62-8d34-ef3a0f7c0e93' in 'BucketConfiguration(endpoint='https://bbp.epfl.ch/nexus/v1', org='bbp-external', proj='seu')' was not computed\n",
      "  # Remove the CWD from sys.path while we load stuff.\n",
      "/Users/oshurko/opt/anaconda3/envs/bg/lib/python3.7/site-packages/ipykernel_launcher.py:10: UserWarning: Embedding vector for 'https://bbp.epfl.ch/neurosciencegraph/data/neuronmorphologies/e62c8898-a714-406b-a2ad-165a73ef45cf' in 'BucketConfiguration(endpoint='https://bbp.epfl.ch/nexus/v1', org='bbp-external', proj='seu')' was not computed\n",
      "  # Remove the CWD from sys.path while we load stuff.\n",
      "/Users/oshurko/opt/anaconda3/envs/bg/lib/python3.7/site-packages/ipykernel_launcher.py:10: UserWarning: Embedding vector for 'https://bbp.epfl.ch/neurosciencegraph/data/neuronmorphologies/24e5be75-50a5-4c6f-aa15-e83569c8270c' in 'BucketConfiguration(endpoint='https://bbp.epfl.ch/nexus/v1', org='bbp-external', proj='seu')' was not computed\n",
      "  # Remove the CWD from sys.path while we load stuff.\n",
      "/Users/oshurko/opt/anaconda3/envs/bg/lib/python3.7/site-packages/ipykernel_launcher.py:10: UserWarning: Embedding vector for 'https://bbp.epfl.ch/neurosciencegraph/data/neuronmorphologies/be19d2b9-a02c-45fa-8ff1-a15546e159de' in 'BucketConfiguration(endpoint='https://bbp.epfl.ch/nexus/v1', org='bbp-external', proj='seu')' was not computed\n",
      "  # Remove the CWD from sys.path while we load stuff.\n",
      "/Users/oshurko/opt/anaconda3/envs/bg/lib/python3.7/site-packages/ipykernel_launcher.py:10: UserWarning: Embedding vector for 'https://bbp.epfl.ch/neurosciencegraph/data/neuronmorphologies/5a1e760e-1756-4145-9efb-4fad41477c5d' in 'BucketConfiguration(endpoint='https://bbp.epfl.ch/nexus/v1', org='bbp-external', proj='seu')' was not computed\n",
      "  # Remove the CWD from sys.path while we load stuff.\n",
      "/Users/oshurko/opt/anaconda3/envs/bg/lib/python3.7/site-packages/ipykernel_launcher.py:10: UserWarning: Embedding vector for 'https://bbp.epfl.ch/neurosciencegraph/data/neuronmorphologies/b2f65908-d588-4e6f-800d-7cb55481fa98' in 'BucketConfiguration(endpoint='https://bbp.epfl.ch/nexus/v1', org='bbp-external', proj='seu')' was not computed\n",
      "  # Remove the CWD from sys.path while we load stuff.\n",
      "/Users/oshurko/opt/anaconda3/envs/bg/lib/python3.7/site-packages/ipykernel_launcher.py:10: UserWarning: Embedding vector for 'https://bbp.epfl.ch/neurosciencegraph/data/neuronmorphologies/8b2abe4c-190f-4595-9b1d-15256ca877f6' in 'BucketConfiguration(endpoint='https://bbp.epfl.ch/nexus/v1', org='bbp-external', proj='seu')' was not computed\n",
      "  # Remove the CWD from sys.path while we load stuff.\n",
      "/Users/oshurko/opt/anaconda3/envs/bg/lib/python3.7/site-packages/ipykernel_launcher.py:10: UserWarning: Embedding vector for 'https://bbp.epfl.ch/neurosciencegraph/data/neuronmorphologies/0739d5ad-0107-45c5-8831-f6f7b9d98340' in 'BucketConfiguration(endpoint='https://bbp.epfl.ch/nexus/v1', org='bbp-external', proj='seu')' was not computed\n",
      "  # Remove the CWD from sys.path while we load stuff.\n",
      "/Users/oshurko/opt/anaconda3/envs/bg/lib/python3.7/site-packages/ipykernel_launcher.py:10: UserWarning: Embedding vector for 'https://bbp.epfl.ch/neurosciencegraph/data/neuronmorphologies/6b9f259c-fbd0-4c01-bf24-8141b84d6c06' in 'BucketConfiguration(endpoint='https://bbp.epfl.ch/nexus/v1', org='bbp-external', proj='seu')' was not computed\n",
      "  # Remove the CWD from sys.path while we load stuff.\n",
      "/Users/oshurko/opt/anaconda3/envs/bg/lib/python3.7/site-packages/ipykernel_launcher.py:10: UserWarning: Embedding vector for 'https://bbp.epfl.ch/neurosciencegraph/data/neuronmorphologies/0d23337f-6b95-4347-97df-8824901607fe' in 'BucketConfiguration(endpoint='https://bbp.epfl.ch/nexus/v1', org='bbp-external', proj='seu')' was not computed\n",
      "  # Remove the CWD from sys.path while we load stuff.\n",
      "/Users/oshurko/opt/anaconda3/envs/bg/lib/python3.7/site-packages/ipykernel_launcher.py:10: UserWarning: Embedding vector for 'https://bbp.epfl.ch/neurosciencegraph/data/neuronmorphologies/48edb208-acca-457e-b365-6a5f86f14fa7' in 'BucketConfiguration(endpoint='https://bbp.epfl.ch/nexus/v1', org='bbp-external', proj='seu')' was not computed\n",
      "  # Remove the CWD from sys.path while we load stuff.\n",
      "/Users/oshurko/opt/anaconda3/envs/bg/lib/python3.7/site-packages/ipykernel_launcher.py:10: UserWarning: Embedding vector for 'https://bbp.epfl.ch/neurosciencegraph/data/neuronmorphologies/5cace321-5bb9-45d2-9e20-f4d14b2e89cf' in 'BucketConfiguration(endpoint='https://bbp.epfl.ch/nexus/v1', org='bbp-external', proj='seu')' was not computed\n",
      "  # Remove the CWD from sys.path while we load stuff.\n",
      "/Users/oshurko/opt/anaconda3/envs/bg/lib/python3.7/site-packages/ipykernel_launcher.py:10: UserWarning: Embedding vector for 'https://bbp.epfl.ch/neurosciencegraph/data/neuronmorphologies/d0749cb7-bf05-42e2-ad72-615b84143a6f' in 'BucketConfiguration(endpoint='https://bbp.epfl.ch/nexus/v1', org='bbp-external', proj='seu')' was not computed\n",
      "  # Remove the CWD from sys.path while we load stuff.\n",
      "/Users/oshurko/opt/anaconda3/envs/bg/lib/python3.7/site-packages/ipykernel_launcher.py:10: UserWarning: Embedding vector for 'https://bbp.epfl.ch/neurosciencegraph/data/neuronmorphologies/6d042db0-ead8-4906-87d7-b66c8c3821bd' in 'BucketConfiguration(endpoint='https://bbp.epfl.ch/nexus/v1', org='bbp-external', proj='seu')' was not computed\n",
      "  # Remove the CWD from sys.path while we load stuff.\n",
      "/Users/oshurko/opt/anaconda3/envs/bg/lib/python3.7/site-packages/ipykernel_launcher.py:10: UserWarning: Embedding vector for 'https://bbp.epfl.ch/neurosciencegraph/data/neuronmorphologies/1f15963c-c9e2-4a34-b57c-bf7410f1120e' in 'BucketConfiguration(endpoint='https://bbp.epfl.ch/nexus/v1', org='bbp-external', proj='seu')' was not computed\n",
      "  # Remove the CWD from sys.path while we load stuff.\n",
      "/Users/oshurko/opt/anaconda3/envs/bg/lib/python3.7/site-packages/ipykernel_launcher.py:10: UserWarning: Embedding vector for 'https://bbp.epfl.ch/neurosciencegraph/data/neuronmorphologies/147482b5-4e0c-4156-87cd-e58133fe324a' in 'BucketConfiguration(endpoint='https://bbp.epfl.ch/nexus/v1', org='bbp-external', proj='seu')' was not computed\n",
      "  # Remove the CWD from sys.path while we load stuff.\n",
      "/Users/oshurko/opt/anaconda3/envs/bg/lib/python3.7/site-packages/ipykernel_launcher.py:10: UserWarning: Embedding vector for 'https://bbp.epfl.ch/neurosciencegraph/data/neuronmorphologies/63515b5c-7a51-4bc3-8ff8-e9f0061f58f3' in 'BucketConfiguration(endpoint='https://bbp.epfl.ch/nexus/v1', org='bbp-external', proj='seu')' was not computed\n",
      "  # Remove the CWD from sys.path while we load stuff.\n",
      "/Users/oshurko/opt/anaconda3/envs/bg/lib/python3.7/site-packages/ipykernel_launcher.py:10: UserWarning: Embedding vector for 'https://bbp.epfl.ch/neurosciencegraph/data/neuronmorphologies/2b0196e9-6dcb-4acd-bc84-53fa846c96c2' in 'BucketConfiguration(endpoint='https://bbp.epfl.ch/nexus/v1', org='bbp-external', proj='seu')' was not computed\n",
      "  # Remove the CWD from sys.path while we load stuff.\n",
      "/Users/oshurko/opt/anaconda3/envs/bg/lib/python3.7/site-packages/ipykernel_launcher.py:10: UserWarning: Embedding vector for 'https://bbp.epfl.ch/neurosciencegraph/data/neuronmorphologies/06ee8a05-ac2c-4ce2-a182-bca93d578aba' in 'BucketConfiguration(endpoint='https://bbp.epfl.ch/nexus/v1', org='bbp-external', proj='seu')' was not computed\n",
      "  # Remove the CWD from sys.path while we load stuff.\n",
      "/Users/oshurko/opt/anaconda3/envs/bg/lib/python3.7/site-packages/ipykernel_launcher.py:10: UserWarning: Embedding vector for 'https://bbp.epfl.ch/neurosciencegraph/data/neuronmorphologies/81ee361c-141c-4abd-8df6-acb7cb497d16' in 'BucketConfiguration(endpoint='https://bbp.epfl.ch/nexus/v1', org='bbp-external', proj='seu')' was not computed\n",
      "  # Remove the CWD from sys.path while we load stuff.\n",
      "/Users/oshurko/opt/anaconda3/envs/bg/lib/python3.7/site-packages/ipykernel_launcher.py:10: UserWarning: Embedding vector for 'https://bbp.epfl.ch/neurosciencegraph/data/neuronmorphologies/057f8149-945b-4d5f-a94f-afcd3ece75f5' in 'BucketConfiguration(endpoint='https://bbp.epfl.ch/nexus/v1', org='bbp-external', proj='seu')' was not computed\n",
      "  # Remove the CWD from sys.path while we load stuff.\n",
      "/Users/oshurko/opt/anaconda3/envs/bg/lib/python3.7/site-packages/ipykernel_launcher.py:10: UserWarning: Embedding vector for 'https://bbp.epfl.ch/neurosciencegraph/data/neuronmorphologies/18a0af91-b1ee-42d9-825b-d7e07f652fe7' in 'BucketConfiguration(endpoint='https://bbp.epfl.ch/nexus/v1', org='bbp-external', proj='seu')' was not computed\n",
      "  # Remove the CWD from sys.path while we load stuff.\n",
      "/Users/oshurko/opt/anaconda3/envs/bg/lib/python3.7/site-packages/ipykernel_launcher.py:10: UserWarning: Embedding vector for 'https://bbp.epfl.ch/neurosciencegraph/data/neuronmorphologies/2e5f4691-29af-4ea0-8425-cf107dc305fa' in 'BucketConfiguration(endpoint='https://bbp.epfl.ch/nexus/v1', org='bbp-external', proj='seu')' was not computed\n",
      "  # Remove the CWD from sys.path while we load stuff.\n",
      "/Users/oshurko/opt/anaconda3/envs/bg/lib/python3.7/site-packages/ipykernel_launcher.py:10: UserWarning: Embedding vector for 'https://bbp.epfl.ch/neurosciencegraph/data/neuronmorphologies/e0fece92-9970-458a-b100-d4af9aedb878' in 'BucketConfiguration(endpoint='https://bbp.epfl.ch/nexus/v1', org='bbp-external', proj='seu')' was not computed\n",
      "  # Remove the CWD from sys.path while we load stuff.\n",
      "/Users/oshurko/opt/anaconda3/envs/bg/lib/python3.7/site-packages/ipykernel_launcher.py:10: UserWarning: Embedding vector for 'https://bbp.epfl.ch/neurosciencegraph/data/neuronmorphologies/579e13af-2378-4bb3-b3d5-b15f8c052795' in 'BucketConfiguration(endpoint='https://bbp.epfl.ch/nexus/v1', org='bbp-external', proj='seu')' was not computed\n",
      "  # Remove the CWD from sys.path while we load stuff.\n",
      "/Users/oshurko/opt/anaconda3/envs/bg/lib/python3.7/site-packages/ipykernel_launcher.py:10: UserWarning: Embedding vector for 'https://bbp.epfl.ch/neurosciencegraph/data/neuronmorphologies/2dccd206-0444-4dde-90ea-81b597b48bc0' in 'BucketConfiguration(endpoint='https://bbp.epfl.ch/nexus/v1', org='bbp-external', proj='seu')' was not computed\n",
      "  # Remove the CWD from sys.path while we load stuff.\n",
      "/Users/oshurko/opt/anaconda3/envs/bg/lib/python3.7/site-packages/ipykernel_launcher.py:10: UserWarning: Embedding vector for 'https://bbp.epfl.ch/neurosciencegraph/data/neuronmorphologies/49748a00-b68e-48a3-a25e-1a853903d8b4' in 'BucketConfiguration(endpoint='https://bbp.epfl.ch/nexus/v1', org='bbp-external', proj='seu')' was not computed\n",
      "  # Remove the CWD from sys.path while we load stuff.\n",
      "/Users/oshurko/opt/anaconda3/envs/bg/lib/python3.7/site-packages/ipykernel_launcher.py:10: UserWarning: Embedding vector for 'https://bbp.epfl.ch/neurosciencegraph/data/neuronmorphologies/7e49009b-acf6-40db-9c84-b9082ffff1ab' in 'BucketConfiguration(endpoint='https://bbp.epfl.ch/nexus/v1', org='bbp-external', proj='seu')' was not computed\n",
      "  # Remove the CWD from sys.path while we load stuff.\n",
      "/Users/oshurko/opt/anaconda3/envs/bg/lib/python3.7/site-packages/ipykernel_launcher.py:10: UserWarning: Embedding vector for 'https://bbp.epfl.ch/neurosciencegraph/data/neuronmorphologies/b1c6ac31-212d-4dcf-a206-e5f579032920' in 'BucketConfiguration(endpoint='https://bbp.epfl.ch/nexus/v1', org='bbp-external', proj='seu')' was not computed\n",
      "  # Remove the CWD from sys.path while we load stuff.\n",
      "/Users/oshurko/opt/anaconda3/envs/bg/lib/python3.7/site-packages/ipykernel_launcher.py:10: UserWarning: Embedding vector for 'https://bbp.epfl.ch/neurosciencegraph/data/neuronmorphologies/03a0d9bc-25ff-4147-8638-dd7c86efd837' in 'BucketConfiguration(endpoint='https://bbp.epfl.ch/nexus/v1', org='bbp-external', proj='seu')' was not computed\n",
      "  # Remove the CWD from sys.path while we load stuff.\n",
      "/Users/oshurko/opt/anaconda3/envs/bg/lib/python3.7/site-packages/ipykernel_launcher.py:10: UserWarning: Embedding vector for 'https://bbp.epfl.ch/neurosciencegraph/data/neuronmorphologies/a86ed51a-43ec-4c09-953b-4dada65d8eb6' in 'BucketConfiguration(endpoint='https://bbp.epfl.ch/nexus/v1', org='bbp-external', proj='seu')' was not computed\n",
      "  # Remove the CWD from sys.path while we load stuff.\n",
      "/Users/oshurko/opt/anaconda3/envs/bg/lib/python3.7/site-packages/ipykernel_launcher.py:10: UserWarning: Embedding vector for 'https://bbp.epfl.ch/neurosciencegraph/data/neuronmorphologies/55cc655b-ad84-4008-917d-95a0642a8cf5' in 'BucketConfiguration(endpoint='https://bbp.epfl.ch/nexus/v1', org='bbp-external', proj='seu')' was not computed\n",
      "  # Remove the CWD from sys.path while we load stuff.\n",
      "/Users/oshurko/opt/anaconda3/envs/bg/lib/python3.7/site-packages/ipykernel_launcher.py:10: UserWarning: Embedding vector for 'https://bbp.epfl.ch/neurosciencegraph/data/neuronmorphologies/2271f802-3165-4880-8075-2152d5e95067' in 'BucketConfiguration(endpoint='https://bbp.epfl.ch/nexus/v1', org='bbp-external', proj='seu')' was not computed\n",
      "  # Remove the CWD from sys.path while we load stuff.\n",
      "/Users/oshurko/opt/anaconda3/envs/bg/lib/python3.7/site-packages/ipykernel_launcher.py:10: UserWarning: Embedding vector for 'https://bbp.epfl.ch/neurosciencegraph/data/neuronmorphologies/5898e770-ca50-47da-949f-d29738931f5d' in 'BucketConfiguration(endpoint='https://bbp.epfl.ch/nexus/v1', org='bbp-external', proj='seu')' was not computed\n",
      "  # Remove the CWD from sys.path while we load stuff.\n",
      "/Users/oshurko/opt/anaconda3/envs/bg/lib/python3.7/site-packages/ipykernel_launcher.py:10: UserWarning: Embedding vector for 'https://bbp.epfl.ch/neurosciencegraph/data/neuronmorphologies/58115b26-9524-409a-862c-a5af57472fec' in 'BucketConfiguration(endpoint='https://bbp.epfl.ch/nexus/v1', org='bbp-external', proj='seu')' was not computed\n",
      "  # Remove the CWD from sys.path while we load stuff.\n",
      "/Users/oshurko/opt/anaconda3/envs/bg/lib/python3.7/site-packages/ipykernel_launcher.py:10: UserWarning: Embedding vector for 'https://bbp.epfl.ch/neurosciencegraph/data/neuronmorphologies/4b738c91-c6f0-4976-88cd-4119277618f3' in 'BucketConfiguration(endpoint='https://bbp.epfl.ch/nexus/v1', org='bbp-external', proj='seu')' was not computed\n",
      "  # Remove the CWD from sys.path while we load stuff.\n",
      "/Users/oshurko/opt/anaconda3/envs/bg/lib/python3.7/site-packages/ipykernel_launcher.py:10: UserWarning: Embedding vector for 'https://bbp.epfl.ch/neurosciencegraph/data/neuronmorphologies/b567baee-125f-4dfc-bab5-2b93fc5e897f' in 'BucketConfiguration(endpoint='https://bbp.epfl.ch/nexus/v1', org='bbp-external', proj='seu')' was not computed\n",
      "  # Remove the CWD from sys.path while we load stuff.\n",
      "/Users/oshurko/opt/anaconda3/envs/bg/lib/python3.7/site-packages/ipykernel_launcher.py:10: UserWarning: Embedding vector for 'https://bbp.epfl.ch/neurosciencegraph/data/neuronmorphologies/1a0881ac-56b3-4429-b760-0ea611a5020e' in 'BucketConfiguration(endpoint='https://bbp.epfl.ch/nexus/v1', org='bbp-external', proj='seu')' was not computed\n",
      "  # Remove the CWD from sys.path while we load stuff.\n",
      "/Users/oshurko/opt/anaconda3/envs/bg/lib/python3.7/site-packages/ipykernel_launcher.py:10: UserWarning: Embedding vector for 'https://bbp.epfl.ch/neurosciencegraph/data/neuronmorphologies/c6bdf954-410f-4989-9255-01793fe5231e' in 'BucketConfiguration(endpoint='https://bbp.epfl.ch/nexus/v1', org='bbp-external', proj='seu')' was not computed\n",
      "  # Remove the CWD from sys.path while we load stuff.\n",
      "/Users/oshurko/opt/anaconda3/envs/bg/lib/python3.7/site-packages/ipykernel_launcher.py:10: UserWarning: Embedding vector for 'https://bbp.epfl.ch/neurosciencegraph/data/neuronmorphologies/c512fdd3-f1c0-4d37-b790-a1cb8f7a3ea2' in 'BucketConfiguration(endpoint='https://bbp.epfl.ch/nexus/v1', org='bbp-external', proj='seu')' was not computed\n",
      "  # Remove the CWD from sys.path while we load stuff.\n",
      "/Users/oshurko/opt/anaconda3/envs/bg/lib/python3.7/site-packages/ipykernel_launcher.py:10: UserWarning: Embedding vector for 'https://bbp.epfl.ch/neurosciencegraph/data/neuronmorphologies/84cba262-ccdc-4401-bee6-e9d5f9eec4b0' in 'BucketConfiguration(endpoint='https://bbp.epfl.ch/nexus/v1', org='bbp-external', proj='seu')' was not computed\n",
      "  # Remove the CWD from sys.path while we load stuff.\n",
      "/Users/oshurko/opt/anaconda3/envs/bg/lib/python3.7/site-packages/ipykernel_launcher.py:10: UserWarning: Embedding vector for 'https://bbp.epfl.ch/neurosciencegraph/data/neuronmorphologies/c405e3b9-7c58-484b-8700-d464ce08882e' in 'BucketConfiguration(endpoint='https://bbp.epfl.ch/nexus/v1', org='bbp-external', proj='seu')' was not computed\n",
      "  # Remove the CWD from sys.path while we load stuff.\n",
      "/Users/oshurko/opt/anaconda3/envs/bg/lib/python3.7/site-packages/ipykernel_launcher.py:10: UserWarning: Embedding vector for 'https://bbp.epfl.ch/neurosciencegraph/data/neuronmorphologies/8758f126-fa6a-452c-96ed-58129d3029b1' in 'BucketConfiguration(endpoint='https://bbp.epfl.ch/nexus/v1', org='bbp-external', proj='seu')' was not computed\n",
      "  # Remove the CWD from sys.path while we load stuff.\n",
      "/Users/oshurko/opt/anaconda3/envs/bg/lib/python3.7/site-packages/ipykernel_launcher.py:10: UserWarning: Embedding vector for 'https://bbp.epfl.ch/neurosciencegraph/data/neuronmorphologies/5b3ac3ef-5f9e-428b-b388-96bdc8308295' in 'BucketConfiguration(endpoint='https://bbp.epfl.ch/nexus/v1', org='bbp-external', proj='seu')' was not computed\n",
      "  # Remove the CWD from sys.path while we load stuff.\n",
      "/Users/oshurko/opt/anaconda3/envs/bg/lib/python3.7/site-packages/ipykernel_launcher.py:10: UserWarning: Embedding vector for 'https://bbp.epfl.ch/neurosciencegraph/data/neuronmorphologies/a85b2b7e-5b9e-4515-9790-6d51f8bd08a4' in 'BucketConfiguration(endpoint='https://bbp.epfl.ch/nexus/v1', org='bbp-external', proj='seu')' was not computed\n",
      "  # Remove the CWD from sys.path while we load stuff.\n",
      "/Users/oshurko/opt/anaconda3/envs/bg/lib/python3.7/site-packages/ipykernel_launcher.py:10: UserWarning: Embedding vector for 'https://bbp.epfl.ch/neurosciencegraph/data/neuronmorphologies/d34f16b8-4778-4d34-a459-f43ac2a9a82b' in 'BucketConfiguration(endpoint='https://bbp.epfl.ch/nexus/v1', org='bbp-external', proj='seu')' was not computed\n",
      "  # Remove the CWD from sys.path while we load stuff.\n",
      "/Users/oshurko/opt/anaconda3/envs/bg/lib/python3.7/site-packages/ipykernel_launcher.py:10: UserWarning: Embedding vector for 'https://bbp.epfl.ch/neurosciencegraph/data/neuronmorphologies/62263a3c-c40a-4661-9c64-86894b8929ba' in 'BucketConfiguration(endpoint='https://bbp.epfl.ch/nexus/v1', org='bbp-external', proj='seu')' was not computed\n",
      "  # Remove the CWD from sys.path while we load stuff.\n",
      "/Users/oshurko/opt/anaconda3/envs/bg/lib/python3.7/site-packages/ipykernel_launcher.py:10: UserWarning: Embedding vector for 'https://bbp.epfl.ch/neurosciencegraph/data/neuronmorphologies/18bd2b86-f837-41df-a12e-5e790e03e054' in 'BucketConfiguration(endpoint='https://bbp.epfl.ch/nexus/v1', org='bbp-external', proj='seu')' was not computed\n",
      "  # Remove the CWD from sys.path while we load stuff.\n",
      "/Users/oshurko/opt/anaconda3/envs/bg/lib/python3.7/site-packages/ipykernel_launcher.py:10: UserWarning: Embedding vector for 'https://bbp.epfl.ch/neurosciencegraph/data/neuronmorphologies/d321a7b1-ae00-4324-822a-4112d7ceea02' in 'BucketConfiguration(endpoint='https://bbp.epfl.ch/nexus/v1', org='bbp-external', proj='seu')' was not computed\n",
      "  # Remove the CWD from sys.path while we load stuff.\n",
      "/Users/oshurko/opt/anaconda3/envs/bg/lib/python3.7/site-packages/ipykernel_launcher.py:10: UserWarning: Embedding vector for 'https://bbp.epfl.ch/neurosciencegraph/data/neuronmorphologies/02beada8-36a7-49c6-8bad-a3efa6b1d3c3' in 'BucketConfiguration(endpoint='https://bbp.epfl.ch/nexus/v1', org='bbp-external', proj='seu')' was not computed\n",
      "  # Remove the CWD from sys.path while we load stuff.\n",
      "/Users/oshurko/opt/anaconda3/envs/bg/lib/python3.7/site-packages/ipykernel_launcher.py:10: UserWarning: Embedding vector for 'https://bbp.epfl.ch/neurosciencegraph/data/neuronmorphologies/21c597c9-681d-4272-826e-666d0244cf24' in 'BucketConfiguration(endpoint='https://bbp.epfl.ch/nexus/v1', org='bbp-external', proj='seu')' was not computed\n",
      "  # Remove the CWD from sys.path while we load stuff.\n"
     ]
    },
    {
     "name": "stdout",
     "output_type": "stream",
     "text": [
      "Registering/updating 200 vectors for 'BucketConfiguration(endpoint='https://staging.nexus.ocp.bbp.epfl.ch/v1', org='dke', proj='seu-embeddings')...'\n",
      "<count> 200\n",
      "<action> _register_many\n",
      "<succeeded> True\n",
      "\n",
      "<count> 200\n",
      "<action> _tag_many\n",
      "<succeeded> True\n",
      "Registering/updating 200 vectors for 'BucketConfiguration(endpoint='https://staging.nexus.ocp.bbp.epfl.ch/v1', org='dke', proj='seu-embeddings-2')...'\n",
      "<count> 200\n",
      "<action> _register_many\n",
      "<succeeded> True\n",
      "\n",
      "<count> 200\n",
      "<action> _tag_many\n",
      "<succeeded> True\n"
     ]
    }
   ],
   "source": [
    "for bucket_config, resources in resource_set.items():\n",
    "    vectors = {}\n",
    "    for resource in resources:\n",
    "        if resource.id not in embeddings:\n",
    "            if resource.id in embedding_table.index:\n",
    "                vectors[resource.id] = embedding_table.loc[\n",
    "                    resource.id].tolist()[0].tolist()\n",
    "            else:\n",
    "                warnings.warn(\n",
    "                    f\"Embedding vector for '{resource.id}' in '{bucket_config}' was not computed\")\n",
    "    for embedding_bucket in DATA_BUCKETS[bucket_config]:\n",
    "        forge = FORGE_SESSIONS[embedding_bucket]\n",
    "        print(f\"Registering/updating {len(vectors)} vectors for '{embedding_bucket}...'\")\n",
    "        register_embeddings(forge, vectors, MODEL_ID, MODEL_REVISION, MODEL_TAG)"
   ]
  },
  {
   "cell_type": "markdown",
   "metadata": {},
   "source": [
    "The following tag should be used to create new ES views on the vectors."
   ]
  },
  {
   "cell_type": "code",
   "execution_count": 201,
   "metadata": {
    "scrolled": true
   },
   "outputs": [
    {
     "data": {
      "text/plain": [
       "'14d61701-c4fa-44ea-8139-0e0ed606b4ec?rev=10'"
      ]
     },
     "execution_count": 201,
     "metadata": {},
     "output_type": "execute_result"
    }
   ],
   "source": [
    "MODEL_TAG"
   ]
  }
 ],
 "metadata": {
  "kernelspec": {
   "display_name": "bg",
   "language": "python",
   "name": "bg"
  },
  "language_info": {
   "codemirror_mode": {
    "name": "ipython",
    "version": 3
   },
   "file_extension": ".py",
   "mimetype": "text/x-python",
   "name": "python",
   "nbconvert_exporter": "python",
   "pygments_lexer": "ipython3",
   "version": "3.7.10"
  },
  "toc-autonumbering": true,
  "toc-showtags": true
 },
 "nbformat": 4,
 "nbformat_minor": 4
}
