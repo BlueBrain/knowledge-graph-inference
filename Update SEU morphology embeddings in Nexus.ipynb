{
 "cells": [
  {
   "cell_type": "markdown",
   "metadata": {},
   "source": [
    "# Update embedding vectors for SEU morphologies in Nexus\n",
    "\n",
    "1. Fetch the embedding resources corresponding to the model id\n",
    "2. Ask the service[or some python code] for the new embedding vectors\n",
    "3. Update the embedding resources with the new vectors\n",
    "4. Update the resources the new model revision in `generation.activity.used.id` (TODO)\n",
    "4. Update in Nexus\n",
    "5. Tag them with the model UUID and the its revision (e.g. `e2b953b9-6724-4278-a1e5-3472bd63e374?rev=2`)\n",
    "6. (TODO) (automatically?) check that the resources are indexed properly"
   ]
  },
  {
   "cell_type": "markdown",
   "metadata": {},
   "source": [
    "## Setup"
   ]
  },
  {
   "cell_type": "code",
   "execution_count": 2,
   "metadata": {},
   "outputs": [],
   "source": [
    "import os\n",
    "import requests\n",
    "import getpass\n",
    "import uuid\n",
    "\n",
    "from kgforge.core import KnowledgeGraphForge\n",
    "from kgforge.specializations.mappings import DictionaryMapping\n",
    "\n",
    "from bluegraph.downstream import EmbeddingPipeline\n",
    "from bluegraph.core import GraphElementEmbedder"
   ]
  },
  {
   "cell_type": "code",
   "execution_count": 3,
   "metadata": {},
   "outputs": [
    {
     "name": "stdout",
     "output_type": "stream",
     "text": [
      "········\n"
     ]
    }
   ],
   "source": [
    "TOKEN = getpass.getpass()"
   ]
  },
  {
   "cell_type": "markdown",
   "metadata": {},
   "source": [
    "## Get embedding model"
   ]
  },
  {
   "cell_type": "code",
   "execution_count": 4,
   "metadata": {},
   "outputs": [],
   "source": [
    "forge = KnowledgeGraphForge(\"https://raw.githubusercontent.com/BlueBrain/nexus-forge/master/examples/notebooks/use-cases/prod-forge-nexus.yml\",\n",
    "                            token=TOKEN,\n",
    "                            endpoint = \"https://staging.nexus.ocp.bbp.epfl.ch/v1\",\n",
    "                            bucket=\"dke/embedder_catalog\")"
   ]
  },
  {
   "cell_type": "code",
   "execution_count": 31,
   "metadata": {},
   "outputs": [],
   "source": [
    "MODEL_ID = \"https://staging.nexus.ocp.bbp.epfl.ch/v1/resources/dke/embedder_catalog/_/e2b953b9-6724-4278-a1e5-3472bd63e374\"\n",
    "MODEL_REVISION = 9"
   ]
  },
  {
   "cell_type": "code",
   "execution_count": 32,
   "metadata": {},
   "outputs": [],
   "source": [
    "model_resource = forge.retrieve(f\"{MODEL_ID}{'?rev=' + str(MODEL_REVISION) if MODEL_REVISION is not None else ''}\")\n",
    "forge.download(\n",
    "    model_resource, \"distribution.contentUrl\", \"data\", overwrite=True)\n",
    "pipeline_path = os.path.join(\"data\", model_resource.distribution.name)"
   ]
  },
  {
   "cell_type": "code",
   "execution_count": 33,
   "metadata": {},
   "outputs": [],
   "source": [
    "pipeline = EmbeddingPipeline.load(\n",
    "    pipeline_path,\n",
    "    embedder_interface=GraphElementEmbedder,\n",
    "    embedder_ext=\"zip\")"
   ]
  },
  {
   "cell_type": "code",
   "execution_count": 34,
   "metadata": {},
   "outputs": [],
   "source": [
    "embedding_table = pipeline.generate_embedding_table()"
   ]
  },
  {
   "cell_type": "markdown",
   "metadata": {},
   "source": [
    "## Get existing embedding resources for this model"
   ]
  },
  {
   "cell_type": "code",
   "execution_count": 42,
   "metadata": {},
   "outputs": [],
   "source": [
    "forge_embeddings = KnowledgeGraphForge(\"https://raw.githubusercontent.com/BlueBrain/nexus-forge/master/examples/notebooks/use-cases/prod-forge-nexus.yml\",\n",
    "                            token=TOKEN, \n",
    "                            endpoint=\"https://staging.nexus.ocp.bbp.epfl.ch/v1\",        \n",
    "                            bucket=\"dke/seu-embeddings\")"
   ]
  },
  {
   "cell_type": "code",
   "execution_count": 36,
   "metadata": {},
   "outputs": [],
   "source": [
    "existing_resources = forge_embeddings.search(\n",
    "    {\"type\": \"Embedding\",\n",
    "     \"generation\": {\"activity\": {\"used\": {\"id\": MODEL_ID}}}},\n",
    "    limit=None)"
   ]
  },
  {
   "cell_type": "code",
   "execution_count": 37,
   "metadata": {},
   "outputs": [],
   "source": [
    "for resource in existing_resources:\n",
    "    morph_id = resource.derivation.entity.id\n",
    "    resource.embedding = embedding_table.loc[morph_id].tolist()[0].tolist()"
   ]
  },
  {
   "cell_type": "markdown",
   "metadata": {},
   "source": [
    "__TODO__: Update embedding resources the new model revision in `generation.activity.used.id`"
   ]
  },
  {
   "cell_type": "code",
   "execution_count": 38,
   "metadata": {},
   "outputs": [
    {
     "name": "stdout",
     "output_type": "stream",
     "text": [
      "<count> 200\n",
      "<action> _update_many\n",
      "<succeeded> True\n"
     ]
    }
   ],
   "source": [
    "forge_embeddings.update(existing_resources)"
   ]
  },
  {
   "cell_type": "markdown",
   "metadata": {},
   "source": [
    "Tag resources with model UUID"
   ]
  },
  {
   "cell_type": "code",
   "execution_count": 39,
   "metadata": {},
   "outputs": [
    {
     "name": "stdout",
     "output_type": "stream",
     "text": [
      "<count> 200\n",
      "<action> _tag_many\n",
      "<succeeded> True\n"
     ]
    }
   ],
   "source": [
    "tag = f\"{MODEL_ID.split('/')[-1]}?rev={MODEL_REVISION}\"\n",
    "forge_embeddings.tag(existing_resources, tag)"
   ]
  },
  {
   "cell_type": "markdown",
   "metadata": {},
   "source": [
    "## Update ES view"
   ]
  },
  {
   "cell_type": "code",
   "execution_count": 43,
   "metadata": {},
   "outputs": [
    {
     "name": "stdout",
     "output_type": "stream",
     "text": [
      "<action> retrieve\n",
      "<error> RetrievalError: 404 Client Error: Not Found for url: https://staging.nexus.ocp.bbp.epfl.ch/v1/resources/dke/embedder_catalog/_/https%3A%2F%2Fbbp.epfl.ch%2Fneurosciencegraph%2Fdata%2Fviews%2Fes%2Faxon-coprojection-embeddings-view\n",
      "\n"
     ]
    }
   ],
   "source": [
    "forge.sparql(\n",
    "    \"\"\"\n",
    "    https://bbp.epfl.ch/neurosciencegraph/data/views/es/axon-coprojection-embeddings-view\n",
    "    \"\"\")"
   ]
  },
  {
   "cell_type": "code",
   "execution_count": null,
   "metadata": {},
   "outputs": [],
   "source": []
  }
 ],
 "metadata": {
  "kernelspec": {
   "display_name": "Python 3",
   "language": "python",
   "name": "python3"
  },
  "language_info": {
   "codemirror_mode": {
    "name": "ipython",
    "version": 3
   },
   "file_extension": ".py",
   "mimetype": "text/x-python",
   "name": "python",
   "nbconvert_exporter": "python",
   "pygments_lexer": "ipython3",
   "version": "3.7.10"
  }
 },
 "nbformat": 4,
 "nbformat_minor": 4
}
