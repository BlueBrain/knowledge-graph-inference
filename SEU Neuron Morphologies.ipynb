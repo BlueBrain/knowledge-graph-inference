{
 "cells": [
  {
   "cell_type": "markdown",
   "id": "b290996e",
   "metadata": {},
   "source": [
    "# Creating vector representations of SEU Neuron Morphologies"
   ]
  },
  {
   "cell_type": "code",
   "execution_count": 77,
   "id": "c5dc2c65",
   "metadata": {},
   "outputs": [],
   "source": [
    "import getpass\n",
    "import jwt\n",
    "\n",
    "import numpy as np\n",
    "import pandas as pd\n",
    "\n",
    "from kgforge.core import KnowledgeGraphForge\n",
    "from kgforge.specializations.resources import Dataset\n",
    "\n",
    "from sklearn.feature_selection import VarianceThreshold\n",
    "from sklearn.feature_extraction.text import TfidfVectorizer\n",
    "from sklearn.preprocessing import StandardScaler, MultiLabelBinarizer\n",
    "from sklearn.impute import SimpleImputer\n",
    "from sklearn.manifold import TSNE\n",
    "from sklearn.decomposition import PCA\n",
    "\n",
    "from bluegraph import PandasPGFrame\n",
    "from bluegraph.preprocess import ScikitLearnPGEncoder\n",
    "from bluegraph.downstream.utils import transform_to_2d, plot_2d\n",
    "from bluegraph.preprocess import CooccurrenceGenerator\n",
    "from bluegraph.backends.stellargraph import StellarGraphNodeEmbedder\n",
    "from bluegraph.backends.networkx import NXCommunityDetector\n",
    "from bluegraph.downstream import EmbeddingPipeline\n",
    "from bluegraph.downstream.similarity import SimilarityProcessor"
   ]
  },
  {
   "cell_type": "code",
   "execution_count": 2,
   "id": "c579615c",
   "metadata": {},
   "outputs": [],
   "source": [
    "def get_encoder_features(prop_name, encoder, last_index):\n",
    "    if encoder is None or isinstance(encoder, StandardScaler):\n",
    "        return {last_index: f\"{prop_name}_IDENTITY\"}, last_index + 1\n",
    "    if isinstance(encoder, TfidfVectorizer):\n",
    "        return (\n",
    "            {\n",
    "                i + last_index: f\"{prop_name}_WORD_{f}\"\n",
    "                for i, f in enumerate(encoder.get_feature_names())\n",
    "            },\n",
    "            last_index + len(encoder.get_feature_names())\n",
    "        )\n",
    "    elif isinstance(encoder, MultiLabelBinarizer):\n",
    "        return (\n",
    "            {\n",
    "                i + last_index: f\"{prop_name}_CLASS_{c}\"\n",
    "                for i, c in enumerate(encoder.classes_)\n",
    "            },\n",
    "            last_index + len(encoder.classes_)\n",
    "        )\n",
    "    \n",
    "    else:\n",
    "        return {}, last_index\n",
    "\n",
    "def explain_property_coordinates(encoder, graph):\n",
    "    last_index = 0\n",
    "    property_coordinates = {}\n",
    "    for p in graph.node_properties():\n",
    "        if p in encoder._node_encoders:\n",
    "            res, new_index = get_encoder_features(\n",
    "                p, encoder._node_encoders[p], last_index)\n",
    "            property_coordinates.update(res)\n",
    "            last_index = new_index\n",
    "    return property_coordinates"
   ]
  },
  {
   "cell_type": "markdown",
   "id": "75d643dd",
   "metadata": {},
   "source": [
    "## Load morphologies from Nexus"
   ]
  },
  {
   "cell_type": "code",
   "execution_count": 3,
   "id": "156d8249",
   "metadata": {},
   "outputs": [
    {
     "name": "stdout",
     "output_type": "stream",
     "text": [
      "········\n"
     ]
    }
   ],
   "source": [
    "TOKEN = getpass.getpass()"
   ]
  },
  {
   "cell_type": "code",
   "execution_count": 4,
   "id": "883c4028",
   "metadata": {},
   "outputs": [],
   "source": [
    "forge = KnowledgeGraphForge(\"configs/new-forge-config.yaml\",\n",
    "                            token=TOKEN,\n",
    "                            bucket=\"bbp-external/seu\")"
   ]
  },
  {
   "cell_type": "code",
   "execution_count": 5,
   "id": "a3da8cf5",
   "metadata": {},
   "outputs": [],
   "source": [
    "morphologies = forge.search({\"type\": \"NeuronMorphology\"}, limit=None)"
   ]
  },
  {
   "cell_type": "code",
   "execution_count": 6,
   "id": "aa153a1d",
   "metadata": {},
   "outputs": [],
   "source": [
    "morphologies_df = forge.as_dataframe(morphologies)[[\n",
    "    \"id\",\n",
    "    \"brainLocation.brainRegion.id\",\n",
    "    \"brainLocation.coordinatesInBrainAtlas.valueX.value\",\n",
    "    \"brainLocation.coordinatesInBrainAtlas.valueY.value\",\n",
    "    \"brainLocation.coordinatesInBrainAtlas.valueZ.value\",\n",
    "    \"somaNumberOfPoints.value\",\n",
    "    \"neuriteFeature\",\n",
    "    \"subject.name\"\n",
    "]]"
   ]
  },
  {
   "cell_type": "code",
   "execution_count": 7,
   "id": "8cfb8435",
   "metadata": {},
   "outputs": [],
   "source": [
    "forge = KnowledgeGraphForge(\n",
    "    \"configs/new-forge-config.yaml\",\n",
    "    token=TOKEN,\n",
    "    bucket=\"neurosciencegraph/datamodels\")"
   ]
  },
  {
   "cell_type": "code",
   "execution_count": 8,
   "id": "1e45acce",
   "metadata": {},
   "outputs": [],
   "source": [
    "brain_region_resources = [\n",
    "    forge.retrieve(el) for el in morphologies_df[\"brainLocation.brainRegion.id\"]\n",
    "]"
   ]
  },
  {
   "cell_type": "code",
   "execution_count": 9,
   "id": "b877de3d",
   "metadata": {},
   "outputs": [],
   "source": [
    "brain_region_notation = {\n",
    "    r.id: (r.notation, r.prefLabel)\n",
    "    for r in brain_region_resources\n",
    "}"
   ]
  },
  {
   "cell_type": "code",
   "execution_count": 10,
   "id": "3c958b89",
   "metadata": {},
   "outputs": [],
   "source": [
    "def get_notation(region_id):\n",
    "    if region_id not in brain_region_notation:\n",
    "        r = forge.retrieve(region_id)\n",
    "        brain_region_notation[r.id] = (r.notation, r.prefLabel)\n",
    "    return brain_region_notation[region_id][0]"
   ]
  },
  {
   "cell_type": "code",
   "execution_count": 11,
   "id": "73a80b2f",
   "metadata": {},
   "outputs": [],
   "source": [
    "def get_neurite_features(data):\n",
    "    \n",
    "    result = {\n",
    "        \"has_Axon_feature\": 0,\n",
    "        \"has_BasalDendrite_feature\": 0,\n",
    "        \"has_ApicalDendrite_feature\": 0\n",
    "    }\n",
    "    \n",
    "    def _process_data(el, prefix):\n",
    "        result[f\"{prefix}_cumulatedLength\"] = el[\"cumulatedLength\"][\"value\"]\n",
    "        result[f\"{prefix}_longestBranchLength\"] = el[\"longestBranchLength\"][\"value\"]\n",
    "        result[f\"{prefix}_longestBranchNumberOfNodes\"] = el[\"longestBranchNumberOfNodes\"]\n",
    "        result[f\"{prefix}_numberOfProjections\"] = el[\"numberOfProjections\"]\n",
    "        result[f\"{prefix}_projectionBrainRegion\"] = {\n",
    "            get_notation(r[\"id\"]) for r in el[\"projectionBrainRegion\"]\n",
    "        } if isinstance(el[\"projectionBrainRegion\"], list) else {get_notation(el[\"projectionBrainRegion\"][\"id\"])}\n",
    "        result[f\"{prefix}_traversedBrainRegion\"] = {\n",
    "            get_notation(r[\"id\"]) for r in el[\"traversedBrainRegion\"]\n",
    "        } if isinstance(el[\"traversedBrainRegion\"], list) else {get_notation(el[\"traversedBrainRegion\"][\"id\"])}\n",
    "\n",
    "    for el in data:\n",
    "        result[\"has_\" + el[\"type\"] + \"_feature\"] = 1\n",
    "        _process_data(el, el[\"type\"])\n",
    "\n",
    "    return result"
   ]
  },
  {
   "cell_type": "code",
   "execution_count": 12,
   "id": "cd704b47",
   "metadata": {},
   "outputs": [],
   "source": [
    "neurite_features = morphologies_df[\"neuriteFeature\"].apply(get_neurite_features).tolist()"
   ]
  },
  {
   "cell_type": "code",
   "execution_count": 13,
   "id": "da8361eb",
   "metadata": {},
   "outputs": [],
   "source": [
    "neurite_feature_df = pd.DataFrame(neurite_features)"
   ]
  },
  {
   "cell_type": "code",
   "execution_count": 14,
   "id": "07b5b4b1",
   "metadata": {},
   "outputs": [],
   "source": [
    "morphologies_df[\"brainLocation.brainRegion.id\"] = morphologies_df[\"brainLocation.brainRegion.id\"].apply(\n",
    "    lambda x: brain_region_notation[x][0])"
   ]
  },
  {
   "cell_type": "markdown",
   "id": "64a44d4f",
   "metadata": {},
   "source": [
    "## Create a property graph (only nodes)"
   ]
  },
  {
   "cell_type": "code",
   "execution_count": 15,
   "id": "4e8a1377",
   "metadata": {},
   "outputs": [],
   "source": [
    "nodes = pd.concat(\n",
    "    [morphologies_df, neurite_feature_df], axis=1).drop(\n",
    "        columns=[\"neuriteFeature\"]).rename(columns={\"id\": \"@id\"}).set_index(\"@id\")"
   ]
  },
  {
   "cell_type": "code",
   "execution_count": 16,
   "id": "6edc5ec9",
   "metadata": {},
   "outputs": [],
   "source": [
    "frame = PandasPGFrame()"
   ]
  },
  {
   "cell_type": "code",
   "execution_count": 17,
   "id": "8dc626c7",
   "metadata": {},
   "outputs": [],
   "source": [
    "frame._nodes = nodes"
   ]
  },
  {
   "cell_type": "code",
   "execution_count": 18,
   "id": "5af9f15f",
   "metadata": {},
   "outputs": [],
   "source": [
    "categorical_props = [\n",
    "    \"brainLocation.brainRegion.id\",\n",
    "    \"subject.name\",\n",
    "    \"has_Axon_feature\",\n",
    "    \"has_BasalDendrite_feature\",\n",
    "    \"has_ApicalDendrite_feature\",\n",
    "    \"BasalDendrite_projectionBrainRegion\",\n",
    "    \"BasalDendrite_traversedBrainRegion\",\n",
    "    \"ApicalDendrite_projectionBrainRegion\",\n",
    "    \"ApicalDendrite_traversedBrainRegion\",\n",
    "    \"Axon_projectionBrainRegion\",\n",
    "    \"Axon_traversedBrainRegion\",\n",
    "]"
   ]
  },
  {
   "cell_type": "code",
   "execution_count": 19,
   "id": "8f0bbec9",
   "metadata": {
    "scrolled": true
   },
   "outputs": [],
   "source": [
    "for column in nodes.columns:\n",
    "    if column != \"@type\":\n",
    "        if column not in categorical_props:\n",
    "            frame.node_prop_as_numeric(column)\n",
    "        else:\n",
    "            frame.node_prop_as_category(column)"
   ]
  },
  {
   "cell_type": "code",
   "execution_count": 20,
   "id": "c831accc",
   "metadata": {},
   "outputs": [],
   "source": [
    "frame.rename_node_properties({\n",
    "    p: p.replace(\".\", \"_\")\n",
    "    for p in frame.node_properties()\n",
    "})"
   ]
  },
  {
   "cell_type": "markdown",
   "id": "421cc7a8",
   "metadata": {},
   "source": [
    "## Create axon co-projection edges and use graph embedding"
   ]
  },
  {
   "cell_type": "code",
   "execution_count": 21,
   "id": "d9ab6131",
   "metadata": {},
   "outputs": [],
   "source": [
    "gen = CooccurrenceGenerator(frame)\n",
    "edges = gen.generate_from_nodes(\n",
    "    \"Axon_projectionBrainRegion\",\n",
    "    compute_statistics=[\"frequency\"])"
   ]
  },
  {
   "cell_type": "code",
   "execution_count": 22,
   "id": "7891b945",
   "metadata": {},
   "outputs": [],
   "source": [
    "edges = edges[edges[\"frequency\"] > 3]"
   ]
  },
  {
   "cell_type": "code",
   "execution_count": 23,
   "id": "30cb53ea",
   "metadata": {},
   "outputs": [],
   "source": [
    "frame._edges = edges\n",
    "frame.edge_prop_as_numeric(\"frequency\")"
   ]
  },
  {
   "cell_type": "markdown",
   "id": "566d23c9",
   "metadata": {},
   "source": [
    "## Create embedding pipeline"
   ]
  },
  {
   "cell_type": "markdown",
   "id": "7e39f110",
   "metadata": {},
   "source": [
    "### 1. Encode properties"
   ]
  },
  {
   "cell_type": "code",
   "execution_count": 24,
   "id": "9324d09d",
   "metadata": {},
   "outputs": [],
   "source": [
    "encoder = ScikitLearnPGEncoder(\n",
    "    node_properties=frame.node_properties(),\n",
    "    missing_numeric=\"impute\",\n",
    "    imputation_strategy=\"mean\",\n",
    "    reduce_node_dims=True,\n",
    "    n_node_components=64)"
   ]
  },
  {
   "cell_type": "code",
   "execution_count": 29,
   "id": "ebb4383b",
   "metadata": {},
   "outputs": [],
   "source": [
    "encoded_frame = encoder.fit_transform(frame)"
   ]
  },
  {
   "cell_type": "markdown",
   "id": "c705850d",
   "metadata": {},
   "source": [
    "Explained variance of data"
   ]
  },
  {
   "cell_type": "code",
   "execution_count": 37,
   "id": "6d444161",
   "metadata": {},
   "outputs": [
    {
     "data": {
      "text/plain": [
       "0.8951006693746009"
      ]
     },
     "execution_count": 37,
     "metadata": {},
     "output_type": "execute_result"
    }
   ],
   "source": [
    "sum(encoder.node_reducer.explained_variance_ratio_)"
   ]
  },
  {
   "cell_type": "markdown",
   "id": "dc6b2dc0",
   "metadata": {},
   "source": [
    "Let's plot a 2D projection of what we have got"
   ]
  },
  {
   "cell_type": "code",
   "execution_count": 47,
   "id": "d47c5d91",
   "metadata": {},
   "outputs": [],
   "source": [
    "X = np.array(encoded_frame._nodes[\"features\"].tolist())\n",
    "features_2d = transform_to_2d(X)"
   ]
  },
  {
   "cell_type": "code",
   "execution_count": 48,
   "id": "089c3349",
   "metadata": {},
   "outputs": [
    {
     "data": {
      "image/png": "[encoded data removed]",
      "text/plain": [
       "<Figure size 504x504 with 1 Axes>"
      ]
     },
     "metadata": {
      "needs_background": "light"
     },
     "output_type": "display_data"
    }
   ],
   "source": [
    "plot_2d(\n",
    "    frame, vectors=features_2d, label_prop=\"brainLocation_brainRegion_id\",\n",
    "    title=\"Colored by Brain Region\")"
   ]
  },
  {
   "cell_type": "markdown",
   "id": "d2876121",
   "metadata": {},
   "source": [
    "### 2. Embed nodes"
   ]
  },
  {
   "cell_type": "code",
   "execution_count": 49,
   "id": "083a8b7a",
   "metadata": {},
   "outputs": [],
   "source": [
    "attri2vec_embedder = StellarGraphNodeEmbedder(\n",
    "    \"attri2vec\", feature_vector_prop=\"features\",\n",
    "    length=5, number_of_walks=10,\n",
    "    epochs=10, embedding_dimension=128, edge_weight=\"frequency\")"
   ]
  },
  {
   "cell_type": "code",
   "execution_count": 50,
   "id": "b5fa6da5",
   "metadata": {},
   "outputs": [
    {
     "name": "stdout",
     "output_type": "stream",
     "text": [
      "link_classification: using 'ip' method to combine node embeddings into edge embeddings\n"
     ]
    }
   ],
   "source": [
    "attri2vec_embedding = attri2vec_embedder.fit_model(encoded_frame)"
   ]
  },
  {
   "cell_type": "code",
   "execution_count": 51,
   "id": "0f5df053",
   "metadata": {},
   "outputs": [],
   "source": [
    "frame.add_node_properties(\n",
    "    attri2vec_embedding.rename(columns={\"embedding\": \"attri2vec\"}))"
   ]
  },
  {
   "cell_type": "code",
   "execution_count": 52,
   "id": "752ee32a",
   "metadata": {},
   "outputs": [],
   "source": [
    "attri2vec_2d = transform_to_2d(frame._nodes[\"attri2vec\"].tolist())"
   ]
  },
  {
   "cell_type": "code",
   "execution_count": 54,
   "id": "5e5c7b12",
   "metadata": {},
   "outputs": [
    {
     "data": {
      "image/png": "[encoded data removed]",
      "text/plain": [
       "<Figure size 504x504 with 1 Axes>"
      ]
     },
     "metadata": {
      "needs_background": "light"
     },
     "output_type": "display_data"
    }
   ],
   "source": [
    "plot_2d(frame, vectors=attri2vec_2d, label_prop=\"brainLocation_brainRegion_id\")"
   ]
  },
  {
   "cell_type": "markdown",
   "id": "48ee4a78",
   "metadata": {},
   "source": [
    "### 3. Create and save the embedding pipeline"
   ]
  },
  {
   "cell_type": "code",
   "execution_count": 65,
   "id": "aa6eeea0",
   "metadata": {},
   "outputs": [],
   "source": [
    "pipeline = EmbeddingPipeline(\n",
    "    preprocessor=encoder,\n",
    "    embedder=attri2vec_embedder,\n",
    "    similarity_processor=SimilarityProcessor(similarity=\"euclidean\", dimension=128))"
   ]
  },
  {
   "cell_type": "code",
   "execution_count": 67,
   "id": "139368f9",
   "metadata": {},
   "outputs": [
    {
     "name": "stdout",
     "output_type": "stream",
     "text": [
      "INFO:tensorflow:Assets written to: SEU_morph_attri2vec_euclidean/embedder/model/assets\n"
     ]
    }
   ],
   "source": [
    "pipeline.save(\"SEU_morph_attri2vec_euclidean\", compress=True)"
   ]
  },
  {
   "cell_type": "markdown",
   "id": "22f2e17a",
   "metadata": {},
   "source": [
    "### 5. TODO: Push the model into the model catalog"
   ]
  },
  {
   "cell_type": "code",
   "execution_count": 70,
   "id": "3b54d42e",
   "metadata": {},
   "outputs": [],
   "source": [
    "forge = KnowledgeGraphForge(\n",
    "    \"configs/new-forge-config.yaml\",\n",
    "    token=TOKEN,\n",
    "    bucket=\"dke/embedding-pipelines\")"
   ]
  },
  {
   "cell_type": "code",
   "execution_count": 71,
   "id": "6bd47d51",
   "metadata": {},
   "outputs": [],
   "source": [
    "def get_agent(token):\n",
    "    agent_data = jwt.decode(token, verify=False)\n",
    "    agent = forge.reshape(\n",
    "        forge.from_json(agent_data), keep=[\n",
    "            \"name\", \"email\", \"sub\", \"preferred_username\"])\n",
    "    agent.id = agent.sub\n",
    "    agent.type = \"Person\"\n",
    "    return agent"
   ]
  },
  {
   "cell_type": "code",
   "execution_count": 72,
   "id": "8f370ae9",
   "metadata": {},
   "outputs": [],
   "source": [
    "def push_model(forge, agent, name, description, distribution):\n",
    "    # Create a new model resource\n",
    "    model_resource = Dataset(\n",
    "        forge,\n",
    "        name=name,\n",
    "        description=description)\n",
    "    model_resource.type = [\"Dataset\", \"EmbeddingModel\"]\n",
    "    # Add distrubution\n",
    "    model_resource.add_distribution(\n",
    "        distribution, content_type=\"application/octet-stream\")\n",
    "    # Add contribution\n",
    "    model_resource.add_contribution(agent, versioned=False)\n",
    "    model_resource.contribution.hadRole = \"Engineer\"\n",
    "\n",
    "    forge.register(model_resource)"
   ]
  },
  {
   "cell_type": "code",
   "execution_count": 75,
   "id": "590069a2",
   "metadata": {},
   "outputs": [],
   "source": [
    "agent = get_agent(TOKEN)"
   ]
  },
  {
   "cell_type": "code",
   "execution_count": 78,
   "id": "9c3a0a22",
   "metadata": {},
   "outputs": [
    {
     "name": "stdout",
     "output_type": "stream",
     "text": [
      "<action> _register_one\n",
      "<succeeded> True\n"
     ]
    }
   ],
   "source": [
    "push_model(\n",
    "    forge, agent, \"SEU NeuronMorphology Embedding\",\n",
    "    \"Node embedding model built on the SEU neuron morphology dataset resources\",\n",
    "    \"SEU_morph_attri2vec_euclidean.zip\")"
   ]
  },
  {
   "cell_type": "markdown",
   "id": "abb8134a",
   "metadata": {},
   "source": [
    "## Visualize the graph in Gephi"
   ]
  },
  {
   "cell_type": "code",
   "execution_count": 437,
   "id": "9aa29f29",
   "metadata": {},
   "outputs": [],
   "source": [
    "frame.export_to_gephi(\n",
    "    \"seu_morphologies_co_proj\",\n",
    "    node_attr_mapping={\n",
    "        \"brainLocation_brainRegion_id\": \"Region\"\n",
    "    },\n",
    "    edge_attr_mapping={\n",
    "        \"frequency\": \"weight\"\n",
    "    })"
   ]
  },
  {
   "cell_type": "markdown",
   "id": "9f330ea3",
   "metadata": {},
   "source": [
    "<img src=\"figures/neu_co_proj_illustration.png\">"
   ]
  },
  {
   "cell_type": "markdown",
   "id": "a42ca5a5",
   "metadata": {},
   "source": [
    "## Detect communities"
   ]
  },
  {
   "cell_type": "code",
   "execution_count": 430,
   "id": "11c98f2c",
   "metadata": {},
   "outputs": [],
   "source": [
    "det = NXCommunityDetector(frame, directed=False)"
   ]
  },
  {
   "cell_type": "code",
   "execution_count": 435,
   "id": "a24f12d8",
   "metadata": {},
   "outputs": [],
   "source": [
    "det.detect_communities(\n",
    "    strategy='louvain', weight=\"frequency\", write=True, write_property=\"community\")"
   ]
  }
 ],
 "metadata": {
  "kernelspec": {
   "display_name": "bg",
   "language": "python",
   "name": "bg"
  },
  "language_info": {
   "codemirror_mode": {
    "name": "ipython",
    "version": 3
   },
   "file_extension": ".py",
   "mimetype": "text/x-python",
   "name": "python",
   "nbconvert_exporter": "python",
   "pygments_lexer": "ipython3",
   "version": "3.7.10"
  }
 },
 "nbformat": 4,
 "nbformat_minor": 5
}
