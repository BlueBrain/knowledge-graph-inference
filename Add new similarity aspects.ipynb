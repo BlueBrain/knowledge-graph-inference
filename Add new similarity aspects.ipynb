{
 "cells": [
  {
   "cell_type": "markdown",
   "metadata": {},
   "source": [
    "# Add new similarity aspects\n",
    "\n",
    "This notebook illustates how a set of new similarity aspects can be added to the Atlas recommender configuration. A similarity aspect correponds to an instance of `EmbeddingModel` (stored in the model catalog) that is able to produce vectors describing particular data points (e.g. instances of `NeuronMorphology`) in some vector space, where similarity between two vectors represents similarity of the data points according to the given similarity aspect. For example, neurite features similarity of morphologies corresponds to a model that for each neuron morphology produces neurite feature vectors that can be used to establish a similarity score between two morphologies.\n",
    "\n",
    "Typically, a record of the `RecommenderConfiguration` resources has the following shape\n",
    "\n",
    "```\n",
    "{\n",
    "    \"embeddingModel\": MODEL_ID,\n",
    "    \"similarityView\": MASTER_AGG_VIEW,\n",
    "    \"statisticsView\": STATS_VIEW,\n",
    "    \"boostingView\": AGG_VIEW_WITH_BOOSTING_FACTORS\n",
    "}\n",
    "```\n",
    "\n",
    "where\n",
    "\n",
    "- `MODEL_ID`, ID of the model representing the new similarity aspect;\n",
    "- `MASTER_AGG_VIEW`, ID of the Master view, an aggregated ES view that collects a set of individual ES views from projects where data points reside. These individual views index embedding vectors produced by the above-mentioned model;\n",
    "- `STATS_VIEW`, ID of the ES view with statistics on the Master view;\n",
    "- `AGG_VIEW_WITH_BOOSTING_FACTORS`, ID of the aggregated ES view that collects a set of individual ES views with boosting factors from projects where data points reside.\n",
    "\n",
    "Unfortunately, in Nexus, we cannot create an empty aggregated ES view, so the Master View (as well as Stats View and Agg Boosting View) needs to be created upon creation of the first ES view indexing a batch of embedding vectors. Therefore in this notebook, we create a new record that points only to the embedding model, but not the rest of the components.\n",
    "\n",
    "\n",
    "Related JIRA tickets: \n",
    "* https://bbpteam.epfl.ch/project/issues/browse/DKE-718\n",
    "* https://bbpteam.epfl.ch/project/issues/browse/DKE-715"
   ]
  },
  {
   "cell_type": "markdown",
   "metadata": {},
   "source": [
    "Prerequisites:\n",
    "\n",
    "- Models have been built and pushed to the model catalog\n",
    "- Model meta-data has a `vectorDimension` field specifying the dimension of embedding vectors.\n",
    "\n",
    "Steps:\n",
    "\n",
    "1. Fetch the Recommender Configuration resource from the Atlas configuration project\n",
    "2. Add new records to the `configuration` field pointing to the specified models."
   ]
  },
  {
   "cell_type": "code",
   "execution_count": 17,
   "metadata": {},
   "outputs": [],
   "source": [
    "import getpass\n",
    "import os\n",
    "import warnings\n",
    "\n",
    "from kgforge.core import KnowledgeGraphForge\n",
    "\n",
    "from bluegraph.downstream import EmbeddingPipeline\n",
    "from bluegraph.core import GraphElementEmbedder"
   ]
  },
  {
   "cell_type": "markdown",
   "metadata": {},
   "source": [
    "## User input"
   ]
  },
  {
   "cell_type": "code",
   "execution_count": 26,
   "metadata": {},
   "outputs": [
    {
     "name": "stdout",
     "output_type": "stream",
     "text": [
      "········\n"
     ]
    }
   ],
   "source": [
    "ENDPOINT = \"https://staging.nexus.ocp.bbp.epfl.ch/v1\"\n",
    "DOWNLOAD_DIR = \"./data\"\n",
    "TOKEN = getpass.getpass()"
   ]
  },
  {
   "cell_type": "markdown",
   "metadata": {},
   "source": [
    "ID of the embedding models from the catalog"
   ]
  },
  {
   "cell_type": "code",
   "execution_count": 3,
   "metadata": {},
   "outputs": [],
   "source": [
    "MODEL_IDS = [\n",
    "    \"https://staging.nexus.ocp.bbp.epfl.ch/v1/resources/dke/embedder_catalog/_/e2b953b9-6724-4278-a1e5-3472bd63e374\",\n",
    "    \"https://staging.nexus.ocp.bbp.epfl.ch/v1/resources/dke/embedder_catalog/_/19700fed-a3af-4e7a-859d-ad223616ae2e\",\n",
    "    \"https://staging.nexus.ocp.bbp.epfl.ch/v1/resources/dke/embedder_catalog/_/14d61701-c4fa-44ea-8139-0e0ed606b4ec\"\n",
    "]"
   ]
  },
  {
   "cell_type": "markdown",
   "metadata": {},
   "source": [
    "Atlas configuration project"
   ]
  },
  {
   "cell_type": "code",
   "execution_count": 4,
   "metadata": {},
   "outputs": [],
   "source": [
    "ATLAS_CONFIG_ORG = \"dke\"\n",
    "ATLAS_CONFIG_PROJECT = \"fake-atlas\""
   ]
  },
  {
   "cell_type": "markdown",
   "metadata": {},
   "source": [
    "ID of the recommender configuration in the atlas config project."
   ]
  },
  {
   "cell_type": "code",
   "execution_count": 5,
   "metadata": {},
   "outputs": [],
   "source": [
    "ATLAS_RECOMMENDER_CONFIG = \"https://bbp.epfl.ch/neurosciencegraph/data/415184d2-0ae5-4af0-89b7-8b00393b033f\""
   ]
  },
  {
   "cell_type": "markdown",
   "metadata": {},
   "source": [
    "## Create sessions"
   ]
  },
  {
   "cell_type": "markdown",
   "metadata": {},
   "source": [
    "Session for updating Atlas configs"
   ]
  },
  {
   "cell_type": "code",
   "execution_count": 27,
   "metadata": {},
   "outputs": [],
   "source": [
    "forge_atlas = KnowledgeGraphForge(\n",
    "    \"https://raw.githubusercontent.com/BlueBrain/nexus-forge/master/examples/notebooks/use-cases/prod-forge-nexus.yml\",\n",
    "    endpoint=ENDPOINT,\n",
    "    token=TOKEN, \n",
    "    bucket=f\"{ATLAS_CONFIG_ORG}/{ATLAS_CONFIG_PROJECT}\")"
   ]
  },
  {
   "cell_type": "markdown",
   "metadata": {},
   "source": [
    "## Update Atlas recommender configuration "
   ]
  },
  {
   "cell_type": "code",
   "execution_count": 28,
   "metadata": {},
   "outputs": [],
   "source": [
    "config_resource = forge_atlas.retrieve(ATLAS_RECOMMENDER_CONFIG)"
   ]
  },
  {
   "cell_type": "code",
   "execution_count": 29,
   "metadata": {},
   "outputs": [
    {
     "name": "stderr",
     "output_type": "stream",
     "text": [
      "/Users/oshurko/opt/anaconda3/envs/bg/lib/python3.7/site-packages/ipykernel_launcher.py:13: UserWarning: A configuration record for mode 'https://staging.nexus.ocp.bbp.epfl.ch/v1/resources/dke/embedder_catalog/_/e2b953b9-6724-4278-a1e5-3472bd63e374' already exists, skipping\n",
      "  del sys.path[0]\n"
     ]
    }
   ],
   "source": [
    "configuration_records = (\n",
    "    [forge_atlas.as_json(el) for el in config_resource.configuration]\n",
    "    if isinstance(config_resource.configuration, list)\n",
    "    else [forge_atlas.as_json(config_resource.configuration)]\n",
    ")\n",
    "configured_modes = set([\n",
    "    el[\"embeddingModel\"] for el in configuration_records\n",
    "])\n",
    "for model_id in MODEL_IDS:\n",
    "    if model_id in configured_modes:\n",
    "        warnings.warn(\n",
    "            f\"A configuration record for mode '{model_id}' already exists, skipping\",\n",
    "            UserWarning)\n",
    "    else:\n",
    "        configuration_records.append({\n",
    "            \"embeddingModel\": model_id,\n",
    "            \"similarityView\": None,\n",
    "            \"statisticsView\": None,\n",
    "            \"boostingView\": None\n",
    "        })\n",
    "    \n",
    "config_resource.configuration = forge_atlas.from_json(\n",
    "    configuration_records)"
   ]
  },
  {
   "cell_type": "code",
   "execution_count": 30,
   "metadata": {},
   "outputs": [
    {
     "name": "stdout",
     "output_type": "stream",
     "text": [
      "<action> _update_one\n",
      "<succeeded> True\n"
     ]
    }
   ],
   "source": [
    "forge_atlas.update(config_resource)"
   ]
  }
 ],
 "metadata": {
  "kernelspec": {
   "display_name": "bg",
   "language": "python",
   "name": "bg"
  },
  "language_info": {
   "codemirror_mode": {
    "name": "ipython",
    "version": 3
   },
   "file_extension": ".py",
   "mimetype": "text/x-python",
   "name": "python",
   "nbconvert_exporter": "python",
   "pygments_lexer": "ipython3",
   "version": "3.7.10"
  },
  "toc-autonumbering": true,
  "toc-showtags": true
 },
 "nbformat": 4,
 "nbformat_minor": 4
}
