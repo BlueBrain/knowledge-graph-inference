{
 "cells": [
  {
   "cell_type": "markdown",
   "id": "2c22912d",
   "metadata": {},
   "source": [
    "- Exact match queries (get morphologies from a brain region X)\n",
    "- Multiple embedding vectors produced by models tackling similarity according to different aspects (vectors representing a morphology in a latent co-projection graph space, get 10 most similar morphologies in that space)\n",
    "- Ontology queries (get similar species, similar or adjacent brain region: get morphologies of this species/brain region)\n",
    "- Full text search\n",
    "\n",
    "- Rule-based approach\n",
    "- Vector similarity-based approach\n",
    "\n",
    "\n",
    "For embeddings, we need to build rank aggregation functions:\n",
    "https://arxiv.org/pdf/1906.06011.pdf\n",
    "\n",
    "\"Rank aggregation functions allow retrieval models (or rankers) to be builton top of others.  They combine results from different rankers and promote moreeffective retrieval results, without dealing with raw data or low-level descriptors. Besides, even heterogeneous models such as text-based or image-based can begathered together.  Rank aggregation techniques are important in many appli-cations, such as meta-search, document filtering, recommendation systems, andsocial choice.\""
   ]
  },
  {
   "cell_type": "code",
   "execution_count": null,
   "id": "338ee0ee",
   "metadata": {},
   "outputs": [],
   "source": [
    "import ast\n",
    "import pickle\n",
    "import re\n",
    "import getpass\n",
    "import requests\n",
    "\n",
    "import networkx as nx\n",
    "import numpy as np\n",
    "import pandas as pd\n",
    "\n",
    "from bluegraph import PandasPGFrame\n",
    "from bluegraph.backends.networkx import networkx_to_pgframe\n",
    "\n",
    "from kgforge.core import KnowledgeGraphForge\n",
    "\n",
    "from elasticsearch import Elasticsearch, helpers"
   ]
  },
  {
   "cell_type": "markdown",
   "id": "7e611413",
   "metadata": {},
   "source": [
    "#  1. Prepare a sample data"
   ]
  },
  {
   "cell_type": "code",
   "execution_count": null,
   "id": "972f8c1f",
   "metadata": {},
   "outputs": [],
   "source": [
    "data = pd.read_csv(\"combined_data.csv\")"
   ]
  },
  {
   "cell_type": "code",
   "execution_count": null,
   "id": "1987ac39",
   "metadata": {},
   "outputs": [],
   "source": [
    "data.head(4)"
   ]
  },
  {
   "cell_type": "code",
   "execution_count": null,
   "id": "591b1234",
   "metadata": {},
   "outputs": [],
   "source": [
    "data[\"brain_region\"].unique()"
   ]
  },
  {
   "cell_type": "code",
   "execution_count": null,
   "id": "07f86227",
   "metadata": {},
   "outputs": [],
   "source": [
    "KEYWORDS = [\n",
    "    \"@id\", \"@type\",\n",
    "    \"brain_region\",\n",
    "    \"atlas_release\",\n",
    "    \"object_of_study\",\n",
    "]"
   ]
  },
  {
   "cell_type": "code",
   "execution_count": null,
   "id": "0df98a7d",
   "metadata": {},
   "outputs": [],
   "source": [
    "EMBEDDING_VECTORS = [\n",
    "    \"coordinates\", \"neurite_features\",\n",
    "    \"axon_coproj_embedding\", \"dendrite_coproj_embedding\"\n",
    "]"
   ]
  },
  {
   "cell_type": "code",
   "execution_count": null,
   "id": "96807ad7",
   "metadata": {},
   "outputs": [],
   "source": [
    "for c in EMBEDDING_VECTORS:\n",
    "    data[c] = data[c].apply(lambda x: ast.literal_eval(x))"
   ]
  },
  {
   "cell_type": "code",
   "execution_count": null,
   "id": "99ce8d33",
   "metadata": {},
   "outputs": [],
   "source": [
    "releases = [\"release1\", \"release2\", \"release3\"]\n",
    "data[\"atlas_release\"] = pd.Series([\n",
    "    np.random.choice(releases, p=[0.4, 0.4, 0.2])\n",
    "    for n in data[\"@id\"]\n",
    "])\n",
    "objects = [\"Single Cell\", \"Whole Brain\"]\n",
    "data[\"object_of_study\"] = pd.Series([\n",
    "    np.random.choice(objects, p=[0.6, 0.4])\n",
    "    for n in data[\"@id\"]\n",
    "])"
   ]
  },
  {
   "cell_type": "code",
   "execution_count": null,
   "id": "8ac38daa",
   "metadata": {},
   "outputs": [],
   "source": [
    "morphologies = data[[\"@id\", \"brain_region\", \"atlas_release\", \"object_of_study\"]]\n",
    "morphologies[\"@type\"] = \"NeuronMorphology\""
   ]
  },
  {
   "cell_type": "code",
   "execution_count": null,
   "id": "93bf04db",
   "metadata": {},
   "outputs": [],
   "source": [
    "brain_region_frame = PandasPGFrame.load_json(\"brain_region_data.json\")"
   ]
  },
  {
   "cell_type": "code",
   "execution_count": null,
   "id": "f3c7148a",
   "metadata": {},
   "outputs": [],
   "source": [
    "brain_region_frame._nodes"
   ]
  },
  {
   "cell_type": "markdown",
   "id": "25fa974c",
   "metadata": {},
   "source": [
    "# 2. Create Elasticsearch indices"
   ]
  },
  {
   "cell_type": "code",
   "execution_count": null,
   "id": "4cda0b13",
   "metadata": {},
   "outputs": [],
   "source": [
    "ELASTIC_URI = \"http://localhost:9200\""
   ]
  },
  {
   "cell_type": "code",
   "execution_count": null,
   "id": "4cad3939",
   "metadata": {},
   "outputs": [],
   "source": [
    "morph_mapping = {\n",
    "    \"mappings\": {\n",
    "        \"properties\": {\n",
    "            \"@id\": {\n",
    "                \"type\": \"keyword\"\n",
    "            },\n",
    "            \"@type\": {\n",
    "                \"type\": \"keyword\"\n",
    "            }\n",
    "        }\n",
    "    }\n",
    "}\n",
    "for k in KEYWORDS:\n",
    "    morph_mapping[\"mappings\"][\"properties\"][k] = {\"type\": \"keyword\"}"
   ]
  },
  {
   "cell_type": "code",
   "execution_count": null,
   "id": "894cb557",
   "metadata": {},
   "outputs": [],
   "source": [
    "emb_mapping = {}\n",
    "for el in EMBEDDING_VECTORS:\n",
    "    dim = len(data[el].iloc[0])\n",
    "    emb_mapping[el] = {\n",
    "        \"mappings\": {\n",
    "            \"properties\": {\n",
    "                \"@id\": {\n",
    "                    \"type\": \"keyword\"\n",
    "                },\n",
    "                \"@type\": {\n",
    "                    \"type\": \"keyword\"\n",
    "                },\n",
    "                \"embedding\": {\n",
    "                    \"dims\": dim,\n",
    "                    \"type\": \"dense_vector\"\n",
    "                },\n",
    "                \"derivation\": {\n",
    "                    \"type\": \"keyword\"\n",
    "                }\n",
    "            }\n",
    "        }\n",
    "    }"
   ]
  },
  {
   "cell_type": "markdown",
   "id": "0b4b792e",
   "metadata": {},
   "source": [
    "Create morphology index"
   ]
  },
  {
   "cell_type": "code",
   "execution_count": null,
   "id": "154b98da",
   "metadata": {},
   "outputs": [],
   "source": [
    "requests.delete(f\"{ELASTIC_URI}/morphologies\")\n",
    "r = requests.put(\n",
    "    f'{ELASTIC_URI}/morphologies/',\n",
    "    json=morph_mapping\n",
    ")"
   ]
  },
  {
   "cell_type": "code",
   "execution_count": null,
   "id": "2cae509c",
   "metadata": {},
   "outputs": [],
   "source": [
    "elastic = Elasticsearch(f'{ELASTIC_URI}/morphologies/')"
   ]
  },
  {
   "cell_type": "code",
   "execution_count": null,
   "id": "51014b5d",
   "metadata": {},
   "outputs": [],
   "source": [
    "actions = [\n",
    "    {\n",
    "        \"_id\": element[\"@id\"],\n",
    "        \"@id\": element[\"@id\"],\n",
    "        \"@type\": element[\"@type\"],\n",
    "        \"brain_region\": element[\"brain_region\"],\n",
    "        \"atlas_release\": element[\"atlas_release\"],\n",
    "        \"object_of_study\": element[\"object_of_study\"]\n",
    "        \n",
    "    }\n",
    "    for element in morphologies.to_dict(\"records\")\n",
    "]\n",
    "\n",
    "try:\n",
    "    # make the bulk call, and get a response\n",
    "    response = helpers.bulk(elastic, actions)\n",
    "    print (\"\\nRESPONSE:\", response)\n",
    "except Exception as e:\n",
    "    print(\"\\nERROR:\", e)"
   ]
  },
  {
   "cell_type": "markdown",
   "id": "a0090e1f",
   "metadata": {},
   "source": [
    "Create an index per embedding vector"
   ]
  },
  {
   "cell_type": "code",
   "execution_count": null,
   "id": "e05ee9cf",
   "metadata": {},
   "outputs": [],
   "source": [
    "for el in emb_mapping:\n",
    "    requests.delete(f\"{ELASTIC_URI}/{el}\")\n",
    "    r = requests.put(\n",
    "        f'{ELASTIC_URI}/{el}/',\n",
    "        json=emb_mapping[el]\n",
    "    )"
   ]
  },
  {
   "cell_type": "code",
   "execution_count": null,
   "id": "528c6751",
   "metadata": {},
   "outputs": [],
   "source": [
    "for embedding in emb_mapping:\n",
    "    elastic = Elasticsearch(f'{ELASTIC_URI}/{embedding}/')\n",
    "    \n",
    "    actions = []\n",
    "    for element in data[[\"@id\", embedding]].to_dict(\"records\"):\n",
    "        morph_id = re.findall(\"https:\\/\\/(.*)\\/(.*)\", element[\"@id\"])[0][1]\n",
    "        actions.append({\n",
    "            \"_id\": embedding + \"_\" + morph_id,\n",
    "            \"@id\": embedding + \"_\" + morph_id,\n",
    "            \"derivation\": element[\"@id\"],\n",
    "            \"@type\": \"Embedding\",\n",
    "            \"embedding\": element[embedding]\n",
    "        })\n",
    "\n",
    "    try:\n",
    "        # make the bulk call, and get a response\n",
    "        response = helpers.bulk(elastic, actions)\n",
    "        print (\"\\nRESPONSE:\", response)\n",
    "\n",
    "    except Exception as e:\n",
    "        print(\"\\nERROR:\", e)"
   ]
  },
  {
   "cell_type": "code",
   "execution_count": null,
   "id": "f5b9360f",
   "metadata": {},
   "outputs": [],
   "source": [
    "r = requests.get(\n",
    "    f'{ELASTIC_URI}/_cat/indices')\n",
    "print(r.text)"
   ]
  },
  {
   "cell_type": "code",
   "execution_count": null,
   "id": "d6005a95",
   "metadata": {},
   "outputs": [],
   "source": [
    "test_mapping = {\n",
    "    \"mappings\": {\n",
    "        \"properties\": {\n",
    "          \"@id\": {\n",
    "            \"type\": \"keyword\"\n",
    "          },\n",
    "          \"@type\": {\n",
    "            \"type\": \"keyword\"\n",
    "          },\n",
    "          \"embedding\": {\n",
    "            \"dims\": 3,\n",
    "            \"type\": \"dense_vector\"\n",
    "          },\n",
    "          \"derivation\": {\n",
    "            \"properties\": {\n",
    "              \"entity\": {\n",
    "                \"properties\": {\n",
    "                  \"@id\": {\n",
    "                    \"type\": \"keyword\"\n",
    "                  }\n",
    "                },\n",
    "                \"type\": \"nested\"\n",
    "              }\n",
    "            },\n",
    "            \"type\": \"nested\"\n",
    "          },\n",
    "          \"generation\": {\n",
    "            \"properties\": {\n",
    "              \"activity\": {\n",
    "                \"properties\": {\n",
    "                  \"used\": {\n",
    "                    \"properties\": {\n",
    "                      \"@id\": {\n",
    "                        \"type\": \"keyword\"\n",
    "                      }\n",
    "                    },\n",
    "                    \"type\": \"nested\"\n",
    "                  }\n",
    "                },\n",
    "                \"type\": \"nested\"\n",
    "              }\n",
    "            },\n",
    "            \"type\": \"nested\"\n",
    "          }\n",
    "\n",
    "        }\n",
    "    }\n",
    "}"
   ]
  },
  {
   "cell_type": "code",
   "execution_count": null,
   "id": "6d8fb525",
   "metadata": {},
   "outputs": [],
   "source": [
    "requests.delete(f\"{ELASTIC_URI}/test_embedding_der_gen\")\n",
    "r = requests.put(\n",
    "    f'{ELASTIC_URI}/test_embedding_der_gen/',\n",
    "    json=test_mapping\n",
    ")"
   ]
  },
  {
   "cell_type": "code",
   "execution_count": null,
   "id": "4116f40e",
   "metadata": {},
   "outputs": [],
   "source": [
    "r.text"
   ]
  },
  {
   "cell_type": "code",
   "execution_count": null,
   "id": "eceedc4d",
   "metadata": {},
   "outputs": [],
   "source": []
  },
  {
   "cell_type": "code",
   "execution_count": null,
   "id": "53ab99e7",
   "metadata": {},
   "outputs": [],
   "source": [
    "r = requests.get(\n",
    "    f'{ELASTIC_URI}/_cat/indices')\n",
    "print(r.text)"
   ]
  },
  {
   "cell_type": "markdown",
   "id": "d72614a8",
   "metadata": {},
   "source": [
    "# 3. Query individual indices"
   ]
  },
  {
   "cell_type": "code",
   "execution_count": null,
   "id": "c3d2226d",
   "metadata": {},
   "outputs": [],
   "source": []
  },
  {
   "cell_type": "markdown",
   "id": "723cecc5",
   "metadata": {},
   "source": [
    "### Search a morphology"
   ]
  },
  {
   "cell_type": "code",
   "execution_count": null,
   "id": "cc032463",
   "metadata": {},
   "outputs": [],
   "source": [
    "selected_morphology = morphologies[\"@id\"].iloc[0]"
   ]
  },
  {
   "cell_type": "code",
   "execution_count": null,
   "id": "ef3a18a1",
   "metadata": {},
   "outputs": [],
   "source": [
    "r = requests.post(\n",
    "    f'{ELASTIC_URI}/morphologies/_search',\n",
    "    json={\n",
    "        \"query\": {\n",
    "            \"term\": {\n",
    "              \"@id\": {\n",
    "                \"value\" : selected_morphology\n",
    "              }\n",
    "            }\n",
    "        }\n",
    "    }\n",
    ")\n",
    "r.json()"
   ]
  },
  {
   "cell_type": "markdown",
   "id": "49cffb9f",
   "metadata": {},
   "source": [
    "### Find its coordinates in the atlas"
   ]
  },
  {
   "cell_type": "code",
   "execution_count": null,
   "id": "4ad75a61",
   "metadata": {},
   "outputs": [],
   "source": [
    "r = requests.post(\n",
    "    f'{ELASTIC_URI}/coordinates/_search',\n",
    "    json={\n",
    "        \"query\": {\n",
    "            \"term\": {\n",
    "              \"derivation\": {\n",
    "                \"value\" : selected_morphology\n",
    "              }\n",
    "            }\n",
    "        }\n",
    "    }\n",
    ")\n",
    "selected_coord_vector = r.json()[\"hits\"][\"hits\"][0][\"_source\"][\"embedding\"]"
   ]
  },
  {
   "cell_type": "code",
   "execution_count": null,
   "id": "c4579040",
   "metadata": {},
   "outputs": [],
   "source": [
    "selected_coord_vector"
   ]
  },
  {
   "cell_type": "markdown",
   "id": "6e7e4e31",
   "metadata": {},
   "source": [
    "### Find 5 closest morphologies \"geographically\" (Euclidean distance)"
   ]
  },
  {
   "cell_type": "code",
   "execution_count": null,
   "id": "817bf454",
   "metadata": {
    "scrolled": true
   },
   "outputs": [],
   "source": [
    "# Euclidean distance\n",
    "r = requests.post(\n",
    "    f'{ELASTIC_URI}/coordinates/_search',\n",
    "    json={\n",
    "      \"size\": 5,\n",
    "      \"query\": {\n",
    "        \"script_score\": {\n",
    "          \"query\": {\"match_all\": {}},\n",
    "          \"script\": {\n",
    "            \"source\": \"1 / (1 + l2norm(params.query_vector, 'embedding'))\", \n",
    "            \"params\": {\"query_vector\": selected_coord_vector}\n",
    "          }\n",
    "        }\n",
    "      }\n",
    "    }\n",
    ")\n",
    "r.json()"
   ]
  },
  {
   "cell_type": "markdown",
   "id": "d9e98e41",
   "metadata": {},
   "source": [
    "### Find its embedding buit using axon co-projection graph"
   ]
  },
  {
   "cell_type": "code",
   "execution_count": null,
   "id": "30963f11",
   "metadata": {},
   "outputs": [],
   "source": [
    "r = requests.post(\n",
    "    f'{ELASTIC_URI}/axon_coproj_embedding/_search',\n",
    "    json={\n",
    "        \"query\": {\n",
    "            \"term\": {\n",
    "              \"derivation\": {\n",
    "                \"value\" : selected_morphology\n",
    "              }\n",
    "            }\n",
    "        }\n",
    "    }\n",
    ")\n",
    "selected_embedding_vector = r.json()[\"hits\"][\"hits\"][0][\"_source\"][\"embedding\"]"
   ]
  },
  {
   "cell_type": "code",
   "execution_count": null,
   "id": "393f976f",
   "metadata": {},
   "outputs": [],
   "source": [
    "selected_embedding_vector"
   ]
  },
  {
   "cell_type": "markdown",
   "id": "199d1631",
   "metadata": {},
   "source": [
    "### Find 5 closest morphologies in this space (Cosine similarity)"
   ]
  },
  {
   "cell_type": "code",
   "execution_count": null,
   "id": "51a3038f",
   "metadata": {
    "scrolled": true
   },
   "outputs": [],
   "source": [
    "# Cosine similarity\n",
    "r = requests.post(\n",
    "    f'{ELASTIC_URI}/axon_coproj_embedding/_search',\n",
    "    json={\n",
    "      \"size\": 10,\n",
    "      \"query\": {\n",
    "        \"script_score\": {\n",
    "          \"query\": {\"match_all\": {}},\n",
    "          \"script\": {\n",
    "            \"source\": \"cosineSimilarity(params.query_vector, 'embedding') + 1.0\",\n",
    "            \"params\": {\"query_vector\": selected_embedding_vector}\n",
    "          }\n",
    "        }\n",
    "      }\n",
    "    }\n",
    ")\n",
    "r.json()"
   ]
  },
  {
   "cell_type": "code",
   "execution_count": null,
   "id": "88628252",
   "metadata": {},
   "outputs": [],
   "source": [
    "import numpy as np\n",
    "import faiss\n",
    "\n",
    "from collections import defaultdict"
   ]
  },
  {
   "cell_type": "code",
   "execution_count": null,
   "id": "a2d9b3bf",
   "metadata": {},
   "outputs": [],
   "source": [
    "coordiates_index = faiss.IndexFlatL2(3)\n",
    "coordiates_index.add(np.array(data[\"coordinates\"].tolist()).astype(np.float32))"
   ]
  },
  {
   "cell_type": "code",
   "execution_count": null,
   "id": "9aae3b31",
   "metadata": {},
   "outputs": [],
   "source": [
    "neurite_feature_index = faiss.IndexFlatL2(len(data[\"neurite_features\"].iloc[0]))\n",
    "neurite_feature_index.add(np.array(data[\"neurite_features\"].tolist()).astype(np.float32))"
   ]
  },
  {
   "cell_type": "code",
   "execution_count": null,
   "id": "62c5c9a8",
   "metadata": {},
   "outputs": [],
   "source": [
    "axon_index = faiss.IndexFlatL2(len(data[\"axon_coproj_embedding\"].iloc[0]))\n",
    "axon_index.add(np.array(data[\"axon_coproj_embedding\"].tolist()).astype(np.float32))"
   ]
  },
  {
   "cell_type": "code",
   "execution_count": null,
   "id": "604a6d73",
   "metadata": {},
   "outputs": [],
   "source": [
    "dendrite_index = faiss.IndexFlatL2(len(data[\"dendrite_coproj_embedding\"].iloc[0]))\n",
    "dendrite_index.add(np.array(data[\"dendrite_coproj_embedding\"].tolist()).astype(np.float32))"
   ]
  },
  {
   "cell_type": "code",
   "execution_count": null,
   "id": "5048d809",
   "metadata": {},
   "outputs": [],
   "source": [
    "def get_position(responses, el, ascending=True):\n",
    "    sorted_df = pd.DataFrame(\n",
    "        responses.items(), columns=[\"id\", \"score\"]).set_index(\"id\").sort_values(\n",
    "            \"score\", ascending=ascending)\n",
    "    return sorted_df.index.get_indexer([el])[0] + 1"
   ]
  },
  {
   "cell_type": "code",
   "execution_count": null,
   "id": "bd29a3d8",
   "metadata": {},
   "outputs": [],
   "source": [
    "def build_fusion_graph(indices, query, k):\n",
    "    query_responses = {}\n",
    "    for index_name, index in indices.items():\n",
    "        query_vector = index.reconstruct(query)\n",
    "        scores, points = index.search(np.array([query_vector]), k)\n",
    "        query_responses[index_name] = {\n",
    "            el: scores[0][i] for i, el in enumerate(points[0])\n",
    "        }\n",
    "    \n",
    "    # Create a node per unique item in response sets\n",
    "    nodes = {}\n",
    "    for index_response in query_responses.values():\n",
    "        for key in index_response.keys():\n",
    "            if key in nodes:\n",
    "                nodes[key] += index_response[key]\n",
    "            else:\n",
    "                nodes[key] = index_response[key]\n",
    "\n",
    "    # Compute response sets for each node being a query\n",
    "    node_responses = {}\n",
    "    for index_name, index in indices.items():\n",
    "        node_responses[index_name] = {}\n",
    "        node_list = list(nodes.keys())\n",
    "        query_vectors = np.array([index.reconstruct(int(node)) for node in node_list])\n",
    "        all_scores, all_points = index.search(query_vectors, k)\n",
    "        node_responses[index_name] = {\n",
    "            node_list[i]: {el: scores[j] for j, el in enumerate(points)}\n",
    "            for i, (scores, points) in enumerate(zip(all_scores, all_points))\n",
    "        }\n",
    "    \n",
    "    # Create edges between unique response items\n",
    "    edges = {}\n",
    "    for index_name in indices:\n",
    "        for el in query_responses[index_name]:\n",
    "            el_responses = [\n",
    "                response[el] for response in node_responses.values()\n",
    "            ]\n",
    "            for response in el_responses:\n",
    "                for target_el in response:\n",
    "                    if target_el != el and target_el in nodes:\n",
    "                        weight = response[target_el] / get_position(\n",
    "                            query_responses[index_name], el, False)\n",
    "                        if (el, target_el) not in edges:\n",
    "                            edges[(el, target_el)] = weight\n",
    "                        else:\n",
    "                            edges[(el, target_el)] += weight\n",
    "                        \n",
    "    \n",
    "    fusion_graph = nx.DiGraph()\n",
    "    fusion_graph.add_nodes_from([\n",
    "        (node, {\"weight\": weight})for node, weights  in nodes.items()\n",
    "    ])\n",
    "    fusion_graph.add_edges_from([\n",
    "        (s, t, {\"weight\": weight}) for (s, t), weights  in edges.items()\n",
    "    ])\n",
    "    return fusion_graph"
   ]
  },
  {
   "cell_type": "code",
   "execution_count": null,
   "id": "6522dc80",
   "metadata": {},
   "outputs": [],
   "source": [
    "graph = build_fusion_graph(\n",
    "    {\n",
    "        \"coordindates\": coordiates_index,\n",
    "        \"neurite_features\": neurite_feature_index,\n",
    "        \"axon_coproj\": axon_index,\n",
    "        \"dendrite_coproj\": dendrite_index\n",
    "    },\n",
    "    0, 10)"
   ]
  },
  {
   "cell_type": "code",
   "execution_count": null,
   "id": "5800bb22",
   "metadata": {},
   "outputs": [],
   "source": []
  }
 ],
 "metadata": {
  "kernelspec": {
   "display_name": "bg",
   "language": "python",
   "name": "bg"
  },
  "language_info": {
   "codemirror_mode": {
    "name": "ipython",
    "version": 3
   },
   "file_extension": ".py",
   "mimetype": "text/x-python",
   "name": "python",
   "nbconvert_exporter": "python",
   "pygments_lexer": "ipython3",
   "version": "3.7.10"
  }
 },
 "nbformat": 4,
 "nbformat_minor": 5
}
